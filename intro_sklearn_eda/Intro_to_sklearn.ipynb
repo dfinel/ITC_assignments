{
  "cells": [
    {
      "cell_type": "code",
      "execution_count": 1,
      "metadata": {
        "ExecuteTime": {
          "end_time": "2022-07-19T11:12:12.863474Z",
          "start_time": "2022-07-19T11:12:10.053301Z"
        },
        "id": "c2SEaQiAga6x"
      },
      "outputs": [],
      "source": [
        "import numpy as np\n",
        "import pandas as pd"
      ]
    },
    {
      "cell_type": "markdown",
      "metadata": {
        "id": "4ySCz8Nzga60"
      },
      "source": [
        "<font size=10><b>Intro to sklearn </b></font><img src = \"data:image/png;base64,iVBORw0KGgoAAAANSUhEUgAAASEAAACuCAMAAABOUkuQAAABWVBMVEX////YhQA7gfIAAADXggDXgQDbhwDWfgDVegD///3WfQDeiQA5gfT+/fnWhAA2gfb++vPdlkLhpmfho2HKfADQgACaXwCSWgDZiQDw1byCUAC9dQD18utEKgA9fuqraQBOMAA8JQC3cQDy8vLrwIL35s2hYwAwf/gdEgAQCgAyHwBpQQCmpqZLS0s+Pj4qKirIyMj14MHjqVD6793x1Kxzgq3ajBxeOgAlFwAuHAB0SADn5+eKiop6enogFADmsWHckzbounvz2rLfmz7tyJHajSbc0sHXwp/r4M/qv4DemTDuzq7Lvqfms2y2trZiYmIaGhpqamqbm5skJCR4jsrsx5uMj6zSuY61qJBghNBHfdlQfdKooZWMgX9Qe8KCgYyslnxofbRzfJnkrniakYXqw511g6eginGup6LIs5WMkJvpvZDGwLWYe0/CwsK5qZnBo3mLmK+eo67MYpcgAAASQElEQVR4nO2d6UPaSB/HE0mCIQRiCwKiIkqk1qNiEK21RRAvFFfbxVrc2rq1Pr12t9v//8UzVw4QNQlDiV2+L1pINJqPv2t+MxkYpq+++uqrL1cSFSS517+H9yRrmqbmKpm9JaRiJlNXwSFN7PUv1nuJsqLmP9aLVXYwEPDzPIfE87wfvI1Xa/V8WZPl/ywoUdEqtYfVuB+AYduJ4/18fPNBqa79Fx1P1tS9Kgstpi0cCyb4FYWSqv2nIMla/ms1wN8Fp8maCqW6+l/xN1mrDcUd4NEhsRsPy8qvz0jU8lW/YzwEEufnSzmt17fQVclqZSngDg8Rzxbrv25IkrXSFtsRH2RJ7Ebm16yUFLXE853iwYz8hXyv74a+gP1U6fBBjNj6rxaztfrWnZWPM5V+qYit5Kp+unxY1r+p9vq2qEnUagXafID4XwaRUo53gQ8QF8/9CmlfVGuUA5AFkZBTen1/HUsub9LLYNcRxcv3PaNpGZcDDLvy5++1o4nqUqCrfIC48j1GBHJ8dw0IESrken2frqVVOhuj2kXElXt9py6l1X4GH4ioqt7HcC0qP8HDiPjiPRyAyCrFYeqd8pfuXVmkqBs/zYKg+Eqv79ihlFyXxhk3qnC/Kkc5342B6q3il+5TKBLLPx0QQFS7P6FIKXd5oNFeg7n74mdi7ucGaV3c5j3xM1Hb6gkggKje63u3J+1nZzFT8XsxQNOWegYIBOt7EImUUu8AAUT3oG+d8/cQEMsteT3ji9pmL02IZbe8HonkTG8BsXzJ4/3Gcry3gEA683YkUnrsY0D+ipfTmVzpaZhG4gpejtXqz2sq3oLIw10QpddhGokreZdQ+Sd2XW8WN+TZ8avoBR8Dint1cZqc732YRuK9OsLXhrxhQt4dedR7TcZQ3JuBSO1BZ/oGBTxZVoseKBZ1+T05dab0fEBmivdiIJJ72jdrEbflQUKeSWRIXiSU9xIgtuC9ZKZ5pJzW5b0FV2XvJDKkvNcGr3LvG2fNynitFauGeo2kRRmP2ZDopVQPxXmtnd/LWda24j94jFC+10Ra5TVCcsYTvUWLaBISlVGL3G0coXloSIZFi5CoJba//Tg5Wb5aRro6+XK4ndh1fHG16w9uOBaVbK++Pj15c9YYz4ZNDTTO3vz+x2tnT2zJJa85GQVCo7vv355nAZtgMDhgEXgbDGezZ+/e747ariiU3izJu1WVzgipOycXjWwTmmYFs+MXJwe7di9X6DWP6+pktkPc/b7cCIZv4YMYhYON5e+jdi4oV2jdFtyW6Zo54sc/rQ+B2nkgtIMlMqOnF9m78OiQsn/+s3u3r8kfKIUhrvrww4elFoPkNj5sgX8Zxuw/DX2481Id9Ie007OwHTzE2RrLO3d2WmgV1FwFbnaiqM2tuECOyfuthOCMahG+vs2U3BPavRy3DwjZUWN95w4zytGphvg8o1SKxbra3CYIqLCz0kKoBqy2ULzl2TXXhHJ/DthysCY7Oj+93Yz2qVRD3JI8uhngeX+ryxaKhRYv24RG608wiRt7Uq6nFMvvHAMCCje+7Nx21QqVMOT/yKjNd0x2R+Ng8NYJoUNo85kAIHTjA6J8yR2ghCtA0NXOb8lqCp0w5N9nVAtqjisMDQ1thYBTDRk2xG0NDYVYcIID/wBCG0Mb7S8WcJfKdp27mK5s448biyNKgzKuKCslY+cUrvAVTptqNX6QYR5wmBBXUJncFv+AYQb5PfzD1fY/nHfVyN+9DLoFBDxtfP2mP4sySIUQbL4r+4VB7FkbKiPXM5VckbMQCuRBVuC4h4AQt5nRGG2vUhTa0nY1bz/6x7h7QNDTrm4IRjlaw1a080JuCb3MMTnOz8P60SQEkh3cXgURYrlB4GWDNzyi5e7Rhc8O6qC2iAYu2iKiOF3PPcwrjJwRQOlozi4ZhDZKogqfqMGEbs1lvJsxx855Z4CgFbVFpBTpDex5drPMMDXOXze7lgahmqihEbINQm7WoGnr2Q4BAYXPD65fWaY6G80NlhmVC2jMR/3uDUKiwqAuy92E3KxjlE8bnQQhA9HF9T+OQne+nhtiGA7U0R91yzQI5TKyAjfpsUGo5rz1sbvcqY8RRFfbrZdWt2gCgoREDuRyYyjTFKnVLc4OIRfNof+5roSaFRx411oXlWk1h7bicGNqkNHLHIjUzFc/3KO6KZeBHF42Ce0ziZueNnY+5Ch3HKYNRI33zZcWK20rEufi62qtGq/WQejn2EAdlEOb8Wpt01oP8ZsgFAUIITCw0JYK7f48XNUxIfm0g1qxReHz5oQmfqWUyuJ5uI25KJNeSkYRRUYW96w1NctlGLnIY0JsHG56ut/G0fzO1wrv/k7LhICyX5oSBTVCLLdZ2k/sF1l8PX8BvKvXCiDeJCCbRAIOweL1xFd2KIECEBfPJPYftvMz58s8v51RMyHoZwfWgpXiPAfH+/3mlpboHbw2PubHxgKbIxx5Dd602wGTL9rqHVulfKFoQsDPlq3BuoNnNgUhGomwlMKYKc55uThKKdUTBcffWy7u/nEpKRJbSY+NRCgj4lxs8nlApVo0FT63/JVct2Cl6ac+qNkoVUCwi+KY0HsKA45mRC9NT0+4HNmHRnxE03SNyO9iOf4ldUJvzMra5cP1kgHIN0sVEFdwbkIa3TA0ACvrL0ZN5u6BKWHYAOR7THWBn9/FsH6fchgagJHIMCJXvQ8h9cgkNEOTEFd14WQ747QBAUTvycXdPTweGvN1i5CbNR9dIXSeIITc7KMjrSE06ZUZ6oRcbWlx0FF/ur2CA59xYa24uAshieNPNILy/SOKhNw1qLtBaCB4gkdnipun7rAJpaQkIjRGkdCgq1mgrhDSY7WLbU2FFHKuEYHE6xV6gPiiq8no7thQ4xMOic5zWWgWBaGIQFJ+jF7F6HKLr64QGgi/dUlIiCAuI5JeNaaoEeIfuFvP0I1cBpv6eITvuGKUVhAX8CoygQJ2khqhLZe7MXaHUHD8M7q601GHEEHBZ1YCKQ3FoxVqgdr1JnGJN7RHHUjZ95iQw5GrFEMmNCmwwrTubrQIuX0uUbvqDiE8Nss5zGXYtSYigFUa1YvUnIx3v4Sa+tgeKfwGBSKH/SFhEhsOwBJCr8ZomVAnG55S7w9hNdCkh+psYCag/DUzLeiZbJiak3Wwxpx2j1EnhCbxna5AW8UDDn30+ohWh5Hb7OD5ccp9aqLg+Df4R3M210GGZBMgk03jypoSINbfyb7Lykl3CP2LerGO5suIa4H8hSvr1UlaM7Yd7d0tz3Wnql6GoVH86sTLJJTJfEmBGBOtDixc1deJtjtcfnYDod9hMhOdPNQhJFEY8oX0FhGtVM93+CgQrbUxLYTQuEN0svaDjFXTIQGn+hVKiYzf7IgPuIvTrgSic1QQaQ4eLsO5HvgWiUe0olDn23bvdCPfBxvf4LWdrEGL4lHrmpBE9fSaPiQTsNp8R7vj5iFytlMfA5LfdqFoDI5/Qte2XxAJuKnoS2ET0hOZEEqmYmsjqeR1FvDMSLLl4OTI2kgEX294LRYROPIxHVOH63PP8A1PLc6t/z3lBBGdZYwtyl7CEsTBWlgy5PClIi+Qs2Eg0uQsBve0ZQ5fkFLozOqkZDWkKGwODIP3QuwxrK2SPPaxZ7+Bd78hRFPP4fWeO0E02o3Ra/gLKtLsr6cWUpjQJE5kmIcQM+fO0lZEQnSNHH4Umx5O6Yex/QFCJKj5YuQTldbRu0P48hifWXRASPnU6AKhd4iQ/UfJBVQl+maGZ8y2h2BOT/uauvpCKm09Y1TfoQk8nCPNE5/vL+JjR+jdHHh5SM48d0CISVBbyXiNkP3nOki9OPMYRSFUC5F2kaGYnv+lyUfNZ8bwCE6YXMWEko/JiU/4Dp/5dEJTC+TMb04Iid/px2pCaNT2dIc008pCmCSHZp7iWnIlqluQAWh1xkpIwiXVsDRLTs8c4juc8+le9lL/zmMnhJjyBXUjCq8jQrLtUC1ZTQKFHJL+fSvTyUk01iddayGiu9jKcOqFlRBLmiYR/UILJH2h4Ow7WmSePdFPzTkixFxSWlJtKosJ2W/mWwkNYxPCbyaikoAjMCFE/BFEn6hEWJB+dhSfSelR3DdPMhZ2rSeLJGJDOYnUTDeasUESAco2AZHRKlIaxxt8uyiF4XYIJmSsLgKuqEeqGL5GBPtc2nBYEmymnhBez4yfcfTMGSHllPKcB6mp7S9l1JM9sgFkKlFiKGbMRnFI0KMwXMFHZo/IUjUrZfxFJGEt4lR2TLwN0XJIiNm9ohusg2dkEZHywF4gshDCAZmYB+zJAuNA9oRLAGJCL6LghITLyRnMVLIszZokTJD+xseeL74yzjtK9kiv6RbW4XOyathui8gk9AKPN4h5rAInE9hZ/aU+kQbMBuIKEYNp+hZEeeMI+xX6JUj0mUMmdAzLa99Lx4SUt/QeXhgwZ10ZMW9vUtAkRLoeIZyw0gIrRXDkRSWAHoVQ9tILQxKoJbOM/Ks87yMgpg6Pj4hnwf+PFlFQOnRMiElQzfgGIbu76+iZS49C+kA2LYVijy0YJFIKDVuD9iyGapZUC9sitpujhQUjv2Oto2h99LdzQpSewyPSlxA5mO8gdzCj2xS+3RezBMksjDuGqZG0RipDMjUbMTEYsadVr6YW4X9PnAZqKO0LvWAdHJ8zVlXbnJrW66EJnVDzwGIlikMNKXVWcLojlRFJZWawBxbybMHXTi/xwMwktOhgkN/588AWQt9M8vYmXnX3WWtHaDUWwhDYFYvVkGGY3o4UjGHcE/hzX/raCBTZyP3m9d/u8DcnbZB/6PlZw3zQzOakmTTWTGjEHKfNzCZJoEnq2QqFIWPhdQgzfap/wzr8uVPzbQjNMc2EXvoWnBDS1mnls6CFEJO3ZUSC7j/wtSTNGiY0s5YkBiSZPQ9EKKQPP1CSixqAfNiFUNcM6tgkBA6jo4QLsLMjR93GxDKlUBS+sjzGpdj6GHsjmYFhWCRmGtAsK+EIFEpaFlrDkZtkxB1YMllqcsNxFtefP19fZBaNMzDHI16v4LBsCsFyRIjZoTR5RtYPYYm2tj3V07tvLRVrao/FJAHYVGh61noQxCEhanxZSoqOvGhypSYZhFABicsAUCgdYjd0Rkg5Pbe3DdpdhL43XdXW2CyqI2jpjs2sTadis2MzTQfTSSm0Zr6bta7jf9U6bDcIIXSY0Ktj3QedEWKY+hWFWWrLox1Iqh1C0nQzhNv1YuLFTaeu9cZ0QngMctj0xU+cF9fb6842Q2trQu+alxIottJZ0wMdQBOPfdc0M9H8Pp2+/jXXemOLTScWrV/reIgPpX1vdOhpwfGXLbN4tj6NQpq2/u6rw6FhX6vGJtmn1vfpkLWVTWrEa25DmBzhd9ZS0tGckEWvrzprORqPvhgSc3YeYBDMsfnTWFRipeHVZj4waE+aiGZGoqQvgvj8jUlc72s8wyFZ9yejzzjvYnBG7mf7cvy2bU/vtKF/r68aLMfvdjTjdsdiuEQUJk1mvolp1L0WJnXHGkuBJG90zeB0IbSOds1DVF7rHVnmGR7qP3npxsN0KacX7ovHYKPNvghibskGouhI+vHE2mTImHtnk2sraXBsdjikHxTY2EQ6ncZ1JFfY3D5eeLJwTKZTF+bb9p/n5heemzwW5xfmnzvsU1+TvP+l4TZgZy/bLfkSlVLhbkYSlHX6WZCka8eMIzxbg1tBT3ViDO6l2d4ithXQRWsUIpJzNd5vZ2Nbe+L8/lJZ6ennSiTenzlP/MHsxc0bocpKvjhUaLNFsHM8fHxoT+n5JyQpOz/OHUbs8MDyzm2/tyhr+a+1aqAzSFyg8KHubtd+2hrdfnsOfM3mfszhbPbi8s6dvUVGUdW9asDPc25cjgOeurSvyp752BYx93n5bODuLb2z4cabiz9e2111KiqKWqk9HCrEeftOx/E8u/WwVhZ77l0t2t3+8ed5GJpSm33zkeVkzy6uTr4lVGe/uajISq5e/1jcjPuBRd0KClhOgKvW6nVV9oRztUoZ3T69fHc2MA6pkA9eCMK6e3x84M3V5eXpgTY66u43B84ia6qq5veKm4VCCHULOSQe/QvehkKFQrVWUVXNa7bTIm175+Dg049/f8e6+vfHp4PPOzs5Wh8oJytAmlouV/Yymcxe7UEJ/lcplzV4wjNh5y4po6Oquru7C/6gLj8C5m6JslXd+Rl99dVXX3311VdfffXVV1999dVXX3311Vdn+j8QTmNge6NGJQAAAABJRU5ErkJggg==\" height=200 width=200>"
      ]
    },
    {
      "cell_type": "markdown",
      "metadata": {
        "id": "s1tZ9cW9ga62"
      },
      "source": [
        "# Agenda:\n",
        "\n",
        "1. Scikit-learn: background and scope\n",
        "2. Sklearn API basics – Estimators and Transformers\n",
        "3. Common sklearn paradigms\n",
        "4. Advanced sklearn topics\n",
        "5. Further reading\n",
        "\n",
        "# Sklearn Background and Scope\n",
        "\n",
        "## Background\n",
        "\n",
        "> \"Scikit-learn is an open source machine learning library that supports supervised and unsupervised learning. It also provides various tools for model fitting, data preprocessing, model selection and evaluation, and many other utilities.”\n",
        "\n",
        "<a href = https://scikit-learn.org/stable/getting_started.html>– Scikit-learn documentation, “Getting Started”\n",
        "\n",
        "<img src = \"https://scikit-learn.org/stable/_images/sphx_glr_plot_kmeans_digits_001.png\" height = 500 width = 500> </img>\n",
        "From https://scikit-learn.org/stable/auto_examples/cluster/plot_kmeans_digits.html"
      ]
    },
    {
      "cell_type": "markdown",
      "metadata": {
        "id": "WnVmfu9Vga63"
      },
      "source": [
        "**Scikit-learn** (or **sklearn** for short) is the standard Python library used for common machine learning tasks.\n",
        "\n",
        "It was originally developed by data scientist David Cournapeau in 2007 for the Google Summer of Code program.\n",
        "\n",
        "It is a <a href=https://scipy.org/scikits.html> “scikit” </a> — an open-source extension to the **scipy** scientific computing library for Python — and uses NumPy behind the scenes for fast linear algebra and array manipulation."
      ]
    },
    {
      "cell_type": "markdown",
      "metadata": {
        "id": "Uf7J32ZYga64"
      },
      "source": [
        "**Scikit-learn** is built to interface well with other common Python libraries used in data science, such as:\n",
        "\n",
        "* **NumPy**\t(array operations) <img src = \"data:image/png;base64,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\" width = 100>\n",
        "* **Matplotlib**\t(plotting) <img src = \"data:image/png;base64,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\" width = 100>\n",
        "* **Pandas**\t(dataframes) <img src = \"https://www.seekpng.com/png/full/348-3481904_images-pandas-logo-pandas-python-logo.png\" width = 100>\n",
        "* **SciPy**\t(scientific computing) <img src = \"data:image/png;base64,iVBORw0KGgoAAAANSUhEUgAAAQwAAABdCAMAAABn96hHAAAA9lBMVEX8/vwGZsz///3///8AYssAYMsAZMwAX8r7/fwAXMoAVcgAWcnl8vqw0PBWhtQIZ8zi7PXG1++FtOU+gdMAgdkAbM/1+forbc3a4fAAWsm/1+8AcdOQteVKjNcARscAUcddnNygxekATMfX6/pcmd+9yObv9fmhst/M5fiGreIARMf0/v+qxekAddYAScePuuY1e9KNo9vC4Patu+J6qOJpj9MAgNIAedSPq9zE1e+cxuzf5PHV2+1BeNDI0uoqidZ3oNxOitZ3ruRAl9lvl9pfpNyHuONPlN17reFEhtRJetB5mdUAPcZoiNJrnt8ujtqhyekCLcSIo6zmAAAWK0lEQVR4nOVcC1va2NYmIfeLCYQESKABgzGUYKgFEZSKji1ip+j5/3/mW2sHEEiC2On52vGsx3nmsYYk+93r8q7LJpd7VWgi+Q2J/+X1T74zwUV3FK9QGJ1syKhQCDw/9z+GiGD5vh407xo3XUY6XonUvfnra2Trlm8Jv/sN/39EwI1XzqP+4MiYdE2N4hiOgR8OfkyzO3k8GvS/2cr/gHbESASjcGporiuLPGBAvQjHsqIsudzF4nRUUTq5dw+H4DcbQ1ZmN0HYEY4Rq1TjOVB+98v+V0WgaS+8P+qa3B4oYjioydEgCt6xrdC0P4rqrsRzlLYfDIBDlCSjONKtdwqHIOTCISO+BsOLsIxZ86zf/dr/BQELUezLI415xUC2tIPjJt+bev7d6QYt6GGDlw4wkC04JPEivPLfG+ug9bte9S04rITvNs793/32v1IEOh88GBybsf0MSKb1cNywVcjT70c5aKvSdlg2aSEcw4uMiaKxIp8KiMaxUvtKeD9+I1+ZU+krBend1EHmQzPTnXDirf5OwIA4EjyYYgoYsujMIvW6QuR6VKszLs+lIMKJ5rTQeReGAnHkweGSi2So3n1N9ZS4jJHPdzz19L5LpTkWjnMXtvUelIPWvw75lAVSw7tzwsRWIgh00OimkzJOq+v537iIXyN0Tm8OIdVI7LXcUj2f3hGrUixJqbrBOzWP/tfHFEud8ck4wpgz1QdqSQu+rl+B6IoFEQPcS2SYaWgw1DB6lXztYvtzhrX9ycQ9f/7edMfrp9kI21MVXBrt29++zkAaY6+D96f1yJBSLUW+t/39b/BL3ji3/cFMLH7i3rReMxLEU6Pc21BH16qMLu8hqIIMb6eRLeTR3daGTFpMEZ0pug3wLHTSXuAfBcU7t201XItq24GO6vcG46ItvIltnytkrZZSsLMk8NH1vwELQRg5abULvqaAUQi6OnMlmUUGyspnTKNgEUtpm6mEtKqNSArrg0klFiEogRr1W7OS013JxV+Nh6Zd8d9SMKMV9a7VaDXuAqKm/vnDrJEhD6quv6VYSwvn/RQsWPNGRdeqqMaWBpSdE8xQ6UJJS3hcEEZrqai24SzydteXV4rzMoqprcU04ffJ7PlNYOjRnClr3YsCHUNzK5Yz5bHxrBwc8GHzo1KyvqdJ5ROII4KvDpgNCg68+/ge2QTtq7duChjgai79nOBfmnc7YAh+4bLESiLPstyLMCzLVyVt9rnSeQMYxZ7EitRwtATj6JjNEF6Ce0d+/mAr1O/TVlU9gluACt6f7e49d1MRUOVrTip9/zA4tyx7MFGVLTDgVq2/l9wVQcByO8MRldQoRnJr3sGpDYBhiBDrSivNOIq9edrbaBQrO6NDi0+03jySkzdhh3eQatDeXS9BsNjJQwBOSTh/4MQdH4qrlHt3ilUcfre2vSJ91eqScAzKwItVeSmgKJjuQNpbsw5lKKlgwKr5HWFjr8ZppTB32L3zlZmTElfF+hhiZL5SonY9A7iKYejDNnbsurn6I2yufHxWdRxnOOyWwtCQH0Pb23AEYG8OGKPGSFSp3pq2V7J4utBE+Dgn3euHqjKt3zl/H39wndEGGBxl1HdkXjJFUdMgT5gqB91byJ2waY5QXqgABv1FriYCqEadDZBN0P74dq02mmkMftz3+/2H4oJxhpPHnnMTvVAOWgjaDA9rLj9Oi03VDlaijr/VTXyEe7RjV/vAaE5/DH4MFpuawZq15+a2RLX+URlfzh28xn7i+1pBW0wDQ5qe+7TgRUyK1sCDW4RNWJfS0lAZiD1+LEKhy9aL4+hJPgo6q1egBXWGOgZLxsbkpvjqDONStfdQOdjpW/GjiCtYgiGXr4XlDa34CfB3357ycG+x93BIeYG2nmep9ZrjUyAZgt1PZiwoolnTkVYFfS1ma3z5L3vZoM/r/e7UU7zCyYmyjhC0EJUQN3GqJPiiEoKhUPywERwIBrb84mcJm2Bc5ZME1A+x/cN2Z4cATfvFYWpF5+wz3Bq2M72TxFFmDalMJ7gnboPjJ/3VUmjl+eaTRZP3fXmOUDPxg8OakHBl+asyIMp2/yr8VJqyBqOSyJiFXP76wuTQhV6/fm8hb03T7OA1MGCLW89ohr69+FAVq65887yyeGQgA2+H59DCZRVjRj1MEqB8xYCnMObFLwcD/lhpYGmC165fry2AyxikZ1zHpz6aSSPdTOD2TquAuYZ/fdqa1/ufR7q1WnalXTaayi4Yn44RjJmaBsaNxnO8VtoAQ0gY0/btlrJlJulgEG5QFa/zm59JPgev9aLHFJIB4rYDiPtBLatarlX5CBtpdN5SoyZ4ytXbWl5kSr2vlQQYH7LAoCG4UyblbGmGIBAXuHSUIJtrWHrK+N9eAeMBwRDZ6/zmZ1JvRXsPk/SqVRxNlJDf5VUr4aheDRN6UA6fpELIw3J0J6j1NN55un4DGFeNUhfYydMLGLB/nt2Min2kIv12NFY968UF0X6gYuhU9Y3QulczAAwh/kxzO0kAmyZ3wgSYLsyc9K2v1psAhjBKz01RNSjJiACNF8cNfJr27XYPw223sP1mAMbHTDD8EcnpR6vwB/hWTmqL2bxrAotzzK5RX9TCgm4tKS2tNBfzen0Wh5/9YOiRIcdg2A/wmfqNKmzqRl5f3AA7WzSRbo+GZvpil3S8kgUWuYYCSyH3BmUTCkWdttSGDNSK4uUvCTDOEIx5MwnGi92uXlOxG5QsviR0QOBlqTT21issGpiolUavg6E830pLzZhCOiee1bZyWLpSdln2mBC+/ElmG4SaBR3yoA/ZnVduMm16HeAXih1dDoxpU13EmsSLJ9tdA4gmIvIMs/Z6lgDM/baLI1MUR/p4JJ9jWHNSC+J1IBhVjt3OTbI0A9OY2Gecupg5LbZ0Uw/LMsd9+KGjlpxIWS1DsQeqg7npkM/WDZep106+fPkS9ku8K4qllikR6Fg+VLaS0BXPqE49YX9VDmPYAqdDOFESubiRJ1chm2OOe0t+n5qo7fcZPESTsKsB/yoVN5KEnN03WciLvmOSSJ+4GaGTYsstG+wkFzyUswcUID/jIQGtinFBhGOXWsTytWAHjCZhoLJR9CBSCPhf/L/k+/v3ZIe08qR3O2uBzCZlkr7IxtXPgsEAGHarDAtn7/UNMNQ6pAKc00aAvJqUBQanOWEHFgShsvShymeRL7RnSJbjP68vYtidfhLwtxZGaa5sTKPQDrylKLnlnO3LlWRtGsteRFiPR7m6CmcmuKLqpKm/CQwBOQxuPTcEMLyoDL5UOvJekgSiLRx7M8aXPW/L2dsukUo3bXknl7dDja3KIikRHDLIwjE7YQMnPygM4pzMDOv9Yi2WKPxyDVLB5szqyuBrF9yLZkT6ahw5n1fUWw4ToIaN12WCkcxNIBwSdnsDSHUKGFikx43s2LqUIZMW++evggHk+WrJ8caNuVEuo/lq2iGTLAkwkGf2VqUoMlQaC8vy4Aif7mxrFUroUQkCHD/8utmco/2HIQOWOxvtBUPYkZwV1NDjwd2AXuT1FryBOLlbZ1Edbwq8mKmSyvd+MCjGmY6wbA1uVK9Urq6bUdSY3TjSsbRvJjIDDEhO52c8yeqw8LmqUYqiyGpOb3BZ6MRxJj+CvVpq5QYY0ZynOLMUZoJRLauKty1As6aP+KbS0Rh5gl80eMyBRks1BFaEFU+GPyE7sRcMjWPclq0LS1WFAOp5tqqGl9Pb7itTXylg5CwlHAA55VmWBEtyWXwxx1bd46kd9+LyJ/hKx5+2Uj3aH88lUWTMbDBYrT+OtuWhccFLoMpApz1Sw4YwBc+shislVMa3MlgkMkSBgJHlQOP3NOfqbsUMqOa4gVHqjWBgivv1wswyMn6pC3kS4I7b29zIb9Z5fO1sMPa8jObUsABJW0oNS9/uinfh1JZIsc5NnAfsNxPcNPOo/Rx08pu+Cfa4ot6mT2lkgyEgm9IrheihD8GyXkKi3WU/fvzwwSXVpWoPewtIbDCwnp1udQ4guw5xr8cxAX9DQRhsThb7ATFBQQgd2ES5pS75CuHXYm/Z1HgNDFiWy94URxUMcorvr5gzuPfFcI9yABgphQssUOW8AEwNchESTC4/gQyGiCrkM6M8rPq8XQXN+Hi6TcgEnzgE3c9lgZHxImCUxrQQWyBN208O+OFuP6Ya+coQ4JJWxdfXzAQFAki5N28Vo7EdgNeN31FYVk3eBgZ+cEWzXny+2hii92BkZK1WQPbnww4Y68vfDAbjFNfuZxm22ds4UuUrGsTa48GyVOvVMun4GguIwyJPdQ2jfj/9dHoahqR4AfRjmt5Ri99hmjXEk1KntPs9wJWRavDWCAaTAkZuYwghHQyNpLhbYnZv+pAMv5x88AuPrkbJjwEa4ZL6uN+XQ5v+50w6vr04jhVF2XXPPrrmRdHWSe9ZrWdkvMhA28FugywrGcGawgwbH4T7ZIOx8YH0aDKtJaVpYwF6rV55fwDLlydN4p7UBpbltfZy2/InxweBsaEommbOv2FHLaeow/RByJTcJLdRXkuszSLch+NbqpVpJq+CIZevaSshgrCV/QDVKLGYdo0w7WreABd/qSrkT1LHkdiqJMliOrPiGJ7qkWQ67zW6GQltMoXPFcg4xlaXbS3WJZbB2FnzH2hGeqtgt3bqP8+qQBgwRNO5iByxaqziXsx9d1YLcbl3dHTUS+8r4xXHvSJhdM3b9AIqxfPXu8WdttztOk5DTWkv0/QplsHY+l4wXvEZ6Vnr7j0sDxQPIshniIvWpUt0eNXxpgt/JSpZHOM8FZ/V8d2Tk9prI4udjDor9U6Fy0yW/Y6RC/btNDBypx82wUgzk82N/nkw4GpCcN22Zwned3h7vvplI0XcDpAaK3JTteApiuJdh9Nh+li9VuUegMfkOrV0M4EsMVkQ/ghemG2lENMEGEnNwFmqzyCn15mk60Aw8mALDCXXn33fHriw8+ZahyHHN7Y0HVLnqb2s8uYx5mV01LRhk8znlFKZF9/76iXAyKyOb5uJV0vRDOBi0/98PPvwn9O9WesBYNBBfwIUvNvwlW9GlWzbGgz//GiTLbDSRaQIpO6Pz4FtqvJppJvTxFO8hhSPkrJmuG8Cg0cHuiy+fdwFI2gjI/r4z8FYBuK5r3wFdiP2+i8dnrw+eAGDk4Z9lTSUgf1iXYfujOapA5+YPGD8thupYACp85NmgmDcNJO9VtrSSbtNJNUxiPYsZq3bidovAwOo1g9YcXVSsG/QXkhyv3qK33+JGVqvTUo+gqXbzQLyMlof36a7jY+X+8D4tFsDj1sFFOXUkoMScSYNdBwZKKbwDFbZ1K16hnXeJ5n9538KhkD7UzBtvhwVMVq6g/ON+rAVGcuQwYpm08PWWN4KF4+PRtvPwy8+7EiaW9gLhlNL0M9lq0C63+w7LX2TjhNAGuuekLWNsDwgGkVl49gbbY0hhYdrslP4QzWD9uFWkI3P6mQZn/zNp4D+sRo8pmouTkghp+OFM8qV3GFILKYwpdLcxt/ZYDDc03MSjGiIoMqPbTXwdGUtuhcUTjWWjIN9wRoLNvmwqDUP9c6KReU73tTByYLhLwBjGby7ZPZVvNzUYaETkqqVNlmQYmvO99oiy2DpzWliY71jz9MGPo9jn5HmQFmqHezyTLh0Sg5mcMz8a3GsrqUZfR2Sbi/rxL3WOMBpLFOPAn3VefbGBo/di7/2F4QPAQNXjGAgFBxVGm9tW77w5LCcOx9XsKcOd55OlmYhxmNd+nju7haBsY+A0US9MJNnEVhzlBy7FIQvTBzEzUnPMI5iMQyjN4k5sGusXJk+IFSu/Hh0P+0T+T54NGG/3LJKDpv/MzCWVVaiw9RsmxHTXrF3BkQLSSkteGGLq67A6DY8gTBYc5eYs9pTPAdsJnkG321cpXUw9HZPQiVkeFGW1iLLJNljRH4aD+kLaFHYUWNlV2LiznNVkhmNk7mWl/8FYNC4/fEygDtugwFMjGoV4gGLSr+7UeDgh9i0ATax2I2vbLmIliCcppQ0pNvUsT0A9dIxk5fHopVnz8ugC5Hjoby8cNl4ji/RWs2X9mL1H4CxZpo8Fe5UeAU/CnWLDI2NWr1NHeDMCzInLhS07VISw5YKCGMwTSkxHX9KP3IiWF7zQvoI6bDIMi/CY6HkeHhXWI+RwIXRk+hKL9fxvOgeO317WYXBcWlXlJn1uLRxJorH1KFggCH++BsTJYo3dyanQE08Bd22pX9ZyDyz4R0gu5tWMPT74ZHLruu/HCuTidllh3tbGM4IUw8j4YS1rn4+XdwaBjmvEYsznM9b7dOTYDV8kSOWOTrtt+bz4eoa43ZxGQb+8sbgxhrG3Ki3lpphL3rzee82aZzpAhpY6xLb1G6SAC6pd5Q8vQj2D2wVAm7olDdUuhcpOLNTSSl18WaUPQQOymfZ42Kx31pL4y6KVM+itw+cwNZ4ahT1V9cUx/g1Luu/+udNUiuPJ3dA44r468EnSZHCYTsrbrSl/N1X+5Nk/YJjek2FVDwLDe5vtyqKkusO+wUfT9d4UbKXxLHDwt73EHxf0bdEUXwrUfGhBctXNi5U/E2E8SYo8UwdXKq//HYIGIISVsELVuff0gAEBW6ZKc5Q49mZimN/ecH+fHkPGn47bYcFAeer/GaJS5xrk27DvYPJySm+9GJgynVby1mKkPLbIWB4NZHNmqLGgc+0g98o1WnM3kFzUcOb5178q39+n6zsaOLnf8HpRZy2wprm8TKa74hgncgZFTx2cm+T3gCmsqiv8QFGRV0k5wRlvh/8C75kBRKyC4jXmnyZbll5nfQu0kQUp2rF2lZZqxK2xMT1vNmy/w1fHAGpOs6LkWMo6X8PppmjWyLGlI1WGBlCThkfleMR6j9d6E6ARRxWa6QVZFEEX51VM75qh+eG309DW4m/2k+3m6ffh4nj8JBaOZH/h39rRPwthZVFWQQj4ZoZX6sFkVIPb810NDSOd5mbfnhduYafqHHBJlrwGvB849sff/bbUiqVytWpi1k52ytknxHEgtOeOQeNejl/mao+pYMOuPxWoZXmbaneI4kPDkrt6VMJij2lqqnVcArpVHzKriqmHeOSmFao//HfbAdg9KomwyCbPJvqe467ksnvaS+zcbRHONa5V5U//zt3AIyJizNULGvOR6+8L8SUvnjQbOM2FhQzPehE3O8WBAP7/RzPzdXXvpSQzln6SUs7bExhDUVVNiCj/ONtJEcS3FbXNIf1aXj9aiojkLM0fcN8bbRxAwpG692TQfE/3UZQIBeu1do1pAkH7p03NuSswYuEsGLpLkgbAf8jRRBWYxuHXQ4ETb8OIYetZh8mWAojutzN5+uNWec/XjLT5OwP5BW1Peg51L7RV45hzN6g3cQq2b9EL35SBEsIik+alDG9Q2a8ZLl0VxHe/7cqY2PN8gonn6c3XRbr+cvzBPjFdqIoS8eSc7GonRTIKbp3j0aMh6CcRw/TwZHRm0y6DqnNTiaTnnH0474f2V7ufwOJlQh4tFS3n6N+v3FTKpWGF41+vzjGs/3+oR753Qhp+uZ8xQuCQmGEUggCPD70No/8nuSA+u17kP8DD7yX4Pc5ZgUAAAAASUVORK5CYII=\" width = 100>\n",
        "\n",
        "For example, we will see that sklearn estimators accept NumPy arrays or Pandas dataframes as input."
      ]
    },
    {
      "cell_type": "markdown",
      "metadata": {
        "id": "I-FVgGejga65"
      },
      "source": [
        "## Scope\n",
        "\n",
        "The **scope of sklearn** includes common ML tasks such as **data preprocessing** and typical **supervised and unsupervised learning algorithms**:\n",
        "\n",
        "* Data preprocessing (scaling data, train-test split, …)\n",
        "* Supervised learning\n",
        "    * Classification algorithms (Naïve Bayes, SVM, Random Forest, ...)\n",
        "    * Regression algorithms (OLS Linear Regression, KNN Regressor, …)\n",
        "* Unsupervised learning\n",
        "    * Dimensionality reduction (PCA, NMF, Isomap, …)\n",
        "    * Clustering algorithms (K-Means, DBScan, …)\n",
        "* Model evaluation and selection"
      ]
    },
    {
      "cell_type": "markdown",
      "metadata": {
        "id": "l81A6B-pga66"
      },
      "source": [
        "<div class=\"alert alert-info\"><b>Note: The following topics are not in scope of sklearn:</b>\n",
        "\n",
        "Models that we will learn in the continuation of the program:\n",
        "* Time series (use <a href=\"http://statsmodels\">statsmodels</a>)\n",
        "* HMMs (use <a href=\"https://hmmlearn.readthedocs.io/en/latest/\">hmmlearn</a>)\n",
        "* Deep Learning (small exceptions) (use TensorFlow or PyTorch)\n",
        "* GPU-accelerated ML (use TensorFlow/PyTorch or specialized libraries such as cuML)\n",
        "* ML on “big data” (use <a href=\"https://spark.apache.org/docs/latest/api/python/\"> PySpark</a>)\n",
        "\n",
        "For explanations of why these are not included, see the <a href=\"https://scikit-learn.org/stable/faq.html\"> sklearn Q&A</a>.</div>"
      ]
    },
    {
      "cell_type": "markdown",
      "metadata": {
        "id": "HR5pstbIga66"
      },
      "source": [
        "# Sklearn API Basics\n",
        "\n",
        "Scikit-learn comes pre-installed in Anaconda and Google Colab; otherwise install it with pip or conda:"
      ]
    },
    {
      "cell_type": "code",
      "execution_count": 2,
      "metadata": {
        "id": "sQaiGr3sga67",
        "outputId": "eac1f68d-c84b-4205-e167-69ba2b470ec2",
        "colab": {
          "base_uri": "https://localhost:8080/"
        }
      },
      "outputs": [
        {
          "output_type": "stream",
          "name": "stdout",
          "text": [
            "Requirement already satisfied: scikit-learn in /usr/local/lib/python3.10/dist-packages (1.2.2)\n",
            "Requirement already satisfied: numpy>=1.17.3 in /usr/local/lib/python3.10/dist-packages (from scikit-learn) (1.23.5)\n",
            "Requirement already satisfied: scipy>=1.3.2 in /usr/local/lib/python3.10/dist-packages (from scikit-learn) (1.11.4)\n",
            "Requirement already satisfied: joblib>=1.1.1 in /usr/local/lib/python3.10/dist-packages (from scikit-learn) (1.3.2)\n",
            "Requirement already satisfied: threadpoolctl>=2.0.0 in /usr/local/lib/python3.10/dist-packages (from scikit-learn) (3.2.0)\n"
          ]
        }
      ],
      "source": [
        "!pip install scikit-learn"
      ]
    },
    {
      "cell_type": "markdown",
      "metadata": {
        "id": "Uo69fNl0ga67"
      },
      "source": [
        "To import sklearn in your python code, simply use:"
      ]
    },
    {
      "cell_type": "code",
      "execution_count": 3,
      "metadata": {
        "ExecuteTime": {
          "end_time": "2022-07-27T06:54:18.552576Z",
          "start_time": "2022-07-27T06:54:18.534625Z"
        },
        "id": "LUjTSyFCga67"
      },
      "outputs": [],
      "source": [
        "import sklearn"
      ]
    },
    {
      "cell_type": "markdown",
      "metadata": {
        "id": "3NbjwSsgga68"
      },
      "source": [
        "Let's look at versions:"
      ]
    },
    {
      "cell_type": "code",
      "execution_count": 4,
      "metadata": {
        "ExecuteTime": {
          "end_time": "2022-07-27T06:54:25.894212Z",
          "start_time": "2022-07-27T06:54:25.882248Z"
        },
        "id": "rPxBiqFfga68",
        "outputId": "9d0ed771-dcde-4bdc-d1af-20d6a5248adb",
        "colab": {
          "base_uri": "https://localhost:8080/",
          "height": 35
        }
      },
      "outputs": [
        {
          "output_type": "execute_result",
          "data": {
            "text/plain": [
              "'1.2.2'"
            ],
            "application/vnd.google.colaboratory.intrinsic+json": {
              "type": "string"
            }
          },
          "metadata": {},
          "execution_count": 4
        }
      ],
      "source": [
        "sklearn.__version__"
      ]
    },
    {
      "cell_type": "code",
      "execution_count": 5,
      "metadata": {
        "ExecuteTime": {
          "end_time": "2022-07-27T06:54:37.485564Z",
          "start_time": "2022-07-27T06:54:37.455645Z"
        },
        "id": "GOblSqZvga69",
        "outputId": "6a03e15c-88d3-4e1d-83d1-ca6992f914b5",
        "colab": {
          "base_uri": "https://localhost:8080/"
        }
      },
      "outputs": [
        {
          "output_type": "stream",
          "name": "stdout",
          "text": [
            "\n",
            "System:\n",
            "    python: 3.10.12 (main, Nov 20 2023, 15:14:05) [GCC 11.4.0]\n",
            "executable: /usr/bin/python3\n",
            "   machine: Linux-6.1.58+-x86_64-with-glibc2.35\n",
            "\n",
            "Python dependencies:\n",
            "      sklearn: 1.2.2\n",
            "          pip: 23.1.2\n",
            "   setuptools: 67.7.2\n",
            "        numpy: 1.23.5\n",
            "        scipy: 1.11.4\n",
            "       Cython: 3.0.6\n",
            "       pandas: 1.5.3\n",
            "   matplotlib: 3.7.1\n",
            "       joblib: 1.3.2\n",
            "threadpoolctl: 3.2.0\n",
            "\n",
            "Built with OpenMP: True\n",
            "\n",
            "threadpoolctl info:\n",
            "       user_api: blas\n",
            "   internal_api: openblas\n",
            "    num_threads: 2\n",
            "         prefix: libopenblas\n",
            "       filepath: /usr/local/lib/python3.10/dist-packages/numpy.libs/libopenblas64_p-r0-742d56dc.3.20.so\n",
            "        version: 0.3.20\n",
            "threading_layer: pthreads\n",
            "   architecture: Haswell\n",
            "\n",
            "       user_api: openmp\n",
            "   internal_api: openmp\n",
            "    num_threads: 2\n",
            "         prefix: libgomp\n",
            "       filepath: /usr/local/lib/python3.10/dist-packages/scikit_learn.libs/libgomp-a34b3233.so.1.0.0\n",
            "        version: None\n",
            "\n",
            "       user_api: blas\n",
            "   internal_api: openblas\n",
            "    num_threads: 2\n",
            "         prefix: libopenblas\n",
            "       filepath: /usr/local/lib/python3.10/dist-packages/scipy.libs/libopenblasp-r0-23e5df77.3.21.dev.so\n",
            "        version: 0.3.21.dev\n",
            "threading_layer: pthreads\n",
            "   architecture: Haswell\n"
          ]
        }
      ],
      "source": [
        "sklearn.show_versions()"
      ]
    },
    {
      "cell_type": "markdown",
      "metadata": {
        "id": "Abr75yGXga6-"
      },
      "source": [
        "## API General flow"
      ]
    },
    {
      "cell_type": "code",
      "source": [
        "# examples of X and y :\n",
        "# X : number of rooms, sq meters\n",
        "X = [[4,120],[2,50],[3,70]] # more.... (it can take panda or numpy object)\n",
        "y = [300000,100000,200000] # len(X) = len(y)\n",
        "\n"
      ],
      "metadata": {
        "id": "P3uAci-LMHtZ"
      },
      "execution_count": null,
      "outputs": []
    },
    {
      "cell_type": "markdown",
      "metadata": {
        "id": "Y7JYT2RWga6-"
      },
      "source": [
        "As discussed, the `sklearn` package is meant to be used for various tasks, inclusing data preprocessing, and data modeling of various sorts. We will use different **classes** to perform the different operations. What is nice about the package, is that it has a few methods that work for all of these classes. This is called \"Duck typing\":\n",
        "\n",
        "> \"Duck typing is a concept related to dynamic typing, where the type or the class of an object is less important than the methods it defines. When you use duck typing, you do not check types at all. Instead, you check for the presence of a given method or attribute.\"\n",
        "\n",
        "These methods are:\n",
        "\n",
        "* `.fit(X, y)`\n",
        "* `.transform(X)`\n",
        "* `.predict(X) / .predict_proba(X)`\n",
        "\n",
        "Let's cover them one by one:\n",
        "\n",
        "### `.fit(X[, y])`-\n",
        "\n",
        "*input*: (usually) a dataset of independent variables, and sometimes, a dependent variable column.\n",
        "*output*: None\n",
        "\n",
        "this method is meant for learning parameters, regardless of whether this is for preprocessing or modeling. e.g. - it will learn the coefficients of a linear regression, it will learn the probabilies for Naive Bayes, etc... it does not change the given variables, but it keeps the parameters in the provided class instance.\n",
        "\n",
        "**The `.fit()` method is used ONLY with the train set.**\n",
        "\n",
        "### `.transform(X)` -\n",
        "*input*: a dataset (can be partial)\n",
        "*output*: a Numpy nD array, with the transformed data, (usually) in the same shape as the input.\n",
        "\n",
        "What transform is meant to do, is apply the parameters learned on a specific dataset, on that same dataset of other datasets. Usually, the `.transform()` function will succeed the `.fit()` method, but sometimes we will be able to use it regardless.\n",
        "\n",
        "We will use transformations as a part of the preprocessing phase, and some unsupervised learning problems.\n",
        "\n",
        "**The `.transform()` method is used with the train set and other sets SEPERATELY.**\n",
        "\n",
        "### `.predict(X) / .predict_proba(X)` -\n",
        "*input*: A dataset (a matrix of independent features)\n",
        "*output*: A numpy array in the same dimensions of:  (1, the number of rows in the input). the values will be the                                          prediction per sample. (in `.predict_proba()` there will be columns according to the number of classes)\n",
        "\n",
        "The `.predict()` and `.predict_proba` methods, are meant to give us a prediction per row. In most Machine Learning **Classification models**, the prediction will be a probability of the sample belonging to a certain class.\n",
        "With `.predict()`, the output will be a rounded number, which will indicate the predicted class. Using `.predict_proba()`, you can get the raw probabilities. We will discuss of the benefits of doing that in the future.\n",
        "\n",
        "For **Regression** Machine learning models, there is no point of using `.predict_proba()`, as a output is not a probability. Always use `.predict()` for regression.\n",
        "\n",
        "We use the prediction method on a fitted model. Meaning, a model instance has to be fitted, and only then we can predict with it.\n",
        "\n",
        "**The `.predict() / .predict_proba` methods are used mostly with the TEST set, but there is no harm using it on the train set for monitoring.**"
      ]
    },
    {
      "cell_type": "markdown",
      "metadata": {
        "id": "9PiqtXDMga6-"
      },
      "source": [
        "## Prediction - classification\n",
        "\n",
        "We will now use the Diabetes example dataset and build a regression model to predict the progression of the disease."
      ]
    },
    {
      "cell_type": "code",
      "execution_count": 33,
      "metadata": {
        "ExecuteTime": {
          "end_time": "2022-07-27T08:08:19.168044Z",
          "start_time": "2022-07-27T08:08:19.136615Z"
        },
        "scrolled": true,
        "id": "2rMpEs97ga6-",
        "outputId": "53180362-649b-4ffe-b378-6eda5ddd6b8d",
        "colab": {
          "base_uri": "https://localhost:8080/"
        }
      },
      "outputs": [
        {
          "output_type": "stream",
          "name": "stdout",
          "text": [
            ".. _iris_dataset:\n",
            "\n",
            "Iris plants dataset\n",
            "--------------------\n",
            "\n",
            "**Data Set Characteristics:**\n",
            "\n",
            "    :Number of Instances: 150 (50 in each of three classes)\n",
            "    :Number of Attributes: 4 numeric, predictive attributes and the class\n",
            "    :Attribute Information:\n",
            "        - sepal length in cm\n",
            "        - sepal width in cm\n",
            "        - petal length in cm\n",
            "        - petal width in cm\n",
            "        - class:\n",
            "                - Iris-Setosa\n",
            "                - Iris-Versicolour\n",
            "                - Iris-Virginica\n",
            "                \n",
            "    :Summary Statistics:\n",
            "\n",
            "    ============== ==== ==== ======= ===== ====================\n",
            "                    Min  Max   Mean    SD   Class Correlation\n",
            "    ============== ==== ==== ======= ===== ====================\n",
            "    sepal length:   4.3  7.9   5.84   0.83    0.7826\n",
            "    sepal width:    2.0  4.4   3.05   0.43   -0.4194\n",
            "    petal length:   1.0  6.9   3.76   1.76    0.9490  (high!)\n",
            "    petal width:    0.1  2.5   1.20   0.76    0.9565  (high!)\n",
            "    ============== ==== ==== ======= ===== ====================\n",
            "\n",
            "    :Missing Attribute Values: None\n",
            "    :Class Distribution: 33.3% for each of 3 classes.\n",
            "    :Creator: R.A. Fisher\n",
            "    :Donor: Michael Marshall (MARSHALL%PLU@io.arc.nasa.gov)\n",
            "    :Date: July, 1988\n",
            "\n",
            "The famous Iris database, first used by Sir R.A. Fisher. The dataset is taken\n",
            "from Fisher's paper. Note that it's the same as in R, but not as in the UCI\n",
            "Machine Learning Repository, which has two wrong data points.\n",
            "\n",
            "This is perhaps the best known database to be found in the\n",
            "pattern recognition literature.  Fisher's paper is a classic in the field and\n",
            "is referenced frequently to this day.  (See Duda & Hart, for example.)  The\n",
            "data set contains 3 classes of 50 instances each, where each class refers to a\n",
            "type of iris plant.  One class is linearly separable from the other 2; the\n",
            "latter are NOT linearly separable from each other.\n",
            "\n",
            ".. topic:: References\n",
            "\n",
            "   - Fisher, R.A. \"The use of multiple measurements in taxonomic problems\"\n",
            "     Annual Eugenics, 7, Part II, 179-188 (1936); also in \"Contributions to\n",
            "     Mathematical Statistics\" (John Wiley, NY, 1950).\n",
            "   - Duda, R.O., & Hart, P.E. (1973) Pattern Classification and Scene Analysis.\n",
            "     (Q327.D83) John Wiley & Sons.  ISBN 0-471-22361-1.  See page 218.\n",
            "   - Dasarathy, B.V. (1980) \"Nosing Around the Neighborhood: A New System\n",
            "     Structure and Classification Rule for Recognition in Partially Exposed\n",
            "     Environments\".  IEEE Transactions on Pattern Analysis and Machine\n",
            "     Intelligence, Vol. PAMI-2, No. 1, 67-71.\n",
            "   - Gates, G.W. (1972) \"The Reduced Nearest Neighbor Rule\".  IEEE Transactions\n",
            "     on Information Theory, May 1972, 431-433.\n",
            "   - See also: 1988 MLC Proceedings, 54-64.  Cheeseman et al\"s AUTOCLASS II\n",
            "     conceptual clustering system finds 3 classes in the data.\n",
            "   - Many, many more ...\n"
          ]
        }
      ],
      "source": [
        "from sklearn import datasets\n",
        "\n",
        "\n",
        "iris = datasets.load_iris()\n",
        "\n",
        "X = iris.data\n",
        "y = iris.target\n",
        "print(iris.DESCR)"
      ]
    },
    {
      "cell_type": "markdown",
      "metadata": {
        "id": "6w_rTZK_ga6_"
      },
      "source": [
        "### Class exercise 1\n",
        "#### Question 1\n",
        "Use sklearn's iris dataset and build a `KNeighborsClassifier` classifier. Use the `fit()` and `predict()` functions. Use the documentation if necessary."
      ]
    },
    {
      "cell_type": "code",
      "execution_count": 37,
      "metadata": {
        "id": "QX5OjU_3ga6_",
        "outputId": "faf6fcc9-107f-4c60-b814-a3c47659f993",
        "colab": {
          "base_uri": "https://localhost:8080/"
        }
      },
      "outputs": [
        {
          "output_type": "execute_result",
          "data": {
            "text/plain": [
              "array([0, 0, 0, 0, 0, 0, 0, 0, 0, 0, 0, 0, 0, 0, 0, 0, 0, 0, 0, 0, 0, 0,\n",
              "       0, 0, 0, 0, 0, 0, 0, 0, 0, 0, 0, 0, 0, 0, 0, 0, 0, 0, 0, 0, 0, 0,\n",
              "       0, 0, 0, 0, 0, 0, 1, 1, 1, 1, 1, 1, 1, 1, 1, 1, 1, 1, 1, 1, 1, 1,\n",
              "       1, 1, 1, 1, 2, 1, 2, 1, 1, 1, 1, 1, 1, 1, 1, 1, 1, 2, 1, 1, 1, 1,\n",
              "       1, 1, 1, 1, 1, 1, 1, 1, 1, 1, 1, 1, 2, 2, 2, 2, 2, 2, 1, 2, 2, 2,\n",
              "       2, 2, 2, 2, 2, 2, 2, 2, 2, 1, 2, 2, 2, 2, 2, 2, 2, 2, 2, 2, 2, 2,\n",
              "       2, 2, 2, 2, 2, 2, 2, 2, 2, 2, 2, 2, 2, 2, 2, 2, 2, 2])"
            ]
          },
          "metadata": {},
          "execution_count": 37
        }
      ],
      "source": [
        "# your answer here\n",
        "from sklearn.neighbors import KNeighborsClassifier\n",
        "model = KNeighborsClassifier()\n",
        "model.fit(X,y)\n",
        "model.predict(X) # equal to y because we are predicting the set that we trained the model on"
      ]
    },
    {
      "cell_type": "markdown",
      "metadata": {
        "id": "7OP_Va0Dga6_"
      },
      "source": [
        "#### Question 2\n",
        "Use the `predict_proba()`. What is the difference between this function and the `predict()` function?"
      ]
    },
    {
      "cell_type": "code",
      "execution_count": 29,
      "metadata": {
        "id": "-ynIUIiGga6_"
      },
      "outputs": [],
      "source": [
        "# your answer here\n",
        "predict_proba_X = model.predict_proba(X)\n",
        "# we get proba for each instances to be one of the three class. Sum element of each array = 1\n",
        "# Before, we got an array of length 1. Not 100% accurate because even if the we evalute the model on the trained set, the model is sitll not 100% sure"
      ]
    },
    {
      "cell_type": "markdown",
      "metadata": {
        "id": "SuZTGVM6ga7A"
      },
      "source": [
        "#### Question 3\n",
        "Use the classifiers `score()` function. What this function does?"
      ]
    },
    {
      "cell_type": "code",
      "execution_count": 28,
      "metadata": {
        "id": "hz5jr3khga7A",
        "outputId": "8231ade1-9123-469a-ec2e-d193225c1cf9",
        "colab": {
          "base_uri": "https://localhost:8080/"
        }
      },
      "outputs": [
        {
          "output_type": "execute_result",
          "data": {
            "text/plain": [
              "0.96"
            ]
          },
          "metadata": {},
          "execution_count": 28
        }
      ],
      "source": [
        "# your answer here\n",
        "model.score(X,y)\n",
        "# it compares the prediction we get for X to the real result that is on y. It gives the accuracy of the model"
      ]
    },
    {
      "cell_type": "markdown",
      "metadata": {
        "id": "mpPKYDwdga7A"
      },
      "source": [
        "#### Question 4\n",
        "Now, instead of a KNN model use a Gaussian Naive Bayes classifier. Try to change as little code as possible"
      ]
    },
    {
      "cell_type": "code",
      "execution_count": 49,
      "metadata": {
        "id": "xV73PCEGga7A",
        "outputId": "bb2c4d71-bd65-407a-f89c-bad0953b0aa6",
        "colab": {
          "base_uri": "https://localhost:8080/"
        }
      },
      "outputs": [
        {
          "output_type": "execute_result",
          "data": {
            "text/plain": [
              "0.45248868778280543"
            ]
          },
          "metadata": {},
          "execution_count": 49
        }
      ],
      "source": [
        "# your answer here\n",
        "from sklearn.naive_bayes import GaussianNB\n",
        "model = GaussianNB()  # We keep the same structure as the previous classifier\n",
        "model.fit(X,y)\n",
        "model.predict(X)\n",
        "#model.score(X,y)"
      ]
    },
    {
      "cell_type": "markdown",
      "metadata": {
        "id": "rmjLo1hoga7A"
      },
      "source": [
        "## Prediction - regression\n",
        "\n",
        "We will now use the Diabetes example dataset and build a regression model to predict the progression of the disease."
      ]
    },
    {
      "cell_type": "code",
      "execution_count": 38,
      "metadata": {
        "ExecuteTime": {
          "end_time": "2022-07-27T08:08:19.168044Z",
          "start_time": "2022-07-27T08:08:19.136615Z"
        },
        "id": "nJCo0iMnga7A"
      },
      "outputs": [],
      "source": [
        "from sklearn import datasets\n",
        "from sklearn.tree import DecisionTreeRegressor\n",
        "from matplotlib import pyplot as plt\n",
        "\n",
        "diab = datasets.load_diabetes()\n",
        "\n",
        "X = diab.data\n",
        "y = diab.target"
      ]
    },
    {
      "cell_type": "markdown",
      "metadata": {
        "id": "2LOxTR1-ga7A"
      },
      "source": [
        "### Class exercise 2\n",
        "#### Question 1\n",
        "Use sklearn's diabetes dataset and build a `DecisionTreeRegressor` regression model. Use the `fit()` and `predict()`. Use the documentation if necessary."
      ]
    },
    {
      "cell_type": "code",
      "execution_count": 48,
      "metadata": {
        "id": "4_PXHxmCga7B",
        "outputId": "07a2a543-d99e-44a3-be78-a65434fc8e52",
        "colab": {
          "base_uri": "https://localhost:8080/"
        }
      },
      "outputs": [
        {
          "output_type": "execute_result",
          "data": {
            "text/plain": [
              "1.0"
            ]
          },
          "metadata": {},
          "execution_count": 48
        }
      ],
      "source": [
        "# your answer here\n",
        "from sklearn.tree import DecisionTreeRegressor\n",
        "model = DecisionTreeRegressor()\n",
        "model.fit(X,y)\n",
        "model.predict(X)\n",
        "# model.score(X,y) we get 1\n",
        "# CAUTION : high risk of overfitting"
      ]
    },
    {
      "cell_type": "markdown",
      "metadata": {
        "ExecuteTime": {
          "end_time": "2022-07-27T10:45:36.505959Z",
          "start_time": "2022-07-27T10:45:36.476041Z"
        },
        "id": "TJZtw3Lrga7B"
      },
      "source": [
        "#### Question 2\n",
        "Now, instead of a desicion tree model use a linear regression model. Try to change as little code as possible"
      ]
    },
    {
      "cell_type": "code",
      "execution_count": 47,
      "metadata": {
        "id": "1bzQbEeiga7B",
        "outputId": "69b8e3b7-d558-4341-8411-18b2acfdade2",
        "colab": {
          "base_uri": "https://localhost:8080/"
        }
      },
      "outputs": [
        {
          "output_type": "execute_result",
          "data": {
            "text/plain": [
              "0.5177484222203499"
            ]
          },
          "metadata": {},
          "execution_count": 47
        }
      ],
      "source": [
        "# your answer here\n",
        "from sklearn.linear_model import LinearRegression\n",
        "model = LinearRegression()\n",
        "model.fit(X,y)\n",
        "model.predict(X)\n",
        "# model.score(X,y) We get 0.51\n",
        "# it tells how well the data fit a linear line (it gives the R^2)\n",
        "# not necessary a risk of underfitting -->"
      ]
    },
    {
      "cell_type": "markdown",
      "metadata": {
        "id": "qu4Lae5Yga7B"
      },
      "source": [
        "#### Question 3\n",
        "try to predict the probabilities instead of predicting values. Does this work?"
      ]
    },
    {
      "cell_type": "code",
      "execution_count": 46,
      "metadata": {
        "id": "RwdFfLyvga7B",
        "outputId": "167e111f-4547-481a-9999-ce4dad263f4c",
        "colab": {
          "base_uri": "https://localhost:8080/",
          "height": 194
        }
      },
      "outputs": [
        {
          "output_type": "error",
          "ename": "AttributeError",
          "evalue": "ignored",
          "traceback": [
            "\u001b[0;31m---------------------------------------------------------------------------\u001b[0m",
            "\u001b[0;31mAttributeError\u001b[0m                            Traceback (most recent call last)",
            "\u001b[0;32m<ipython-input-46-5babf0442f9f>\u001b[0m in \u001b[0;36m<cell line: 2>\u001b[0;34m()\u001b[0m\n\u001b[1;32m      1\u001b[0m \u001b[0;31m# your answer here\u001b[0m\u001b[0;34m\u001b[0m\u001b[0;34m\u001b[0m\u001b[0m\n\u001b[0;32m----> 2\u001b[0;31m \u001b[0mmodel\u001b[0m\u001b[0;34m.\u001b[0m\u001b[0mpredict_proba\u001b[0m\u001b[0;34m(\u001b[0m\u001b[0mX\u001b[0m\u001b[0;34m)\u001b[0m\u001b[0;34m\u001b[0m\u001b[0;34m\u001b[0m\u001b[0m\n\u001b[0m",
            "\u001b[0;31mAttributeError\u001b[0m: 'LinearRegression' object has no attribute 'predict_proba'"
          ]
        }
      ],
      "source": [
        "# your answer here\n",
        "model.predict_proba(X)\n",
        "# it does not work because we are on a regression model so we do not have probabilities"
      ]
    },
    {
      "cell_type": "markdown",
      "metadata": {
        "ExecuteTime": {
          "end_time": "2022-07-19T12:41:21.425617Z",
          "start_time": "2022-07-19T12:41:21.397693Z"
        },
        "id": "C_Tw6Ladga7B"
      },
      "source": [
        "## Preprocessing\n",
        "sklearn is not only for modeling. It has many tools and functions that are used in data preprocessing.\n",
        "We call these object \"transformerts\", and they implement the `.fit(...)` and `.transform(...)` functions."
      ]
    },
    {
      "cell_type": "markdown",
      "metadata": {
        "id": "sWA809fYga7B"
      },
      "source": [
        "### Class exercise 3\n",
        "We will perfrom the preprocessing steps on the independent features of the diabetes dataset"
      ]
    },
    {
      "cell_type": "code",
      "execution_count": 50,
      "metadata": {
        "ExecuteTime": {
          "end_time": "2022-07-27T08:08:19.168044Z",
          "start_time": "2022-07-27T08:08:19.136615Z"
        },
        "id": "LTJ7jiALga7B"
      },
      "outputs": [],
      "source": [
        "diab = datasets.load_diabetes()\n",
        "\n",
        "X = diab.data\n",
        "y = diab.target"
      ]
    },
    {
      "cell_type": "code",
      "source": [
        "X"
      ],
      "metadata": {
        "id": "Onai0cX6jXQM",
        "outputId": "03b48ac4-ceab-4cd3-84dc-f361958bbbfa",
        "colab": {
          "base_uri": "https://localhost:8080/"
        }
      },
      "execution_count": 67,
      "outputs": [
        {
          "output_type": "execute_result",
          "data": {
            "text/plain": [
              "array([[ 0.03807591,  0.05068012,  0.06169621, ..., -0.00259226,\n",
              "         0.01990749, -0.01764613],\n",
              "       [-0.00188202, -0.04464164, -0.05147406, ..., -0.03949338,\n",
              "        -0.06833155, -0.09220405],\n",
              "       [ 0.08529891,  0.05068012,  0.04445121, ..., -0.00259226,\n",
              "         0.00286131, -0.02593034],\n",
              "       ...,\n",
              "       [ 0.04170844,  0.05068012, -0.01590626, ..., -0.01107952,\n",
              "        -0.04688253,  0.01549073],\n",
              "       [-0.04547248, -0.04464164,  0.03906215, ...,  0.02655962,\n",
              "         0.04452873, -0.02593034],\n",
              "       [-0.04547248, -0.04464164, -0.0730303 , ..., -0.03949338,\n",
              "        -0.00422151,  0.00306441]])"
            ]
          },
          "metadata": {},
          "execution_count": 67
        }
      ]
    },
    {
      "cell_type": "markdown",
      "metadata": {
        "id": "uMKBa1sega7C"
      },
      "source": [
        "#### Question 1\n",
        "Use sklearn `MinMaxScaler` to transform `X`"
      ]
    },
    {
      "cell_type": "code",
      "execution_count": 69,
      "metadata": {
        "id": "pdarm-FFga7C",
        "outputId": "5b640e18-1034-4551-85f2-b3aee97eef0f",
        "colab": {
          "base_uri": "https://localhost:8080/"
        }
      },
      "outputs": [
        {
          "output_type": "execute_result",
          "data": {
            "text/plain": [
              "array([[0.66666667, 1.        , 0.58264463, ..., 0.28208745, 0.562217  ,\n",
              "        0.43939394],\n",
              "       [0.48333333, 0.        , 0.14876033, ..., 0.14104372, 0.22243673,\n",
              "        0.16666667],\n",
              "       [0.88333333, 1.        , 0.51652893, ..., 0.28208745, 0.49657763,\n",
              "        0.40909091],\n",
              "       ...,\n",
              "       [0.68333333, 1.        , 0.28512397, ..., 0.24964739, 0.30503001,\n",
              "        0.56060606],\n",
              "       [0.28333333, 0.        , 0.49586777, ..., 0.39351199, 0.65702552,\n",
              "        0.40909091],\n",
              "       [0.28333333, 0.        , 0.0661157 , ..., 0.14104372, 0.46930394,\n",
              "        0.51515152]])"
            ]
          },
          "metadata": {},
          "execution_count": 69
        }
      ],
      "source": [
        "# your answer here\n",
        "from sklearn.preprocessing import MinMaxScaler\n",
        "scaler = MinMaxScaler()\n",
        "scaler.fit(X)\n",
        "scaler.transform(X)\n",
        "# or we can do : scaler.fit_transform(X)"
      ]
    },
    {
      "cell_type": "markdown",
      "metadata": {
        "id": "I7rmkC4nga7C"
      },
      "source": [
        "#### Question 2\n",
        "Explain what `MinMaxScaler`does"
      ]
    },
    {
      "cell_type": "code",
      "execution_count": 65,
      "metadata": {
        "ExecuteTime": {
          "end_time": "2022-07-27T08:51:17.458082Z",
          "start_time": "2022-07-27T08:51:17.444120Z"
        },
        "id": "GURa0dKiga7C"
      },
      "outputs": [],
      "source": [
        "# your code here\n",
        "# it transforms the data to be in a range of (0,1). IT IS DONE BY COLUMNS\n",
        "# for (x,y), the minimum value of x will be 0, the max will be 1. Same for y.\n",
        "# Other values are adapted according to the change of scale ( we will divide each data by the max of each COLUMNS)"
      ]
    },
    {
      "cell_type": "markdown",
      "metadata": {
        "id": "-6BP92rlga7C"
      },
      "source": [
        "#### Question 3\n",
        "Now, instead of a `MinMaxScaler` use a `StandardScaler` to transform `X`. Try to change as little code as possible"
      ]
    },
    {
      "cell_type": "code",
      "execution_count": 66,
      "metadata": {
        "id": "i2m8Z9Qfga7C",
        "outputId": "fcdaf321-fa38-4dae-c1cd-941d6d24d49b",
        "colab": {
          "base_uri": "https://localhost:8080/"
        }
      },
      "outputs": [
        {
          "output_type": "execute_result",
          "data": {
            "text/plain": [
              "array([[ 0.80050009,  1.06548848,  1.29708846, ..., -0.05449919,\n",
              "         0.41853093, -0.37098854],\n",
              "       [-0.03956713, -0.93853666, -1.08218016, ..., -0.83030083,\n",
              "        -1.43658851, -1.93847913],\n",
              "       [ 1.79330681,  1.06548848,  0.93453324, ..., -0.05449919,\n",
              "         0.06015558, -0.54515416],\n",
              "       ...,\n",
              "       [ 0.87686984,  1.06548848, -0.33441002, ..., -0.23293356,\n",
              "        -0.98564884,  0.32567395],\n",
              "       [-0.9560041 , -0.93853666,  0.82123474, ...,  0.55838411,\n",
              "         0.93616291, -0.54515416],\n",
              "       [-0.9560041 , -0.93853666, -1.53537419, ..., -0.83030083,\n",
              "        -0.08875225,  0.06442552]])"
            ]
          },
          "metadata": {},
          "execution_count": 66
        }
      ],
      "source": [
        "# your answer here\n",
        "from sklearn.preprocessing import StandardScaler\n",
        "scaler = StandardScaler()\n",
        "scaler.fit(X)\n",
        "scaler.transform(X)"
      ]
    },
    {
      "cell_type": "markdown",
      "metadata": {
        "id": "fwJauNarga7C"
      },
      "source": [
        "#### Question 4\n",
        "Explain what `StandardScaler`does"
      ]
    },
    {
      "cell_type": "code",
      "execution_count": null,
      "metadata": {
        "ExecuteTime": {
          "end_time": "2022-07-27T08:51:17.458082Z",
          "start_time": "2022-07-27T08:51:17.444120Z"
        },
        "id": "t7ITLraoga7C"
      },
      "outputs": [],
      "source": [
        "# your code here\n",
        "# StandardScaler calculates the mean and standard deviation of the sample.\n",
        "# Then it transformes each data to (x-u)/s with u = mean and s = std.\n",
        "# MEAN OF THE DATA = 0 , VAR OF THE DATA = 1\n"
      ]
    },
    {
      "cell_type": "markdown",
      "metadata": {
        "ExecuteTime": {
          "end_time": "2022-07-19T12:42:57.917460Z",
          "start_time": "2022-07-19T12:42:57.901832Z"
        },
        "id": "jkWPGKwhga7D"
      },
      "source": [
        "<div class=\"alert alert-warning\"><b>Note</b>: Some estimators also implement `.fit_transform(...)` and/or `.fit_predict(...)` as a shortcut for fitting and then transforming/predicting on the same input data.\n",
        "\n",
        "\n",
        "⚠️ <b>Be careful!</b> You can get “data leakage” if you fit on test data. We will discuss what this means in lectures on preprocessing, overfitting and train-test splitting.</div>"
      ]
    },
    {
      "cell_type": "markdown",
      "metadata": {
        "ExecuteTime": {
          "end_time": "2022-07-19T12:45:16.480154Z",
          "start_time": "2022-07-19T12:45:16.461202Z"
        },
        "id": "ZpL1f37oga7D"
      },
      "source": [
        "<div class=\"alert alert-info\"><b>Note:</b>\n",
        "Sklearn estimators will accept Python lists, NumPy arrays, and Pandas DataFrames as input. You don’t usually need to worry about converting between these formats..</div>"
      ]
    },
    {
      "cell_type": "markdown",
      "metadata": {
        "id": "9cZMj3jBga7D"
      },
      "source": [
        "### Preprocessing with no learning phase\n",
        "\n",
        "Some preprocessing functionalities, require no learning stage, meaning the transformation is done per individual samples, and there are no parameters to be learned from the entire dataset. For that cause, we can use only `.transform()`\n",
        "\n",
        "Let's see an example:"
      ]
    },
    {
      "cell_type": "code",
      "execution_count": null,
      "metadata": {
        "ExecuteTime": {
          "end_time": "2022-07-27T08:50:14.115479Z",
          "start_time": "2022-07-27T08:50:14.104474Z"
        },
        "id": "ORqXbzGqga7D"
      },
      "outputs": [],
      "source": [
        "from sklearn.preprocessing import FunctionTransformer\n",
        "import numpy as np\n",
        "transformer = FunctionTransformer(np.log1p, validate=True)\n",
        "\n",
        "### log transform the dataset"
      ]
    },
    {
      "cell_type": "markdown",
      "metadata": {
        "id": "FQjzyM-hga7D"
      },
      "source": [
        "## Baseline models - sklearn Dummy models\n",
        "sklearn provides a convenient framework for baseline models.\n",
        "### Class exercise 4\n",
        "#### Question 1\n",
        "What is a baseline model?"
      ]
    },
    {
      "cell_type": "code",
      "execution_count": 70,
      "metadata": {
        "id": "w1BYEJzcga7D"
      },
      "outputs": [],
      "source": [
        "# your answer here\n",
        "# A baseline modle is a simple, easy to understand, quick to train and not complexe model.\n",
        "# It serves as a default model to start with when building more complexe models.\n",
        "# It gives a basic performance against which you can measure the effectiveness of more sophisticated models."
      ]
    },
    {
      "cell_type": "markdown",
      "metadata": {
        "id": "Kp4uKFqWga7D"
      },
      "source": [
        "#### Question 2\n",
        "Use sklearn `DummyClassifier` to build a baseline classifier for the iris dataset. use a 'uniform' strategy"
      ]
    },
    {
      "cell_type": "code",
      "source": [
        "iris = datasets.load_iris()\n",
        "X = iris.data\n",
        "y = iris.target"
      ],
      "metadata": {
        "id": "x_bY0t70tqPv"
      },
      "execution_count": 71,
      "outputs": []
    },
    {
      "cell_type": "code",
      "execution_count": 79,
      "metadata": {
        "id": "hYKfG_R8ga7D",
        "outputId": "50fcf808-4580-44e0-fd45-337259b52ed1",
        "colab": {
          "base_uri": "https://localhost:8080/"
        }
      },
      "outputs": [
        {
          "output_type": "execute_result",
          "data": {
            "text/plain": [
              "0.004524886877828055"
            ]
          },
          "metadata": {},
          "execution_count": 79
        }
      ],
      "source": [
        "# your answer here\n",
        "from sklearn.dummy import DummyClassifier\n",
        "model = DummyClassifier(strategy = 'uniform')\n",
        "model.fit(X,y)\n",
        "model.predict(X)\n",
        "model.score(X,y)\n",
        "\n",
        "\n"
      ]
    },
    {
      "cell_type": "markdown",
      "metadata": {
        "id": "DCZ1-gRnga7D"
      },
      "source": [
        "#### Question 3\n",
        "Use sklearn `DummyClassifier` to build a baseline regressor for the diabetes dataset. Use the 'mean' strategy"
      ]
    },
    {
      "cell_type": "code",
      "source": [
        "diab = datasets.load_diabetes()\n",
        "\n",
        "X = diab.data\n",
        "y = diab.target"
      ],
      "metadata": {
        "id": "hqGPlRSiuLfn"
      },
      "execution_count": 75,
      "outputs": []
    },
    {
      "cell_type": "code",
      "execution_count": 78,
      "metadata": {
        "id": "gZA6NB4Jga7D",
        "outputId": "f120500d-2970-43f3-cb2a-d8989faa3205",
        "colab": {
          "base_uri": "https://localhost:8080/"
        }
      },
      "outputs": [
        {
          "output_type": "execute_result",
          "data": {
            "text/plain": [
              "0.0"
            ]
          },
          "metadata": {},
          "execution_count": 78
        }
      ],
      "source": [
        "# your answer here\n",
        "from sklearn.dummy import DummyRegressor\n",
        "model = DummyRegressor(strategy = 'mean')\n",
        "model.fit(X,y)\n",
        "model.predict(X)\n",
        "model.score(X,y)"
      ]
    },
    {
      "cell_type": "markdown",
      "metadata": {
        "id": "-b5Y2q0Sga7E"
      },
      "source": [
        "## Common Sklearn Paradigms\n",
        "\n",
        "\n",
        "In future lectures, proceed to show examples of using sklearn for some common machine learning tasks:\n",
        "\n",
        "* Data preprocessing\n",
        "\n",
        "* Supervised learning – classification\n",
        "\n",
        "* Supervised learning – regression\n",
        "\n",
        "* Unsupervised learning – dimensionality reduction"
      ]
    },
    {
      "cell_type": "markdown",
      "metadata": {
        "id": "YAQ6CNH-ga7E"
      },
      "source": [
        "## Advanced Sklearn Topics"
      ]
    },
    {
      "cell_type": "markdown",
      "metadata": {
        "ExecuteTime": {
          "end_time": "2022-07-19T12:48:28.964492Z",
          "start_time": "2022-07-19T12:48:28.946541Z"
        },
        "id": "OuQjsMGPga7E"
      },
      "source": [
        "For the brave: you are recommended to self-study the topics below\n",
        "\n",
        "* Controlling randomness in estimators with random_state (see <a href=\"https://scikit-learn.org/stable/common_pitfalls.html\">10.3</a>)\n",
        "\n",
        "* <a href=\"https://scikit-learn.org/stable/datasets.html\">Sklearn datasets</a>  – sklearn provides common test datasets for ML tasks\n",
        "\n",
        "* <a href=\"https://scikit-learn.org/stable/modules/model_persistence.html\">Model persistence</a>: How to save and load trained models for later use\n",
        "\n",
        "* Will be covered later in the course - <a href=\"https://scikit-learn.org/stable/getting_started.html#pipelines-chaining-pre-processors-and-estimators\">Pipelines</a>, <a href=\"https://scikit-learn.org/stable/getting_started.html#model-evaluation\">model evaluation</a>, and <a href=\"https://scikit-learn.org/stable/getting_started.html#automatic-parameter-searches\">parameter search</a>"
      ]
    },
    {
      "cell_type": "markdown",
      "metadata": {
        "id": "EY_dhXctga7E"
      },
      "source": [
        "## Further Reading\n",
        "\n",
        "Sklearn has excellent documentation on their website and you are highly encouraged to read through some of it on your own:\n",
        "\n",
        "* Main website: https://scikit-learn.org/\n",
        "* <a href=\"https://scikit-learn.org/stable/getting_started.html\">\"Getting started\"</a>\n",
        "* Tutorial: <a href=\"https://scikit-learn.org/stable/tutorial/basic/tutorial.html\">\"An introduction to machine learning with scikit-learn\"</a>\n",
        "* Example sklearn documentation for specific ML algorithm: <a href=\"https://scikit-learn.org/stable/modules/naive_bayes.html\">\"1.9 Naïve Bayes\"</a>\n",
        "* <a href=\"https://scikit-learn.org/stable/glossary.html\">Sklearn glossary</a> (important terms used in the sklearn API)"
      ]
    }
  ],
  "metadata": {
    "kernelspec": {
      "display_name": "Python 3 (ipykernel)",
      "language": "python",
      "name": "python3"
    },
    "language_info": {
      "codemirror_mode": {
        "name": "ipython",
        "version": 3
      },
      "file_extension": ".py",
      "mimetype": "text/x-python",
      "name": "python",
      "nbconvert_exporter": "python",
      "pygments_lexer": "ipython3",
      "version": "3.7.13"
    },
    "latex_envs": {
      "LaTeX_envs_menu_present": true,
      "autoclose": false,
      "autocomplete": true,
      "bibliofile": "biblio.bib",
      "cite_by": "apalike",
      "current_citInitial": 1,
      "eqLabelWithNumbers": true,
      "eqNumInitial": 1,
      "hotkeys": {
        "equation": "Ctrl-E",
        "itemize": "Ctrl-I"
      },
      "labels_anchors": false,
      "latex_user_defs": false,
      "report_style_numbering": false,
      "user_envs_cfg": false
    },
    "toc": {
      "base_numbering": 1,
      "nav_menu": {},
      "number_sections": true,
      "sideBar": true,
      "skip_h1_title": false,
      "title_cell": "Table of Contents",
      "title_sidebar": "Contents",
      "toc_cell": false,
      "toc_position": {},
      "toc_section_display": true,
      "toc_window_display": false
    },
    "colab": {
      "provenance": []
    }
  },
  "nbformat": 4,
  "nbformat_minor": 0
}