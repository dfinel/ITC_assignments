{
  "nbformat": 4,
  "nbformat_minor": 0,
  "metadata": {
    "colab": {
      "provenance": []
    },
    "kernelspec": {
      "name": "python3",
      "display_name": "Python 3"
    },
    "language_info": {
      "name": "python"
    }
  },
  "cells": [
    {
      "cell_type": "markdown",
      "metadata": {
        "id": "22oJ7UQLLh8Z"
      },
      "source": [
        "# Recommender Systems\n",
        "\n",
        "This demo uses the Python [Surprise](https://github.com/NicolasHug/Surprise) library with the matrix factorization algorithm for collaborative filtering on the MovieLens 100K dataset."
      ]
    },
    {
      "cell_type": "markdown",
      "metadata": {
        "id": "ynve-_rPLfP1"
      },
      "source": [
        "## Part 1. Setup and basic EDA\n",
        "\n",
        "First run the cell below to install the [Surprise](https://github.com/NicolasHug/Surprise) library, a [SciKit](https://www.scipy.org/scikits.html) API for building recommender systems in Python:"
      ]
    },
    {
      "cell_type": "code",
      "metadata": {
        "id": "e4W0sjbnURj2",
        "outputId": "cbc39440-0c74-4328-fdb1-906d08e8beaf",
        "colab": {
          "base_uri": "https://localhost:8080/"
        }
      },
      "source": [
        "! pip install surprise"
      ],
      "execution_count": 1,
      "outputs": [
        {
          "output_type": "stream",
          "name": "stdout",
          "text": [
            "Requirement already satisfied: surprise in /usr/local/lib/python3.10/dist-packages (0.1)\n",
            "Requirement already satisfied: scikit-surprise in /usr/local/lib/python3.10/dist-packages (from surprise) (1.1.3)\n",
            "Requirement already satisfied: joblib>=1.0.0 in /usr/local/lib/python3.10/dist-packages (from scikit-surprise->surprise) (1.3.2)\n",
            "Requirement already satisfied: numpy>=1.17.3 in /usr/local/lib/python3.10/dist-packages (from scikit-surprise->surprise) (1.25.2)\n",
            "Requirement already satisfied: scipy>=1.3.2 in /usr/local/lib/python3.10/dist-packages (from scikit-surprise->surprise) (1.11.4)\n"
          ]
        }
      ]
    },
    {
      "cell_type": "markdown",
      "metadata": {
        "id": "ETTCTiFI21dF"
      },
      "source": [
        "We will first load the classic [MovieLens 100K Dataset](https://grouplens.org/datasets/movielens/100k/) of online movie ratings, using the Surprise API.\n",
        "\n",
        "**Questions:**\n",
        "1. Use the code from [this GitHub Gist](https://gist.github.com/morrisalp/b6cb81bf73411c40f861f865a2b12fa9) to load the dataset. Uncomment the section that uses `train_test_split` so that the test data contains known movie ratings."
      ]
    },
    {
      "cell_type": "code",
      "source": [
        "# your code here\n",
        "import surprise\n",
        "import pandas as pd\n",
        "\n",
        "data = surprise.Dataset.load_builtin('ml-100k')\n",
        "ddir = surprise.get_dataset_dir()\n",
        "\n",
        "item_data = pd.read_csv(f'{ddir}/ml-100k/ml-100k/u.item',\n",
        "                        sep='|',\n",
        "                        header=None,\n",
        "                        encoding='ISO-8859-1',\n",
        "                        usecols=[0, 1],\n",
        "                        names=['iid', 'item_name'])\n",
        "\n",
        "def dataset2df(ds, train=True):\n",
        "  df = pd.DataFrame(ds.all_ratings() if train else ds,\n",
        "                    columns=['uid', 'iid', 'rating'])\n",
        "  if train:\n",
        "    df.uid = df.uid.apply(trainset.to_raw_uid)\n",
        "    df.iid = df.iid.apply(trainset.to_raw_iid)\n",
        "  df.uid = df.uid.astype(int)\n",
        "  df.iid = df.iid.astype(int)\n",
        "  return pd.merge(df, item_data, how='left')\n",
        "\n",
        "def datasets2dfs(trainset, testset):\n",
        "  df_train = dataset2df(trainset)\n",
        "  df_test = dataset2df(testset, train=False)\n",
        "  return df_train, df_test\n",
        "\n",
        "\n",
        "trainset, testset = surprise.model_selection.train_test_split(data, test_size=.25)\n",
        "df_train, df_test = datasets2dfs(trainset, testset)"
      ],
      "metadata": {
        "id": "EeUgTqkPXzTh"
      },
      "execution_count": 2,
      "outputs": []
    },
    {
      "cell_type": "markdown",
      "source": [
        "2. Perform basic EDA, and make sure the check the following details:\n",
        "  * Size of train and test datasets, features they contain and their meanings.\n",
        "  * Calculate the following on the train dataset:\n",
        "    * Number of unique movies and users in dataset, and how how many movies each user has rated on average.\n",
        "    * Distribution of movie ratings in general, average ratings per user, and average ratings per movie.\n",
        "    * Which movies are best/worst rated? (simple mean of user ratings)\n",
        "    * Which movies viewed by at least 10 users are best/worst rated?\n",
        "    * Which users are most/least positive in their ratings? (simple mean of movie ratings)\n",
        "\n",
        "**Advanced note:** Actually, it is not really \"fair\" to judge which movies are most or least popular by mean rating, because a movie with a single 1-star rating will seem worse than one with 99 1-star ratings and a single 2-star rating. A better approach would be to estimate the standard error of the sample mean $SE=\\sigma/\\sqrt{n}$ for each movie, calculate a 95% CI for the sample mean using this and sort by lower or upper bounds of this interval."
      ],
      "metadata": {
        "id": "viBxoarswK83"
      }
    },
    {
      "cell_type": "code",
      "source": [
        "# your code here\n",
        "df_train.shape,df_test.shape"
      ],
      "metadata": {
        "id": "pWLZnbqEX0I0",
        "outputId": "35d81a07-5350-43cd-a941-bd11289bd516",
        "colab": {
          "base_uri": "https://localhost:8080/"
        }
      },
      "execution_count": 3,
      "outputs": [
        {
          "output_type": "execute_result",
          "data": {
            "text/plain": [
              "((75000, 4), (25000, 4))"
            ]
          },
          "metadata": {},
          "execution_count": 3
        }
      ]
    },
    {
      "cell_type": "code",
      "source": [
        "df_train.sample(5)"
      ],
      "metadata": {
        "id": "5b571ZRgoa4V",
        "outputId": "5a1a7b95-f256-4138-b20b-5959b1cf8f94",
        "colab": {
          "base_uri": "https://localhost:8080/",
          "height": 206
        }
      },
      "execution_count": 4,
      "outputs": [
        {
          "output_type": "execute_result",
          "data": {
            "text/plain": [
              "       uid  iid  rating                         item_name\n",
              "40231  327  921     4.0      Farewell My Concubine (1993)\n",
              "49535  942  750     4.0                    Amistad (1997)\n",
              "60381   60  507     4.0  Streetcar Named Desire, A (1951)\n",
              "46444  308   22     4.0                 Braveheart (1995)\n",
              "72272  111  272     3.0          Good Will Hunting (1997)"
            ],
            "text/html": [
              "\n",
              "  <div id=\"df-49a41103-7efb-44be-967c-bf0302f101d0\" class=\"colab-df-container\">\n",
              "    <div>\n",
              "<style scoped>\n",
              "    .dataframe tbody tr th:only-of-type {\n",
              "        vertical-align: middle;\n",
              "    }\n",
              "\n",
              "    .dataframe tbody tr th {\n",
              "        vertical-align: top;\n",
              "    }\n",
              "\n",
              "    .dataframe thead th {\n",
              "        text-align: right;\n",
              "    }\n",
              "</style>\n",
              "<table border=\"1\" class=\"dataframe\">\n",
              "  <thead>\n",
              "    <tr style=\"text-align: right;\">\n",
              "      <th></th>\n",
              "      <th>uid</th>\n",
              "      <th>iid</th>\n",
              "      <th>rating</th>\n",
              "      <th>item_name</th>\n",
              "    </tr>\n",
              "  </thead>\n",
              "  <tbody>\n",
              "    <tr>\n",
              "      <th>40231</th>\n",
              "      <td>327</td>\n",
              "      <td>921</td>\n",
              "      <td>4.0</td>\n",
              "      <td>Farewell My Concubine (1993)</td>\n",
              "    </tr>\n",
              "    <tr>\n",
              "      <th>49535</th>\n",
              "      <td>942</td>\n",
              "      <td>750</td>\n",
              "      <td>4.0</td>\n",
              "      <td>Amistad (1997)</td>\n",
              "    </tr>\n",
              "    <tr>\n",
              "      <th>60381</th>\n",
              "      <td>60</td>\n",
              "      <td>507</td>\n",
              "      <td>4.0</td>\n",
              "      <td>Streetcar Named Desire, A (1951)</td>\n",
              "    </tr>\n",
              "    <tr>\n",
              "      <th>46444</th>\n",
              "      <td>308</td>\n",
              "      <td>22</td>\n",
              "      <td>4.0</td>\n",
              "      <td>Braveheart (1995)</td>\n",
              "    </tr>\n",
              "    <tr>\n",
              "      <th>72272</th>\n",
              "      <td>111</td>\n",
              "      <td>272</td>\n",
              "      <td>3.0</td>\n",
              "      <td>Good Will Hunting (1997)</td>\n",
              "    </tr>\n",
              "  </tbody>\n",
              "</table>\n",
              "</div>\n",
              "    <div class=\"colab-df-buttons\">\n",
              "\n",
              "  <div class=\"colab-df-container\">\n",
              "    <button class=\"colab-df-convert\" onclick=\"convertToInteractive('df-49a41103-7efb-44be-967c-bf0302f101d0')\"\n",
              "            title=\"Convert this dataframe to an interactive table.\"\n",
              "            style=\"display:none;\">\n",
              "\n",
              "  <svg xmlns=\"http://www.w3.org/2000/svg\" height=\"24px\" viewBox=\"0 -960 960 960\">\n",
              "    <path d=\"M120-120v-720h720v720H120Zm60-500h600v-160H180v160Zm220 220h160v-160H400v160Zm0 220h160v-160H400v160ZM180-400h160v-160H180v160Zm440 0h160v-160H620v160ZM180-180h160v-160H180v160Zm440 0h160v-160H620v160Z\"/>\n",
              "  </svg>\n",
              "    </button>\n",
              "\n",
              "  <style>\n",
              "    .colab-df-container {\n",
              "      display:flex;\n",
              "      gap: 12px;\n",
              "    }\n",
              "\n",
              "    .colab-df-convert {\n",
              "      background-color: #E8F0FE;\n",
              "      border: none;\n",
              "      border-radius: 50%;\n",
              "      cursor: pointer;\n",
              "      display: none;\n",
              "      fill: #1967D2;\n",
              "      height: 32px;\n",
              "      padding: 0 0 0 0;\n",
              "      width: 32px;\n",
              "    }\n",
              "\n",
              "    .colab-df-convert:hover {\n",
              "      background-color: #E2EBFA;\n",
              "      box-shadow: 0px 1px 2px rgba(60, 64, 67, 0.3), 0px 1px 3px 1px rgba(60, 64, 67, 0.15);\n",
              "      fill: #174EA6;\n",
              "    }\n",
              "\n",
              "    .colab-df-buttons div {\n",
              "      margin-bottom: 4px;\n",
              "    }\n",
              "\n",
              "    [theme=dark] .colab-df-convert {\n",
              "      background-color: #3B4455;\n",
              "      fill: #D2E3FC;\n",
              "    }\n",
              "\n",
              "    [theme=dark] .colab-df-convert:hover {\n",
              "      background-color: #434B5C;\n",
              "      box-shadow: 0px 1px 3px 1px rgba(0, 0, 0, 0.15);\n",
              "      filter: drop-shadow(0px 1px 2px rgba(0, 0, 0, 0.3));\n",
              "      fill: #FFFFFF;\n",
              "    }\n",
              "  </style>\n",
              "\n",
              "    <script>\n",
              "      const buttonEl =\n",
              "        document.querySelector('#df-49a41103-7efb-44be-967c-bf0302f101d0 button.colab-df-convert');\n",
              "      buttonEl.style.display =\n",
              "        google.colab.kernel.accessAllowed ? 'block' : 'none';\n",
              "\n",
              "      async function convertToInteractive(key) {\n",
              "        const element = document.querySelector('#df-49a41103-7efb-44be-967c-bf0302f101d0');\n",
              "        const dataTable =\n",
              "          await google.colab.kernel.invokeFunction('convertToInteractive',\n",
              "                                                    [key], {});\n",
              "        if (!dataTable) return;\n",
              "\n",
              "        const docLinkHtml = 'Like what you see? Visit the ' +\n",
              "          '<a target=\"_blank\" href=https://colab.research.google.com/notebooks/data_table.ipynb>data table notebook</a>'\n",
              "          + ' to learn more about interactive tables.';\n",
              "        element.innerHTML = '';\n",
              "        dataTable['output_type'] = 'display_data';\n",
              "        await google.colab.output.renderOutput(dataTable, element);\n",
              "        const docLink = document.createElement('div');\n",
              "        docLink.innerHTML = docLinkHtml;\n",
              "        element.appendChild(docLink);\n",
              "      }\n",
              "    </script>\n",
              "  </div>\n",
              "\n",
              "\n",
              "<div id=\"df-470c06b4-b31d-4e91-be29-9da0c3144a55\">\n",
              "  <button class=\"colab-df-quickchart\" onclick=\"quickchart('df-470c06b4-b31d-4e91-be29-9da0c3144a55')\"\n",
              "            title=\"Suggest charts\"\n",
              "            style=\"display:none;\">\n",
              "\n",
              "<svg xmlns=\"http://www.w3.org/2000/svg\" height=\"24px\"viewBox=\"0 0 24 24\"\n",
              "     width=\"24px\">\n",
              "    <g>\n",
              "        <path d=\"M19 3H5c-1.1 0-2 .9-2 2v14c0 1.1.9 2 2 2h14c1.1 0 2-.9 2-2V5c0-1.1-.9-2-2-2zM9 17H7v-7h2v7zm4 0h-2V7h2v10zm4 0h-2v-4h2v4z\"/>\n",
              "    </g>\n",
              "</svg>\n",
              "  </button>\n",
              "\n",
              "<style>\n",
              "  .colab-df-quickchart {\n",
              "      --bg-color: #E8F0FE;\n",
              "      --fill-color: #1967D2;\n",
              "      --hover-bg-color: #E2EBFA;\n",
              "      --hover-fill-color: #174EA6;\n",
              "      --disabled-fill-color: #AAA;\n",
              "      --disabled-bg-color: #DDD;\n",
              "  }\n",
              "\n",
              "  [theme=dark] .colab-df-quickchart {\n",
              "      --bg-color: #3B4455;\n",
              "      --fill-color: #D2E3FC;\n",
              "      --hover-bg-color: #434B5C;\n",
              "      --hover-fill-color: #FFFFFF;\n",
              "      --disabled-bg-color: #3B4455;\n",
              "      --disabled-fill-color: #666;\n",
              "  }\n",
              "\n",
              "  .colab-df-quickchart {\n",
              "    background-color: var(--bg-color);\n",
              "    border: none;\n",
              "    border-radius: 50%;\n",
              "    cursor: pointer;\n",
              "    display: none;\n",
              "    fill: var(--fill-color);\n",
              "    height: 32px;\n",
              "    padding: 0;\n",
              "    width: 32px;\n",
              "  }\n",
              "\n",
              "  .colab-df-quickchart:hover {\n",
              "    background-color: var(--hover-bg-color);\n",
              "    box-shadow: 0 1px 2px rgba(60, 64, 67, 0.3), 0 1px 3px 1px rgba(60, 64, 67, 0.15);\n",
              "    fill: var(--button-hover-fill-color);\n",
              "  }\n",
              "\n",
              "  .colab-df-quickchart-complete:disabled,\n",
              "  .colab-df-quickchart-complete:disabled:hover {\n",
              "    background-color: var(--disabled-bg-color);\n",
              "    fill: var(--disabled-fill-color);\n",
              "    box-shadow: none;\n",
              "  }\n",
              "\n",
              "  .colab-df-spinner {\n",
              "    border: 2px solid var(--fill-color);\n",
              "    border-color: transparent;\n",
              "    border-bottom-color: var(--fill-color);\n",
              "    animation:\n",
              "      spin 1s steps(1) infinite;\n",
              "  }\n",
              "\n",
              "  @keyframes spin {\n",
              "    0% {\n",
              "      border-color: transparent;\n",
              "      border-bottom-color: var(--fill-color);\n",
              "      border-left-color: var(--fill-color);\n",
              "    }\n",
              "    20% {\n",
              "      border-color: transparent;\n",
              "      border-left-color: var(--fill-color);\n",
              "      border-top-color: var(--fill-color);\n",
              "    }\n",
              "    30% {\n",
              "      border-color: transparent;\n",
              "      border-left-color: var(--fill-color);\n",
              "      border-top-color: var(--fill-color);\n",
              "      border-right-color: var(--fill-color);\n",
              "    }\n",
              "    40% {\n",
              "      border-color: transparent;\n",
              "      border-right-color: var(--fill-color);\n",
              "      border-top-color: var(--fill-color);\n",
              "    }\n",
              "    60% {\n",
              "      border-color: transparent;\n",
              "      border-right-color: var(--fill-color);\n",
              "    }\n",
              "    80% {\n",
              "      border-color: transparent;\n",
              "      border-right-color: var(--fill-color);\n",
              "      border-bottom-color: var(--fill-color);\n",
              "    }\n",
              "    90% {\n",
              "      border-color: transparent;\n",
              "      border-bottom-color: var(--fill-color);\n",
              "    }\n",
              "  }\n",
              "</style>\n",
              "\n",
              "  <script>\n",
              "    async function quickchart(key) {\n",
              "      const quickchartButtonEl =\n",
              "        document.querySelector('#' + key + ' button');\n",
              "      quickchartButtonEl.disabled = true;  // To prevent multiple clicks.\n",
              "      quickchartButtonEl.classList.add('colab-df-spinner');\n",
              "      try {\n",
              "        const charts = await google.colab.kernel.invokeFunction(\n",
              "            'suggestCharts', [key], {});\n",
              "      } catch (error) {\n",
              "        console.error('Error during call to suggestCharts:', error);\n",
              "      }\n",
              "      quickchartButtonEl.classList.remove('colab-df-spinner');\n",
              "      quickchartButtonEl.classList.add('colab-df-quickchart-complete');\n",
              "    }\n",
              "    (() => {\n",
              "      let quickchartButtonEl =\n",
              "        document.querySelector('#df-470c06b4-b31d-4e91-be29-9da0c3144a55 button');\n",
              "      quickchartButtonEl.style.display =\n",
              "        google.colab.kernel.accessAllowed ? 'block' : 'none';\n",
              "    })();\n",
              "  </script>\n",
              "</div>\n",
              "\n",
              "    </div>\n",
              "  </div>\n"
            ],
            "application/vnd.google.colaboratory.intrinsic+json": {
              "type": "dataframe",
              "summary": "{\n  \"name\": \"df_train\",\n  \"rows\": 5,\n  \"fields\": [\n    {\n      \"column\": \"uid\",\n      \"properties\": {\n        \"dtype\": \"number\",\n        \"std\": 351,\n        \"min\": 60,\n        \"max\": 942,\n        \"num_unique_values\": 5,\n        \"samples\": [\n          942,\n          111,\n          60\n        ],\n        \"semantic_type\": \"\",\n        \"description\": \"\"\n      }\n    },\n    {\n      \"column\": \"iid\",\n      \"properties\": {\n        \"dtype\": \"number\",\n        \"std\": 360,\n        \"min\": 22,\n        \"max\": 921,\n        \"num_unique_values\": 5,\n        \"samples\": [\n          750,\n          272,\n          507\n        ],\n        \"semantic_type\": \"\",\n        \"description\": \"\"\n      }\n    },\n    {\n      \"column\": \"rating\",\n      \"properties\": {\n        \"dtype\": \"number\",\n        \"std\": 0.4472135954999579,\n        \"min\": 3.0,\n        \"max\": 4.0,\n        \"num_unique_values\": 2,\n        \"samples\": [\n          3.0,\n          4.0\n        ],\n        \"semantic_type\": \"\",\n        \"description\": \"\"\n      }\n    },\n    {\n      \"column\": \"item_name\",\n      \"properties\": {\n        \"dtype\": \"string\",\n        \"num_unique_values\": 5,\n        \"samples\": [\n          \"Amistad (1997)\",\n          \"Good Will Hunting (1997)\"\n        ],\n        \"semantic_type\": \"\",\n        \"description\": \"\"\n      }\n    }\n  ]\n}"
            }
          },
          "metadata": {},
          "execution_count": 4
        }
      ]
    },
    {
      "cell_type": "markdown",
      "source": [
        "uid : user id\n",
        "\n",
        "iid : item id"
      ],
      "metadata": {
        "id": "O2-pLHygpZWe"
      }
    },
    {
      "cell_type": "code",
      "source": [
        "nbr_uniq_mov = len(set(df_train.iid))\n",
        "nbr_uniq_mov"
      ],
      "metadata": {
        "id": "7jn7YeKepfWY",
        "outputId": "b0da0dd4-7877-44d5-f001-aa518ef012d0",
        "colab": {
          "base_uri": "https://localhost:8080/"
        }
      },
      "execution_count": 5,
      "outputs": [
        {
          "output_type": "execute_result",
          "data": {
            "text/plain": [
              "1629"
            ]
          },
          "metadata": {},
          "execution_count": 5
        }
      ]
    },
    {
      "cell_type": "markdown",
      "source": [
        "1646 unique movies."
      ],
      "metadata": {
        "id": "MufCXIOGpoTk"
      }
    },
    {
      "cell_type": "code",
      "source": [
        "nbr_uniq_user = len(set(df_train.uid))\n",
        "nbr_uniq_user"
      ],
      "metadata": {
        "id": "VAh7-KA1prjW",
        "outputId": "0f93dcb1-9b72-4804-9798-fb173f9d7a18",
        "colab": {
          "base_uri": "https://localhost:8080/"
        }
      },
      "execution_count": 6,
      "outputs": [
        {
          "output_type": "execute_result",
          "data": {
            "text/plain": [
              "943"
            ]
          },
          "metadata": {},
          "execution_count": 6
        }
      ]
    },
    {
      "cell_type": "markdown",
      "source": [
        "943 unique users."
      ],
      "metadata": {
        "id": "mk_K_PgBp4OP"
      }
    },
    {
      "cell_type": "code",
      "source": [
        "import numpy as np\n",
        "avg_nbr_rat = df_train.iid.value_counts().mean()\n",
        "avg_nbr_rat"
      ],
      "metadata": {
        "id": "x201DMk0p7yK",
        "outputId": "e06ada2a-491c-4fc3-9998-1dd5cd33cd0d",
        "colab": {
          "base_uri": "https://localhost:8080/"
        }
      },
      "execution_count": 7,
      "outputs": [
        {
          "output_type": "execute_result",
          "data": {
            "text/plain": [
              "46.04051565377532"
            ]
          },
          "metadata": {},
          "execution_count": 7
        }
      ]
    },
    {
      "cell_type": "markdown",
      "source": [
        "On average, each user has rated 45 movies."
      ],
      "metadata": {
        "id": "cUHbsw-gqVJr"
      }
    },
    {
      "cell_type": "code",
      "source": [
        "ratings_dist = df_train.rating.value_counts()/df_train.shape[0]*100"
      ],
      "metadata": {
        "id": "TGuZL0Pur8fi"
      },
      "execution_count": 8,
      "outputs": []
    },
    {
      "cell_type": "code",
      "source": [
        "import matplotlib.pyplot as plt\n",
        "plt.bar(ratings_dist.index, ratings_dist.values)\n",
        "plt.title('Distribution of movie ratings')\n",
        "plt.show()"
      ],
      "metadata": {
        "colab": {
          "base_uri": "https://localhost:8080/",
          "height": 452
        },
        "id": "o9XgtZCoSzQs",
        "outputId": "c928a573-bcd8-4975-8578-3e0a05ef83c1"
      },
      "execution_count": 9,
      "outputs": [
        {
          "output_type": "display_data",
          "data": {
            "text/plain": [
              "<Figure size 640x480 with 1 Axes>"
            ],
            "image/png": "[encoded data removed]"
          },
          "metadata": {}
        }
      ]
    },
    {
      "cell_type": "markdown",
      "source": [
        "34% of the ratings are 4\n",
        "\n",
        "27% are 3\n",
        "\n",
        "21% are 5\n",
        "\n",
        "11% are 2\n",
        "\n",
        "6% are 1"
      ],
      "metadata": {
        "id": "bTC_L5_MsDE8"
      }
    },
    {
      "cell_type": "code",
      "source": [
        "rat_per_user_dist = df_train.groupby('uid').rating.mean()"
      ],
      "metadata": {
        "id": "CZorBHXVT1On"
      },
      "execution_count": 10,
      "outputs": []
    },
    {
      "cell_type": "code",
      "source": [
        "import seaborn as sns\n",
        "sns.histplot(rat_per_user_dist, bins = 30, kde = True)\n",
        "plt.title('Distribution of Average Ratings per User')\n",
        "plt.xlabel('Average Rating')\n",
        "plt.ylabel('Frequency')\n",
        "plt.show()"
      ],
      "metadata": {
        "colab": {
          "base_uri": "https://localhost:8080/",
          "height": 472
        },
        "id": "PtIW5c2vT_XD",
        "outputId": "df2d7682-24c7-4c21-94cb-355d9d11095f"
      },
      "execution_count": 11,
      "outputs": [
        {
          "output_type": "display_data",
          "data": {
            "text/plain": [
              "<Figure size 640x480 with 1 Axes>"
            ],
            "image/png": "[encoded data removed]"
          },
          "metadata": {}
        }
      ]
    },
    {
      "cell_type": "code",
      "source": [
        "avg_rat_per_user = df_train.groupby('uid').rating.mean().sum()/nbr_uniq_user\n",
        "avg_rat_per_user"
      ],
      "metadata": {
        "id": "1fYCVzS9sPYG",
        "outputId": "a9c7bd95-2245-40da-d371-797d657d0caa",
        "colab": {
          "base_uri": "https://localhost:8080/"
        }
      },
      "execution_count": 12,
      "outputs": [
        {
          "output_type": "execute_result",
          "data": {
            "text/plain": [
              "3.585487050532467"
            ]
          },
          "metadata": {},
          "execution_count": 12
        }
      ]
    },
    {
      "cell_type": "markdown",
      "source": [
        "The average rating per user is 3.59"
      ],
      "metadata": {
        "id": "zJxkoNq_hJk8"
      }
    },
    {
      "cell_type": "code",
      "source": [
        "avg_rat_mov_dist = df_train.groupby('iid').rating.mean()\n",
        "sns.histplot(avg_rat_mov_dist, bins = 30, kde = True)\n",
        "plt.title('Distribution of Average Ratings per Movie')\n",
        "plt.xlabel('Average Rating')\n",
        "plt.ylabel('Frequency')\n",
        "plt.show()"
      ],
      "metadata": {
        "colab": {
          "base_uri": "https://localhost:8080/",
          "height": 472
        },
        "id": "b3ooLRMZUtLT",
        "outputId": "9303709e-a176-4fa1-f053-23d5ca4f6784"
      },
      "execution_count": 13,
      "outputs": [
        {
          "output_type": "display_data",
          "data": {
            "text/plain": [
              "<Figure size 640x480 with 1 Axes>"
            ],
            "image/png": "[encoded data removed]"
          },
          "metadata": {}
        }
      ]
    },
    {
      "cell_type": "code",
      "source": [
        "avg_rat_per_mov = df_train.groupby('iid').rating.mean().sum()/nbr_uniq_mov\n",
        "avg_rat_per_mov"
      ],
      "metadata": {
        "id": "NSboB5t4hMlh",
        "outputId": "a85ae64f-8f7b-4b89-eef9-4281982be0ca",
        "colab": {
          "base_uri": "https://localhost:8080/"
        }
      },
      "execution_count": 14,
      "outputs": [
        {
          "output_type": "execute_result",
          "data": {
            "text/plain": [
              "3.1077027851321612"
            ]
          },
          "metadata": {},
          "execution_count": 14
        }
      ]
    },
    {
      "cell_type": "markdown",
      "source": [
        "The average rating per movie is 3.1"
      ],
      "metadata": {
        "id": "TaZv0KjVhbLi"
      }
    },
    {
      "cell_type": "code",
      "source": [
        "df_train.groupby('item_name').rating.mean().sort_values()"
      ],
      "metadata": {
        "id": "9hK7QHWfhk4R",
        "outputId": "b1335a1c-97af-4c9f-c838-a3ddae1d11b1",
        "colab": {
          "base_uri": "https://localhost:8080/"
        }
      },
      "execution_count": 15,
      "outputs": [
        {
          "output_type": "execute_result",
          "data": {
            "text/plain": [
              "item_name\n",
              "Somebody to Love (1994)          1.0\n",
              "Daens (1992)                     1.0\n",
              "King of New York (1990)          1.0\n",
              "Ed (1996)                        1.0\n",
              "Baton Rouge (1988)               1.0\n",
              "                                ... \n",
              "Star Kid (1997)                  5.0\n",
              "Prefontaine (1997)               5.0\n",
              "Someone Else's America (1995)    5.0\n",
              "Santa with Muscles (1996)        5.0\n",
              "Great Day in Harlem, A (1994)    5.0\n",
              "Name: rating, Length: 1614, dtype: float64"
            ]
          },
          "metadata": {},
          "execution_count": 15
        }
      ]
    },
    {
      "cell_type": "markdown",
      "source": [
        "Worst rated :\n",
        "\n",
        "Death in the Garden (Mort en ce jardin, La) (1956)    \n",
        "Terror in a Texas Town (1958)                        \n",
        "Men of Means (1998)                                   \n",
        "Amityville: Dollhouse (1996)                          \n",
        "Amityville: A New Generation (1993)\n",
        "\n",
        "Best rated  :\n",
        "\n",
        "They Made Me a Criminal (1939)                        \n",
        "Great Day in Harlem, A (1994)                         \n",
        "Prefontaine (1997)                                    \n",
        "Someone Else's America (1995)                         \n",
        "Marlene Dietrich: Shadow and Light (1996)"
      ],
      "metadata": {
        "id": "P37_Qk9Dh023"
      }
    },
    {
      "cell_type": "code",
      "source": [
        "df_train.item_name.value_counts() > 9"
      ],
      "metadata": {
        "id": "XwDhReY5lB39",
        "outputId": "51047d5c-aefb-4f8b-e8bf-dcbda596df25",
        "colab": {
          "base_uri": "https://localhost:8080/"
        }
      },
      "execution_count": 16,
      "outputs": [
        {
          "output_type": "execute_result",
          "data": {
            "text/plain": [
              "Star Wars (1977)                 True\n",
              "Contact (1997)                   True\n",
              "Fargo (1996)                     True\n",
              "Return of the Jedi (1983)        True\n",
              "English Patient, The (1996)      True\n",
              "                                ...  \n",
              "Boys, Les (1997)                False\n",
              "Catwalk (1995)                  False\n",
              "Sunchaser, The (1996)           False\n",
              "Good Man in Africa, A (1994)    False\n",
              "Shooter, The (1995)             False\n",
              "Name: item_name, Length: 1614, dtype: bool"
            ]
          },
          "metadata": {},
          "execution_count": 16
        }
      ]
    },
    {
      "cell_type": "code",
      "source": [
        "df_train[df_train.item_name.isin((df_train.item_name.value_counts() > 9).loc[lambda x : x ].index.tolist())].groupby('item_name').rating.mean().sort_values()"
      ],
      "metadata": {
        "id": "l5QIda5NiL1g",
        "outputId": "b6188440-b5fd-4efe-fea4-a251b6febbc4",
        "colab": {
          "base_uri": "https://localhost:8080/"
        }
      },
      "execution_count": 17,
      "outputs": [
        {
          "output_type": "execute_result",
          "data": {
            "text/plain": [
              "item_name\n",
              "Children of the Corn: The Gathering (1996)    1.333333\n",
              "Body Parts (1991)                             1.545455\n",
              "Mr. Magoo (1997)                              1.636364\n",
              "Free Willy 3: The Rescue (1997)               1.650000\n",
              "Home Alone 3 (1997)                           1.733333\n",
              "                                                ...   \n",
              "Casablanca (1942)                             4.429348\n",
              "Shall We Dance? (1996)                        4.441176\n",
              "Shawshank Redemption, The (1994)              4.461905\n",
              "Schindler's List (1993)                       4.489083\n",
              "Close Shave, A (1995)                         4.500000\n",
              "Name: rating, Length: 1055, dtype: float64"
            ]
          },
          "metadata": {},
          "execution_count": 17
        }
      ]
    },
    {
      "cell_type": "markdown",
      "source": [
        "Children of the Corn: The Gathering (1996) is the worst rated movie that has been seen by more than 10 users.\n",
        "\n",
        "Wallace & Gromit: The Best of Aardman Animation (1996) is the best rated movie that has been seen by more than 10 users."
      ],
      "metadata": {
        "id": "6FVhBat4p_C_"
      }
    },
    {
      "cell_type": "code",
      "source": [
        "df_train.groupby('uid').rating.mean().sort_values()"
      ],
      "metadata": {
        "id": "ftGV5xDDqR36",
        "outputId": "e898cfb6-b9cf-43cb-f27a-791ba78b1736",
        "colab": {
          "base_uri": "https://localhost:8080/"
        }
      },
      "execution_count": 18,
      "outputs": [
        {
          "output_type": "execute_result",
          "data": {
            "text/plain": [
              "uid\n",
              "181    1.529231\n",
              "405    1.796964\n",
              "724    2.015152\n",
              "685    2.062500\n",
              "445    2.079208\n",
              "         ...   \n",
              "565    4.681818\n",
              "628    4.700000\n",
              "507    4.760870\n",
              "849    4.823529\n",
              "688    4.833333\n",
              "Name: rating, Length: 943, dtype: float64"
            ]
          },
          "metadata": {},
          "execution_count": 18
        }
      ]
    },
    {
      "cell_type": "markdown",
      "source": [
        "The user '181' is the user with the worst movie ratings.\n",
        "\n",
        "The user '849' is the user with the best movie ratings."
      ],
      "metadata": {
        "id": "huTds8OMqa3Z"
      }
    },
    {
      "cell_type": "markdown",
      "source": [
        "## Part 2. Baseline Recommendations\n",
        "\n",
        "Before we build our recommender system model, we must compare its performance to some simple baselines so that we can tell whether our model has any added value.\n",
        "\n",
        "**Questions**:\n",
        "\n",
        "3. If we predict the the overall mean movie rating for every movie (of the movies in the train set), what RMSE do we achieve on the test set? (For every sample in `df_test`, compare the observed rating to the overall mean.)"
      ],
      "metadata": {
        "id": "wyteEewDyb_L"
      }
    },
    {
      "cell_type": "code",
      "source": [
        "# your code here\n",
        "from sklearn.metrics import mean_squared_error\n",
        "y_pred_mean = [df_train.rating.mean()] * df_test.shape[0]\n",
        "rmse_base_mean = np.sqrt(mean_squared_error(df_test.rating,y_pred_mean))"
      ],
      "metadata": {
        "id": "e43g8-vTXoMb"
      },
      "execution_count": 19,
      "outputs": []
    },
    {
      "cell_type": "code",
      "source": [
        "rmse_base_mean"
      ],
      "metadata": {
        "id": "e5ARSYijrOob",
        "outputId": "babed72c-2e2a-44b3-c2fd-5a690ebc23b2",
        "colab": {
          "base_uri": "https://localhost:8080/"
        }
      },
      "execution_count": 20,
      "outputs": [
        {
          "output_type": "execute_result",
          "data": {
            "text/plain": [
              "1.1242315427783451"
            ]
          },
          "metadata": {},
          "execution_count": 20
        }
      ]
    },
    {
      "cell_type": "markdown",
      "source": [
        "We get a rmse of 1.1244."
      ],
      "metadata": {
        "id": "DPPZ1bi3rQZ_"
      }
    },
    {
      "cell_type": "markdown",
      "source": [
        "4. What RMSE do we achieve if we instead use predict using per-user mean ratings? What about per-movie mean ratings?"
      ],
      "metadata": {
        "id": "kC6tPDI40m44"
      }
    },
    {
      "cell_type": "code",
      "source": [
        "# your code here\n",
        "y_pred_peruser = [avg_rat_per_user] * df_test.shape[0]\n",
        "rmse_base_peruser = np.sqrt(mean_squared_error(df_test.rating,y_pred_peruser))\n",
        "rmse_base_peruser"
      ],
      "metadata": {
        "id": "5_l881_UXp5C",
        "outputId": "204d5373-2072-4344-c5ec-938e4b51fb6d",
        "colab": {
          "base_uri": "https://localhost:8080/"
        }
      },
      "execution_count": 21,
      "outputs": [
        {
          "output_type": "execute_result",
          "data": {
            "text/plain": [
              "1.1252080196731555"
            ]
          },
          "metadata": {},
          "execution_count": 21
        }
      ]
    },
    {
      "cell_type": "markdown",
      "source": [
        "We get a rmse of 1.1255 by using the per user mean rating."
      ],
      "metadata": {
        "id": "0sFbNvt4rs8A"
      }
    },
    {
      "cell_type": "code",
      "source": [
        "y_pred_permov = [avg_rat_per_mov] * df_test.shape[0]\n",
        "rmse_base_permov = mean_squared_error(y_pred_permov,df_test.rating)\n",
        "rmse_base_permov"
      ],
      "metadata": {
        "id": "7VmDLD1urylO",
        "outputId": "dd5009ef-facf-4426-b3b3-bcefc4618a00",
        "colab": {
          "base_uri": "https://localhost:8080/"
        }
      },
      "execution_count": 22,
      "outputs": [
        {
          "output_type": "execute_result",
          "data": {
            "text/plain": [
              "1.4485350877967456"
            ]
          },
          "metadata": {},
          "execution_count": 22
        }
      ]
    },
    {
      "cell_type": "markdown",
      "source": [
        "We get a rmse of 1.4623 by using the per movie mean rating."
      ],
      "metadata": {
        "id": "faIxK2hdr_jn"
      }
    },
    {
      "cell_type": "markdown",
      "source": [
        "**Note:** Other useful baselines include giving random recommendations to users, and recommending the same (popular) movies are to all users. You could also get a better idea of the model's performance by calculating p@k (precision-at-k) metrics for these baselines. Feel free to calculate these as a bonus challenge."
      ],
      "metadata": {
        "id": "2XtK9ZS8O76R"
      }
    },
    {
      "cell_type": "markdown",
      "metadata": {
        "id": "yONBqL_itEh8"
      },
      "source": [
        "## Part 3. Building a Recommender System\n",
        "\n",
        "In this section, we will use the popular matrix factorization collaborative filtering algorithm to generate movie recommendations.\n",
        "\n",
        "For more details on the algorithm and the implementation in Surprise, see: [Surprise documentation - Matrix factorization-based algorithms](https://surprise.readthedocs.io/en/stable/matrix_factorization.html)\n",
        "\n",
        "**Questions:**\n",
        "5. Initialize a `surprise.SVD` object with argument `biased=False`, and save it in a variable `model`. (We covered the unbiased version of this algorithm in class. See the documentation link above for details on the algorithm with biases, which is a slight improvement to the algorithm.)"
      ]
    },
    {
      "cell_type": "code",
      "source": [
        "# your code here\n",
        "from surprise import SVD\n",
        "model = SVD(biased = False)"
      ],
      "metadata": {
        "id": "DcweY4VLXrc1"
      },
      "execution_count": 23,
      "outputs": []
    },
    {
      "cell_type": "markdown",
      "source": [
        "6. Fit the model to the training data using `model.fit(...)`. Note: This requires training data in the format of the variable `trainset` loaded above."
      ],
      "metadata": {
        "id": "wK0OsGgQwTnX"
      }
    },
    {
      "cell_type": "code",
      "source": [
        "# your code here\n",
        "model.fit(trainset)"
      ],
      "metadata": {
        "id": "HBeUu913Xr00",
        "outputId": "ab9b35b5-e844-4a01-b12e-d7d16149bec2",
        "colab": {
          "base_uri": "https://localhost:8080/"
        }
      },
      "execution_count": 24,
      "outputs": [
        {
          "output_type": "execute_result",
          "data": {
            "text/plain": [
              "<surprise.prediction_algorithms.matrix_factorization.SVD at 0x7fdf5caa1bd0>"
            ]
          },
          "metadata": {},
          "execution_count": 24
        }
      ]
    },
    {
      "cell_type": "markdown",
      "source": [
        "7. Generate predictions for the test data using `model.test(...)` and save them in a variable `preds`. Note: This requires training data in the format of the variable `testset` loaded above."
      ],
      "metadata": {
        "id": "cA-_UTZBwVwY"
      }
    },
    {
      "cell_type": "code",
      "source": [
        "# your code here\n",
        "preds = model.test(testset)"
      ],
      "metadata": {
        "id": "h-12eXqCXsSX"
      },
      "execution_count": 25,
      "outputs": []
    },
    {
      "cell_type": "markdown",
      "source": [
        "8. Use the code given below to convert the list format of `preds` to a DataFrame `df_preds`, and examine the data it contains. It might be easier to work with this for some of the following questions."
      ],
      "metadata": {
        "id": "yXcPF0XBwXfC"
      }
    },
    {
      "cell_type": "code",
      "metadata": {
        "id": "Cwrn9HU_vdCo"
      },
      "source": [
        "### CODE FOR QUESTION 8 ####\n",
        "df_preds = pd.DataFrame([\n",
        "  {'uid': p.uid, 'iid': p.iid, 'rating': p.r_ui, 'estimated': p.est}\n",
        "  for p in preds\n",
        "])\n",
        "df_preds.uid = df_preds.uid.astype(int)\n",
        "df_preds.iid = df_preds.iid.astype(int)\n",
        "df_preds = pd.merge(df_preds, item_data, how='left')"
      ],
      "execution_count": 26,
      "outputs": []
    },
    {
      "cell_type": "code",
      "source": [
        "df_preds"
      ],
      "metadata": {
        "id": "21VfK4X-4nJW",
        "outputId": "79c1da75-69a7-4c37-ab67-e4a7de1fbfde",
        "colab": {
          "base_uri": "https://localhost:8080/",
          "height": 424
        }
      },
      "execution_count": 27,
      "outputs": [
        {
          "output_type": "execute_result",
          "data": {
            "text/plain": [
              "       uid  iid  rating  estimated                           item_name\n",
              "0       44  208     4.0   3.696253           Young Frankenstein (1974)\n",
              "1      649  275     2.0   4.176183        Sense and Sensibility (1995)\n",
              "2      490  127     5.0   3.396161               Godfather, The (1972)\n",
              "3       94   89     3.0   4.813968                 Blade Runner (1982)\n",
              "4      102  443     3.0   3.131227                   Birds, The (1963)\n",
              "...    ...  ...     ...        ...                                 ...\n",
              "24995  151  197     5.0   4.460720                Graduate, The (1967)\n",
              "24996  296  498     5.0   4.457424           African Queen, The (1951)\n",
              "24997  154  806     4.0   3.689895            Menace II Society (1993)\n",
              "24998  587  316     4.0   3.832808           As Good As It Gets (1997)\n",
              "24999  536  561     3.0   3.243319  Mary Shelley's Frankenstein (1994)\n",
              "\n",
              "[25000 rows x 5 columns]"
            ],
            "text/html": [
              "\n",
              "  <div id=\"df-027b7fd6-3834-4777-baab-1d024c0d8a34\" class=\"colab-df-container\">\n",
              "    <div>\n",
              "<style scoped>\n",
              "    .dataframe tbody tr th:only-of-type {\n",
              "        vertical-align: middle;\n",
              "    }\n",
              "\n",
              "    .dataframe tbody tr th {\n",
              "        vertical-align: top;\n",
              "    }\n",
              "\n",
              "    .dataframe thead th {\n",
              "        text-align: right;\n",
              "    }\n",
              "</style>\n",
              "<table border=\"1\" class=\"dataframe\">\n",
              "  <thead>\n",
              "    <tr style=\"text-align: right;\">\n",
              "      <th></th>\n",
              "      <th>uid</th>\n",
              "      <th>iid</th>\n",
              "      <th>rating</th>\n",
              "      <th>estimated</th>\n",
              "      <th>item_name</th>\n",
              "    </tr>\n",
              "  </thead>\n",
              "  <tbody>\n",
              "    <tr>\n",
              "      <th>0</th>\n",
              "      <td>44</td>\n",
              "      <td>208</td>\n",
              "      <td>4.0</td>\n",
              "      <td>3.696253</td>\n",
              "      <td>Young Frankenstein (1974)</td>\n",
              "    </tr>\n",
              "    <tr>\n",
              "      <th>1</th>\n",
              "      <td>649</td>\n",
              "      <td>275</td>\n",
              "      <td>2.0</td>\n",
              "      <td>4.176183</td>\n",
              "      <td>Sense and Sensibility (1995)</td>\n",
              "    </tr>\n",
              "    <tr>\n",
              "      <th>2</th>\n",
              "      <td>490</td>\n",
              "      <td>127</td>\n",
              "      <td>5.0</td>\n",
              "      <td>3.396161</td>\n",
              "      <td>Godfather, The (1972)</td>\n",
              "    </tr>\n",
              "    <tr>\n",
              "      <th>3</th>\n",
              "      <td>94</td>\n",
              "      <td>89</td>\n",
              "      <td>3.0</td>\n",
              "      <td>4.813968</td>\n",
              "      <td>Blade Runner (1982)</td>\n",
              "    </tr>\n",
              "    <tr>\n",
              "      <th>4</th>\n",
              "      <td>102</td>\n",
              "      <td>443</td>\n",
              "      <td>3.0</td>\n",
              "      <td>3.131227</td>\n",
              "      <td>Birds, The (1963)</td>\n",
              "    </tr>\n",
              "    <tr>\n",
              "      <th>...</th>\n",
              "      <td>...</td>\n",
              "      <td>...</td>\n",
              "      <td>...</td>\n",
              "      <td>...</td>\n",
              "      <td>...</td>\n",
              "    </tr>\n",
              "    <tr>\n",
              "      <th>24995</th>\n",
              "      <td>151</td>\n",
              "      <td>197</td>\n",
              "      <td>5.0</td>\n",
              "      <td>4.460720</td>\n",
              "      <td>Graduate, The (1967)</td>\n",
              "    </tr>\n",
              "    <tr>\n",
              "      <th>24996</th>\n",
              "      <td>296</td>\n",
              "      <td>498</td>\n",
              "      <td>5.0</td>\n",
              "      <td>4.457424</td>\n",
              "      <td>African Queen, The (1951)</td>\n",
              "    </tr>\n",
              "    <tr>\n",
              "      <th>24997</th>\n",
              "      <td>154</td>\n",
              "      <td>806</td>\n",
              "      <td>4.0</td>\n",
              "      <td>3.689895</td>\n",
              "      <td>Menace II Society (1993)</td>\n",
              "    </tr>\n",
              "    <tr>\n",
              "      <th>24998</th>\n",
              "      <td>587</td>\n",
              "      <td>316</td>\n",
              "      <td>4.0</td>\n",
              "      <td>3.832808</td>\n",
              "      <td>As Good As It Gets (1997)</td>\n",
              "    </tr>\n",
              "    <tr>\n",
              "      <th>24999</th>\n",
              "      <td>536</td>\n",
              "      <td>561</td>\n",
              "      <td>3.0</td>\n",
              "      <td>3.243319</td>\n",
              "      <td>Mary Shelley's Frankenstein (1994)</td>\n",
              "    </tr>\n",
              "  </tbody>\n",
              "</table>\n",
              "<p>25000 rows × 5 columns</p>\n",
              "</div>\n",
              "    <div class=\"colab-df-buttons\">\n",
              "\n",
              "  <div class=\"colab-df-container\">\n",
              "    <button class=\"colab-df-convert\" onclick=\"convertToInteractive('df-027b7fd6-3834-4777-baab-1d024c0d8a34')\"\n",
              "            title=\"Convert this dataframe to an interactive table.\"\n",
              "            style=\"display:none;\">\n",
              "\n",
              "  <svg xmlns=\"http://www.w3.org/2000/svg\" height=\"24px\" viewBox=\"0 -960 960 960\">\n",
              "    <path d=\"M120-120v-720h720v720H120Zm60-500h600v-160H180v160Zm220 220h160v-160H400v160Zm0 220h160v-160H400v160ZM180-400h160v-160H180v160Zm440 0h160v-160H620v160ZM180-180h160v-160H180v160Zm440 0h160v-160H620v160Z\"/>\n",
              "  </svg>\n",
              "    </button>\n",
              "\n",
              "  <style>\n",
              "    .colab-df-container {\n",
              "      display:flex;\n",
              "      gap: 12px;\n",
              "    }\n",
              "\n",
              "    .colab-df-convert {\n",
              "      background-color: #E8F0FE;\n",
              "      border: none;\n",
              "      border-radius: 50%;\n",
              "      cursor: pointer;\n",
              "      display: none;\n",
              "      fill: #1967D2;\n",
              "      height: 32px;\n",
              "      padding: 0 0 0 0;\n",
              "      width: 32px;\n",
              "    }\n",
              "\n",
              "    .colab-df-convert:hover {\n",
              "      background-color: #E2EBFA;\n",
              "      box-shadow: 0px 1px 2px rgba(60, 64, 67, 0.3), 0px 1px 3px 1px rgba(60, 64, 67, 0.15);\n",
              "      fill: #174EA6;\n",
              "    }\n",
              "\n",
              "    .colab-df-buttons div {\n",
              "      margin-bottom: 4px;\n",
              "    }\n",
              "\n",
              "    [theme=dark] .colab-df-convert {\n",
              "      background-color: #3B4455;\n",
              "      fill: #D2E3FC;\n",
              "    }\n",
              "\n",
              "    [theme=dark] .colab-df-convert:hover {\n",
              "      background-color: #434B5C;\n",
              "      box-shadow: 0px 1px 3px 1px rgba(0, 0, 0, 0.15);\n",
              "      filter: drop-shadow(0px 1px 2px rgba(0, 0, 0, 0.3));\n",
              "      fill: #FFFFFF;\n",
              "    }\n",
              "  </style>\n",
              "\n",
              "    <script>\n",
              "      const buttonEl =\n",
              "        document.querySelector('#df-027b7fd6-3834-4777-baab-1d024c0d8a34 button.colab-df-convert');\n",
              "      buttonEl.style.display =\n",
              "        google.colab.kernel.accessAllowed ? 'block' : 'none';\n",
              "\n",
              "      async function convertToInteractive(key) {\n",
              "        const element = document.querySelector('#df-027b7fd6-3834-4777-baab-1d024c0d8a34');\n",
              "        const dataTable =\n",
              "          await google.colab.kernel.invokeFunction('convertToInteractive',\n",
              "                                                    [key], {});\n",
              "        if (!dataTable) return;\n",
              "\n",
              "        const docLinkHtml = 'Like what you see? Visit the ' +\n",
              "          '<a target=\"_blank\" href=https://colab.research.google.com/notebooks/data_table.ipynb>data table notebook</a>'\n",
              "          + ' to learn more about interactive tables.';\n",
              "        element.innerHTML = '';\n",
              "        dataTable['output_type'] = 'display_data';\n",
              "        await google.colab.output.renderOutput(dataTable, element);\n",
              "        const docLink = document.createElement('div');\n",
              "        docLink.innerHTML = docLinkHtml;\n",
              "        element.appendChild(docLink);\n",
              "      }\n",
              "    </script>\n",
              "  </div>\n",
              "\n",
              "\n",
              "<div id=\"df-973d0b06-c3da-411c-8594-ebbcfadb13ac\">\n",
              "  <button class=\"colab-df-quickchart\" onclick=\"quickchart('df-973d0b06-c3da-411c-8594-ebbcfadb13ac')\"\n",
              "            title=\"Suggest charts\"\n",
              "            style=\"display:none;\">\n",
              "\n",
              "<svg xmlns=\"http://www.w3.org/2000/svg\" height=\"24px\"viewBox=\"0 0 24 24\"\n",
              "     width=\"24px\">\n",
              "    <g>\n",
              "        <path d=\"M19 3H5c-1.1 0-2 .9-2 2v14c0 1.1.9 2 2 2h14c1.1 0 2-.9 2-2V5c0-1.1-.9-2-2-2zM9 17H7v-7h2v7zm4 0h-2V7h2v10zm4 0h-2v-4h2v4z\"/>\n",
              "    </g>\n",
              "</svg>\n",
              "  </button>\n",
              "\n",
              "<style>\n",
              "  .colab-df-quickchart {\n",
              "      --bg-color: #E8F0FE;\n",
              "      --fill-color: #1967D2;\n",
              "      --hover-bg-color: #E2EBFA;\n",
              "      --hover-fill-color: #174EA6;\n",
              "      --disabled-fill-color: #AAA;\n",
              "      --disabled-bg-color: #DDD;\n",
              "  }\n",
              "\n",
              "  [theme=dark] .colab-df-quickchart {\n",
              "      --bg-color: #3B4455;\n",
              "      --fill-color: #D2E3FC;\n",
              "      --hover-bg-color: #434B5C;\n",
              "      --hover-fill-color: #FFFFFF;\n",
              "      --disabled-bg-color: #3B4455;\n",
              "      --disabled-fill-color: #666;\n",
              "  }\n",
              "\n",
              "  .colab-df-quickchart {\n",
              "    background-color: var(--bg-color);\n",
              "    border: none;\n",
              "    border-radius: 50%;\n",
              "    cursor: pointer;\n",
              "    display: none;\n",
              "    fill: var(--fill-color);\n",
              "    height: 32px;\n",
              "    padding: 0;\n",
              "    width: 32px;\n",
              "  }\n",
              "\n",
              "  .colab-df-quickchart:hover {\n",
              "    background-color: var(--hover-bg-color);\n",
              "    box-shadow: 0 1px 2px rgba(60, 64, 67, 0.3), 0 1px 3px 1px rgba(60, 64, 67, 0.15);\n",
              "    fill: var(--button-hover-fill-color);\n",
              "  }\n",
              "\n",
              "  .colab-df-quickchart-complete:disabled,\n",
              "  .colab-df-quickchart-complete:disabled:hover {\n",
              "    background-color: var(--disabled-bg-color);\n",
              "    fill: var(--disabled-fill-color);\n",
              "    box-shadow: none;\n",
              "  }\n",
              "\n",
              "  .colab-df-spinner {\n",
              "    border: 2px solid var(--fill-color);\n",
              "    border-color: transparent;\n",
              "    border-bottom-color: var(--fill-color);\n",
              "    animation:\n",
              "      spin 1s steps(1) infinite;\n",
              "  }\n",
              "\n",
              "  @keyframes spin {\n",
              "    0% {\n",
              "      border-color: transparent;\n",
              "      border-bottom-color: var(--fill-color);\n",
              "      border-left-color: var(--fill-color);\n",
              "    }\n",
              "    20% {\n",
              "      border-color: transparent;\n",
              "      border-left-color: var(--fill-color);\n",
              "      border-top-color: var(--fill-color);\n",
              "    }\n",
              "    30% {\n",
              "      border-color: transparent;\n",
              "      border-left-color: var(--fill-color);\n",
              "      border-top-color: var(--fill-color);\n",
              "      border-right-color: var(--fill-color);\n",
              "    }\n",
              "    40% {\n",
              "      border-color: transparent;\n",
              "      border-right-color: var(--fill-color);\n",
              "      border-top-color: var(--fill-color);\n",
              "    }\n",
              "    60% {\n",
              "      border-color: transparent;\n",
              "      border-right-color: var(--fill-color);\n",
              "    }\n",
              "    80% {\n",
              "      border-color: transparent;\n",
              "      border-right-color: var(--fill-color);\n",
              "      border-bottom-color: var(--fill-color);\n",
              "    }\n",
              "    90% {\n",
              "      border-color: transparent;\n",
              "      border-bottom-color: var(--fill-color);\n",
              "    }\n",
              "  }\n",
              "</style>\n",
              "\n",
              "  <script>\n",
              "    async function quickchart(key) {\n",
              "      const quickchartButtonEl =\n",
              "        document.querySelector('#' + key + ' button');\n",
              "      quickchartButtonEl.disabled = true;  // To prevent multiple clicks.\n",
              "      quickchartButtonEl.classList.add('colab-df-spinner');\n",
              "      try {\n",
              "        const charts = await google.colab.kernel.invokeFunction(\n",
              "            'suggestCharts', [key], {});\n",
              "      } catch (error) {\n",
              "        console.error('Error during call to suggestCharts:', error);\n",
              "      }\n",
              "      quickchartButtonEl.classList.remove('colab-df-spinner');\n",
              "      quickchartButtonEl.classList.add('colab-df-quickchart-complete');\n",
              "    }\n",
              "    (() => {\n",
              "      let quickchartButtonEl =\n",
              "        document.querySelector('#df-973d0b06-c3da-411c-8594-ebbcfadb13ac button');\n",
              "      quickchartButtonEl.style.display =\n",
              "        google.colab.kernel.accessAllowed ? 'block' : 'none';\n",
              "    })();\n",
              "  </script>\n",
              "</div>\n",
              "\n",
              "  <div id=\"id_9b78e821-dbcd-421e-924c-54f5106e51f5\">\n",
              "    <style>\n",
              "      .colab-df-generate {\n",
              "        background-color: #E8F0FE;\n",
              "        border: none;\n",
              "        border-radius: 50%;\n",
              "        cursor: pointer;\n",
              "        display: none;\n",
              "        fill: #1967D2;\n",
              "        height: 32px;\n",
              "        padding: 0 0 0 0;\n",
              "        width: 32px;\n",
              "      }\n",
              "\n",
              "      .colab-df-generate:hover {\n",
              "        background-color: #E2EBFA;\n",
              "        box-shadow: 0px 1px 2px rgba(60, 64, 67, 0.3), 0px 1px 3px 1px rgba(60, 64, 67, 0.15);\n",
              "        fill: #174EA6;\n",
              "      }\n",
              "\n",
              "      [theme=dark] .colab-df-generate {\n",
              "        background-color: #3B4455;\n",
              "        fill: #D2E3FC;\n",
              "      }\n",
              "\n",
              "      [theme=dark] .colab-df-generate:hover {\n",
              "        background-color: #434B5C;\n",
              "        box-shadow: 0px 1px 3px 1px rgba(0, 0, 0, 0.15);\n",
              "        filter: drop-shadow(0px 1px 2px rgba(0, 0, 0, 0.3));\n",
              "        fill: #FFFFFF;\n",
              "      }\n",
              "    </style>\n",
              "    <button class=\"colab-df-generate\" onclick=\"generateWithVariable('df_preds')\"\n",
              "            title=\"Generate code using this dataframe.\"\n",
              "            style=\"display:none;\">\n",
              "\n",
              "  <svg xmlns=\"http://www.w3.org/2000/svg\" height=\"24px\"viewBox=\"0 0 24 24\"\n",
              "       width=\"24px\">\n",
              "    <path d=\"M7,19H8.4L18.45,9,17,7.55,7,17.6ZM5,21V16.75L18.45,3.32a2,2,0,0,1,2.83,0l1.4,1.43a1.91,1.91,0,0,1,.58,1.4,1.91,1.91,0,0,1-.58,1.4L9.25,21ZM18.45,9,17,7.55Zm-12,3A5.31,5.31,0,0,0,4.9,8.1,5.31,5.31,0,0,0,1,6.5,5.31,5.31,0,0,0,4.9,4.9,5.31,5.31,0,0,0,6.5,1,5.31,5.31,0,0,0,8.1,4.9,5.31,5.31,0,0,0,12,6.5,5.46,5.46,0,0,0,6.5,12Z\"/>\n",
              "  </svg>\n",
              "    </button>\n",
              "    <script>\n",
              "      (() => {\n",
              "      const buttonEl =\n",
              "        document.querySelector('#id_9b78e821-dbcd-421e-924c-54f5106e51f5 button.colab-df-generate');\n",
              "      buttonEl.style.display =\n",
              "        google.colab.kernel.accessAllowed ? 'block' : 'none';\n",
              "\n",
              "      buttonEl.onclick = () => {\n",
              "        google.colab.notebook.generateWithVariable('df_preds');\n",
              "      }\n",
              "      })();\n",
              "    </script>\n",
              "  </div>\n",
              "\n",
              "    </div>\n",
              "  </div>\n"
            ],
            "application/vnd.google.colaboratory.intrinsic+json": {
              "type": "dataframe",
              "variable_name": "df_preds",
              "summary": "{\n  \"name\": \"df_preds\",\n  \"rows\": 25000,\n  \"fields\": [\n    {\n      \"column\": \"uid\",\n      \"properties\": {\n        \"dtype\": \"number\",\n        \"std\": 266,\n        \"min\": 1,\n        \"max\": 943,\n        \"num_unique_values\": 943,\n        \"samples\": [\n          138,\n          846,\n          349\n        ],\n        \"semantic_type\": \"\",\n        \"description\": \"\"\n      }\n    },\n    {\n      \"column\": \"iid\",\n      \"properties\": {\n        \"dtype\": \"number\",\n        \"std\": 329,\n        \"min\": 1,\n        \"max\": 1679,\n        \"num_unique_values\": 1468,\n        \"samples\": [\n          1338,\n          678,\n          1381\n        ],\n        \"semantic_type\": \"\",\n        \"description\": \"\"\n      }\n    },\n    {\n      \"column\": \"rating\",\n      \"properties\": {\n        \"dtype\": \"number\",\n        \"std\": 1.1242076335411233,\n        \"min\": 1.0,\n        \"max\": 5.0,\n        \"num_unique_values\": 5,\n        \"samples\": [\n          2.0,\n          1.0,\n          5.0\n        ],\n        \"semantic_type\": \"\",\n        \"description\": \"\"\n      }\n    },\n    {\n      \"column\": \"estimated\",\n      \"properties\": {\n        \"dtype\": \"number\",\n        \"std\": 0.718944466262218,\n        \"min\": 1.0,\n        \"max\": 5.0,\n        \"num_unique_values\": 24680,\n        \"samples\": [\n          2.3335471411074273,\n          4.629216412535235,\n          3.0415220474849862\n        ],\n        \"semantic_type\": \"\",\n        \"description\": \"\"\n      }\n    },\n    {\n      \"column\": \"item_name\",\n      \"properties\": {\n        \"dtype\": \"category\",\n        \"num_unique_values\": 1456,\n        \"samples\": [\n          \"Demolition Man (1993)\",\n          \"Pushing Hands (1992)\",\n          \"First Knight (1995)\"\n        ],\n        \"semantic_type\": \"\",\n        \"description\": \"\"\n      }\n    }\n  ]\n}"
            }
          },
          "metadata": {},
          "execution_count": 27
        }
      ]
    },
    {
      "cell_type": "markdown",
      "source": [
        "9. Calculate RMSE of these predictions both using `surprise.accuracy.rmse(...)`, and by direct calculation. Verify that they give the same answer, and briefly explain how it compares to the baseline results from part 2."
      ],
      "metadata": {
        "id": "zSWCxolgwaSD"
      }
    },
    {
      "cell_type": "code",
      "source": [
        "# your code here\n",
        "rmse_surprise = surprise.accuracy.rmse(preds)"
      ],
      "metadata": {
        "id": "VHZpAZYAXs6g",
        "outputId": "9645e5ae-190c-4084-ebc7-48d92df1c622",
        "colab": {
          "base_uri": "https://localhost:8080/"
        }
      },
      "execution_count": 28,
      "outputs": [
        {
          "output_type": "stream",
          "name": "stdout",
          "text": [
            "RMSE: 0.9532\n"
          ]
        }
      ]
    },
    {
      "cell_type": "code",
      "source": [
        "rmse_surprise_bis = np.sqrt(mean_squared_error(df_preds.rating,df_preds.estimated))\n",
        "rmse_surprise_bis"
      ],
      "metadata": {
        "id": "SqQ8c8sB5sPS",
        "outputId": "bb87b4e3-cd61-4cf9-9854-687ca8e73c52",
        "colab": {
          "base_uri": "https://localhost:8080/"
        }
      },
      "execution_count": 29,
      "outputs": [
        {
          "output_type": "execute_result",
          "data": {
            "text/plain": [
              "0.9532466082831004"
            ]
          },
          "metadata": {},
          "execution_count": 29
        }
      ]
    },
    {
      "cell_type": "markdown",
      "source": [
        "We get the same result.\n",
        "We get a rmse of 0.9494 which is much better than the bets one we got with baseline models (1.1244)."
      ],
      "metadata": {
        "id": "t3jvLFOV54Df"
      }
    },
    {
      "cell_type": "markdown",
      "metadata": {
        "id": "zrxRyEiV518p"
      },
      "source": [
        "## Part 4. Giving recommendations\n",
        "\n",
        "In the end, the purpose of our model is to provide recommendations of novel movies. So let's see how to use our model to provide users with recommendations of movies that they have not actually rated yet.\n",
        "\n",
        "**Questions:**\n",
        "10. Use the code below to get all pairs (u, m) of users u and movies m such that u has not rated m (based on the train set). Examine a few rows in `unrated_data_df` to see what this data looks like."
      ]
    },
    {
      "cell_type": "code",
      "metadata": {
        "id": "3V9ltCei6xrQ"
      },
      "source": [
        "### CODE FOR QUESTION 10 ###\n",
        "unrated_data = trainset.build_anti_testset()\n",
        "\n",
        "# data converted to Pandas DataFrame format for convenience:\n",
        "unrated_data_df = pd.DataFrame([{'uid': x[0], 'iid': x[1]} for x in unrated_data])\n",
        "unrated_data_df.uid = unrated_data_df.uid.astype(int)\n",
        "unrated_data_df.iid = unrated_data_df.iid.astype(int)\n",
        "unrated_data_df = pd.merge(unrated_data_df, item_data, how='left')"
      ],
      "execution_count": 30,
      "outputs": []
    },
    {
      "cell_type": "code",
      "source": [
        "unrated_data_df"
      ],
      "metadata": {
        "id": "hNyo9rCi8aGj",
        "outputId": "4ccef663-b0d9-451d-a1f9-27503ff686c1",
        "colab": {
          "base_uri": "https://localhost:8080/",
          "height": 424
        }
      },
      "execution_count": 31,
      "outputs": [
        {
          "output_type": "execute_result",
          "data": {
            "text/plain": [
              "         uid   iid                                    item_name\n",
              "0        499   280                 Up Close and Personal (1996)\n",
              "1        499   346                          Jackie Brown (1997)\n",
              "2        499   205                                Patton (1970)\n",
              "3        499    48                           Hoop Dreams (1994)\n",
              "4        499   333                             Game, The (1997)\n",
              "...      ...   ...                                          ...\n",
              "1461142  359  1348                   Every Other Weekend (1990)\n",
              "1461143  359   600        Daniel Defoe's Robinson Crusoe (1996)\n",
              "1461144  359  1563       Promise, The (Versprechen, Das) (1994)\n",
              "1461145  359  1632  Land and Freedom (Tierra y libertad) (1995)\n",
              "1461146  359  1613                            Tokyo Fist (1995)\n",
              "\n",
              "[1461147 rows x 3 columns]"
            ],
            "text/html": [
              "\n",
              "  <div id=\"df-7bf98624-a4c4-4bc6-bbe5-6098f092be63\" class=\"colab-df-container\">\n",
              "    <div>\n",
              "<style scoped>\n",
              "    .dataframe tbody tr th:only-of-type {\n",
              "        vertical-align: middle;\n",
              "    }\n",
              "\n",
              "    .dataframe tbody tr th {\n",
              "        vertical-align: top;\n",
              "    }\n",
              "\n",
              "    .dataframe thead th {\n",
              "        text-align: right;\n",
              "    }\n",
              "</style>\n",
              "<table border=\"1\" class=\"dataframe\">\n",
              "  <thead>\n",
              "    <tr style=\"text-align: right;\">\n",
              "      <th></th>\n",
              "      <th>uid</th>\n",
              "      <th>iid</th>\n",
              "      <th>item_name</th>\n",
              "    </tr>\n",
              "  </thead>\n",
              "  <tbody>\n",
              "    <tr>\n",
              "      <th>0</th>\n",
              "      <td>499</td>\n",
              "      <td>280</td>\n",
              "      <td>Up Close and Personal (1996)</td>\n",
              "    </tr>\n",
              "    <tr>\n",
              "      <th>1</th>\n",
              "      <td>499</td>\n",
              "      <td>346</td>\n",
              "      <td>Jackie Brown (1997)</td>\n",
              "    </tr>\n",
              "    <tr>\n",
              "      <th>2</th>\n",
              "      <td>499</td>\n",
              "      <td>205</td>\n",
              "      <td>Patton (1970)</td>\n",
              "    </tr>\n",
              "    <tr>\n",
              "      <th>3</th>\n",
              "      <td>499</td>\n",
              "      <td>48</td>\n",
              "      <td>Hoop Dreams (1994)</td>\n",
              "    </tr>\n",
              "    <tr>\n",
              "      <th>4</th>\n",
              "      <td>499</td>\n",
              "      <td>333</td>\n",
              "      <td>Game, The (1997)</td>\n",
              "    </tr>\n",
              "    <tr>\n",
              "      <th>...</th>\n",
              "      <td>...</td>\n",
              "      <td>...</td>\n",
              "      <td>...</td>\n",
              "    </tr>\n",
              "    <tr>\n",
              "      <th>1461142</th>\n",
              "      <td>359</td>\n",
              "      <td>1348</td>\n",
              "      <td>Every Other Weekend (1990)</td>\n",
              "    </tr>\n",
              "    <tr>\n",
              "      <th>1461143</th>\n",
              "      <td>359</td>\n",
              "      <td>600</td>\n",
              "      <td>Daniel Defoe's Robinson Crusoe (1996)</td>\n",
              "    </tr>\n",
              "    <tr>\n",
              "      <th>1461144</th>\n",
              "      <td>359</td>\n",
              "      <td>1563</td>\n",
              "      <td>Promise, The (Versprechen, Das) (1994)</td>\n",
              "    </tr>\n",
              "    <tr>\n",
              "      <th>1461145</th>\n",
              "      <td>359</td>\n",
              "      <td>1632</td>\n",
              "      <td>Land and Freedom (Tierra y libertad) (1995)</td>\n",
              "    </tr>\n",
              "    <tr>\n",
              "      <th>1461146</th>\n",
              "      <td>359</td>\n",
              "      <td>1613</td>\n",
              "      <td>Tokyo Fist (1995)</td>\n",
              "    </tr>\n",
              "  </tbody>\n",
              "</table>\n",
              "<p>1461147 rows × 3 columns</p>\n",
              "</div>\n",
              "    <div class=\"colab-df-buttons\">\n",
              "\n",
              "  <div class=\"colab-df-container\">\n",
              "    <button class=\"colab-df-convert\" onclick=\"convertToInteractive('df-7bf98624-a4c4-4bc6-bbe5-6098f092be63')\"\n",
              "            title=\"Convert this dataframe to an interactive table.\"\n",
              "            style=\"display:none;\">\n",
              "\n",
              "  <svg xmlns=\"http://www.w3.org/2000/svg\" height=\"24px\" viewBox=\"0 -960 960 960\">\n",
              "    <path d=\"M120-120v-720h720v720H120Zm60-500h600v-160H180v160Zm220 220h160v-160H400v160Zm0 220h160v-160H400v160ZM180-400h160v-160H180v160Zm440 0h160v-160H620v160ZM180-180h160v-160H180v160Zm440 0h160v-160H620v160Z\"/>\n",
              "  </svg>\n",
              "    </button>\n",
              "\n",
              "  <style>\n",
              "    .colab-df-container {\n",
              "      display:flex;\n",
              "      gap: 12px;\n",
              "    }\n",
              "\n",
              "    .colab-df-convert {\n",
              "      background-color: #E8F0FE;\n",
              "      border: none;\n",
              "      border-radius: 50%;\n",
              "      cursor: pointer;\n",
              "      display: none;\n",
              "      fill: #1967D2;\n",
              "      height: 32px;\n",
              "      padding: 0 0 0 0;\n",
              "      width: 32px;\n",
              "    }\n",
              "\n",
              "    .colab-df-convert:hover {\n",
              "      background-color: #E2EBFA;\n",
              "      box-shadow: 0px 1px 2px rgba(60, 64, 67, 0.3), 0px 1px 3px 1px rgba(60, 64, 67, 0.15);\n",
              "      fill: #174EA6;\n",
              "    }\n",
              "\n",
              "    .colab-df-buttons div {\n",
              "      margin-bottom: 4px;\n",
              "    }\n",
              "\n",
              "    [theme=dark] .colab-df-convert {\n",
              "      background-color: #3B4455;\n",
              "      fill: #D2E3FC;\n",
              "    }\n",
              "\n",
              "    [theme=dark] .colab-df-convert:hover {\n",
              "      background-color: #434B5C;\n",
              "      box-shadow: 0px 1px 3px 1px rgba(0, 0, 0, 0.15);\n",
              "      filter: drop-shadow(0px 1px 2px rgba(0, 0, 0, 0.3));\n",
              "      fill: #FFFFFF;\n",
              "    }\n",
              "  </style>\n",
              "\n",
              "    <script>\n",
              "      const buttonEl =\n",
              "        document.querySelector('#df-7bf98624-a4c4-4bc6-bbe5-6098f092be63 button.colab-df-convert');\n",
              "      buttonEl.style.display =\n",
              "        google.colab.kernel.accessAllowed ? 'block' : 'none';\n",
              "\n",
              "      async function convertToInteractive(key) {\n",
              "        const element = document.querySelector('#df-7bf98624-a4c4-4bc6-bbe5-6098f092be63');\n",
              "        const dataTable =\n",
              "          await google.colab.kernel.invokeFunction('convertToInteractive',\n",
              "                                                    [key], {});\n",
              "        if (!dataTable) return;\n",
              "\n",
              "        const docLinkHtml = 'Like what you see? Visit the ' +\n",
              "          '<a target=\"_blank\" href=https://colab.research.google.com/notebooks/data_table.ipynb>data table notebook</a>'\n",
              "          + ' to learn more about interactive tables.';\n",
              "        element.innerHTML = '';\n",
              "        dataTable['output_type'] = 'display_data';\n",
              "        await google.colab.output.renderOutput(dataTable, element);\n",
              "        const docLink = document.createElement('div');\n",
              "        docLink.innerHTML = docLinkHtml;\n",
              "        element.appendChild(docLink);\n",
              "      }\n",
              "    </script>\n",
              "  </div>\n",
              "\n",
              "\n",
              "<div id=\"df-f506126c-458b-48db-a56d-2aa86a23b6cb\">\n",
              "  <button class=\"colab-df-quickchart\" onclick=\"quickchart('df-f506126c-458b-48db-a56d-2aa86a23b6cb')\"\n",
              "            title=\"Suggest charts\"\n",
              "            style=\"display:none;\">\n",
              "\n",
              "<svg xmlns=\"http://www.w3.org/2000/svg\" height=\"24px\"viewBox=\"0 0 24 24\"\n",
              "     width=\"24px\">\n",
              "    <g>\n",
              "        <path d=\"M19 3H5c-1.1 0-2 .9-2 2v14c0 1.1.9 2 2 2h14c1.1 0 2-.9 2-2V5c0-1.1-.9-2-2-2zM9 17H7v-7h2v7zm4 0h-2V7h2v10zm4 0h-2v-4h2v4z\"/>\n",
              "    </g>\n",
              "</svg>\n",
              "  </button>\n",
              "\n",
              "<style>\n",
              "  .colab-df-quickchart {\n",
              "      --bg-color: #E8F0FE;\n",
              "      --fill-color: #1967D2;\n",
              "      --hover-bg-color: #E2EBFA;\n",
              "      --hover-fill-color: #174EA6;\n",
              "      --disabled-fill-color: #AAA;\n",
              "      --disabled-bg-color: #DDD;\n",
              "  }\n",
              "\n",
              "  [theme=dark] .colab-df-quickchart {\n",
              "      --bg-color: #3B4455;\n",
              "      --fill-color: #D2E3FC;\n",
              "      --hover-bg-color: #434B5C;\n",
              "      --hover-fill-color: #FFFFFF;\n",
              "      --disabled-bg-color: #3B4455;\n",
              "      --disabled-fill-color: #666;\n",
              "  }\n",
              "\n",
              "  .colab-df-quickchart {\n",
              "    background-color: var(--bg-color);\n",
              "    border: none;\n",
              "    border-radius: 50%;\n",
              "    cursor: pointer;\n",
              "    display: none;\n",
              "    fill: var(--fill-color);\n",
              "    height: 32px;\n",
              "    padding: 0;\n",
              "    width: 32px;\n",
              "  }\n",
              "\n",
              "  .colab-df-quickchart:hover {\n",
              "    background-color: var(--hover-bg-color);\n",
              "    box-shadow: 0 1px 2px rgba(60, 64, 67, 0.3), 0 1px 3px 1px rgba(60, 64, 67, 0.15);\n",
              "    fill: var(--button-hover-fill-color);\n",
              "  }\n",
              "\n",
              "  .colab-df-quickchart-complete:disabled,\n",
              "  .colab-df-quickchart-complete:disabled:hover {\n",
              "    background-color: var(--disabled-bg-color);\n",
              "    fill: var(--disabled-fill-color);\n",
              "    box-shadow: none;\n",
              "  }\n",
              "\n",
              "  .colab-df-spinner {\n",
              "    border: 2px solid var(--fill-color);\n",
              "    border-color: transparent;\n",
              "    border-bottom-color: var(--fill-color);\n",
              "    animation:\n",
              "      spin 1s steps(1) infinite;\n",
              "  }\n",
              "\n",
              "  @keyframes spin {\n",
              "    0% {\n",
              "      border-color: transparent;\n",
              "      border-bottom-color: var(--fill-color);\n",
              "      border-left-color: var(--fill-color);\n",
              "    }\n",
              "    20% {\n",
              "      border-color: transparent;\n",
              "      border-left-color: var(--fill-color);\n",
              "      border-top-color: var(--fill-color);\n",
              "    }\n",
              "    30% {\n",
              "      border-color: transparent;\n",
              "      border-left-color: var(--fill-color);\n",
              "      border-top-color: var(--fill-color);\n",
              "      border-right-color: var(--fill-color);\n",
              "    }\n",
              "    40% {\n",
              "      border-color: transparent;\n",
              "      border-right-color: var(--fill-color);\n",
              "      border-top-color: var(--fill-color);\n",
              "    }\n",
              "    60% {\n",
              "      border-color: transparent;\n",
              "      border-right-color: var(--fill-color);\n",
              "    }\n",
              "    80% {\n",
              "      border-color: transparent;\n",
              "      border-right-color: var(--fill-color);\n",
              "      border-bottom-color: var(--fill-color);\n",
              "    }\n",
              "    90% {\n",
              "      border-color: transparent;\n",
              "      border-bottom-color: var(--fill-color);\n",
              "    }\n",
              "  }\n",
              "</style>\n",
              "\n",
              "  <script>\n",
              "    async function quickchart(key) {\n",
              "      const quickchartButtonEl =\n",
              "        document.querySelector('#' + key + ' button');\n",
              "      quickchartButtonEl.disabled = true;  // To prevent multiple clicks.\n",
              "      quickchartButtonEl.classList.add('colab-df-spinner');\n",
              "      try {\n",
              "        const charts = await google.colab.kernel.invokeFunction(\n",
              "            'suggestCharts', [key], {});\n",
              "      } catch (error) {\n",
              "        console.error('Error during call to suggestCharts:', error);\n",
              "      }\n",
              "      quickchartButtonEl.classList.remove('colab-df-spinner');\n",
              "      quickchartButtonEl.classList.add('colab-df-quickchart-complete');\n",
              "    }\n",
              "    (() => {\n",
              "      let quickchartButtonEl =\n",
              "        document.querySelector('#df-f506126c-458b-48db-a56d-2aa86a23b6cb button');\n",
              "      quickchartButtonEl.style.display =\n",
              "        google.colab.kernel.accessAllowed ? 'block' : 'none';\n",
              "    })();\n",
              "  </script>\n",
              "</div>\n",
              "\n",
              "  <div id=\"id_3587e3f7-5be2-43d0-8e38-d2c99c2fac91\">\n",
              "    <style>\n",
              "      .colab-df-generate {\n",
              "        background-color: #E8F0FE;\n",
              "        border: none;\n",
              "        border-radius: 50%;\n",
              "        cursor: pointer;\n",
              "        display: none;\n",
              "        fill: #1967D2;\n",
              "        height: 32px;\n",
              "        padding: 0 0 0 0;\n",
              "        width: 32px;\n",
              "      }\n",
              "\n",
              "      .colab-df-generate:hover {\n",
              "        background-color: #E2EBFA;\n",
              "        box-shadow: 0px 1px 2px rgba(60, 64, 67, 0.3), 0px 1px 3px 1px rgba(60, 64, 67, 0.15);\n",
              "        fill: #174EA6;\n",
              "      }\n",
              "\n",
              "      [theme=dark] .colab-df-generate {\n",
              "        background-color: #3B4455;\n",
              "        fill: #D2E3FC;\n",
              "      }\n",
              "\n",
              "      [theme=dark] .colab-df-generate:hover {\n",
              "        background-color: #434B5C;\n",
              "        box-shadow: 0px 1px 3px 1px rgba(0, 0, 0, 0.15);\n",
              "        filter: drop-shadow(0px 1px 2px rgba(0, 0, 0, 0.3));\n",
              "        fill: #FFFFFF;\n",
              "      }\n",
              "    </style>\n",
              "    <button class=\"colab-df-generate\" onclick=\"generateWithVariable('unrated_data_df')\"\n",
              "            title=\"Generate code using this dataframe.\"\n",
              "            style=\"display:none;\">\n",
              "\n",
              "  <svg xmlns=\"http://www.w3.org/2000/svg\" height=\"24px\"viewBox=\"0 0 24 24\"\n",
              "       width=\"24px\">\n",
              "    <path d=\"M7,19H8.4L18.45,9,17,7.55,7,17.6ZM5,21V16.75L18.45,3.32a2,2,0,0,1,2.83,0l1.4,1.43a1.91,1.91,0,0,1,.58,1.4,1.91,1.91,0,0,1-.58,1.4L9.25,21ZM18.45,9,17,7.55Zm-12,3A5.31,5.31,0,0,0,4.9,8.1,5.31,5.31,0,0,0,1,6.5,5.31,5.31,0,0,0,4.9,4.9,5.31,5.31,0,0,0,6.5,1,5.31,5.31,0,0,0,8.1,4.9,5.31,5.31,0,0,0,12,6.5,5.46,5.46,0,0,0,6.5,12Z\"/>\n",
              "  </svg>\n",
              "    </button>\n",
              "    <script>\n",
              "      (() => {\n",
              "      const buttonEl =\n",
              "        document.querySelector('#id_3587e3f7-5be2-43d0-8e38-d2c99c2fac91 button.colab-df-generate');\n",
              "      buttonEl.style.display =\n",
              "        google.colab.kernel.accessAllowed ? 'block' : 'none';\n",
              "\n",
              "      buttonEl.onclick = () => {\n",
              "        google.colab.notebook.generateWithVariable('unrated_data_df');\n",
              "      }\n",
              "      })();\n",
              "    </script>\n",
              "  </div>\n",
              "\n",
              "    </div>\n",
              "  </div>\n"
            ],
            "application/vnd.google.colaboratory.intrinsic+json": {
              "type": "dataframe",
              "variable_name": "unrated_data_df"
            }
          },
          "metadata": {},
          "execution_count": 31
        }
      ]
    },
    {
      "cell_type": "markdown",
      "source": [
        "11. Generate predictions for the unrated data using `model.test(...)` and save them in a variable `unrated_preds`. Note: This requires input data in the format of the variable `unrated_data`."
      ],
      "metadata": {
        "id": "8IaikF4xwk5Q"
      }
    },
    {
      "cell_type": "code",
      "source": [
        "# your code here\n",
        "unrated_preds = model.test(unrated_data)"
      ],
      "metadata": {
        "id": "h9bggIjmXu5x"
      },
      "execution_count": 32,
      "outputs": []
    },
    {
      "cell_type": "markdown",
      "source": [
        "12. Use the code given below to convert the list format of `unrated_preds` to a DataFrame `df_unrated_preds`. It might be easier to work with this for some of the next questions."
      ],
      "metadata": {
        "id": "4ZkIcCZswmo9"
      }
    },
    {
      "cell_type": "code",
      "metadata": {
        "id": "nc6PbUnT7kIh"
      },
      "source": [
        "### CODE FOR QUESTION 12 ####\n",
        "df_unrated_preds = pd.DataFrame([\n",
        "  {'uid': p.uid, 'iid': p.iid, 'estimated': p.est}\n",
        "  for p in unrated_preds\n",
        "])\n",
        "df_unrated_preds.uid = df_unrated_preds.uid.astype(int)\n",
        "df_unrated_preds.iid = df_unrated_preds.iid.astype(int)\n",
        "df_unrated_preds = pd.merge(df_unrated_preds, item_data, how='left')"
      ],
      "execution_count": 33,
      "outputs": []
    },
    {
      "cell_type": "markdown",
      "source": [
        "13. Make a new DataFrame `df_top5` containing the unrated movies with top 5 predicted ratings for each user. Hint: You can do this in one line of code using Pandas and `df_unrated_preds`."
      ],
      "metadata": {
        "id": "5opSTJYRwoL9"
      }
    },
    {
      "cell_type": "code",
      "source": [
        "# your code here\n",
        "df_top5 = df_unrated_preds.groupby('uid')[['uid','item_name']].head(5)"
      ],
      "metadata": {
        "id": "-mLotqLQXvgO"
      },
      "execution_count": 34,
      "outputs": []
    },
    {
      "cell_type": "markdown",
      "source": [
        "14. Show the 5 recommended movies for a user of your choice."
      ],
      "metadata": {
        "id": "je_3hSG5wqQl"
      }
    },
    {
      "cell_type": "code",
      "source": [
        "# your code here\n",
        "df_top5[df_top5.uid == 180]"
      ],
      "metadata": {
        "id": "7Z3u2O5TXw_c",
        "outputId": "90aa9618-d63b-415e-ce6b-def889db4ac8",
        "colab": {
          "base_uri": "https://localhost:8080/",
          "height": 206
        }
      },
      "execution_count": 35,
      "outputs": [
        {
          "output_type": "execute_result",
          "data": {
            "text/plain": [
              "        uid                     item_name\n",
              "758462  180     Dances with Wolves (1990)\n",
              "758463  180  Up Close and Personal (1996)\n",
              "758464  180           Jackie Brown (1997)\n",
              "758465  180                 Patton (1970)\n",
              "758466  180            Hoop Dreams (1994)"
            ],
            "text/html": [
              "\n",
              "  <div id=\"df-572515a2-c073-4f82-93b8-e27442569fd9\" class=\"colab-df-container\">\n",
              "    <div>\n",
              "<style scoped>\n",
              "    .dataframe tbody tr th:only-of-type {\n",
              "        vertical-align: middle;\n",
              "    }\n",
              "\n",
              "    .dataframe tbody tr th {\n",
              "        vertical-align: top;\n",
              "    }\n",
              "\n",
              "    .dataframe thead th {\n",
              "        text-align: right;\n",
              "    }\n",
              "</style>\n",
              "<table border=\"1\" class=\"dataframe\">\n",
              "  <thead>\n",
              "    <tr style=\"text-align: right;\">\n",
              "      <th></th>\n",
              "      <th>uid</th>\n",
              "      <th>item_name</th>\n",
              "    </tr>\n",
              "  </thead>\n",
              "  <tbody>\n",
              "    <tr>\n",
              "      <th>758462</th>\n",
              "      <td>180</td>\n",
              "      <td>Dances with Wolves (1990)</td>\n",
              "    </tr>\n",
              "    <tr>\n",
              "      <th>758463</th>\n",
              "      <td>180</td>\n",
              "      <td>Up Close and Personal (1996)</td>\n",
              "    </tr>\n",
              "    <tr>\n",
              "      <th>758464</th>\n",
              "      <td>180</td>\n",
              "      <td>Jackie Brown (1997)</td>\n",
              "    </tr>\n",
              "    <tr>\n",
              "      <th>758465</th>\n",
              "      <td>180</td>\n",
              "      <td>Patton (1970)</td>\n",
              "    </tr>\n",
              "    <tr>\n",
              "      <th>758466</th>\n",
              "      <td>180</td>\n",
              "      <td>Hoop Dreams (1994)</td>\n",
              "    </tr>\n",
              "  </tbody>\n",
              "</table>\n",
              "</div>\n",
              "    <div class=\"colab-df-buttons\">\n",
              "\n",
              "  <div class=\"colab-df-container\">\n",
              "    <button class=\"colab-df-convert\" onclick=\"convertToInteractive('df-572515a2-c073-4f82-93b8-e27442569fd9')\"\n",
              "            title=\"Convert this dataframe to an interactive table.\"\n",
              "            style=\"display:none;\">\n",
              "\n",
              "  <svg xmlns=\"http://www.w3.org/2000/svg\" height=\"24px\" viewBox=\"0 -960 960 960\">\n",
              "    <path d=\"M120-120v-720h720v720H120Zm60-500h600v-160H180v160Zm220 220h160v-160H400v160Zm0 220h160v-160H400v160ZM180-400h160v-160H180v160Zm440 0h160v-160H620v160ZM180-180h160v-160H180v160Zm440 0h160v-160H620v160Z\"/>\n",
              "  </svg>\n",
              "    </button>\n",
              "\n",
              "  <style>\n",
              "    .colab-df-container {\n",
              "      display:flex;\n",
              "      gap: 12px;\n",
              "    }\n",
              "\n",
              "    .colab-df-convert {\n",
              "      background-color: #E8F0FE;\n",
              "      border: none;\n",
              "      border-radius: 50%;\n",
              "      cursor: pointer;\n",
              "      display: none;\n",
              "      fill: #1967D2;\n",
              "      height: 32px;\n",
              "      padding: 0 0 0 0;\n",
              "      width: 32px;\n",
              "    }\n",
              "\n",
              "    .colab-df-convert:hover {\n",
              "      background-color: #E2EBFA;\n",
              "      box-shadow: 0px 1px 2px rgba(60, 64, 67, 0.3), 0px 1px 3px 1px rgba(60, 64, 67, 0.15);\n",
              "      fill: #174EA6;\n",
              "    }\n",
              "\n",
              "    .colab-df-buttons div {\n",
              "      margin-bottom: 4px;\n",
              "    }\n",
              "\n",
              "    [theme=dark] .colab-df-convert {\n",
              "      background-color: #3B4455;\n",
              "      fill: #D2E3FC;\n",
              "    }\n",
              "\n",
              "    [theme=dark] .colab-df-convert:hover {\n",
              "      background-color: #434B5C;\n",
              "      box-shadow: 0px 1px 3px 1px rgba(0, 0, 0, 0.15);\n",
              "      filter: drop-shadow(0px 1px 2px rgba(0, 0, 0, 0.3));\n",
              "      fill: #FFFFFF;\n",
              "    }\n",
              "  </style>\n",
              "\n",
              "    <script>\n",
              "      const buttonEl =\n",
              "        document.querySelector('#df-572515a2-c073-4f82-93b8-e27442569fd9 button.colab-df-convert');\n",
              "      buttonEl.style.display =\n",
              "        google.colab.kernel.accessAllowed ? 'block' : 'none';\n",
              "\n",
              "      async function convertToInteractive(key) {\n",
              "        const element = document.querySelector('#df-572515a2-c073-4f82-93b8-e27442569fd9');\n",
              "        const dataTable =\n",
              "          await google.colab.kernel.invokeFunction('convertToInteractive',\n",
              "                                                    [key], {});\n",
              "        if (!dataTable) return;\n",
              "\n",
              "        const docLinkHtml = 'Like what you see? Visit the ' +\n",
              "          '<a target=\"_blank\" href=https://colab.research.google.com/notebooks/data_table.ipynb>data table notebook</a>'\n",
              "          + ' to learn more about interactive tables.';\n",
              "        element.innerHTML = '';\n",
              "        dataTable['output_type'] = 'display_data';\n",
              "        await google.colab.output.renderOutput(dataTable, element);\n",
              "        const docLink = document.createElement('div');\n",
              "        docLink.innerHTML = docLinkHtml;\n",
              "        element.appendChild(docLink);\n",
              "      }\n",
              "    </script>\n",
              "  </div>\n",
              "\n",
              "\n",
              "<div id=\"df-9f08cc2a-c2be-4227-988b-f45e133fc177\">\n",
              "  <button class=\"colab-df-quickchart\" onclick=\"quickchart('df-9f08cc2a-c2be-4227-988b-f45e133fc177')\"\n",
              "            title=\"Suggest charts\"\n",
              "            style=\"display:none;\">\n",
              "\n",
              "<svg xmlns=\"http://www.w3.org/2000/svg\" height=\"24px\"viewBox=\"0 0 24 24\"\n",
              "     width=\"24px\">\n",
              "    <g>\n",
              "        <path d=\"M19 3H5c-1.1 0-2 .9-2 2v14c0 1.1.9 2 2 2h14c1.1 0 2-.9 2-2V5c0-1.1-.9-2-2-2zM9 17H7v-7h2v7zm4 0h-2V7h2v10zm4 0h-2v-4h2v4z\"/>\n",
              "    </g>\n",
              "</svg>\n",
              "  </button>\n",
              "\n",
              "<style>\n",
              "  .colab-df-quickchart {\n",
              "      --bg-color: #E8F0FE;\n",
              "      --fill-color: #1967D2;\n",
              "      --hover-bg-color: #E2EBFA;\n",
              "      --hover-fill-color: #174EA6;\n",
              "      --disabled-fill-color: #AAA;\n",
              "      --disabled-bg-color: #DDD;\n",
              "  }\n",
              "\n",
              "  [theme=dark] .colab-df-quickchart {\n",
              "      --bg-color: #3B4455;\n",
              "      --fill-color: #D2E3FC;\n",
              "      --hover-bg-color: #434B5C;\n",
              "      --hover-fill-color: #FFFFFF;\n",
              "      --disabled-bg-color: #3B4455;\n",
              "      --disabled-fill-color: #666;\n",
              "  }\n",
              "\n",
              "  .colab-df-quickchart {\n",
              "    background-color: var(--bg-color);\n",
              "    border: none;\n",
              "    border-radius: 50%;\n",
              "    cursor: pointer;\n",
              "    display: none;\n",
              "    fill: var(--fill-color);\n",
              "    height: 32px;\n",
              "    padding: 0;\n",
              "    width: 32px;\n",
              "  }\n",
              "\n",
              "  .colab-df-quickchart:hover {\n",
              "    background-color: var(--hover-bg-color);\n",
              "    box-shadow: 0 1px 2px rgba(60, 64, 67, 0.3), 0 1px 3px 1px rgba(60, 64, 67, 0.15);\n",
              "    fill: var(--button-hover-fill-color);\n",
              "  }\n",
              "\n",
              "  .colab-df-quickchart-complete:disabled,\n",
              "  .colab-df-quickchart-complete:disabled:hover {\n",
              "    background-color: var(--disabled-bg-color);\n",
              "    fill: var(--disabled-fill-color);\n",
              "    box-shadow: none;\n",
              "  }\n",
              "\n",
              "  .colab-df-spinner {\n",
              "    border: 2px solid var(--fill-color);\n",
              "    border-color: transparent;\n",
              "    border-bottom-color: var(--fill-color);\n",
              "    animation:\n",
              "      spin 1s steps(1) infinite;\n",
              "  }\n",
              "\n",
              "  @keyframes spin {\n",
              "    0% {\n",
              "      border-color: transparent;\n",
              "      border-bottom-color: var(--fill-color);\n",
              "      border-left-color: var(--fill-color);\n",
              "    }\n",
              "    20% {\n",
              "      border-color: transparent;\n",
              "      border-left-color: var(--fill-color);\n",
              "      border-top-color: var(--fill-color);\n",
              "    }\n",
              "    30% {\n",
              "      border-color: transparent;\n",
              "      border-left-color: var(--fill-color);\n",
              "      border-top-color: var(--fill-color);\n",
              "      border-right-color: var(--fill-color);\n",
              "    }\n",
              "    40% {\n",
              "      border-color: transparent;\n",
              "      border-right-color: var(--fill-color);\n",
              "      border-top-color: var(--fill-color);\n",
              "    }\n",
              "    60% {\n",
              "      border-color: transparent;\n",
              "      border-right-color: var(--fill-color);\n",
              "    }\n",
              "    80% {\n",
              "      border-color: transparent;\n",
              "      border-right-color: var(--fill-color);\n",
              "      border-bottom-color: var(--fill-color);\n",
              "    }\n",
              "    90% {\n",
              "      border-color: transparent;\n",
              "      border-bottom-color: var(--fill-color);\n",
              "    }\n",
              "  }\n",
              "</style>\n",
              "\n",
              "  <script>\n",
              "    async function quickchart(key) {\n",
              "      const quickchartButtonEl =\n",
              "        document.querySelector('#' + key + ' button');\n",
              "      quickchartButtonEl.disabled = true;  // To prevent multiple clicks.\n",
              "      quickchartButtonEl.classList.add('colab-df-spinner');\n",
              "      try {\n",
              "        const charts = await google.colab.kernel.invokeFunction(\n",
              "            'suggestCharts', [key], {});\n",
              "      } catch (error) {\n",
              "        console.error('Error during call to suggestCharts:', error);\n",
              "      }\n",
              "      quickchartButtonEl.classList.remove('colab-df-spinner');\n",
              "      quickchartButtonEl.classList.add('colab-df-quickchart-complete');\n",
              "    }\n",
              "    (() => {\n",
              "      let quickchartButtonEl =\n",
              "        document.querySelector('#df-9f08cc2a-c2be-4227-988b-f45e133fc177 button');\n",
              "      quickchartButtonEl.style.display =\n",
              "        google.colab.kernel.accessAllowed ? 'block' : 'none';\n",
              "    })();\n",
              "  </script>\n",
              "</div>\n",
              "\n",
              "    </div>\n",
              "  </div>\n"
            ],
            "application/vnd.google.colaboratory.intrinsic+json": {
              "type": "dataframe",
              "summary": "{\n  \"name\": \"df_top5[df_top5\",\n  \"rows\": 5,\n  \"fields\": [\n    {\n      \"column\": \"uid\",\n      \"properties\": {\n        \"dtype\": \"number\",\n        \"std\": 0,\n        \"min\": 180,\n        \"max\": 180,\n        \"num_unique_values\": 1,\n        \"samples\": [\n          180\n        ],\n        \"semantic_type\": \"\",\n        \"description\": \"\"\n      }\n    },\n    {\n      \"column\": \"item_name\",\n      \"properties\": {\n        \"dtype\": \"string\",\n        \"num_unique_values\": 5,\n        \"samples\": [\n          \"Up Close and Personal (1996)\"\n        ],\n        \"semantic_type\": \"\",\n        \"description\": \"\"\n      }\n    }\n  ]\n}"
            }
          },
          "metadata": {},
          "execution_count": 35
        }
      ]
    },
    {
      "cell_type": "markdown",
      "source": [
        "15. Repeat the above (parts 3 and 4), this time using the model `surprise.SVD(biased=True)`, and compare RMSE metrics."
      ],
      "metadata": {
        "id": "BD19WF-OQyUI"
      }
    },
    {
      "cell_type": "code",
      "source": [
        "# your code here\n",
        "model_biased = SVD(biased = True)\n",
        "model_biased.fit(trainset)\n",
        "preds_biased = model_biased.test(testset)\n"
      ],
      "metadata": {
        "id": "5gLcclwHXxrb"
      },
      "execution_count": 36,
      "outputs": []
    },
    {
      "cell_type": "code",
      "source": [
        "df_preds_biased = pd.DataFrame([\n",
        "  {'uid': p.uid, 'iid': p.iid, 'rating': p.r_ui, 'estimated': p.est}\n",
        "  for p in preds_biased\n",
        "])\n",
        "df_preds_biased.uid = df_preds_biased.uid.astype(int)\n",
        "df_preds_biased.iid = df_preds_biased.iid.astype(int)\n",
        "df_preds_biased = pd.merge(df_preds_biased, item_data, how='left')"
      ],
      "metadata": {
        "id": "XJmtAE2WBOxG"
      },
      "execution_count": 37,
      "outputs": []
    },
    {
      "cell_type": "code",
      "source": [
        "rmse_surprise_biased = surprise.accuracy.rmse(preds_biased)"
      ],
      "metadata": {
        "id": "OjVtGLvzBYyW",
        "outputId": "274fbb73-7953-49b8-a9f5-1a44ce0eb2c3",
        "colab": {
          "base_uri": "https://localhost:8080/"
        }
      },
      "execution_count": 38,
      "outputs": [
        {
          "output_type": "stream",
          "name": "stdout",
          "text": [
            "RMSE: 0.9412\n"
          ]
        }
      ]
    },
    {
      "cell_type": "markdown",
      "source": [
        "We get a rmse of 0.9305 which is lower than the one we got with the non biased model."
      ],
      "metadata": {
        "id": "Rugf7A4XBjBq"
      }
    },
    {
      "cell_type": "code",
      "source": [
        "unrated_data_biased = trainset.build_anti_testset()\n",
        "\n",
        "# data converted to Pandas DataFrame format for convenience:\n",
        "unrated_data_df_biased = pd.DataFrame([{'uid': x[0], 'iid': x[1]} for x in unrated_data_biased])\n",
        "unrated_data_df_biased.uid = unrated_data_df_biased.uid.astype(int)\n",
        "unrated_data_df_biased.iid = unrated_data_df_biased.iid.astype(int)\n",
        "unrated_data_df_biased = pd.merge(unrated_data_df_biased, item_data, how='left')"
      ],
      "metadata": {
        "id": "wYrOWehGBexH"
      },
      "execution_count": 39,
      "outputs": []
    },
    {
      "cell_type": "code",
      "source": [
        "unrated_preds_biased = model_biased.test(unrated_data_biased)"
      ],
      "metadata": {
        "id": "vwqsD44SB5xY"
      },
      "execution_count": 40,
      "outputs": []
    },
    {
      "cell_type": "code",
      "source": [
        "df_unrated_preds_biased = pd.DataFrame([\n",
        "  {'uid': p.uid, 'iid': p.iid, 'estimated': p.est}\n",
        "  for p in unrated_preds_biased\n",
        "])\n",
        "df_unrated_preds_biased.uid = df_unrated_preds_biased.uid.astype(int)\n",
        "df_unrated_preds_biased.iid = df_unrated_preds_biased.iid.astype(int)\n",
        "df_unrated_preds_biased = pd.merge(df_unrated_preds_biased, item_data, how='left')"
      ],
      "metadata": {
        "id": "9QAl6z04CAiK"
      },
      "execution_count": 41,
      "outputs": []
    },
    {
      "cell_type": "code",
      "source": [
        "df_top5_biased = df_unrated_preds_biased.groupby('uid')[['uid','item_name']].head(5)"
      ],
      "metadata": {
        "id": "i-2JfrAHCmqn"
      },
      "execution_count": 42,
      "outputs": []
    },
    {
      "cell_type": "code",
      "source": [
        "df_top5_biased[df_top5_biased.uid == 180]"
      ],
      "metadata": {
        "id": "J0KYn_6tCrTM",
        "outputId": "8144a058-d325-4cdf-8bac-0381e678e586",
        "colab": {
          "base_uri": "https://localhost:8080/",
          "height": 206
        }
      },
      "execution_count": 43,
      "outputs": [
        {
          "output_type": "execute_result",
          "data": {
            "text/plain": [
              "        uid                     item_name\n",
              "758462  180     Dances with Wolves (1990)\n",
              "758463  180  Up Close and Personal (1996)\n",
              "758464  180           Jackie Brown (1997)\n",
              "758465  180                 Patton (1970)\n",
              "758466  180            Hoop Dreams (1994)"
            ],
            "text/html": [
              "\n",
              "  <div id=\"df-3d037808-3e40-4a91-a13e-4bd490c1d734\" class=\"colab-df-container\">\n",
              "    <div>\n",
              "<style scoped>\n",
              "    .dataframe tbody tr th:only-of-type {\n",
              "        vertical-align: middle;\n",
              "    }\n",
              "\n",
              "    .dataframe tbody tr th {\n",
              "        vertical-align: top;\n",
              "    }\n",
              "\n",
              "    .dataframe thead th {\n",
              "        text-align: right;\n",
              "    }\n",
              "</style>\n",
              "<table border=\"1\" class=\"dataframe\">\n",
              "  <thead>\n",
              "    <tr style=\"text-align: right;\">\n",
              "      <th></th>\n",
              "      <th>uid</th>\n",
              "      <th>item_name</th>\n",
              "    </tr>\n",
              "  </thead>\n",
              "  <tbody>\n",
              "    <tr>\n",
              "      <th>758462</th>\n",
              "      <td>180</td>\n",
              "      <td>Dances with Wolves (1990)</td>\n",
              "    </tr>\n",
              "    <tr>\n",
              "      <th>758463</th>\n",
              "      <td>180</td>\n",
              "      <td>Up Close and Personal (1996)</td>\n",
              "    </tr>\n",
              "    <tr>\n",
              "      <th>758464</th>\n",
              "      <td>180</td>\n",
              "      <td>Jackie Brown (1997)</td>\n",
              "    </tr>\n",
              "    <tr>\n",
              "      <th>758465</th>\n",
              "      <td>180</td>\n",
              "      <td>Patton (1970)</td>\n",
              "    </tr>\n",
              "    <tr>\n",
              "      <th>758466</th>\n",
              "      <td>180</td>\n",
              "      <td>Hoop Dreams (1994)</td>\n",
              "    </tr>\n",
              "  </tbody>\n",
              "</table>\n",
              "</div>\n",
              "    <div class=\"colab-df-buttons\">\n",
              "\n",
              "  <div class=\"colab-df-container\">\n",
              "    <button class=\"colab-df-convert\" onclick=\"convertToInteractive('df-3d037808-3e40-4a91-a13e-4bd490c1d734')\"\n",
              "            title=\"Convert this dataframe to an interactive table.\"\n",
              "            style=\"display:none;\">\n",
              "\n",
              "  <svg xmlns=\"http://www.w3.org/2000/svg\" height=\"24px\" viewBox=\"0 -960 960 960\">\n",
              "    <path d=\"M120-120v-720h720v720H120Zm60-500h600v-160H180v160Zm220 220h160v-160H400v160Zm0 220h160v-160H400v160ZM180-400h160v-160H180v160Zm440 0h160v-160H620v160ZM180-180h160v-160H180v160Zm440 0h160v-160H620v160Z\"/>\n",
              "  </svg>\n",
              "    </button>\n",
              "\n",
              "  <style>\n",
              "    .colab-df-container {\n",
              "      display:flex;\n",
              "      gap: 12px;\n",
              "    }\n",
              "\n",
              "    .colab-df-convert {\n",
              "      background-color: #E8F0FE;\n",
              "      border: none;\n",
              "      border-radius: 50%;\n",
              "      cursor: pointer;\n",
              "      display: none;\n",
              "      fill: #1967D2;\n",
              "      height: 32px;\n",
              "      padding: 0 0 0 0;\n",
              "      width: 32px;\n",
              "    }\n",
              "\n",
              "    .colab-df-convert:hover {\n",
              "      background-color: #E2EBFA;\n",
              "      box-shadow: 0px 1px 2px rgba(60, 64, 67, 0.3), 0px 1px 3px 1px rgba(60, 64, 67, 0.15);\n",
              "      fill: #174EA6;\n",
              "    }\n",
              "\n",
              "    .colab-df-buttons div {\n",
              "      margin-bottom: 4px;\n",
              "    }\n",
              "\n",
              "    [theme=dark] .colab-df-convert {\n",
              "      background-color: #3B4455;\n",
              "      fill: #D2E3FC;\n",
              "    }\n",
              "\n",
              "    [theme=dark] .colab-df-convert:hover {\n",
              "      background-color: #434B5C;\n",
              "      box-shadow: 0px 1px 3px 1px rgba(0, 0, 0, 0.15);\n",
              "      filter: drop-shadow(0px 1px 2px rgba(0, 0, 0, 0.3));\n",
              "      fill: #FFFFFF;\n",
              "    }\n",
              "  </style>\n",
              "\n",
              "    <script>\n",
              "      const buttonEl =\n",
              "        document.querySelector('#df-3d037808-3e40-4a91-a13e-4bd490c1d734 button.colab-df-convert');\n",
              "      buttonEl.style.display =\n",
              "        google.colab.kernel.accessAllowed ? 'block' : 'none';\n",
              "\n",
              "      async function convertToInteractive(key) {\n",
              "        const element = document.querySelector('#df-3d037808-3e40-4a91-a13e-4bd490c1d734');\n",
              "        const dataTable =\n",
              "          await google.colab.kernel.invokeFunction('convertToInteractive',\n",
              "                                                    [key], {});\n",
              "        if (!dataTable) return;\n",
              "\n",
              "        const docLinkHtml = 'Like what you see? Visit the ' +\n",
              "          '<a target=\"_blank\" href=https://colab.research.google.com/notebooks/data_table.ipynb>data table notebook</a>'\n",
              "          + ' to learn more about interactive tables.';\n",
              "        element.innerHTML = '';\n",
              "        dataTable['output_type'] = 'display_data';\n",
              "        await google.colab.output.renderOutput(dataTable, element);\n",
              "        const docLink = document.createElement('div');\n",
              "        docLink.innerHTML = docLinkHtml;\n",
              "        element.appendChild(docLink);\n",
              "      }\n",
              "    </script>\n",
              "  </div>\n",
              "\n",
              "\n",
              "<div id=\"df-0592ee3b-0db0-4335-9cb9-b9c67573d565\">\n",
              "  <button class=\"colab-df-quickchart\" onclick=\"quickchart('df-0592ee3b-0db0-4335-9cb9-b9c67573d565')\"\n",
              "            title=\"Suggest charts\"\n",
              "            style=\"display:none;\">\n",
              "\n",
              "<svg xmlns=\"http://www.w3.org/2000/svg\" height=\"24px\"viewBox=\"0 0 24 24\"\n",
              "     width=\"24px\">\n",
              "    <g>\n",
              "        <path d=\"M19 3H5c-1.1 0-2 .9-2 2v14c0 1.1.9 2 2 2h14c1.1 0 2-.9 2-2V5c0-1.1-.9-2-2-2zM9 17H7v-7h2v7zm4 0h-2V7h2v10zm4 0h-2v-4h2v4z\"/>\n",
              "    </g>\n",
              "</svg>\n",
              "  </button>\n",
              "\n",
              "<style>\n",
              "  .colab-df-quickchart {\n",
              "      --bg-color: #E8F0FE;\n",
              "      --fill-color: #1967D2;\n",
              "      --hover-bg-color: #E2EBFA;\n",
              "      --hover-fill-color: #174EA6;\n",
              "      --disabled-fill-color: #AAA;\n",
              "      --disabled-bg-color: #DDD;\n",
              "  }\n",
              "\n",
              "  [theme=dark] .colab-df-quickchart {\n",
              "      --bg-color: #3B4455;\n",
              "      --fill-color: #D2E3FC;\n",
              "      --hover-bg-color: #434B5C;\n",
              "      --hover-fill-color: #FFFFFF;\n",
              "      --disabled-bg-color: #3B4455;\n",
              "      --disabled-fill-color: #666;\n",
              "  }\n",
              "\n",
              "  .colab-df-quickchart {\n",
              "    background-color: var(--bg-color);\n",
              "    border: none;\n",
              "    border-radius: 50%;\n",
              "    cursor: pointer;\n",
              "    display: none;\n",
              "    fill: var(--fill-color);\n",
              "    height: 32px;\n",
              "    padding: 0;\n",
              "    width: 32px;\n",
              "  }\n",
              "\n",
              "  .colab-df-quickchart:hover {\n",
              "    background-color: var(--hover-bg-color);\n",
              "    box-shadow: 0 1px 2px rgba(60, 64, 67, 0.3), 0 1px 3px 1px rgba(60, 64, 67, 0.15);\n",
              "    fill: var(--button-hover-fill-color);\n",
              "  }\n",
              "\n",
              "  .colab-df-quickchart-complete:disabled,\n",
              "  .colab-df-quickchart-complete:disabled:hover {\n",
              "    background-color: var(--disabled-bg-color);\n",
              "    fill: var(--disabled-fill-color);\n",
              "    box-shadow: none;\n",
              "  }\n",
              "\n",
              "  .colab-df-spinner {\n",
              "    border: 2px solid var(--fill-color);\n",
              "    border-color: transparent;\n",
              "    border-bottom-color: var(--fill-color);\n",
              "    animation:\n",
              "      spin 1s steps(1) infinite;\n",
              "  }\n",
              "\n",
              "  @keyframes spin {\n",
              "    0% {\n",
              "      border-color: transparent;\n",
              "      border-bottom-color: var(--fill-color);\n",
              "      border-left-color: var(--fill-color);\n",
              "    }\n",
              "    20% {\n",
              "      border-color: transparent;\n",
              "      border-left-color: var(--fill-color);\n",
              "      border-top-color: var(--fill-color);\n",
              "    }\n",
              "    30% {\n",
              "      border-color: transparent;\n",
              "      border-left-color: var(--fill-color);\n",
              "      border-top-color: var(--fill-color);\n",
              "      border-right-color: var(--fill-color);\n",
              "    }\n",
              "    40% {\n",
              "      border-color: transparent;\n",
              "      border-right-color: var(--fill-color);\n",
              "      border-top-color: var(--fill-color);\n",
              "    }\n",
              "    60% {\n",
              "      border-color: transparent;\n",
              "      border-right-color: var(--fill-color);\n",
              "    }\n",
              "    80% {\n",
              "      border-color: transparent;\n",
              "      border-right-color: var(--fill-color);\n",
              "      border-bottom-color: var(--fill-color);\n",
              "    }\n",
              "    90% {\n",
              "      border-color: transparent;\n",
              "      border-bottom-color: var(--fill-color);\n",
              "    }\n",
              "  }\n",
              "</style>\n",
              "\n",
              "  <script>\n",
              "    async function quickchart(key) {\n",
              "      const quickchartButtonEl =\n",
              "        document.querySelector('#' + key + ' button');\n",
              "      quickchartButtonEl.disabled = true;  // To prevent multiple clicks.\n",
              "      quickchartButtonEl.classList.add('colab-df-spinner');\n",
              "      try {\n",
              "        const charts = await google.colab.kernel.invokeFunction(\n",
              "            'suggestCharts', [key], {});\n",
              "      } catch (error) {\n",
              "        console.error('Error during call to suggestCharts:', error);\n",
              "      }\n",
              "      quickchartButtonEl.classList.remove('colab-df-spinner');\n",
              "      quickchartButtonEl.classList.add('colab-df-quickchart-complete');\n",
              "    }\n",
              "    (() => {\n",
              "      let quickchartButtonEl =\n",
              "        document.querySelector('#df-0592ee3b-0db0-4335-9cb9-b9c67573d565 button');\n",
              "      quickchartButtonEl.style.display =\n",
              "        google.colab.kernel.accessAllowed ? 'block' : 'none';\n",
              "    })();\n",
              "  </script>\n",
              "</div>\n",
              "\n",
              "    </div>\n",
              "  </div>\n"
            ],
            "application/vnd.google.colaboratory.intrinsic+json": {
              "type": "dataframe",
              "summary": "{\n  \"name\": \"df_top5_biased[df_top5_biased\",\n  \"rows\": 5,\n  \"fields\": [\n    {\n      \"column\": \"uid\",\n      \"properties\": {\n        \"dtype\": \"number\",\n        \"std\": 0,\n        \"min\": 180,\n        \"max\": 180,\n        \"num_unique_values\": 1,\n        \"samples\": [\n          180\n        ],\n        \"semantic_type\": \"\",\n        \"description\": \"\"\n      }\n    },\n    {\n      \"column\": \"item_name\",\n      \"properties\": {\n        \"dtype\": \"string\",\n        \"num_unique_values\": 5,\n        \"samples\": [\n          \"Up Close and Personal (1996)\"\n        ],\n        \"semantic_type\": \"\",\n        \"description\": \"\"\n      }\n    }\n  ]\n}"
            }
          },
          "metadata": {},
          "execution_count": 43
        }
      ]
    },
    {
      "cell_type": "code",
      "source": [],
      "metadata": {
        "id": "F0-C3T64E_fw"
      },
      "execution_count": 43,
      "outputs": []
    }
  ]
}