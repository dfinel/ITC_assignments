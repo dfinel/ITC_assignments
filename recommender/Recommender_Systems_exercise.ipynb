{
  "nbformat": 4,
  "nbformat_minor": 0,
  "metadata": {
    "colab": {
      "provenance": []
    },
    "kernelspec": {
      "name": "python3",
      "display_name": "Python 3"
    },
    "language_info": {
      "name": "python"
    }
  },
  "cells": [
    {
      "cell_type": "markdown",
      "metadata": {
        "id": "22oJ7UQLLh8Z"
      },
      "source": [
        "# Recommender Systems\n",
        "\n",
        "This demo uses the Python [Surprise](https://github.com/NicolasHug/Surprise) library with the matrix factorization algorithm for collaborative filtering on the MovieLens 100K dataset."
      ]
    },
    {
      "cell_type": "markdown",
      "metadata": {
        "id": "ynve-_rPLfP1"
      },
      "source": [
        "## Part 1. Setup and basic EDA\n",
        "\n",
        "First run the cell below to install the [Surprise](https://github.com/NicolasHug/Surprise) library, a [SciKit](https://www.scipy.org/scikits.html) API for building recommender systems in Python:"
      ]
    },
    {
      "cell_type": "code",
      "metadata": {
        "id": "e4W0sjbnURj2",
        "outputId": "ca8f19a9-e0f1-4c3d-d345-f739a587305d",
        "colab": {
          "base_uri": "https://localhost:8080/"
        }
      },
      "source": [
        "! pip install surprise"
      ],
      "execution_count": 1,
      "outputs": [
        {
          "output_type": "stream",
          "name": "stdout",
          "text": [
            "Requirement already satisfied: surprise in /usr/local/lib/python3.10/dist-packages (0.1)\n",
            "Requirement already satisfied: scikit-surprise in /usr/local/lib/python3.10/dist-packages (from surprise) (1.1.3)\n",
            "Requirement already satisfied: joblib>=1.0.0 in /usr/local/lib/python3.10/dist-packages (from scikit-surprise->surprise) (1.3.2)\n",
            "Requirement already satisfied: numpy>=1.17.3 in /usr/local/lib/python3.10/dist-packages (from scikit-surprise->surprise) (1.25.2)\n",
            "Requirement already satisfied: scipy>=1.3.2 in /usr/local/lib/python3.10/dist-packages (from scikit-surprise->surprise) (1.11.4)\n"
          ]
        }
      ]
    },
    {
      "cell_type": "markdown",
      "metadata": {
        "id": "ETTCTiFI21dF"
      },
      "source": [
        "We will first load the classic [MovieLens 100K Dataset](https://grouplens.org/datasets/movielens/100k/) of online movie ratings, using the Surprise API.\n",
        "\n",
        "**Questions:**\n",
        "1. Use the code from [this GitHub Gist](https://gist.github.com/morrisalp/b6cb81bf73411c40f861f865a2b12fa9) to load the dataset. Uncomment the section that uses `train_test_split` so that the test data contains known movie ratings."
      ]
    },
    {
      "cell_type": "code",
      "source": [
        "# your code here\n",
        "import surprise\n",
        "import pandas as pd\n",
        "\n",
        "data = surprise.Dataset.load_builtin('ml-100k')\n",
        "ddir = surprise.get_dataset_dir()\n",
        "\n",
        "item_data = pd.read_csv(f'{ddir}/ml-100k/ml-100k/u.item',\n",
        "                        sep='|',\n",
        "                        header=None,\n",
        "                        encoding='ISO-8859-1',\n",
        "                        usecols=[0, 1],\n",
        "                        names=['iid', 'item_name'])\n",
        "\n",
        "def dataset2df(ds, train=True):\n",
        "  df = pd.DataFrame(ds.all_ratings() if train else ds,\n",
        "                    columns=['uid', 'iid', 'rating'])\n",
        "  if train:\n",
        "    df.uid = df.uid.apply(trainset.to_raw_uid)\n",
        "    df.iid = df.iid.apply(trainset.to_raw_iid)\n",
        "  df.uid = df.uid.astype(int)\n",
        "  df.iid = df.iid.astype(int)\n",
        "  return pd.merge(df, item_data, how='left')\n",
        "\n",
        "def datasets2dfs(trainset, testset):\n",
        "  df_train = dataset2df(trainset)\n",
        "  df_test = dataset2df(testset, train=False)\n",
        "  return df_train, df_test\n",
        "\n",
        "\n",
        "trainset, testset = surprise.model_selection.train_test_split(data, test_size=.25)\n",
        "df_train, df_test = datasets2dfs(trainset, testset)"
      ],
      "metadata": {
        "id": "EeUgTqkPXzTh"
      },
      "execution_count": 2,
      "outputs": []
    },
    {
      "cell_type": "markdown",
      "source": [
        "2. Perform basic EDA, and make sure the check the following details:\n",
        "  * Size of train and test datasets, features they contain and their meanings.\n",
        "  * Calculate the following on the train dataset:\n",
        "    * Number of unique movies and users in dataset, and how how many movies each user has rated on average.\n",
        "    * Distribution of movie ratings in general, average ratings per user, and average ratings per movie.\n",
        "    * Which movies are best/worst rated? (simple mean of user ratings)\n",
        "    * Which movies viewed by at least 10 users are best/worst rated?\n",
        "    * Which users are most/least positive in their ratings? (simple mean of movie ratings)\n",
        "\n",
        "**Advanced note:** Actually, it is not really \"fair\" to judge which movies are most or least popular by mean rating, because a movie with a single 1-star rating will seem worse than one with 99 1-star ratings and a single 2-star rating. A better approach would be to estimate the standard error of the sample mean $SE=\\sigma/\\sqrt{n}$ for each movie, calculate a 95% CI for the sample mean using this and sort by lower or upper bounds of this interval."
      ],
      "metadata": {
        "id": "viBxoarswK83"
      }
    },
    {
      "cell_type": "code",
      "source": [
        "# your code here\n",
        "df_train.shape,df_test.shape"
      ],
      "metadata": {
        "id": "pWLZnbqEX0I0",
        "outputId": "d6ed183c-7f19-4c39-97c0-a42ad8ba3d20",
        "colab": {
          "base_uri": "https://localhost:8080/"
        }
      },
      "execution_count": 3,
      "outputs": [
        {
          "output_type": "execute_result",
          "data": {
            "text/plain": [
              "((75000, 4), (25000, 4))"
            ]
          },
          "metadata": {},
          "execution_count": 3
        }
      ]
    },
    {
      "cell_type": "code",
      "source": [
        "df_train.sample(5)"
      ],
      "metadata": {
        "id": "5b571ZRgoa4V",
        "outputId": "52d28092-fe17-43a2-ee7c-439de188827e",
        "colab": {
          "base_uri": "https://localhost:8080/",
          "height": 206
        }
      },
      "execution_count": 4,
      "outputs": [
        {
          "output_type": "execute_result",
          "data": {
            "text/plain": [
              "       uid   iid  rating                          item_name\n",
              "16037  455  1174     3.0                      Caught (1996)\n",
              "30981  312    28     4.0                   Apollo 13 (1995)\n",
              "24558  716   423     4.0  E.T. the Extra-Terrestrial (1982)\n",
              "34765  488   707     2.0             Enchanted April (1991)\n",
              "46937  889  1048     3.0               She's the One (1996)"
            ],
            "text/html": [
              "\n",
              "  <div id=\"df-3eb19126-14a2-4338-8259-5f00f9cd2998\" class=\"colab-df-container\">\n",
              "    <div>\n",
              "<style scoped>\n",
              "    .dataframe tbody tr th:only-of-type {\n",
              "        vertical-align: middle;\n",
              "    }\n",
              "\n",
              "    .dataframe tbody tr th {\n",
              "        vertical-align: top;\n",
              "    }\n",
              "\n",
              "    .dataframe thead th {\n",
              "        text-align: right;\n",
              "    }\n",
              "</style>\n",
              "<table border=\"1\" class=\"dataframe\">\n",
              "  <thead>\n",
              "    <tr style=\"text-align: right;\">\n",
              "      <th></th>\n",
              "      <th>uid</th>\n",
              "      <th>iid</th>\n",
              "      <th>rating</th>\n",
              "      <th>item_name</th>\n",
              "    </tr>\n",
              "  </thead>\n",
              "  <tbody>\n",
              "    <tr>\n",
              "      <th>16037</th>\n",
              "      <td>455</td>\n",
              "      <td>1174</td>\n",
              "      <td>3.0</td>\n",
              "      <td>Caught (1996)</td>\n",
              "    </tr>\n",
              "    <tr>\n",
              "      <th>30981</th>\n",
              "      <td>312</td>\n",
              "      <td>28</td>\n",
              "      <td>4.0</td>\n",
              "      <td>Apollo 13 (1995)</td>\n",
              "    </tr>\n",
              "    <tr>\n",
              "      <th>24558</th>\n",
              "      <td>716</td>\n",
              "      <td>423</td>\n",
              "      <td>4.0</td>\n",
              "      <td>E.T. the Extra-Terrestrial (1982)</td>\n",
              "    </tr>\n",
              "    <tr>\n",
              "      <th>34765</th>\n",
              "      <td>488</td>\n",
              "      <td>707</td>\n",
              "      <td>2.0</td>\n",
              "      <td>Enchanted April (1991)</td>\n",
              "    </tr>\n",
              "    <tr>\n",
              "      <th>46937</th>\n",
              "      <td>889</td>\n",
              "      <td>1048</td>\n",
              "      <td>3.0</td>\n",
              "      <td>She's the One (1996)</td>\n",
              "    </tr>\n",
              "  </tbody>\n",
              "</table>\n",
              "</div>\n",
              "    <div class=\"colab-df-buttons\">\n",
              "\n",
              "  <div class=\"colab-df-container\">\n",
              "    <button class=\"colab-df-convert\" onclick=\"convertToInteractive('df-3eb19126-14a2-4338-8259-5f00f9cd2998')\"\n",
              "            title=\"Convert this dataframe to an interactive table.\"\n",
              "            style=\"display:none;\">\n",
              "\n",
              "  <svg xmlns=\"http://www.w3.org/2000/svg\" height=\"24px\" viewBox=\"0 -960 960 960\">\n",
              "    <path d=\"M120-120v-720h720v720H120Zm60-500h600v-160H180v160Zm220 220h160v-160H400v160Zm0 220h160v-160H400v160ZM180-400h160v-160H180v160Zm440 0h160v-160H620v160ZM180-180h160v-160H180v160Zm440 0h160v-160H620v160Z\"/>\n",
              "  </svg>\n",
              "    </button>\n",
              "\n",
              "  <style>\n",
              "    .colab-df-container {\n",
              "      display:flex;\n",
              "      gap: 12px;\n",
              "    }\n",
              "\n",
              "    .colab-df-convert {\n",
              "      background-color: #E8F0FE;\n",
              "      border: none;\n",
              "      border-radius: 50%;\n",
              "      cursor: pointer;\n",
              "      display: none;\n",
              "      fill: #1967D2;\n",
              "      height: 32px;\n",
              "      padding: 0 0 0 0;\n",
              "      width: 32px;\n",
              "    }\n",
              "\n",
              "    .colab-df-convert:hover {\n",
              "      background-color: #E2EBFA;\n",
              "      box-shadow: 0px 1px 2px rgba(60, 64, 67, 0.3), 0px 1px 3px 1px rgba(60, 64, 67, 0.15);\n",
              "      fill: #174EA6;\n",
              "    }\n",
              "\n",
              "    .colab-df-buttons div {\n",
              "      margin-bottom: 4px;\n",
              "    }\n",
              "\n",
              "    [theme=dark] .colab-df-convert {\n",
              "      background-color: #3B4455;\n",
              "      fill: #D2E3FC;\n",
              "    }\n",
              "\n",
              "    [theme=dark] .colab-df-convert:hover {\n",
              "      background-color: #434B5C;\n",
              "      box-shadow: 0px 1px 3px 1px rgba(0, 0, 0, 0.15);\n",
              "      filter: drop-shadow(0px 1px 2px rgba(0, 0, 0, 0.3));\n",
              "      fill: #FFFFFF;\n",
              "    }\n",
              "  </style>\n",
              "\n",
              "    <script>\n",
              "      const buttonEl =\n",
              "        document.querySelector('#df-3eb19126-14a2-4338-8259-5f00f9cd2998 button.colab-df-convert');\n",
              "      buttonEl.style.display =\n",
              "        google.colab.kernel.accessAllowed ? 'block' : 'none';\n",
              "\n",
              "      async function convertToInteractive(key) {\n",
              "        const element = document.querySelector('#df-3eb19126-14a2-4338-8259-5f00f9cd2998');\n",
              "        const dataTable =\n",
              "          await google.colab.kernel.invokeFunction('convertToInteractive',\n",
              "                                                    [key], {});\n",
              "        if (!dataTable) return;\n",
              "\n",
              "        const docLinkHtml = 'Like what you see? Visit the ' +\n",
              "          '<a target=\"_blank\" href=https://colab.research.google.com/notebooks/data_table.ipynb>data table notebook</a>'\n",
              "          + ' to learn more about interactive tables.';\n",
              "        element.innerHTML = '';\n",
              "        dataTable['output_type'] = 'display_data';\n",
              "        await google.colab.output.renderOutput(dataTable, element);\n",
              "        const docLink = document.createElement('div');\n",
              "        docLink.innerHTML = docLinkHtml;\n",
              "        element.appendChild(docLink);\n",
              "      }\n",
              "    </script>\n",
              "  </div>\n",
              "\n",
              "\n",
              "<div id=\"df-0667049e-2694-4e16-b845-f819d26a77ad\">\n",
              "  <button class=\"colab-df-quickchart\" onclick=\"quickchart('df-0667049e-2694-4e16-b845-f819d26a77ad')\"\n",
              "            title=\"Suggest charts\"\n",
              "            style=\"display:none;\">\n",
              "\n",
              "<svg xmlns=\"http://www.w3.org/2000/svg\" height=\"24px\"viewBox=\"0 0 24 24\"\n",
              "     width=\"24px\">\n",
              "    <g>\n",
              "        <path d=\"M19 3H5c-1.1 0-2 .9-2 2v14c0 1.1.9 2 2 2h14c1.1 0 2-.9 2-2V5c0-1.1-.9-2-2-2zM9 17H7v-7h2v7zm4 0h-2V7h2v10zm4 0h-2v-4h2v4z\"/>\n",
              "    </g>\n",
              "</svg>\n",
              "  </button>\n",
              "\n",
              "<style>\n",
              "  .colab-df-quickchart {\n",
              "      --bg-color: #E8F0FE;\n",
              "      --fill-color: #1967D2;\n",
              "      --hover-bg-color: #E2EBFA;\n",
              "      --hover-fill-color: #174EA6;\n",
              "      --disabled-fill-color: #AAA;\n",
              "      --disabled-bg-color: #DDD;\n",
              "  }\n",
              "\n",
              "  [theme=dark] .colab-df-quickchart {\n",
              "      --bg-color: #3B4455;\n",
              "      --fill-color: #D2E3FC;\n",
              "      --hover-bg-color: #434B5C;\n",
              "      --hover-fill-color: #FFFFFF;\n",
              "      --disabled-bg-color: #3B4455;\n",
              "      --disabled-fill-color: #666;\n",
              "  }\n",
              "\n",
              "  .colab-df-quickchart {\n",
              "    background-color: var(--bg-color);\n",
              "    border: none;\n",
              "    border-radius: 50%;\n",
              "    cursor: pointer;\n",
              "    display: none;\n",
              "    fill: var(--fill-color);\n",
              "    height: 32px;\n",
              "    padding: 0;\n",
              "    width: 32px;\n",
              "  }\n",
              "\n",
              "  .colab-df-quickchart:hover {\n",
              "    background-color: var(--hover-bg-color);\n",
              "    box-shadow: 0 1px 2px rgba(60, 64, 67, 0.3), 0 1px 3px 1px rgba(60, 64, 67, 0.15);\n",
              "    fill: var(--button-hover-fill-color);\n",
              "  }\n",
              "\n",
              "  .colab-df-quickchart-complete:disabled,\n",
              "  .colab-df-quickchart-complete:disabled:hover {\n",
              "    background-color: var(--disabled-bg-color);\n",
              "    fill: var(--disabled-fill-color);\n",
              "    box-shadow: none;\n",
              "  }\n",
              "\n",
              "  .colab-df-spinner {\n",
              "    border: 2px solid var(--fill-color);\n",
              "    border-color: transparent;\n",
              "    border-bottom-color: var(--fill-color);\n",
              "    animation:\n",
              "      spin 1s steps(1) infinite;\n",
              "  }\n",
              "\n",
              "  @keyframes spin {\n",
              "    0% {\n",
              "      border-color: transparent;\n",
              "      border-bottom-color: var(--fill-color);\n",
              "      border-left-color: var(--fill-color);\n",
              "    }\n",
              "    20% {\n",
              "      border-color: transparent;\n",
              "      border-left-color: var(--fill-color);\n",
              "      border-top-color: var(--fill-color);\n",
              "    }\n",
              "    30% {\n",
              "      border-color: transparent;\n",
              "      border-left-color: var(--fill-color);\n",
              "      border-top-color: var(--fill-color);\n",
              "      border-right-color: var(--fill-color);\n",
              "    }\n",
              "    40% {\n",
              "      border-color: transparent;\n",
              "      border-right-color: var(--fill-color);\n",
              "      border-top-color: var(--fill-color);\n",
              "    }\n",
              "    60% {\n",
              "      border-color: transparent;\n",
              "      border-right-color: var(--fill-color);\n",
              "    }\n",
              "    80% {\n",
              "      border-color: transparent;\n",
              "      border-right-color: var(--fill-color);\n",
              "      border-bottom-color: var(--fill-color);\n",
              "    }\n",
              "    90% {\n",
              "      border-color: transparent;\n",
              "      border-bottom-color: var(--fill-color);\n",
              "    }\n",
              "  }\n",
              "</style>\n",
              "\n",
              "  <script>\n",
              "    async function quickchart(key) {\n",
              "      const quickchartButtonEl =\n",
              "        document.querySelector('#' + key + ' button');\n",
              "      quickchartButtonEl.disabled = true;  // To prevent multiple clicks.\n",
              "      quickchartButtonEl.classList.add('colab-df-spinner');\n",
              "      try {\n",
              "        const charts = await google.colab.kernel.invokeFunction(\n",
              "            'suggestCharts', [key], {});\n",
              "      } catch (error) {\n",
              "        console.error('Error during call to suggestCharts:', error);\n",
              "      }\n",
              "      quickchartButtonEl.classList.remove('colab-df-spinner');\n",
              "      quickchartButtonEl.classList.add('colab-df-quickchart-complete');\n",
              "    }\n",
              "    (() => {\n",
              "      let quickchartButtonEl =\n",
              "        document.querySelector('#df-0667049e-2694-4e16-b845-f819d26a77ad button');\n",
              "      quickchartButtonEl.style.display =\n",
              "        google.colab.kernel.accessAllowed ? 'block' : 'none';\n",
              "    })();\n",
              "  </script>\n",
              "</div>\n",
              "\n",
              "    </div>\n",
              "  </div>\n"
            ],
            "application/vnd.google.colaboratory.intrinsic+json": {
              "type": "dataframe",
              "summary": "{\n  \"name\": \"df_train\",\n  \"rows\": 5,\n  \"fields\": [\n    {\n      \"column\": \"uid\",\n      \"properties\": {\n        \"dtype\": \"number\",\n        \"std\": 228,\n        \"min\": 312,\n        \"max\": 889,\n        \"num_unique_values\": 5,\n        \"samples\": [\n          312,\n          889,\n          716\n        ],\n        \"semantic_type\": \"\",\n        \"description\": \"\"\n      }\n    },\n    {\n      \"column\": \"iid\",\n      \"properties\": {\n        \"dtype\": \"number\",\n        \"std\": 466,\n        \"min\": 28,\n        \"max\": 1174,\n        \"num_unique_values\": 5,\n        \"samples\": [\n          28,\n          1048,\n          423\n        ],\n        \"semantic_type\": \"\",\n        \"description\": \"\"\n      }\n    },\n    {\n      \"column\": \"rating\",\n      \"properties\": {\n        \"dtype\": \"number\",\n        \"std\": 0.8366600265340756,\n        \"min\": 2.0,\n        \"max\": 4.0,\n        \"num_unique_values\": 3,\n        \"samples\": [\n          3.0,\n          4.0,\n          2.0\n        ],\n        \"semantic_type\": \"\",\n        \"description\": \"\"\n      }\n    },\n    {\n      \"column\": \"item_name\",\n      \"properties\": {\n        \"dtype\": \"string\",\n        \"num_unique_values\": 5,\n        \"samples\": [\n          \"Apollo 13 (1995)\",\n          \"She's the One (1996)\",\n          \"E.T. the Extra-Terrestrial (1982)\"\n        ],\n        \"semantic_type\": \"\",\n        \"description\": \"\"\n      }\n    }\n  ]\n}"
            }
          },
          "metadata": {},
          "execution_count": 4
        }
      ]
    },
    {
      "cell_type": "markdown",
      "source": [
        "uid : user id\n",
        "\n",
        "iid : item id"
      ],
      "metadata": {
        "id": "O2-pLHygpZWe"
      }
    },
    {
      "cell_type": "code",
      "source": [
        "nbr_uniq_mov = len(set(df_train.iid))\n",
        "nbr_uniq_mov"
      ],
      "metadata": {
        "id": "7jn7YeKepfWY",
        "outputId": "53272e01-2ed3-4669-b24d-d5db2186a06d",
        "colab": {
          "base_uri": "https://localhost:8080/"
        }
      },
      "execution_count": 5,
      "outputs": [
        {
          "output_type": "execute_result",
          "data": {
            "text/plain": [
              "1647"
            ]
          },
          "metadata": {},
          "execution_count": 5
        }
      ]
    },
    {
      "cell_type": "markdown",
      "source": [
        "1646 unique movies."
      ],
      "metadata": {
        "id": "MufCXIOGpoTk"
      }
    },
    {
      "cell_type": "code",
      "source": [
        "nbr_uniq_user = len(set(df_train.uid))\n",
        "nbr_uniq_user"
      ],
      "metadata": {
        "id": "VAh7-KA1prjW",
        "outputId": "77ebbad2-7e17-4315-f924-dfdd0da548b3",
        "colab": {
          "base_uri": "https://localhost:8080/"
        }
      },
      "execution_count": 6,
      "outputs": [
        {
          "output_type": "execute_result",
          "data": {
            "text/plain": [
              "943"
            ]
          },
          "metadata": {},
          "execution_count": 6
        }
      ]
    },
    {
      "cell_type": "markdown",
      "source": [
        "943 unique users."
      ],
      "metadata": {
        "id": "mk_K_PgBp4OP"
      }
    },
    {
      "cell_type": "code",
      "source": [
        "import numpy as np\n",
        "avg_nbr_rat = df_train.iid.value_counts().mean()\n",
        "avg_nbr_rat"
      ],
      "metadata": {
        "id": "x201DMk0p7yK",
        "outputId": "cf1b4ca0-ffb9-4833-b2b0-48fe3d7df2a0",
        "colab": {
          "base_uri": "https://localhost:8080/"
        }
      },
      "execution_count": 7,
      "outputs": [
        {
          "output_type": "execute_result",
          "data": {
            "text/plain": [
              "45.537340619307834"
            ]
          },
          "metadata": {},
          "execution_count": 7
        }
      ]
    },
    {
      "cell_type": "markdown",
      "source": [
        "On average, each user has rated 45 movies."
      ],
      "metadata": {
        "id": "cUHbsw-gqVJr"
      }
    },
    {
      "cell_type": "code",
      "source": [
        "df_train.rating.value_counts()/df_train.shape[0]*100"
      ],
      "metadata": {
        "id": "TGuZL0Pur8fi",
        "outputId": "82e14fca-5196-4006-d63a-ae69866c1907",
        "colab": {
          "base_uri": "https://localhost:8080/"
        }
      },
      "execution_count": 8,
      "outputs": [
        {
          "output_type": "execute_result",
          "data": {
            "text/plain": [
              "4.0    34.188000\n",
              "3.0    27.172000\n",
              "5.0    21.116000\n",
              "2.0    11.374667\n",
              "1.0     6.149333\n",
              "Name: rating, dtype: float64"
            ]
          },
          "metadata": {},
          "execution_count": 8
        }
      ]
    },
    {
      "cell_type": "markdown",
      "source": [
        "34% of the ratings are 4\n",
        "\n",
        "27% are 3\n",
        "\n",
        "21% are 5\n",
        "\n",
        "11% are 2\n",
        "\n",
        "6% are 1"
      ],
      "metadata": {
        "id": "bTC_L5_MsDE8"
      }
    },
    {
      "cell_type": "code",
      "source": [
        "avg_rat_per_user = df_train.groupby('uid').rating.mean().sum()/nbr_uniq_user\n",
        "avg_rat_per_user"
      ],
      "metadata": {
        "id": "1fYCVzS9sPYG",
        "outputId": "260d6eed-8e3d-4e56-8981-73780359d645",
        "colab": {
          "base_uri": "https://localhost:8080/"
        }
      },
      "execution_count": 9,
      "outputs": [
        {
          "output_type": "execute_result",
          "data": {
            "text/plain": [
              "3.5872114700370346"
            ]
          },
          "metadata": {},
          "execution_count": 9
        }
      ]
    },
    {
      "cell_type": "markdown",
      "source": [
        "The average rating per user is 3.59"
      ],
      "metadata": {
        "id": "zJxkoNq_hJk8"
      }
    },
    {
      "cell_type": "code",
      "source": [
        "avg_rat_per_mov = df_train.groupby('iid').rating.mean().sum()/nbr_uniq_mov\n",
        "avg_rat_per_mov"
      ],
      "metadata": {
        "id": "NSboB5t4hMlh",
        "outputId": "122d8d33-3542-43c4-9f34-624edac62ef5",
        "colab": {
          "base_uri": "https://localhost:8080/"
        }
      },
      "execution_count": 10,
      "outputs": [
        {
          "output_type": "execute_result",
          "data": {
            "text/plain": [
              "3.092077893226319"
            ]
          },
          "metadata": {},
          "execution_count": 10
        }
      ]
    },
    {
      "cell_type": "markdown",
      "source": [
        "The average rating per movie is 3.1"
      ],
      "metadata": {
        "id": "TaZv0KjVhbLi"
      }
    },
    {
      "cell_type": "code",
      "source": [
        "df_train.groupby('item_name').rating.mean().sort_values()"
      ],
      "metadata": {
        "id": "9hK7QHWfhk4R",
        "outputId": "64dc8646-dfb8-4ead-ae9b-c7bb684a5df8",
        "colab": {
          "base_uri": "https://localhost:8080/"
        }
      },
      "execution_count": 11,
      "outputs": [
        {
          "output_type": "execute_result",
          "data": {
            "text/plain": [
              "item_name\n",
              "Careful (1992)                                       1.0\n",
              "Amityville 1992: It's About Time (1992)              1.0\n",
              "Glass Shield, The (1994)                             1.0\n",
              "New Age, The (1994)                                  1.0\n",
              "Beyond Bedlam (1993)                                 1.0\n",
              "                                                    ... \n",
              "Marlene Dietrich: Shadow and Light (1996)            5.0\n",
              "Perfect Candidate, A (1996)                          5.0\n",
              "Aiqing wansui (1994)                                 5.0\n",
              "Entertaining Angels: The Dorothy Day Story (1996)    5.0\n",
              "Someone Else's America (1995)                        5.0\n",
              "Name: rating, Length: 1632, dtype: float64"
            ]
          },
          "metadata": {},
          "execution_count": 11
        }
      ]
    },
    {
      "cell_type": "markdown",
      "source": [
        "Worst rated :\n",
        "\n",
        "Death in the Garden (Mort en ce jardin, La) (1956)    \n",
        "Terror in a Texas Town (1958)                        \n",
        "Men of Means (1998)                                   \n",
        "Amityville: Dollhouse (1996)                          \n",
        "Amityville: A New Generation (1993)\n",
        "\n",
        "Best rated  :\n",
        "\n",
        "They Made Me a Criminal (1939)                        \n",
        "Great Day in Harlem, A (1994)                         \n",
        "Prefontaine (1997)                                    \n",
        "Someone Else's America (1995)                         \n",
        "Marlene Dietrich: Shadow and Light (1996)"
      ],
      "metadata": {
        "id": "P37_Qk9Dh023"
      }
    },
    {
      "cell_type": "code",
      "source": [
        "df_train.item_name.value_counts() > 9"
      ],
      "metadata": {
        "id": "XwDhReY5lB39",
        "outputId": "45c0c462-0f24-400c-a7c0-b2b0e348cdfb",
        "colab": {
          "base_uri": "https://localhost:8080/"
        }
      },
      "execution_count": 12,
      "outputs": [
        {
          "output_type": "execute_result",
          "data": {
            "text/plain": [
              "Star Wars (1977)                   True\n",
              "Return of the Jedi (1983)          True\n",
              "Fargo (1996)                       True\n",
              "Liar Liar (1997)                   True\n",
              "Contact (1997)                     True\n",
              "                                  ...  \n",
              "Pharaoh's Army (1995)             False\n",
              "Big One, The (1997)               False\n",
              "Lashou shentan (1992)             False\n",
              "Symphonie pastorale, La (1946)    False\n",
              "Rough Magic (1995)                False\n",
              "Name: item_name, Length: 1632, dtype: bool"
            ]
          },
          "metadata": {},
          "execution_count": 12
        }
      ]
    },
    {
      "cell_type": "code",
      "source": [
        "df_train[df_train.item_name.isin((df_train.item_name.value_counts() > 9).loc[lambda x : x ].index.tolist())].groupby('item_name').rating.mean().sort_values()"
      ],
      "metadata": {
        "id": "l5QIda5NiL1g",
        "outputId": "f94d66b4-6879-41f5-8e69-405d906f6e55",
        "colab": {
          "base_uri": "https://localhost:8080/"
        }
      },
      "execution_count": 13,
      "outputs": [
        {
          "output_type": "execute_result",
          "data": {
            "text/plain": [
              "item_name\n",
              "Children of the Corn: The Gathering (1996)    1.428571\n",
              "Amityville II: The Possession (1982)          1.636364\n",
              "Free Willy 3: The Rescue (1997)               1.636364\n",
              "Lawnmower Man 2: Beyond Cyberspace (1996)     1.666667\n",
              "Home Alone 3 (1997)                           1.692308\n",
              "                                                ...   \n",
              "Shawshank Redemption, The (1994)              4.408257\n",
              "Affair to Remember, An (1957)                 4.409091\n",
              "Casablanca (1942)                             4.430939\n",
              "Schindler's List (1993)                       4.513274\n",
              "Wrong Trousers, The (1993)                    4.547619\n",
              "Name: rating, Length: 1054, dtype: float64"
            ]
          },
          "metadata": {},
          "execution_count": 13
        }
      ]
    },
    {
      "cell_type": "markdown",
      "source": [
        "Children of the Corn: The Gathering (1996) is the worst rated movie that has been seen by more than 10 users.\n",
        "\n",
        "Wallace & Gromit: The Best of Aardman Animation (1996) is the best rated movie that has been seen by more than 10 users."
      ],
      "metadata": {
        "id": "6FVhBat4p_C_"
      }
    },
    {
      "cell_type": "code",
      "source": [
        "df_train.groupby('uid').rating.mean().sort_values()"
      ],
      "metadata": {
        "id": "ftGV5xDDqR36",
        "outputId": "a6852d70-9bcf-4a6d-9401-14c87912fc1c",
        "colab": {
          "base_uri": "https://localhost:8080/"
        }
      },
      "execution_count": 14,
      "outputs": [
        {
          "output_type": "execute_result",
          "data": {
            "text/plain": [
              "uid\n",
              "181    1.501650\n",
              "405    1.880911\n",
              "445    1.950495\n",
              "774    2.109290\n",
              "865    2.127660\n",
              "         ...   \n",
              "225    4.650000\n",
              "507    4.750000\n",
              "928    4.760000\n",
              "688    4.857143\n",
              "849    4.857143\n",
              "Name: rating, Length: 943, dtype: float64"
            ]
          },
          "metadata": {},
          "execution_count": 14
        }
      ]
    },
    {
      "cell_type": "markdown",
      "source": [
        "The user '181' is the user with the worst movie ratings.\n",
        "\n",
        "The user '849' is the user with the best movie ratings."
      ],
      "metadata": {
        "id": "huTds8OMqa3Z"
      }
    },
    {
      "cell_type": "markdown",
      "source": [
        "## Part 2. Baseline Recommendations\n",
        "\n",
        "Before we build our recommender system model, we must compare its performance to some simple baselines so that we can tell whether our model has any added value.\n",
        "\n",
        "**Questions**:\n",
        "\n",
        "3. If we predict the the overall mean movie rating for every movie (of the movies in the train set), what RMSE do we achieve on the test set? (For every sample in `df_test`, compare the observed rating to the overall mean.)"
      ],
      "metadata": {
        "id": "wyteEewDyb_L"
      }
    },
    {
      "cell_type": "code",
      "source": [
        "# your code here\n",
        "from sklearn.metrics import mean_squared_error\n",
        "y_pred_mean = [df_train.rating.mean()] * df_test.shape[0]\n",
        "rmse_base_mean = np.sqrt(mean_squared_error(df_test.rating,y_pred_mean))"
      ],
      "metadata": {
        "id": "e43g8-vTXoMb"
      },
      "execution_count": 15,
      "outputs": []
    },
    {
      "cell_type": "code",
      "source": [
        "rmse_base_mean"
      ],
      "metadata": {
        "id": "e5ARSYijrOob",
        "outputId": "d57e9537-b300-4e0d-b550-18102542b214",
        "colab": {
          "base_uri": "https://localhost:8080/"
        }
      },
      "execution_count": 16,
      "outputs": [
        {
          "output_type": "execute_result",
          "data": {
            "text/plain": [
              "1.1244908568374894"
            ]
          },
          "metadata": {},
          "execution_count": 16
        }
      ]
    },
    {
      "cell_type": "markdown",
      "source": [
        "We get a rmse of 1.1244."
      ],
      "metadata": {
        "id": "DPPZ1bi3rQZ_"
      }
    },
    {
      "cell_type": "markdown",
      "source": [
        "4. What RMSE do we achieve if we instead use predict using per-user mean ratings? What about per-movie mean ratings?"
      ],
      "metadata": {
        "id": "kC6tPDI40m44"
      }
    },
    {
      "cell_type": "code",
      "source": [
        "# your code here\n",
        "y_pred_peruser = [avg_rat_per_user] * df_test.shape[0]\n",
        "rmse_base_peruser = np.sqrt(mean_squared_error(df_test.rating,y_pred_peruser))\n",
        "rmse_base_peruser"
      ],
      "metadata": {
        "id": "5_l881_UXp5C",
        "outputId": "4c3de2df-b0a6-467c-ad4f-b74ad7efef35",
        "colab": {
          "base_uri": "https://localhost:8080/"
        }
      },
      "execution_count": 17,
      "outputs": [
        {
          "output_type": "execute_result",
          "data": {
            "text/plain": [
              "1.1255688405449384"
            ]
          },
          "metadata": {},
          "execution_count": 17
        }
      ]
    },
    {
      "cell_type": "markdown",
      "source": [
        "We get a rmse of 1.1255 by using the per user mean rating."
      ],
      "metadata": {
        "id": "0sFbNvt4rs8A"
      }
    },
    {
      "cell_type": "code",
      "source": [
        "y_pred_permov = [avg_rat_per_mov] * df_test.shape[0]\n",
        "rmse_base_permov = mean_squared_error(y_pred_permov,df_test.rating)\n",
        "rmse_base_permov"
      ],
      "metadata": {
        "id": "7VmDLD1urylO",
        "outputId": "a535f46d-fbbf-45a4-a87a-af0755195413",
        "colab": {
          "base_uri": "https://localhost:8080/"
        }
      },
      "execution_count": 18,
      "outputs": [
        {
          "output_type": "execute_result",
          "data": {
            "text/plain": [
              "1.462379314864473"
            ]
          },
          "metadata": {},
          "execution_count": 18
        }
      ]
    },
    {
      "cell_type": "markdown",
      "source": [
        "We get a rmse of 1.4623 by using the per movie mean rating."
      ],
      "metadata": {
        "id": "faIxK2hdr_jn"
      }
    },
    {
      "cell_type": "markdown",
      "source": [
        "**Note:** Other useful baselines include giving random recommendations to users, and recommending the same (popular) movies are to all users. You could also get a better idea of the model's performance by calculating p@k (precision-at-k) metrics for these baselines. Feel free to calculate these as a bonus challenge."
      ],
      "metadata": {
        "id": "2XtK9ZS8O76R"
      }
    },
    {
      "cell_type": "markdown",
      "metadata": {
        "id": "yONBqL_itEh8"
      },
      "source": [
        "## Part 3. Building a Recommender System\n",
        "\n",
        "In this section, we will use the popular matrix factorization collaborative filtering algorithm to generate movie recommendations.\n",
        "\n",
        "For more details on the algorithm and the implementation in Surprise, see: [Surprise documentation - Matrix factorization-based algorithms](https://surprise.readthedocs.io/en/stable/matrix_factorization.html)\n",
        "\n",
        "**Questions:**\n",
        "5. Initialize a `surprise.SVD` object with argument `biased=False`, and save it in a variable `model`. (We covered the unbiased version of this algorithm in class. See the documentation link above for details on the algorithm with biases, which is a slight improvement to the algorithm.)"
      ]
    },
    {
      "cell_type": "code",
      "source": [
        "# your code here\n",
        "from surprise import SVD\n",
        "model = SVD(biased = False)"
      ],
      "metadata": {
        "id": "DcweY4VLXrc1"
      },
      "execution_count": 19,
      "outputs": []
    },
    {
      "cell_type": "markdown",
      "source": [
        "6. Fit the model to the training data using `model.fit(...)`. Note: This requires training data in the format of the variable `trainset` loaded above."
      ],
      "metadata": {
        "id": "wK0OsGgQwTnX"
      }
    },
    {
      "cell_type": "code",
      "source": [
        "# your code here\n",
        "model.fit(trainset)"
      ],
      "metadata": {
        "id": "HBeUu913Xr00",
        "outputId": "41021bca-441d-4a55-d0ec-8990b1ed8f45",
        "colab": {
          "base_uri": "https://localhost:8080/"
        }
      },
      "execution_count": 20,
      "outputs": [
        {
          "output_type": "execute_result",
          "data": {
            "text/plain": [
              "<surprise.prediction_algorithms.matrix_factorization.SVD at 0x7b3ff0e97100>"
            ]
          },
          "metadata": {},
          "execution_count": 20
        }
      ]
    },
    {
      "cell_type": "markdown",
      "source": [
        "7. Generate predictions for the test data using `model.test(...)` and save them in a variable `preds`. Note: This requires training data in the format of the variable `testset` loaded above."
      ],
      "metadata": {
        "id": "cA-_UTZBwVwY"
      }
    },
    {
      "cell_type": "code",
      "source": [
        "# your code here\n",
        "preds = model.test(testset)"
      ],
      "metadata": {
        "id": "h-12eXqCXsSX"
      },
      "execution_count": 21,
      "outputs": []
    },
    {
      "cell_type": "markdown",
      "source": [
        "8. Use the code given below to convert the list format of `preds` to a DataFrame `df_preds`, and examine the data it contains. It might be easier to work with this for some of the following questions."
      ],
      "metadata": {
        "id": "yXcPF0XBwXfC"
      }
    },
    {
      "cell_type": "code",
      "metadata": {
        "id": "Cwrn9HU_vdCo"
      },
      "source": [
        "### CODE FOR QUESTION 8 ####\n",
        "df_preds = pd.DataFrame([\n",
        "  {'uid': p.uid, 'iid': p.iid, 'rating': p.r_ui, 'estimated': p.est}\n",
        "  for p in preds\n",
        "])\n",
        "df_preds.uid = df_preds.uid.astype(int)\n",
        "df_preds.iid = df_preds.iid.astype(int)\n",
        "df_preds = pd.merge(df_preds, item_data, how='left')"
      ],
      "execution_count": 22,
      "outputs": []
    },
    {
      "cell_type": "code",
      "source": [
        "df_preds"
      ],
      "metadata": {
        "id": "21VfK4X-4nJW",
        "outputId": "714915b5-c77a-4aec-f0a5-56541918d6fb",
        "colab": {
          "base_uri": "https://localhost:8080/",
          "height": 424
        }
      },
      "execution_count": 23,
      "outputs": [
        {
          "output_type": "execute_result",
          "data": {
            "text/plain": [
              "       uid   iid  rating  estimated                         item_name\n",
              "0      472   395     3.0   3.177143  Robin Hood: Men in Tights (1993)\n",
              "1      104     3     3.0   2.442427                 Four Rooms (1995)\n",
              "2      453   120     1.0   1.946287                 Striptease (1996)\n",
              "3      183   273     4.0   3.161729                       Heat (1995)\n",
              "4      939   118     5.0   4.478442                    Twister (1996)\n",
              "...    ...   ...     ...        ...                               ...\n",
              "24995  145  1245     5.0   3.475448                 Gridlock'd (1997)\n",
              "24996  234   289     4.0   2.473358                      Evita (1996)\n",
              "24997  412     7     5.0   3.934289             Twelve Monkeys (1995)\n",
              "24998   59   476     2.0   3.459768      First Wives Club, The (1996)\n",
              "24999  417   242     3.0   4.304869                      Kolya (1996)\n",
              "\n",
              "[25000 rows x 5 columns]"
            ],
            "text/html": [
              "\n",
              "  <div id=\"df-87600c86-a726-440a-a24c-5f427a8007a9\" class=\"colab-df-container\">\n",
              "    <div>\n",
              "<style scoped>\n",
              "    .dataframe tbody tr th:only-of-type {\n",
              "        vertical-align: middle;\n",
              "    }\n",
              "\n",
              "    .dataframe tbody tr th {\n",
              "        vertical-align: top;\n",
              "    }\n",
              "\n",
              "    .dataframe thead th {\n",
              "        text-align: right;\n",
              "    }\n",
              "</style>\n",
              "<table border=\"1\" class=\"dataframe\">\n",
              "  <thead>\n",
              "    <tr style=\"text-align: right;\">\n",
              "      <th></th>\n",
              "      <th>uid</th>\n",
              "      <th>iid</th>\n",
              "      <th>rating</th>\n",
              "      <th>estimated</th>\n",
              "      <th>item_name</th>\n",
              "    </tr>\n",
              "  </thead>\n",
              "  <tbody>\n",
              "    <tr>\n",
              "      <th>0</th>\n",
              "      <td>472</td>\n",
              "      <td>395</td>\n",
              "      <td>3.0</td>\n",
              "      <td>3.177143</td>\n",
              "      <td>Robin Hood: Men in Tights (1993)</td>\n",
              "    </tr>\n",
              "    <tr>\n",
              "      <th>1</th>\n",
              "      <td>104</td>\n",
              "      <td>3</td>\n",
              "      <td>3.0</td>\n",
              "      <td>2.442427</td>\n",
              "      <td>Four Rooms (1995)</td>\n",
              "    </tr>\n",
              "    <tr>\n",
              "      <th>2</th>\n",
              "      <td>453</td>\n",
              "      <td>120</td>\n",
              "      <td>1.0</td>\n",
              "      <td>1.946287</td>\n",
              "      <td>Striptease (1996)</td>\n",
              "    </tr>\n",
              "    <tr>\n",
              "      <th>3</th>\n",
              "      <td>183</td>\n",
              "      <td>273</td>\n",
              "      <td>4.0</td>\n",
              "      <td>3.161729</td>\n",
              "      <td>Heat (1995)</td>\n",
              "    </tr>\n",
              "    <tr>\n",
              "      <th>4</th>\n",
              "      <td>939</td>\n",
              "      <td>118</td>\n",
              "      <td>5.0</td>\n",
              "      <td>4.478442</td>\n",
              "      <td>Twister (1996)</td>\n",
              "    </tr>\n",
              "    <tr>\n",
              "      <th>...</th>\n",
              "      <td>...</td>\n",
              "      <td>...</td>\n",
              "      <td>...</td>\n",
              "      <td>...</td>\n",
              "      <td>...</td>\n",
              "    </tr>\n",
              "    <tr>\n",
              "      <th>24995</th>\n",
              "      <td>145</td>\n",
              "      <td>1245</td>\n",
              "      <td>5.0</td>\n",
              "      <td>3.475448</td>\n",
              "      <td>Gridlock'd (1997)</td>\n",
              "    </tr>\n",
              "    <tr>\n",
              "      <th>24996</th>\n",
              "      <td>234</td>\n",
              "      <td>289</td>\n",
              "      <td>4.0</td>\n",
              "      <td>2.473358</td>\n",
              "      <td>Evita (1996)</td>\n",
              "    </tr>\n",
              "    <tr>\n",
              "      <th>24997</th>\n",
              "      <td>412</td>\n",
              "      <td>7</td>\n",
              "      <td>5.0</td>\n",
              "      <td>3.934289</td>\n",
              "      <td>Twelve Monkeys (1995)</td>\n",
              "    </tr>\n",
              "    <tr>\n",
              "      <th>24998</th>\n",
              "      <td>59</td>\n",
              "      <td>476</td>\n",
              "      <td>2.0</td>\n",
              "      <td>3.459768</td>\n",
              "      <td>First Wives Club, The (1996)</td>\n",
              "    </tr>\n",
              "    <tr>\n",
              "      <th>24999</th>\n",
              "      <td>417</td>\n",
              "      <td>242</td>\n",
              "      <td>3.0</td>\n",
              "      <td>4.304869</td>\n",
              "      <td>Kolya (1996)</td>\n",
              "    </tr>\n",
              "  </tbody>\n",
              "</table>\n",
              "<p>25000 rows × 5 columns</p>\n",
              "</div>\n",
              "    <div class=\"colab-df-buttons\">\n",
              "\n",
              "  <div class=\"colab-df-container\">\n",
              "    <button class=\"colab-df-convert\" onclick=\"convertToInteractive('df-87600c86-a726-440a-a24c-5f427a8007a9')\"\n",
              "            title=\"Convert this dataframe to an interactive table.\"\n",
              "            style=\"display:none;\">\n",
              "\n",
              "  <svg xmlns=\"http://www.w3.org/2000/svg\" height=\"24px\" viewBox=\"0 -960 960 960\">\n",
              "    <path d=\"M120-120v-720h720v720H120Zm60-500h600v-160H180v160Zm220 220h160v-160H400v160Zm0 220h160v-160H400v160ZM180-400h160v-160H180v160Zm440 0h160v-160H620v160ZM180-180h160v-160H180v160Zm440 0h160v-160H620v160Z\"/>\n",
              "  </svg>\n",
              "    </button>\n",
              "\n",
              "  <style>\n",
              "    .colab-df-container {\n",
              "      display:flex;\n",
              "      gap: 12px;\n",
              "    }\n",
              "\n",
              "    .colab-df-convert {\n",
              "      background-color: #E8F0FE;\n",
              "      border: none;\n",
              "      border-radius: 50%;\n",
              "      cursor: pointer;\n",
              "      display: none;\n",
              "      fill: #1967D2;\n",
              "      height: 32px;\n",
              "      padding: 0 0 0 0;\n",
              "      width: 32px;\n",
              "    }\n",
              "\n",
              "    .colab-df-convert:hover {\n",
              "      background-color: #E2EBFA;\n",
              "      box-shadow: 0px 1px 2px rgba(60, 64, 67, 0.3), 0px 1px 3px 1px rgba(60, 64, 67, 0.15);\n",
              "      fill: #174EA6;\n",
              "    }\n",
              "\n",
              "    .colab-df-buttons div {\n",
              "      margin-bottom: 4px;\n",
              "    }\n",
              "\n",
              "    [theme=dark] .colab-df-convert {\n",
              "      background-color: #3B4455;\n",
              "      fill: #D2E3FC;\n",
              "    }\n",
              "\n",
              "    [theme=dark] .colab-df-convert:hover {\n",
              "      background-color: #434B5C;\n",
              "      box-shadow: 0px 1px 3px 1px rgba(0, 0, 0, 0.15);\n",
              "      filter: drop-shadow(0px 1px 2px rgba(0, 0, 0, 0.3));\n",
              "      fill: #FFFFFF;\n",
              "    }\n",
              "  </style>\n",
              "\n",
              "    <script>\n",
              "      const buttonEl =\n",
              "        document.querySelector('#df-87600c86-a726-440a-a24c-5f427a8007a9 button.colab-df-convert');\n",
              "      buttonEl.style.display =\n",
              "        google.colab.kernel.accessAllowed ? 'block' : 'none';\n",
              "\n",
              "      async function convertToInteractive(key) {\n",
              "        const element = document.querySelector('#df-87600c86-a726-440a-a24c-5f427a8007a9');\n",
              "        const dataTable =\n",
              "          await google.colab.kernel.invokeFunction('convertToInteractive',\n",
              "                                                    [key], {});\n",
              "        if (!dataTable) return;\n",
              "\n",
              "        const docLinkHtml = 'Like what you see? Visit the ' +\n",
              "          '<a target=\"_blank\" href=https://colab.research.google.com/notebooks/data_table.ipynb>data table notebook</a>'\n",
              "          + ' to learn more about interactive tables.';\n",
              "        element.innerHTML = '';\n",
              "        dataTable['output_type'] = 'display_data';\n",
              "        await google.colab.output.renderOutput(dataTable, element);\n",
              "        const docLink = document.createElement('div');\n",
              "        docLink.innerHTML = docLinkHtml;\n",
              "        element.appendChild(docLink);\n",
              "      }\n",
              "    </script>\n",
              "  </div>\n",
              "\n",
              "\n",
              "<div id=\"df-3937f194-665d-4b5b-b591-345f5cb5fdca\">\n",
              "  <button class=\"colab-df-quickchart\" onclick=\"quickchart('df-3937f194-665d-4b5b-b591-345f5cb5fdca')\"\n",
              "            title=\"Suggest charts\"\n",
              "            style=\"display:none;\">\n",
              "\n",
              "<svg xmlns=\"http://www.w3.org/2000/svg\" height=\"24px\"viewBox=\"0 0 24 24\"\n",
              "     width=\"24px\">\n",
              "    <g>\n",
              "        <path d=\"M19 3H5c-1.1 0-2 .9-2 2v14c0 1.1.9 2 2 2h14c1.1 0 2-.9 2-2V5c0-1.1-.9-2-2-2zM9 17H7v-7h2v7zm4 0h-2V7h2v10zm4 0h-2v-4h2v4z\"/>\n",
              "    </g>\n",
              "</svg>\n",
              "  </button>\n",
              "\n",
              "<style>\n",
              "  .colab-df-quickchart {\n",
              "      --bg-color: #E8F0FE;\n",
              "      --fill-color: #1967D2;\n",
              "      --hover-bg-color: #E2EBFA;\n",
              "      --hover-fill-color: #174EA6;\n",
              "      --disabled-fill-color: #AAA;\n",
              "      --disabled-bg-color: #DDD;\n",
              "  }\n",
              "\n",
              "  [theme=dark] .colab-df-quickchart {\n",
              "      --bg-color: #3B4455;\n",
              "      --fill-color: #D2E3FC;\n",
              "      --hover-bg-color: #434B5C;\n",
              "      --hover-fill-color: #FFFFFF;\n",
              "      --disabled-bg-color: #3B4455;\n",
              "      --disabled-fill-color: #666;\n",
              "  }\n",
              "\n",
              "  .colab-df-quickchart {\n",
              "    background-color: var(--bg-color);\n",
              "    border: none;\n",
              "    border-radius: 50%;\n",
              "    cursor: pointer;\n",
              "    display: none;\n",
              "    fill: var(--fill-color);\n",
              "    height: 32px;\n",
              "    padding: 0;\n",
              "    width: 32px;\n",
              "  }\n",
              "\n",
              "  .colab-df-quickchart:hover {\n",
              "    background-color: var(--hover-bg-color);\n",
              "    box-shadow: 0 1px 2px rgba(60, 64, 67, 0.3), 0 1px 3px 1px rgba(60, 64, 67, 0.15);\n",
              "    fill: var(--button-hover-fill-color);\n",
              "  }\n",
              "\n",
              "  .colab-df-quickchart-complete:disabled,\n",
              "  .colab-df-quickchart-complete:disabled:hover {\n",
              "    background-color: var(--disabled-bg-color);\n",
              "    fill: var(--disabled-fill-color);\n",
              "    box-shadow: none;\n",
              "  }\n",
              "\n",
              "  .colab-df-spinner {\n",
              "    border: 2px solid var(--fill-color);\n",
              "    border-color: transparent;\n",
              "    border-bottom-color: var(--fill-color);\n",
              "    animation:\n",
              "      spin 1s steps(1) infinite;\n",
              "  }\n",
              "\n",
              "  @keyframes spin {\n",
              "    0% {\n",
              "      border-color: transparent;\n",
              "      border-bottom-color: var(--fill-color);\n",
              "      border-left-color: var(--fill-color);\n",
              "    }\n",
              "    20% {\n",
              "      border-color: transparent;\n",
              "      border-left-color: var(--fill-color);\n",
              "      border-top-color: var(--fill-color);\n",
              "    }\n",
              "    30% {\n",
              "      border-color: transparent;\n",
              "      border-left-color: var(--fill-color);\n",
              "      border-top-color: var(--fill-color);\n",
              "      border-right-color: var(--fill-color);\n",
              "    }\n",
              "    40% {\n",
              "      border-color: transparent;\n",
              "      border-right-color: var(--fill-color);\n",
              "      border-top-color: var(--fill-color);\n",
              "    }\n",
              "    60% {\n",
              "      border-color: transparent;\n",
              "      border-right-color: var(--fill-color);\n",
              "    }\n",
              "    80% {\n",
              "      border-color: transparent;\n",
              "      border-right-color: var(--fill-color);\n",
              "      border-bottom-color: var(--fill-color);\n",
              "    }\n",
              "    90% {\n",
              "      border-color: transparent;\n",
              "      border-bottom-color: var(--fill-color);\n",
              "    }\n",
              "  }\n",
              "</style>\n",
              "\n",
              "  <script>\n",
              "    async function quickchart(key) {\n",
              "      const quickchartButtonEl =\n",
              "        document.querySelector('#' + key + ' button');\n",
              "      quickchartButtonEl.disabled = true;  // To prevent multiple clicks.\n",
              "      quickchartButtonEl.classList.add('colab-df-spinner');\n",
              "      try {\n",
              "        const charts = await google.colab.kernel.invokeFunction(\n",
              "            'suggestCharts', [key], {});\n",
              "      } catch (error) {\n",
              "        console.error('Error during call to suggestCharts:', error);\n",
              "      }\n",
              "      quickchartButtonEl.classList.remove('colab-df-spinner');\n",
              "      quickchartButtonEl.classList.add('colab-df-quickchart-complete');\n",
              "    }\n",
              "    (() => {\n",
              "      let quickchartButtonEl =\n",
              "        document.querySelector('#df-3937f194-665d-4b5b-b591-345f5cb5fdca button');\n",
              "      quickchartButtonEl.style.display =\n",
              "        google.colab.kernel.accessAllowed ? 'block' : 'none';\n",
              "    })();\n",
              "  </script>\n",
              "</div>\n",
              "\n",
              "  <div id=\"id_48a337ce-f721-4e75-a06e-655456e3cded\">\n",
              "    <style>\n",
              "      .colab-df-generate {\n",
              "        background-color: #E8F0FE;\n",
              "        border: none;\n",
              "        border-radius: 50%;\n",
              "        cursor: pointer;\n",
              "        display: none;\n",
              "        fill: #1967D2;\n",
              "        height: 32px;\n",
              "        padding: 0 0 0 0;\n",
              "        width: 32px;\n",
              "      }\n",
              "\n",
              "      .colab-df-generate:hover {\n",
              "        background-color: #E2EBFA;\n",
              "        box-shadow: 0px 1px 2px rgba(60, 64, 67, 0.3), 0px 1px 3px 1px rgba(60, 64, 67, 0.15);\n",
              "        fill: #174EA6;\n",
              "      }\n",
              "\n",
              "      [theme=dark] .colab-df-generate {\n",
              "        background-color: #3B4455;\n",
              "        fill: #D2E3FC;\n",
              "      }\n",
              "\n",
              "      [theme=dark] .colab-df-generate:hover {\n",
              "        background-color: #434B5C;\n",
              "        box-shadow: 0px 1px 3px 1px rgba(0, 0, 0, 0.15);\n",
              "        filter: drop-shadow(0px 1px 2px rgba(0, 0, 0, 0.3));\n",
              "        fill: #FFFFFF;\n",
              "      }\n",
              "    </style>\n",
              "    <button class=\"colab-df-generate\" onclick=\"generateWithVariable('df_preds')\"\n",
              "            title=\"Generate code using this dataframe.\"\n",
              "            style=\"display:none;\">\n",
              "\n",
              "  <svg xmlns=\"http://www.w3.org/2000/svg\" height=\"24px\"viewBox=\"0 0 24 24\"\n",
              "       width=\"24px\">\n",
              "    <path d=\"M7,19H8.4L18.45,9,17,7.55,7,17.6ZM5,21V16.75L18.45,3.32a2,2,0,0,1,2.83,0l1.4,1.43a1.91,1.91,0,0,1,.58,1.4,1.91,1.91,0,0,1-.58,1.4L9.25,21ZM18.45,9,17,7.55Zm-12,3A5.31,5.31,0,0,0,4.9,8.1,5.31,5.31,0,0,0,1,6.5,5.31,5.31,0,0,0,4.9,4.9,5.31,5.31,0,0,0,6.5,1,5.31,5.31,0,0,0,8.1,4.9,5.31,5.31,0,0,0,12,6.5,5.46,5.46,0,0,0,6.5,12Z\"/>\n",
              "  </svg>\n",
              "    </button>\n",
              "    <script>\n",
              "      (() => {\n",
              "      const buttonEl =\n",
              "        document.querySelector('#id_48a337ce-f721-4e75-a06e-655456e3cded button.colab-df-generate');\n",
              "      buttonEl.style.display =\n",
              "        google.colab.kernel.accessAllowed ? 'block' : 'none';\n",
              "\n",
              "      buttonEl.onclick = () => {\n",
              "        google.colab.notebook.generateWithVariable('df_preds');\n",
              "      }\n",
              "      })();\n",
              "    </script>\n",
              "  </div>\n",
              "\n",
              "    </div>\n",
              "  </div>\n"
            ],
            "application/vnd.google.colaboratory.intrinsic+json": {
              "type": "dataframe",
              "variable_name": "df_preds",
              "summary": "{\n  \"name\": \"df_preds\",\n  \"rows\": 25000,\n  \"fields\": [\n    {\n      \"column\": \"uid\",\n      \"properties\": {\n        \"dtype\": \"number\",\n        \"std\": 266,\n        \"min\": 1,\n        \"max\": 943,\n        \"num_unique_values\": 943,\n        \"samples\": [\n          73,\n          686,\n          902\n        ],\n        \"semantic_type\": \"\",\n        \"description\": \"\"\n      }\n    },\n    {\n      \"column\": \"iid\",\n      \"properties\": {\n        \"dtype\": \"number\",\n        \"std\": 331,\n        \"min\": 1,\n        \"max\": 1681,\n        \"num_unique_values\": 1463,\n        \"samples\": [\n          730,\n          1021,\n          168\n        ],\n        \"semantic_type\": \"\",\n        \"description\": \"\"\n      }\n    },\n    {\n      \"column\": \"rating\",\n      \"properties\": {\n        \"dtype\": \"number\",\n        \"std\": 1.1244725945725123,\n        \"min\": 1.0,\n        \"max\": 5.0,\n        \"num_unique_values\": 5,\n        \"samples\": [\n          1.0,\n          2.0,\n          4.0\n        ],\n        \"semantic_type\": \"\",\n        \"description\": \"\"\n      }\n    },\n    {\n      \"column\": \"estimated\",\n      \"properties\": {\n        \"dtype\": \"number\",\n        \"std\": 0.726226229551594,\n        \"min\": 1.0,\n        \"max\": 5.0,\n        \"num_unique_values\": 24708,\n        \"samples\": [\n          3.902012906893538,\n          4.528634203595307,\n          3.841688914688672\n        ],\n        \"semantic_type\": \"\",\n        \"description\": \"\"\n      }\n    },\n    {\n      \"column\": \"item_name\",\n      \"properties\": {\n        \"dtype\": \"category\",\n        \"num_unique_values\": 1451,\n        \"samples\": [\n          \"Escape from New York (1981)\",\n          \"Killing Zoe (1994)\",\n          \"Saint, The (1997)\"\n        ],\n        \"semantic_type\": \"\",\n        \"description\": \"\"\n      }\n    }\n  ]\n}"
            }
          },
          "metadata": {},
          "execution_count": 23
        }
      ]
    },
    {
      "cell_type": "markdown",
      "source": [
        "9. Calculate RMSE of these predictions both using `surprise.accuracy.rmse(...)`, and by direct calculation. Verify that they give the same answer, and briefly explain how it compares to the baseline results from part 2."
      ],
      "metadata": {
        "id": "zSWCxolgwaSD"
      }
    },
    {
      "cell_type": "code",
      "source": [
        "# your code here\n",
        "rmse_surprise = surprise.accuracy.rmse(preds)"
      ],
      "metadata": {
        "id": "VHZpAZYAXs6g",
        "outputId": "c086f6ef-709c-4ae9-8de1-e1d1ad1bb142",
        "colab": {
          "base_uri": "https://localhost:8080/"
        }
      },
      "execution_count": 24,
      "outputs": [
        {
          "output_type": "stream",
          "name": "stdout",
          "text": [
            "RMSE: 0.9494\n"
          ]
        }
      ]
    },
    {
      "cell_type": "code",
      "source": [
        "rmse_surprise_bis = np.sqrt(mean_squared_error(df_preds.rating,df_preds.estimated))\n",
        "rmse_surprise_bis"
      ],
      "metadata": {
        "id": "SqQ8c8sB5sPS",
        "outputId": "e43820f6-3f72-4b30-9da1-9fe75eb4496d",
        "colab": {
          "base_uri": "https://localhost:8080/"
        }
      },
      "execution_count": 25,
      "outputs": [
        {
          "output_type": "execute_result",
          "data": {
            "text/plain": [
              "0.9494483681508666"
            ]
          },
          "metadata": {},
          "execution_count": 25
        }
      ]
    },
    {
      "cell_type": "markdown",
      "source": [
        "We get the same result.\n",
        "We get a rmse of 0.9494 which is much better than the bets one we got with baseline models (1.1244)."
      ],
      "metadata": {
        "id": "t3jvLFOV54Df"
      }
    },
    {
      "cell_type": "markdown",
      "metadata": {
        "id": "zrxRyEiV518p"
      },
      "source": [
        "## Part 4. Giving recommendations\n",
        "\n",
        "In the end, the purpose of our model is to provide recommendations of novel movies. So let's see how to use our model to provide users with recommendations of movies that they have not actually rated yet.\n",
        "\n",
        "**Questions:**\n",
        "10. Use the code below to get all pairs (u, m) of users u and movies m such that u has not rated m (based on the train set). Examine a few rows in `unrated_data_df` to see what this data looks like."
      ]
    },
    {
      "cell_type": "code",
      "metadata": {
        "id": "3V9ltCei6xrQ"
      },
      "source": [
        "### CODE FOR QUESTION 10 ###\n",
        "unrated_data = trainset.build_anti_testset()\n",
        "\n",
        "# data converted to Pandas DataFrame format for convenience:\n",
        "unrated_data_df = pd.DataFrame([{'uid': x[0], 'iid': x[1]} for x in unrated_data])\n",
        "unrated_data_df.uid = unrated_data_df.uid.astype(int)\n",
        "unrated_data_df.iid = unrated_data_df.iid.astype(int)\n",
        "unrated_data_df = pd.merge(unrated_data_df, item_data, how='left')"
      ],
      "execution_count": 26,
      "outputs": []
    },
    {
      "cell_type": "code",
      "source": [
        "unrated_data_df"
      ],
      "metadata": {
        "id": "hNyo9rCi8aGj",
        "outputId": "b1e9e4bd-0b62-4314-a94e-c496a3c2b4fe",
        "colab": {
          "base_uri": "https://localhost:8080/",
          "height": 424
        }
      },
      "execution_count": 27,
      "outputs": [
        {
          "output_type": "execute_result",
          "data": {
            "text/plain": [
              "         uid   iid                  item_name\n",
              "0        822   703        Widows' Peak (1994)\n",
              "1        822  1282     Grass Harp, The (1995)\n",
              "2        822   313             Titanic (1997)\n",
              "3        822   729                Nell (1994)\n",
              "4        822   300       Air Force One (1997)\n",
              "...      ...   ...                        ...\n",
              "1478116  570  1492     Window to Paris (1994)\n",
              "1478117  570  1481              S.F.W. (1994)\n",
              "1478118  570  1593  Death in Brunswick (1991)\n",
              "1478119  570  1596   Nemesis 2: Nebula (1995)\n",
              "1478120  570  1306      Delta of Venus (1994)\n",
              "\n",
              "[1478121 rows x 3 columns]"
            ],
            "text/html": [
              "\n",
              "  <div id=\"df-3c010513-9ba0-4778-9419-6238204e12f4\" class=\"colab-df-container\">\n",
              "    <div>\n",
              "<style scoped>\n",
              "    .dataframe tbody tr th:only-of-type {\n",
              "        vertical-align: middle;\n",
              "    }\n",
              "\n",
              "    .dataframe tbody tr th {\n",
              "        vertical-align: top;\n",
              "    }\n",
              "\n",
              "    .dataframe thead th {\n",
              "        text-align: right;\n",
              "    }\n",
              "</style>\n",
              "<table border=\"1\" class=\"dataframe\">\n",
              "  <thead>\n",
              "    <tr style=\"text-align: right;\">\n",
              "      <th></th>\n",
              "      <th>uid</th>\n",
              "      <th>iid</th>\n",
              "      <th>item_name</th>\n",
              "    </tr>\n",
              "  </thead>\n",
              "  <tbody>\n",
              "    <tr>\n",
              "      <th>0</th>\n",
              "      <td>822</td>\n",
              "      <td>703</td>\n",
              "      <td>Widows' Peak (1994)</td>\n",
              "    </tr>\n",
              "    <tr>\n",
              "      <th>1</th>\n",
              "      <td>822</td>\n",
              "      <td>1282</td>\n",
              "      <td>Grass Harp, The (1995)</td>\n",
              "    </tr>\n",
              "    <tr>\n",
              "      <th>2</th>\n",
              "      <td>822</td>\n",
              "      <td>313</td>\n",
              "      <td>Titanic (1997)</td>\n",
              "    </tr>\n",
              "    <tr>\n",
              "      <th>3</th>\n",
              "      <td>822</td>\n",
              "      <td>729</td>\n",
              "      <td>Nell (1994)</td>\n",
              "    </tr>\n",
              "    <tr>\n",
              "      <th>4</th>\n",
              "      <td>822</td>\n",
              "      <td>300</td>\n",
              "      <td>Air Force One (1997)</td>\n",
              "    </tr>\n",
              "    <tr>\n",
              "      <th>...</th>\n",
              "      <td>...</td>\n",
              "      <td>...</td>\n",
              "      <td>...</td>\n",
              "    </tr>\n",
              "    <tr>\n",
              "      <th>1478116</th>\n",
              "      <td>570</td>\n",
              "      <td>1492</td>\n",
              "      <td>Window to Paris (1994)</td>\n",
              "    </tr>\n",
              "    <tr>\n",
              "      <th>1478117</th>\n",
              "      <td>570</td>\n",
              "      <td>1481</td>\n",
              "      <td>S.F.W. (1994)</td>\n",
              "    </tr>\n",
              "    <tr>\n",
              "      <th>1478118</th>\n",
              "      <td>570</td>\n",
              "      <td>1593</td>\n",
              "      <td>Death in Brunswick (1991)</td>\n",
              "    </tr>\n",
              "    <tr>\n",
              "      <th>1478119</th>\n",
              "      <td>570</td>\n",
              "      <td>1596</td>\n",
              "      <td>Nemesis 2: Nebula (1995)</td>\n",
              "    </tr>\n",
              "    <tr>\n",
              "      <th>1478120</th>\n",
              "      <td>570</td>\n",
              "      <td>1306</td>\n",
              "      <td>Delta of Venus (1994)</td>\n",
              "    </tr>\n",
              "  </tbody>\n",
              "</table>\n",
              "<p>1478121 rows × 3 columns</p>\n",
              "</div>\n",
              "    <div class=\"colab-df-buttons\">\n",
              "\n",
              "  <div class=\"colab-df-container\">\n",
              "    <button class=\"colab-df-convert\" onclick=\"convertToInteractive('df-3c010513-9ba0-4778-9419-6238204e12f4')\"\n",
              "            title=\"Convert this dataframe to an interactive table.\"\n",
              "            style=\"display:none;\">\n",
              "\n",
              "  <svg xmlns=\"http://www.w3.org/2000/svg\" height=\"24px\" viewBox=\"0 -960 960 960\">\n",
              "    <path d=\"M120-120v-720h720v720H120Zm60-500h600v-160H180v160Zm220 220h160v-160H400v160Zm0 220h160v-160H400v160ZM180-400h160v-160H180v160Zm440 0h160v-160H620v160ZM180-180h160v-160H180v160Zm440 0h160v-160H620v160Z\"/>\n",
              "  </svg>\n",
              "    </button>\n",
              "\n",
              "  <style>\n",
              "    .colab-df-container {\n",
              "      display:flex;\n",
              "      gap: 12px;\n",
              "    }\n",
              "\n",
              "    .colab-df-convert {\n",
              "      background-color: #E8F0FE;\n",
              "      border: none;\n",
              "      border-radius: 50%;\n",
              "      cursor: pointer;\n",
              "      display: none;\n",
              "      fill: #1967D2;\n",
              "      height: 32px;\n",
              "      padding: 0 0 0 0;\n",
              "      width: 32px;\n",
              "    }\n",
              "\n",
              "    .colab-df-convert:hover {\n",
              "      background-color: #E2EBFA;\n",
              "      box-shadow: 0px 1px 2px rgba(60, 64, 67, 0.3), 0px 1px 3px 1px rgba(60, 64, 67, 0.15);\n",
              "      fill: #174EA6;\n",
              "    }\n",
              "\n",
              "    .colab-df-buttons div {\n",
              "      margin-bottom: 4px;\n",
              "    }\n",
              "\n",
              "    [theme=dark] .colab-df-convert {\n",
              "      background-color: #3B4455;\n",
              "      fill: #D2E3FC;\n",
              "    }\n",
              "\n",
              "    [theme=dark] .colab-df-convert:hover {\n",
              "      background-color: #434B5C;\n",
              "      box-shadow: 0px 1px 3px 1px rgba(0, 0, 0, 0.15);\n",
              "      filter: drop-shadow(0px 1px 2px rgba(0, 0, 0, 0.3));\n",
              "      fill: #FFFFFF;\n",
              "    }\n",
              "  </style>\n",
              "\n",
              "    <script>\n",
              "      const buttonEl =\n",
              "        document.querySelector('#df-3c010513-9ba0-4778-9419-6238204e12f4 button.colab-df-convert');\n",
              "      buttonEl.style.display =\n",
              "        google.colab.kernel.accessAllowed ? 'block' : 'none';\n",
              "\n",
              "      async function convertToInteractive(key) {\n",
              "        const element = document.querySelector('#df-3c010513-9ba0-4778-9419-6238204e12f4');\n",
              "        const dataTable =\n",
              "          await google.colab.kernel.invokeFunction('convertToInteractive',\n",
              "                                                    [key], {});\n",
              "        if (!dataTable) return;\n",
              "\n",
              "        const docLinkHtml = 'Like what you see? Visit the ' +\n",
              "          '<a target=\"_blank\" href=https://colab.research.google.com/notebooks/data_table.ipynb>data table notebook</a>'\n",
              "          + ' to learn more about interactive tables.';\n",
              "        element.innerHTML = '';\n",
              "        dataTable['output_type'] = 'display_data';\n",
              "        await google.colab.output.renderOutput(dataTable, element);\n",
              "        const docLink = document.createElement('div');\n",
              "        docLink.innerHTML = docLinkHtml;\n",
              "        element.appendChild(docLink);\n",
              "      }\n",
              "    </script>\n",
              "  </div>\n",
              "\n",
              "\n",
              "<div id=\"df-e6e923c5-6485-4a38-8641-b2f2e99efffa\">\n",
              "  <button class=\"colab-df-quickchart\" onclick=\"quickchart('df-e6e923c5-6485-4a38-8641-b2f2e99efffa')\"\n",
              "            title=\"Suggest charts\"\n",
              "            style=\"display:none;\">\n",
              "\n",
              "<svg xmlns=\"http://www.w3.org/2000/svg\" height=\"24px\"viewBox=\"0 0 24 24\"\n",
              "     width=\"24px\">\n",
              "    <g>\n",
              "        <path d=\"M19 3H5c-1.1 0-2 .9-2 2v14c0 1.1.9 2 2 2h14c1.1 0 2-.9 2-2V5c0-1.1-.9-2-2-2zM9 17H7v-7h2v7zm4 0h-2V7h2v10zm4 0h-2v-4h2v4z\"/>\n",
              "    </g>\n",
              "</svg>\n",
              "  </button>\n",
              "\n",
              "<style>\n",
              "  .colab-df-quickchart {\n",
              "      --bg-color: #E8F0FE;\n",
              "      --fill-color: #1967D2;\n",
              "      --hover-bg-color: #E2EBFA;\n",
              "      --hover-fill-color: #174EA6;\n",
              "      --disabled-fill-color: #AAA;\n",
              "      --disabled-bg-color: #DDD;\n",
              "  }\n",
              "\n",
              "  [theme=dark] .colab-df-quickchart {\n",
              "      --bg-color: #3B4455;\n",
              "      --fill-color: #D2E3FC;\n",
              "      --hover-bg-color: #434B5C;\n",
              "      --hover-fill-color: #FFFFFF;\n",
              "      --disabled-bg-color: #3B4455;\n",
              "      --disabled-fill-color: #666;\n",
              "  }\n",
              "\n",
              "  .colab-df-quickchart {\n",
              "    background-color: var(--bg-color);\n",
              "    border: none;\n",
              "    border-radius: 50%;\n",
              "    cursor: pointer;\n",
              "    display: none;\n",
              "    fill: var(--fill-color);\n",
              "    height: 32px;\n",
              "    padding: 0;\n",
              "    width: 32px;\n",
              "  }\n",
              "\n",
              "  .colab-df-quickchart:hover {\n",
              "    background-color: var(--hover-bg-color);\n",
              "    box-shadow: 0 1px 2px rgba(60, 64, 67, 0.3), 0 1px 3px 1px rgba(60, 64, 67, 0.15);\n",
              "    fill: var(--button-hover-fill-color);\n",
              "  }\n",
              "\n",
              "  .colab-df-quickchart-complete:disabled,\n",
              "  .colab-df-quickchart-complete:disabled:hover {\n",
              "    background-color: var(--disabled-bg-color);\n",
              "    fill: var(--disabled-fill-color);\n",
              "    box-shadow: none;\n",
              "  }\n",
              "\n",
              "  .colab-df-spinner {\n",
              "    border: 2px solid var(--fill-color);\n",
              "    border-color: transparent;\n",
              "    border-bottom-color: var(--fill-color);\n",
              "    animation:\n",
              "      spin 1s steps(1) infinite;\n",
              "  }\n",
              "\n",
              "  @keyframes spin {\n",
              "    0% {\n",
              "      border-color: transparent;\n",
              "      border-bottom-color: var(--fill-color);\n",
              "      border-left-color: var(--fill-color);\n",
              "    }\n",
              "    20% {\n",
              "      border-color: transparent;\n",
              "      border-left-color: var(--fill-color);\n",
              "      border-top-color: var(--fill-color);\n",
              "    }\n",
              "    30% {\n",
              "      border-color: transparent;\n",
              "      border-left-color: var(--fill-color);\n",
              "      border-top-color: var(--fill-color);\n",
              "      border-right-color: var(--fill-color);\n",
              "    }\n",
              "    40% {\n",
              "      border-color: transparent;\n",
              "      border-right-color: var(--fill-color);\n",
              "      border-top-color: var(--fill-color);\n",
              "    }\n",
              "    60% {\n",
              "      border-color: transparent;\n",
              "      border-right-color: var(--fill-color);\n",
              "    }\n",
              "    80% {\n",
              "      border-color: transparent;\n",
              "      border-right-color: var(--fill-color);\n",
              "      border-bottom-color: var(--fill-color);\n",
              "    }\n",
              "    90% {\n",
              "      border-color: transparent;\n",
              "      border-bottom-color: var(--fill-color);\n",
              "    }\n",
              "  }\n",
              "</style>\n",
              "\n",
              "  <script>\n",
              "    async function quickchart(key) {\n",
              "      const quickchartButtonEl =\n",
              "        document.querySelector('#' + key + ' button');\n",
              "      quickchartButtonEl.disabled = true;  // To prevent multiple clicks.\n",
              "      quickchartButtonEl.classList.add('colab-df-spinner');\n",
              "      try {\n",
              "        const charts = await google.colab.kernel.invokeFunction(\n",
              "            'suggestCharts', [key], {});\n",
              "      } catch (error) {\n",
              "        console.error('Error during call to suggestCharts:', error);\n",
              "      }\n",
              "      quickchartButtonEl.classList.remove('colab-df-spinner');\n",
              "      quickchartButtonEl.classList.add('colab-df-quickchart-complete');\n",
              "    }\n",
              "    (() => {\n",
              "      let quickchartButtonEl =\n",
              "        document.querySelector('#df-e6e923c5-6485-4a38-8641-b2f2e99efffa button');\n",
              "      quickchartButtonEl.style.display =\n",
              "        google.colab.kernel.accessAllowed ? 'block' : 'none';\n",
              "    })();\n",
              "  </script>\n",
              "</div>\n",
              "\n",
              "  <div id=\"id_bc2900dd-9069-4f08-bfb1-d1381d45a603\">\n",
              "    <style>\n",
              "      .colab-df-generate {\n",
              "        background-color: #E8F0FE;\n",
              "        border: none;\n",
              "        border-radius: 50%;\n",
              "        cursor: pointer;\n",
              "        display: none;\n",
              "        fill: #1967D2;\n",
              "        height: 32px;\n",
              "        padding: 0 0 0 0;\n",
              "        width: 32px;\n",
              "      }\n",
              "\n",
              "      .colab-df-generate:hover {\n",
              "        background-color: #E2EBFA;\n",
              "        box-shadow: 0px 1px 2px rgba(60, 64, 67, 0.3), 0px 1px 3px 1px rgba(60, 64, 67, 0.15);\n",
              "        fill: #174EA6;\n",
              "      }\n",
              "\n",
              "      [theme=dark] .colab-df-generate {\n",
              "        background-color: #3B4455;\n",
              "        fill: #D2E3FC;\n",
              "      }\n",
              "\n",
              "      [theme=dark] .colab-df-generate:hover {\n",
              "        background-color: #434B5C;\n",
              "        box-shadow: 0px 1px 3px 1px rgba(0, 0, 0, 0.15);\n",
              "        filter: drop-shadow(0px 1px 2px rgba(0, 0, 0, 0.3));\n",
              "        fill: #FFFFFF;\n",
              "      }\n",
              "    </style>\n",
              "    <button class=\"colab-df-generate\" onclick=\"generateWithVariable('unrated_data_df')\"\n",
              "            title=\"Generate code using this dataframe.\"\n",
              "            style=\"display:none;\">\n",
              "\n",
              "  <svg xmlns=\"http://www.w3.org/2000/svg\" height=\"24px\"viewBox=\"0 0 24 24\"\n",
              "       width=\"24px\">\n",
              "    <path d=\"M7,19H8.4L18.45,9,17,7.55,7,17.6ZM5,21V16.75L18.45,3.32a2,2,0,0,1,2.83,0l1.4,1.43a1.91,1.91,0,0,1,.58,1.4,1.91,1.91,0,0,1-.58,1.4L9.25,21ZM18.45,9,17,7.55Zm-12,3A5.31,5.31,0,0,0,4.9,8.1,5.31,5.31,0,0,0,1,6.5,5.31,5.31,0,0,0,4.9,4.9,5.31,5.31,0,0,0,6.5,1,5.31,5.31,0,0,0,8.1,4.9,5.31,5.31,0,0,0,12,6.5,5.46,5.46,0,0,0,6.5,12Z\"/>\n",
              "  </svg>\n",
              "    </button>\n",
              "    <script>\n",
              "      (() => {\n",
              "      const buttonEl =\n",
              "        document.querySelector('#id_bc2900dd-9069-4f08-bfb1-d1381d45a603 button.colab-df-generate');\n",
              "      buttonEl.style.display =\n",
              "        google.colab.kernel.accessAllowed ? 'block' : 'none';\n",
              "\n",
              "      buttonEl.onclick = () => {\n",
              "        google.colab.notebook.generateWithVariable('unrated_data_df');\n",
              "      }\n",
              "      })();\n",
              "    </script>\n",
              "  </div>\n",
              "\n",
              "    </div>\n",
              "  </div>\n"
            ],
            "application/vnd.google.colaboratory.intrinsic+json": {
              "type": "dataframe",
              "variable_name": "unrated_data_df"
            }
          },
          "metadata": {},
          "execution_count": 27
        }
      ]
    },
    {
      "cell_type": "markdown",
      "source": [
        "11. Generate predictions for the unrated data using `model.test(...)` and save them in a variable `unrated_preds`. Note: This requires input data in the format of the variable `unrated_data`."
      ],
      "metadata": {
        "id": "8IaikF4xwk5Q"
      }
    },
    {
      "cell_type": "code",
      "source": [
        "# your code here\n",
        "unrated_preds = model.test(unrated_data)"
      ],
      "metadata": {
        "id": "h9bggIjmXu5x"
      },
      "execution_count": 28,
      "outputs": []
    },
    {
      "cell_type": "markdown",
      "source": [
        "12. Use the code given below to convert the list format of `unrated_preds` to a DataFrame `df_unrated_preds`. It might be easier to work with this for some of the next questions."
      ],
      "metadata": {
        "id": "4ZkIcCZswmo9"
      }
    },
    {
      "cell_type": "code",
      "metadata": {
        "id": "nc6PbUnT7kIh"
      },
      "source": [
        "### CODE FOR QUESTION 12 ####\n",
        "df_unrated_preds = pd.DataFrame([\n",
        "  {'uid': p.uid, 'iid': p.iid, 'estimated': p.est}\n",
        "  for p in unrated_preds\n",
        "])\n",
        "df_unrated_preds.uid = df_unrated_preds.uid.astype(int)\n",
        "df_unrated_preds.iid = df_unrated_preds.iid.astype(int)\n",
        "df_unrated_preds = pd.merge(df_unrated_preds, item_data, how='left')"
      ],
      "execution_count": 29,
      "outputs": []
    },
    {
      "cell_type": "markdown",
      "source": [
        "13. Make a new DataFrame `df_top5` containing the unrated movies with top 5 predicted ratings for each user. Hint: You can do this in one line of code using Pandas and `df_unrated_preds`."
      ],
      "metadata": {
        "id": "5opSTJYRwoL9"
      }
    },
    {
      "cell_type": "code",
      "source": [
        "# your code here\n",
        "df_top5 = df_unrated_preds.groupby('uid')[['uid','item_name']].head(5)"
      ],
      "metadata": {
        "id": "-mLotqLQXvgO"
      },
      "execution_count": 31,
      "outputs": []
    },
    {
      "cell_type": "markdown",
      "source": [
        "14. Show the 5 recommended movies for a user of your choice."
      ],
      "metadata": {
        "id": "je_3hSG5wqQl"
      }
    },
    {
      "cell_type": "code",
      "source": [
        "# your code here\n",
        "df_top5[df_top5.uid == 180]"
      ],
      "metadata": {
        "id": "7Z3u2O5TXw_c",
        "outputId": "8ae3ca36-8632-4ee3-afff-530a6582f692",
        "colab": {
          "base_uri": "https://localhost:8080/",
          "height": 206
        }
      },
      "execution_count": 32,
      "outputs": [
        {
          "output_type": "execute_result",
          "data": {
            "text/plain": [
              "         uid                   item_name\n",
              "1075138  180  Wrong Trousers, The (1993)\n",
              "1075139  180         Widows' Peak (1994)\n",
              "1075140  180      Grass Harp, The (1995)\n",
              "1075141  180              Titanic (1997)\n",
              "1075142  180                 Nell (1994)"
            ],
            "text/html": [
              "\n",
              "  <div id=\"df-d5e9a37e-cd57-47b0-a68e-47abad0b3b34\" class=\"colab-df-container\">\n",
              "    <div>\n",
              "<style scoped>\n",
              "    .dataframe tbody tr th:only-of-type {\n",
              "        vertical-align: middle;\n",
              "    }\n",
              "\n",
              "    .dataframe tbody tr th {\n",
              "        vertical-align: top;\n",
              "    }\n",
              "\n",
              "    .dataframe thead th {\n",
              "        text-align: right;\n",
              "    }\n",
              "</style>\n",
              "<table border=\"1\" class=\"dataframe\">\n",
              "  <thead>\n",
              "    <tr style=\"text-align: right;\">\n",
              "      <th></th>\n",
              "      <th>uid</th>\n",
              "      <th>item_name</th>\n",
              "    </tr>\n",
              "  </thead>\n",
              "  <tbody>\n",
              "    <tr>\n",
              "      <th>1075138</th>\n",
              "      <td>180</td>\n",
              "      <td>Wrong Trousers, The (1993)</td>\n",
              "    </tr>\n",
              "    <tr>\n",
              "      <th>1075139</th>\n",
              "      <td>180</td>\n",
              "      <td>Widows' Peak (1994)</td>\n",
              "    </tr>\n",
              "    <tr>\n",
              "      <th>1075140</th>\n",
              "      <td>180</td>\n",
              "      <td>Grass Harp, The (1995)</td>\n",
              "    </tr>\n",
              "    <tr>\n",
              "      <th>1075141</th>\n",
              "      <td>180</td>\n",
              "      <td>Titanic (1997)</td>\n",
              "    </tr>\n",
              "    <tr>\n",
              "      <th>1075142</th>\n",
              "      <td>180</td>\n",
              "      <td>Nell (1994)</td>\n",
              "    </tr>\n",
              "  </tbody>\n",
              "</table>\n",
              "</div>\n",
              "    <div class=\"colab-df-buttons\">\n",
              "\n",
              "  <div class=\"colab-df-container\">\n",
              "    <button class=\"colab-df-convert\" onclick=\"convertToInteractive('df-d5e9a37e-cd57-47b0-a68e-47abad0b3b34')\"\n",
              "            title=\"Convert this dataframe to an interactive table.\"\n",
              "            style=\"display:none;\">\n",
              "\n",
              "  <svg xmlns=\"http://www.w3.org/2000/svg\" height=\"24px\" viewBox=\"0 -960 960 960\">\n",
              "    <path d=\"M120-120v-720h720v720H120Zm60-500h600v-160H180v160Zm220 220h160v-160H400v160Zm0 220h160v-160H400v160ZM180-400h160v-160H180v160Zm440 0h160v-160H620v160ZM180-180h160v-160H180v160Zm440 0h160v-160H620v160Z\"/>\n",
              "  </svg>\n",
              "    </button>\n",
              "\n",
              "  <style>\n",
              "    .colab-df-container {\n",
              "      display:flex;\n",
              "      gap: 12px;\n",
              "    }\n",
              "\n",
              "    .colab-df-convert {\n",
              "      background-color: #E8F0FE;\n",
              "      border: none;\n",
              "      border-radius: 50%;\n",
              "      cursor: pointer;\n",
              "      display: none;\n",
              "      fill: #1967D2;\n",
              "      height: 32px;\n",
              "      padding: 0 0 0 0;\n",
              "      width: 32px;\n",
              "    }\n",
              "\n",
              "    .colab-df-convert:hover {\n",
              "      background-color: #E2EBFA;\n",
              "      box-shadow: 0px 1px 2px rgba(60, 64, 67, 0.3), 0px 1px 3px 1px rgba(60, 64, 67, 0.15);\n",
              "      fill: #174EA6;\n",
              "    }\n",
              "\n",
              "    .colab-df-buttons div {\n",
              "      margin-bottom: 4px;\n",
              "    }\n",
              "\n",
              "    [theme=dark] .colab-df-convert {\n",
              "      background-color: #3B4455;\n",
              "      fill: #D2E3FC;\n",
              "    }\n",
              "\n",
              "    [theme=dark] .colab-df-convert:hover {\n",
              "      background-color: #434B5C;\n",
              "      box-shadow: 0px 1px 3px 1px rgba(0, 0, 0, 0.15);\n",
              "      filter: drop-shadow(0px 1px 2px rgba(0, 0, 0, 0.3));\n",
              "      fill: #FFFFFF;\n",
              "    }\n",
              "  </style>\n",
              "\n",
              "    <script>\n",
              "      const buttonEl =\n",
              "        document.querySelector('#df-d5e9a37e-cd57-47b0-a68e-47abad0b3b34 button.colab-df-convert');\n",
              "      buttonEl.style.display =\n",
              "        google.colab.kernel.accessAllowed ? 'block' : 'none';\n",
              "\n",
              "      async function convertToInteractive(key) {\n",
              "        const element = document.querySelector('#df-d5e9a37e-cd57-47b0-a68e-47abad0b3b34');\n",
              "        const dataTable =\n",
              "          await google.colab.kernel.invokeFunction('convertToInteractive',\n",
              "                                                    [key], {});\n",
              "        if (!dataTable) return;\n",
              "\n",
              "        const docLinkHtml = 'Like what you see? Visit the ' +\n",
              "          '<a target=\"_blank\" href=https://colab.research.google.com/notebooks/data_table.ipynb>data table notebook</a>'\n",
              "          + ' to learn more about interactive tables.';\n",
              "        element.innerHTML = '';\n",
              "        dataTable['output_type'] = 'display_data';\n",
              "        await google.colab.output.renderOutput(dataTable, element);\n",
              "        const docLink = document.createElement('div');\n",
              "        docLink.innerHTML = docLinkHtml;\n",
              "        element.appendChild(docLink);\n",
              "      }\n",
              "    </script>\n",
              "  </div>\n",
              "\n",
              "\n",
              "<div id=\"df-2c5bf434-7aaf-449e-b863-13a3e1a988b8\">\n",
              "  <button class=\"colab-df-quickchart\" onclick=\"quickchart('df-2c5bf434-7aaf-449e-b863-13a3e1a988b8')\"\n",
              "            title=\"Suggest charts\"\n",
              "            style=\"display:none;\">\n",
              "\n",
              "<svg xmlns=\"http://www.w3.org/2000/svg\" height=\"24px\"viewBox=\"0 0 24 24\"\n",
              "     width=\"24px\">\n",
              "    <g>\n",
              "        <path d=\"M19 3H5c-1.1 0-2 .9-2 2v14c0 1.1.9 2 2 2h14c1.1 0 2-.9 2-2V5c0-1.1-.9-2-2-2zM9 17H7v-7h2v7zm4 0h-2V7h2v10zm4 0h-2v-4h2v4z\"/>\n",
              "    </g>\n",
              "</svg>\n",
              "  </button>\n",
              "\n",
              "<style>\n",
              "  .colab-df-quickchart {\n",
              "      --bg-color: #E8F0FE;\n",
              "      --fill-color: #1967D2;\n",
              "      --hover-bg-color: #E2EBFA;\n",
              "      --hover-fill-color: #174EA6;\n",
              "      --disabled-fill-color: #AAA;\n",
              "      --disabled-bg-color: #DDD;\n",
              "  }\n",
              "\n",
              "  [theme=dark] .colab-df-quickchart {\n",
              "      --bg-color: #3B4455;\n",
              "      --fill-color: #D2E3FC;\n",
              "      --hover-bg-color: #434B5C;\n",
              "      --hover-fill-color: #FFFFFF;\n",
              "      --disabled-bg-color: #3B4455;\n",
              "      --disabled-fill-color: #666;\n",
              "  }\n",
              "\n",
              "  .colab-df-quickchart {\n",
              "    background-color: var(--bg-color);\n",
              "    border: none;\n",
              "    border-radius: 50%;\n",
              "    cursor: pointer;\n",
              "    display: none;\n",
              "    fill: var(--fill-color);\n",
              "    height: 32px;\n",
              "    padding: 0;\n",
              "    width: 32px;\n",
              "  }\n",
              "\n",
              "  .colab-df-quickchart:hover {\n",
              "    background-color: var(--hover-bg-color);\n",
              "    box-shadow: 0 1px 2px rgba(60, 64, 67, 0.3), 0 1px 3px 1px rgba(60, 64, 67, 0.15);\n",
              "    fill: var(--button-hover-fill-color);\n",
              "  }\n",
              "\n",
              "  .colab-df-quickchart-complete:disabled,\n",
              "  .colab-df-quickchart-complete:disabled:hover {\n",
              "    background-color: var(--disabled-bg-color);\n",
              "    fill: var(--disabled-fill-color);\n",
              "    box-shadow: none;\n",
              "  }\n",
              "\n",
              "  .colab-df-spinner {\n",
              "    border: 2px solid var(--fill-color);\n",
              "    border-color: transparent;\n",
              "    border-bottom-color: var(--fill-color);\n",
              "    animation:\n",
              "      spin 1s steps(1) infinite;\n",
              "  }\n",
              "\n",
              "  @keyframes spin {\n",
              "    0% {\n",
              "      border-color: transparent;\n",
              "      border-bottom-color: var(--fill-color);\n",
              "      border-left-color: var(--fill-color);\n",
              "    }\n",
              "    20% {\n",
              "      border-color: transparent;\n",
              "      border-left-color: var(--fill-color);\n",
              "      border-top-color: var(--fill-color);\n",
              "    }\n",
              "    30% {\n",
              "      border-color: transparent;\n",
              "      border-left-color: var(--fill-color);\n",
              "      border-top-color: var(--fill-color);\n",
              "      border-right-color: var(--fill-color);\n",
              "    }\n",
              "    40% {\n",
              "      border-color: transparent;\n",
              "      border-right-color: var(--fill-color);\n",
              "      border-top-color: var(--fill-color);\n",
              "    }\n",
              "    60% {\n",
              "      border-color: transparent;\n",
              "      border-right-color: var(--fill-color);\n",
              "    }\n",
              "    80% {\n",
              "      border-color: transparent;\n",
              "      border-right-color: var(--fill-color);\n",
              "      border-bottom-color: var(--fill-color);\n",
              "    }\n",
              "    90% {\n",
              "      border-color: transparent;\n",
              "      border-bottom-color: var(--fill-color);\n",
              "    }\n",
              "  }\n",
              "</style>\n",
              "\n",
              "  <script>\n",
              "    async function quickchart(key) {\n",
              "      const quickchartButtonEl =\n",
              "        document.querySelector('#' + key + ' button');\n",
              "      quickchartButtonEl.disabled = true;  // To prevent multiple clicks.\n",
              "      quickchartButtonEl.classList.add('colab-df-spinner');\n",
              "      try {\n",
              "        const charts = await google.colab.kernel.invokeFunction(\n",
              "            'suggestCharts', [key], {});\n",
              "      } catch (error) {\n",
              "        console.error('Error during call to suggestCharts:', error);\n",
              "      }\n",
              "      quickchartButtonEl.classList.remove('colab-df-spinner');\n",
              "      quickchartButtonEl.classList.add('colab-df-quickchart-complete');\n",
              "    }\n",
              "    (() => {\n",
              "      let quickchartButtonEl =\n",
              "        document.querySelector('#df-2c5bf434-7aaf-449e-b863-13a3e1a988b8 button');\n",
              "      quickchartButtonEl.style.display =\n",
              "        google.colab.kernel.accessAllowed ? 'block' : 'none';\n",
              "    })();\n",
              "  </script>\n",
              "</div>\n",
              "\n",
              "    </div>\n",
              "  </div>\n"
            ],
            "application/vnd.google.colaboratory.intrinsic+json": {
              "type": "dataframe",
              "summary": "{\n  \"name\": \"df_top5[df_top5\",\n  \"rows\": 5,\n  \"fields\": [\n    {\n      \"column\": \"uid\",\n      \"properties\": {\n        \"dtype\": \"number\",\n        \"std\": 0,\n        \"min\": 180,\n        \"max\": 180,\n        \"num_unique_values\": 1,\n        \"samples\": [\n          180\n        ],\n        \"semantic_type\": \"\",\n        \"description\": \"\"\n      }\n    },\n    {\n      \"column\": \"item_name\",\n      \"properties\": {\n        \"dtype\": \"string\",\n        \"num_unique_values\": 5,\n        \"samples\": [\n          \"Widows' Peak (1994)\"\n        ],\n        \"semantic_type\": \"\",\n        \"description\": \"\"\n      }\n    }\n  ]\n}"
            }
          },
          "metadata": {},
          "execution_count": 32
        }
      ]
    },
    {
      "cell_type": "markdown",
      "source": [
        "15. Repeat the above (parts 3 and 4), this time using the model `surprise.SVD(biased=True)`, and compare RMSE metrics."
      ],
      "metadata": {
        "id": "BD19WF-OQyUI"
      }
    },
    {
      "cell_type": "code",
      "source": [
        "# your code here\n",
        "model_biased = SVD(biased = True)\n",
        "model_biased.fit(trainset)\n",
        "preds_biased = model_biased.test(testset)\n"
      ],
      "metadata": {
        "id": "5gLcclwHXxrb"
      },
      "execution_count": 33,
      "outputs": []
    },
    {
      "cell_type": "code",
      "source": [
        "df_preds_biased = pd.DataFrame([\n",
        "  {'uid': p.uid, 'iid': p.iid, 'rating': p.r_ui, 'estimated': p.est}\n",
        "  for p in preds_biased\n",
        "])\n",
        "df_preds_biased.uid = df_preds_biased.uid.astype(int)\n",
        "df_preds_biased.iid = df_preds_biased.iid.astype(int)\n",
        "df_preds_biased = pd.merge(df_preds_biased, item_data, how='left')"
      ],
      "metadata": {
        "id": "XJmtAE2WBOxG"
      },
      "execution_count": 34,
      "outputs": []
    },
    {
      "cell_type": "code",
      "source": [
        "rmse_surprise_biased = surprise.accuracy.rmse(preds_biased)"
      ],
      "metadata": {
        "id": "OjVtGLvzBYyW",
        "outputId": "3868383c-6fa1-4bef-cf44-2a8cd6a13fc4",
        "colab": {
          "base_uri": "https://localhost:8080/"
        }
      },
      "execution_count": 35,
      "outputs": [
        {
          "output_type": "stream",
          "name": "stdout",
          "text": [
            "RMSE: 0.9305\n"
          ]
        }
      ]
    },
    {
      "cell_type": "markdown",
      "source": [
        "We get a rmse of 0.9305 which is lower than the one we got with the non biased model."
      ],
      "metadata": {
        "id": "Rugf7A4XBjBq"
      }
    },
    {
      "cell_type": "code",
      "source": [
        "unrated_data_biased = trainset.build_anti_testset()\n",
        "\n",
        "# data converted to Pandas DataFrame format for convenience:\n",
        "unrated_data_df_biased = pd.DataFrame([{'uid': x[0], 'iid': x[1]} for x in unrated_data_biased])\n",
        "unrated_data_df_biased.uid = unrated_data_df_biased.uid.astype(int)\n",
        "unrated_data_df_biased.iid = unrated_data_df_biased.iid.astype(int)\n",
        "unrated_data_df_biased = pd.merge(unrated_data_df_biased, item_data, how='left')"
      ],
      "metadata": {
        "id": "wYrOWehGBexH"
      },
      "execution_count": 36,
      "outputs": []
    },
    {
      "cell_type": "code",
      "source": [
        "unrated_preds_biased = model_biased.test(unrated_data_biased)"
      ],
      "metadata": {
        "id": "vwqsD44SB5xY"
      },
      "execution_count": 37,
      "outputs": []
    },
    {
      "cell_type": "code",
      "source": [
        "df_unrated_preds_biased = pd.DataFrame([\n",
        "  {'uid': p.uid, 'iid': p.iid, 'estimated': p.est}\n",
        "  for p in unrated_preds_biased\n",
        "])\n",
        "df_unrated_preds_biased.uid = df_unrated_preds_biased.uid.astype(int)\n",
        "df_unrated_preds_biased.iid = df_unrated_preds_biased.iid.astype(int)\n",
        "df_unrated_preds_biased = pd.merge(df_unrated_preds_biased, item_data, how='left')"
      ],
      "metadata": {
        "id": "9QAl6z04CAiK"
      },
      "execution_count": 38,
      "outputs": []
    },
    {
      "cell_type": "code",
      "source": [
        "df_top5_biased = df_unrated_preds_biased.groupby('uid')[['uid','item_name']].head(5)"
      ],
      "metadata": {
        "id": "i-2JfrAHCmqn"
      },
      "execution_count": 39,
      "outputs": []
    },
    {
      "cell_type": "code",
      "source": [
        "df_top5_biased[df_top5_biased.uid == 180]"
      ],
      "metadata": {
        "id": "J0KYn_6tCrTM",
        "outputId": "0f9fe9fd-2e9f-4e70-8fd2-50a5b94d3bd1",
        "colab": {
          "base_uri": "https://localhost:8080/",
          "height": 206
        }
      },
      "execution_count": 40,
      "outputs": [
        {
          "output_type": "execute_result",
          "data": {
            "text/plain": [
              "         uid                   item_name\n",
              "1075138  180  Wrong Trousers, The (1993)\n",
              "1075139  180         Widows' Peak (1994)\n",
              "1075140  180      Grass Harp, The (1995)\n",
              "1075141  180              Titanic (1997)\n",
              "1075142  180                 Nell (1994)"
            ],
            "text/html": [
              "\n",
              "  <div id=\"df-6fb6430c-b965-4eb8-9727-e4b57e816fa2\" class=\"colab-df-container\">\n",
              "    <div>\n",
              "<style scoped>\n",
              "    .dataframe tbody tr th:only-of-type {\n",
              "        vertical-align: middle;\n",
              "    }\n",
              "\n",
              "    .dataframe tbody tr th {\n",
              "        vertical-align: top;\n",
              "    }\n",
              "\n",
              "    .dataframe thead th {\n",
              "        text-align: right;\n",
              "    }\n",
              "</style>\n",
              "<table border=\"1\" class=\"dataframe\">\n",
              "  <thead>\n",
              "    <tr style=\"text-align: right;\">\n",
              "      <th></th>\n",
              "      <th>uid</th>\n",
              "      <th>item_name</th>\n",
              "    </tr>\n",
              "  </thead>\n",
              "  <tbody>\n",
              "    <tr>\n",
              "      <th>1075138</th>\n",
              "      <td>180</td>\n",
              "      <td>Wrong Trousers, The (1993)</td>\n",
              "    </tr>\n",
              "    <tr>\n",
              "      <th>1075139</th>\n",
              "      <td>180</td>\n",
              "      <td>Widows' Peak (1994)</td>\n",
              "    </tr>\n",
              "    <tr>\n",
              "      <th>1075140</th>\n",
              "      <td>180</td>\n",
              "      <td>Grass Harp, The (1995)</td>\n",
              "    </tr>\n",
              "    <tr>\n",
              "      <th>1075141</th>\n",
              "      <td>180</td>\n",
              "      <td>Titanic (1997)</td>\n",
              "    </tr>\n",
              "    <tr>\n",
              "      <th>1075142</th>\n",
              "      <td>180</td>\n",
              "      <td>Nell (1994)</td>\n",
              "    </tr>\n",
              "  </tbody>\n",
              "</table>\n",
              "</div>\n",
              "    <div class=\"colab-df-buttons\">\n",
              "\n",
              "  <div class=\"colab-df-container\">\n",
              "    <button class=\"colab-df-convert\" onclick=\"convertToInteractive('df-6fb6430c-b965-4eb8-9727-e4b57e816fa2')\"\n",
              "            title=\"Convert this dataframe to an interactive table.\"\n",
              "            style=\"display:none;\">\n",
              "\n",
              "  <svg xmlns=\"http://www.w3.org/2000/svg\" height=\"24px\" viewBox=\"0 -960 960 960\">\n",
              "    <path d=\"M120-120v-720h720v720H120Zm60-500h600v-160H180v160Zm220 220h160v-160H400v160Zm0 220h160v-160H400v160ZM180-400h160v-160H180v160Zm440 0h160v-160H620v160ZM180-180h160v-160H180v160Zm440 0h160v-160H620v160Z\"/>\n",
              "  </svg>\n",
              "    </button>\n",
              "\n",
              "  <style>\n",
              "    .colab-df-container {\n",
              "      display:flex;\n",
              "      gap: 12px;\n",
              "    }\n",
              "\n",
              "    .colab-df-convert {\n",
              "      background-color: #E8F0FE;\n",
              "      border: none;\n",
              "      border-radius: 50%;\n",
              "      cursor: pointer;\n",
              "      display: none;\n",
              "      fill: #1967D2;\n",
              "      height: 32px;\n",
              "      padding: 0 0 0 0;\n",
              "      width: 32px;\n",
              "    }\n",
              "\n",
              "    .colab-df-convert:hover {\n",
              "      background-color: #E2EBFA;\n",
              "      box-shadow: 0px 1px 2px rgba(60, 64, 67, 0.3), 0px 1px 3px 1px rgba(60, 64, 67, 0.15);\n",
              "      fill: #174EA6;\n",
              "    }\n",
              "\n",
              "    .colab-df-buttons div {\n",
              "      margin-bottom: 4px;\n",
              "    }\n",
              "\n",
              "    [theme=dark] .colab-df-convert {\n",
              "      background-color: #3B4455;\n",
              "      fill: #D2E3FC;\n",
              "    }\n",
              "\n",
              "    [theme=dark] .colab-df-convert:hover {\n",
              "      background-color: #434B5C;\n",
              "      box-shadow: 0px 1px 3px 1px rgba(0, 0, 0, 0.15);\n",
              "      filter: drop-shadow(0px 1px 2px rgba(0, 0, 0, 0.3));\n",
              "      fill: #FFFFFF;\n",
              "    }\n",
              "  </style>\n",
              "\n",
              "    <script>\n",
              "      const buttonEl =\n",
              "        document.querySelector('#df-6fb6430c-b965-4eb8-9727-e4b57e816fa2 button.colab-df-convert');\n",
              "      buttonEl.style.display =\n",
              "        google.colab.kernel.accessAllowed ? 'block' : 'none';\n",
              "\n",
              "      async function convertToInteractive(key) {\n",
              "        const element = document.querySelector('#df-6fb6430c-b965-4eb8-9727-e4b57e816fa2');\n",
              "        const dataTable =\n",
              "          await google.colab.kernel.invokeFunction('convertToInteractive',\n",
              "                                                    [key], {});\n",
              "        if (!dataTable) return;\n",
              "\n",
              "        const docLinkHtml = 'Like what you see? Visit the ' +\n",
              "          '<a target=\"_blank\" href=https://colab.research.google.com/notebooks/data_table.ipynb>data table notebook</a>'\n",
              "          + ' to learn more about interactive tables.';\n",
              "        element.innerHTML = '';\n",
              "        dataTable['output_type'] = 'display_data';\n",
              "        await google.colab.output.renderOutput(dataTable, element);\n",
              "        const docLink = document.createElement('div');\n",
              "        docLink.innerHTML = docLinkHtml;\n",
              "        element.appendChild(docLink);\n",
              "      }\n",
              "    </script>\n",
              "  </div>\n",
              "\n",
              "\n",
              "<div id=\"df-380cd962-0619-4bc4-835e-a590a63cc432\">\n",
              "  <button class=\"colab-df-quickchart\" onclick=\"quickchart('df-380cd962-0619-4bc4-835e-a590a63cc432')\"\n",
              "            title=\"Suggest charts\"\n",
              "            style=\"display:none;\">\n",
              "\n",
              "<svg xmlns=\"http://www.w3.org/2000/svg\" height=\"24px\"viewBox=\"0 0 24 24\"\n",
              "     width=\"24px\">\n",
              "    <g>\n",
              "        <path d=\"M19 3H5c-1.1 0-2 .9-2 2v14c0 1.1.9 2 2 2h14c1.1 0 2-.9 2-2V5c0-1.1-.9-2-2-2zM9 17H7v-7h2v7zm4 0h-2V7h2v10zm4 0h-2v-4h2v4z\"/>\n",
              "    </g>\n",
              "</svg>\n",
              "  </button>\n",
              "\n",
              "<style>\n",
              "  .colab-df-quickchart {\n",
              "      --bg-color: #E8F0FE;\n",
              "      --fill-color: #1967D2;\n",
              "      --hover-bg-color: #E2EBFA;\n",
              "      --hover-fill-color: #174EA6;\n",
              "      --disabled-fill-color: #AAA;\n",
              "      --disabled-bg-color: #DDD;\n",
              "  }\n",
              "\n",
              "  [theme=dark] .colab-df-quickchart {\n",
              "      --bg-color: #3B4455;\n",
              "      --fill-color: #D2E3FC;\n",
              "      --hover-bg-color: #434B5C;\n",
              "      --hover-fill-color: #FFFFFF;\n",
              "      --disabled-bg-color: #3B4455;\n",
              "      --disabled-fill-color: #666;\n",
              "  }\n",
              "\n",
              "  .colab-df-quickchart {\n",
              "    background-color: var(--bg-color);\n",
              "    border: none;\n",
              "    border-radius: 50%;\n",
              "    cursor: pointer;\n",
              "    display: none;\n",
              "    fill: var(--fill-color);\n",
              "    height: 32px;\n",
              "    padding: 0;\n",
              "    width: 32px;\n",
              "  }\n",
              "\n",
              "  .colab-df-quickchart:hover {\n",
              "    background-color: var(--hover-bg-color);\n",
              "    box-shadow: 0 1px 2px rgba(60, 64, 67, 0.3), 0 1px 3px 1px rgba(60, 64, 67, 0.15);\n",
              "    fill: var(--button-hover-fill-color);\n",
              "  }\n",
              "\n",
              "  .colab-df-quickchart-complete:disabled,\n",
              "  .colab-df-quickchart-complete:disabled:hover {\n",
              "    background-color: var(--disabled-bg-color);\n",
              "    fill: var(--disabled-fill-color);\n",
              "    box-shadow: none;\n",
              "  }\n",
              "\n",
              "  .colab-df-spinner {\n",
              "    border: 2px solid var(--fill-color);\n",
              "    border-color: transparent;\n",
              "    border-bottom-color: var(--fill-color);\n",
              "    animation:\n",
              "      spin 1s steps(1) infinite;\n",
              "  }\n",
              "\n",
              "  @keyframes spin {\n",
              "    0% {\n",
              "      border-color: transparent;\n",
              "      border-bottom-color: var(--fill-color);\n",
              "      border-left-color: var(--fill-color);\n",
              "    }\n",
              "    20% {\n",
              "      border-color: transparent;\n",
              "      border-left-color: var(--fill-color);\n",
              "      border-top-color: var(--fill-color);\n",
              "    }\n",
              "    30% {\n",
              "      border-color: transparent;\n",
              "      border-left-color: var(--fill-color);\n",
              "      border-top-color: var(--fill-color);\n",
              "      border-right-color: var(--fill-color);\n",
              "    }\n",
              "    40% {\n",
              "      border-color: transparent;\n",
              "      border-right-color: var(--fill-color);\n",
              "      border-top-color: var(--fill-color);\n",
              "    }\n",
              "    60% {\n",
              "      border-color: transparent;\n",
              "      border-right-color: var(--fill-color);\n",
              "    }\n",
              "    80% {\n",
              "      border-color: transparent;\n",
              "      border-right-color: var(--fill-color);\n",
              "      border-bottom-color: var(--fill-color);\n",
              "    }\n",
              "    90% {\n",
              "      border-color: transparent;\n",
              "      border-bottom-color: var(--fill-color);\n",
              "    }\n",
              "  }\n",
              "</style>\n",
              "\n",
              "  <script>\n",
              "    async function quickchart(key) {\n",
              "      const quickchartButtonEl =\n",
              "        document.querySelector('#' + key + ' button');\n",
              "      quickchartButtonEl.disabled = true;  // To prevent multiple clicks.\n",
              "      quickchartButtonEl.classList.add('colab-df-spinner');\n",
              "      try {\n",
              "        const charts = await google.colab.kernel.invokeFunction(\n",
              "            'suggestCharts', [key], {});\n",
              "      } catch (error) {\n",
              "        console.error('Error during call to suggestCharts:', error);\n",
              "      }\n",
              "      quickchartButtonEl.classList.remove('colab-df-spinner');\n",
              "      quickchartButtonEl.classList.add('colab-df-quickchart-complete');\n",
              "    }\n",
              "    (() => {\n",
              "      let quickchartButtonEl =\n",
              "        document.querySelector('#df-380cd962-0619-4bc4-835e-a590a63cc432 button');\n",
              "      quickchartButtonEl.style.display =\n",
              "        google.colab.kernel.accessAllowed ? 'block' : 'none';\n",
              "    })();\n",
              "  </script>\n",
              "</div>\n",
              "\n",
              "    </div>\n",
              "  </div>\n"
            ],
            "application/vnd.google.colaboratory.intrinsic+json": {
              "type": "dataframe",
              "summary": "{\n  \"name\": \"df_top5_biased[df_top5_biased\",\n  \"rows\": 5,\n  \"fields\": [\n    {\n      \"column\": \"uid\",\n      \"properties\": {\n        \"dtype\": \"number\",\n        \"std\": 0,\n        \"min\": 180,\n        \"max\": 180,\n        \"num_unique_values\": 1,\n        \"samples\": [\n          180\n        ],\n        \"semantic_type\": \"\",\n        \"description\": \"\"\n      }\n    },\n    {\n      \"column\": \"item_name\",\n      \"properties\": {\n        \"dtype\": \"string\",\n        \"num_unique_values\": 5,\n        \"samples\": [\n          \"Widows' Peak (1994)\"\n        ],\n        \"semantic_type\": \"\",\n        \"description\": \"\"\n      }\n    }\n  ]\n}"
            }
          },
          "metadata": {},
          "execution_count": 40
        }
      ]
    },
    {
      "cell_type": "code",
      "source": [],
      "metadata": {
        "id": "F0-C3T64E_fw"
      },
      "execution_count": 40,
      "outputs": []
    }
  ]
}