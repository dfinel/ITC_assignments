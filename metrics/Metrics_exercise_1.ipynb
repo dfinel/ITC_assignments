{
  "nbformat": 4,
  "nbformat_minor": 0,
  "metadata": {
    "kernelspec": {
      "display_name": "Python 3",
      "language": "python",
      "name": "python3"
    },
    "language_info": {
      "codemirror_mode": {
        "name": "ipython",
        "version": 3
      },
      "file_extension": ".py",
      "mimetype": "text/x-python",
      "name": "python",
      "nbconvert_exporter": "python",
      "pygments_lexer": "ipython3",
      "version": "3.8.2"
    },
    "colab": {
      "provenance": []
    }
  },
  "cells": [
    {
      "cell_type": "markdown",
      "metadata": {
        "id": "yQq6UkAFt4KU"
      },
      "source": [
        "# Metrics exercise 1: Churning\n",
        "\n",
        "In this exercise we will analyze data from a cellular service provider. The company has thousands of customers and would like to predict which are likely to [churn](https://en.wikipedia.org/wiki/Customer_attrition) (to stop using the service) in the next three months.\n",
        "\n",
        "We will use the given dataset of 50k prior customers and whether they churned:"
      ]
    },
    {
      "cell_type": "code",
      "source": [
        "from sklearn.model_selection import train_test_split\n",
        "import numpy as np\n",
        "import pandas as pd\n",
        "from sklearn.preprocessing import OneHotEncoder\n",
        "from sklearn.ensemble import RandomForestClassifier\n",
        "from sklearn.metrics import confusion_matrix\n",
        "from sklearn.metrics import classification_report\n",
        "import sklearn.metrics\n",
        "import matplotlib.pyplot as plt"
      ],
      "metadata": {
        "id": "OlpC3EFd1v46"
      },
      "execution_count": 1,
      "outputs": []
    },
    {
      "cell_type": "code",
      "metadata": {
        "id": "OIE98W1ht4KV",
        "outputId": "7677f8ef-d1f5-4670-b412-a1b4f6da37b1",
        "colab": {
          "base_uri": "https://localhost:8080/",
          "height": 206
        }
      },
      "source": [
        "df = pd.read_csv('features_churn_matrix_ex1.csv')\n",
        "df.head()"
      ],
      "execution_count": 2,
      "outputs": [
        {
          "output_type": "execute_result",
          "data": {
            "text/plain": [
              "   is_male  num_interactions_with_cust_service country  late_on_payment   age  \\\n",
              "0     True                                 0.0     GRE            False  41.0   \n",
              "1     True                                 1.0     ISR            False  29.0   \n",
              "2    False                                 0.0     GRE            False  34.0   \n",
              "3    False                                 1.0     ISR            False  29.0   \n",
              "4     True                                 0.0     ISR            False  33.0   \n",
              "\n",
              "   years_in_contract  churned  \n",
              "0           3.240370    False  \n",
              "1           2.121320    False  \n",
              "2           3.240370    False  \n",
              "3           3.240370    False  \n",
              "4           3.082207    False  "
            ],
            "text/html": [
              "\n",
              "  <div id=\"df-f8221712-ec31-4861-93e2-45ffe6129448\" class=\"colab-df-container\">\n",
              "    <div>\n",
              "<style scoped>\n",
              "    .dataframe tbody tr th:only-of-type {\n",
              "        vertical-align: middle;\n",
              "    }\n",
              "\n",
              "    .dataframe tbody tr th {\n",
              "        vertical-align: top;\n",
              "    }\n",
              "\n",
              "    .dataframe thead th {\n",
              "        text-align: right;\n",
              "    }\n",
              "</style>\n",
              "<table border=\"1\" class=\"dataframe\">\n",
              "  <thead>\n",
              "    <tr style=\"text-align: right;\">\n",
              "      <th></th>\n",
              "      <th>is_male</th>\n",
              "      <th>num_interactions_with_cust_service</th>\n",
              "      <th>country</th>\n",
              "      <th>late_on_payment</th>\n",
              "      <th>age</th>\n",
              "      <th>years_in_contract</th>\n",
              "      <th>churned</th>\n",
              "    </tr>\n",
              "  </thead>\n",
              "  <tbody>\n",
              "    <tr>\n",
              "      <th>0</th>\n",
              "      <td>True</td>\n",
              "      <td>0.0</td>\n",
              "      <td>GRE</td>\n",
              "      <td>False</td>\n",
              "      <td>41.0</td>\n",
              "      <td>3.240370</td>\n",
              "      <td>False</td>\n",
              "    </tr>\n",
              "    <tr>\n",
              "      <th>1</th>\n",
              "      <td>True</td>\n",
              "      <td>1.0</td>\n",
              "      <td>ISR</td>\n",
              "      <td>False</td>\n",
              "      <td>29.0</td>\n",
              "      <td>2.121320</td>\n",
              "      <td>False</td>\n",
              "    </tr>\n",
              "    <tr>\n",
              "      <th>2</th>\n",
              "      <td>False</td>\n",
              "      <td>0.0</td>\n",
              "      <td>GRE</td>\n",
              "      <td>False</td>\n",
              "      <td>34.0</td>\n",
              "      <td>3.240370</td>\n",
              "      <td>False</td>\n",
              "    </tr>\n",
              "    <tr>\n",
              "      <th>3</th>\n",
              "      <td>False</td>\n",
              "      <td>1.0</td>\n",
              "      <td>ISR</td>\n",
              "      <td>False</td>\n",
              "      <td>29.0</td>\n",
              "      <td>3.240370</td>\n",
              "      <td>False</td>\n",
              "    </tr>\n",
              "    <tr>\n",
              "      <th>4</th>\n",
              "      <td>True</td>\n",
              "      <td>0.0</td>\n",
              "      <td>ISR</td>\n",
              "      <td>False</td>\n",
              "      <td>33.0</td>\n",
              "      <td>3.082207</td>\n",
              "      <td>False</td>\n",
              "    </tr>\n",
              "  </tbody>\n",
              "</table>\n",
              "</div>\n",
              "    <div class=\"colab-df-buttons\">\n",
              "\n",
              "  <div class=\"colab-df-container\">\n",
              "    <button class=\"colab-df-convert\" onclick=\"convertToInteractive('df-f8221712-ec31-4861-93e2-45ffe6129448')\"\n",
              "            title=\"Convert this dataframe to an interactive table.\"\n",
              "            style=\"display:none;\">\n",
              "\n",
              "  <svg xmlns=\"http://www.w3.org/2000/svg\" height=\"24px\" viewBox=\"0 -960 960 960\">\n",
              "    <path d=\"M120-120v-720h720v720H120Zm60-500h600v-160H180v160Zm220 220h160v-160H400v160Zm0 220h160v-160H400v160ZM180-400h160v-160H180v160Zm440 0h160v-160H620v160ZM180-180h160v-160H180v160Zm440 0h160v-160H620v160Z\"/>\n",
              "  </svg>\n",
              "    </button>\n",
              "\n",
              "  <style>\n",
              "    .colab-df-container {\n",
              "      display:flex;\n",
              "      gap: 12px;\n",
              "    }\n",
              "\n",
              "    .colab-df-convert {\n",
              "      background-color: #E8F0FE;\n",
              "      border: none;\n",
              "      border-radius: 50%;\n",
              "      cursor: pointer;\n",
              "      display: none;\n",
              "      fill: #1967D2;\n",
              "      height: 32px;\n",
              "      padding: 0 0 0 0;\n",
              "      width: 32px;\n",
              "    }\n",
              "\n",
              "    .colab-df-convert:hover {\n",
              "      background-color: #E2EBFA;\n",
              "      box-shadow: 0px 1px 2px rgba(60, 64, 67, 0.3), 0px 1px 3px 1px rgba(60, 64, 67, 0.15);\n",
              "      fill: #174EA6;\n",
              "    }\n",
              "\n",
              "    .colab-df-buttons div {\n",
              "      margin-bottom: 4px;\n",
              "    }\n",
              "\n",
              "    [theme=dark] .colab-df-convert {\n",
              "      background-color: #3B4455;\n",
              "      fill: #D2E3FC;\n",
              "    }\n",
              "\n",
              "    [theme=dark] .colab-df-convert:hover {\n",
              "      background-color: #434B5C;\n",
              "      box-shadow: 0px 1px 3px 1px rgba(0, 0, 0, 0.15);\n",
              "      filter: drop-shadow(0px 1px 2px rgba(0, 0, 0, 0.3));\n",
              "      fill: #FFFFFF;\n",
              "    }\n",
              "  </style>\n",
              "\n",
              "    <script>\n",
              "      const buttonEl =\n",
              "        document.querySelector('#df-f8221712-ec31-4861-93e2-45ffe6129448 button.colab-df-convert');\n",
              "      buttonEl.style.display =\n",
              "        google.colab.kernel.accessAllowed ? 'block' : 'none';\n",
              "\n",
              "      async function convertToInteractive(key) {\n",
              "        const element = document.querySelector('#df-f8221712-ec31-4861-93e2-45ffe6129448');\n",
              "        const dataTable =\n",
              "          await google.colab.kernel.invokeFunction('convertToInteractive',\n",
              "                                                    [key], {});\n",
              "        if (!dataTable) return;\n",
              "\n",
              "        const docLinkHtml = 'Like what you see? Visit the ' +\n",
              "          '<a target=\"_blank\" href=https://colab.research.google.com/notebooks/data_table.ipynb>data table notebook</a>'\n",
              "          + ' to learn more about interactive tables.';\n",
              "        element.innerHTML = '';\n",
              "        dataTable['output_type'] = 'display_data';\n",
              "        await google.colab.output.renderOutput(dataTable, element);\n",
              "        const docLink = document.createElement('div');\n",
              "        docLink.innerHTML = docLinkHtml;\n",
              "        element.appendChild(docLink);\n",
              "      }\n",
              "    </script>\n",
              "  </div>\n",
              "\n",
              "\n",
              "<div id=\"df-8a49efb9-947f-4ed4-8730-3410f6c7ec4b\">\n",
              "  <button class=\"colab-df-quickchart\" onclick=\"quickchart('df-8a49efb9-947f-4ed4-8730-3410f6c7ec4b')\"\n",
              "            title=\"Suggest charts\"\n",
              "            style=\"display:none;\">\n",
              "\n",
              "<svg xmlns=\"http://www.w3.org/2000/svg\" height=\"24px\"viewBox=\"0 0 24 24\"\n",
              "     width=\"24px\">\n",
              "    <g>\n",
              "        <path d=\"M19 3H5c-1.1 0-2 .9-2 2v14c0 1.1.9 2 2 2h14c1.1 0 2-.9 2-2V5c0-1.1-.9-2-2-2zM9 17H7v-7h2v7zm4 0h-2V7h2v10zm4 0h-2v-4h2v4z\"/>\n",
              "    </g>\n",
              "</svg>\n",
              "  </button>\n",
              "\n",
              "<style>\n",
              "  .colab-df-quickchart {\n",
              "      --bg-color: #E8F0FE;\n",
              "      --fill-color: #1967D2;\n",
              "      --hover-bg-color: #E2EBFA;\n",
              "      --hover-fill-color: #174EA6;\n",
              "      --disabled-fill-color: #AAA;\n",
              "      --disabled-bg-color: #DDD;\n",
              "  }\n",
              "\n",
              "  [theme=dark] .colab-df-quickchart {\n",
              "      --bg-color: #3B4455;\n",
              "      --fill-color: #D2E3FC;\n",
              "      --hover-bg-color: #434B5C;\n",
              "      --hover-fill-color: #FFFFFF;\n",
              "      --disabled-bg-color: #3B4455;\n",
              "      --disabled-fill-color: #666;\n",
              "  }\n",
              "\n",
              "  .colab-df-quickchart {\n",
              "    background-color: var(--bg-color);\n",
              "    border: none;\n",
              "    border-radius: 50%;\n",
              "    cursor: pointer;\n",
              "    display: none;\n",
              "    fill: var(--fill-color);\n",
              "    height: 32px;\n",
              "    padding: 0;\n",
              "    width: 32px;\n",
              "  }\n",
              "\n",
              "  .colab-df-quickchart:hover {\n",
              "    background-color: var(--hover-bg-color);\n",
              "    box-shadow: 0 1px 2px rgba(60, 64, 67, 0.3), 0 1px 3px 1px rgba(60, 64, 67, 0.15);\n",
              "    fill: var(--button-hover-fill-color);\n",
              "  }\n",
              "\n",
              "  .colab-df-quickchart-complete:disabled,\n",
              "  .colab-df-quickchart-complete:disabled:hover {\n",
              "    background-color: var(--disabled-bg-color);\n",
              "    fill: var(--disabled-fill-color);\n",
              "    box-shadow: none;\n",
              "  }\n",
              "\n",
              "  .colab-df-spinner {\n",
              "    border: 2px solid var(--fill-color);\n",
              "    border-color: transparent;\n",
              "    border-bottom-color: var(--fill-color);\n",
              "    animation:\n",
              "      spin 1s steps(1) infinite;\n",
              "  }\n",
              "\n",
              "  @keyframes spin {\n",
              "    0% {\n",
              "      border-color: transparent;\n",
              "      border-bottom-color: var(--fill-color);\n",
              "      border-left-color: var(--fill-color);\n",
              "    }\n",
              "    20% {\n",
              "      border-color: transparent;\n",
              "      border-left-color: var(--fill-color);\n",
              "      border-top-color: var(--fill-color);\n",
              "    }\n",
              "    30% {\n",
              "      border-color: transparent;\n",
              "      border-left-color: var(--fill-color);\n",
              "      border-top-color: var(--fill-color);\n",
              "      border-right-color: var(--fill-color);\n",
              "    }\n",
              "    40% {\n",
              "      border-color: transparent;\n",
              "      border-right-color: var(--fill-color);\n",
              "      border-top-color: var(--fill-color);\n",
              "    }\n",
              "    60% {\n",
              "      border-color: transparent;\n",
              "      border-right-color: var(--fill-color);\n",
              "    }\n",
              "    80% {\n",
              "      border-color: transparent;\n",
              "      border-right-color: var(--fill-color);\n",
              "      border-bottom-color: var(--fill-color);\n",
              "    }\n",
              "    90% {\n",
              "      border-color: transparent;\n",
              "      border-bottom-color: var(--fill-color);\n",
              "    }\n",
              "  }\n",
              "</style>\n",
              "\n",
              "  <script>\n",
              "    async function quickchart(key) {\n",
              "      const quickchartButtonEl =\n",
              "        document.querySelector('#' + key + ' button');\n",
              "      quickchartButtonEl.disabled = true;  // To prevent multiple clicks.\n",
              "      quickchartButtonEl.classList.add('colab-df-spinner');\n",
              "      try {\n",
              "        const charts = await google.colab.kernel.invokeFunction(\n",
              "            'suggestCharts', [key], {});\n",
              "      } catch (error) {\n",
              "        console.error('Error during call to suggestCharts:', error);\n",
              "      }\n",
              "      quickchartButtonEl.classList.remove('colab-df-spinner');\n",
              "      quickchartButtonEl.classList.add('colab-df-quickchart-complete');\n",
              "    }\n",
              "    (() => {\n",
              "      let quickchartButtonEl =\n",
              "        document.querySelector('#df-8a49efb9-947f-4ed4-8730-3410f6c7ec4b button');\n",
              "      quickchartButtonEl.style.display =\n",
              "        google.colab.kernel.accessAllowed ? 'block' : 'none';\n",
              "    })();\n",
              "  </script>\n",
              "</div>\n",
              "    </div>\n",
              "  </div>\n"
            ]
          },
          "metadata": {},
          "execution_count": 2
        }
      ]
    },
    {
      "cell_type": "markdown",
      "metadata": {
        "id": "_wVvCq5Tt4KX"
      },
      "source": [
        "## Part 1: Analysis\n",
        "\n",
        "### Questions\n",
        "**1.** Split the dataset into train and test datasets `X_train, X_test, y_train, y_test` using `sklearn.model_selection.train_test_split` with 20% test data. Note: make sure that `X_train` and `X_test` only contain numeric and boolean values.\n"
      ]
    },
    {
      "cell_type": "code",
      "source": [
        "# your code here\n",
        "X = df.drop(columns = ['churned'])\n",
        "y = df.churned\n",
        "X_train,X_test, y_train, y_test = train_test_split(X,y,test_size = 0.2,random_state = 42)\n"
      ],
      "metadata": {
        "id": "mcIHZWjt9vgl"
      },
      "execution_count": 3,
      "outputs": []
    },
    {
      "cell_type": "code",
      "source": [
        "X_train = pd.get_dummies(X_train, columns = ['country'])\n",
        "X_test = pd.get_dummies(X_test, columns = ['country'])"
      ],
      "metadata": {
        "id": "BJ5GaaNvMR3j"
      },
      "execution_count": 4,
      "outputs": []
    },
    {
      "cell_type": "code",
      "source": [
        "X_train.head()"
      ],
      "metadata": {
        "id": "EcqmbYkXuaiT",
        "outputId": "fef64315-ae2b-4940-996b-8d7a22936d42",
        "colab": {
          "base_uri": "https://localhost:8080/",
          "height": 206
        }
      },
      "execution_count": 5,
      "outputs": [
        {
          "output_type": "execute_result",
          "data": {
            "text/plain": [
              "       is_male  num_interactions_with_cust_service  late_on_payment   age  \\\n",
              "39087     True                                 1.0            False  28.0   \n",
              "30893    False                                 4.0            False  24.0   \n",
              "45278     True                                 0.0            False  30.0   \n",
              "16398     True                                 0.0            False  33.0   \n",
              "13653    False                                 1.0            False  23.0   \n",
              "\n",
              "       years_in_contract  country_GRE  country_ISR  \n",
              "39087           3.674235            1            0  \n",
              "30893           0.707107            0            1  \n",
              "45278           3.535534            1            0  \n",
              "16398           3.535534            1            0  \n",
              "13653           0.707107            1            0  "
            ],
            "text/html": [
              "\n",
              "  <div id=\"df-51457b12-f4ba-47bf-9e46-c09e20e114a8\" class=\"colab-df-container\">\n",
              "    <div>\n",
              "<style scoped>\n",
              "    .dataframe tbody tr th:only-of-type {\n",
              "        vertical-align: middle;\n",
              "    }\n",
              "\n",
              "    .dataframe tbody tr th {\n",
              "        vertical-align: top;\n",
              "    }\n",
              "\n",
              "    .dataframe thead th {\n",
              "        text-align: right;\n",
              "    }\n",
              "</style>\n",
              "<table border=\"1\" class=\"dataframe\">\n",
              "  <thead>\n",
              "    <tr style=\"text-align: right;\">\n",
              "      <th></th>\n",
              "      <th>is_male</th>\n",
              "      <th>num_interactions_with_cust_service</th>\n",
              "      <th>late_on_payment</th>\n",
              "      <th>age</th>\n",
              "      <th>years_in_contract</th>\n",
              "      <th>country_GRE</th>\n",
              "      <th>country_ISR</th>\n",
              "    </tr>\n",
              "  </thead>\n",
              "  <tbody>\n",
              "    <tr>\n",
              "      <th>39087</th>\n",
              "      <td>True</td>\n",
              "      <td>1.0</td>\n",
              "      <td>False</td>\n",
              "      <td>28.0</td>\n",
              "      <td>3.674235</td>\n",
              "      <td>1</td>\n",
              "      <td>0</td>\n",
              "    </tr>\n",
              "    <tr>\n",
              "      <th>30893</th>\n",
              "      <td>False</td>\n",
              "      <td>4.0</td>\n",
              "      <td>False</td>\n",
              "      <td>24.0</td>\n",
              "      <td>0.707107</td>\n",
              "      <td>0</td>\n",
              "      <td>1</td>\n",
              "    </tr>\n",
              "    <tr>\n",
              "      <th>45278</th>\n",
              "      <td>True</td>\n",
              "      <td>0.0</td>\n",
              "      <td>False</td>\n",
              "      <td>30.0</td>\n",
              "      <td>3.535534</td>\n",
              "      <td>1</td>\n",
              "      <td>0</td>\n",
              "    </tr>\n",
              "    <tr>\n",
              "      <th>16398</th>\n",
              "      <td>True</td>\n",
              "      <td>0.0</td>\n",
              "      <td>False</td>\n",
              "      <td>33.0</td>\n",
              "      <td>3.535534</td>\n",
              "      <td>1</td>\n",
              "      <td>0</td>\n",
              "    </tr>\n",
              "    <tr>\n",
              "      <th>13653</th>\n",
              "      <td>False</td>\n",
              "      <td>1.0</td>\n",
              "      <td>False</td>\n",
              "      <td>23.0</td>\n",
              "      <td>0.707107</td>\n",
              "      <td>1</td>\n",
              "      <td>0</td>\n",
              "    </tr>\n",
              "  </tbody>\n",
              "</table>\n",
              "</div>\n",
              "    <div class=\"colab-df-buttons\">\n",
              "\n",
              "  <div class=\"colab-df-container\">\n",
              "    <button class=\"colab-df-convert\" onclick=\"convertToInteractive('df-51457b12-f4ba-47bf-9e46-c09e20e114a8')\"\n",
              "            title=\"Convert this dataframe to an interactive table.\"\n",
              "            style=\"display:none;\">\n",
              "\n",
              "  <svg xmlns=\"http://www.w3.org/2000/svg\" height=\"24px\" viewBox=\"0 -960 960 960\">\n",
              "    <path d=\"M120-120v-720h720v720H120Zm60-500h600v-160H180v160Zm220 220h160v-160H400v160Zm0 220h160v-160H400v160ZM180-400h160v-160H180v160Zm440 0h160v-160H620v160ZM180-180h160v-160H180v160Zm440 0h160v-160H620v160Z\"/>\n",
              "  </svg>\n",
              "    </button>\n",
              "\n",
              "  <style>\n",
              "    .colab-df-container {\n",
              "      display:flex;\n",
              "      gap: 12px;\n",
              "    }\n",
              "\n",
              "    .colab-df-convert {\n",
              "      background-color: #E8F0FE;\n",
              "      border: none;\n",
              "      border-radius: 50%;\n",
              "      cursor: pointer;\n",
              "      display: none;\n",
              "      fill: #1967D2;\n",
              "      height: 32px;\n",
              "      padding: 0 0 0 0;\n",
              "      width: 32px;\n",
              "    }\n",
              "\n",
              "    .colab-df-convert:hover {\n",
              "      background-color: #E2EBFA;\n",
              "      box-shadow: 0px 1px 2px rgba(60, 64, 67, 0.3), 0px 1px 3px 1px rgba(60, 64, 67, 0.15);\n",
              "      fill: #174EA6;\n",
              "    }\n",
              "\n",
              "    .colab-df-buttons div {\n",
              "      margin-bottom: 4px;\n",
              "    }\n",
              "\n",
              "    [theme=dark] .colab-df-convert {\n",
              "      background-color: #3B4455;\n",
              "      fill: #D2E3FC;\n",
              "    }\n",
              "\n",
              "    [theme=dark] .colab-df-convert:hover {\n",
              "      background-color: #434B5C;\n",
              "      box-shadow: 0px 1px 3px 1px rgba(0, 0, 0, 0.15);\n",
              "      filter: drop-shadow(0px 1px 2px rgba(0, 0, 0, 0.3));\n",
              "      fill: #FFFFFF;\n",
              "    }\n",
              "  </style>\n",
              "\n",
              "    <script>\n",
              "      const buttonEl =\n",
              "        document.querySelector('#df-51457b12-f4ba-47bf-9e46-c09e20e114a8 button.colab-df-convert');\n",
              "      buttonEl.style.display =\n",
              "        google.colab.kernel.accessAllowed ? 'block' : 'none';\n",
              "\n",
              "      async function convertToInteractive(key) {\n",
              "        const element = document.querySelector('#df-51457b12-f4ba-47bf-9e46-c09e20e114a8');\n",
              "        const dataTable =\n",
              "          await google.colab.kernel.invokeFunction('convertToInteractive',\n",
              "                                                    [key], {});\n",
              "        if (!dataTable) return;\n",
              "\n",
              "        const docLinkHtml = 'Like what you see? Visit the ' +\n",
              "          '<a target=\"_blank\" href=https://colab.research.google.com/notebooks/data_table.ipynb>data table notebook</a>'\n",
              "          + ' to learn more about interactive tables.';\n",
              "        element.innerHTML = '';\n",
              "        dataTable['output_type'] = 'display_data';\n",
              "        await google.colab.output.renderOutput(dataTable, element);\n",
              "        const docLink = document.createElement('div');\n",
              "        docLink.innerHTML = docLinkHtml;\n",
              "        element.appendChild(docLink);\n",
              "      }\n",
              "    </script>\n",
              "  </div>\n",
              "\n",
              "\n",
              "<div id=\"df-06cf0063-bb62-4b49-8a21-f44049220680\">\n",
              "  <button class=\"colab-df-quickchart\" onclick=\"quickchart('df-06cf0063-bb62-4b49-8a21-f44049220680')\"\n",
              "            title=\"Suggest charts\"\n",
              "            style=\"display:none;\">\n",
              "\n",
              "<svg xmlns=\"http://www.w3.org/2000/svg\" height=\"24px\"viewBox=\"0 0 24 24\"\n",
              "     width=\"24px\">\n",
              "    <g>\n",
              "        <path d=\"M19 3H5c-1.1 0-2 .9-2 2v14c0 1.1.9 2 2 2h14c1.1 0 2-.9 2-2V5c0-1.1-.9-2-2-2zM9 17H7v-7h2v7zm4 0h-2V7h2v10zm4 0h-2v-4h2v4z\"/>\n",
              "    </g>\n",
              "</svg>\n",
              "  </button>\n",
              "\n",
              "<style>\n",
              "  .colab-df-quickchart {\n",
              "      --bg-color: #E8F0FE;\n",
              "      --fill-color: #1967D2;\n",
              "      --hover-bg-color: #E2EBFA;\n",
              "      --hover-fill-color: #174EA6;\n",
              "      --disabled-fill-color: #AAA;\n",
              "      --disabled-bg-color: #DDD;\n",
              "  }\n",
              "\n",
              "  [theme=dark] .colab-df-quickchart {\n",
              "      --bg-color: #3B4455;\n",
              "      --fill-color: #D2E3FC;\n",
              "      --hover-bg-color: #434B5C;\n",
              "      --hover-fill-color: #FFFFFF;\n",
              "      --disabled-bg-color: #3B4455;\n",
              "      --disabled-fill-color: #666;\n",
              "  }\n",
              "\n",
              "  .colab-df-quickchart {\n",
              "    background-color: var(--bg-color);\n",
              "    border: none;\n",
              "    border-radius: 50%;\n",
              "    cursor: pointer;\n",
              "    display: none;\n",
              "    fill: var(--fill-color);\n",
              "    height: 32px;\n",
              "    padding: 0;\n",
              "    width: 32px;\n",
              "  }\n",
              "\n",
              "  .colab-df-quickchart:hover {\n",
              "    background-color: var(--hover-bg-color);\n",
              "    box-shadow: 0 1px 2px rgba(60, 64, 67, 0.3), 0 1px 3px 1px rgba(60, 64, 67, 0.15);\n",
              "    fill: var(--button-hover-fill-color);\n",
              "  }\n",
              "\n",
              "  .colab-df-quickchart-complete:disabled,\n",
              "  .colab-df-quickchart-complete:disabled:hover {\n",
              "    background-color: var(--disabled-bg-color);\n",
              "    fill: var(--disabled-fill-color);\n",
              "    box-shadow: none;\n",
              "  }\n",
              "\n",
              "  .colab-df-spinner {\n",
              "    border: 2px solid var(--fill-color);\n",
              "    border-color: transparent;\n",
              "    border-bottom-color: var(--fill-color);\n",
              "    animation:\n",
              "      spin 1s steps(1) infinite;\n",
              "  }\n",
              "\n",
              "  @keyframes spin {\n",
              "    0% {\n",
              "      border-color: transparent;\n",
              "      border-bottom-color: var(--fill-color);\n",
              "      border-left-color: var(--fill-color);\n",
              "    }\n",
              "    20% {\n",
              "      border-color: transparent;\n",
              "      border-left-color: var(--fill-color);\n",
              "      border-top-color: var(--fill-color);\n",
              "    }\n",
              "    30% {\n",
              "      border-color: transparent;\n",
              "      border-left-color: var(--fill-color);\n",
              "      border-top-color: var(--fill-color);\n",
              "      border-right-color: var(--fill-color);\n",
              "    }\n",
              "    40% {\n",
              "      border-color: transparent;\n",
              "      border-right-color: var(--fill-color);\n",
              "      border-top-color: var(--fill-color);\n",
              "    }\n",
              "    60% {\n",
              "      border-color: transparent;\n",
              "      border-right-color: var(--fill-color);\n",
              "    }\n",
              "    80% {\n",
              "      border-color: transparent;\n",
              "      border-right-color: var(--fill-color);\n",
              "      border-bottom-color: var(--fill-color);\n",
              "    }\n",
              "    90% {\n",
              "      border-color: transparent;\n",
              "      border-bottom-color: var(--fill-color);\n",
              "    }\n",
              "  }\n",
              "</style>\n",
              "\n",
              "  <script>\n",
              "    async function quickchart(key) {\n",
              "      const quickchartButtonEl =\n",
              "        document.querySelector('#' + key + ' button');\n",
              "      quickchartButtonEl.disabled = true;  // To prevent multiple clicks.\n",
              "      quickchartButtonEl.classList.add('colab-df-spinner');\n",
              "      try {\n",
              "        const charts = await google.colab.kernel.invokeFunction(\n",
              "            'suggestCharts', [key], {});\n",
              "      } catch (error) {\n",
              "        console.error('Error during call to suggestCharts:', error);\n",
              "      }\n",
              "      quickchartButtonEl.classList.remove('colab-df-spinner');\n",
              "      quickchartButtonEl.classList.add('colab-df-quickchart-complete');\n",
              "    }\n",
              "    (() => {\n",
              "      let quickchartButtonEl =\n",
              "        document.querySelector('#df-06cf0063-bb62-4b49-8a21-f44049220680 button');\n",
              "      quickchartButtonEl.style.display =\n",
              "        google.colab.kernel.accessAllowed ? 'block' : 'none';\n",
              "    })();\n",
              "  </script>\n",
              "</div>\n",
              "    </div>\n",
              "  </div>\n"
            ]
          },
          "metadata": {},
          "execution_count": 5
        }
      ]
    },
    {
      "cell_type": "code",
      "source": [
        "for columns in X_train.columns:\n",
        "  assert pd.to_numeric(X_train[columns]).notna().all() or X_train[columns].dtype == 'bool'\n",
        "  assert pd.to_numeric(X_test[columns]).notna().all() or X_test[columns].dtype == 'bool'"
      ],
      "metadata": {
        "id": "q-uCLxol2USD"
      },
      "execution_count": 6,
      "outputs": []
    },
    {
      "cell_type": "markdown",
      "source": [
        "**2.** Train a Random Forest classifier `clf` (using `sklearn.ensemble.RandomForestClassifier`) to predict whether a customer will churn. Save the predictions on the test data in an array `y_pred`.\n"
      ],
      "metadata": {
        "id": "61DcFC9J9eDJ"
      }
    },
    {
      "cell_type": "code",
      "source": [
        "# your code here\n",
        "clf = RandomForestClassifier()\n",
        "clf.fit(X_train,y_train)\n",
        "y_pred = clf.predict(X_test)\n"
      ],
      "metadata": {
        "id": "FCrhVfhi9yQl"
      },
      "execution_count": 7,
      "outputs": []
    },
    {
      "cell_type": "markdown",
      "source": [
        "**3.** Print the confusion matrix and a classification report (`sklearn.metrics.classification_report`) for your model.\n"
      ],
      "metadata": {
        "id": "WJ1V-24U9gUc"
      }
    },
    {
      "cell_type": "code",
      "source": [
        "confusion_matrix(y_test,y_pred)"
      ],
      "metadata": {
        "colab": {
          "base_uri": "https://localhost:8080/"
        },
        "id": "gGbhmHm6N7RC",
        "outputId": "39da4285-cab5-4bf9-a8fc-514934b556e1"
      },
      "execution_count": 8,
      "outputs": [
        {
          "output_type": "execute_result",
          "data": {
            "text/plain": [
              "array([[7889,  534],\n",
              "       [1028,  549]])"
            ]
          },
          "metadata": {},
          "execution_count": 8
        }
      ]
    },
    {
      "cell_type": "code",
      "source": [
        "print(classification_report(y_test,y_pred))"
      ],
      "metadata": {
        "id": "jPrNigxM9y68",
        "colab": {
          "base_uri": "https://localhost:8080/"
        },
        "outputId": "4717bdcd-2cbd-40de-97c2-6f0e0a92885a"
      },
      "execution_count": 9,
      "outputs": [
        {
          "output_type": "stream",
          "name": "stdout",
          "text": [
            "              precision    recall  f1-score   support\n",
            "\n",
            "       False       0.88      0.94      0.91      8423\n",
            "        True       0.51      0.35      0.41      1577\n",
            "\n",
            "    accuracy                           0.84     10000\n",
            "   macro avg       0.70      0.64      0.66     10000\n",
            "weighted avg       0.83      0.84      0.83     10000\n",
            "\n"
          ]
        }
      ]
    },
    {
      "cell_type": "markdown",
      "source": [
        "**4.** What is the accuracy of the model on the test data? How well does it predict churn?\n"
      ],
      "metadata": {
        "id": "7TW7F9--9iLY"
      }
    },
    {
      "cell_type": "markdown",
      "source": [
        "The accuracy of the model on the test data is 0.85\n",
        "However, we have a True recall of 0.35 meaning that we only catch 35% of customers who are likely to churn.\n",
        "\n",
        "So our model does not predict churn well."
      ],
      "metadata": {
        "id": "05vhfl4fDrr6"
      }
    },
    {
      "cell_type": "markdown",
      "source": [
        "**5.** Use `clf.predict_proba` to get the probabilities of churning predicted for the test data and save to an array `y_probs`. Note: `y_probs` should be of shape `(10000,)` (check with `y_probs.shape`)"
      ],
      "metadata": {
        "id": "fFK5jhjT9mCv"
      }
    },
    {
      "cell_type": "code",
      "source": [
        "# your code here\n",
        "y_probs = clf.predict_proba(X_test)[:,1]\n",
        "\n"
      ],
      "metadata": {
        "id": "VvBLFzAu90hS"
      },
      "execution_count": 10,
      "outputs": []
    },
    {
      "cell_type": "markdown",
      "source": [
        "\n",
        "**6.** In `y_pred` we predicted churning if the probability of churning in `y_probs` is $\\geq 0.5$. Instead we could use a different threshold $p$, predicting churning if the probability  of churning in `y_probs` is $\\geq p$. Print a classification report and confusion matrix for the model using threshold $p = 0.2$. How do the predictions of this model compare to the model in question 4?\n"
      ],
      "metadata": {
        "id": "UmwLtzsU9kMw"
      }
    },
    {
      "cell_type": "code",
      "source": [
        "# your code here\n",
        "new_y_pred = (y_probs >=0.2)\n",
        "print(classification_report(y_test,new_y_pred))"
      ],
      "metadata": {
        "id": "CiyeCjt991Gp",
        "colab": {
          "base_uri": "https://localhost:8080/"
        },
        "outputId": "3b081ab0-eeee-4be7-8f8f-3f43320751ba"
      },
      "execution_count": 11,
      "outputs": [
        {
          "output_type": "stream",
          "name": "stdout",
          "text": [
            "              precision    recall  f1-score   support\n",
            "\n",
            "       False       0.92      0.80      0.86      8423\n",
            "        True       0.37      0.63      0.47      1577\n",
            "\n",
            "    accuracy                           0.77     10000\n",
            "   macro avg       0.65      0.71      0.66     10000\n",
            "weighted avg       0.83      0.77      0.80     10000\n",
            "\n"
          ]
        }
      ]
    },
    {
      "cell_type": "code",
      "source": [
        "confusion_matrix(y_test,new_y_pred)"
      ],
      "metadata": {
        "colab": {
          "base_uri": "https://localhost:8080/"
        },
        "id": "EKicH_HTWoMM",
        "outputId": "c546fc22-8b11-4623-f3a6-2289db1817ec"
      },
      "execution_count": 12,
      "outputs": [
        {
          "output_type": "execute_result",
          "data": {
            "text/plain": [
              "array([[6757, 1666],\n",
              "       [ 589,  988]])"
            ]
          },
          "metadata": {},
          "execution_count": 12
        }
      ]
    },
    {
      "cell_type": "markdown",
      "source": [
        "The accuracy is lower here (0.78) than for p = 0.5.\n",
        "Moreover, the recall here is much lower than for p = 0.5 for both True and False values so we do not catch well relevant items.\n",
        "So this model will predict less accurately than the previous one."
      ],
      "metadata": {
        "id": "mQdN9i7tIwqy"
      }
    },
    {
      "cell_type": "markdown",
      "source": [
        "**7.** Plot the ROC and precision-recall curves for the model. What is the ROC AUC score? Hint: use `sklearn.metrics.roc_curve/precision_recall_curve/roc_auc_score`.\n"
      ],
      "metadata": {
        "id": "e1D9I0zo9r-P"
      }
    },
    {
      "cell_type": "code",
      "source": [
        "# your code here\n",
        "fpr,tpr,thresholds= sklearn.metrics.roc_curve(y_test,y_probs)\n",
        "plt.plot(fpr,tpr, label = 'roc curve', color = 'blue')\n",
        "precision,recall,thresholds = sklearn.metrics.precision_recall_curve(y_test,y_probs)\n",
        "plt.plot(recall,precision, label = 'precision-recall curve', color = 'orange')\n",
        "\n",
        "plt.legend()\n",
        "plt.tight_layout()\n",
        "plt.show()\n",
        "\n",
        "auc_score = sklearn.metrics.roc_auc_score(y_test,y_probs)\n",
        "auc_score"
      ],
      "metadata": {
        "id": "w858o0ld92Ev",
        "colab": {
          "base_uri": "https://localhost:8080/",
          "height": 505
        },
        "outputId": "d24fa600-a6e5-452d-cd87-24145a911895"
      },
      "execution_count": 13,
      "outputs": [
        {
          "output_type": "display_data",
          "data": {
            "text/plain": [
              "<Figure size 640x480 with 1 Axes>"
            ],
            "image/png": "[encoded data removed]"
          },
          "metadata": {}
        },
        {
          "output_type": "execute_result",
          "data": {
            "text/plain": [
              "0.7789583071565302"
            ]
          },
          "metadata": {},
          "execution_count": 13
        }
      ]
    },
    {
      "cell_type": "markdown",
      "source": [
        "The ROC AUC score is 0.78"
      ],
      "metadata": {
        "id": "uEihje-HLopN"
      }
    },
    {
      "cell_type": "markdown",
      "source": [
        "**8.** What is the precision at 0.7 recall level? What value of threshold probability $p$ does this correspond to?"
      ],
      "metadata": {
        "id": "23gh9j049t0P"
      }
    },
    {
      "cell_type": "code",
      "source": [
        "# your code here\n",
        "recall_level = 0.7\n",
        "indexes = np.array(np.where(recall > 0.7))\n",
        "recall_index = indexes.argmax()\n",
        "precision_level = precision[recall_index]\n",
        "\n",
        "precision_level\n",
        "\n"
      ],
      "metadata": {
        "id": "pJicvUu_92zH",
        "colab": {
          "base_uri": "https://localhost:8080/"
        },
        "outputId": "aae79b7f-8813-4b21-f0a4-8ae9d11cb8e1"
      },
      "execution_count": 14,
      "outputs": [
        {
          "output_type": "execute_result",
          "data": {
            "text/plain": [
              "0.31908749639041295"
            ]
          },
          "metadata": {},
          "execution_count": 14
        }
      ]
    },
    {
      "cell_type": "code",
      "source": [
        "thresholds[recall_index]"
      ],
      "metadata": {
        "id": "SFaThI-QBn9R",
        "outputId": "a034c5b6-8998-4fff-ddb1-71141d451766",
        "colab": {
          "base_uri": "https://localhost:8080/"
        }
      },
      "execution_count": 15,
      "outputs": [
        {
          "output_type": "execute_result",
          "data": {
            "text/plain": [
              "0.139708901987146"
            ]
          },
          "metadata": {},
          "execution_count": 15
        }
      ]
    },
    {
      "cell_type": "markdown",
      "source": [
        "The precision at 0.7 recall level is 0.32\n",
        "It corresponds to a threshold of 0.14"
      ],
      "metadata": {
        "id": "jQ-1Dv2jMupF"
      }
    },
    {
      "cell_type": "markdown",
      "metadata": {
        "id": "ifDGAiS2t4KY"
      },
      "source": [
        "## Part 2: Getting Down to Business\n",
        "\n",
        "Now let's consider some business use cases.\n",
        "\n",
        "**Business case A**: We want to predict customers who might churn soon, to focus attention on. We will target them with an email campaign to encourage them to keep using our service.\n",
        "\n",
        "**Business case B**: We will instead target customers who are likely to churn with customer support attention and heavily discounted products. Each customer targeted will require a significant investment of time and money.\n",
        "\n",
        "**Questions**:\n",
        "**9.** What threshold value $p$ would you use for business case A? Why?\n"
      ]
    },
    {
      "cell_type": "markdown",
      "source": [
        "As an email campaign is not that expensive, i would use a low threshold in order to prevent as many customers as posible so probably around 0.2"
      ],
      "metadata": {
        "id": "8OL7XCC_Nk9F"
      }
    },
    {
      "cell_type": "markdown",
      "source": [
        "**10.** What threshold value $p$ would you use for business case B? Why?"
      ],
      "metadata": {
        "id": "oGtMYZVb955o"
      }
    },
    {
      "cell_type": "markdown",
      "source": [
        "As each customer targeted will now require a significant investment, we will prefer to take a higher threshold, probably around 0.7"
      ],
      "metadata": {
        "id": "PFtx3A8JN056"
      }
    }
  ]
}