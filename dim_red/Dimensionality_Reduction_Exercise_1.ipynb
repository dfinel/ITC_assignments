{
  "cells": [
    {
      "cell_type": "markdown",
      "metadata": {
        "id": "iCTKKTgY1RXv"
      },
      "source": [
        "# Dimensionality Reduction Exercise"
      ]
    },
    {
      "cell_type": "markdown",
      "metadata": {
        "id": "3kg9e12Y1RXz"
      },
      "source": [
        "In this exercise, you will be asked to build several Machine Learning models, while understanding the value of PCA dimensionality reduction. Make sure your code is readable, functional, documented and that you give elaborate explanations and some plots to go with your code."
      ]
    },
    {
      "cell_type": "markdown",
      "metadata": {
        "id": "hvLXYrX81RX0"
      },
      "source": [
        "## Load the MNIST dataset attached to this exercise (it is already divided to train and test sets, load both)"
      ]
    },
    {
      "cell_type": "code",
      "execution_count": 1,
      "metadata": {
        "ExecuteTime": {
          "end_time": "2019-07-08T15:11:33.531642Z",
          "start_time": "2019-07-08T15:11:33.523467Z"
        },
        "collapsed": true,
        "id": "8CsxwcPf1RX0"
      },
      "outputs": [],
      "source": [
        "# your code here\n",
        "import pandas as pd\n",
        "df_train = pd.read_csv('mnist_train.csv')\n",
        "df_test = pd.read_csv('mnist_test.csv')"
      ]
    },
    {
      "cell_type": "code",
      "source": [
        "df_train.shape,df_test.shape"
      ],
      "metadata": {
        "id": "loN033Jy5V6g",
        "outputId": "147ed263-ad2b-4ebb-d2f4-4c08ce27965d",
        "colab": {
          "base_uri": "https://localhost:8080/"
        }
      },
      "execution_count": 2,
      "outputs": [
        {
          "output_type": "execute_result",
          "data": {
            "text/plain": [
              "((60000, 785), (10000, 785))"
            ]
          },
          "metadata": {},
          "execution_count": 2
        }
      ]
    },
    {
      "cell_type": "markdown",
      "metadata": {
        "id": "JoRj3mYu1RX4"
      },
      "source": [
        "## 1. Build a classifier of your choice on the given data (your features are the pixels), and evaluate it. Elaborate on the performance of your model."
      ]
    },
    {
      "cell_type": "code",
      "source": [
        "X_train = df_train.drop(columns = ['label'])\n",
        "y_train = df_train.label\n",
        "X_test = df_test.drop(columns = ['label'])\n",
        "y_test = df_test.label"
      ],
      "metadata": {
        "id": "Bhcr7egj4CMp"
      },
      "execution_count": 3,
      "outputs": []
    },
    {
      "cell_type": "code",
      "execution_count": 4,
      "metadata": {
        "collapsed": true,
        "id": "PH1aTAgT1RX4",
        "outputId": "5a50b904-e653-429b-de42-ebf990ddd6eb",
        "colab": {
          "base_uri": "https://localhost:8080/"
        }
      },
      "outputs": [
        {
          "output_type": "stream",
          "name": "stdout",
          "text": [
            "              precision    recall  f1-score   support\n",
            "\n",
            "           0       0.91      0.93      0.92       980\n",
            "           1       0.96      0.96      0.96      1135\n",
            "           2       0.87      0.86      0.86      1032\n",
            "           3       0.82      0.86      0.84      1010\n",
            "           4       0.88      0.87      0.88       982\n",
            "           5       0.84      0.84      0.84       892\n",
            "           6       0.90      0.88      0.89       958\n",
            "           7       0.92      0.90      0.91      1028\n",
            "           8       0.81      0.81      0.81       974\n",
            "           9       0.85      0.85      0.85      1009\n",
            "\n",
            "    accuracy                           0.88     10000\n",
            "   macro avg       0.88      0.88      0.88     10000\n",
            "weighted avg       0.88      0.88      0.88     10000\n",
            "\n"
          ]
        }
      ],
      "source": [
        "# your code here\n",
        "from sklearn.tree import DecisionTreeClassifier\n",
        "from sklearn.metrics import classification_report\n",
        "dt = DecisionTreeClassifier()\n",
        "dt.fit(X_train,y_train)\n",
        "y_pred_rf = dt.predict(X_test)\n",
        "print(classification_report(y_test,y_pred_rf))"
      ]
    },
    {
      "cell_type": "markdown",
      "source": [
        "Based on the metrics we get, the model performance is great with an accuracy of 0.88 and precison and recall for each value of the target variable > 0.8"
      ],
      "metadata": {
        "id": "EVp6Jsqe7FVf"
      }
    },
    {
      "cell_type": "markdown",
      "metadata": {
        "id": "fkTCSFk01RX5"
      },
      "source": [
        "## 2. Perform a PCA dimensionality reduction on the data, and re-train the same model on the new top k PCA-ed features. Evaluate the new model and elaborate on the performance of your model, and compare it to the performance of model without PCA.\n",
        "## The value of k is for you to choose, but it must be pretty small.  Try some different numbers, and explain why you chose that number."
      ]
    },
    {
      "cell_type": "code",
      "source": [
        "import matplotlib.pyplot as plt\n",
        "from sklearn.decomposition import PCA\n",
        "import numpy as np\n",
        "pca = PCA()\n",
        "pca.fit(X_train,y_train)\n",
        "plt.plot(np.cumsum(pca.explained_variance_ratio_))\n",
        "plt.xlabel('number of components')\n",
        "plt.ylabel('cumulative explained variance')\n",
        "plt.show()"
      ],
      "metadata": {
        "colab": {
          "base_uri": "https://localhost:8080/",
          "height": 449
        },
        "id": "egmFpKBiK8Do",
        "outputId": "a0c07139-c749-4c38-a301-b123ca13de6d"
      },
      "execution_count": 5,
      "outputs": [
        {
          "output_type": "display_data",
          "data": {
            "text/plain": [
              "<Figure size 640x480 with 1 Axes>"
            ],
            "image/png": "[encoded data removed]"
          },
          "metadata": {}
        }
      ]
    },
    {
      "cell_type": "markdown",
      "source": [
        "We see that the first 100 components contain around 90% of the variance of the data. We choose k = 150"
      ],
      "metadata": {
        "id": "cKLiDYNlNs4L"
      }
    },
    {
      "cell_type": "code",
      "execution_count": 6,
      "metadata": {
        "collapsed": true,
        "id": "fH5zOHhF1RX6",
        "colab": {
          "base_uri": "https://localhost:8080/"
        },
        "outputId": "53470d28-c1c1-4b21-97c4-4e2e4dff1c04"
      },
      "outputs": [
        {
          "output_type": "stream",
          "name": "stdout",
          "text": [
            "              precision    recall  f1-score   support\n",
            "\n",
            "           0       0.86      0.89      0.87       980\n",
            "           1       0.94      0.95      0.95      1135\n",
            "           2       0.83      0.80      0.82      1032\n",
            "           3       0.78      0.80      0.79      1010\n",
            "           4       0.81      0.79      0.80       982\n",
            "           5       0.74      0.73      0.74       892\n",
            "           6       0.87      0.86      0.87       958\n",
            "           7       0.83      0.84      0.84      1028\n",
            "           8       0.73      0.72      0.73       974\n",
            "           9       0.76      0.77      0.76      1009\n",
            "\n",
            "    accuracy                           0.82     10000\n",
            "   macro avg       0.82      0.82      0.82     10000\n",
            "weighted avg       0.82      0.82      0.82     10000\n",
            "\n"
          ]
        }
      ],
      "source": [
        "# your code here\n",
        "pca2 = PCA(n_components = 150)\n",
        "pca2.fit(X_train,y_train)\n",
        "X_train_transformed = pca.transform(X_train)\n",
        "X_test_transformed = pca.transform(X_test)\n",
        "\n",
        "dt2 = DecisionTreeClassifier()\n",
        "dt2.fit(X_train_transformed,y_train)\n",
        "y_pred_dt_pca = dt2.predict(X_test_transformed)\n",
        "\n",
        "print(classification_report(y_test,y_pred_dt_pca))"
      ]
    },
    {
      "cell_type": "markdown",
      "source": [
        "We get an accuracy of 0.83 and precision and recall between 0.74 and 0.96 depending on classes.\n",
        "Result are slightly worse than the model without PCA."
      ],
      "metadata": {
        "id": "LDVC2EqaGDCF"
      }
    },
    {
      "cell_type": "markdown",
      "metadata": {
        "id": "XqvozxI61RX7"
      },
      "source": [
        "## 3. Compare the model metrics that you got from question 2, to a model with random subset of regular features:\n",
        "- Use the same number of features k as you used in question 2.\n",
        "- The actual features used is full regular pixel features without PCA.  \n",
        "- But instead of using all such 784 features, use a random subset of size k of features from question 2.\n",
        "\n",
        "Elaborate on your findings."
      ]
    },
    {
      "cell_type": "code",
      "execution_count": 7,
      "metadata": {
        "collapsed": true,
        "id": "NRm5_H131RX7",
        "outputId": "63c0643f-41f4-4544-9d53-70eb9acb7637",
        "colab": {
          "base_uri": "https://localhost:8080/"
        }
      },
      "outputs": [
        {
          "output_type": "stream",
          "name": "stdout",
          "text": [
            "              precision    recall  f1-score   support\n",
            "\n",
            "           0       0.91      0.92      0.91       980\n",
            "           1       0.94      0.96      0.95      1135\n",
            "           2       0.84      0.83      0.84      1032\n",
            "           3       0.82      0.81      0.81      1010\n",
            "           4       0.85      0.85      0.85       982\n",
            "           5       0.77      0.79      0.78       892\n",
            "           6       0.88      0.84      0.86       958\n",
            "           7       0.91      0.87      0.89      1028\n",
            "           8       0.75      0.76      0.76       974\n",
            "           9       0.80      0.82      0.81      1009\n",
            "\n",
            "    accuracy                           0.85     10000\n",
            "   macro avg       0.85      0.85      0.85     10000\n",
            "weighted avg       0.85      0.85      0.85     10000\n",
            "\n"
          ]
        }
      ],
      "source": [
        "# your code here\n",
        "import numpy as np\n",
        "import random\n",
        "\n",
        "random_indexes = np.sort(random.sample(range(784),150))\n",
        "X_train_random = X_train.loc[:,X_train.columns[random_indexes]]\n",
        "X_test_random = X_test.loc[:,X_test.columns[random_indexes]]\n",
        "dt3 = DecisionTreeClassifier()\n",
        "dt3.fit(X_train_random,y_train)\n",
        "y_pred_random_dt = dt3.predict(X_test_random)\n",
        "print(classification_report(y_test,y_pred_random_dt))\n"
      ]
    },
    {
      "cell_type": "markdown",
      "source": [
        "We see that the result we get are quite similar to the result we get on the PCA model. We get the same accuracy but precisions and recall slighly worse than the model with PCA.\n"
      ],
      "metadata": {
        "id": "OyCLQGZ4K1Gd"
      }
    },
    {
      "cell_type": "code",
      "source": [],
      "metadata": {
        "id": "6ebp91hjR9S-"
      },
      "execution_count": null,
      "outputs": []
    }
  ],
  "metadata": {
    "kernelspec": {
      "display_name": "Python 3",
      "language": "python",
      "name": "python3"
    },
    "language_info": {
      "codemirror_mode": {
        "name": "ipython",
        "version": 3
      },
      "file_extension": ".py",
      "mimetype": "text/x-python",
      "name": "python",
      "nbconvert_exporter": "python",
      "pygments_lexer": "ipython3",
      "version": "3.7.6"
    },
    "latex_envs": {
      "LaTeX_envs_menu_present": true,
      "autoclose": false,
      "autocomplete": true,
      "bibliofile": "biblio.bib",
      "cite_by": "apalike",
      "current_citInitial": 1,
      "eqLabelWithNumbers": true,
      "eqNumInitial": 1,
      "hotkeys": {
        "equation": "Ctrl-E",
        "itemize": "Ctrl-I"
      },
      "labels_anchors": false,
      "latex_user_defs": false,
      "report_style_numbering": false,
      "user_envs_cfg": false
    },
    "toc": {
      "base_numbering": 1,
      "nav_menu": {},
      "number_sections": true,
      "sideBar": true,
      "skip_h1_title": false,
      "title_cell": "Table of Contents",
      "title_sidebar": "Contents",
      "toc_cell": false,
      "toc_position": {},
      "toc_section_display": true,
      "toc_window_display": false
    },
    "colab": {
      "provenance": []
    }
  },
  "nbformat": 4,
  "nbformat_minor": 0
}