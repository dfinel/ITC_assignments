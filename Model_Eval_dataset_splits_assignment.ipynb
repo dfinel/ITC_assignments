{
  "cells": [
    {
      "cell_type": "code",
      "execution_count": 1,
      "metadata": {
        "hide_input": true,
        "id": "3wBIoPQwSQtz",
        "outputId": "2c3decbd-e906-4f2b-ecf4-20a60b14dd95",
        "colab": {
          "base_uri": "https://localhost:8080/",
          "height": 17
        }
      },
      "outputs": [
        {
          "output_type": "execute_result",
          "data": {
            "text/plain": [
              "<IPython.core.display.HTML object>"
            ],
            "text/html": [
              "\n",
              "<script>\n",
              "var logoParent = document.getElementById(\"kernel_logo_widget\")\n",
              "var logo = document.getElementById(\"kernel_logo_widget\").getElementsByClassName(\"current_kernel_logo\")[0];\n",
              "logo.src = \"https://i.ibb.co/mD4jTGQ/itclogo.jpg\";\n",
              "logo.style = \"display: inline; width:138px; height:40px\";\n",
              "logoParent.innerHTML = '<a href=\"https://i.ibb.co/mD4jTGQ/itclogo.jpg\">' + logoParent.innerHTML + '</a>';\n",
              "</script>\n"
            ]
          },
          "metadata": {},
          "execution_count": 1
        }
      ],
      "source": [
        "from IPython.core.display import HTML\n",
        "HTML('''\n",
        "<script>\n",
        "var logoParent = document.getElementById(\"kernel_logo_widget\")\n",
        "var logo = document.getElementById(\"kernel_logo_widget\").getElementsByClassName(\"current_kernel_logo\")[0];\n",
        "logo.src = \"https://i.ibb.co/mD4jTGQ/itclogo.jpg\";\n",
        "logo.style = \"display: inline; width:138px; height:40px\";\n",
        "logoParent.innerHTML = '<a href=\"https://i.ibb.co/mD4jTGQ/itclogo.jpg\">' + logoParent.innerHTML + '</a>';\n",
        "</script>\n",
        "''')"
      ]
    },
    {
      "cell_type": "markdown",
      "metadata": {
        "hide_input": true,
        "id": "XCTacQB9SQt3"
      },
      "source": [
        "<font size=10><b>Model Evaluation<br><br>Data Splits Assignment</b></font>"
      ]
    },
    {
      "cell_type": "markdown",
      "metadata": {
        "id": "OUglBO6amZ09"
      },
      "source": [
        "# Getting and preparing the data"
      ]
    },
    {
      "cell_type": "markdown",
      "metadata": {
        "id": "4bm1ul4emZ0-"
      },
      "source": [
        "1. Use the attached dataset from [House Prices](https://www.kaggle.com/c/house-prices-advanced-regression-techniques/data/train.csv?select=train.csv)\n",
        "2. Look at the [Data Dictionary](https://www.kaggle.com/c/house-prices-advanced-regression-techniques/data/data_description.txt?select=data_description.txt)\n",
        "3. Split the data into input features and target variable.  **Hint**: Target variable - what we are predicting - check in Data Dictionary."
      ]
    },
    {
      "cell_type": "code",
      "source": [
        "import pandas as pd\n",
        "from sklearn.model_selection import train_test_split\n",
        "import seaborn as sns\n",
        "import matplotlib.pyplot as plt"
      ],
      "metadata": {
        "id": "mcFZl7VkaXJ0"
      },
      "execution_count": 2,
      "outputs": []
    },
    {
      "cell_type": "code",
      "execution_count": 3,
      "metadata": {
        "id": "pbWkXRjFmZ0_",
        "outputId": "e3e53b60-5aa9-48ba-e143-59f6b1e9492f",
        "colab": {
          "base_uri": "https://localhost:8080/",
          "height": 256
        }
      },
      "outputs": [
        {
          "output_type": "execute_result",
          "data": {
            "text/plain": [
              "   MSSubClass MSZoning  LotFrontage  LotArea Street Alley LotShape  \\\n",
              "0          60       RL         65.0     8450   Pave   NaN      Reg   \n",
              "1          20       RL         80.0     9600   Pave   NaN      Reg   \n",
              "2          60       RL         68.0    11250   Pave   NaN      IR1   \n",
              "3          70       RL         60.0     9550   Pave   NaN      IR1   \n",
              "4          60       RL         84.0    14260   Pave   NaN      IR1   \n",
              "\n",
              "  LandContour Utilities LotConfig  ... ScreenPorch PoolArea PoolQC Fence  \\\n",
              "0         Lvl    AllPub    Inside  ...           0        0    NaN   NaN   \n",
              "1         Lvl    AllPub       FR2  ...           0        0    NaN   NaN   \n",
              "2         Lvl    AllPub    Inside  ...           0        0    NaN   NaN   \n",
              "3         Lvl    AllPub    Corner  ...           0        0    NaN   NaN   \n",
              "4         Lvl    AllPub       FR2  ...           0        0    NaN   NaN   \n",
              "\n",
              "  MiscFeature MiscVal  MoSold  YrSold  SaleType  SaleCondition  \n",
              "0         NaN       0       2    2008        WD         Normal  \n",
              "1         NaN       0       5    2007        WD         Normal  \n",
              "2         NaN       0       9    2008        WD         Normal  \n",
              "3         NaN       0       2    2006        WD        Abnorml  \n",
              "4         NaN       0      12    2008        WD         Normal  \n",
              "\n",
              "[5 rows x 79 columns]"
            ],
            "text/html": [
              "\n",
              "  <div id=\"df-b692bc43-5f2a-4301-a84f-f60255e34867\" class=\"colab-df-container\">\n",
              "    <div>\n",
              "<style scoped>\n",
              "    .dataframe tbody tr th:only-of-type {\n",
              "        vertical-align: middle;\n",
              "    }\n",
              "\n",
              "    .dataframe tbody tr th {\n",
              "        vertical-align: top;\n",
              "    }\n",
              "\n",
              "    .dataframe thead th {\n",
              "        text-align: right;\n",
              "    }\n",
              "</style>\n",
              "<table border=\"1\" class=\"dataframe\">\n",
              "  <thead>\n",
              "    <tr style=\"text-align: right;\">\n",
              "      <th></th>\n",
              "      <th>MSSubClass</th>\n",
              "      <th>MSZoning</th>\n",
              "      <th>LotFrontage</th>\n",
              "      <th>LotArea</th>\n",
              "      <th>Street</th>\n",
              "      <th>Alley</th>\n",
              "      <th>LotShape</th>\n",
              "      <th>LandContour</th>\n",
              "      <th>Utilities</th>\n",
              "      <th>LotConfig</th>\n",
              "      <th>...</th>\n",
              "      <th>ScreenPorch</th>\n",
              "      <th>PoolArea</th>\n",
              "      <th>PoolQC</th>\n",
              "      <th>Fence</th>\n",
              "      <th>MiscFeature</th>\n",
              "      <th>MiscVal</th>\n",
              "      <th>MoSold</th>\n",
              "      <th>YrSold</th>\n",
              "      <th>SaleType</th>\n",
              "      <th>SaleCondition</th>\n",
              "    </tr>\n",
              "  </thead>\n",
              "  <tbody>\n",
              "    <tr>\n",
              "      <th>0</th>\n",
              "      <td>60</td>\n",
              "      <td>RL</td>\n",
              "      <td>65.0</td>\n",
              "      <td>8450</td>\n",
              "      <td>Pave</td>\n",
              "      <td>NaN</td>\n",
              "      <td>Reg</td>\n",
              "      <td>Lvl</td>\n",
              "      <td>AllPub</td>\n",
              "      <td>Inside</td>\n",
              "      <td>...</td>\n",
              "      <td>0</td>\n",
              "      <td>0</td>\n",
              "      <td>NaN</td>\n",
              "      <td>NaN</td>\n",
              "      <td>NaN</td>\n",
              "      <td>0</td>\n",
              "      <td>2</td>\n",
              "      <td>2008</td>\n",
              "      <td>WD</td>\n",
              "      <td>Normal</td>\n",
              "    </tr>\n",
              "    <tr>\n",
              "      <th>1</th>\n",
              "      <td>20</td>\n",
              "      <td>RL</td>\n",
              "      <td>80.0</td>\n",
              "      <td>9600</td>\n",
              "      <td>Pave</td>\n",
              "      <td>NaN</td>\n",
              "      <td>Reg</td>\n",
              "      <td>Lvl</td>\n",
              "      <td>AllPub</td>\n",
              "      <td>FR2</td>\n",
              "      <td>...</td>\n",
              "      <td>0</td>\n",
              "      <td>0</td>\n",
              "      <td>NaN</td>\n",
              "      <td>NaN</td>\n",
              "      <td>NaN</td>\n",
              "      <td>0</td>\n",
              "      <td>5</td>\n",
              "      <td>2007</td>\n",
              "      <td>WD</td>\n",
              "      <td>Normal</td>\n",
              "    </tr>\n",
              "    <tr>\n",
              "      <th>2</th>\n",
              "      <td>60</td>\n",
              "      <td>RL</td>\n",
              "      <td>68.0</td>\n",
              "      <td>11250</td>\n",
              "      <td>Pave</td>\n",
              "      <td>NaN</td>\n",
              "      <td>IR1</td>\n",
              "      <td>Lvl</td>\n",
              "      <td>AllPub</td>\n",
              "      <td>Inside</td>\n",
              "      <td>...</td>\n",
              "      <td>0</td>\n",
              "      <td>0</td>\n",
              "      <td>NaN</td>\n",
              "      <td>NaN</td>\n",
              "      <td>NaN</td>\n",
              "      <td>0</td>\n",
              "      <td>9</td>\n",
              "      <td>2008</td>\n",
              "      <td>WD</td>\n",
              "      <td>Normal</td>\n",
              "    </tr>\n",
              "    <tr>\n",
              "      <th>3</th>\n",
              "      <td>70</td>\n",
              "      <td>RL</td>\n",
              "      <td>60.0</td>\n",
              "      <td>9550</td>\n",
              "      <td>Pave</td>\n",
              "      <td>NaN</td>\n",
              "      <td>IR1</td>\n",
              "      <td>Lvl</td>\n",
              "      <td>AllPub</td>\n",
              "      <td>Corner</td>\n",
              "      <td>...</td>\n",
              "      <td>0</td>\n",
              "      <td>0</td>\n",
              "      <td>NaN</td>\n",
              "      <td>NaN</td>\n",
              "      <td>NaN</td>\n",
              "      <td>0</td>\n",
              "      <td>2</td>\n",
              "      <td>2006</td>\n",
              "      <td>WD</td>\n",
              "      <td>Abnorml</td>\n",
              "    </tr>\n",
              "    <tr>\n",
              "      <th>4</th>\n",
              "      <td>60</td>\n",
              "      <td>RL</td>\n",
              "      <td>84.0</td>\n",
              "      <td>14260</td>\n",
              "      <td>Pave</td>\n",
              "      <td>NaN</td>\n",
              "      <td>IR1</td>\n",
              "      <td>Lvl</td>\n",
              "      <td>AllPub</td>\n",
              "      <td>FR2</td>\n",
              "      <td>...</td>\n",
              "      <td>0</td>\n",
              "      <td>0</td>\n",
              "      <td>NaN</td>\n",
              "      <td>NaN</td>\n",
              "      <td>NaN</td>\n",
              "      <td>0</td>\n",
              "      <td>12</td>\n",
              "      <td>2008</td>\n",
              "      <td>WD</td>\n",
              "      <td>Normal</td>\n",
              "    </tr>\n",
              "  </tbody>\n",
              "</table>\n",
              "<p>5 rows × 79 columns</p>\n",
              "</div>\n",
              "    <div class=\"colab-df-buttons\">\n",
              "\n",
              "  <div class=\"colab-df-container\">\n",
              "    <button class=\"colab-df-convert\" onclick=\"convertToInteractive('df-b692bc43-5f2a-4301-a84f-f60255e34867')\"\n",
              "            title=\"Convert this dataframe to an interactive table.\"\n",
              "            style=\"display:none;\">\n",
              "\n",
              "  <svg xmlns=\"http://www.w3.org/2000/svg\" height=\"24px\" viewBox=\"0 -960 960 960\">\n",
              "    <path d=\"M120-120v-720h720v720H120Zm60-500h600v-160H180v160Zm220 220h160v-160H400v160Zm0 220h160v-160H400v160ZM180-400h160v-160H180v160Zm440 0h160v-160H620v160ZM180-180h160v-160H180v160Zm440 0h160v-160H620v160Z\"/>\n",
              "  </svg>\n",
              "    </button>\n",
              "\n",
              "  <style>\n",
              "    .colab-df-container {\n",
              "      display:flex;\n",
              "      gap: 12px;\n",
              "    }\n",
              "\n",
              "    .colab-df-convert {\n",
              "      background-color: #E8F0FE;\n",
              "      border: none;\n",
              "      border-radius: 50%;\n",
              "      cursor: pointer;\n",
              "      display: none;\n",
              "      fill: #1967D2;\n",
              "      height: 32px;\n",
              "      padding: 0 0 0 0;\n",
              "      width: 32px;\n",
              "    }\n",
              "\n",
              "    .colab-df-convert:hover {\n",
              "      background-color: #E2EBFA;\n",
              "      box-shadow: 0px 1px 2px rgba(60, 64, 67, 0.3), 0px 1px 3px 1px rgba(60, 64, 67, 0.15);\n",
              "      fill: #174EA6;\n",
              "    }\n",
              "\n",
              "    .colab-df-buttons div {\n",
              "      margin-bottom: 4px;\n",
              "    }\n",
              "\n",
              "    [theme=dark] .colab-df-convert {\n",
              "      background-color: #3B4455;\n",
              "      fill: #D2E3FC;\n",
              "    }\n",
              "\n",
              "    [theme=dark] .colab-df-convert:hover {\n",
              "      background-color: #434B5C;\n",
              "      box-shadow: 0px 1px 3px 1px rgba(0, 0, 0, 0.15);\n",
              "      filter: drop-shadow(0px 1px 2px rgba(0, 0, 0, 0.3));\n",
              "      fill: #FFFFFF;\n",
              "    }\n",
              "  </style>\n",
              "\n",
              "    <script>\n",
              "      const buttonEl =\n",
              "        document.querySelector('#df-b692bc43-5f2a-4301-a84f-f60255e34867 button.colab-df-convert');\n",
              "      buttonEl.style.display =\n",
              "        google.colab.kernel.accessAllowed ? 'block' : 'none';\n",
              "\n",
              "      async function convertToInteractive(key) {\n",
              "        const element = document.querySelector('#df-b692bc43-5f2a-4301-a84f-f60255e34867');\n",
              "        const dataTable =\n",
              "          await google.colab.kernel.invokeFunction('convertToInteractive',\n",
              "                                                    [key], {});\n",
              "        if (!dataTable) return;\n",
              "\n",
              "        const docLinkHtml = 'Like what you see? Visit the ' +\n",
              "          '<a target=\"_blank\" href=https://colab.research.google.com/notebooks/data_table.ipynb>data table notebook</a>'\n",
              "          + ' to learn more about interactive tables.';\n",
              "        element.innerHTML = '';\n",
              "        dataTable['output_type'] = 'display_data';\n",
              "        await google.colab.output.renderOutput(dataTable, element);\n",
              "        const docLink = document.createElement('div');\n",
              "        docLink.innerHTML = docLinkHtml;\n",
              "        element.appendChild(docLink);\n",
              "      }\n",
              "    </script>\n",
              "  </div>\n",
              "\n",
              "\n",
              "<div id=\"df-d1d47c97-b884-4c63-ad4e-5f0f2f86f244\">\n",
              "  <button class=\"colab-df-quickchart\" onclick=\"quickchart('df-d1d47c97-b884-4c63-ad4e-5f0f2f86f244')\"\n",
              "            title=\"Suggest charts\"\n",
              "            style=\"display:none;\">\n",
              "\n",
              "<svg xmlns=\"http://www.w3.org/2000/svg\" height=\"24px\"viewBox=\"0 0 24 24\"\n",
              "     width=\"24px\">\n",
              "    <g>\n",
              "        <path d=\"M19 3H5c-1.1 0-2 .9-2 2v14c0 1.1.9 2 2 2h14c1.1 0 2-.9 2-2V5c0-1.1-.9-2-2-2zM9 17H7v-7h2v7zm4 0h-2V7h2v10zm4 0h-2v-4h2v4z\"/>\n",
              "    </g>\n",
              "</svg>\n",
              "  </button>\n",
              "\n",
              "<style>\n",
              "  .colab-df-quickchart {\n",
              "      --bg-color: #E8F0FE;\n",
              "      --fill-color: #1967D2;\n",
              "      --hover-bg-color: #E2EBFA;\n",
              "      --hover-fill-color: #174EA6;\n",
              "      --disabled-fill-color: #AAA;\n",
              "      --disabled-bg-color: #DDD;\n",
              "  }\n",
              "\n",
              "  [theme=dark] .colab-df-quickchart {\n",
              "      --bg-color: #3B4455;\n",
              "      --fill-color: #D2E3FC;\n",
              "      --hover-bg-color: #434B5C;\n",
              "      --hover-fill-color: #FFFFFF;\n",
              "      --disabled-bg-color: #3B4455;\n",
              "      --disabled-fill-color: #666;\n",
              "  }\n",
              "\n",
              "  .colab-df-quickchart {\n",
              "    background-color: var(--bg-color);\n",
              "    border: none;\n",
              "    border-radius: 50%;\n",
              "    cursor: pointer;\n",
              "    display: none;\n",
              "    fill: var(--fill-color);\n",
              "    height: 32px;\n",
              "    padding: 0;\n",
              "    width: 32px;\n",
              "  }\n",
              "\n",
              "  .colab-df-quickchart:hover {\n",
              "    background-color: var(--hover-bg-color);\n",
              "    box-shadow: 0 1px 2px rgba(60, 64, 67, 0.3), 0 1px 3px 1px rgba(60, 64, 67, 0.15);\n",
              "    fill: var(--button-hover-fill-color);\n",
              "  }\n",
              "\n",
              "  .colab-df-quickchart-complete:disabled,\n",
              "  .colab-df-quickchart-complete:disabled:hover {\n",
              "    background-color: var(--disabled-bg-color);\n",
              "    fill: var(--disabled-fill-color);\n",
              "    box-shadow: none;\n",
              "  }\n",
              "\n",
              "  .colab-df-spinner {\n",
              "    border: 2px solid var(--fill-color);\n",
              "    border-color: transparent;\n",
              "    border-bottom-color: var(--fill-color);\n",
              "    animation:\n",
              "      spin 1s steps(1) infinite;\n",
              "  }\n",
              "\n",
              "  @keyframes spin {\n",
              "    0% {\n",
              "      border-color: transparent;\n",
              "      border-bottom-color: var(--fill-color);\n",
              "      border-left-color: var(--fill-color);\n",
              "    }\n",
              "    20% {\n",
              "      border-color: transparent;\n",
              "      border-left-color: var(--fill-color);\n",
              "      border-top-color: var(--fill-color);\n",
              "    }\n",
              "    30% {\n",
              "      border-color: transparent;\n",
              "      border-left-color: var(--fill-color);\n",
              "      border-top-color: var(--fill-color);\n",
              "      border-right-color: var(--fill-color);\n",
              "    }\n",
              "    40% {\n",
              "      border-color: transparent;\n",
              "      border-right-color: var(--fill-color);\n",
              "      border-top-color: var(--fill-color);\n",
              "    }\n",
              "    60% {\n",
              "      border-color: transparent;\n",
              "      border-right-color: var(--fill-color);\n",
              "    }\n",
              "    80% {\n",
              "      border-color: transparent;\n",
              "      border-right-color: var(--fill-color);\n",
              "      border-bottom-color: var(--fill-color);\n",
              "    }\n",
              "    90% {\n",
              "      border-color: transparent;\n",
              "      border-bottom-color: var(--fill-color);\n",
              "    }\n",
              "  }\n",
              "</style>\n",
              "\n",
              "  <script>\n",
              "    async function quickchart(key) {\n",
              "      const quickchartButtonEl =\n",
              "        document.querySelector('#' + key + ' button');\n",
              "      quickchartButtonEl.disabled = true;  // To prevent multiple clicks.\n",
              "      quickchartButtonEl.classList.add('colab-df-spinner');\n",
              "      try {\n",
              "        const charts = await google.colab.kernel.invokeFunction(\n",
              "            'suggestCharts', [key], {});\n",
              "      } catch (error) {\n",
              "        console.error('Error during call to suggestCharts:', error);\n",
              "      }\n",
              "      quickchartButtonEl.classList.remove('colab-df-spinner');\n",
              "      quickchartButtonEl.classList.add('colab-df-quickchart-complete');\n",
              "    }\n",
              "    (() => {\n",
              "      let quickchartButtonEl =\n",
              "        document.querySelector('#df-d1d47c97-b884-4c63-ad4e-5f0f2f86f244 button');\n",
              "      quickchartButtonEl.style.display =\n",
              "        google.colab.kernel.accessAllowed ? 'block' : 'none';\n",
              "    })();\n",
              "  </script>\n",
              "</div>\n",
              "\n",
              "    </div>\n",
              "  </div>\n"
            ]
          },
          "metadata": {},
          "execution_count": 3
        }
      ],
      "source": [
        "# your code here\n",
        "df = pd.read_csv('train (2).csv')\n",
        "target = 'SalePrice'\n",
        "input_feature = df.drop(columns = [target,'Id']).columns.to_list()\n",
        "X = df[input_feature]\n",
        "y = df[target]\n",
        "\n",
        "X.head()"
      ]
    },
    {
      "cell_type": "markdown",
      "metadata": {
        "id": "VFkzAPzYmZ1A"
      },
      "source": [
        "# Q1 - Random split"
      ]
    },
    {
      "cell_type": "markdown",
      "metadata": {
        "id": "C6D5xUxtmZ1B"
      },
      "source": [
        "**Instructions:**\n",
        "\n",
        "* Q1.1 Split the data into `train`, `validation`, `test` sets **randomly** into 50/20/30 split\n",
        "  - Save the variables from this split with unique names and don't override them for use in future questions\n",
        "  - Use `random_state` parameter to make sure your results are reproducible"
      ]
    },
    {
      "cell_type": "code",
      "execution_count": 4,
      "metadata": {
        "id": "yjpXdlT7mZ1D"
      },
      "outputs": [],
      "source": [
        "# your code here\n",
        "X_train_val, X_test, y_train_val, y_test = train_test_split(X,y,test_size = 0.3, random_state = 42)\n",
        "\n",
        "X_train, X_val, y_train, y_val = train_test_split(X_train_val,y_train_val,test_size = 0.285,random_state = 42)\n"
      ]
    },
    {
      "cell_type": "markdown",
      "source": [
        "* Q1.2. Prove the split was done successfully\n"
      ],
      "metadata": {
        "id": "guzTu3ulmxVh"
      }
    },
    {
      "cell_type": "code",
      "source": [
        "# your code here\n",
        "assert X_test.shape[0]/X.shape[0] *100 == 30.0\n",
        "assert X_train.shape[0]/X.shape[0] *100 == 50.0\n",
        "assert X_val.shape[0]/X.shape[0] *100 == 20.0"
      ],
      "metadata": {
        "id": "t_sLm3aomzmb"
      },
      "execution_count": 5,
      "outputs": []
    },
    {
      "cell_type": "markdown",
      "source": [
        "* Q1.3 Plot and show that the distribution of the target variable is similar between the 3 sets"
      ],
      "metadata": {
        "id": "qAxV5VVxmzHR"
      }
    },
    {
      "cell_type": "code",
      "source": [
        "# your code here\n",
        "f = plt.figure()\n",
        "sns.kdeplot(y_test, label = 'y_test')\n",
        "sns.kdeplot(y_train, label = 'y_train')\n",
        "sns.kdeplot(y_val, label = 'y_val')\n",
        "plt.title('Distribution of the target variable SalePrice with 3 different sets')\n",
        "plt.legend()\n",
        "plt.tight_layout()\n",
        "plt.show()"
      ],
      "metadata": {
        "id": "b6Pu_PFYmy6-",
        "outputId": "3e562d1e-8274-48b9-bb8f-9a3af0bdf6dc",
        "colab": {
          "base_uri": "https://localhost:8080/",
          "height": 487
        }
      },
      "execution_count": 6,
      "outputs": [
        {
          "output_type": "display_data",
          "data": {
            "text/plain": [
              "<Figure size 640x480 with 1 Axes>"
            ],
            "image/png": "[encoded data removed]"
          },
          "metadata": {}
        }
      ]
    },
    {
      "cell_type": "markdown",
      "metadata": {
        "id": "zMa8TluLmZ1E"
      },
      "source": [
        "# Q2 - Groups split"
      ]
    },
    {
      "cell_type": "markdown",
      "metadata": {
        "id": "H3ZyjVCSmZ1G"
      },
      "source": [
        "**Instructions:**\n",
        "Let's say we want to use this model to predict house prices in **neighbourhoods it hasn't seen**, and we want to check how well our model would perform.  In order to do that, let's split our data in a way that same `Neighborhood` data doesn't appear both in train and test sets.\n",
        "* Q2.1. How many neighbourhoods are there in the whole dataset?"
      ]
    },
    {
      "cell_type": "code",
      "execution_count": 7,
      "metadata": {
        "id": "zu-e4Z7omZ1I",
        "outputId": "0ceac994-dfd0-4d4d-c4a3-117d8178b546",
        "colab": {
          "base_uri": "https://localhost:8080/"
        }
      },
      "outputs": [
        {
          "output_type": "stream",
          "name": "stdout",
          "text": [
            "We have 25 neighbourhoods in the whole dataset\n"
          ]
        }
      ],
      "source": [
        "# your code here\n",
        "print(f\"We have {len(set(df.Neighborhood))} neighbourhoods in the whole dataset\")"
      ]
    },
    {
      "cell_type": "markdown",
      "source": [
        "* Q2.2. If you would split into `train`, `validataion`, `test` datasets just based on 50/20/30 ratio by number of unique neighbourhoods in each set, how many neighbourhoods would each set contain?\n"
      ],
      "metadata": {
        "id": "z1SYjPEVnD3T"
      }
    },
    {
      "cell_type": "code",
      "source": [
        "# your code here\n",
        "cum_sum = pd.DataFrame(df.Neighborhood.value_counts().cumsum()/len(df.Neighborhood))\n",
        "print(f\"train :  {len(cum_sum[cum_sum.Neighborhood <= 0.5])}, validation : {len(cum_sum[(cum_sum.Neighborhood >0.5) & (cum_sum.Neighborhood <=0.7)])}, test : {len(cum_sum[cum_sum.Neighborhood >0.7])}\")"
      ],
      "metadata": {
        "id": "kl-zMyjUnUGn",
        "outputId": "e1d7faad-4204-4be0-9ab7-964ad51f9fa4",
        "colab": {
          "base_uri": "https://localhost:8080/"
        }
      },
      "execution_count": 8,
      "outputs": [
        {
          "output_type": "stream",
          "name": "stdout",
          "text": [
            "train :  5, validation : 4, test : 16\n"
          ]
        }
      ]
    },
    {
      "cell_type": "markdown",
      "source": [
        "* Q2.3. Split the data into `train`, `validation`, `test` sets based on **unique neighbourhoods** into 50/20/30 ratio if counting individual house sales\n"
      ],
      "metadata": {
        "id": "siD6s5jenF2d"
      }
    },
    {
      "cell_type": "code",
      "source": [
        "# your code here\n",
        "train_indexes = cum_sum[cum_sum.Neighborhood <= 0.52].index.values\n",
        "validation_indexes = cum_sum[(cum_sum.Neighborhood >0.52) & (cum_sum.Neighborhood <=0.71)].index.values\n",
        "test_indexes = cum_sum[cum_sum.Neighborhood > 0.71].index.values\n",
        "\n",
        "X_train = df.loc[df.Neighborhood.isin(train_indexes), input_feature]\n",
        "X_val = df.loc[df.Neighborhood.isin(validation_indexes), input_feature]\n",
        "X_test = df.loc[df.Neighborhood.isin(test_indexes), input_feature]\n",
        "\n",
        "y_train = df.loc[df.Neighborhood.isin(train_indexes), target]\n",
        "y_val = df.loc[df.Neighborhood.isin(validation_indexes), target]\n",
        "y_test = df.loc[df.Neighborhood.isin(test_indexes), target]\n"
      ],
      "metadata": {
        "id": "L7KYPYu1nFcz"
      },
      "execution_count": 9,
      "outputs": []
    },
    {
      "cell_type": "markdown",
      "source": [
        "* Q2.4. Prove the split was done successfully"
      ],
      "metadata": {
        "id": "-ufAHrkbnIDb"
      }
    },
    {
      "cell_type": "code",
      "source": [
        "# your code here\n",
        "print(f\"length X_train : {X_train.shape[0]/df.shape[0]}, length X_val : {X_val.shape[0]/df.shape[0]}, length X_test : {X_test.shape[0]/df.shape[0]}\")\n",
        "\n"
      ],
      "metadata": {
        "id": "UUNjYRV-nMB2",
        "outputId": "924a9018-df92-4df1-d278-cb9065b7719c",
        "colab": {
          "base_uri": "https://localhost:8080/"
        }
      },
      "execution_count": 10,
      "outputs": [
        {
          "output_type": "stream",
          "name": "stdout",
          "text": [
            "length X_train : 0.5157534246575343, length X_val : 0.19383561643835617, length X_test : 0.29041095890410956\n"
          ]
        }
      ]
    },
    {
      "cell_type": "markdown",
      "source": [
        "* Q2.5. What percentage of houses do we have in each one of the sets?\n"
      ],
      "metadata": {
        "id": "zHI8jKDBnO_k"
      }
    },
    {
      "cell_type": "code",
      "source": [
        "# your code here\n",
        "houses_train_set = X_train.shape[0]/df.shape[0]\n",
        "houses_validation_set = X_val.shape[0]/df.shape[0]\n",
        "houses_test_set = X_test.shape[0]/df.shape[0]\n",
        "print(f\" We have {round(X_train.shape[0]/df.shape[0]*100):.2f} % of houses in X_train \")\n",
        "print(f\" We have {round(X_val.shape[0]/df.shape[0]*100):.2f} % of houses in X_val \")\n",
        "print(f\" We have {round(X_test.shape[0]/df.shape[0]*100):.2f} % of houses in X_test \")"
      ],
      "metadata": {
        "id": "lh8IpQ7PnQZU",
        "outputId": "81e15daa-9a32-486c-edf0-3e430f0a3329",
        "colab": {
          "base_uri": "https://localhost:8080/"
        }
      },
      "execution_count": 11,
      "outputs": [
        {
          "output_type": "stream",
          "name": "stdout",
          "text": [
            " We have 52.00 % of houses in X_train \n",
            " We have 19.00 % of houses in X_val \n",
            " We have 29.00 % of houses in X_test \n"
          ]
        }
      ]
    },
    {
      "cell_type": "markdown",
      "source": [
        "* Q2.6. What percentage of neighbourhoods do we have in each one of the sets?  How do you explain the difference from bullet 2 above?"
      ],
      "metadata": {
        "id": "D32jhyJ_nQw4"
      }
    },
    {
      "cell_type": "code",
      "source": [
        "# your code here\n",
        "perc_neigh_train = len(set(X_train.Neighborhood))/len(set(df.Neighborhood))*100\n",
        "perc_neigh_val = len(set(X_val.Neighborhood))/len(set(df.Neighborhood))*100\n",
        "perc_neigh_test = len(set(X_test.Neighborhood))/len(set(df.Neighborhood))*100\n",
        "print(f\"We have {round(perc_neigh_train):.2f} % of neighborhoods in X_train\")\n",
        "print(f\"We have {round(perc_neigh_val):.2f} % of neighborhoods in X_val\")\n",
        "print(f\"We have {round(perc_neigh_test):.2f} % of neighborhoods in X_test\")\n",
        "\n",
        "# In a neighborhood we can have a lot or a few houses, so even if a set have a lot of neighborhood,\n",
        "# it does not mean that it contains a lot of houses ( which is the case for X_train)\n",
        "# X_test does not have a lot of neighborhoods but each neighborhoods have a lot of houses"
      ],
      "metadata": {
        "id": "q3d24y-bnTBC",
        "outputId": "e69affaf-e98a-4951-c66f-eaefb9c76333",
        "colab": {
          "base_uri": "https://localhost:8080/"
        }
      },
      "execution_count": 12,
      "outputs": [
        {
          "output_type": "stream",
          "name": "stdout",
          "text": [
            "We have 24.00 % of neighborhoods in X_train\n",
            "We have 16.00 % of neighborhoods in X_val\n",
            "We have 60.00 % of neighborhoods in X_test\n"
          ]
        }
      ]
    },
    {
      "cell_type": "markdown",
      "metadata": {
        "id": "bgBErTiYmZ1J"
      },
      "source": [
        "# Q3 - By date"
      ]
    },
    {
      "cell_type": "markdown",
      "metadata": {
        "id": "JjzR5M69mZ1J"
      },
      "source": [
        " **Instructions:**\n",
        "* Q 3.1. Split the data into `train`, `test` sets (no `validation`) by **month** + **year** of sale (**hint:** see data dictionary) into **70/30 split**, where the **train data has earlier dates**\n"
      ]
    },
    {
      "cell_type": "code",
      "source": [
        "set(df.YrSold)"
      ],
      "metadata": {
        "id": "pZLGCzahviJY",
        "outputId": "541c5f11-3b21-4a6c-9d5f-298d04530664",
        "colab": {
          "base_uri": "https://localhost:8080/"
        }
      },
      "execution_count": 13,
      "outputs": [
        {
          "output_type": "execute_result",
          "data": {
            "text/plain": [
              "{2006, 2007, 2008, 2009, 2010}"
            ]
          },
          "metadata": {},
          "execution_count": 13
        }
      ]
    },
    {
      "cell_type": "code",
      "execution_count": 14,
      "metadata": {
        "id": "F7EZgI5ZmZ1K"
      },
      "outputs": [],
      "source": [
        "# your code here\n",
        "train_set_fraction = 0.7\n",
        "X = df.sort_values(['YrSold','MoSold']).reset_index()\n",
        "ind_split = int(len(X)* train_set_fraction)+1\n",
        "X_train = X[input_feature].iloc[:ind_split]\n",
        "y_train = X[target].iloc[:ind_split]\n",
        "X_test = X[input_feature].iloc[ind_split:]\n",
        "y_test = X[target].iloc[ind_split:]\n"
      ]
    },
    {
      "cell_type": "markdown",
      "source": [
        "* Q3.2. Prove the split was done successfully\n"
      ],
      "metadata": {
        "id": "3uyQpCPVnh_n"
      }
    },
    {
      "cell_type": "code",
      "source": [
        "# your code here\n",
        "assert X_train.shape[0]/df.shape[0] == 0.7\n",
        "assert X_test.shape[0]/df.shape[0] == 0.3\n",
        "assert y_train.shape[0]/df.shape[0] == 0.7\n",
        "assert y_test.shape[0]/df.shape[0] == 0.3"
      ],
      "metadata": {
        "id": "c32qFxRMnjVo"
      },
      "execution_count": 15,
      "outputs": []
    },
    {
      "cell_type": "markdown",
      "source": [
        "* Q3.3. Plot and show the distribution of the target variable between the 2 sets.  Is it similar or different? What conclusion can you draw from that?"
      ],
      "metadata": {
        "id": "d2bTFH9Injsn"
      }
    },
    {
      "cell_type": "code",
      "source": [
        "# your code here\n",
        "f = plt.figure()\n",
        "sns.kdeplot(y_train, label = 'y_train')\n",
        "sns.kdeplot(y_test, label = 'y_test')\n",
        "plt.title('Distribution ot SalePrice according to train and test sets')\n",
        "plt.legend()\n",
        "plt.tight_layout()\n",
        "plt.show()"
      ],
      "metadata": {
        "id": "BhTKD8zznkbS",
        "outputId": "62cecc1d-f638-4a4a-a482-7c6778c16c3e",
        "colab": {
          "base_uri": "https://localhost:8080/",
          "height": 471
        }
      },
      "execution_count": 16,
      "outputs": [
        {
          "output_type": "display_data",
          "data": {
            "text/plain": [
              "<Figure size 640x480 with 1 Axes>"
            ],
            "image/png": "[encoded data removed]"
          },
          "metadata": {}
        }
      ]
    },
    {
      "cell_type": "markdown",
      "source": [
        "The two plots are very similar.\n",
        "It means that even if we order the data, the distribution of the target variable is the same. Then, our model will perform well on the test data."
      ],
      "metadata": {
        "id": "i8Eg0OqK0Efg"
      }
    },
    {
      "cell_type": "markdown",
      "metadata": {
        "id": "D49QLGy-mZ1L"
      },
      "source": [
        "# Q4 - Stratified split"
      ]
    },
    {
      "cell_type": "markdown",
      "metadata": {
        "id": "54q1Pg1amZ1L"
      },
      "source": [
        "**Instructions:**\n",
        "* Q4.1. Take results from **random** split in Question 1.\n"
      ]
    },
    {
      "cell_type": "code",
      "execution_count": 17,
      "metadata": {
        "id": "OSKBKuELmZ1N"
      },
      "outputs": [],
      "source": [
        "# your code here\n",
        "X_train_val, X_test, y_train_val, y_test = train_test_split(X,y,test_size = 0.3, random_state = 42)\n",
        "\n",
        "X_train, X_val, y_train, y_val = train_test_split(X_train_val,y_train_val,test_size = 0.285,random_state = 42)"
      ]
    },
    {
      "cell_type": "markdown",
      "source": [
        "* Q4.2. Plot the distribution differences of feature `MoSold` of `train`, `validation` & `test` sets .\n",
        "\n",
        "    As we can see, the distributions are very similar, but not exactly the same.\n",
        "  - Which set has slightly lower values per month?\n"
      ],
      "metadata": {
        "id": "QDb3KMLln3yo"
      }
    },
    {
      "cell_type": "code",
      "source": [
        "# your code here\n",
        "f, axes = plt.subplots(3,1, figsize = (10,15))\n",
        "\n",
        "sns.countplot(data = X_train, x = 'MoSold', ax = axes[0])\n",
        "axes[0].set_title('Distribution of MoSold for train set')\n",
        "sns.countplot(data = X_val, x = 'MoSold', ax = axes[1])\n",
        "axes[1].set_title('Distribution of MoSold for validation set')\n",
        "sns.countplot(data = X_test, x = 'MoSold', ax = axes[2])\n",
        "axes[2].set_title('Distribution of MoSold for test set')\n",
        "\n",
        "plt.legend()\n",
        "plt.tight_layout()\n",
        "plt.show()\n"
      ],
      "metadata": {
        "id": "Gjs_GKfJn5eO",
        "outputId": "1e5fa07d-06c6-4029-d9a1-39a129252341",
        "colab": {
          "base_uri": "https://localhost:8080/",
          "height": 1000
        }
      },
      "execution_count": 18,
      "outputs": [
        {
          "output_type": "stream",
          "name": "stderr",
          "text": [
            "WARNING:matplotlib.legend:No artists with labels found to put in legend.  Note that artists whose label start with an underscore are ignored when legend() is called with no argument.\n"
          ]
        },
        {
          "output_type": "display_data",
          "data": {
            "text/plain": [
              "<Figure size 1000x1500 with 3 Axes>"
            ],
            "image/png": "[encoded data removed]"
          },
          "metadata": {}
        }
      ]
    },
    {
      "cell_type": "markdown",
      "source": [
        "The validation set has slightly lower values"
      ],
      "metadata": {
        "id": "D0jlQ_t_3BCY"
      }
    },
    {
      "cell_type": "markdown",
      "source": [
        "* Q4.3. Let's assume that the month of the sale effects the house price (let's not prove it now).  Use **random split** datasets from above.  \n",
        "\n",
        "  - Compare distributions of month between different sets.  Are the distributions different?  How?\n",
        "  - Do you think the differences in distributions will effect what our model learns or the results of our model? How so?\n"
      ],
      "metadata": {
        "id": "a_ljEE98n50l"
      }
    },
    {
      "cell_type": "code",
      "source": [
        "# your code here\n",
        "# I think it is the same question as Q4.2. We have different distributions.\n",
        "# The train set has higher values, whereas the validation set has lower values."
      ],
      "metadata": {
        "id": "F5ReUnnbn-X6"
      },
      "execution_count": 19,
      "outputs": []
    },
    {
      "cell_type": "markdown",
      "source": [
        "* Q4.4. Split the data into `train`, `validation`, `test` sets based on **stratified split** using this feature into 50/20/30 split\n"
      ],
      "metadata": {
        "id": "D-4F1_Ahn9iW"
      }
    },
    {
      "cell_type": "code",
      "source": [
        "# your code here\n",
        "X_strat_train_val, X_strat_test, y_strat_train_val, y_strat_test = train_test_split(X,y,test_size = 0.3, random_state = 42, stratify = X.MoSold)\n",
        "\n",
        "X_strat_train, X_strat_val, y_strat_train, y_strat_val = train_test_split(X_strat_train_val,y_strat_train_val,test_size = 0.285,random_state = 42, stratify = X_strat_train_val.MoSold)"
      ],
      "metadata": {
        "id": "6Mpa-aphoAxq"
      },
      "execution_count": 20,
      "outputs": []
    },
    {
      "cell_type": "markdown",
      "source": [
        "* Q4.5. Prove the split was done successfully\n"
      ],
      "metadata": {
        "id": "JEXtQ2WroBEK"
      }
    },
    {
      "cell_type": "code",
      "source": [
        "# your code here\n",
        "for value in set(X.MoSold):\n",
        "  print(f\" \\n For {value}: \\n\")\n",
        "  print(len(X_strat_train[X_strat_train.MoSold==value])/len(X_strat_train))\n",
        "  print(len(X_strat_val[X_strat_val.MoSold==value])/len(X_strat_val))\n",
        "  print(len(X_strat_test[X_strat_test.MoSold==value])/len(X_strat_test))\n",
        "\n"
      ],
      "metadata": {
        "id": "6b0GcAc5oCn7",
        "outputId": "b816ab55-419c-4e0f-844d-ab75b0226ed8",
        "colab": {
          "base_uri": "https://localhost:8080/"
        }
      },
      "execution_count": 21,
      "outputs": [
        {
          "output_type": "stream",
          "name": "stdout",
          "text": [
            " \n",
            " For 1: \n",
            "\n",
            "0.03972602739726028\n",
            "0.0410958904109589\n",
            "0.03881278538812785\n",
            " \n",
            " For 2: \n",
            "\n",
            "0.03561643835616438\n",
            "0.03424657534246575\n",
            "0.0365296803652968\n",
            " \n",
            " For 3: \n",
            "\n",
            "0.07260273972602739\n",
            "0.07191780821917808\n",
            "0.0730593607305936\n",
            " \n",
            " For 4: \n",
            "\n",
            "0.09726027397260274\n",
            "0.0958904109589041\n",
            "0.0958904109589041\n",
            " \n",
            " For 5: \n",
            "\n",
            "0.13972602739726028\n",
            "0.1404109589041096\n",
            "0.13926940639269406\n",
            " \n",
            " For 6: \n",
            "\n",
            "0.1726027397260274\n",
            "0.17465753424657535\n",
            "0.1735159817351598\n",
            " \n",
            " For 7: \n",
            "\n",
            "0.16027397260273973\n",
            "0.16095890410958905\n",
            "0.1598173515981735\n",
            " \n",
            " For 8: \n",
            "\n",
            "0.08493150684931507\n",
            "0.0821917808219178\n",
            "0.0821917808219178\n",
            " \n",
            " For 9: \n",
            "\n",
            "0.043835616438356165\n",
            "0.0410958904109589\n",
            "0.04337899543378995\n",
            " \n",
            " For 10: \n",
            "\n",
            "0.06027397260273973\n",
            "0.06164383561643835\n",
            "0.06164383561643835\n",
            " \n",
            " For 11: \n",
            "\n",
            "0.05342465753424658\n",
            "0.0547945205479452\n",
            "0.0547945205479452\n",
            " \n",
            " For 12: \n",
            "\n",
            "0.03972602739726028\n",
            "0.0410958904109589\n",
            "0.0410958904109589\n"
          ]
        }
      ]
    },
    {
      "cell_type": "markdown",
      "source": [
        "For each set, we see that the proportion of each months is equally splitted."
      ],
      "metadata": {
        "id": "JCWB5tcl-gB7"
      }
    },
    {
      "cell_type": "markdown",
      "source": [
        "* Q4.6. Plot the distribution differences of feature `MoSold` of `train`, `validation` & `test` sets of the new split"
      ],
      "metadata": {
        "id": "Af520lQ8oC-x"
      }
    },
    {
      "cell_type": "code",
      "source": [
        "# your code here\n",
        "X_strat_train['Source'] = 'X_strat_train'\n",
        "X_strat_val['Source'] = 'X_strat_val'\n",
        "X_strat_test['Source'] = 'X_strat_test'\n",
        "\n",
        "\n",
        "combined_df = pd.concat([X_strat_train, X_strat_val, X_strat_test])\n",
        "\n",
        "\n",
        "plt.figure(figsize=(8, 6))\n",
        "percentages = combined_df.groupby(['Source', 'MoSold']).size().groupby(level=0).apply(lambda x: 100 * x / float(x.sum())).reset_index(name='Percent')\n",
        "\n",
        "sns.barplot(data=percentages, x='MoSold', y = 'Percent', hue='Source')\n",
        "\n",
        "plt.title('Distributions of MoSold according to train, validation and test sets')\n",
        "plt.xlabel('MoSold')\n",
        "plt.ylabel('Percentage')\n",
        "plt.legend()\n",
        "\n",
        "plt.show()"
      ],
      "metadata": {
        "id": "CMHGiTUloD-x",
        "outputId": "e851073d-83a1-470c-f583-06ef544a30d1",
        "colab": {
          "base_uri": "https://localhost:8080/",
          "height": 745
        }
      },
      "execution_count": 22,
      "outputs": [
        {
          "output_type": "stream",
          "name": "stderr",
          "text": [
            "<ipython-input-22-a36320477a40>:11: FutureWarning: Not prepending group keys to the result index of transform-like apply. In the future, the group keys will be included in the index, regardless of whether the applied function returns a like-indexed object.\n",
            "To preserve the previous behavior, use\n",
            "\n",
            "\t>>> .groupby(..., group_keys=False)\n",
            "\n",
            "To adopt the future behavior and silence this warning, use \n",
            "\n",
            "\t>>> .groupby(..., group_keys=True)\n",
            "  percentages = combined_df.groupby(['Source', 'MoSold']).size().groupby(level=0).apply(lambda x: 100 * x / float(x.sum())).reset_index(name='Percent')\n"
          ]
        },
        {
          "output_type": "display_data",
          "data": {
            "text/plain": [
              "<Figure size 800x600 with 1 Axes>"
            ],
            "image/png": "[encoded data removed]"
          },
          "metadata": {}
        }
      ]
    }
  ],
  "metadata": {
    "colab": {
      "provenance": []
    },
    "kernelspec": {
      "display_name": "Python 3",
      "language": "python",
      "name": "python3"
    },
    "language_info": {
      "codemirror_mode": {
        "name": "ipython",
        "version": 3
      },
      "file_extension": ".py",
      "mimetype": "text/x-python",
      "name": "python",
      "nbconvert_exporter": "python",
      "pygments_lexer": "ipython3",
      "version": "3.7.10"
    },
    "latex_envs": {
      "LaTeX_envs_menu_present": true,
      "autoclose": false,
      "autocomplete": true,
      "bibliofile": "biblio.bib",
      "cite_by": "apalike",
      "current_citInitial": 1,
      "eqLabelWithNumbers": true,
      "eqNumInitial": 1,
      "hotkeys": {
        "equation": "Ctrl-E",
        "itemize": "Ctrl-I"
      },
      "labels_anchors": false,
      "latex_user_defs": false,
      "report_style_numbering": false,
      "user_envs_cfg": false
    },
    "toc": {
      "base_numbering": 1,
      "nav_menu": {},
      "number_sections": true,
      "sideBar": true,
      "skip_h1_title": false,
      "title_cell": "Table of Contents",
      "title_sidebar": "Contents",
      "toc_cell": false,
      "toc_position": {},
      "toc_section_display": true,
      "toc_window_display": true
    }
  },
  "nbformat": 4,
  "nbformat_minor": 0
}