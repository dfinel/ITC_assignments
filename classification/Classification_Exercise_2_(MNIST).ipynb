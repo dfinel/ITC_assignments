{
  "nbformat": 4,
  "nbformat_minor": 0,
  "metadata": {
    "colab": {
      "provenance": []
    },
    "kernelspec": {
      "display_name": "Python 3",
      "language": "python",
      "name": "python3"
    },
    "language_info": {
      "codemirror_mode": {
        "name": "ipython",
        "version": 3
      },
      "file_extension": ".py",
      "mimetype": "text/x-python",
      "name": "python",
      "nbconvert_exporter": "python",
      "pygments_lexer": "ipython3",
      "version": "3.7.4"
    },
    "latex_envs": {
      "LaTeX_envs_menu_present": true,
      "autoclose": false,
      "autocomplete": true,
      "bibliofile": "biblio.bib",
      "cite_by": "apalike",
      "current_citInitial": 1,
      "eqLabelWithNumbers": true,
      "eqNumInitial": 1,
      "hotkeys": {
        "equation": "Ctrl-E",
        "itemize": "Ctrl-I"
      },
      "labels_anchors": false,
      "latex_user_defs": false,
      "report_style_numbering": false,
      "user_envs_cfg": false
    },
    "toc": {
      "base_numbering": 1,
      "nav_menu": {},
      "number_sections": true,
      "sideBar": true,
      "skip_h1_title": false,
      "title_cell": "Table of Contents",
      "title_sidebar": "Contents",
      "toc_cell": false,
      "toc_position": {},
      "toc_section_display": true,
      "toc_window_display": false
    }
  },
  "cells": [
    {
      "cell_type": "markdown",
      "metadata": {
        "id": "7MdsoZ2OkfZk"
      },
      "source": [
        "# Data Modeling - Classification - Exercise #2\n",
        "\n",
        "In this exercise you will explore how hard it is to find the best balance between TP and FP.\n",
        "\n",
        "You will learn about two models that fit multiclass datasets.\n",
        "\n",
        "We will then turn to applying multi-class classifiers over the well known MNIST digits database, and analyse the results using a confusion matrix."
      ]
    },
    {
      "cell_type": "markdown",
      "metadata": {
        "id": "ppFH5f-ZkpLe"
      },
      "source": [
        "## Classifying Digits\n",
        "In this part we will test digits classification on the MNIST dataset, using Bernoulli Naive Bayes (a generative model) and Multivariate Logistic Regression (a discriminative model).\n",
        "\n",
        "The MNIST dataset contains 28x28 grayscale images of handwritten digits between 0 and 9 (10 classes). For mathematical analysis clarity, and for matching expected API, each image flattens to create a 1D array with 784 elements."
      ]
    },
    {
      "cell_type": "markdown",
      "metadata": {
        "id": "2YIETmYnksR_"
      },
      "source": [
        "### Loading the MNIST dataset\n",
        "#### **Question 1:** Load the MNIST data set. Use\n",
        ">```mnist = sklearn.datasets.fetch_openml('mnist_784', version=1, return_X_y=True)```\n",
        "\n",
        "to fetch the original data from the openml.org repository of open datasets for machine learning. Each image is already transformed into a 1D integer array $x\\in [0,255]^{784}$, and the corresponding label is an integer $y\\in [0,9]$.\n",
        "\n",
        "Write a function that will plot a single sample of each digit as the original image.\n",
        "Then, print all digits in one row, so you get a feeling how the data looks like.\n",
        "\n",
        "Finally, divide your data into train and test sets, using 1/7 of the data for testing.\n",
        "\n",
        "---\n",
        "**Note:** Using `digits = sklearn.datasets.load_digits()` will only fetch a very small sample of the original set, with images resized to 8x8. This preprocessing of the data reduces dimensionality and gives invariance to small distortions - however, we will use the original data in this exercise. Feel free to test the performance of the algorithms below on the preprocessed data as well."
      ]
    },
    {
      "cell_type": "code",
      "source": [
        "import numpy as np\n",
        "import pandas as pd\n",
        "from sklearn.datasets import fetch_openml\n",
        "import matplotlib.pyplot as plt\n",
        "import seaborn as sns\n",
        "from sklearn.model_selection import train_test_split\n",
        "from sklearn.naive_bayes import BernoulliNB\n",
        "from sklearn.metrics import accuracy_score,confusion_matrix\n",
        "from scipy.stats import bernoulli\n",
        "from sklearn.linear_model import LogisticRegression"
      ],
      "metadata": {
        "id": "pEpDLlDtMwaK"
      },
      "execution_count": 1,
      "outputs": []
    },
    {
      "cell_type": "code",
      "metadata": {
        "id": "XQegJaXpkxEa"
      },
      "source": [
        "# your code here\n",
        "mnist = fetch_openml('mnist_784', version=1, return_X_y=True, parser = 'pandas')"
      ],
      "execution_count": 2,
      "outputs": []
    },
    {
      "cell_type": "code",
      "source": [
        "def plot_single_samp(data):\n",
        "  f,axes = plt.subplots(1,10,figsize = (30,7))\n",
        "  axes = axes.flatten()\n",
        "  x = data[0]\n",
        "  y = data[1]\n",
        "  for i,ax in enumerate(axes):\n",
        "    index = np.where(y.values == str(i))[0][0]\n",
        "    ax.imshow(np.reshape(mnist[0].values[index], (28,28)))"
      ],
      "metadata": {
        "id": "YIXK7owtN9Xv"
      },
      "execution_count": 3,
      "outputs": []
    },
    {
      "cell_type": "code",
      "source": [
        "plot_single_samp(mnist)"
      ],
      "metadata": {
        "id": "o0B_mYtLxcvJ",
        "outputId": "2827f726-4d28-491e-ca31-463de2fc89a8",
        "colab": {
          "base_uri": "https://localhost:8080/",
          "height": 163
        }
      },
      "execution_count": 4,
      "outputs": [
        {
          "output_type": "display_data",
          "data": {
            "text/plain": [
              "<Figure size 3000x700 with 10 Axes>"
            ],
            "image/png": "[encoded data removed]"
          },
          "metadata": {}
        }
      ]
    },
    {
      "cell_type": "code",
      "source": [
        "X_train,X_test,y_train,y_test = train_test_split(mnist[0],mnist[1], test_size = 1/7, random_state = 42)"
      ],
      "metadata": {
        "id": "LMgxPkRWQJgk"
      },
      "execution_count": 5,
      "outputs": []
    },
    {
      "cell_type": "markdown",
      "metadata": {
        "id": "HQJv_vwMnrIz"
      },
      "source": [
        "### Bernoulli Naive Bayes\n",
        "If we know how the digits are generated, then we know how to classify them (simply choose the digit class which will maximize the posterior probability) --- but which model should we use for describing the digits generation?\n",
        "\n",
        "In this part we will try a very simplified model of digits creation (which is obviously not the same as the \"real\" model), using a Naive Bayes over an underlying Bernoulli distribution --- that is, we will assume that given a digit class, the pixels of the images are the result of independent coin flips, each with its own \"head\" probability.\n",
        "\n",
        "Note that since we assume each pixel is either 0 (black) or 1 (white), we will need to adjust (preprocess) our data accrodingly (see below).\n",
        "\n",
        "So, the model is stated as follows:\n",
        "$$\n",
        "\\begin{align}\n",
        "\\text{Domain} && x \\in \\{0,1\\}^{784} \\\\\n",
        "\\text{Prior} && \\pi_j = \\Pr(y=j) \\\\\n",
        "\\text{Likelihood} && P_j(x) = \\Pr(x | y=j) \\\\\n",
        "\\end{align}\n",
        "$$\n",
        "\n",
        "Where for each $i\\in 0\\ldots 784$ it holds that\n",
        "$$\n",
        "P_{ji}(x_i) = \\Pr(x_i | y=j) =\n",
        "\\begin{cases}\n",
        "p_{ji} & \\text{if } x_i=1 \\\\\n",
        "1-p_{ji} & \\text{if } x_i=0 \\\\\n",
        "\\end{cases}\n",
        "$$"
      ]
    },
    {
      "cell_type": "markdown",
      "metadata": {
        "id": "UmOawzalnuRI"
      },
      "source": [
        "#### **Question 2:** Write the classification rule based on this Naive Bayes model.\n",
        "How would you estimate each of the parameters of the model based on the training data? **Explain your answer**\n",
        "\n",
        "\n",
        "**Bonus:** Think of edge cases which may effect your estimator in an undesired way."
      ]
    },
    {
      "cell_type": "markdown",
      "source": [
        "We have :\n",
        "\n",
        "𝜋𝑗 = (number of rows from y_train where y = j) / (number of rows of y_train)\n",
        "\n",
        "𝑃𝑗𝑖(𝑥𝑖 = 1) = (number of rows from X_train where xi = 1 and y = j)/number of samples with y = j)\n",
        "\n",
        "𝑃𝑗𝑖(𝑥𝑖 = 0) = (number of rows from X_train where xi = 0 and y = j)/number of samples with y = j)\n",
        "\n",
        "Edge cases :\n",
        "\n",
        "- if we do not have samples where y = j for a certain j between 0 and 9\n",
        "- We assume that features are independant. If features are not independant in a case; it could lead to problem and underperforming for the model.\n",
        "- if the dataset is imbalanced, it can lead to very different priors which would not be great for our model.\n"
      ],
      "metadata": {
        "id": "B-yRoEhCW4e7"
      }
    },
    {
      "cell_type": "markdown",
      "metadata": {
        "id": "yi5iFRl-nyPa"
      },
      "source": [
        "#### **Question 3a**: Run a Naive Bayes classifier on the training data and apply predictions on the test data. Use the [sklearn.naive_bayes.BernoulliNB](http://scikit-learn.org/stable/modules/generated/sklearn.naive_bayes.BernoulliNB.html) implementation (see the [source code for sklearn.naive_bayes](https://github.com/scikit-learn/scikit-learn/blob/master/sklearn/naive_bayes.py) for details).\n",
        "\n",
        "Remember we need to preprocess the data in this case such that each pixel would become either black (0) or white (1). For this, use the `binarize` parameter of the implementation. Set this value to $0$ (this is the default), which in this case would mean every pixel with non-zero value will be set to 1.\n",
        "\n",
        "#### **Question 3b:** Plot the mean image of each class (estimated $\\hat{p}_{ji}$) and **generate one sample of each class** (remember, you can do this since this is a generative model). You will need to access the `feature_log_prob_` attibute of the trained model. **The mean should not yield binary output**\n",
        "\n",
        "#### **Question 3c:** Plot the confusion matrix of your classifier, as calculated on the test data (it is recommended to use [sklearn.metrics.confusion_matrix](http://scikit-learn.org/stable/modules/generated/sklearn.metrics.confusion_matrix.html)). Calculate the total accuracy (fraction of correctly classified images), and summarize the results in your own words.\n"
      ]
    },
    {
      "cell_type": "code",
      "source": [
        "# 3.a\n",
        "\n",
        "model = BernoulliNB(binarize = 0)\n",
        "model.fit(X_train,y_train)\n",
        "y_pred = model.predict(X_test)"
      ],
      "metadata": {
        "id": "CI1SfoBaYzDQ"
      },
      "execution_count": 6,
      "outputs": []
    },
    {
      "cell_type": "code",
      "source": [
        "#3.b\n",
        "\n",
        "mean_image = np.exp(model.feature_log_prob_)"
      ],
      "metadata": {
        "id": "5wLzQR3Pbz0U"
      },
      "execution_count": 7,
      "outputs": []
    },
    {
      "cell_type": "code",
      "source": [
        "f,axes = plt.subplots(1,10,figsize = (30,7))\n",
        "for i,ax in enumerate(axes):\n",
        "  ax.imshow(np.reshape(mean_image[i], (28,28)))"
      ],
      "metadata": {
        "id": "mg1IV2oXzXmF",
        "outputId": "1fa4ceaf-51a8-4aac-f9e6-e3f17f7e3848",
        "colab": {
          "base_uri": "https://localhost:8080/",
          "height": 163
        }
      },
      "execution_count": 8,
      "outputs": [
        {
          "output_type": "display_data",
          "data": {
            "text/plain": [
              "<Figure size 3000x700 with 10 Axes>"
            ],
            "image/png": "[encoded data removed]"
          },
          "metadata": {}
        }
      ]
    },
    {
      "cell_type": "code",
      "source": [
        "#3.c\n",
        "accuracy_score(y_test,y_pred),confusion_matrix(y_test,y_pred)"
      ],
      "metadata": {
        "id": "yBbFiwFtZrKn",
        "outputId": "201b7861-37f6-471f-dddb-0a3f919a13eb",
        "colab": {
          "base_uri": "https://localhost:8080/"
        }
      },
      "execution_count": 9,
      "outputs": [
        {
          "output_type": "execute_result",
          "data": {
            "text/plain": [
              "(0.8348,\n",
              " array([[ 881,    0,    6,   12,    1,   39,   21,    1,   20,    2],\n",
              "        [   0, 1110,    6,    6,    0,   12,    3,    0,   12,    3],\n",
              "        [  13,   16,  805,   26,   17,    6,   41,    5,   36,    2],\n",
              "        [   5,   30,   49,  830,    2,   23,    8,   14,   45,   28],\n",
              "        [   2,    7,    6,    0,  724,    6,   16,    5,   18,  122],\n",
              "        [  20,   17,    7,  139,   24,  680,   20,    3,   13,   14],\n",
              "        [  12,   33,   21,    1,   13,   25,  855,    0,    1,    0],\n",
              "        [   5,   22,    8,    2,   27,    3,    0,  890,   19,   79],\n",
              "        [  16,   39,   19,   80,   10,   33,    5,    5,  720,   42],\n",
              "        [   6,   21,    4,    9,   77,    4,    0,   33,   29,  853]]))"
            ]
          },
          "metadata": {},
          "execution_count": 9
        }
      ]
    },
    {
      "cell_type": "markdown",
      "source": [
        "We get an accuracy of 0.8348 which is quite high. However, we can see on the confusion matrix that we have a lot of FP and FN so our model is not very efficient even if our accuracy is quite high."
      ],
      "metadata": {
        "id": "JPLauvbbhJD3"
      }
    },
    {
      "cell_type": "markdown",
      "metadata": {
        "id": "eu_tY-L7n786"
      },
      "source": [
        "### Multivariate Logistic Regression\n",
        "We will now look at a discriminative model for this problem, specifically, the Multivariate Logistic Regression model. Again, we will use a prepared implementation of the model, so you won't need to implement it.\n",
        "\n",
        "In this part we will keep the pixel values in grayscale, and assume the probability of each image being classified as one of the 10 digit classes, matches some multivariate logistic function."
      ]
    },
    {
      "cell_type": "markdown",
      "metadata": {
        "id": "rh0oqitwn-Xq"
      },
      "source": [
        "#### **Question 4a:** Run a Multivariate Logitic Regression classifier on the training data and apply predictions on the test data. Use the [sklearn.linear_model.LogisticRegression](http://scikit-learn.org/stable/modules/generated/sklearn.linear_model.LogisticRegression.html) implementation, and set the `solver` to be `'lbfgs'`.\n",
        "\n",
        "#### **Question 4b:**  As we did for the Naive Bayes classifier above, plot the confusion matrix of your classifier, as calculated on the test data, and calculate the total accuracy. Summarize the results in your own words.\n",
        "\n",
        "#### **Question 4c:** Show some test images which were misclassified (classified incorrectly). Choose one such sample, and output the probability estimates for all classes (use the `predict_proba` function). Describe the results.\n",
        "\n",
        "Note that here we cannot \"generate\" examples from the model, nor plot the \"mean image\"."
      ]
    },
    {
      "cell_type": "code",
      "source": [
        "#4.a\n",
        "\n",
        "model_lr = LogisticRegression(solver = 'lbfgs')\n",
        "model_lr.fit(X_train,y_train)\n",
        "y_pred_lr = model_lr.predict(X_test)\n"
      ],
      "metadata": {
        "id": "0JCkqSucjVcF",
        "outputId": "676ecadc-6b16-40f8-d60d-b02c0947aacb",
        "colab": {
          "base_uri": "https://localhost:8080/"
        }
      },
      "execution_count": 10,
      "outputs": [
        {
          "output_type": "stream",
          "name": "stderr",
          "text": [
            "/usr/local/lib/python3.10/dist-packages/sklearn/linear_model/_logistic.py:458: ConvergenceWarning: lbfgs failed to converge (status=1):\n",
            "STOP: TOTAL NO. of ITERATIONS REACHED LIMIT.\n",
            "\n",
            "Increase the number of iterations (max_iter) or scale the data as shown in:\n",
            "    https://scikit-learn.org/stable/modules/preprocessing.html\n",
            "Please also refer to the documentation for alternative solver options:\n",
            "    https://scikit-learn.org/stable/modules/linear_model.html#logistic-regression\n",
            "  n_iter_i = _check_optimize_result(\n"
          ]
        }
      ]
    },
    {
      "cell_type": "code",
      "source": [
        "#4.b\n",
        "accuracy_score(y_test,y_pred_lr), confusion_matrix(y_test,y_pred_lr)\n"
      ],
      "metadata": {
        "id": "ZwCstn9RmnJy",
        "outputId": "f6b8e780-dcc1-489f-f880-e8e29a305f56",
        "colab": {
          "base_uri": "https://localhost:8080/"
        }
      },
      "execution_count": 11,
      "outputs": [
        {
          "output_type": "execute_result",
          "data": {
            "text/plain": [
              "(0.9189,\n",
              " array([[ 941,    0,    5,    1,    3,   10,   11,    4,    7,    1],\n",
              "        [   0, 1123,    4,    6,    1,    5,    0,    2,    9,    2],\n",
              "        [   3,   15,  865,   20,   10,    4,   17,    8,   22,    3],\n",
              "        [   2,    5,   27,  937,    1,   25,    2,   10,   13,   12],\n",
              "        [   3,    1,    4,    6,  837,    4,   11,    3,    7,   30],\n",
              "        [   6,    9,    5,   43,    8,  797,   17,    1,   41,   10],\n",
              "        [   7,    3,   12,    0,   11,   10,  914,    1,    3,    0],\n",
              "        [   3,    2,   23,    4,    8,    3,    0,  987,    1,   24],\n",
              "        [   8,   13,   13,   31,    5,   26,    9,    8,  843,   13],\n",
              "        [   5,    7,    3,   12,   23,    6,    0,   26,    9,  945]]))"
            ]
          },
          "metadata": {},
          "execution_count": 11
        }
      ]
    },
    {
      "cell_type": "markdown",
      "source": [
        "We get a very high accuracy (0.9189).\n",
        "We have a very few FP and FN so our model looks efficient."
      ],
      "metadata": {
        "id": "PByREudR1Rue"
      }
    },
    {
      "cell_type": "code",
      "source": [
        "#4.c\n",
        "\n",
        "indexes = np.where(y_pred_lr !=y_test)[0][:5]\n",
        "f,axes = plt.subplots(1,5,figsize = (15,7))\n",
        "axes = axes.flatten()\n",
        "for index,ax in enumerate(axes):\n",
        "  ax.imshow(np.reshape(X_test.iloc[indexes[index]].values,(28,28)))\n",
        "  ax.set_title(f'Missclassified images : classified as {y_pred_lr[indexes[index]]}', fontsize = 10)\n",
        "\n",
        "plt.tight_layout()\n",
        "plt.show()\n",
        "\n",
        ""
      ],
      "metadata": {
        "id": "vkyL52-jpCai",
        "outputId": "a0b0dbc9-ecd4-4d35-9bb3-f65e96687718",
        "colab": {
          "base_uri": "https://localhost:8080/",
          "height": 321
        }
      },
      "execution_count": 12,
      "outputs": [
        {
          "output_type": "display_data",
          "data": {
            "text/plain": [
              "<Figure size 1500x700 with 5 Axes>"
            ],
            "image/png": "[encoded data removed]"
          },
          "metadata": {}
        }
      ]
    },
    {
      "cell_type": "code",
      "source": [
        "y_pred_proba = model_lr.predict_proba([X_test.iloc[indexes[0]]])\n",
        "y_pred_proba"
      ],
      "metadata": {
        "id": "bKk4vcAi4SJV",
        "outputId": "b4501ccb-57a6-480d-8b4c-0a4bffc826c5",
        "colab": {
          "base_uri": "https://localhost:8080/"
        }
      },
      "execution_count": 13,
      "outputs": [
        {
          "output_type": "stream",
          "name": "stderr",
          "text": [
            "/usr/local/lib/python3.10/dist-packages/sklearn/base.py:439: UserWarning: X does not have valid feature names, but LogisticRegression was fitted with feature names\n",
            "  warnings.warn(\n"
          ]
        },
        {
          "output_type": "execute_result",
          "data": {
            "text/plain": [
              "array([[1.22094914e-06, 2.42611427e-07, 8.51005682e-05, 5.97909223e-04,\n",
              "        4.16672217e-05, 5.39231626e-01, 5.28410010e-03, 1.62192294e-07,\n",
              "        4.53747058e-01, 1.01091251e-03]])"
            ]
          },
          "metadata": {},
          "execution_count": 13
        }
      ]
    },
    {
      "cell_type": "markdown",
      "source": [
        "For this sample, we should have predicted '8' but we classified it as '5'.\n",
        "\n",
        "Using predict_proba, we can see that the proba to predict '5' is around 0.5 and the proba to predict '8' is around 0.45 so the proba are very close.\n",
        "The proba to predict other integers are much more lower."
      ],
      "metadata": {
        "id": "_KcMDJPS8WuH"
      }
    }
  ]
}