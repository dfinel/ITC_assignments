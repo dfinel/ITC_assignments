{
  "nbformat": 4,
  "nbformat_minor": 0,
  "metadata": {
    "colab": {
      "provenance": []
    },
    "kernelspec": {
      "name": "python3",
      "display_name": "Python 3"
    },
    "language_info": {
      "name": "python"
    }
  },
  "cells": [
    {
      "cell_type": "markdown",
      "source": [
        "# NLP Classification exercise: Emotional Tweets\n",
        "\n",
        "In this exercise we will classify text using a bag-of-words model and ngrams. We will use the [Emotion detection from text](https://www.kaggle.com/pashupatigupta/emotion-detection-from-text) dataset which contains tweets along with emotion labels."
      ],
      "metadata": {
        "id": "2VZV2bf4YG2I"
      }
    },
    {
      "cell_type": "markdown",
      "source": [
        "## Part 1: EDA and Preprocessing"
      ],
      "metadata": {
        "id": "vKr4L6c03-d1"
      }
    },
    {
      "cell_type": "markdown",
      "source": [
        "**Questions:**\n",
        "1. Load the attached `tweet_emotions.csv` dataset as a Pandas DataFrame. Perform basic EDA, including checking the size of the dataset and distribution of target values."
      ],
      "metadata": {
        "id": "tcdNbd221DUu"
      }
    },
    {
      "cell_type": "markdown",
      "source": [
        "2. Perform basic preprocessing: First remove 'neutral' tweets since we will only classify tweets with emotional content. Then, using Pandas Series string methods (e.g. `.str.replace(...)`), convert the text to lowercase. Replace special types of tokens with code-words as discussed in class (e.g. `__HASHTAG__` for hashtags; consider what else should be replaced)."
      ],
      "metadata": {
        "id": "ZANC_K-H1seE"
      }
    },
    {
      "cell_type": "markdown",
      "source": [
        "3. Use a 90%-10% train-test split, stratifying on the target value. Why does it make sense to stratify?"
      ],
      "metadata": {
        "id": "9XRQg9ZO2VKZ"
      }
    },
    {
      "cell_type": "markdown",
      "source": [
        "4. What baseline accuracy would we achieve on predicting the target on the test set if we always predicted the majority class?"
      ],
      "metadata": {
        "id": "6Y6A0XQU2m9y"
      }
    },
    {
      "cell_type": "markdown",
      "source": [
        "5. Using `nltk.word_tokenize` and `collections.Counter`, find the most common 10 words in the training data. What type of words are these?"
      ],
      "metadata": {
        "id": "VV2cKtu03X72"
      }
    },
    {
      "cell_type": "code",
      "source": [
        "import pandas as pd"
      ],
      "metadata": {
        "id": "8HrxzzQKkEaU"
      },
      "execution_count": 1,
      "outputs": []
    },
    {
      "cell_type": "code",
      "source": [
        "#1.\n",
        "df = pd.read_csv('tweet_emotions.csv.zip')"
      ],
      "metadata": {
        "id": "npkfEmwCkHyV"
      },
      "execution_count": 2,
      "outputs": []
    },
    {
      "cell_type": "code",
      "source": [
        "df.shape"
      ],
      "metadata": {
        "id": "CK7gpIyMkTKA",
        "outputId": "ab160507-6265-4bdc-dc4c-41d60b0e9261",
        "colab": {
          "base_uri": "https://localhost:8080/"
        }
      },
      "execution_count": 3,
      "outputs": [
        {
          "output_type": "execute_result",
          "data": {
            "text/plain": [
              "(40000, 3)"
            ]
          },
          "metadata": {},
          "execution_count": 3
        }
      ]
    },
    {
      "cell_type": "code",
      "source": [
        "df.sample(5)"
      ],
      "metadata": {
        "id": "HfJ0-BhXkVc7",
        "outputId": "e40fafdf-a607-472f-bd8b-983466ed7220",
        "colab": {
          "base_uri": "https://localhost:8080/",
          "height": 206
        }
      },
      "execution_count": 4,
      "outputs": [
        {
          "output_type": "execute_result",
          "data": {
            "text/plain": [
              "         tweet_id sentiment                                            content\n",
              "1695   1957375017     worry          is getting a cold    *cough, oink, cough*\n",
              "20921  1694128615   neutral  @Adrianna perhaps because it's 3 am Minday mor...\n",
              "26831  1695546704   sadness  @amandawilk106 yes unfuzzy, i prefer the fuzzy...\n",
              "16248  1965286924   neutral  @mitchelmusso how do you call that number from...\n",
              "35957  1753216524     worry                                   hairspray on tv!"
            ],
            "text/html": [
              "\n",
              "  <div id=\"df-fd98ab2b-780c-450c-ab7d-d2b800138876\" class=\"colab-df-container\">\n",
              "    <div>\n",
              "<style scoped>\n",
              "    .dataframe tbody tr th:only-of-type {\n",
              "        vertical-align: middle;\n",
              "    }\n",
              "\n",
              "    .dataframe tbody tr th {\n",
              "        vertical-align: top;\n",
              "    }\n",
              "\n",
              "    .dataframe thead th {\n",
              "        text-align: right;\n",
              "    }\n",
              "</style>\n",
              "<table border=\"1\" class=\"dataframe\">\n",
              "  <thead>\n",
              "    <tr style=\"text-align: right;\">\n",
              "      <th></th>\n",
              "      <th>tweet_id</th>\n",
              "      <th>sentiment</th>\n",
              "      <th>content</th>\n",
              "    </tr>\n",
              "  </thead>\n",
              "  <tbody>\n",
              "    <tr>\n",
              "      <th>1695</th>\n",
              "      <td>1957375017</td>\n",
              "      <td>worry</td>\n",
              "      <td>is getting a cold    *cough, oink, cough*</td>\n",
              "    </tr>\n",
              "    <tr>\n",
              "      <th>20921</th>\n",
              "      <td>1694128615</td>\n",
              "      <td>neutral</td>\n",
              "      <td>@Adrianna perhaps because it's 3 am Minday mor...</td>\n",
              "    </tr>\n",
              "    <tr>\n",
              "      <th>26831</th>\n",
              "      <td>1695546704</td>\n",
              "      <td>sadness</td>\n",
              "      <td>@amandawilk106 yes unfuzzy, i prefer the fuzzy...</td>\n",
              "    </tr>\n",
              "    <tr>\n",
              "      <th>16248</th>\n",
              "      <td>1965286924</td>\n",
              "      <td>neutral</td>\n",
              "      <td>@mitchelmusso how do you call that number from...</td>\n",
              "    </tr>\n",
              "    <tr>\n",
              "      <th>35957</th>\n",
              "      <td>1753216524</td>\n",
              "      <td>worry</td>\n",
              "      <td>hairspray on tv!</td>\n",
              "    </tr>\n",
              "  </tbody>\n",
              "</table>\n",
              "</div>\n",
              "    <div class=\"colab-df-buttons\">\n",
              "\n",
              "  <div class=\"colab-df-container\">\n",
              "    <button class=\"colab-df-convert\" onclick=\"convertToInteractive('df-fd98ab2b-780c-450c-ab7d-d2b800138876')\"\n",
              "            title=\"Convert this dataframe to an interactive table.\"\n",
              "            style=\"display:none;\">\n",
              "\n",
              "  <svg xmlns=\"http://www.w3.org/2000/svg\" height=\"24px\" viewBox=\"0 -960 960 960\">\n",
              "    <path d=\"M120-120v-720h720v720H120Zm60-500h600v-160H180v160Zm220 220h160v-160H400v160Zm0 220h160v-160H400v160ZM180-400h160v-160H180v160Zm440 0h160v-160H620v160ZM180-180h160v-160H180v160Zm440 0h160v-160H620v160Z\"/>\n",
              "  </svg>\n",
              "    </button>\n",
              "\n",
              "  <style>\n",
              "    .colab-df-container {\n",
              "      display:flex;\n",
              "      gap: 12px;\n",
              "    }\n",
              "\n",
              "    .colab-df-convert {\n",
              "      background-color: #E8F0FE;\n",
              "      border: none;\n",
              "      border-radius: 50%;\n",
              "      cursor: pointer;\n",
              "      display: none;\n",
              "      fill: #1967D2;\n",
              "      height: 32px;\n",
              "      padding: 0 0 0 0;\n",
              "      width: 32px;\n",
              "    }\n",
              "\n",
              "    .colab-df-convert:hover {\n",
              "      background-color: #E2EBFA;\n",
              "      box-shadow: 0px 1px 2px rgba(60, 64, 67, 0.3), 0px 1px 3px 1px rgba(60, 64, 67, 0.15);\n",
              "      fill: #174EA6;\n",
              "    }\n",
              "\n",
              "    .colab-df-buttons div {\n",
              "      margin-bottom: 4px;\n",
              "    }\n",
              "\n",
              "    [theme=dark] .colab-df-convert {\n",
              "      background-color: #3B4455;\n",
              "      fill: #D2E3FC;\n",
              "    }\n",
              "\n",
              "    [theme=dark] .colab-df-convert:hover {\n",
              "      background-color: #434B5C;\n",
              "      box-shadow: 0px 1px 3px 1px rgba(0, 0, 0, 0.15);\n",
              "      filter: drop-shadow(0px 1px 2px rgba(0, 0, 0, 0.3));\n",
              "      fill: #FFFFFF;\n",
              "    }\n",
              "  </style>\n",
              "\n",
              "    <script>\n",
              "      const buttonEl =\n",
              "        document.querySelector('#df-fd98ab2b-780c-450c-ab7d-d2b800138876 button.colab-df-convert');\n",
              "      buttonEl.style.display =\n",
              "        google.colab.kernel.accessAllowed ? 'block' : 'none';\n",
              "\n",
              "      async function convertToInteractive(key) {\n",
              "        const element = document.querySelector('#df-fd98ab2b-780c-450c-ab7d-d2b800138876');\n",
              "        const dataTable =\n",
              "          await google.colab.kernel.invokeFunction('convertToInteractive',\n",
              "                                                    [key], {});\n",
              "        if (!dataTable) return;\n",
              "\n",
              "        const docLinkHtml = 'Like what you see? Visit the ' +\n",
              "          '<a target=\"_blank\" href=https://colab.research.google.com/notebooks/data_table.ipynb>data table notebook</a>'\n",
              "          + ' to learn more about interactive tables.';\n",
              "        element.innerHTML = '';\n",
              "        dataTable['output_type'] = 'display_data';\n",
              "        await google.colab.output.renderOutput(dataTable, element);\n",
              "        const docLink = document.createElement('div');\n",
              "        docLink.innerHTML = docLinkHtml;\n",
              "        element.appendChild(docLink);\n",
              "      }\n",
              "    </script>\n",
              "  </div>\n",
              "\n",
              "\n",
              "<div id=\"df-5ca8b3c2-dc09-4f4a-a5c2-da9c797e156f\">\n",
              "  <button class=\"colab-df-quickchart\" onclick=\"quickchart('df-5ca8b3c2-dc09-4f4a-a5c2-da9c797e156f')\"\n",
              "            title=\"Suggest charts\"\n",
              "            style=\"display:none;\">\n",
              "\n",
              "<svg xmlns=\"http://www.w3.org/2000/svg\" height=\"24px\"viewBox=\"0 0 24 24\"\n",
              "     width=\"24px\">\n",
              "    <g>\n",
              "        <path d=\"M19 3H5c-1.1 0-2 .9-2 2v14c0 1.1.9 2 2 2h14c1.1 0 2-.9 2-2V5c0-1.1-.9-2-2-2zM9 17H7v-7h2v7zm4 0h-2V7h2v10zm4 0h-2v-4h2v4z\"/>\n",
              "    </g>\n",
              "</svg>\n",
              "  </button>\n",
              "\n",
              "<style>\n",
              "  .colab-df-quickchart {\n",
              "      --bg-color: #E8F0FE;\n",
              "      --fill-color: #1967D2;\n",
              "      --hover-bg-color: #E2EBFA;\n",
              "      --hover-fill-color: #174EA6;\n",
              "      --disabled-fill-color: #AAA;\n",
              "      --disabled-bg-color: #DDD;\n",
              "  }\n",
              "\n",
              "  [theme=dark] .colab-df-quickchart {\n",
              "      --bg-color: #3B4455;\n",
              "      --fill-color: #D2E3FC;\n",
              "      --hover-bg-color: #434B5C;\n",
              "      --hover-fill-color: #FFFFFF;\n",
              "      --disabled-bg-color: #3B4455;\n",
              "      --disabled-fill-color: #666;\n",
              "  }\n",
              "\n",
              "  .colab-df-quickchart {\n",
              "    background-color: var(--bg-color);\n",
              "    border: none;\n",
              "    border-radius: 50%;\n",
              "    cursor: pointer;\n",
              "    display: none;\n",
              "    fill: var(--fill-color);\n",
              "    height: 32px;\n",
              "    padding: 0;\n",
              "    width: 32px;\n",
              "  }\n",
              "\n",
              "  .colab-df-quickchart:hover {\n",
              "    background-color: var(--hover-bg-color);\n",
              "    box-shadow: 0 1px 2px rgba(60, 64, 67, 0.3), 0 1px 3px 1px rgba(60, 64, 67, 0.15);\n",
              "    fill: var(--button-hover-fill-color);\n",
              "  }\n",
              "\n",
              "  .colab-df-quickchart-complete:disabled,\n",
              "  .colab-df-quickchart-complete:disabled:hover {\n",
              "    background-color: var(--disabled-bg-color);\n",
              "    fill: var(--disabled-fill-color);\n",
              "    box-shadow: none;\n",
              "  }\n",
              "\n",
              "  .colab-df-spinner {\n",
              "    border: 2px solid var(--fill-color);\n",
              "    border-color: transparent;\n",
              "    border-bottom-color: var(--fill-color);\n",
              "    animation:\n",
              "      spin 1s steps(1) infinite;\n",
              "  }\n",
              "\n",
              "  @keyframes spin {\n",
              "    0% {\n",
              "      border-color: transparent;\n",
              "      border-bottom-color: var(--fill-color);\n",
              "      border-left-color: var(--fill-color);\n",
              "    }\n",
              "    20% {\n",
              "      border-color: transparent;\n",
              "      border-left-color: var(--fill-color);\n",
              "      border-top-color: var(--fill-color);\n",
              "    }\n",
              "    30% {\n",
              "      border-color: transparent;\n",
              "      border-left-color: var(--fill-color);\n",
              "      border-top-color: var(--fill-color);\n",
              "      border-right-color: var(--fill-color);\n",
              "    }\n",
              "    40% {\n",
              "      border-color: transparent;\n",
              "      border-right-color: var(--fill-color);\n",
              "      border-top-color: var(--fill-color);\n",
              "    }\n",
              "    60% {\n",
              "      border-color: transparent;\n",
              "      border-right-color: var(--fill-color);\n",
              "    }\n",
              "    80% {\n",
              "      border-color: transparent;\n",
              "      border-right-color: var(--fill-color);\n",
              "      border-bottom-color: var(--fill-color);\n",
              "    }\n",
              "    90% {\n",
              "      border-color: transparent;\n",
              "      border-bottom-color: var(--fill-color);\n",
              "    }\n",
              "  }\n",
              "</style>\n",
              "\n",
              "  <script>\n",
              "    async function quickchart(key) {\n",
              "      const quickchartButtonEl =\n",
              "        document.querySelector('#' + key + ' button');\n",
              "      quickchartButtonEl.disabled = true;  // To prevent multiple clicks.\n",
              "      quickchartButtonEl.classList.add('colab-df-spinner');\n",
              "      try {\n",
              "        const charts = await google.colab.kernel.invokeFunction(\n",
              "            'suggestCharts', [key], {});\n",
              "      } catch (error) {\n",
              "        console.error('Error during call to suggestCharts:', error);\n",
              "      }\n",
              "      quickchartButtonEl.classList.remove('colab-df-spinner');\n",
              "      quickchartButtonEl.classList.add('colab-df-quickchart-complete');\n",
              "    }\n",
              "    (() => {\n",
              "      let quickchartButtonEl =\n",
              "        document.querySelector('#df-5ca8b3c2-dc09-4f4a-a5c2-da9c797e156f button');\n",
              "      quickchartButtonEl.style.display =\n",
              "        google.colab.kernel.accessAllowed ? 'block' : 'none';\n",
              "    })();\n",
              "  </script>\n",
              "</div>\n",
              "    </div>\n",
              "  </div>\n"
            ],
            "application/vnd.google.colaboratory.intrinsic+json": {
              "type": "dataframe",
              "summary": "{\n  \"name\": \"df\",\n  \"rows\": 5,\n  \"fields\": [\n    {\n      \"column\": \"tweet_id\",\n      \"properties\": {\n        \"dtype\": \"number\",\n        \"std\": 137418283,\n        \"min\": 1694128615,\n        \"max\": 1965286924,\n        \"num_unique_values\": 5,\n        \"samples\": [\n          1694128615,\n          1753216524,\n          1695546704\n        ],\n        \"semantic_type\": \"\",\n        \"description\": \"\"\n      }\n    },\n    {\n      \"column\": \"sentiment\",\n      \"properties\": {\n        \"dtype\": \"string\",\n        \"num_unique_values\": 3,\n        \"samples\": [\n          \"worry\",\n          \"neutral\",\n          \"sadness\"\n        ],\n        \"semantic_type\": \"\",\n        \"description\": \"\"\n      }\n    },\n    {\n      \"column\": \"content\",\n      \"properties\": {\n        \"dtype\": \"string\",\n        \"num_unique_values\": 5,\n        \"samples\": [\n          \"@Adrianna perhaps because it's 3 am Minday morning\",\n          \"hairspray on tv!\",\n          \"@amandawilk106 yes unfuzzy, i prefer the fuzzy me and clear caleb..  wanna turn back the clock!\"\n        ],\n        \"semantic_type\": \"\",\n        \"description\": \"\"\n      }\n    }\n  ]\n}"
            }
          },
          "metadata": {},
          "execution_count": 4
        }
      ]
    },
    {
      "cell_type": "code",
      "source": [
        "df.drop(columns = 'tweet_id', inplace = True)"
      ],
      "metadata": {
        "id": "08PtAcfsylEQ"
      },
      "execution_count": 5,
      "outputs": []
    },
    {
      "cell_type": "code",
      "source": [
        "df.sentiment.value_counts()/df.shape[0]*100"
      ],
      "metadata": {
        "id": "ST2TDuwqkaDm",
        "outputId": "3dffe6a5-13f7-45a6-e2d2-9a29a193aec3",
        "colab": {
          "base_uri": "https://localhost:8080/"
        }
      },
      "execution_count": 6,
      "outputs": [
        {
          "output_type": "execute_result",
          "data": {
            "text/plain": [
              "neutral       21.5950\n",
              "worry         21.1475\n",
              "happiness     13.0225\n",
              "sadness       12.9125\n",
              "love           9.6050\n",
              "surprise       5.4675\n",
              "fun            4.4400\n",
              "relief         3.8150\n",
              "hate           3.3075\n",
              "empty          2.0675\n",
              "enthusiasm     1.8975\n",
              "boredom        0.4475\n",
              "anger          0.2750\n",
              "Name: sentiment, dtype: float64"
            ]
          },
          "metadata": {},
          "execution_count": 6
        }
      ]
    },
    {
      "cell_type": "code",
      "source": [
        "df.isna().sum()"
      ],
      "metadata": {
        "id": "-A5W_RFvkfN2",
        "outputId": "e90cf1fa-a19f-4611-f3bb-17ee021d9dd4",
        "colab": {
          "base_uri": "https://localhost:8080/"
        }
      },
      "execution_count": 7,
      "outputs": [
        {
          "output_type": "execute_result",
          "data": {
            "text/plain": [
              "sentiment    0\n",
              "content      0\n",
              "dtype: int64"
            ]
          },
          "metadata": {},
          "execution_count": 7
        }
      ]
    },
    {
      "cell_type": "code",
      "source": [
        "df.content.value_counts().shape"
      ],
      "metadata": {
        "id": "sCnsC3fzkkFS",
        "outputId": "b3150ea0-d1f1-449e-d341-3401ee073c30",
        "colab": {
          "base_uri": "https://localhost:8080/"
        }
      },
      "execution_count": 8,
      "outputs": [
        {
          "output_type": "execute_result",
          "data": {
            "text/plain": [
              "(39827,)"
            ]
          },
          "metadata": {},
          "execution_count": 8
        }
      ]
    },
    {
      "cell_type": "markdown",
      "source": [
        "We have 173 duplicated tweets."
      ],
      "metadata": {
        "id": "YYQzeu3ikr-L"
      }
    },
    {
      "cell_type": "code",
      "source": [
        "import numpy as np"
      ],
      "metadata": {
        "id": "VmaBVvSjlJru"
      },
      "execution_count": 9,
      "outputs": []
    },
    {
      "cell_type": "code",
      "source": [
        "#2.\n",
        "df.drop(np.where(df.sentiment == 'neutral')[0], inplace = True)"
      ],
      "metadata": {
        "id": "gG0eFWgXk52K"
      },
      "execution_count": 10,
      "outputs": []
    },
    {
      "cell_type": "code",
      "source": [
        "repl = lambda x : x.lower()\n",
        "df.content = df.content.str.lower()"
      ],
      "metadata": {
        "id": "rJx7hPfjlV0G"
      },
      "execution_count": 11,
      "outputs": []
    },
    {
      "cell_type": "code",
      "source": [
        "df.content = df.content.str.replace(r'#\\w+', '__HASHTAG__')"
      ],
      "metadata": {
        "id": "BAjksTUPm6mK",
        "outputId": "231278d8-986d-4c32-f10b-83839786d3a3",
        "colab": {
          "base_uri": "https://localhost:8080/"
        }
      },
      "execution_count": 12,
      "outputs": [
        {
          "output_type": "stream",
          "name": "stderr",
          "text": [
            "<ipython-input-12-edc72f558bea>:1: FutureWarning: The default value of regex will change from True to False in a future version.\n",
            "  df.content = df.content.str.replace(r'#\\w+', '__HASHTAG__')\n"
          ]
        }
      ]
    },
    {
      "cell_type": "code",
      "source": [
        "df.content = df.content.str.replace(r'@\\w+', '__USERNAME__')"
      ],
      "metadata": {
        "id": "h0hFb7GRnfO2",
        "outputId": "4081576d-6bfd-440b-e42a-492b1c3322b6",
        "colab": {
          "base_uri": "https://localhost:8080/"
        }
      },
      "execution_count": 13,
      "outputs": [
        {
          "output_type": "stream",
          "name": "stderr",
          "text": [
            "<ipython-input-13-7f5fe2cf875a>:1: FutureWarning: The default value of regex will change from True to False in a future version.\n",
            "  df.content = df.content.str.replace(r'@\\w+', '__USERNAME__')\n"
          ]
        }
      ]
    },
    {
      "cell_type": "code",
      "source": [
        "#3.\n",
        "from sklearn.model_selection import train_test_split\n",
        "X_train,X_test, y_train,y_test = train_test_split(df.drop(columns = 'sentiment'), df.sentiment, test_size = 0.1, stratify = df.sentiment)"
      ],
      "metadata": {
        "id": "JcswP0L9o-XA"
      },
      "execution_count": 14,
      "outputs": []
    },
    {
      "cell_type": "markdown",
      "source": [
        "We want to stratify to be sure that each class will be represented both on the train set and the test set with the same proportion."
      ],
      "metadata": {
        "id": "HRWlkVXoqZiy"
      }
    },
    {
      "cell_type": "code",
      "source": [
        "#4.\n",
        "y_test.value_counts()/X_test.shape[0]*100"
      ],
      "metadata": {
        "id": "P59SX27_qiEQ",
        "outputId": "f0c05fc9-ea0c-4a05-8468-d74885f6e3ba",
        "colab": {
          "base_uri": "https://localhost:8080/"
        }
      },
      "execution_count": 15,
      "outputs": [
        {
          "output_type": "execute_result",
          "data": {
            "text/plain": [
              "worry         26.968441\n",
              "happiness     16.608224\n",
              "sadness       16.448836\n",
              "love          12.240995\n",
              "surprise       6.981192\n",
              "fun            5.674211\n",
              "relief         4.877271\n",
              "hate           4.207842\n",
              "empty          2.645840\n",
              "enthusiasm     2.422697\n",
              "boredom        0.573797\n",
              "anger          0.350653\n",
              "Name: sentiment, dtype: float64"
            ]
          },
          "metadata": {},
          "execution_count": 15
        }
      ]
    },
    {
      "cell_type": "markdown",
      "source": [
        "By predicting the majority class, we get a baseline accuracy of 26.9%"
      ],
      "metadata": {
        "id": "xFFlbLfGqsTB"
      }
    },
    {
      "cell_type": "code",
      "source": [
        "#5.\n",
        "from itertools import chain\n",
        "import nltk\n",
        "from nltk import word_tokenize\n",
        "nltk.download('punkt')\n",
        "word_tokenized = list(chain.from_iterable(X_train.content.apply(word_tokenize)))"
      ],
      "metadata": {
        "id": "27NzC-RKqyyF",
        "outputId": "33d97875-7fe5-4ae5-a03a-db506b89ae3c",
        "colab": {
          "base_uri": "https://localhost:8080/"
        }
      },
      "execution_count": 16,
      "outputs": [
        {
          "output_type": "stream",
          "name": "stderr",
          "text": [
            "[nltk_data] Downloading package punkt to /root/nltk_data...\n",
            "[nltk_data]   Package punkt is already up-to-date!\n"
          ]
        }
      ]
    },
    {
      "cell_type": "code",
      "source": [
        "from collections import Counter\n",
        "counter = Counter(word_tokenized)\n",
        "counter.most_common(10)"
      ],
      "metadata": {
        "id": "c5rPmQBHry4M",
        "outputId": "b2041031-f388-4536-8898-18d3c22e4523",
        "colab": {
          "base_uri": "https://localhost:8080/"
        }
      },
      "execution_count": 17,
      "outputs": [
        {
          "output_type": "execute_result",
          "data": {
            "text/plain": [
              "[('i', 18056),\n",
              " ('!', 17405),\n",
              " ('.', 14625),\n",
              " ('__USERNAME__', 13633),\n",
              " ('to', 10454),\n",
              " ('the', 9503),\n",
              " (',', 8895),\n",
              " ('a', 7190),\n",
              " ('my', 6148),\n",
              " ('it', 5763)]"
            ]
          },
          "metadata": {},
          "execution_count": 17
        }
      ]
    },
    {
      "cell_type": "markdown",
      "source": [
        "The most common words are punctuations and preprosition or determinant like 'i','the','to','my','it'. Those words are stopwords."
      ],
      "metadata": {
        "id": "SrXASrmXuoHG"
      }
    },
    {
      "cell_type": "markdown",
      "source": [
        "## Part 2: Bag of Words (BoW) Features\n",
        "\n",
        "We will now see how a sentence can be transformed into a feature vector using a bag of words model. Consider the following sentences:"
      ],
      "metadata": {
        "id": "IgrUwXz84Bzc"
      }
    },
    {
      "cell_type": "code",
      "source": [
        "sentences = [\n",
        "  'This is the first document.',\n",
        "  'This document is the second document.',\n",
        "  'And this is the third one.',\n",
        "  'Is this the first document?'\n",
        "]"
      ],
      "metadata": {
        "id": "QCCY9c-v4D8c"
      },
      "execution_count": 18,
      "outputs": []
    },
    {
      "cell_type": "markdown",
      "source": [
        "We can represent each word as a **one-hot** encoded vector (with a single 1 in the column for that word), and add their vectors together to get the feature vector for a sentence.\n",
        "\n",
        "**Questions:**"
      ],
      "metadata": {
        "id": "cmwiQbwX4K3d"
      }
    },
    {
      "cell_type": "markdown",
      "source": [
        "6. Use CountVectorizer from scikit-learn to get an array of one-hot encoded vectors for the sentences in `sentences`. What do the rows and columns of the feature matrix X represent?\n"
      ],
      "metadata": {
        "id": "cJcnHkxk4QCJ"
      }
    },
    {
      "cell_type": "code",
      "source": [
        "from sklearn.feature_extraction.text import CountVectorizer\n",
        "vec = CountVectorizer().fit(sentences)\n",
        "X = vec.transform(sentences)"
      ],
      "metadata": {
        "id": "PofharJFvzM2"
      },
      "execution_count": 19,
      "outputs": []
    },
    {
      "cell_type": "code",
      "source": [
        "X"
      ],
      "metadata": {
        "id": "aHShhKzPwoSt",
        "outputId": "21720a43-dea3-4152-dc8e-3ca600834e2d",
        "colab": {
          "base_uri": "https://localhost:8080/"
        }
      },
      "execution_count": 20,
      "outputs": [
        {
          "output_type": "execute_result",
          "data": {
            "text/plain": [
              "<4x9 sparse matrix of type '<class 'numpy.int64'>'\n",
              "\twith 21 stored elements in Compressed Sparse Row format>"
            ]
          },
          "metadata": {},
          "execution_count": 20
        }
      ]
    },
    {
      "cell_type": "markdown",
      "source": [
        "Each row corresponds to a sentence of sentences and each column corresponds to a unique word contained in sentences."
      ],
      "metadata": {
        "id": "OQGFZk9wwOG2"
      }
    },
    {
      "cell_type": "markdown",
      "source": [
        "7. What word does the second column of X represent? What about the third column? (If you are stuck, look at `vectorizer.get_feature_names_out()`)\n"
      ],
      "metadata": {
        "id": "i2cgfJzu4YnN"
      }
    },
    {
      "cell_type": "code",
      "source": [
        "vec.get_feature_names_out()"
      ],
      "metadata": {
        "id": "dKu_uaF3wghk",
        "outputId": "923a29c5-f17c-4d38-d019-ee59c78d0b56",
        "colab": {
          "base_uri": "https://localhost:8080/"
        }
      },
      "execution_count": 21,
      "outputs": [
        {
          "output_type": "execute_result",
          "data": {
            "text/plain": [
              "array(['and', 'document', 'first', 'is', 'one', 'second', 'the', 'third',\n",
              "       'this'], dtype=object)"
            ]
          },
          "metadata": {},
          "execution_count": 21
        }
      ]
    },
    {
      "cell_type": "markdown",
      "source": [
        "The second column of X represent the word 'document'."
      ],
      "metadata": {
        "id": "Z2uL1Kdowsjk"
      }
    },
    {
      "cell_type": "markdown",
      "source": [
        "8. Try using TfidfVectorizer instead of CountVectorizer, and explain why some values of X become smaller than others."
      ],
      "metadata": {
        "id": "iHt_uU9g4aBu"
      }
    },
    {
      "cell_type": "code",
      "source": [
        "from sklearn.feature_extraction.text import TfidfVectorizer\n",
        "vectorizer = TfidfVectorizer()\n",
        "X_tfidf = vectorizer.fit_transform(sentences)"
      ],
      "metadata": {
        "id": "gDSwz0Mnwx_x"
      },
      "execution_count": 22,
      "outputs": []
    },
    {
      "cell_type": "code",
      "source": [
        "X_tfidf"
      ],
      "metadata": {
        "id": "MjeQCr0sxJ_E",
        "outputId": "6be44a4a-9b71-485a-d359-7992052cd069",
        "colab": {
          "base_uri": "https://localhost:8080/"
        }
      },
      "execution_count": 23,
      "outputs": [
        {
          "output_type": "execute_result",
          "data": {
            "text/plain": [
              "<4x9 sparse matrix of type '<class 'numpy.float64'>'\n",
              "\twith 21 stored elements in Compressed Sparse Row format>"
            ]
          },
          "metadata": {},
          "execution_count": 23
        }
      ]
    },
    {
      "cell_type": "code",
      "source": [
        "for elem in X_tfidf:\n",
        "  print(elem)"
      ],
      "metadata": {
        "id": "kiK_1oArxBr_",
        "outputId": "615dea86-c447-4457-ac65-c4e4e743e8cf",
        "colab": {
          "base_uri": "https://localhost:8080/"
        }
      },
      "execution_count": 24,
      "outputs": [
        {
          "output_type": "stream",
          "name": "stdout",
          "text": [
            "  (0, 1)\t0.46979138557992045\n",
            "  (0, 2)\t0.5802858236844359\n",
            "  (0, 6)\t0.38408524091481483\n",
            "  (0, 3)\t0.38408524091481483\n",
            "  (0, 8)\t0.38408524091481483\n",
            "  (0, 5)\t0.5386476208856763\n",
            "  (0, 1)\t0.6876235979836938\n",
            "  (0, 6)\t0.281088674033753\n",
            "  (0, 3)\t0.281088674033753\n",
            "  (0, 8)\t0.281088674033753\n",
            "  (0, 4)\t0.511848512707169\n",
            "  (0, 7)\t0.511848512707169\n",
            "  (0, 0)\t0.511848512707169\n",
            "  (0, 6)\t0.267103787642168\n",
            "  (0, 3)\t0.267103787642168\n",
            "  (0, 8)\t0.267103787642168\n",
            "  (0, 1)\t0.46979138557992045\n",
            "  (0, 2)\t0.5802858236844359\n",
            "  (0, 6)\t0.38408524091481483\n",
            "  (0, 3)\t0.38408524091481483\n",
            "  (0, 8)\t0.38408524091481483\n"
          ]
        }
      ]
    },
    {
      "cell_type": "markdown",
      "source": [
        "Values depend on the occurences of the word in a specific tweet and the occurences of this word in all the tweets. So if a word appears many time in a document it will have a higher value than this same word that appear less time in another document."
      ],
      "metadata": {
        "id": "qiVYFY9zxOcB"
      }
    },
    {
      "cell_type": "markdown",
      "source": [
        "**Note:** You might have noticed that there is a single feature for \"this\" (no separate one for uppercase \"This\"). Sklearn's CountVectorizer has default parameter `lowercase=True`; see [the documentation](https://scikit-learn.org/stable/modules/generated/sklearn.feature_extraction.text.CountVectorizer.html) for more information."
      ],
      "metadata": {
        "id": "dCi0GLRJ5iiA"
      }
    },
    {
      "cell_type": "markdown",
      "source": [
        "## Part 3: Feature Engineering and Modeling\n",
        "\n",
        "**Questions:**"
      ],
      "metadata": {
        "id": "UXkH0kCs5UaG"
      }
    },
    {
      "cell_type": "markdown",
      "source": [
        "9. Using `CountVectorizer`, convert the tweets in our dataset into feature matrices `X_train` and `X_test`. Use the following instructions:\n",
        "* Use the parameters `max_features=` and `ngram_range=` so that there are 10,000 features used (the most common ngrams) and so that the model uses unigrams, bigrams, and trigrams (i.e. one to three words).\n",
        "* Make sure to only fit the vectorizer on the train data.\n",
        "\n",
        "Also, simply use the `sentiment` column as-is for `y_train` and `y_test`."
      ],
      "metadata": {
        "id": "KK-r3xwX5aVU"
      }
    },
    {
      "cell_type": "markdown",
      "source": [
        "10. We will use a Logistic regression model for classification because it is efficient and gives us interpretable results. Use Sklearn's `LogisticRegression` with default parameters. Fit on your training data (should take about 15 seconds) and predict on your test data."
      ],
      "metadata": {
        "id": "yafN7JOH6qIO"
      }
    },
    {
      "cell_type": "markdown",
      "source": [
        "11. Did your classifier use regularization? Why is or isn't this important in our use case? (Hint: See the sklearn documentation for logistic regression.)"
      ],
      "metadata": {
        "id": "ZlPEOvSi7OW3"
      }
    },
    {
      "cell_type": "markdown",
      "source": [
        "12. Display your model's metrics on this multiclass problem. Is the performance better than the majority class baseline? Explain your results."
      ],
      "metadata": {
        "id": "dmqCJJUS7dCO"
      }
    },
    {
      "cell_type": "markdown",
      "source": [
        "13. Print out the five features with highest importances for your classifier to classify each sentiment class. Make sure to print out the names of the features. **Hint:**  You may want to use `vectorizer.vocabulary_`, `clf.classes_`, and `clf.coef_`."
      ],
      "metadata": {
        "id": "TXCepK_o7xLK"
      }
    },
    {
      "cell_type": "markdown",
      "source": [
        "14. Do your results make sense? Does it look like bigrams or trigrams are important for your classifier."
      ],
      "metadata": {
        "id": "qTuTZfNi8Ril"
      }
    },
    {
      "cell_type": "code",
      "source": [
        "#9.\n",
        "vec_tweet = CountVectorizer(max_features = 10000, ngram_range = (1,3)).fit(X_train.content)\n",
        "X_train = vec_tweet.transform(X_train.content)\n",
        "X_test = vec_tweet.transform(X_test.content)"
      ],
      "metadata": {
        "id": "1-LkSlMVyESN"
      },
      "execution_count": 25,
      "outputs": []
    },
    {
      "cell_type": "code",
      "source": [
        "#10.\n",
        "from sklearn.linear_model import LogisticRegression\n",
        "lr = LogisticRegression()\n",
        "lr.fit(X_train, y_train)\n",
        "y_pred = lr.predict(X_test)"
      ],
      "metadata": {
        "id": "PTLJKSVnzUA_",
        "outputId": "764fb466-1d63-4632-d8a5-5f4bea610596",
        "colab": {
          "base_uri": "https://localhost:8080/"
        }
      },
      "execution_count": 26,
      "outputs": [
        {
          "output_type": "stream",
          "name": "stderr",
          "text": [
            "/usr/local/lib/python3.10/dist-packages/sklearn/linear_model/_logistic.py:458: ConvergenceWarning: lbfgs failed to converge (status=1):\n",
            "STOP: TOTAL NO. of ITERATIONS REACHED LIMIT.\n",
            "\n",
            "Increase the number of iterations (max_iter) or scale the data as shown in:\n",
            "    https://scikit-learn.org/stable/modules/preprocessing.html\n",
            "Please also refer to the documentation for alternative solver options:\n",
            "    https://scikit-learn.org/stable/modules/linear_model.html#logistic-regression\n",
            "  n_iter_i = _check_optimize_result(\n"
          ]
        }
      ]
    },
    {
      "cell_type": "markdown",
      "source": [
        "11. As we have many features that can be very correlated (for ex bigrams or trigrams with the words it contains), the use of regularization is very important to get more robust result and reduce the correlation between features."
      ],
      "metadata": {
        "id": "rpk3gK7r0BRm"
      }
    },
    {
      "cell_type": "code",
      "source": [
        "#12.\n",
        "from sklearn.metrics import classification_report,confusion_matrix\n",
        "print(classification_report(y_test,y_pred))"
      ],
      "metadata": {
        "id": "xSvq9r6Ez7x2",
        "outputId": "6acb237a-5c76-4846-b850-a8461d8ea079",
        "colab": {
          "base_uri": "https://localhost:8080/"
        }
      },
      "execution_count": 27,
      "outputs": [
        {
          "output_type": "stream",
          "name": "stdout",
          "text": [
            "              precision    recall  f1-score   support\n",
            "\n",
            "       anger       0.00      0.00      0.00        11\n",
            "     boredom       0.00      0.00      0.00        18\n",
            "       empty       0.08      0.02      0.04        83\n",
            "  enthusiasm       0.00      0.00      0.00        76\n",
            "         fun       0.23      0.13      0.17       178\n",
            "   happiness       0.38      0.47      0.42       521\n",
            "        hate       0.35      0.17      0.23       132\n",
            "        love       0.44      0.41      0.43       384\n",
            "      relief       0.18      0.10      0.13       153\n",
            "     sadness       0.34      0.34      0.34       516\n",
            "    surprise       0.14      0.09      0.11       219\n",
            "       worry       0.39      0.54      0.45       846\n",
            "\n",
            "    accuracy                           0.36      3137\n",
            "   macro avg       0.21      0.19      0.19      3137\n",
            "weighted avg       0.33      0.36      0.33      3137\n",
            "\n"
          ]
        },
        {
          "output_type": "stream",
          "name": "stderr",
          "text": [
            "/usr/local/lib/python3.10/dist-packages/sklearn/metrics/_classification.py:1344: UndefinedMetricWarning: Precision and F-score are ill-defined and being set to 0.0 in labels with no predicted samples. Use `zero_division` parameter to control this behavior.\n",
            "  _warn_prf(average, modifier, msg_start, len(result))\n",
            "/usr/local/lib/python3.10/dist-packages/sklearn/metrics/_classification.py:1344: UndefinedMetricWarning: Precision and F-score are ill-defined and being set to 0.0 in labels with no predicted samples. Use `zero_division` parameter to control this behavior.\n",
            "  _warn_prf(average, modifier, msg_start, len(result))\n",
            "/usr/local/lib/python3.10/dist-packages/sklearn/metrics/_classification.py:1344: UndefinedMetricWarning: Precision and F-score are ill-defined and being set to 0.0 in labels with no predicted samples. Use `zero_division` parameter to control this behavior.\n",
            "  _warn_prf(average, modifier, msg_start, len(result))\n"
          ]
        }
      ]
    },
    {
      "cell_type": "code",
      "source": [
        "print(confusion_matrix(y_test,y_pred))"
      ],
      "metadata": {
        "id": "Wwx_w-nc1w16",
        "outputId": "b0210a35-2c46-4b53-8264-111b17e878cd",
        "colab": {
          "base_uri": "https://localhost:8080/"
        }
      },
      "execution_count": 28,
      "outputs": [
        {
          "output_type": "stream",
          "name": "stdout",
          "text": [
            "[[  0   0   0   0   0   1   0   0   0   1   2   7]\n",
            " [  0   0   2   2   0   0   2   0   0   4   1   7]\n",
            " [  0   1   2   0   1  15   1   4   0  13   4  42]\n",
            " [  0   1   0   0   4  21   3   3   2  13   4  25]\n",
            " [  0   0   1   1  24  58   1  25   5  18  10  35]\n",
            " [  0   0   3   3  20 246   1  74  20  32  19 103]\n",
            " [  0   0   2   1   3   5  22   3   1  26   7  62]\n",
            " [  0   0   2   3  13  95   2 159  12  23   6  69]\n",
            " [  0   0   3   1   5  43   1  12  16  14   7  51]\n",
            " [  0   0   3   1  12  34  14  19   8 177  18 230]\n",
            " [  0   0   2   0   4  48   1  20   8  27  19  90]\n",
            " [  0   0   4   6  18  78  14  44  17 167  42 456]]\n"
          ]
        }
      ]
    },
    {
      "cell_type": "markdown",
      "source": [
        "We get an accuracy of 0.33, which is higher than the baseline model."
      ],
      "metadata": {
        "id": "UjUPxQQF1OF-"
      }
    },
    {
      "cell_type": "markdown",
      "source": [
        "We are not able to detect the smaller classes like 'anger','empty','enthusiam'.\n",
        "We predicted many samples as 'worry','surprise','sadness','love'."
      ],
      "metadata": {
        "id": "Hq6wW--R1YbH"
      }
    },
    {
      "cell_type": "code",
      "source": [
        "#13.\n",
        "lr_classes = lr.classes_\n",
        "lr_coef = lr.coef_\n",
        "features = vec_tweet.get_feature_names_out()\n",
        "for index,label in enumerate(lr_classes):\n",
        "  topindex = np.argsort(lr.coef_[index])[::-1][:5]\n",
        "  print(f\"Label : {label}\")\n",
        "  print(f'Most important features : {features[topindex]} \\n')"
      ],
      "metadata": {
        "id": "nWSRJ_Ol1INi",
        "outputId": "f6e243bc-bca9-41b2-a092-9c837bcff563",
        "colab": {
          "base_uri": "https://localhost:8080/"
        }
      },
      "execution_count": 29,
      "outputs": [
        {
          "output_type": "stream",
          "name": "stdout",
          "text": [
            "Label : anger\n",
            "Most important features : ['everything' 'bout' 'ass' 'big' 'knows'] \n",
            "\n",
            "Label : boredom\n",
            "Most important features : ['bored' 'minutes' 'boring' 'math' 'stuck'] \n",
            "\n",
            "Label : empty\n",
            "Most important features : ['bored' 'tip' 'vista' 'im not' 'lights'] \n",
            "\n",
            "Label : enthusiasm\n",
            "Most important features : ['drank' 'it and' 'leave for' 'everyone is' 'cook'] \n",
            "\n",
            "Label : fun\n",
            "Most important features : ['funny' 'fun' 'fans' 'sky' 'ellen'] \n",
            "\n",
            "Label : happiness\n",
            "Most important features : ['laughed' 'woohoo' 'can wait' 'paris' 'excellent'] \n",
            "\n",
            "Label : hate\n",
            "Most important features : ['hate' 'hates' 'stupid' 'sucks' 'rubbish'] \n",
            "\n",
            "Label : love\n",
            "Most important features : ['loving' 'love' 'loved' 'lovely' 'sweetie'] \n",
            "\n",
            "Label : relief\n",
            "Most important features : ['finally' 'at last' 'fine' 'relaxing' 'made it'] \n",
            "\n",
            "Label : sadness\n",
            "Most important features : ['sad' 'sadly' 'disappointed' 'cried' 'missing'] \n",
            "\n",
            "Label : surprise\n",
            "Most important features : ['surprise' 'surprisingly' 'surprised' 'you want to' 'wow'] \n",
            "\n",
            "Label : worry\n",
            "Most important features : ['worried' 'is watching' 'brought' 'not good' 'be up'] \n",
            "\n"
          ]
        }
      ]
    },
    {
      "cell_type": "markdown",
      "source": [
        "14. For most of the labels it makes sense. However for the label 'anger' and 'empty', the related features does not seem very correlated to the label.\n",
        "We have a few bigrams but no trigrams in our most important features so it makes sense to take bigrams into consideration."
      ],
      "metadata": {
        "id": "cv9dVikc9Fot"
      }
    }
  ]
}