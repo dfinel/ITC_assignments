{
  "nbformat": 4,
  "nbformat_minor": 0,
  "metadata": {
    "colab": {
      "provenance": []
    },
    "kernelspec": {
      "name": "python3",
      "display_name": "Python 3"
    },
    "language_info": {
      "name": "python"
    },
    "gpuClass": "standard",
    "accelerator": "GPU",
    "widgets": {
      "application/vnd.jupyter.widget-state+json": {
        "aa3202b97724468382a1bfd48e6fd349": {
          "model_module": "@jupyter-widgets/controls",
          "model_name": "HBoxModel",
          "model_module_version": "1.5.0",
          "state": {
            "_dom_classes": [],
            "_model_module": "@jupyter-widgets/controls",
            "_model_module_version": "1.5.0",
            "_model_name": "HBoxModel",
            "_view_count": null,
            "_view_module": "@jupyter-widgets/controls",
            "_view_module_version": "1.5.0",
            "_view_name": "HBoxView",
            "box_style": "",
            "children": [
              "IPY_MODEL_222a6e9d53884d3aa7218678a378c508",
              "IPY_MODEL_b6e2a6f28f4e4c52a4aba6aeffcca5d7",
              "IPY_MODEL_2b1c87eef28f413db9e0bdd6a1589fa5"
            ],
            "layout": "IPY_MODEL_5b21d7ea59624d6d9f620b9e9f3a7e54"
          }
        },
        "222a6e9d53884d3aa7218678a378c508": {
          "model_module": "@jupyter-widgets/controls",
          "model_name": "HTMLModel",
          "model_module_version": "1.5.0",
          "state": {
            "_dom_classes": [],
            "_model_module": "@jupyter-widgets/controls",
            "_model_module_version": "1.5.0",
            "_model_name": "HTMLModel",
            "_view_count": null,
            "_view_module": "@jupyter-widgets/controls",
            "_view_module_version": "1.5.0",
            "_view_name": "HTMLView",
            "description": "",
            "description_tooltip": null,
            "layout": "IPY_MODEL_cf8d776e91e445bb9874e731af1ea517",
            "placeholder": "​",
            "style": "IPY_MODEL_dbe7b1e4ddfa43fd90aac25b52802809",
            "value": "Map: 100%"
          }
        },
        "b6e2a6f28f4e4c52a4aba6aeffcca5d7": {
          "model_module": "@jupyter-widgets/controls",
          "model_name": "FloatProgressModel",
          "model_module_version": "1.5.0",
          "state": {
            "_dom_classes": [],
            "_model_module": "@jupyter-widgets/controls",
            "_model_module_version": "1.5.0",
            "_model_name": "FloatProgressModel",
            "_view_count": null,
            "_view_module": "@jupyter-widgets/controls",
            "_view_module_version": "1.5.0",
            "_view_name": "ProgressView",
            "bar_style": "success",
            "description": "",
            "description_tooltip": null,
            "layout": "IPY_MODEL_62c19750c01f428488fcb8d254a6a7c3",
            "max": 22225,
            "min": 0,
            "orientation": "horizontal",
            "style": "IPY_MODEL_b9380bb0e074462186b60f8852a98ca5",
            "value": 22225
          }
        },
        "2b1c87eef28f413db9e0bdd6a1589fa5": {
          "model_module": "@jupyter-widgets/controls",
          "model_name": "HTMLModel",
          "model_module_version": "1.5.0",
          "state": {
            "_dom_classes": [],
            "_model_module": "@jupyter-widgets/controls",
            "_model_module_version": "1.5.0",
            "_model_name": "HTMLModel",
            "_view_count": null,
            "_view_module": "@jupyter-widgets/controls",
            "_view_module_version": "1.5.0",
            "_view_name": "HTMLView",
            "description": "",
            "description_tooltip": null,
            "layout": "IPY_MODEL_1546ba411ea74987b4f9da2696663502",
            "placeholder": "​",
            "style": "IPY_MODEL_78c33a1993f34828bd8640733f5eabb6",
            "value": " 22225/22225 [00:06&lt;00:00, 2281.47 examples/s]"
          }
        },
        "5b21d7ea59624d6d9f620b9e9f3a7e54": {
          "model_module": "@jupyter-widgets/base",
          "model_name": "LayoutModel",
          "model_module_version": "1.2.0",
          "state": {
            "_model_module": "@jupyter-widgets/base",
            "_model_module_version": "1.2.0",
            "_model_name": "LayoutModel",
            "_view_count": null,
            "_view_module": "@jupyter-widgets/base",
            "_view_module_version": "1.2.0",
            "_view_name": "LayoutView",
            "align_content": null,
            "align_items": null,
            "align_self": null,
            "border": null,
            "bottom": null,
            "display": null,
            "flex": null,
            "flex_flow": null,
            "grid_area": null,
            "grid_auto_columns": null,
            "grid_auto_flow": null,
            "grid_auto_rows": null,
            "grid_column": null,
            "grid_gap": null,
            "grid_row": null,
            "grid_template_areas": null,
            "grid_template_columns": null,
            "grid_template_rows": null,
            "height": null,
            "justify_content": null,
            "justify_items": null,
            "left": null,
            "margin": null,
            "max_height": null,
            "max_width": null,
            "min_height": null,
            "min_width": null,
            "object_fit": null,
            "object_position": null,
            "order": null,
            "overflow": null,
            "overflow_x": null,
            "overflow_y": null,
            "padding": null,
            "right": null,
            "top": null,
            "visibility": null,
            "width": null
          }
        },
        "cf8d776e91e445bb9874e731af1ea517": {
          "model_module": "@jupyter-widgets/base",
          "model_name": "LayoutModel",
          "model_module_version": "1.2.0",
          "state": {
            "_model_module": "@jupyter-widgets/base",
            "_model_module_version": "1.2.0",
            "_model_name": "LayoutModel",
            "_view_count": null,
            "_view_module": "@jupyter-widgets/base",
            "_view_module_version": "1.2.0",
            "_view_name": "LayoutView",
            "align_content": null,
            "align_items": null,
            "align_self": null,
            "border": null,
            "bottom": null,
            "display": null,
            "flex": null,
            "flex_flow": null,
            "grid_area": null,
            "grid_auto_columns": null,
            "grid_auto_flow": null,
            "grid_auto_rows": null,
            "grid_column": null,
            "grid_gap": null,
            "grid_row": null,
            "grid_template_areas": null,
            "grid_template_columns": null,
            "grid_template_rows": null,
            "height": null,
            "justify_content": null,
            "justify_items": null,
            "left": null,
            "margin": null,
            "max_height": null,
            "max_width": null,
            "min_height": null,
            "min_width": null,
            "object_fit": null,
            "object_position": null,
            "order": null,
            "overflow": null,
            "overflow_x": null,
            "overflow_y": null,
            "padding": null,
            "right": null,
            "top": null,
            "visibility": null,
            "width": null
          }
        },
        "dbe7b1e4ddfa43fd90aac25b52802809": {
          "model_module": "@jupyter-widgets/controls",
          "model_name": "DescriptionStyleModel",
          "model_module_version": "1.5.0",
          "state": {
            "_model_module": "@jupyter-widgets/controls",
            "_model_module_version": "1.5.0",
            "_model_name": "DescriptionStyleModel",
            "_view_count": null,
            "_view_module": "@jupyter-widgets/base",
            "_view_module_version": "1.2.0",
            "_view_name": "StyleView",
            "description_width": ""
          }
        },
        "62c19750c01f428488fcb8d254a6a7c3": {
          "model_module": "@jupyter-widgets/base",
          "model_name": "LayoutModel",
          "model_module_version": "1.2.0",
          "state": {
            "_model_module": "@jupyter-widgets/base",
            "_model_module_version": "1.2.0",
            "_model_name": "LayoutModel",
            "_view_count": null,
            "_view_module": "@jupyter-widgets/base",
            "_view_module_version": "1.2.0",
            "_view_name": "LayoutView",
            "align_content": null,
            "align_items": null,
            "align_self": null,
            "border": null,
            "bottom": null,
            "display": null,
            "flex": null,
            "flex_flow": null,
            "grid_area": null,
            "grid_auto_columns": null,
            "grid_auto_flow": null,
            "grid_auto_rows": null,
            "grid_column": null,
            "grid_gap": null,
            "grid_row": null,
            "grid_template_areas": null,
            "grid_template_columns": null,
            "grid_template_rows": null,
            "height": null,
            "justify_content": null,
            "justify_items": null,
            "left": null,
            "margin": null,
            "max_height": null,
            "max_width": null,
            "min_height": null,
            "min_width": null,
            "object_fit": null,
            "object_position": null,
            "order": null,
            "overflow": null,
            "overflow_x": null,
            "overflow_y": null,
            "padding": null,
            "right": null,
            "top": null,
            "visibility": null,
            "width": null
          }
        },
        "b9380bb0e074462186b60f8852a98ca5": {
          "model_module": "@jupyter-widgets/controls",
          "model_name": "ProgressStyleModel",
          "model_module_version": "1.5.0",
          "state": {
            "_model_module": "@jupyter-widgets/controls",
            "_model_module_version": "1.5.0",
            "_model_name": "ProgressStyleModel",
            "_view_count": null,
            "_view_module": "@jupyter-widgets/base",
            "_view_module_version": "1.2.0",
            "_view_name": "StyleView",
            "bar_color": null,
            "description_width": ""
          }
        },
        "1546ba411ea74987b4f9da2696663502": {
          "model_module": "@jupyter-widgets/base",
          "model_name": "LayoutModel",
          "model_module_version": "1.2.0",
          "state": {
            "_model_module": "@jupyter-widgets/base",
            "_model_module_version": "1.2.0",
            "_model_name": "LayoutModel",
            "_view_count": null,
            "_view_module": "@jupyter-widgets/base",
            "_view_module_version": "1.2.0",
            "_view_name": "LayoutView",
            "align_content": null,
            "align_items": null,
            "align_self": null,
            "border": null,
            "bottom": null,
            "display": null,
            "flex": null,
            "flex_flow": null,
            "grid_area": null,
            "grid_auto_columns": null,
            "grid_auto_flow": null,
            "grid_auto_rows": null,
            "grid_column": null,
            "grid_gap": null,
            "grid_row": null,
            "grid_template_areas": null,
            "grid_template_columns": null,
            "grid_template_rows": null,
            "height": null,
            "justify_content": null,
            "justify_items": null,
            "left": null,
            "margin": null,
            "max_height": null,
            "max_width": null,
            "min_height": null,
            "min_width": null,
            "object_fit": null,
            "object_position": null,
            "order": null,
            "overflow": null,
            "overflow_x": null,
            "overflow_y": null,
            "padding": null,
            "right": null,
            "top": null,
            "visibility": null,
            "width": null
          }
        },
        "78c33a1993f34828bd8640733f5eabb6": {
          "model_module": "@jupyter-widgets/controls",
          "model_name": "DescriptionStyleModel",
          "model_module_version": "1.5.0",
          "state": {
            "_model_module": "@jupyter-widgets/controls",
            "_model_module_version": "1.5.0",
            "_model_name": "DescriptionStyleModel",
            "_view_count": null,
            "_view_module": "@jupyter-widgets/base",
            "_view_module_version": "1.2.0",
            "_view_name": "StyleView",
            "description_width": ""
          }
        },
        "1f7d8f2db289426d81367bdbbd50464a": {
          "model_module": "@jupyter-widgets/controls",
          "model_name": "HBoxModel",
          "model_module_version": "1.5.0",
          "state": {
            "_dom_classes": [],
            "_model_module": "@jupyter-widgets/controls",
            "_model_module_version": "1.5.0",
            "_model_name": "HBoxModel",
            "_view_count": null,
            "_view_module": "@jupyter-widgets/controls",
            "_view_module_version": "1.5.0",
            "_view_name": "HBoxView",
            "box_style": "",
            "children": [
              "IPY_MODEL_11cedd98cf9949dca1e8e7ab886f3446",
              "IPY_MODEL_9ae2bedb0ffc4e8f946bb3ec5a60e526",
              "IPY_MODEL_7db799944b854417adb742ed16f10462"
            ],
            "layout": "IPY_MODEL_5b402145c1464ab79c49eca7e9c267e5"
          }
        },
        "11cedd98cf9949dca1e8e7ab886f3446": {
          "model_module": "@jupyter-widgets/controls",
          "model_name": "HTMLModel",
          "model_module_version": "1.5.0",
          "state": {
            "_dom_classes": [],
            "_model_module": "@jupyter-widgets/controls",
            "_model_module_version": "1.5.0",
            "_model_name": "HTMLModel",
            "_view_count": null,
            "_view_module": "@jupyter-widgets/controls",
            "_view_module_version": "1.5.0",
            "_view_name": "HTMLView",
            "description": "",
            "description_tooltip": null,
            "layout": "IPY_MODEL_2b40570f97bf412e8219019143e0af75",
            "placeholder": "​",
            "style": "IPY_MODEL_86c39daa806f459bb964c2d75fb99739",
            "value": "Map: 100%"
          }
        },
        "9ae2bedb0ffc4e8f946bb3ec5a60e526": {
          "model_module": "@jupyter-widgets/controls",
          "model_name": "FloatProgressModel",
          "model_module_version": "1.5.0",
          "state": {
            "_dom_classes": [],
            "_model_module": "@jupyter-widgets/controls",
            "_model_module_version": "1.5.0",
            "_model_name": "FloatProgressModel",
            "_view_count": null,
            "_view_module": "@jupyter-widgets/controls",
            "_view_module_version": "1.5.0",
            "_view_name": "ProgressView",
            "bar_style": "success",
            "description": "",
            "description_tooltip": null,
            "layout": "IPY_MODEL_6e66ea8b273a4bdb94a8de2050c38ea9",
            "max": 22225,
            "min": 0,
            "orientation": "horizontal",
            "style": "IPY_MODEL_0a3cfce7743b40258f88dffe09872c81",
            "value": 22225
          }
        },
        "7db799944b854417adb742ed16f10462": {
          "model_module": "@jupyter-widgets/controls",
          "model_name": "HTMLModel",
          "model_module_version": "1.5.0",
          "state": {
            "_dom_classes": [],
            "_model_module": "@jupyter-widgets/controls",
            "_model_module_version": "1.5.0",
            "_model_name": "HTMLModel",
            "_view_count": null,
            "_view_module": "@jupyter-widgets/controls",
            "_view_module_version": "1.5.0",
            "_view_name": "HTMLView",
            "description": "",
            "description_tooltip": null,
            "layout": "IPY_MODEL_5ab4518cae7b493a9589c0de8dc18c85",
            "placeholder": "​",
            "style": "IPY_MODEL_91835733f1d94a7dac5ef424a0751d60",
            "value": " 22225/22225 [00:09&lt;00:00, 3162.11 examples/s]"
          }
        },
        "5b402145c1464ab79c49eca7e9c267e5": {
          "model_module": "@jupyter-widgets/base",
          "model_name": "LayoutModel",
          "model_module_version": "1.2.0",
          "state": {
            "_model_module": "@jupyter-widgets/base",
            "_model_module_version": "1.2.0",
            "_model_name": "LayoutModel",
            "_view_count": null,
            "_view_module": "@jupyter-widgets/base",
            "_view_module_version": "1.2.0",
            "_view_name": "LayoutView",
            "align_content": null,
            "align_items": null,
            "align_self": null,
            "border": null,
            "bottom": null,
            "display": null,
            "flex": null,
            "flex_flow": null,
            "grid_area": null,
            "grid_auto_columns": null,
            "grid_auto_flow": null,
            "grid_auto_rows": null,
            "grid_column": null,
            "grid_gap": null,
            "grid_row": null,
            "grid_template_areas": null,
            "grid_template_columns": null,
            "grid_template_rows": null,
            "height": null,
            "justify_content": null,
            "justify_items": null,
            "left": null,
            "margin": null,
            "max_height": null,
            "max_width": null,
            "min_height": null,
            "min_width": null,
            "object_fit": null,
            "object_position": null,
            "order": null,
            "overflow": null,
            "overflow_x": null,
            "overflow_y": null,
            "padding": null,
            "right": null,
            "top": null,
            "visibility": null,
            "width": null
          }
        },
        "2b40570f97bf412e8219019143e0af75": {
          "model_module": "@jupyter-widgets/base",
          "model_name": "LayoutModel",
          "model_module_version": "1.2.0",
          "state": {
            "_model_module": "@jupyter-widgets/base",
            "_model_module_version": "1.2.0",
            "_model_name": "LayoutModel",
            "_view_count": null,
            "_view_module": "@jupyter-widgets/base",
            "_view_module_version": "1.2.0",
            "_view_name": "LayoutView",
            "align_content": null,
            "align_items": null,
            "align_self": null,
            "border": null,
            "bottom": null,
            "display": null,
            "flex": null,
            "flex_flow": null,
            "grid_area": null,
            "grid_auto_columns": null,
            "grid_auto_flow": null,
            "grid_auto_rows": null,
            "grid_column": null,
            "grid_gap": null,
            "grid_row": null,
            "grid_template_areas": null,
            "grid_template_columns": null,
            "grid_template_rows": null,
            "height": null,
            "justify_content": null,
            "justify_items": null,
            "left": null,
            "margin": null,
            "max_height": null,
            "max_width": null,
            "min_height": null,
            "min_width": null,
            "object_fit": null,
            "object_position": null,
            "order": null,
            "overflow": null,
            "overflow_x": null,
            "overflow_y": null,
            "padding": null,
            "right": null,
            "top": null,
            "visibility": null,
            "width": null
          }
        },
        "86c39daa806f459bb964c2d75fb99739": {
          "model_module": "@jupyter-widgets/controls",
          "model_name": "DescriptionStyleModel",
          "model_module_version": "1.5.0",
          "state": {
            "_model_module": "@jupyter-widgets/controls",
            "_model_module_version": "1.5.0",
            "_model_name": "DescriptionStyleModel",
            "_view_count": null,
            "_view_module": "@jupyter-widgets/base",
            "_view_module_version": "1.2.0",
            "_view_name": "StyleView",
            "description_width": ""
          }
        },
        "6e66ea8b273a4bdb94a8de2050c38ea9": {
          "model_module": "@jupyter-widgets/base",
          "model_name": "LayoutModel",
          "model_module_version": "1.2.0",
          "state": {
            "_model_module": "@jupyter-widgets/base",
            "_model_module_version": "1.2.0",
            "_model_name": "LayoutModel",
            "_view_count": null,
            "_view_module": "@jupyter-widgets/base",
            "_view_module_version": "1.2.0",
            "_view_name": "LayoutView",
            "align_content": null,
            "align_items": null,
            "align_self": null,
            "border": null,
            "bottom": null,
            "display": null,
            "flex": null,
            "flex_flow": null,
            "grid_area": null,
            "grid_auto_columns": null,
            "grid_auto_flow": null,
            "grid_auto_rows": null,
            "grid_column": null,
            "grid_gap": null,
            "grid_row": null,
            "grid_template_areas": null,
            "grid_template_columns": null,
            "grid_template_rows": null,
            "height": null,
            "justify_content": null,
            "justify_items": null,
            "left": null,
            "margin": null,
            "max_height": null,
            "max_width": null,
            "min_height": null,
            "min_width": null,
            "object_fit": null,
            "object_position": null,
            "order": null,
            "overflow": null,
            "overflow_x": null,
            "overflow_y": null,
            "padding": null,
            "right": null,
            "top": null,
            "visibility": null,
            "width": null
          }
        },
        "0a3cfce7743b40258f88dffe09872c81": {
          "model_module": "@jupyter-widgets/controls",
          "model_name": "ProgressStyleModel",
          "model_module_version": "1.5.0",
          "state": {
            "_model_module": "@jupyter-widgets/controls",
            "_model_module_version": "1.5.0",
            "_model_name": "ProgressStyleModel",
            "_view_count": null,
            "_view_module": "@jupyter-widgets/base",
            "_view_module_version": "1.2.0",
            "_view_name": "StyleView",
            "bar_color": null,
            "description_width": ""
          }
        },
        "5ab4518cae7b493a9589c0de8dc18c85": {
          "model_module": "@jupyter-widgets/base",
          "model_name": "LayoutModel",
          "model_module_version": "1.2.0",
          "state": {
            "_model_module": "@jupyter-widgets/base",
            "_model_module_version": "1.2.0",
            "_model_name": "LayoutModel",
            "_view_count": null,
            "_view_module": "@jupyter-widgets/base",
            "_view_module_version": "1.2.0",
            "_view_name": "LayoutView",
            "align_content": null,
            "align_items": null,
            "align_self": null,
            "border": null,
            "bottom": null,
            "display": null,
            "flex": null,
            "flex_flow": null,
            "grid_area": null,
            "grid_auto_columns": null,
            "grid_auto_flow": null,
            "grid_auto_rows": null,
            "grid_column": null,
            "grid_gap": null,
            "grid_row": null,
            "grid_template_areas": null,
            "grid_template_columns": null,
            "grid_template_rows": null,
            "height": null,
            "justify_content": null,
            "justify_items": null,
            "left": null,
            "margin": null,
            "max_height": null,
            "max_width": null,
            "min_height": null,
            "min_width": null,
            "object_fit": null,
            "object_position": null,
            "order": null,
            "overflow": null,
            "overflow_x": null,
            "overflow_y": null,
            "padding": null,
            "right": null,
            "top": null,
            "visibility": null,
            "width": null
          }
        },
        "91835733f1d94a7dac5ef424a0751d60": {
          "model_module": "@jupyter-widgets/controls",
          "model_name": "DescriptionStyleModel",
          "model_module_version": "1.5.0",
          "state": {
            "_model_module": "@jupyter-widgets/controls",
            "_model_module_version": "1.5.0",
            "_model_name": "DescriptionStyleModel",
            "_view_count": null,
            "_view_module": "@jupyter-widgets/base",
            "_view_module_version": "1.2.0",
            "_view_name": "StyleView",
            "description_width": ""
          }
        }
      }
    }
  },
  "cells": [
    {
      "cell_type": "markdown",
      "source": [
        "# NLP Exercise 6: Magic The Gathering Cards\n",
        "\n",
        "In this exercise, we will file-tuned a transformer language model to create our own [Magic: The Gathering](https://en.wikipedia.org/wiki/Magic:_The_Gathering) (MTG) trading cards.\n",
        "\n",
        "MTG is a card game with special cards based on fantasy themes, like the following:"
      ],
      "metadata": {
        "id": "-GSndx29gkQu"
      }
    },
    {
      "cell_type": "markdown",
      "source": [
        "![Screen Shot 2022-06-24 at 14.46.05.png](data:image/png;base64,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)"
      ],
      "metadata": {
        "id": "uJx6SNXPhwPS"
      }
    },
    {
      "cell_type": "markdown",
      "source": [
        "We will fine-tune a neural network to **generate our own MTG trading cards** with the same style of text. In particular, we will focus on the following four textual elements on cards:\n",
        "* **Name**: At the top of the card (above: *Zimone, Quandrix Prodigy*)\n",
        "* **Type:** The line underneath the card's art (above: *Legendary Creature - Human Wizard*)\n",
        "* **Text:** The central text describing how the card is used in the game (above: the text with special symbols in the center of the card)\n",
        "* **Flavor text:** Text at the bottom of a card giving some plot information or personality to the card (above: *What are they complaining about? It's not like axiomatic leyline paratrigonometrics is hard.*)\n",
        "\n",
        "We will learn to generate these fields using data from the [MTGJSON](https://mtgjson.com/) project, which collects structured data about all MTG cards that have been published since the game was launched in 1993."
      ],
      "metadata": {
        "id": "bljjXBTMiUXZ"
      }
    },
    {
      "cell_type": "markdown",
      "source": [
        "# Part 1: Setup\n",
        "\n",
        "**Questions:**\n",
        "\n",
        "1. Make sure the following HuggingFace Python libraries are installed: `transformers`, `datasets`."
      ],
      "metadata": {
        "id": "FYbAC9CtkMhk"
      }
    },
    {
      "cell_type": "code",
      "source": [
        "! pip install transformers\n",
        "! pip install datasets"
      ],
      "metadata": {
        "id": "z6lAio-XSrS4",
        "outputId": "b03facaf-a46d-45f1-f27b-7038ba6fbb10",
        "colab": {
          "base_uri": "https://localhost:8080/"
        }
      },
      "execution_count": 1,
      "outputs": [
        {
          "output_type": "stream",
          "name": "stdout",
          "text": [
            "Requirement already satisfied: transformers in /usr/local/lib/python3.10/dist-packages (4.38.2)\n",
            "Requirement already satisfied: filelock in /usr/local/lib/python3.10/dist-packages (from transformers) (3.13.1)\n",
            "Requirement already satisfied: huggingface-hub<1.0,>=0.19.3 in /usr/local/lib/python3.10/dist-packages (from transformers) (0.20.3)\n",
            "Requirement already satisfied: numpy>=1.17 in /usr/local/lib/python3.10/dist-packages (from transformers) (1.25.2)\n",
            "Requirement already satisfied: packaging>=20.0 in /usr/local/lib/python3.10/dist-packages (from transformers) (24.0)\n",
            "Requirement already satisfied: pyyaml>=5.1 in /usr/local/lib/python3.10/dist-packages (from transformers) (6.0.1)\n",
            "Requirement already satisfied: regex!=2019.12.17 in /usr/local/lib/python3.10/dist-packages (from transformers) (2023.12.25)\n",
            "Requirement already satisfied: requests in /usr/local/lib/python3.10/dist-packages (from transformers) (2.31.0)\n",
            "Requirement already satisfied: tokenizers<0.19,>=0.14 in /usr/local/lib/python3.10/dist-packages (from transformers) (0.15.2)\n",
            "Requirement already satisfied: safetensors>=0.4.1 in /usr/local/lib/python3.10/dist-packages (from transformers) (0.4.2)\n",
            "Requirement already satisfied: tqdm>=4.27 in /usr/local/lib/python3.10/dist-packages (from transformers) (4.66.2)\n",
            "Requirement already satisfied: fsspec>=2023.5.0 in /usr/local/lib/python3.10/dist-packages (from huggingface-hub<1.0,>=0.19.3->transformers) (2023.6.0)\n",
            "Requirement already satisfied: typing-extensions>=3.7.4.3 in /usr/local/lib/python3.10/dist-packages (from huggingface-hub<1.0,>=0.19.3->transformers) (4.10.0)\n",
            "Requirement already satisfied: charset-normalizer<4,>=2 in /usr/local/lib/python3.10/dist-packages (from requests->transformers) (3.3.2)\n",
            "Requirement already satisfied: idna<4,>=2.5 in /usr/local/lib/python3.10/dist-packages (from requests->transformers) (3.6)\n",
            "Requirement already satisfied: urllib3<3,>=1.21.1 in /usr/local/lib/python3.10/dist-packages (from requests->transformers) (2.0.7)\n",
            "Requirement already satisfied: certifi>=2017.4.17 in /usr/local/lib/python3.10/dist-packages (from requests->transformers) (2024.2.2)\n",
            "Requirement already satisfied: datasets in /usr/local/lib/python3.10/dist-packages (2.18.0)\n",
            "Requirement already satisfied: filelock in /usr/local/lib/python3.10/dist-packages (from datasets) (3.13.1)\n",
            "Requirement already satisfied: numpy>=1.17 in /usr/local/lib/python3.10/dist-packages (from datasets) (1.25.2)\n",
            "Requirement already satisfied: pyarrow>=12.0.0 in /usr/local/lib/python3.10/dist-packages (from datasets) (14.0.2)\n",
            "Requirement already satisfied: pyarrow-hotfix in /usr/local/lib/python3.10/dist-packages (from datasets) (0.6)\n",
            "Requirement already satisfied: dill<0.3.9,>=0.3.0 in /usr/local/lib/python3.10/dist-packages (from datasets) (0.3.8)\n",
            "Requirement already satisfied: pandas in /usr/local/lib/python3.10/dist-packages (from datasets) (1.5.3)\n",
            "Requirement already satisfied: requests>=2.19.0 in /usr/local/lib/python3.10/dist-packages (from datasets) (2.31.0)\n",
            "Requirement already satisfied: tqdm>=4.62.1 in /usr/local/lib/python3.10/dist-packages (from datasets) (4.66.2)\n",
            "Requirement already satisfied: xxhash in /usr/local/lib/python3.10/dist-packages (from datasets) (3.4.1)\n",
            "Requirement already satisfied: multiprocess in /usr/local/lib/python3.10/dist-packages (from datasets) (0.70.16)\n",
            "Requirement already satisfied: fsspec[http]<=2024.2.0,>=2023.1.0 in /usr/local/lib/python3.10/dist-packages (from datasets) (2023.6.0)\n",
            "Requirement already satisfied: aiohttp in /usr/local/lib/python3.10/dist-packages (from datasets) (3.9.3)\n",
            "Requirement already satisfied: huggingface-hub>=0.19.4 in /usr/local/lib/python3.10/dist-packages (from datasets) (0.20.3)\n",
            "Requirement already satisfied: packaging in /usr/local/lib/python3.10/dist-packages (from datasets) (24.0)\n",
            "Requirement already satisfied: pyyaml>=5.1 in /usr/local/lib/python3.10/dist-packages (from datasets) (6.0.1)\n",
            "Requirement already satisfied: aiosignal>=1.1.2 in /usr/local/lib/python3.10/dist-packages (from aiohttp->datasets) (1.3.1)\n",
            "Requirement already satisfied: attrs>=17.3.0 in /usr/local/lib/python3.10/dist-packages (from aiohttp->datasets) (23.2.0)\n",
            "Requirement already satisfied: frozenlist>=1.1.1 in /usr/local/lib/python3.10/dist-packages (from aiohttp->datasets) (1.4.1)\n",
            "Requirement already satisfied: multidict<7.0,>=4.5 in /usr/local/lib/python3.10/dist-packages (from aiohttp->datasets) (6.0.5)\n",
            "Requirement already satisfied: yarl<2.0,>=1.0 in /usr/local/lib/python3.10/dist-packages (from aiohttp->datasets) (1.9.4)\n",
            "Requirement already satisfied: async-timeout<5.0,>=4.0 in /usr/local/lib/python3.10/dist-packages (from aiohttp->datasets) (4.0.3)\n",
            "Requirement already satisfied: typing-extensions>=3.7.4.3 in /usr/local/lib/python3.10/dist-packages (from huggingface-hub>=0.19.4->datasets) (4.10.0)\n",
            "Requirement already satisfied: charset-normalizer<4,>=2 in /usr/local/lib/python3.10/dist-packages (from requests>=2.19.0->datasets) (3.3.2)\n",
            "Requirement already satisfied: idna<4,>=2.5 in /usr/local/lib/python3.10/dist-packages (from requests>=2.19.0->datasets) (3.6)\n",
            "Requirement already satisfied: urllib3<3,>=1.21.1 in /usr/local/lib/python3.10/dist-packages (from requests>=2.19.0->datasets) (2.0.7)\n",
            "Requirement already satisfied: certifi>=2017.4.17 in /usr/local/lib/python3.10/dist-packages (from requests>=2.19.0->datasets) (2024.2.2)\n",
            "Requirement already satisfied: python-dateutil>=2.8.1 in /usr/local/lib/python3.10/dist-packages (from pandas->datasets) (2.8.2)\n",
            "Requirement already satisfied: pytz>=2020.1 in /usr/local/lib/python3.10/dist-packages (from pandas->datasets) (2023.4)\n",
            "Requirement already satisfied: six>=1.5 in /usr/local/lib/python3.10/dist-packages (from python-dateutil>=2.8.1->pandas->datasets) (1.16.0)\n"
          ]
        }
      ]
    },
    {
      "cell_type": "markdown",
      "source": [
        "2. Download the MTGJSON card dataset from the following link, and decompress the compressed archive (recommended to use `wget` and `tar xzfv`): https://mtgjson.com/api/v5/AllPrintingsCSVFiles.tar.gz"
      ],
      "metadata": {
        "id": "LIh8vG1OmEha"
      }
    },
    {
      "cell_type": "code",
      "source": [
        "! wget https://mtgjson.com/api/v5/AllPrintingsCSVFiles.tar.gz"
      ],
      "metadata": {
        "id": "oaFGS7swS1FD",
        "outputId": "4999b779-6fff-4d58-eff4-fcf4f07432e7",
        "colab": {
          "base_uri": "https://localhost:8080/"
        }
      },
      "execution_count": 2,
      "outputs": [
        {
          "output_type": "stream",
          "name": "stdout",
          "text": [
            "--2024-03-27 14:16:57--  https://mtgjson.com/api/v5/AllPrintingsCSVFiles.tar.gz\n",
            "Resolving mtgjson.com (mtgjson.com)... 188.114.97.0, 188.114.96.0, 2a06:98c1:3121::, ...\n",
            "Connecting to mtgjson.com (mtgjson.com)|188.114.97.0|:443... connected.\n",
            "HTTP request sent, awaiting response... 200 OK\n",
            "Length: 90622869 (86M) [application/octet-stream]\n",
            "Saving to: ‘AllPrintingsCSVFiles.tar.gz.2’\n",
            "\n",
            "AllPrintingsCSVFile 100%[===================>]  86.42M   141MB/s    in 0.6s    \n",
            "\n",
            "2024-03-27 14:16:57 (141 MB/s) - ‘AllPrintingsCSVFiles.tar.gz.2’ saved [90622869/90622869]\n",
            "\n"
          ]
        }
      ]
    },
    {
      "cell_type": "code",
      "source": [
        "! tar xzfv AllPrintingsCSVFiles.tar.gz"
      ],
      "metadata": {
        "id": "2mos7wUSTDwd",
        "outputId": "a42b80d7-9d87-45f4-9664-f1be3abb1245",
        "colab": {
          "base_uri": "https://localhost:8080/"
        }
      },
      "execution_count": 3,
      "outputs": [
        {
          "output_type": "stream",
          "name": "stdout",
          "text": [
            "AllPrintingsCSVFiles/\n",
            "AllPrintingsCSVFiles/cardPurchaseUrls.csv\n",
            "AllPrintingsCSVFiles/cardRulings.csv\n",
            "AllPrintingsCSVFiles/setTranslations.csv\n",
            "AllPrintingsCSVFiles/cardForeignData.csv\n",
            "AllPrintingsCSVFiles/cards.csv\n",
            "AllPrintingsCSVFiles/cardPrices.csv\n",
            "AllPrintingsCSVFiles/setBoosterSheets.csv\n",
            "AllPrintingsCSVFiles/tokens.csv\n",
            "AllPrintingsCSVFiles/tokenIdentifiers.csv\n",
            "AllPrintingsCSVFiles/meta.csv\n",
            "AllPrintingsCSVFiles/setBoosterContents.csv\n",
            "AllPrintingsCSVFiles/setBoosterContentWeights.csv\n",
            "AllPrintingsCSVFiles/cardLegalities.csv\n",
            "AllPrintingsCSVFiles/cardIdentifiers.csv\n",
            "AllPrintingsCSVFiles/setBoosterSheetCards.csv\n",
            "AllPrintingsCSVFiles/sets.csv\n"
          ]
        }
      ]
    },
    {
      "cell_type": "markdown",
      "source": [
        "3. Load the data in `cards.csv` into a Pandas DataFrame `df`. Use `usecols=` to include only the following columns: `name`, `type`, `text`, `flavorText`. Drop duplicate rows and rows with missing values, and display some sample rows. How many samples remain in the dataset? (should be a number between 15k-20k)"
      ],
      "metadata": {
        "id": "In9IAa3qmLwa"
      }
    },
    {
      "cell_type": "code",
      "source": [
        "import pandas as pd\n",
        "import numpy as np\n",
        "df = pd.read_csv('AllPrintingsCSVFiles/cards.csv', usecols = ['name','type','text','flavorText'])"
      ],
      "metadata": {
        "id": "SHiX0_r4TkpF"
      },
      "execution_count": 4,
      "outputs": []
    },
    {
      "cell_type": "code",
      "source": [
        "df.dropna(inplace = True)"
      ],
      "metadata": {
        "id": "uSL5vxp_UHLd"
      },
      "execution_count": 5,
      "outputs": []
    },
    {
      "cell_type": "code",
      "source": [
        "df.drop_duplicates(inplace = True)"
      ],
      "metadata": {
        "id": "aEclXSPoUN_1"
      },
      "execution_count": 6,
      "outputs": []
    },
    {
      "cell_type": "code",
      "source": [
        "df.shape"
      ],
      "metadata": {
        "id": "bnpzO04IUh5K",
        "outputId": "2e75688a-e8df-4637-df3e-3600ca6c3ca4",
        "colab": {
          "base_uri": "https://localhost:8080/"
        }
      },
      "execution_count": 7,
      "outputs": [
        {
          "output_type": "execute_result",
          "data": {
            "text/plain": [
              "(22225, 4)"
            ]
          },
          "metadata": {},
          "execution_count": 7
        }
      ]
    },
    {
      "cell_type": "markdown",
      "source": [
        "There is 22,225 samples left."
      ],
      "metadata": {
        "id": "6sO1AOJaUq_e"
      }
    },
    {
      "cell_type": "markdown",
      "source": [
        "4. Plot separate histograms of the lengths of each of the four textual fields, measured by number of words. What can you say about their distributions? Hint: `pd.Series.str.split().str.len()`"
      ],
      "metadata": {
        "id": "di0yILkxm1LM"
      }
    },
    {
      "cell_type": "code",
      "source": [
        "import matplotlib.pyplot as plt\n",
        "for col in df.columns:\n",
        "  plt.hist(df[col].str.split().str.len())\n",
        "  plt.title(f'distribution of {col}')\n",
        "  plt.show()"
      ],
      "metadata": {
        "id": "GgMUbX7NUtrS",
        "outputId": "dd96b62e-65b2-418a-bc1b-c63477e70aee",
        "colab": {
          "base_uri": "https://localhost:8080/",
          "height": 1000
        }
      },
      "execution_count": 8,
      "outputs": [
        {
          "output_type": "display_data",
          "data": {
            "text/plain": [
              "<Figure size 640x480 with 1 Axes>"
            ],
            "image/png": "[encoded data removed]"
          },
          "metadata": {}
        },
        {
          "output_type": "display_data",
          "data": {
            "text/plain": [
              "<Figure size 640x480 with 1 Axes>"
            ],
            "image/png": "[encoded data removed]"
          },
          "metadata": {}
        },
        {
          "output_type": "display_data",
          "data": {
            "text/plain": [
              "<Figure size 640x480 with 1 Axes>"
            ],
            "image/png": "[encoded data removed]"
          },
          "metadata": {}
        },
        {
          "output_type": "display_data",
          "data": {
            "text/plain": [
              "<Figure size 640x480 with 1 Axes>"
            ],
            "image/png": "[encoded data removed]"
          },
          "metadata": {}
        }
      ]
    },
    {
      "cell_type": "markdown",
      "source": [
        "We see that values on the features have more or less the same number of words."
      ],
      "metadata": {
        "id": "RSV9lQLfVyQ7"
      }
    },
    {
      "cell_type": "markdown",
      "source": [
        "5. Print out the contents of at least one card whose `text` field is short and one card whose text field is long."
      ],
      "metadata": {
        "id": "eKr0KuwCo2bU"
      }
    },
    {
      "cell_type": "code",
      "source": [
        "df[df.text.str.split().str.len() < 5].sample()"
      ],
      "metadata": {
        "id": "RolPx9L-WAkb",
        "outputId": "2ce24689-6115-4aeb-e2b4-ea39c72c01bf",
        "colab": {
          "base_uri": "https://localhost:8080/",
          "height": 81
        }
      },
      "execution_count": 9,
      "outputs": [
        {
          "output_type": "execute_result",
          "data": {
            "text/plain": [
              "                                              flavorText            name  \\\n",
              "27160  \"I wrote these tales with a quill made from a ...  Prized Griffin   \n",
              "\n",
              "         text                type  \n",
              "27160  Flying  Creature — Griffin  "
            ],
            "text/html": [
              "\n",
              "  <div id=\"df-363f4d54-d2d0-42c5-81fe-3d87aa1d849d\" class=\"colab-df-container\">\n",
              "    <div>\n",
              "<style scoped>\n",
              "    .dataframe tbody tr th:only-of-type {\n",
              "        vertical-align: middle;\n",
              "    }\n",
              "\n",
              "    .dataframe tbody tr th {\n",
              "        vertical-align: top;\n",
              "    }\n",
              "\n",
              "    .dataframe thead th {\n",
              "        text-align: right;\n",
              "    }\n",
              "</style>\n",
              "<table border=\"1\" class=\"dataframe\">\n",
              "  <thead>\n",
              "    <tr style=\"text-align: right;\">\n",
              "      <th></th>\n",
              "      <th>flavorText</th>\n",
              "      <th>name</th>\n",
              "      <th>text</th>\n",
              "      <th>type</th>\n",
              "    </tr>\n",
              "  </thead>\n",
              "  <tbody>\n",
              "    <tr>\n",
              "      <th>27160</th>\n",
              "      <td>\"I wrote these tales with a quill made from a ...</td>\n",
              "      <td>Prized Griffin</td>\n",
              "      <td>Flying</td>\n",
              "      <td>Creature — Griffin</td>\n",
              "    </tr>\n",
              "  </tbody>\n",
              "</table>\n",
              "</div>\n",
              "    <div class=\"colab-df-buttons\">\n",
              "\n",
              "  <div class=\"colab-df-container\">\n",
              "    <button class=\"colab-df-convert\" onclick=\"convertToInteractive('df-363f4d54-d2d0-42c5-81fe-3d87aa1d849d')\"\n",
              "            title=\"Convert this dataframe to an interactive table.\"\n",
              "            style=\"display:none;\">\n",
              "\n",
              "  <svg xmlns=\"http://www.w3.org/2000/svg\" height=\"24px\" viewBox=\"0 -960 960 960\">\n",
              "    <path d=\"M120-120v-720h720v720H120Zm60-500h600v-160H180v160Zm220 220h160v-160H400v160Zm0 220h160v-160H400v160ZM180-400h160v-160H180v160Zm440 0h160v-160H620v160ZM180-180h160v-160H180v160Zm440 0h160v-160H620v160Z\"/>\n",
              "  </svg>\n",
              "    </button>\n",
              "\n",
              "  <style>\n",
              "    .colab-df-container {\n",
              "      display:flex;\n",
              "      gap: 12px;\n",
              "    }\n",
              "\n",
              "    .colab-df-convert {\n",
              "      background-color: #E8F0FE;\n",
              "      border: none;\n",
              "      border-radius: 50%;\n",
              "      cursor: pointer;\n",
              "      display: none;\n",
              "      fill: #1967D2;\n",
              "      height: 32px;\n",
              "      padding: 0 0 0 0;\n",
              "      width: 32px;\n",
              "    }\n",
              "\n",
              "    .colab-df-convert:hover {\n",
              "      background-color: #E2EBFA;\n",
              "      box-shadow: 0px 1px 2px rgba(60, 64, 67, 0.3), 0px 1px 3px 1px rgba(60, 64, 67, 0.15);\n",
              "      fill: #174EA6;\n",
              "    }\n",
              "\n",
              "    .colab-df-buttons div {\n",
              "      margin-bottom: 4px;\n",
              "    }\n",
              "\n",
              "    [theme=dark] .colab-df-convert {\n",
              "      background-color: #3B4455;\n",
              "      fill: #D2E3FC;\n",
              "    }\n",
              "\n",
              "    [theme=dark] .colab-df-convert:hover {\n",
              "      background-color: #434B5C;\n",
              "      box-shadow: 0px 1px 3px 1px rgba(0, 0, 0, 0.15);\n",
              "      filter: drop-shadow(0px 1px 2px rgba(0, 0, 0, 0.3));\n",
              "      fill: #FFFFFF;\n",
              "    }\n",
              "  </style>\n",
              "\n",
              "    <script>\n",
              "      const buttonEl =\n",
              "        document.querySelector('#df-363f4d54-d2d0-42c5-81fe-3d87aa1d849d button.colab-df-convert');\n",
              "      buttonEl.style.display =\n",
              "        google.colab.kernel.accessAllowed ? 'block' : 'none';\n",
              "\n",
              "      async function convertToInteractive(key) {\n",
              "        const element = document.querySelector('#df-363f4d54-d2d0-42c5-81fe-3d87aa1d849d');\n",
              "        const dataTable =\n",
              "          await google.colab.kernel.invokeFunction('convertToInteractive',\n",
              "                                                    [key], {});\n",
              "        if (!dataTable) return;\n",
              "\n",
              "        const docLinkHtml = 'Like what you see? Visit the ' +\n",
              "          '<a target=\"_blank\" href=https://colab.research.google.com/notebooks/data_table.ipynb>data table notebook</a>'\n",
              "          + ' to learn more about interactive tables.';\n",
              "        element.innerHTML = '';\n",
              "        dataTable['output_type'] = 'display_data';\n",
              "        await google.colab.output.renderOutput(dataTable, element);\n",
              "        const docLink = document.createElement('div');\n",
              "        docLink.innerHTML = docLinkHtml;\n",
              "        element.appendChild(docLink);\n",
              "      }\n",
              "    </script>\n",
              "  </div>\n",
              "\n",
              "\n",
              "    </div>\n",
              "  </div>\n"
            ],
            "application/vnd.google.colaboratory.intrinsic+json": {
              "type": "dataframe",
              "summary": "{\n  \"name\": \"df[df\",\n  \"rows\": 1,\n  \"fields\": [\n    {\n      \"column\": \"flavorText\",\n      \"properties\": {\n        \"dtype\": \"string\",\n        \"num_unique_values\": 1,\n        \"samples\": [\n          \"\\\"I wrote these tales with a quill made from a griffin's feather. And the winning of that feather is quite a tale itself.\\\"\\\\n\\u2014Chulane, Teller of Tales\"\n        ],\n        \"semantic_type\": \"\",\n        \"description\": \"\"\n      }\n    },\n    {\n      \"column\": \"name\",\n      \"properties\": {\n        \"dtype\": \"string\",\n        \"num_unique_values\": 1,\n        \"samples\": [\n          \"Prized Griffin\"\n        ],\n        \"semantic_type\": \"\",\n        \"description\": \"\"\n      }\n    },\n    {\n      \"column\": \"text\",\n      \"properties\": {\n        \"dtype\": \"string\",\n        \"num_unique_values\": 1,\n        \"samples\": [\n          \"Flying\"\n        ],\n        \"semantic_type\": \"\",\n        \"description\": \"\"\n      }\n    },\n    {\n      \"column\": \"type\",\n      \"properties\": {\n        \"dtype\": \"string\",\n        \"num_unique_values\": 1,\n        \"samples\": [\n          \"Creature \\u2014 Griffin\"\n        ],\n        \"semantic_type\": \"\",\n        \"description\": \"\"\n      }\n    }\n  ]\n}"
            }
          },
          "metadata": {},
          "execution_count": 9
        }
      ]
    },
    {
      "cell_type": "code",
      "source": [
        "df[df.text.str.split().str.len() > 60].sample()"
      ],
      "metadata": {
        "id": "V0km4MO0WUot",
        "outputId": "b9c24dff-1f25-46bb-e88e-22e160d853c6",
        "colab": {
          "base_uri": "https://localhost:8080/",
          "height": 98
        }
      },
      "execution_count": 10,
      "outputs": [
        {
          "output_type": "execute_result",
          "data": {
            "text/plain": [
              "                                              flavorText  \\\n",
              "32313  \"We could feel the Shaman's power, as surely a...   \n",
              "\n",
              "                       name  \\\n",
              "32313  Illusionary Presence   \n",
              "\n",
              "                                                    text                 type  \n",
              "32313  Cumulative upkeep {U} (At the beginning of you...  Creature — Illusion  "
            ],
            "text/html": [
              "\n",
              "  <div id=\"df-2e9e24e2-9a11-4543-945c-e068eb6df809\" class=\"colab-df-container\">\n",
              "    <div>\n",
              "<style scoped>\n",
              "    .dataframe tbody tr th:only-of-type {\n",
              "        vertical-align: middle;\n",
              "    }\n",
              "\n",
              "    .dataframe tbody tr th {\n",
              "        vertical-align: top;\n",
              "    }\n",
              "\n",
              "    .dataframe thead th {\n",
              "        text-align: right;\n",
              "    }\n",
              "</style>\n",
              "<table border=\"1\" class=\"dataframe\">\n",
              "  <thead>\n",
              "    <tr style=\"text-align: right;\">\n",
              "      <th></th>\n",
              "      <th>flavorText</th>\n",
              "      <th>name</th>\n",
              "      <th>text</th>\n",
              "      <th>type</th>\n",
              "    </tr>\n",
              "  </thead>\n",
              "  <tbody>\n",
              "    <tr>\n",
              "      <th>32313</th>\n",
              "      <td>\"We could feel the Shaman's power, as surely a...</td>\n",
              "      <td>Illusionary Presence</td>\n",
              "      <td>Cumulative upkeep {U} (At the beginning of you...</td>\n",
              "      <td>Creature — Illusion</td>\n",
              "    </tr>\n",
              "  </tbody>\n",
              "</table>\n",
              "</div>\n",
              "    <div class=\"colab-df-buttons\">\n",
              "\n",
              "  <div class=\"colab-df-container\">\n",
              "    <button class=\"colab-df-convert\" onclick=\"convertToInteractive('df-2e9e24e2-9a11-4543-945c-e068eb6df809')\"\n",
              "            title=\"Convert this dataframe to an interactive table.\"\n",
              "            style=\"display:none;\">\n",
              "\n",
              "  <svg xmlns=\"http://www.w3.org/2000/svg\" height=\"24px\" viewBox=\"0 -960 960 960\">\n",
              "    <path d=\"M120-120v-720h720v720H120Zm60-500h600v-160H180v160Zm220 220h160v-160H400v160Zm0 220h160v-160H400v160ZM180-400h160v-160H180v160Zm440 0h160v-160H620v160ZM180-180h160v-160H180v160Zm440 0h160v-160H620v160Z\"/>\n",
              "  </svg>\n",
              "    </button>\n",
              "\n",
              "  <style>\n",
              "    .colab-df-container {\n",
              "      display:flex;\n",
              "      gap: 12px;\n",
              "    }\n",
              "\n",
              "    .colab-df-convert {\n",
              "      background-color: #E8F0FE;\n",
              "      border: none;\n",
              "      border-radius: 50%;\n",
              "      cursor: pointer;\n",
              "      display: none;\n",
              "      fill: #1967D2;\n",
              "      height: 32px;\n",
              "      padding: 0 0 0 0;\n",
              "      width: 32px;\n",
              "    }\n",
              "\n",
              "    .colab-df-convert:hover {\n",
              "      background-color: #E2EBFA;\n",
              "      box-shadow: 0px 1px 2px rgba(60, 64, 67, 0.3), 0px 1px 3px 1px rgba(60, 64, 67, 0.15);\n",
              "      fill: #174EA6;\n",
              "    }\n",
              "\n",
              "    .colab-df-buttons div {\n",
              "      margin-bottom: 4px;\n",
              "    }\n",
              "\n",
              "    [theme=dark] .colab-df-convert {\n",
              "      background-color: #3B4455;\n",
              "      fill: #D2E3FC;\n",
              "    }\n",
              "\n",
              "    [theme=dark] .colab-df-convert:hover {\n",
              "      background-color: #434B5C;\n",
              "      box-shadow: 0px 1px 3px 1px rgba(0, 0, 0, 0.15);\n",
              "      filter: drop-shadow(0px 1px 2px rgba(0, 0, 0, 0.3));\n",
              "      fill: #FFFFFF;\n",
              "    }\n",
              "  </style>\n",
              "\n",
              "    <script>\n",
              "      const buttonEl =\n",
              "        document.querySelector('#df-2e9e24e2-9a11-4543-945c-e068eb6df809 button.colab-df-convert');\n",
              "      buttonEl.style.display =\n",
              "        google.colab.kernel.accessAllowed ? 'block' : 'none';\n",
              "\n",
              "      async function convertToInteractive(key) {\n",
              "        const element = document.querySelector('#df-2e9e24e2-9a11-4543-945c-e068eb6df809');\n",
              "        const dataTable =\n",
              "          await google.colab.kernel.invokeFunction('convertToInteractive',\n",
              "                                                    [key], {});\n",
              "        if (!dataTable) return;\n",
              "\n",
              "        const docLinkHtml = 'Like what you see? Visit the ' +\n",
              "          '<a target=\"_blank\" href=https://colab.research.google.com/notebooks/data_table.ipynb>data table notebook</a>'\n",
              "          + ' to learn more about interactive tables.';\n",
              "        element.innerHTML = '';\n",
              "        dataTable['output_type'] = 'display_data';\n",
              "        await google.colab.output.renderOutput(dataTable, element);\n",
              "        const docLink = document.createElement('div');\n",
              "        docLink.innerHTML = docLinkHtml;\n",
              "        element.appendChild(docLink);\n",
              "      }\n",
              "    </script>\n",
              "  </div>\n",
              "\n",
              "\n",
              "    </div>\n",
              "  </div>\n"
            ],
            "application/vnd.google.colaboratory.intrinsic+json": {
              "type": "dataframe",
              "summary": "{\n  \"name\": \"df[df\",\n  \"rows\": 1,\n  \"fields\": [\n    {\n      \"column\": \"flavorText\",\n      \"properties\": {\n        \"dtype\": \"string\",\n        \"num_unique_values\": 1,\n        \"samples\": [\n          \"\\\"We could feel the Shaman's power, as surely as we felt the storm.\\\"\\\\n\\u2014Disa the Restless, journal entry\"\n        ],\n        \"semantic_type\": \"\",\n        \"description\": \"\"\n      }\n    },\n    {\n      \"column\": \"name\",\n      \"properties\": {\n        \"dtype\": \"string\",\n        \"num_unique_values\": 1,\n        \"samples\": [\n          \"Illusionary Presence\"\n        ],\n        \"semantic_type\": \"\",\n        \"description\": \"\"\n      }\n    },\n    {\n      \"column\": \"text\",\n      \"properties\": {\n        \"dtype\": \"string\",\n        \"num_unique_values\": 1,\n        \"samples\": [\n          \"Cumulative upkeep {U} (At the beginning of your upkeep, put an age counter on this permanent, then sacrifice it unless you pay its upkeep cost for each age counter on it.)\\\\nAt the beginning of your upkeep, choose a land type. Illusionary Presence gains landwalk of the chosen type until end of turn. (It can't be blocked as long as defending player controls a land of that type.)\"\n        ],\n        \"semantic_type\": \"\",\n        \"description\": \"\"\n      }\n    },\n    {\n      \"column\": \"type\",\n      \"properties\": {\n        \"dtype\": \"string\",\n        \"num_unique_values\": 1,\n        \"samples\": [\n          \"Creature \\u2014 Illusion\"\n        ],\n        \"semantic_type\": \"\",\n        \"description\": \"\"\n      }\n    }\n  ]\n}"
            }
          },
          "metadata": {},
          "execution_count": 10
        }
      ]
    },
    {
      "cell_type": "markdown",
      "source": [
        "# Part 2: Preprocessing"
      ],
      "metadata": {
        "id": "skfnr8yMqQjo"
      }
    },
    {
      "cell_type": "markdown",
      "source": [
        "**Questions:**\n",
        "6. It will be easier to manage generating one piece of text instead of four, so we will combine all four fields into a single string. Add a new column `card_data` to the DataFrame combining all four fields together as follows:\n",
        "  * `\"NAME: \"` followed by the card's name and newline `\\n`\n",
        "  * `\"TYPE: \"` followed by the card's type and newline `\\n`\n",
        "  * `\"TEXT: \"` followed by the card's main text and newline `\\n`\n",
        "  * `\"FLAVOR: \"` followed by the card's flavor text and newline `\\n`\n",
        "\n",
        "  Combine these together into one string by joining them together with newlines. For example, the card *Knotvine Mystic* will have the following multi-line string as its `card_data`:\n",
        "\n",
        "`NAME: Knotvine Mystic`\n",
        "\n",
        "`TYPE: Creature — Elf Druid`\n",
        "\n",
        "`TEXT: {1}, {T}: Add {R}{G}{W}.`\n",
        "\n",
        "`FLAVOR: The elves of Naya were the last to acknowledge the massive shift of mana in their world.`"
      ],
      "metadata": {
        "id": "t2SZ3jPounTf"
      }
    },
    {
      "cell_type": "code",
      "source": [
        "df['card_data'] = 'NAME: ' + df['name'] + '\\n' + \\\n",
        "                  'TYPE: ' + df['type'] + '\\n' + \\\n",
        "                  'TEXT: ' + df['text'] + '\\n' + \\\n",
        "                  'FLAVOR: ' + df['flavorText'] + '\\n'"
      ],
      "metadata": {
        "id": "XbpN66p-WenT"
      },
      "execution_count": 11,
      "outputs": []
    },
    {
      "cell_type": "markdown",
      "source": [
        "7. Print out the `card_data` for a few cards."
      ],
      "metadata": {
        "id": "ts_R2wVGwMXs"
      }
    },
    {
      "cell_type": "code",
      "source": [
        "print(df.card_data.iloc[0])"
      ],
      "metadata": {
        "id": "dUzSFlHLZ_mu",
        "outputId": "f2258380-1b98-4565-b270-bb0327e88d63",
        "colab": {
          "base_uri": "https://localhost:8080/"
        }
      },
      "execution_count": 12,
      "outputs": [
        {
          "output_type": "stream",
          "name": "stdout",
          "text": [
            "NAME: Ancestor's Chosen\n",
            "TYPE: Creature — Human Cleric\n",
            "TEXT: First strike (This creature deals combat damage before creatures without first strike.)\\nWhen Ancestor's Chosen enters the battlefield, you gain 1 life for each card in your graveyard.\n",
            "FLAVOR: \"The will of all, by my hand done.\"\n",
            "\n"
          ]
        }
      ]
    },
    {
      "cell_type": "code",
      "source": [
        "print(df.card_data.iloc[1])"
      ],
      "metadata": {
        "id": "m-jEijjJaFhk",
        "outputId": "e5b434f8-968e-4ffa-b890-a070db777954",
        "colab": {
          "base_uri": "https://localhost:8080/"
        }
      },
      "execution_count": 13,
      "outputs": [
        {
          "output_type": "stream",
          "name": "stdout",
          "text": [
            "NAME: Angel of Mercy\n",
            "TYPE: Creature — Angel\n",
            "TEXT: Flying\\nWhen Angel of Mercy enters the battlefield, you gain 3 life.\n",
            "FLAVOR: Every tear shed is a drop of immortality.\n",
            "\n"
          ]
        }
      ]
    },
    {
      "cell_type": "markdown",
      "source": [
        "8. We will need a tokenizer to continue preprocessing. Load the tokenizer for `distilgpt2` (a small GPT-2 variant) using `transformers.AutoTokenizer`."
      ],
      "metadata": {
        "id": "601VJPrdwuEK"
      }
    },
    {
      "cell_type": "code",
      "source": [
        "from transformers import AutoTokenizer\n",
        "tokenizer = AutoTokenizer.from_pretrained('distilgpt2')"
      ],
      "metadata": {
        "id": "tvH22YDFaPTv",
        "outputId": "e981cbaa-db5b-4d8b-c3f2-0b83d63caf84",
        "colab": {
          "base_uri": "https://localhost:8080/"
        }
      },
      "execution_count": 14,
      "outputs": [
        {
          "output_type": "stream",
          "name": "stderr",
          "text": [
            "/usr/local/lib/python3.10/dist-packages/huggingface_hub/utils/_token.py:88: UserWarning: \n",
            "The secret `HF_TOKEN` does not exist in your Colab secrets.\n",
            "To authenticate with the Hugging Face Hub, create a token in your settings tab (https://huggingface.co/settings/tokens), set it as secret in your Google Colab and restart your session.\n",
            "You will be able to reuse this secret in all of your notebooks.\n",
            "Please note that authentication is recommended but still optional to access public models or datasets.\n",
            "  warnings.warn(\n"
          ]
        }
      ]
    },
    {
      "cell_type": "markdown",
      "source": [
        "9. Check out the tokenizer vocabulary.\n",
        "- Explain what do you see in  `tokenizer.vocab` and `tokenizer.vocab_size`.\n",
        "- What is the min, max, mean and median length of a token text?  \n",
        "- Print out some of the shortest, median and longest tokens"
      ],
      "metadata": {
        "id": "gvU5LLYJxlcI"
      }
    },
    {
      "cell_type": "code",
      "source": [
        "tokenizer.vocab"
      ],
      "metadata": {
        "id": "ihsTMOvCakKw",
        "outputId": "1496b886-889b-4c92-9d3b-e85bda0ea80d",
        "colab": {
          "base_uri": "https://localhost:8080/"
        }
      },
      "execution_count": 15,
      "outputs": [
        {
          "output_type": "execute_result",
          "data": {
            "text/plain": [
              "{'Ġunthinkable': 39593,\n",
              " 'Ġà¤': 28225,\n",
              " 'Ġsubs': 6352,\n",
              " 'ĭ': 233,\n",
              " 'ĠNich': 12760,\n",
              " 'ĠJail': 25715,\n",
              " 'ĠLac': 23115,\n",
              " 'inous': 29823,\n",
              " 'ĠKT': 42293,\n",
              " 'sem': 43616,\n",
              " 'payers': 45773,\n",
              " 'Ġdots': 22969,\n",
              " 'Spl': 26568,\n",
              " 'ĠAdvent': 33732,\n",
              " 'Ġ95': 6957,\n",
              " 'irty': 5893,\n",
              " '================================================================': 23926,\n",
              " 'ĠThousand': 39255,\n",
              " 'ĠCreed': 24299,\n",
              " 'ĠGIF': 24984,\n",
              " 'ĠDPRK': 48363,\n",
              " 'rency': 5227,\n",
              " 'ĠHank': 24386,\n",
              " 'Ġexcept': 2845,\n",
              " 'Ġuseful': 4465,\n",
              " 'Ġrejects': 28317,\n",
              " 'ĠCollege': 5535,\n",
              " 'Ġprov': 899,\n",
              " 'boats': 46058,\n",
              " 'Ġalpha': 17130,\n",
              " 'Ġcharism': 25348,\n",
              " 'world': 6894,\n",
              " 'everal': 8438,\n",
              " 'Ġinventor': 33475,\n",
              " 'æ°': 36365,\n",
              " 'Ġsauces': 50134,\n",
              " 'Ġpand': 19798,\n",
              " 'ĠLakers': 19616,\n",
              " 'liga': 38910,\n",
              " 'oses': 4629,\n",
              " 'ĠBows': 31417,\n",
              " 'Ġlesions': 35258,\n",
              " 'Ġislands': 14807,\n",
              " 'struct': 7249,\n",
              " 'remlin': 17244,\n",
              " 'Ġhardware': 6890,\n",
              " 'dragon': 14844,\n",
              " 'Ġsheets': 15747,\n",
              " 'ihil': 20898,\n",
              " 'ĠForce': 5221,\n",
              " 'Ġrejected': 8606,\n",
              " 'ĠVehicles': 31365,\n",
              " 'Ġlinger': 31402,\n",
              " 'ĠVander': 26669,\n",
              " 'ĠBronx': 32486,\n",
              " 'ĠEater': 40366,\n",
              " 'Ġnations': 7027,\n",
              " 'Ġcircular': 18620,\n",
              " 'oud': 2778,\n",
              " 'Ġbrokerage': 48716,\n",
              " 'Ġalloc': 36836,\n",
              " 'Ġsponge': 40206,\n",
              " 'Ġwarmth': 23125,\n",
              " 'Reader': 33634,\n",
              " 'Ġrelease': 2650,\n",
              " 'ĠSTL': 37269,\n",
              " 'ĠIM': 8959,\n",
              " 'Ġintegrate': 19386,\n",
              " 'Ġshifts': 15381,\n",
              " 'assies': 46257,\n",
              " 'ĠSteel': 7851,\n",
              " 'ĠJinn': 48653,\n",
              " 'aun': 1942,\n",
              " 'Ġimmedi': 2729,\n",
              " 'Ġupdates': 5992,\n",
              " 'ĠAeg': 33821,\n",
              " 'Ġirritated': 38635,\n",
              " 'orm': 579,\n",
              " 'Ġrooting': 40105,\n",
              " 'âĸĴ': 40516,\n",
              " 'ĠOversight': 35968,\n",
              " 'tur': 36590,\n",
              " 'ĠPot': 6902,\n",
              " 'launch': 35681,\n",
              " 'ĠShots': 42162,\n",
              " 'ĠProvidence': 28319,\n",
              " 'clinical': 47367,\n",
              " 'cipl': 6671,\n",
              " 'Wal': 21902,\n",
              " 'Ġexpressions': 14700,\n",
              " 'Ð´': 43666,\n",
              " '>)': 43734,\n",
              " 'ĠAbortion': 46415,\n",
              " 'ĠDraper': 48575,\n",
              " 'ĠII': 2873,\n",
              " 'esides': 11788,\n",
              " 'Ġpleaded': 16407,\n",
              " 'Ġhoop': 44792,\n",
              " 'Ġdriver': 4639,\n",
              " 'ĠFerrari': 23502,\n",
              " 'Ġpromised': 8072,\n",
              " 'Coming': 30804,\n",
              " '²¾': 39333,\n",
              " 'Ġcertain': 1728,\n",
              " 'ĠFlake': 39727,\n",
              " 'ĠSieg': 42970,\n",
              " 'Ġuptick': 46347,\n",
              " 'Ġunorthodox': 49830,\n",
              " 'Ġbuilt': 3170,\n",
              " 'phal': 27451,\n",
              " 'conference': 41124,\n",
              " 'ĠBrah': 36415,\n",
              " 'Ġunob': 41511,\n",
              " 'Ġgains': 8810,\n",
              " 'Ġsovere': 11833,\n",
              " 'Ġapproximately': 6702,\n",
              " 'ĠØ': 17550,\n",
              " 'ĠSidd': 44487,\n",
              " 'ĠVol': 4709,\n",
              " 'Ġconquer': 23875,\n",
              " '366': 32459,\n",
              " 'Ġthose': 883,\n",
              " 'Ġpatent': 12701,\n",
              " 'Ġcreated': 2727,\n",
              " 'Ġrevive': 26046,\n",
              " 'iating': 26336,\n",
              " 'Ġtion': 34222,\n",
              " 'Constructed': 25207,\n",
              " 'Ġherbal': 35867,\n",
              " 'ently': 1473,\n",
              " 'Ġdiscord': 36446,\n",
              " 'Ġempires': 44982,\n",
              " 'ĠRoth': 16131,\n",
              " 'Ġdick': 19317,\n",
              " ')-': 13219,\n",
              " 'Ġcues': 25288,\n",
              " 'obl': 45292,\n",
              " 'ĠPlease': 4222,\n",
              " 'ĠEpisode': 7922,\n",
              " 'Ġhospitality': 33362,\n",
              " 'MAP': 33767,\n",
              " 'avid': 8490,\n",
              " 'ĠHonor': 21071,\n",
              " 'Ability': 22453,\n",
              " 'ĠChallenges': 44495,\n",
              " 'Ġreceipt': 14507,\n",
              " 'Ġevidenced': 30204,\n",
              " 'Ġcovert': 22624,\n",
              " 'Ġhormonal': 36956,\n",
              " 'ises': 2696,\n",
              " 'ĠSet': 5345,\n",
              " 'Ġdef': 825,\n",
              " 'Ġmention': 3068,\n",
              " 'ormal': 6636,\n",
              " 'Ġ):': 15179,\n",
              " 'ĠClarke': 19635,\n",
              " 'ĠSorce': 21477,\n",
              " 'doms': 23686,\n",
              " 'Ġdeaf': 21815,\n",
              " 'Ġpretended': 36766,\n",
              " 'Ġreviews': 8088,\n",
              " 'redits': 20696,\n",
              " 'ĠEn': 2039,\n",
              " 'EH': 42413,\n",
              " 'ĠGI': 30616,\n",
              " 'Â®': 7461,\n",
              " 'ĠEmpire': 8065,\n",
              " 'hd': 31298,\n",
              " 'Ġcollectively': 21329,\n",
              " 'ĠTokens': 47365,\n",
              " 'ibrarian': 35808,\n",
              " 'Ġgenius': 15632,\n",
              " 'ĵĺ': 23596,\n",
              " 'ĠTorrent': 43399,\n",
              " 'ĠTurning': 36143,\n",
              " 'Ġworkaround': 46513,\n",
              " 'Ġwidened': 36405,\n",
              " 'ĠBreast': 37476,\n",
              " 'Ġunderstands': 14759,\n",
              " 'IDs': 47954,\n",
              " 'Ġclut': 32170,\n",
              " 'Ġadults': 6490,\n",
              " 'Ġacademy': 21531,\n",
              " '([': 26933,\n",
              " 'ĠRogue': 16432,\n",
              " 'Ġfascinating': 13899,\n",
              " '151': 24309,\n",
              " 'Ġtreasure': 14068,\n",
              " 'Ġmoniker': 45237,\n",
              " 'ized': 1143,\n",
              " 'Cand': 41572,\n",
              " 'ka': 4914,\n",
              " 'ĠAlt': 12344,\n",
              " 'Ġassumed': 9672,\n",
              " 'Apparently': 30402,\n",
              " 'Ġpursuant': 12997,\n",
              " 'Ġroadside': 39479,\n",
              " 'Ġtestifying': 47952,\n",
              " 'ĠAmtrak': 49145,\n",
              " 'Known': 29870,\n",
              " 'Ġhun': 5494,\n",
              " 'crow': 47114,\n",
              " 'Ġadministrations': 34790,\n",
              " 'Ġinch': 11111,\n",
              " 'panic': 35843,\n",
              " 'Ġgenders': 38054,\n",
              " 'uda': 15339,\n",
              " 'ĠSebastian': 26190,\n",
              " 'Ġdisreg': 18795,\n",
              " 'ĠHolo': 49205,\n",
              " 'ced': 771,\n",
              " 'Upon': 23792,\n",
              " 'tenance': 8219,\n",
              " 'atellite': 26493,\n",
              " 'Ġ353': 47567,\n",
              " 'Ø§ÙĦ': 23525,\n",
              " 'ĠTactical': 26984,\n",
              " 'ĠNicarag': 33288,\n",
              " 'ĠGreece': 10315,\n",
              " 'ax': 897,\n",
              " 'Ġund': 3318,\n",
              " 'ĠSent': 11352,\n",
              " 'efficiency': 45888,\n",
              " 'Ġexits': 30151,\n",
              " 'Ġan': 281,\n",
              " 'Ġvegetarian': 24053,\n",
              " 'athetic': 18874,\n",
              " 'ĠManager': 9142,\n",
              " 'Ġfraud': 7394,\n",
              " '141': 23756,\n",
              " 'Ġadip': 31659,\n",
              " 'rek': 37818,\n",
              " 'Ġdivisive': 29656,\n",
              " 'Ġsubtly': 37847,\n",
              " 'Ġamidst': 31095,\n",
              " 'ĠACE': 40488,\n",
              " 'Ġfavourite': 12507,\n",
              " 'Ġ192': 17817,\n",
              " 'Ġrelics': 40970,\n",
              " 'ĠPwr': 49267,\n",
              " 'Ġbid': 8406,\n",
              " 'Ġformer': 1966,\n",
              " 'Ġdetrimental': 29417,\n",
              " 'ained': 1328,\n",
              " 'ĠReborn': 37612,\n",
              " 'inea': 18343,\n",
              " 'moil': 25538,\n",
              " 'ĠKis': 30519,\n",
              " 'ĠEmpty': 33523,\n",
              " 'Ġfacilitated': 35923,\n",
              " 'Ġhand': 1021,\n",
              " 'Ġfacial': 16324,\n",
              " 'ĠBIG': 26746,\n",
              " '(_': 28264,\n",
              " 'Ġmotivate': 35065,\n",
              " 'Ġcompleted': 5668,\n",
              " 'ĠCure': 36947,\n",
              " 'Ġimmersed': 37970,\n",
              " 'Jean': 38248,\n",
              " 'Adams': 47462,\n",
              " 'Naz': 37235,\n",
              " 'Ġrevered': 37184,\n",
              " 'Ġparallels': 30614,\n",
              " '014': 28645,\n",
              " 'Ġgracious': 43210,\n",
              " 'Ġsecession': 43314,\n",
              " 'efully': 7549,\n",
              " 'Ġgigantic': 24804,\n",
              " 'û': 183,\n",
              " 'ani': 3216,\n",
              " 'anted': 4126,\n",
              " 'Sup': 40784,\n",
              " 'again': 17776,\n",
              " 'ernels': 44930,\n",
              " 'Ġhealing': 11516,\n",
              " 'Ġinconvenient': 37513,\n",
              " '00000000': 8269,\n",
              " 'Ġpoured': 19036,\n",
              " 'ĠLund': 33609,\n",
              " 'neath': 13725,\n",
              " 'Ġgran': 19468,\n",
              " 'aldo': 41476,\n",
              " 'Ġblurry': 44701,\n",
              " 'oplan': 46853,\n",
              " 'Ġmeet': 1826,\n",
              " 'Ġdramas': 43972,\n",
              " '584': 46352,\n",
              " 'orders': 6361,\n",
              " 'Ġmines': 18446,\n",
              " 'Ġapples': 22514,\n",
              " 'Ġresponds': 20067,\n",
              " '580': 39322,\n",
              " 'ĠMin': 1855,\n",
              " 'ĠUbuntu': 14949,\n",
              " 'steps': 20214,\n",
              " 'ĠBeijing': 11618,\n",
              " 'ictions': 9278,\n",
              " 'Ġultrasound': 37721,\n",
              " 'Ġdestroyer': 41056,\n",
              " 'Ġlearners': 46184,\n",
              " 'Michelle': 48736,\n",
              " 'Ġcasual': 9341,\n",
              " 'Ġbiblical': 24726,\n",
              " 'Ġcups': 14180,\n",
              " 'Ġexper': 1121,\n",
              " 'Ġstro': 9660,\n",
              " 'Ġvaluation': 29115,\n",
              " 'ibal': 21342,\n",
              " 'ono': 29941,\n",
              " 'ĠChatt': 39444,\n",
              " 'Ġbrokers': 36139,\n",
              " 'Ġprotein': 7532,\n",
              " 'ĠAcceler': 29805,\n",
              " 'url': 6371,\n",
              " 'Ġprompted': 12053,\n",
              " ')),': 36911,\n",
              " 'Ġtable': 3084,\n",
              " 'ĠThursday': 3635,\n",
              " 'ra': 430,\n",
              " 'Send': 25206,\n",
              " 'appointed': 32924,\n",
              " 'item': 9186,\n",
              " 'fp': 46428,\n",
              " 'oming': 3383,\n",
              " 'Ġgrunt': 45836,\n",
              " 'ocobo': 37642,\n",
              " 'Ġtoilets': 32711,\n",
              " 'Ġneutron': 49810,\n",
              " 'ĠAre': 4231,\n",
              " 'IME': 12789,\n",
              " 'ãģĨ': 29557,\n",
              " 'Ġfaint': 18107,\n",
              " 'ĸļå£«': 33434,\n",
              " 'Ġencoded': 30240,\n",
              " 'ĠLoyal': 34986,\n",
              " 'Ġoptimize': 27183,\n",
              " 'ĠTexans': 21012,\n",
              " 'nature': 21353,\n",
              " 'ĠHomer': 28440,\n",
              " 'Ġseldom': 25129,\n",
              " 'wig': 28033,\n",
              " 'ĠProvider': 32549,\n",
              " 'near': 40093,\n",
              " 'ĠLF': 47629,\n",
              " 'ĠGleaming': 49339,\n",
              " 'ĠAustria': 17322,\n",
              " 'Ġhapp': 1147,\n",
              " 'Ġsubsequently': 12412,\n",
              " 'Ġciv': 36317,\n",
              " 'Maximum': 40541,\n",
              " 'iami': 7871,\n",
              " 'ĠOracle': 18650,\n",
              " 'ĠHaskell': 25271,\n",
              " 'ĠPort': 4347,\n",
              " 'Ġsubtract': 34128,\n",
              " 'ĠStaples': 44419,\n",
              " '472': 37856,\n",
              " 'Ġreceiver': 9733,\n",
              " 'Ġinteract': 9427,\n",
              " 'Ġmounting': 17260,\n",
              " 'sexual': 18338,\n",
              " 'bull': 16308,\n",
              " 'ĠGerman': 2679,\n",
              " ')</': 36475,\n",
              " 'ĠFuji': 43694,\n",
              " 'Ġconserve': 45075,\n",
              " 'Chicken': 45565,\n",
              " 'warning': 43917,\n",
              " 'ĠASC': 25400,\n",
              " 'ĠAfghan': 6539,\n",
              " 'ĠNag': 15196,\n",
              " 'rained': 13363,\n",
              " 'Ġbeside': 13970,\n",
              " 'ĠCellular': 50072,\n",
              " 'gc': 36484,\n",
              " 'Ġcompletion': 11939,\n",
              " 'ducers': 41213,\n",
              " 'Ġflipped': 26157,\n",
              " 'Ġmetab': 10523,\n",
              " 'Ġaddresses': 9405,\n",
              " 'Ġfatty': 19251,\n",
              " 'Ġcondu': 36118,\n",
              " 'awi': 23368,\n",
              " 'Ġhotter': 37546,\n",
              " 'Ġ444': 45095,\n",
              " '117': 17657,\n",
              " 'ĠBudget': 15401,\n",
              " '253': 28592,\n",
              " 'Ġhomage': 31044,\n",
              " 'Ġ1400': 36641,\n",
              " 'ĠBreat': 40285,\n",
              " 'Ġcompens': 7144,\n",
              " 'Ġskyrocket': 41483,\n",
              " 'ĠCorm': 43154,\n",
              " 'Ġva': 46935,\n",
              " 'leted': 33342,\n",
              " 'Ġmelancholy': 47886,\n",
              " 'Ġfi': 25912,\n",
              " 'Ġthroats': 49012,\n",
              " 'Ġgripping': 39931,\n",
              " 'Ġprobability': 12867,\n",
              " 'Ġuranium': 22010,\n",
              " 'Ġcorner': 5228,\n",
              " 'ĠMich': 2843,\n",
              " 'Ġproposition': 19168,\n",
              " 'Ġgoat': 26917,\n",
              " 'Ġpreparing': 10629,\n",
              " 'ĠValencia': 35773,\n",
              " 'Ġhex': 17910,\n",
              " 'Import': 20939,\n",
              " 'lems': 46367,\n",
              " 'atron': 23484,\n",
              " 'Ġfunctionally': 48410,\n",
              " 'ĠSavage': 22287,\n",
              " 'vern': 933,\n",
              " 'Ġpoorly': 13455,\n",
              " 'Ġtossed': 22591,\n",
              " 'network': 27349,\n",
              " 'ĠHodg': 37480,\n",
              " 'ĠTiffany': 40928,\n",
              " 'ā': 189,\n",
              " 'Ġdelicious': 12625,\n",
              " 'Ġimplies': 15565,\n",
              " 'Ġmilitant': 18614,\n",
              " 'Ġpatience': 16336,\n",
              " 'Ġstrongest': 12841,\n",
              " 'ĠVault': 23450,\n",
              " 'Ġminions': 22811,\n",
              " 'Ġstrives': 37873,\n",
              " 'izo': 41282,\n",
              " 'ĠRedskins': 22038,\n",
              " 'Ġmeteor': 19999,\n",
              " 'ĠPing': 34263,\n",
              " 'Ġfaculties': 47126,\n",
              " 'ĠMarketplace': 36703,\n",
              " 'Ġmanip': 7704,\n",
              " 'Ġunin': 26329,\n",
              " 'Ġscripting': 36883,\n",
              " 'Ð²': 38857,\n",
              " 'Ġsuspensions': 47228,\n",
              " 'ĠAnchorage': 50066,\n",
              " 'Ġsmugglers': 42876,\n",
              " 'Ġtwelve': 14104,\n",
              " 'ĠWorker': 35412,\n",
              " 'Ġtest': 1332,\n",
              " 'Ġghost': 10905,\n",
              " 'Ġinvestor': 15811,\n",
              " 'Ġgel': 20383,\n",
              " 'Ġgenerations': 10439,\n",
              " 'Ġdocumentary': 11648,\n",
              " 'Ġcoff': 19540,\n",
              " 'Ġcmd': 23991,\n",
              " 'ĠDomin': 11817,\n",
              " 'Ġcompass': 31855,\n",
              " 'Ġassessment': 8922,\n",
              " 'ĠBeef': 35309,\n",
              " 'ĠLol': 44841,\n",
              " 'Ġbruising': 45468,\n",
              " 'ĠMedium': 13398,\n",
              " 'ĠSquadron': 27242,\n",
              " 'urses': 46998,\n",
              " 'ĠColleges': 49727,\n",
              " 'ĠPresent': 21662,\n",
              " 'Ġforearm': 41031,\n",
              " 'ĠUltron': 46315,\n",
              " 'Ġsemifinals': 47633,\n",
              " 'Nap': 49799,\n",
              " 'Ġemploy': 1873,\n",
              " 'multipl': 47945,\n",
              " 'ĠWhereas': 28016,\n",
              " 'Ġretrieved': 29517,\n",
              " 'ĠSeaf': 49967,\n",
              " 'Ġpe': 613,\n",
              " 'Ġuncons': 13962,\n",
              " \"Ġ'/\": 31051,\n",
              " 'å¥': 25001,\n",
              " 'ĠScream': 36306,\n",
              " 'ĠWalsh': 24104,\n",
              " 'Ġflaws': 17978,\n",
              " 'Ġmeth': 11248,\n",
              " 'Ġencouragement': 27529,\n",
              " 'Ġpent': 28145,\n",
              " 'Ġconstitutionally': 40800,\n",
              " 'illary': 15856,\n",
              " 'Pr': 6836,\n",
              " 'ĠHicks': 31750,\n",
              " 'Ġcongratulations': 45108,\n",
              " 'uld': 32926,\n",
              " 'Ġbladder': 34918,\n",
              " 'Ġincrim': 48903,\n",
              " 'Philipp': 49680,\n",
              " 'Ġvinegar': 26600,\n",
              " 'Ġeggs': 9653,\n",
              " 'ahu': 12196,\n",
              " 'ĠRequ': 9394,\n",
              " 'mate': 9830,\n",
              " 'yd': 5173,\n",
              " 'antom': 11456,\n",
              " 'ĠOmega': 19839,\n",
              " 'Ġhereby': 29376,\n",
              " 'Individual': 35392,\n",
              " 'ĠScope': 41063,\n",
              " 'ĠCLICK': 49583,\n",
              " 'Ast': 33751,\n",
              " 'itarian': 8353,\n",
              " 'ICH': 20739,\n",
              " 'ossip': 26710,\n",
              " 'ĠAtom': 33102,\n",
              " 'Ġconsequence': 12921,\n",
              " 'ĠPleasant': 35469,\n",
              " 'ĠMoe': 46488,\n",
              " 'Ġcreep': 13972,\n",
              " 'Ġimporting': 33332,\n",
              " 'Ġpushing': 7796,\n",
              " 'ĠMenu': 21860,\n",
              " 'ILY': 33340,\n",
              " 'Ġdeserted': 36043,\n",
              " 'ĠWITHOUT': 42881,\n",
              " 'Alt': 29161,\n",
              " 'Ġpredecessors': 27677,\n",
              " 'Ord': 35422,\n",
              " 'ĠGoes': 31914,\n",
              " 'ĠFreed': 38728,\n",
              " '1964': 46477,\n",
              " 'Ġparticipating': 11983,\n",
              " 'Ġofficially': 8720,\n",
              " 'ĠCustomer': 22092,\n",
              " 'every': 16833,\n",
              " 'Ġ470': 38634,\n",
              " 'Ġ57': 7632,\n",
              " 'ĠCompatibility': 46021,\n",
              " 'Ġimpressive': 8036,\n",
              " 'Ġengagement': 12352,\n",
              " 'AFP': 17449,\n",
              " 'Players': 24860,\n",
              " 'change': 3803,\n",
              " 'nih': 37373,\n",
              " 'Ġrefunds': 36903,\n",
              " 'Ġ173': 28174,\n",
              " 'Ġcarbohydrates': 32328,\n",
              " 'Ġtenants': 21445,\n",
              " 'Ġcup': 6508,\n",
              " 'ĠDu': 10343,\n",
              " 'decl': 32446,\n",
              " 'ĠElvis': 35169,\n",
              " 'Ġpatch': 8529,\n",
              " 'ĠABC': 9738,\n",
              " 'Ġelong': 39696,\n",
              " 'Ġsever': 1750,\n",
              " 'Ġrestless': 42537,\n",
              " 'idal': 11624,\n",
              " 'ĠYanukovych': 43202,\n",
              " 'Ġerrone': 27383,\n",
              " '2020': 42334,\n",
              " 'Ġfossil': 12584,\n",
              " 'Ġinterim': 19303,\n",
              " 'vor': 20867,\n",
              " 'Ġamazed': 24562,\n",
              " 'ĠPas': 17454,\n",
              " 'Ġsuffix': 35488,\n",
              " 'ĠCSV': 44189,\n",
              " 'otics': 23891,\n",
              " 'Ġpermit': 8749,\n",
              " 'amping': 37843,\n",
              " 'Ġpartnered': 29806,\n",
              " 'Ġu': 334,\n",
              " 'Ġdeliberate': 18988,\n",
              " 'ĠVERY': 29550,\n",
              " 'Ġlimiting': 15637,\n",
              " 'Ġstren': 43071,\n",
              " 'ileen': 42236,\n",
              " 'Ġcopies': 9088,\n",
              " 'ionage': 24919,\n",
              " 'ĠQuin': 29338,\n",
              " 'Ġcherished': 41238,\n",
              " 'ĠBohem': 45560,\n",
              " '550': 22730,\n",
              " '124': 17464,\n",
              " 'Ġtooth': 16162,\n",
              " 'Deploy': 49322,\n",
              " 'ĠOriental': 39713,\n",
              " 'wind': 7972,\n",
              " 'ĠDirk': 42761,\n",
              " 'Ġcalves': 45889,\n",
              " '026': 45987,\n",
              " 'Ġliberalism': 33108,\n",
              " 'enemy': 46970,\n",
              " 'Ġlicensee': 35796,\n",
              " 'balance': 20427,\n",
              " 'ĠHate': 28334,\n",
              " 'Ġtour': 4205,\n",
              " 'ĠPTS': 20907,\n",
              " 'ĠLiverpool': 11761,\n",
              " 'enezuel': 12596,\n",
              " 'Ġ422': 46588,\n",
              " 'Ġpasture': 46753,\n",
              " 'Ġdifferences': 5400,\n",
              " 'Ĺ': 245,\n",
              " 'Ġtro': 4161,\n",
              " 'ĠCons': 3515,\n",
              " 'Cong': 18649,\n",
              " 'ĠEspecially': 18948,\n",
              " 'Ġul': 14856,\n",
              " 'ĠRedmond': 49420,\n",
              " 'ĠHamb': 26175,\n",
              " 'Ġhashes': 46621,\n",
              " 'Ġoath': 17865,\n",
              " 'ĠYug': 25554,\n",
              " 'DVD': 39218,\n",
              " '597': 43239,\n",
              " 'ĠTarget': 12744,\n",
              " 'FAULT': 38865,\n",
              " 'Ġ2000': 4751,\n",
              " 'Ġanx': 7296,\n",
              " 'ĠForces': 12700,\n",
              " 'Ġ1945': 15761,\n",
              " 'Ġobservational': 40118,\n",
              " 'into': 20424,\n",
              " 'ĠPerform': 35006,\n",
              " 'Ġperce': 36974,\n",
              " 'Ġinternship': 42329,\n",
              " 'follow': 27780,\n",
              " 'ĠMane': 42736,\n",
              " 'ilial': 43475,\n",
              " 'ademic': 49113,\n",
              " 'needs': 50032,\n",
              " 'Ġdive': 15647,\n",
              " 'Ġ-': 532,\n",
              " 'Ġdollars': 5054,\n",
              " 'Ġvalue': 1988,\n",
              " 'Ġ340': 28560,\n",
              " 'itably': 14829,\n",
              " 'ocene': 34973,\n",
              " 'Ġwelcomes': 35481,\n",
              " 'Ġlinen': 41822,\n",
              " 'ĠTelecom': 44021,\n",
              " 'ĠProjects': 29898,\n",
              " 'mits': 24883,\n",
              " 'ĠUnique': 30015,\n",
              " 'insula': 16495,\n",
              " 'ĠShips': 34844,\n",
              " 'Ġancestors': 18668,\n",
              " 'Ġcompeted': 32440,\n",
              " 'ĠFres': 32732,\n",
              " 'ĠMoines': 36576,\n",
              " 'Ġcomprehens': 8569,\n",
              " 'washer': 45146,\n",
              " 'Ġlament': 23146,\n",
              " 'Ġfidelity': 37744,\n",
              " 'ĠSenators': 22195,\n",
              " 'Ġiniti': 5383,\n",
              " 'lace': 27077,\n",
              " 'Notes': 16130,\n",
              " 'ĠFuller': 31863,\n",
              " 'ĠFreem': 39587,\n",
              " 'Wood': 22911,\n",
              " 'hester': 19593,\n",
              " 'Ġchem': 4607,\n",
              " 'ribute': 4163,\n",
              " 'Ġembrace': 12553,\n",
              " 'Ġwaking': 23137,\n",
              " 'stice': 43788,\n",
              " 'Ġphotons': 44378,\n",
              " 'ates': 689,\n",
              " 'Neigh': 46445,\n",
              " 'Ġind': 773,\n",
              " 'ĠAssociation': 5396,\n",
              " 'eway': 16172,\n",
              " 'about': 10755,\n",
              " 'ĠCalgary': 17842,\n",
              " '!!!': 10185,\n",
              " 'present': 25579,\n",
              " ')*': 27493,\n",
              " 'aq': 30188,\n",
              " 'fight': 15481,\n",
              " 'TAIN': 30339,\n",
              " 'Ġindisp': 33321,\n",
              " 'TextColor': 42470,\n",
              " 'Ġdipping': 43144,\n",
              " 'Statistics': 48346,\n",
              " 'ĠFant': 8751,\n",
              " 'ksh': 50133,\n",
              " 'Info': 12360,\n",
              " 'Ġdictionary': 22155,\n",
              " 'ĠDear': 23420,\n",
              " 'ĠJavaScript': 11933,\n",
              " 'VAL': 23428,\n",
              " 'Ġimplant': 29016,\n",
              " 'Ġcp': 31396,\n",
              " 'ĠFlight': 13365,\n",
              " ')\",': 42501,\n",
              " 'Ġmarches': 36963,\n",
              " 'ĠArmen': 17303,\n",
              " 'fifth': 43556,\n",
              " 'Ġdisgusting': 23374,\n",
              " 'Ġflagship': 21336,\n",
              " 'ĠSinai': 33745,\n",
              " 'clip': 15036,\n",
              " 'mining': 45374,\n",
              " 'Ġbelts': 28617,\n",
              " 'Ġfatig': 46291,\n",
              " 'ĠAgo': 48210,\n",
              " 'itute': 3678,\n",
              " 'ĠEfficiency': 45728,\n",
              " 'ny': 3281,\n",
              " 'Ġproactive': 33943,\n",
              " 'ĠFind': 9938,\n",
              " 'Ġmachinery': 20230,\n",
              " 'Ġcs': 50115,\n",
              " 'Ġsynchronized': 47192,\n",
              " 'Ġthous': 3207,\n",
              " 'Ĝ': 216,\n",
              " 'Ġmult': 1963,\n",
              " 'Yan': 49664,\n",
              " 'ĠSimone': 47592,\n",
              " 'ĠByr': 24437,\n",
              " 'esity': 11924,\n",
              " 'odi': 23130,\n",
              " 'Ġ|--': 44233,\n",
              " 'General': 12218,\n",
              " 'Ġwhile': 981,\n",
              " 'zb': 14969,\n",
              " 'Ġeligibility': 20069,\n",
              " 'rito': 39834,\n",
              " 'ĠOwner': 23853,\n",
              " 'perfect': 25833,\n",
              " 'ĠNewman': 27698,\n",
              " 'ĠLung': 39337,\n",
              " 'oor': 2675,\n",
              " 'ĠParticipant': 29880,\n",
              " 'Ġseaf': 25127,\n",
              " 'ience': 1240,\n",
              " 'Ġquickly': 2952,\n",
              " 'auc': 14272,\n",
              " 'ĠDrake': 18515,\n",
              " 'Ġkings': 21557,\n",
              " 'Man': 5124,\n",
              " 'Phoenix': 36422,\n",
              " 'ARM': 33456,\n",
              " 'Changing': 48333,\n",
              " 'Ġlike': 588,\n",
              " 'ĠBattle': 5838,\n",
              " 'Ġadmittedly': 33603,\n",
              " 'Ġdye': 30121,\n",
              " 'tops': 35011,\n",
              " 'Ġdeadlines': 36773,\n",
              " 'Andrew': 20508,\n",
              " 'Ġsince': 1201,\n",
              " 'Ġwiret': 33509,\n",
              " 'Ġideas': 4213,\n",
              " 'Ġpenetrating': 41456,\n",
              " 'ĠDN': 45080,\n",
              " 'Ġcommerce': 19497,\n",
              " 'him': 38400,\n",
              " 'Ġmileage': 33935,\n",
              " 'Ġunveiling': 41438,\n",
              " 'Ġatoms': 23235,\n",
              " 'oshop': 25444,\n",
              " 'RIPT': 46023,\n",
              " 'Ġcanoe': 47434,\n",
              " '75': 2425,\n",
              " 'wheel': 22001,\n",
              " 'Ġ134': 22352,\n",
              " 'ĠShoals': 40510,\n",
              " 'ĠObserver': 27058,\n",
              " 'Ġyielded': 26403,\n",
              " 'Phone': 6132,\n",
              " 'ICT': 18379,\n",
              " 'aders': 9972,\n",
              " 'Ġm': 285,\n",
              " 'Ġcolorful': 20239,\n",
              " 'Ġfren': 22832,\n",
              " 'Ġfocused': 5670,\n",
              " 'ĠTHEM': 44788,\n",
              " 'ĠguiActive': 18472,\n",
              " 'ĠdB': 30221,\n",
              " 'Ġlegislators': 19964,\n",
              " 'ĠEnergy': 6682,\n",
              " 'Ġnurses': 20669,\n",
              " 'ĠPowder': 33688,\n",
              " '990': 34155,\n",
              " 'ĠDirectX': 37017,\n",
              " 'Kate': 45087,\n",
              " 'ĠNat': 14393,\n",
              " 'ĠBalt': 9035,\n",
              " 'gdala': 40420,\n",
              " 'ĠMines': 33466,\n",
              " 'Ġriff': 36738,\n",
              " 'essed': 6676,\n",
              " 'Ġrivals': 14987,\n",
              " 'ĠWeekend': 30537,\n",
              " 'Ġvoucher': 40621,\n",
              " 'Ġorb': 15769,\n",
              " 'ĠInc': 3457,\n",
              " 'Ġdrafted': 15937,\n",
              " 'ĠPermanent': 36814,\n",
              " 'Ġbitterness': 35987,\n",
              " 'according': 38169,\n",
              " 'ĠCousins': 32644,\n",
              " 'Ġlang': 42392,\n",
              " 'Ġdispatcher': 49952,\n",
              " 'Ġfloor': 4314,\n",
              " 'Ġhinge': 41968,\n",
              " 'ĠDelta': 16978,\n",
              " 'Ġcries': 24691,\n",
              " 'ĠOklahoma': 10433,\n",
              " 'Ġstruggled': 11615,\n",
              " 'ename': 12453,\n",
              " 'pic': 16564,\n",
              " 'wd': 16993,\n",
              " 'ĠLeo': 19632,\n",
              " 'Param': 22973,\n",
              " 'Ġexit': 8420,\n",
              " 'ĠLibrary': 10074,\n",
              " 'Ġcreations': 28443,\n",
              " 'Interstitial': 29447,\n",
              " 'back': 1891,\n",
              " 'Ġmiser': 18790,\n",
              " 'ceivable': 48054,\n",
              " 'ady': 4597,\n",
              " 'latable': 49009,\n",
              " 'irled': 49376,\n",
              " 'idepress': 25895,\n",
              " 'ĠElectro': 38781,\n",
              " 'lean': 13087,\n",
              " 'ĠShelby': 35053,\n",
              " 'Animal': 40002,\n",
              " \"']\": 20520,\n",
              " 'California': 25284,\n",
              " 'ĠSL': 12419,\n",
              " 'ĠLS': 30948,\n",
              " 'obal': 2572,\n",
              " '07': 2998,\n",
              " 'Ã©': 2634,\n",
              " 'Ġunfinished': 34419,\n",
              " 'Ġlavish': 38957,\n",
              " 'clean': 27773,\n",
              " 'ĠAC': 7125,\n",
              " 'ĠLanding': 29689,\n",
              " 'ĠDom': 9666,\n",
              " 'rick': 5557,\n",
              " 'Ġpirates': 27516,\n",
              " 'ĠSemi': 35525,\n",
              " 'ĠShake': 41113,\n",
              " 'Ġresur': 15328,\n",
              " 'ĠSpectre': 44228,\n",
              " 'Render': 45819,\n",
              " 'Ġrelates': 18436,\n",
              " 'Ġprohibited': 12244,\n",
              " 'aturdays': 39724,\n",
              " 'Ġfinite': 27454,\n",
              " 'Ġquota': 32539,\n",
              " 'la': 5031,\n",
              " 'ĠLights': 22661,\n",
              " 'Ġsmuggled': 46738,\n",
              " 'ĠWithin': 12511,\n",
              " 'Ġtutor': 48680,\n",
              " 'Ġsenator': 12329,\n",
              " 'Ġrebuilt': 30080,\n",
              " 'ĠBurma': 40306,\n",
              " 'ĠPJ': 44941,\n",
              " 'romy': 50228,\n",
              " 'Ġany': 597,\n",
              " 'Ġreap': 35860,\n",
              " 'ĠMy': 2011,\n",
              " 'Ġfiles': 3696,\n",
              " 'Ġunacceptable': 18010,\n",
              " 'ĠPercent': 22512,\n",
              " 'Ġattendees': 21736,\n",
              " 'times': 22355,\n",
              " 'Ġintra': 23422,\n",
              " 'specified': 23599,\n",
              " 'Ġashes': 29914,\n",
              " 'Ġenqu': 34593,\n",
              " 'Ġhadn': 8020,\n",
              " 'ECTION': 24565,\n",
              " 'Gallery': 29352,\n",
              " 'ooting': 12494,\n",
              " 'jug': 31761,\n",
              " 'Ġoptimized': 23392,\n",
              " 'cz': 26691,\n",
              " 'ĠAndreas': 33728,\n",
              " 'Ġprecarious': 38761,\n",
              " 'ISSION': 40373,\n",
              " 'ĠTay': 25569,\n",
              " 'er': 263,\n",
              " 'ĠDepression': 22483,\n",
              " 'Ġpitched': 21730,\n",
              " 'ĠSavannah': 40695,\n",
              " 'uded': 19289,\n",
              " 'ĠTreatment': 21415,\n",
              " 'hak': 43573,\n",
              " 'ĠUFC': 11448,\n",
              " 'Ġalias': 16144,\n",
              " 'ĠVisitors': 44535,\n",
              " 'Ġtabletop': 45052,\n",
              " 'Thunder': 45713,\n",
              " 'Ġrupture': 46836,\n",
              " 'ĠCloud': 10130,\n",
              " 'ĠHold': 9340,\n",
              " 'ificial': 9542,\n",
              " 'Ġtatt': 14399,\n",
              " 'msg': 19662,\n",
              " 'Ġbonded': 40270,\n",
              " 'Campaign': 46102,\n",
              " 'Ġapocalyptic': 41792,\n",
              " 'ategic': 47917,\n",
              " 'ĠPsychiatry': 28897,\n",
              " 'jee': 34589,\n",
              " 'ĠCP': 16932,\n",
              " 'Ġsweep': 16085,\n",
              " 'Ġfled': 11468,\n",
              " 'licted': 17823,\n",
              " 'Ġredund': 22916,\n",
              " 'ĠHistorical': 23121,\n",
              " 'ĠLuxembourg': 31864,\n",
              " 'ptions': 8544,\n",
              " 'staking': 40031,\n",
              " 'ĠTreasure': 20215,\n",
              " 'Ġclamp': 29405,\n",
              " 'Ġcasino': 21507,\n",
              " 'Ġevidently': 27450,\n",
              " 'Ġcontributing': 14329,\n",
              " 'ĠIng': 17589,\n",
              " 'rimp': 23750,\n",
              " 'ĠBlake': 13307,\n",
              " '489': 35890,\n",
              " 'ĠMaiden': 30591,\n",
              " 'İ': 236,\n",
              " 'Ġreflecting': 20252,\n",
              " 'ces': 728,\n",
              " 'rest': 2118,\n",
              " 'Ġdissect': 38319,\n",
              " 'Ġmeasurable': 40757,\n",
              " 'Ġfun': 1257,\n",
              " 'aiden': 17538,\n",
              " 'erver': 18497,\n",
              " 'ĠHOW': 29630,\n",
              " 'tun': 28286,\n",
              " 'stri': 33565,\n",
              " 'ĠVerse': 38641,\n",
              " 'åį': 39355,\n",
              " 'ĠFix': 13268,\n",
              " 'Ġlobbyists': 26637,\n",
              " 'ĠZoro': 42840,\n",
              " 'ĠTreaty': 21345,\n",
              " '1965': 45271,\n",
              " 'Ġswitches': 18225,\n",
              " 'ĠAoE': 39703,\n",
              " 'Ġface': 1986,\n",
              " 'Ġforeign': 3215,\n",
              " 'Ġ[[': 16410,\n",
              " 'Ġmaritime': 30017,\n",
              " 'ok': 482,\n",
              " 'Ġvalid': 4938,\n",
              " 'ĠWeapons': 18944,\n",
              " 'Ġreps': 20982,\n",
              " 'acan': 50195,\n",
              " 'Ġcards': 4116,\n",
              " 'Ġbrunt': 48850,\n",
              " 'Ġcompelling': 13206,\n",
              " 'igmat': 32441,\n",
              " 'working': 16090,\n",
              " 'ĠJer': 4230,\n",
              " 'Ġsanct': 25417,\n",
              " 'Ġorphan': 26051,\n",
              " 'uned': 40881,\n",
              " 'ĠPhysicians': 46206,\n",
              " 'lad': 9435,\n",
              " 'Ġbreaching': 46837,\n",
              " 'Ġsimilarities': 20594,\n",
              " 'ĠPry': 32500,\n",
              " 'inders': 29700,\n",
              " 'ĠOpt': 13123,\n",
              " 'image': 9060,\n",
              " 'ĠLiu': 18258,\n",
              " 'Ġstrengths': 18929,\n",
              " 'Ġinequalities': 45460,\n",
              " 'Ġupro': 31921,\n",
              " 'ĠShane': 24379,\n",
              " 'ssl': 45163,\n",
              " 'ĠMaj': 12390,\n",
              " 'Ġsurvival': 9441,\n",
              " 'Ġsubset': 24637,\n",
              " 'Ġtriggering': 26555,\n",
              " 'inem': 7749,\n",
              " 'Ġcorrelation': 16096,\n",
              " 'Ġdemol': 16465,\n",
              " 'Charles': 28711,\n",
              " 'HF': 29567,\n",
              " '975': 42716,\n",
              " 'Aid': 44245,\n",
              " 'Ġunofficial': 27220,\n",
              " 'ĠPeople': 4380,\n",
              " 'ĠIrving': 26101,\n",
              " '630': 30005,\n",
              " 'Ġexplaining': 11170,\n",
              " 'Ġspike': 20240,\n",
              " 'Ġpancakes': 47008,\n",
              " 'Ship': 25586,\n",
              " ...}"
            ]
          },
          "metadata": {},
          "execution_count": 15
        }
      ]
    },
    {
      "cell_type": "markdown",
      "source": [
        "We have each words and its given id."
      ],
      "metadata": {
        "id": "pnhnOe24bxeC"
      }
    },
    {
      "cell_type": "code",
      "source": [
        "tokenizer.vocab_size"
      ],
      "metadata": {
        "id": "X26eaqtabzh4",
        "outputId": "adcb6ebb-d901-4984-b45a-f8f2665ce838",
        "colab": {
          "base_uri": "https://localhost:8080/"
        }
      },
      "execution_count": 16,
      "outputs": [
        {
          "output_type": "execute_result",
          "data": {
            "text/plain": [
              "50257"
            ]
          },
          "metadata": {},
          "execution_count": 16
        }
      ]
    },
    {
      "cell_type": "markdown",
      "source": [
        "This is the number of words on the tokenizer."
      ],
      "metadata": {
        "id": "xDypEG8qb1cp"
      }
    },
    {
      "cell_type": "code",
      "source": [
        "min(len(key) for key in tokenizer.vocab.keys())"
      ],
      "metadata": {
        "id": "TpQkNXtTcp1u",
        "outputId": "14bca519-f57f-4dcc-c94b-eeb62f1dc5ee",
        "colab": {
          "base_uri": "https://localhost:8080/"
        }
      },
      "execution_count": 17,
      "outputs": [
        {
          "output_type": "execute_result",
          "data": {
            "text/plain": [
              "1"
            ]
          },
          "metadata": {},
          "execution_count": 17
        }
      ]
    },
    {
      "cell_type": "markdown",
      "source": [
        "The minimal length is 1"
      ],
      "metadata": {
        "id": "Am-OoCZddCjC"
      }
    },
    {
      "cell_type": "code",
      "source": [
        "max(len(key) for key in tokenizer.vocab.keys())"
      ],
      "metadata": {
        "id": "ji73pZB2dAdW",
        "outputId": "b865c7b8-f09b-45bb-814d-146ee2b91759",
        "colab": {
          "base_uri": "https://localhost:8080/"
        }
      },
      "execution_count": 18,
      "outputs": [
        {
          "output_type": "execute_result",
          "data": {
            "text/plain": [
              "128"
            ]
          },
          "metadata": {},
          "execution_count": 18
        }
      ]
    },
    {
      "cell_type": "markdown",
      "source": [
        "The maximum length is 128"
      ],
      "metadata": {
        "id": "9Olk1mbWdHQs"
      }
    },
    {
      "cell_type": "code",
      "source": [
        "np.mean([len(key) for key in tokenizer.vocab.keys()])"
      ],
      "metadata": {
        "id": "7ZrYVOG2cLNm",
        "outputId": "36264021-1f1a-476f-adf7-868a7d953092",
        "colab": {
          "base_uri": "https://localhost:8080/"
        }
      },
      "execution_count": 19,
      "outputs": [
        {
          "output_type": "execute_result",
          "data": {
            "text/plain": [
              "6.383727639930756"
            ]
          },
          "metadata": {},
          "execution_count": 19
        }
      ]
    },
    {
      "cell_type": "markdown",
      "source": [
        "The mean length is 6.3"
      ],
      "metadata": {
        "id": "jJok8ymydUEk"
      }
    },
    {
      "cell_type": "code",
      "source": [
        "np.median([len(key) for key in tokenizer.vocab.keys()])"
      ],
      "metadata": {
        "id": "AlcoPuaadWu1",
        "outputId": "821efdce-3bba-4944-bc7b-744e0cd490de",
        "colab": {
          "base_uri": "https://localhost:8080/"
        }
      },
      "execution_count": 20,
      "outputs": [
        {
          "output_type": "execute_result",
          "data": {
            "text/plain": [
              "6.0"
            ]
          },
          "metadata": {},
          "execution_count": 20
        }
      ]
    },
    {
      "cell_type": "markdown",
      "source": [
        "The median length is 6"
      ],
      "metadata": {
        "id": "NA2dKhFQdZK2"
      }
    },
    {
      "cell_type": "markdown",
      "source": [],
      "metadata": {
        "id": "3NLNNsiVf-Q1"
      }
    },
    {
      "cell_type": "code",
      "source": [
        "sorted_keys = sorted(tokenizer.vocab.keys(), key=len)"
      ],
      "metadata": {
        "id": "naFWkk-geWw3"
      },
      "execution_count": 21,
      "outputs": []
    },
    {
      "cell_type": "code",
      "source": [
        "print(f' Word with a min length : {sorted_keys[0]}')"
      ],
      "metadata": {
        "id": "2wI_Xw5dea6s",
        "outputId": "13adf023-8ff8-4ebc-d6ac-4808b90777a1",
        "colab": {
          "base_uri": "https://localhost:8080/"
        }
      },
      "execution_count": 22,
      "outputs": [
        {
          "output_type": "stream",
          "name": "stdout",
          "text": [
            " Word with a min length : ĭ\n"
          ]
        }
      ]
    },
    {
      "cell_type": "code",
      "source": [
        "print(f' Word with a max length : {sorted_keys[::-1][0]}')"
      ],
      "metadata": {
        "id": "cw2knJ7BehH-",
        "outputId": "bd2db67e-9cfb-4a91-d0b4-a1e3ac4389d8",
        "colab": {
          "base_uri": "https://localhost:8080/"
        }
      },
      "execution_count": 23,
      "outputs": [
        {
          "output_type": "stream",
          "name": "stdout",
          "text": [
            " Word with a max length : ÃĥÃĤÃĥÃĤÃĥÃĤÃĥÃĤÃĥÃĤÃĥÃĤÃĥÃĤÃĥÃĤÃĥÃĤÃĥÃĤÃĥÃĤÃĥÃĤÃĥÃĤÃĥÃĤÃĥÃĤÃĥÃĤÃĥÃĤÃĥÃĤÃĥÃĤÃĥÃĤÃĥÃĤÃĥÃĤÃĥÃĤÃĥÃĤÃĥÃĤÃĥÃĤÃĥÃĤÃĥÃĤÃĥÃĤÃĥÃĤÃĥÃĤÃĥÃĤ\n"
          ]
        }
      ]
    },
    {
      "cell_type": "code",
      "source": [
        "print(f'Word with a median length : {sorted_keys[np.where([len(word)==6 for word in sorted_keys])[0][0]]}')"
      ],
      "metadata": {
        "id": "Z5LvT5wReyEg",
        "outputId": "b4a6511b-a3e8-4e1c-a8e3-a1e26bf3dc7b",
        "colab": {
          "base_uri": "https://localhost:8080/"
        }
      },
      "execution_count": 24,
      "outputs": [
        {
          "output_type": "stream",
          "name": "stdout",
          "text": [
            "Word with a median length : payers\n"
          ]
        }
      ]
    },
    {
      "cell_type": "markdown",
      "source": [
        "10. Our tokenizer has one \"special token\" which is used to indicate the end of text. View it with `tokenizer.all_special_tokens`. We also need to use \"padding token\" (see next questions) that is not set by default. Run the code provided below and verify that it is now listed as the padding token in `tokenizer.special_tokens_map`.\n",
        "\n",
        "  **Advanced note:** A HF Transformers tokenizer may have BOS (beginning of string), EOS (end of string), padding, and UNK (unknown) special tokens; `special_tokens_map` lists them if they are set."
      ],
      "metadata": {
        "id": "da9W-SX9yGmE"
      }
    },
    {
      "cell_type": "code",
      "source": [
        "# CODE FOR QUESTION 10\n",
        "tokenizer.pad_token = tokenizer.eos_token"
      ],
      "metadata": {
        "id": "X6oL4HcxyeWT"
      },
      "execution_count": 25,
      "outputs": []
    },
    {
      "cell_type": "code",
      "source": [
        "tokenizer.all_special_tokens"
      ],
      "metadata": {
        "id": "SUm_Rxxnjh4L",
        "outputId": "96460fc7-d677-430f-e49e-b40a0e341f9f",
        "colab": {
          "base_uri": "https://localhost:8080/"
        }
      },
      "execution_count": 26,
      "outputs": [
        {
          "output_type": "execute_result",
          "data": {
            "text/plain": [
              "['<|endoftext|>']"
            ]
          },
          "metadata": {},
          "execution_count": 26
        }
      ]
    },
    {
      "cell_type": "markdown",
      "source": [
        "11. Explain the difference in the output of each line of code below. What is \"padding\"?"
      ],
      "metadata": {
        "id": "Hp8M-HuXxXQA"
      }
    },
    {
      "cell_type": "code",
      "source": [
        "# CODE FOR QUESTION 11\n",
        "sentences1 = ['This is a sentence.', 'This too.']\n",
        "print(tokenizer(sentences1))\n",
        "print(tokenizer(sentences1, padding=True))"
      ],
      "metadata": {
        "id": "EFqiFEaBA9o4",
        "outputId": "812f325f-a225-4620-95d5-5e505ef74c8a",
        "colab": {
          "base_uri": "https://localhost:8080/"
        }
      },
      "execution_count": 27,
      "outputs": [
        {
          "output_type": "stream",
          "name": "stdout",
          "text": [
            "{'input_ids': [[1212, 318, 257, 6827, 13], [1212, 1165, 13]], 'attention_mask': [[1, 1, 1, 1, 1], [1, 1, 1]]}\n",
            "{'input_ids': [[1212, 318, 257, 6827, 13], [1212, 1165, 13, 50256, 50256]], 'attention_mask': [[1, 1, 1, 1, 1], [1, 1, 1, 0, 0]]}\n"
          ]
        }
      ]
    },
    {
      "cell_type": "markdown",
      "source": [
        "Padding adds 0 at the end of each input in order to have each input at the same size."
      ],
      "metadata": {
        "id": "iQPhEOyBjuac"
      }
    },
    {
      "cell_type": "markdown",
      "source": [
        "12. Explain the difference in the output of each line of code below. What is \"truncation\"?"
      ],
      "metadata": {
        "id": "6YJjFYcz1dFv"
      }
    },
    {
      "cell_type": "code",
      "source": [
        "# CODE FOR QUESTION 12\n",
        "sentences2 = ['This is a sentence.', 'This too.', 'And this is a very, very, very, very long sentence.']\n",
        "print(tokenizer(sentences2))\n",
        "print(tokenizer(sentences2, truncation=True, max_length=5))"
      ],
      "metadata": {
        "id": "1JlZjBVa1gc9",
        "outputId": "8c06219d-a76d-4b7c-e8ef-633e94cadc55",
        "colab": {
          "base_uri": "https://localhost:8080/"
        }
      },
      "execution_count": 28,
      "outputs": [
        {
          "output_type": "stream",
          "name": "stdout",
          "text": [
            "{'input_ids': [[1212, 318, 257, 6827, 13], [1212, 1165, 13], [1870, 428, 318, 257, 845, 11, 845, 11, 845, 11, 845, 890, 6827, 13]], 'attention_mask': [[1, 1, 1, 1, 1], [1, 1, 1], [1, 1, 1, 1, 1, 1, 1, 1, 1, 1, 1, 1, 1, 1]]}\n",
            "{'input_ids': [[1212, 318, 257, 6827, 13], [1212, 1165, 13], [1870, 428, 318, 257, 845]], 'attention_mask': [[1, 1, 1, 1, 1], [1, 1, 1], [1, 1, 1, 1, 1]]}\n"
          ]
        }
      ]
    },
    {
      "cell_type": "markdown",
      "source": [
        "Truncation with a max_length = 5 means that we keep only the first 5 words of each input. We then truncate input with more than 5 words."
      ],
      "metadata": {
        "id": "IdQnVe_Pj5mS"
      }
    },
    {
      "cell_type": "markdown",
      "source": [
        "13. Explain the difference in the output of each line of code below."
      ],
      "metadata": {
        "id": "Ot9Y7jDY1_PY"
      }
    },
    {
      "cell_type": "code",
      "source": [
        "# CODE FOR QUESTION 13\n",
        "print(tokenizer(sentences1, padding=True, truncation=True, max_length=10))\n",
        "print(tokenizer(sentences1, padding='max_length', truncation=True, max_length=10))"
      ],
      "metadata": {
        "id": "QXczzF7bN0Zn",
        "outputId": "dfb8f73c-990a-492e-e248-60236828b423",
        "colab": {
          "base_uri": "https://localhost:8080/"
        }
      },
      "execution_count": 29,
      "outputs": [
        {
          "output_type": "stream",
          "name": "stdout",
          "text": [
            "{'input_ids': [[1212, 318, 257, 6827, 13], [1212, 1165, 13, 50256, 50256]], 'attention_mask': [[1, 1, 1, 1, 1], [1, 1, 1, 0, 0]]}\n",
            "{'input_ids': [[1212, 318, 257, 6827, 13, 50256, 50256, 50256, 50256, 50256], [1212, 1165, 13, 50256, 50256, 50256, 50256, 50256, 50256, 50256]], 'attention_mask': [[1, 1, 1, 1, 1, 0, 0, 0, 0, 0], [1, 1, 1, 0, 0, 0, 0, 0, 0, 0]]}\n"
          ]
        }
      ]
    },
    {
      "cell_type": "markdown",
      "source": [
        "It adds 0 to inputs with a length lower than 10 and truncate inputs with a length higher than 10."
      ],
      "metadata": {
        "id": "7gLFsxo1kEVW"
      }
    },
    {
      "cell_type": "markdown",
      "source": [
        "14. We will use HuggingFace's `datasets.Dataset` object to store our training data. In general makes it easier to apply memory-efficient transformations to data, combine data into minibatches, shuffle data before training, and even to load data on the fly without needing to store everything in memory at once.\n",
        "\n",
        "  Create a `datasets.Dataset` object using `Dataset.from_pandas(...)` and store the output in a variable `ds`."
      ],
      "metadata": {
        "id": "cx7JM_lJ2xxz"
      }
    },
    {
      "cell_type": "code",
      "source": [
        "from datasets import Dataset\n",
        "ds = Dataset.from_pandas(df)"
      ],
      "metadata": {
        "id": "zL09AUt-lE_R"
      },
      "execution_count": 30,
      "outputs": []
    },
    {
      "cell_type": "markdown",
      "source": [
        "15. Examine the dataset by printing out `ds`, `len(ds)` and `ds.num_rows` (same output), `ds.info`, and `ds[0]`."
      ],
      "metadata": {
        "id": "kB_IWtJE5jG4"
      }
    },
    {
      "cell_type": "code",
      "source": [
        "print(ds)"
      ],
      "metadata": {
        "id": "9J1oGqQ1lpaG",
        "outputId": "aef8841a-4aa4-4704-eab7-e0432c75b39a",
        "colab": {
          "base_uri": "https://localhost:8080/"
        }
      },
      "execution_count": 31,
      "outputs": [
        {
          "output_type": "stream",
          "name": "stdout",
          "text": [
            "Dataset({\n",
            "    features: ['flavorText', 'name', 'text', 'type', 'card_data', '__index_level_0__'],\n",
            "    num_rows: 22225\n",
            "})\n"
          ]
        }
      ]
    },
    {
      "cell_type": "code",
      "source": [
        "len(ds)"
      ],
      "metadata": {
        "id": "87YiIT7nlsqd",
        "outputId": "e2930263-0d4c-400f-8946-447fb3f55d4d",
        "colab": {
          "base_uri": "https://localhost:8080/"
        }
      },
      "execution_count": 32,
      "outputs": [
        {
          "output_type": "execute_result",
          "data": {
            "text/plain": [
              "22225"
            ]
          },
          "metadata": {},
          "execution_count": 32
        }
      ]
    },
    {
      "cell_type": "code",
      "source": [
        "ds.num_rows"
      ],
      "metadata": {
        "id": "IJVd14BilunY",
        "outputId": "cca32966-654d-4101-e535-64933581b5e9",
        "colab": {
          "base_uri": "https://localhost:8080/"
        }
      },
      "execution_count": 33,
      "outputs": [
        {
          "output_type": "execute_result",
          "data": {
            "text/plain": [
              "22225"
            ]
          },
          "metadata": {},
          "execution_count": 33
        }
      ]
    },
    {
      "cell_type": "code",
      "source": [
        "ds.info"
      ],
      "metadata": {
        "id": "QHcmDQwvlwnN",
        "outputId": "7fa57ca6-cf1e-4c37-ba9d-cd90803af005",
        "colab": {
          "base_uri": "https://localhost:8080/"
        }
      },
      "execution_count": 34,
      "outputs": [
        {
          "output_type": "execute_result",
          "data": {
            "text/plain": [
              "DatasetInfo(description='', citation='', homepage='', license='', features={'flavorText': Value(dtype='string', id=None), 'name': Value(dtype='string', id=None), 'text': Value(dtype='string', id=None), 'type': Value(dtype='string', id=None), 'card_data': Value(dtype='string', id=None), '__index_level_0__': Value(dtype='int64', id=None)}, post_processed=None, supervised_keys=None, task_templates=None, builder_name=None, dataset_name=None, config_name=None, version=None, splits=None, download_checksums=None, download_size=None, post_processing_size=None, dataset_size=None, size_in_bytes=None)"
            ]
          },
          "metadata": {},
          "execution_count": 34
        }
      ]
    },
    {
      "cell_type": "code",
      "source": [
        "ds[0]"
      ],
      "metadata": {
        "id": "G0cp-Ug_lxrC",
        "outputId": "0474af4e-87e8-4cc6-bfd1-15365f547eb5",
        "colab": {
          "base_uri": "https://localhost:8080/"
        }
      },
      "execution_count": 35,
      "outputs": [
        {
          "output_type": "execute_result",
          "data": {
            "text/plain": [
              "{'flavorText': '\"The will of all, by my hand done.\"',\n",
              " 'name': \"Ancestor's Chosen\",\n",
              " 'text': \"First strike (This creature deals combat damage before creatures without first strike.)\\\\nWhen Ancestor's Chosen enters the battlefield, you gain 1 life for each card in your graveyard.\",\n",
              " 'type': 'Creature — Human Cleric',\n",
              " 'card_data': 'NAME: Ancestor\\'s Chosen\\nTYPE: Creature — Human Cleric\\nTEXT: First strike (This creature deals combat damage before creatures without first strike.)\\\\nWhen Ancestor\\'s Chosen enters the battlefield, you gain 1 life for each card in your graveyard.\\nFLAVOR: \"The will of all, by my hand done.\"\\n',\n",
              " '__index_level_0__': 1}"
            ]
          },
          "metadata": {},
          "execution_count": 35
        }
      ]
    },
    {
      "cell_type": "markdown",
      "source": [
        "16. Now let's tokenize our data efficiently. Using `ds_encoded = ds.map(lambda row: ...)`, apply tokenization to the `card_data` field of each row. Instructions:\n",
        "  * In the lambda function, `row['card_data']` gets the card data for a row. Apply tokenization to it.\n",
        "  * Use the `max_length`, `padding`, and `truncation` arguments to the tokenizer so that every output is **exactly 128 tokens long**. (You don't need to check, but this is enough not to truncate vast majority of the training data)\n",
        "  * Use `batched=True` in `map(..)` so that many texts are tokenized at once. Try running with and without this argument to verify that it is significantly faster.\n",
        "  * Use the `remove_cols=` argument in `map(...)` so that the encoded dataset only has features `input_ids` and `attention_mask`. This is desirable because we don't need to waste memory by storing a copy of all the other text fields which we are no longer using."
      ],
      "metadata": {
        "id": "tz8ikiIA5k6h"
      }
    },
    {
      "cell_type": "code",
      "source": [
        "ds_encoded = ds.map(lambda row : tokenizer(row['card_data'],max_length = 128, padding = 'max_length', truncation = True), batched = True,remove_columns = ds.column_names)"
      ],
      "metadata": {
        "id": "tFB9BUEblzg3",
        "outputId": "aa1d0379-c31e-41e5-b5f5-34065f88ba9e",
        "colab": {
          "base_uri": "https://localhost:8080/",
          "height": 49,
          "referenced_widgets": [
            "aa3202b97724468382a1bfd48e6fd349",
            "222a6e9d53884d3aa7218678a378c508",
            "b6e2a6f28f4e4c52a4aba6aeffcca5d7",
            "2b1c87eef28f413db9e0bdd6a1589fa5",
            "5b21d7ea59624d6d9f620b9e9f3a7e54",
            "cf8d776e91e445bb9874e731af1ea517",
            "dbe7b1e4ddfa43fd90aac25b52802809",
            "62c19750c01f428488fcb8d254a6a7c3",
            "b9380bb0e074462186b60f8852a98ca5",
            "1546ba411ea74987b4f9da2696663502",
            "78c33a1993f34828bd8640733f5eabb6"
          ]
        }
      },
      "execution_count": 36,
      "outputs": [
        {
          "output_type": "display_data",
          "data": {
            "text/plain": [
              "Map:   0%|          | 0/22225 [00:00<?, ? examples/s]"
            ],
            "application/vnd.jupyter.widget-view+json": {
              "version_major": 2,
              "version_minor": 0,
              "model_id": "aa3202b97724468382a1bfd48e6fd349"
            }
          },
          "metadata": {}
        }
      ]
    },
    {
      "cell_type": "markdown",
      "source": [
        "17. Run the following line of code to add a new feature `'labels'` to the dataset, which contains a copy of `'input_ids'`. These are used as the target labels in teacher forcing training. Print out `ds_encoded` and verify that it now contains a new feature `'labels'`.\n",
        "\n",
        "  **Advanced note:** The HF Transformers `TFAutoModelForCausalLM` API understands that the targets should be shifted over by one during training (i.e. on input of words 1,2,3 it must predict word 4); you don't need to shift them yourself."
      ],
      "metadata": {
        "id": "SF8ueuOe53a1"
      }
    },
    {
      "cell_type": "code",
      "source": [
        "# CODE FOR QUESTION 17\n",
        "ds_encoded = ds_encoded.map(lambda examples: {'labels': examples['input_ids']})"
      ],
      "metadata": {
        "id": "TD7EsTftOwIB",
        "outputId": "5ae592f3-ea1c-48a5-e43a-e85bbb9e44f4",
        "colab": {
          "base_uri": "https://localhost:8080/",
          "height": 49,
          "referenced_widgets": [
            "1f7d8f2db289426d81367bdbbd50464a",
            "11cedd98cf9949dca1e8e7ab886f3446",
            "9ae2bedb0ffc4e8f946bb3ec5a60e526",
            "7db799944b854417adb742ed16f10462",
            "5b402145c1464ab79c49eca7e9c267e5",
            "2b40570f97bf412e8219019143e0af75",
            "86c39daa806f459bb964c2d75fb99739",
            "6e66ea8b273a4bdb94a8de2050c38ea9",
            "0a3cfce7743b40258f88dffe09872c81",
            "5ab4518cae7b493a9589c0de8dc18c85",
            "91835733f1d94a7dac5ef424a0751d60"
          ]
        }
      },
      "execution_count": 37,
      "outputs": [
        {
          "output_type": "display_data",
          "data": {
            "text/plain": [
              "Map:   0%|          | 0/22225 [00:00<?, ? examples/s]"
            ],
            "application/vnd.jupyter.widget-view+json": {
              "version_major": 2,
              "version_minor": 0,
              "model_id": "1f7d8f2db289426d81367bdbbd50464a"
            }
          },
          "metadata": {}
        }
      ]
    },
    {
      "cell_type": "code",
      "source": [
        "ds_encoded"
      ],
      "metadata": {
        "id": "3YLJjjVInC4b",
        "outputId": "a9146010-bdfa-4ff6-a0ee-bffc1f185807",
        "colab": {
          "base_uri": "https://localhost:8080/"
        }
      },
      "execution_count": 38,
      "outputs": [
        {
          "output_type": "execute_result",
          "data": {
            "text/plain": [
              "Dataset({\n",
              "    features: ['input_ids', 'attention_mask', 'labels'],\n",
              "    num_rows: 22225\n",
              "})"
            ]
          },
          "metadata": {},
          "execution_count": 38
        }
      ]
    },
    {
      "cell_type": "markdown",
      "source": [
        "18. Use `.with_format('tf')` to convert the dataset contents to TF tensors, and verify that the contents were modified with `ds_encoded[0]`."
      ],
      "metadata": {
        "id": "MW8FUN7k69Ab"
      }
    },
    {
      "cell_type": "code",
      "source": [
        "ds_encoded = ds_encoded.with_format('tensorflow')"
      ],
      "metadata": {
        "id": "tLjYRp4CwepI"
      },
      "execution_count": 39,
      "outputs": []
    },
    {
      "cell_type": "code",
      "source": [
        "ds_encoded[0]"
      ],
      "metadata": {
        "id": "Gnkpn12vwjVM",
        "outputId": "d6d23f1f-9797-4b3e-d021-1d63b7f7d802",
        "colab": {
          "base_uri": "https://localhost:8080/"
        }
      },
      "execution_count": 40,
      "outputs": [
        {
          "output_type": "execute_result",
          "data": {
            "text/plain": [
              "{'input_ids': <tf.Tensor: shape=(128,), dtype=int64, numpy=\n",
              " array([20608,    25, 31200,   273,   338, 39884,   198, 25216,    25,\n",
              "        33248,   851,  5524,  1012, 35626,   198, 32541,    25,  3274,\n",
              "         5587,   357,  1212,  7185,  7529,  5249,  2465,   878,  8109,\n",
              "         1231,   717,  5587,  2014,    59,    77,  2215, 31200,   273,\n",
              "          338, 39884, 14170,   262, 13480,    11,   345,  4461,   352,\n",
              "         1204,   329,  1123,  2657,   287,   534, 27672,    13,   198,\n",
              "         3697, 10116,  1581,    25,   366,   464,   481,   286,   477,\n",
              "           11,   416,   616,  1021,  1760,   526,   198, 50256, 50256,\n",
              "        50256, 50256, 50256, 50256, 50256, 50256, 50256, 50256, 50256,\n",
              "        50256, 50256, 50256, 50256, 50256, 50256, 50256, 50256, 50256,\n",
              "        50256, 50256, 50256, 50256, 50256, 50256, 50256, 50256, 50256,\n",
              "        50256, 50256, 50256, 50256, 50256, 50256, 50256, 50256, 50256,\n",
              "        50256, 50256, 50256, 50256, 50256, 50256, 50256, 50256, 50256,\n",
              "        50256, 50256, 50256, 50256, 50256, 50256, 50256, 50256, 50256,\n",
              "        50256, 50256])>,\n",
              " 'attention_mask': <tf.Tensor: shape=(128,), dtype=int64, numpy=\n",
              " array([1, 1, 1, 1, 1, 1, 1, 1, 1, 1, 1, 1, 1, 1, 1, 1, 1, 1, 1, 1, 1, 1,\n",
              "        1, 1, 1, 1, 1, 1, 1, 1, 1, 1, 1, 1, 1, 1, 1, 1, 1, 1, 1, 1, 1, 1,\n",
              "        1, 1, 1, 1, 1, 1, 1, 1, 1, 1, 1, 1, 1, 1, 1, 1, 1, 1, 1, 1, 1, 1,\n",
              "        1, 1, 1, 1, 0, 0, 0, 0, 0, 0, 0, 0, 0, 0, 0, 0, 0, 0, 0, 0, 0, 0,\n",
              "        0, 0, 0, 0, 0, 0, 0, 0, 0, 0, 0, 0, 0, 0, 0, 0, 0, 0, 0, 0, 0, 0,\n",
              "        0, 0, 0, 0, 0, 0, 0, 0, 0, 0, 0, 0, 0, 0, 0, 0, 0, 0])>,\n",
              " 'labels': <tf.Tensor: shape=(128,), dtype=int64, numpy=\n",
              " array([20608,    25, 31200,   273,   338, 39884,   198, 25216,    25,\n",
              "        33248,   851,  5524,  1012, 35626,   198, 32541,    25,  3274,\n",
              "         5587,   357,  1212,  7185,  7529,  5249,  2465,   878,  8109,\n",
              "         1231,   717,  5587,  2014,    59,    77,  2215, 31200,   273,\n",
              "          338, 39884, 14170,   262, 13480,    11,   345,  4461,   352,\n",
              "         1204,   329,  1123,  2657,   287,   534, 27672,    13,   198,\n",
              "         3697, 10116,  1581,    25,   366,   464,   481,   286,   477,\n",
              "           11,   416,   616,  1021,  1760,   526,   198, 50256, 50256,\n",
              "        50256, 50256, 50256, 50256, 50256, 50256, 50256, 50256, 50256,\n",
              "        50256, 50256, 50256, 50256, 50256, 50256, 50256, 50256, 50256,\n",
              "        50256, 50256, 50256, 50256, 50256, 50256, 50256, 50256, 50256,\n",
              "        50256, 50256, 50256, 50256, 50256, 50256, 50256, 50256, 50256,\n",
              "        50256, 50256, 50256, 50256, 50256, 50256, 50256, 50256, 50256,\n",
              "        50256, 50256, 50256, 50256, 50256, 50256, 50256, 50256, 50256,\n",
              "        50256, 50256])>}"
            ]
          },
          "metadata": {},
          "execution_count": 40
        }
      ]
    },
    {
      "cell_type": "markdown",
      "source": [
        "19. Use `tokenizer.decode(...)` with `ds_encoded[0]['input_ids']` to view the contents of the first sample. Verify that the output makes sense. Try running this with and without the argument `skip_special_tokens=True`; what is the difference in output?"
      ],
      "metadata": {
        "id": "Seh7yvIJ7fs-"
      }
    },
    {
      "cell_type": "code",
      "source": [
        "tokenizer.decode(ds_encoded[0]['input_ids'], skip_special_tokens=True)"
      ],
      "metadata": {
        "id": "Agdr2dfxwtBr",
        "outputId": "69e8fa31-7be5-465f-8489-2d5c6898465b",
        "colab": {
          "base_uri": "https://localhost:8080/",
          "height": 71
        }
      },
      "execution_count": 41,
      "outputs": [
        {
          "output_type": "execute_result",
          "data": {
            "text/plain": [
              "'NAME: Ancestor\\'s Chosen\\nTYPE: Creature — Human Cleric\\nTEXT: First strike (This creature deals combat damage before creatures without first strike.)\\\\nWhen Ancestor\\'s Chosen enters the battlefield, you gain 1 life for each card in your graveyard.\\nFLAVOR: \"The will of all, by my hand done.\"\\n'"
            ],
            "application/vnd.google.colaboratory.intrinsic+json": {
              "type": "string"
            }
          },
          "metadata": {},
          "execution_count": 41
        }
      ]
    },
    {
      "cell_type": "markdown",
      "source": [
        "With skip_special_tokens=True we do not have the special token of end of text."
      ],
      "metadata": {
        "id": "bCUE9SMbxAWa"
      }
    },
    {
      "cell_type": "markdown",
      "source": [
        "20. Run the code provided below to create a TensorFlow Dataset object with the given data shuffled (random order) and split into minibatches of size 4. Then try running `X = next(iter(tf_ds))` to retrieve a single minibatch, and explain the contents of `X`.\n",
        "\n",
        "**Note:** You can run `len(tf_ds)` to count the total number of minibatches in the dataset. The batch size might not divide the total number of samples; if this occurs, then by default there will be one smaller minibatch."
      ],
      "metadata": {
        "id": "x9forNJk8g_y"
      }
    },
    {
      "cell_type": "code",
      "source": [
        "# CODE FOR QUESTION 20\n",
        "tf_ds = ds_encoded.to_tf_dataset(\n",
        "    batch_size=4,\n",
        "    shuffle=True\n",
        ")"
      ],
      "metadata": {
        "id": "5n9DgUcQ8l8G"
      },
      "execution_count": 42,
      "outputs": []
    },
    {
      "cell_type": "code",
      "source": [
        "X = next(iter(tf_ds))\n"
      ],
      "metadata": {
        "id": "QjDLx-eGxIsZ"
      },
      "execution_count": 43,
      "outputs": []
    },
    {
      "cell_type": "code",
      "source": [
        "len(tf_ds)"
      ],
      "metadata": {
        "id": "bT-SaLHB6WQU",
        "outputId": "a508e1d5-4f66-48ed-b56d-4742d79b1cfa",
        "colab": {
          "base_uri": "https://localhost:8080/"
        }
      },
      "execution_count": 44,
      "outputs": [
        {
          "output_type": "execute_result",
          "data": {
            "text/plain": [
              "5557"
            ]
          },
          "metadata": {},
          "execution_count": 44
        }
      ]
    },
    {
      "cell_type": "code",
      "source": [
        "X"
      ],
      "metadata": {
        "id": "RQE_J5ElxZNJ",
        "outputId": "0e46531b-bb74-49a4-d855-c31b7db13637",
        "colab": {
          "base_uri": "https://localhost:8080/"
        }
      },
      "execution_count": 45,
      "outputs": [
        {
          "output_type": "execute_result",
          "data": {
            "text/plain": [
              "{'input_ids': <tf.Tensor: shape=(4, 128), dtype=int64, numpy=\n",
              " array([[20608,    25, 42271, 31203, 15799,   198, 25216,    25, 33248,\n",
              "           851, 43966,  6286, 16432,   198, 32541,    25,  1391,    16,\n",
              "          5512, 42036,   281, 24127,    25,  5930,   257,  1343,    16,\n",
              "         28404,    16,  3753,   319, 42271, 31203, 15799,    13,   632,\n",
              "          8810,   773,   395,  1356,   856,  1566,   886,   286,  1210,\n",
              "            13,   198,  3697, 10116,  1581,    25,   366,   464,  2756,\n",
              "          2125,   470,  2469,   313,  3379,    11,   475,   314,  1101,\n",
              "          1654,   345,  1183,  4236,   340,   338,  3148,   526,   198,\n",
              "         50256, 50256, 50256, 50256, 50256, 50256, 50256, 50256, 50256,\n",
              "         50256, 50256, 50256, 50256, 50256, 50256, 50256, 50256, 50256,\n",
              "         50256, 50256, 50256, 50256, 50256, 50256, 50256, 50256, 50256,\n",
              "         50256, 50256, 50256, 50256, 50256, 50256, 50256, 50256, 50256,\n",
              "         50256, 50256, 50256, 50256, 50256, 50256, 50256, 50256, 50256,\n",
              "         50256, 50256, 50256, 50256, 50256, 50256, 50256, 50256, 50256,\n",
              "         50256, 50256],\n",
              "        [20608,    25,  2039, 28923, 31867,   198, 25216,    25, 33293,\n",
              "           434,   198, 32541,    25,  1439,  6092,   658,   389, 23260,\n",
              "           902,   287,  3090,   284,   511,   584,  3858,    13,   198,\n",
              "          3697, 10116,  1581,    25, 34367,  5645,   290,  1660,   991,\n",
              "            82,    59,    77,    38,  1473, 36608,   278,   262,  5485,\n",
              "            59,    77,  5189,   477,  1243,    13,   198, 50256, 50256,\n",
              "         50256, 50256, 50256, 50256, 50256, 50256, 50256, 50256, 50256,\n",
              "         50256, 50256, 50256, 50256, 50256, 50256, 50256, 50256, 50256,\n",
              "         50256, 50256, 50256, 50256, 50256, 50256, 50256, 50256, 50256,\n",
              "         50256, 50256, 50256, 50256, 50256, 50256, 50256, 50256, 50256,\n",
              "         50256, 50256, 50256, 50256, 50256, 50256, 50256, 50256, 50256,\n",
              "         50256, 50256, 50256, 50256, 50256, 50256, 50256, 50256, 50256,\n",
              "         50256, 50256, 50256, 50256, 50256, 50256, 50256, 50256, 50256,\n",
              "         50256, 50256, 50256, 50256, 50256, 50256, 50256, 50256, 50256,\n",
              "         50256, 50256],\n",
              "        [20608,    25,  3561, 29772,   198, 25216,    25, 45908, 33248,\n",
              "           851, 29772,   198, 32541,    25,  1391,    51, 38362,  3060,\n",
              "          1391,    54, 27422,   198,  3697, 10116,  1581,    25,   383,\n",
              "           443,   261,   259,  1807,   286,   262,   616,    81,   355,\n",
              "         39030,   641,    11,  1239, 34140,   262, 26592, 10030,   484,\n",
              "          1674, 44040,    13,   198, 50256, 50256, 50256, 50256, 50256,\n",
              "         50256, 50256, 50256, 50256, 50256, 50256, 50256, 50256, 50256,\n",
              "         50256, 50256, 50256, 50256, 50256, 50256, 50256, 50256, 50256,\n",
              "         50256, 50256, 50256, 50256, 50256, 50256, 50256, 50256, 50256,\n",
              "         50256, 50256, 50256, 50256, 50256, 50256, 50256, 50256, 50256,\n",
              "         50256, 50256, 50256, 50256, 50256, 50256, 50256, 50256, 50256,\n",
              "         50256, 50256, 50256, 50256, 50256, 50256, 50256, 50256, 50256,\n",
              "         50256, 50256, 50256, 50256, 50256, 50256, 50256, 50256, 50256,\n",
              "         50256, 50256, 50256, 50256, 50256, 50256, 50256, 50256, 50256,\n",
              "         50256, 50256],\n",
              "        [20608,    25,  5265,  1406,   346,   198, 25216,    25, 33293,\n",
              "           434,   198, 32541,    25,  1391,    16,  5512, 37273,   734,\n",
              "          7185,  4116,   422,   257,  2060, 27672,    25, 13610,   257,\n",
              "           352,    14,    16,  4077, 35980,   305,  1359,  7185, 11241,\n",
              "            13,   198,  3697, 10116,  1581,    25,  2773,   531,  5170,\n",
              "           262,   536,   439,  2340,   691, 10085,   606,    13,   198,\n",
              "         50256, 50256, 50256, 50256, 50256, 50256, 50256, 50256, 50256,\n",
              "         50256, 50256, 50256, 50256, 50256, 50256, 50256, 50256, 50256,\n",
              "         50256, 50256, 50256, 50256, 50256, 50256, 50256, 50256, 50256,\n",
              "         50256, 50256, 50256, 50256, 50256, 50256, 50256, 50256, 50256,\n",
              "         50256, 50256, 50256, 50256, 50256, 50256, 50256, 50256, 50256,\n",
              "         50256, 50256, 50256, 50256, 50256, 50256, 50256, 50256, 50256,\n",
              "         50256, 50256, 50256, 50256, 50256, 50256, 50256, 50256, 50256,\n",
              "         50256, 50256, 50256, 50256, 50256, 50256, 50256, 50256, 50256,\n",
              "         50256, 50256]])>,\n",
              " 'attention_mask': <tf.Tensor: shape=(4, 128), dtype=int64, numpy=\n",
              " array([[1, 1, 1, 1, 1, 1, 1, 1, 1, 1, 1, 1, 1, 1, 1, 1, 1, 1, 1, 1, 1, 1,\n",
              "         1, 1, 1, 1, 1, 1, 1, 1, 1, 1, 1, 1, 1, 1, 1, 1, 1, 1, 1, 1, 1, 1,\n",
              "         1, 1, 1, 1, 1, 1, 1, 1, 1, 1, 1, 1, 1, 1, 1, 1, 1, 1, 1, 1, 1, 1,\n",
              "         1, 1, 1, 1, 1, 1, 0, 0, 0, 0, 0, 0, 0, 0, 0, 0, 0, 0, 0, 0, 0, 0,\n",
              "         0, 0, 0, 0, 0, 0, 0, 0, 0, 0, 0, 0, 0, 0, 0, 0, 0, 0, 0, 0, 0, 0,\n",
              "         0, 0, 0, 0, 0, 0, 0, 0, 0, 0, 0, 0, 0, 0, 0, 0, 0, 0],\n",
              "        [1, 1, 1, 1, 1, 1, 1, 1, 1, 1, 1, 1, 1, 1, 1, 1, 1, 1, 1, 1, 1, 1,\n",
              "         1, 1, 1, 1, 1, 1, 1, 1, 1, 1, 1, 1, 1, 1, 1, 1, 1, 1, 1, 1, 1, 1,\n",
              "         1, 1, 1, 1, 1, 1, 1, 1, 0, 0, 0, 0, 0, 0, 0, 0, 0, 0, 0, 0, 0, 0,\n",
              "         0, 0, 0, 0, 0, 0, 0, 0, 0, 0, 0, 0, 0, 0, 0, 0, 0, 0, 0, 0, 0, 0,\n",
              "         0, 0, 0, 0, 0, 0, 0, 0, 0, 0, 0, 0, 0, 0, 0, 0, 0, 0, 0, 0, 0, 0,\n",
              "         0, 0, 0, 0, 0, 0, 0, 0, 0, 0, 0, 0, 0, 0, 0, 0, 0, 0],\n",
              "        [1, 1, 1, 1, 1, 1, 1, 1, 1, 1, 1, 1, 1, 1, 1, 1, 1, 1, 1, 1, 1, 1,\n",
              "         1, 1, 1, 1, 1, 1, 1, 1, 1, 1, 1, 1, 1, 1, 1, 1, 1, 1, 1, 1, 1, 1,\n",
              "         1, 1, 1, 1, 1, 0, 0, 0, 0, 0, 0, 0, 0, 0, 0, 0, 0, 0, 0, 0, 0, 0,\n",
              "         0, 0, 0, 0, 0, 0, 0, 0, 0, 0, 0, 0, 0, 0, 0, 0, 0, 0, 0, 0, 0, 0,\n",
              "         0, 0, 0, 0, 0, 0, 0, 0, 0, 0, 0, 0, 0, 0, 0, 0, 0, 0, 0, 0, 0, 0,\n",
              "         0, 0, 0, 0, 0, 0, 0, 0, 0, 0, 0, 0, 0, 0, 0, 0, 0, 0],\n",
              "        [1, 1, 1, 1, 1, 1, 1, 1, 1, 1, 1, 1, 1, 1, 1, 1, 1, 1, 1, 1, 1, 1,\n",
              "         1, 1, 1, 1, 1, 1, 1, 1, 1, 1, 1, 1, 1, 1, 1, 1, 1, 1, 1, 1, 1, 1,\n",
              "         1, 1, 1, 1, 1, 1, 1, 1, 1, 1, 0, 0, 0, 0, 0, 0, 0, 0, 0, 0, 0, 0,\n",
              "         0, 0, 0, 0, 0, 0, 0, 0, 0, 0, 0, 0, 0, 0, 0, 0, 0, 0, 0, 0, 0, 0,\n",
              "         0, 0, 0, 0, 0, 0, 0, 0, 0, 0, 0, 0, 0, 0, 0, 0, 0, 0, 0, 0, 0, 0,\n",
              "         0, 0, 0, 0, 0, 0, 0, 0, 0, 0, 0, 0, 0, 0, 0, 0, 0, 0]])>,\n",
              " 'labels': <tf.Tensor: shape=(4, 128), dtype=int64, numpy=\n",
              " array([[20608,    25, 42271, 31203, 15799,   198, 25216,    25, 33248,\n",
              "           851, 43966,  6286, 16432,   198, 32541,    25,  1391,    16,\n",
              "          5512, 42036,   281, 24127,    25,  5930,   257,  1343,    16,\n",
              "         28404,    16,  3753,   319, 42271, 31203, 15799,    13,   632,\n",
              "          8810,   773,   395,  1356,   856,  1566,   886,   286,  1210,\n",
              "            13,   198,  3697, 10116,  1581,    25,   366,   464,  2756,\n",
              "          2125,   470,  2469,   313,  3379,    11,   475,   314,  1101,\n",
              "          1654,   345,  1183,  4236,   340,   338,  3148,   526,   198,\n",
              "         50256, 50256, 50256, 50256, 50256, 50256, 50256, 50256, 50256,\n",
              "         50256, 50256, 50256, 50256, 50256, 50256, 50256, 50256, 50256,\n",
              "         50256, 50256, 50256, 50256, 50256, 50256, 50256, 50256, 50256,\n",
              "         50256, 50256, 50256, 50256, 50256, 50256, 50256, 50256, 50256,\n",
              "         50256, 50256, 50256, 50256, 50256, 50256, 50256, 50256, 50256,\n",
              "         50256, 50256, 50256, 50256, 50256, 50256, 50256, 50256, 50256,\n",
              "         50256, 50256],\n",
              "        [20608,    25,  2039, 28923, 31867,   198, 25216,    25, 33293,\n",
              "           434,   198, 32541,    25,  1439,  6092,   658,   389, 23260,\n",
              "           902,   287,  3090,   284,   511,   584,  3858,    13,   198,\n",
              "          3697, 10116,  1581,    25, 34367,  5645,   290,  1660,   991,\n",
              "            82,    59,    77,    38,  1473, 36608,   278,   262,  5485,\n",
              "            59,    77,  5189,   477,  1243,    13,   198, 50256, 50256,\n",
              "         50256, 50256, 50256, 50256, 50256, 50256, 50256, 50256, 50256,\n",
              "         50256, 50256, 50256, 50256, 50256, 50256, 50256, 50256, 50256,\n",
              "         50256, 50256, 50256, 50256, 50256, 50256, 50256, 50256, 50256,\n",
              "         50256, 50256, 50256, 50256, 50256, 50256, 50256, 50256, 50256,\n",
              "         50256, 50256, 50256, 50256, 50256, 50256, 50256, 50256, 50256,\n",
              "         50256, 50256, 50256, 50256, 50256, 50256, 50256, 50256, 50256,\n",
              "         50256, 50256, 50256, 50256, 50256, 50256, 50256, 50256, 50256,\n",
              "         50256, 50256, 50256, 50256, 50256, 50256, 50256, 50256, 50256,\n",
              "         50256, 50256],\n",
              "        [20608,    25,  3561, 29772,   198, 25216,    25, 45908, 33248,\n",
              "           851, 29772,   198, 32541,    25,  1391,    51, 38362,  3060,\n",
              "          1391,    54, 27422,   198,  3697, 10116,  1581,    25,   383,\n",
              "           443,   261,   259,  1807,   286,   262,   616,    81,   355,\n",
              "         39030,   641,    11,  1239, 34140,   262, 26592, 10030,   484,\n",
              "          1674, 44040,    13,   198, 50256, 50256, 50256, 50256, 50256,\n",
              "         50256, 50256, 50256, 50256, 50256, 50256, 50256, 50256, 50256,\n",
              "         50256, 50256, 50256, 50256, 50256, 50256, 50256, 50256, 50256,\n",
              "         50256, 50256, 50256, 50256, 50256, 50256, 50256, 50256, 50256,\n",
              "         50256, 50256, 50256, 50256, 50256, 50256, 50256, 50256, 50256,\n",
              "         50256, 50256, 50256, 50256, 50256, 50256, 50256, 50256, 50256,\n",
              "         50256, 50256, 50256, 50256, 50256, 50256, 50256, 50256, 50256,\n",
              "         50256, 50256, 50256, 50256, 50256, 50256, 50256, 50256, 50256,\n",
              "         50256, 50256, 50256, 50256, 50256, 50256, 50256, 50256, 50256,\n",
              "         50256, 50256],\n",
              "        [20608,    25,  5265,  1406,   346,   198, 25216,    25, 33293,\n",
              "           434,   198, 32541,    25,  1391,    16,  5512, 37273,   734,\n",
              "          7185,  4116,   422,   257,  2060, 27672,    25, 13610,   257,\n",
              "           352,    14,    16,  4077, 35980,   305,  1359,  7185, 11241,\n",
              "            13,   198,  3697, 10116,  1581,    25,  2773,   531,  5170,\n",
              "           262,   536,   439,  2340,   691, 10085,   606,    13,   198,\n",
              "         50256, 50256, 50256, 50256, 50256, 50256, 50256, 50256, 50256,\n",
              "         50256, 50256, 50256, 50256, 50256, 50256, 50256, 50256, 50256,\n",
              "         50256, 50256, 50256, 50256, 50256, 50256, 50256, 50256, 50256,\n",
              "         50256, 50256, 50256, 50256, 50256, 50256, 50256, 50256, 50256,\n",
              "         50256, 50256, 50256, 50256, 50256, 50256, 50256, 50256, 50256,\n",
              "         50256, 50256, 50256, 50256, 50256, 50256, 50256, 50256, 50256,\n",
              "         50256, 50256, 50256, 50256, 50256, 50256, 50256, 50256, 50256,\n",
              "         50256, 50256, 50256, 50256, 50256, 50256, 50256, 50256, 50256,\n",
              "         50256, 50256]])>}"
            ]
          },
          "metadata": {},
          "execution_count": 45
        }
      ]
    },
    {
      "cell_type": "markdown",
      "source": [
        "X is the first element of tf_ds. If we do next(...) again, we get the second element"
      ],
      "metadata": {
        "id": "kJf3Mp1rxxQX"
      }
    },
    {
      "cell_type": "markdown",
      "source": [
        "# Part 3: Training the Model\n",
        "\n",
        "**Questions:**\n",
        "\n",
        "21. Using `transformers.TFAutoModelForCausalLM`, load the pretrained `'distilgpt2'` model with a language modeling head in a variable `model`."
      ],
      "metadata": {
        "id": "rjR3gIPn8Bub"
      }
    },
    {
      "cell_type": "code",
      "source": [
        "import transformers\n",
        "model = transformers.TFAutoModelForCausalLM.from_pretrained('distilgpt2')"
      ],
      "metadata": {
        "id": "93GxLpszyFNa",
        "outputId": "ac10249c-bffb-4b42-d884-91e5de07598f",
        "colab": {
          "base_uri": "https://localhost:8080/"
        }
      },
      "execution_count": 46,
      "outputs": [
        {
          "output_type": "stream",
          "name": "stderr",
          "text": [
            "All PyTorch model weights were used when initializing TFGPT2LMHeadModel.\n",
            "\n",
            "All the weights of TFGPT2LMHeadModel were initialized from the PyTorch model.\n",
            "If your task is similar to the task the model of the checkpoint was trained on, you can already use TFGPT2LMHeadModel for predictions without further training.\n"
          ]
        }
      ]
    },
    {
      "cell_type": "markdown",
      "source": [
        "22. Using `output = model.predict(X)`, look at the (currently not fine-tuned) network's results on a single minibatch of data. Explain the contents of `output.logits` and particularly its shape `output.logits.shape`."
      ],
      "metadata": {
        "id": "gqist450-I4q"
      }
    },
    {
      "cell_type": "code",
      "source": [
        "output = model.predict(X)"
      ],
      "metadata": {
        "id": "dFLY5mZQyXgt",
        "outputId": "91caa438-621f-471d-9728-4d0cfc192e9b",
        "colab": {
          "base_uri": "https://localhost:8080/"
        }
      },
      "execution_count": 47,
      "outputs": [
        {
          "output_type": "stream",
          "name": "stdout",
          "text": [
            "1/1 [==============================] - 22s 22s/step\n"
          ]
        }
      ]
    },
    {
      "cell_type": "code",
      "source": [
        "output.logits"
      ],
      "metadata": {
        "id": "MqoeenRAya6x",
        "outputId": "c5300817-8ce9-41c5-f3c6-50111de56dae",
        "colab": {
          "base_uri": "https://localhost:8080/"
        }
      },
      "execution_count": 48,
      "outputs": [
        {
          "output_type": "execute_result",
          "data": {
            "text/plain": [
              "array([[[-32.257072, -30.385042, -32.137436, ..., -43.743927,\n",
              "         -43.79963 , -32.460392],\n",
              "        [-48.66858 , -48.450405, -47.784416, ..., -56.459133,\n",
              "         -55.847466, -46.451385],\n",
              "        [-58.795193, -60.38475 , -61.91292 , ..., -67.010155,\n",
              "         -69.837425, -58.850807],\n",
              "        ...,\n",
              "        [-53.592545, -46.961857, -49.107777, ..., -67.06551 ,\n",
              "         -67.91398 , -54.49185 ],\n",
              "        [-53.555424, -46.925102, -49.06888 , ..., -67.030334,\n",
              "         -67.8753  , -54.45296 ],\n",
              "        [-53.554325, -46.932434, -49.07457 , ..., -67.025604,\n",
              "         -67.873856, -54.45477 ]],\n",
              "\n",
              "       [[-32.257072, -30.385042, -32.137436, ..., -43.743927,\n",
              "         -43.79963 , -32.460392],\n",
              "        [-48.66858 , -48.450405, -47.784416, ..., -56.459133,\n",
              "         -55.847466, -46.451385],\n",
              "        [-42.64896 , -41.85536 , -44.187946, ..., -51.332806,\n",
              "         -49.60682 , -42.036198],\n",
              "        ...,\n",
              "        [-52.246944, -46.277504, -47.832546, ..., -65.54337 ,\n",
              "         -65.40008 , -52.96806 ],\n",
              "        [-52.23244 , -46.257587, -47.81387 , ..., -65.52838 ,\n",
              "         -65.392204, -52.955433],\n",
              "        [-52.229828, -46.267567, -47.81796 , ..., -65.52319 ,\n",
              "         -65.381744, -52.95417 ]],\n",
              "\n",
              "       [[-32.257072, -30.385042, -32.137436, ..., -43.743927,\n",
              "         -43.79963 , -32.460392],\n",
              "        [-48.66858 , -48.450405, -47.784416, ..., -56.459133,\n",
              "         -55.847466, -46.451385],\n",
              "        [-54.39255 , -54.530235, -56.428528, ..., -63.14238 ,\n",
              "         -62.541935, -54.624374],\n",
              "        ...,\n",
              "        [-53.93147 , -47.73744 , -49.56592 , ..., -67.157524,\n",
              "         -67.184296, -54.72957 ],\n",
              "        [-53.90659 , -47.71288 , -49.541824, ..., -67.13579 ,\n",
              "         -67.16539 , -54.70703 ],\n",
              "        [-53.915245, -47.72674 , -49.551826, ..., -67.14292 ,\n",
              "         -67.17013 , -54.718018]],\n",
              "\n",
              "       [[-32.257072, -30.385042, -32.137436, ..., -43.743927,\n",
              "         -43.79963 , -32.460392],\n",
              "        [-48.66858 , -48.450405, -47.784416, ..., -56.459133,\n",
              "         -55.847466, -46.451385],\n",
              "        [-57.907402, -57.647255, -60.76998 , ..., -67.77962 ,\n",
              "         -64.58787 , -58.455856],\n",
              "        ...,\n",
              "        [-54.472496, -48.23543 , -50.00065 , ..., -67.88096 ,\n",
              "         -68.13998 , -55.530888],\n",
              "        [-54.416374, -48.176846, -49.94053 , ..., -67.827644,\n",
              "         -68.08759 , -55.475418],\n",
              "        [-54.442207, -48.21429 , -49.97542 , ..., -67.84961 ,\n",
              "         -68.10892 , -55.503696]]], dtype=float32)"
            ]
          },
          "metadata": {},
          "execution_count": 48
        }
      ]
    },
    {
      "cell_type": "markdown",
      "source": [
        "We get the unnormalized probabilities for each token in the vocabulary."
      ],
      "metadata": {
        "id": "rr3dUDaVzxDR"
      }
    },
    {
      "cell_type": "code",
      "source": [
        "output.logits.shape"
      ],
      "metadata": {
        "id": "r2jJDe2Jz4hJ",
        "outputId": "ae7a72f4-8e8c-43fd-e7cb-5eed837ff15a",
        "colab": {
          "base_uri": "https://localhost:8080/"
        }
      },
      "execution_count": 49,
      "outputs": [
        {
          "output_type": "execute_result",
          "data": {
            "text/plain": [
              "(4, 128, 50257)"
            ]
          },
          "metadata": {},
          "execution_count": 49
        }
      ]
    },
    {
      "cell_type": "markdown",
      "source": [
        "We get the number of batch_size, then the length of each input and then the vocabulary size of the model."
      ],
      "metadata": {
        "id": "FDSoRwXR0Fb6"
      }
    },
    {
      "cell_type": "markdown",
      "source": [
        "23. Compile the model with the Adam optimizer. There is no need to specify the loss; the `TFAutoModelForCausalLM` API has a built-in default loss (cross-entropy loss for language modeling).\n",
        "\n",
        "   Verify that `output.loss` contains loss values that were already calculated on our minibatch, so the model already had a loss function set."
      ],
      "metadata": {
        "id": "KUap5TiL_TVl"
      }
    },
    {
      "cell_type": "code",
      "source": [
        "model.compile(optimizer = 'adam')"
      ],
      "metadata": {
        "id": "ONPa5HVj0NER"
      },
      "execution_count": 50,
      "outputs": []
    },
    {
      "cell_type": "code",
      "source": [
        "output.loss"
      ],
      "metadata": {
        "id": "Fr-NQYmR0XAc",
        "outputId": "f8d562be-2beb-4532-a5a5-dc1865a01513",
        "colab": {
          "base_uri": "https://localhost:8080/"
        }
      },
      "execution_count": 51,
      "outputs": [
        {
          "output_type": "execute_result",
          "data": {
            "text/plain": [
              "array([8.495919], dtype=float32)"
            ]
          },
          "metadata": {},
          "execution_count": 51
        }
      ]
    },
    {
      "cell_type": "markdown",
      "source": [
        "24. Fit the model on our dataset using `model.fit(tf_ds, ...)`. Train for at least one epoch. On GPU this should take about 10 minutes.\n",
        "\n",
        "  **Note:** For simplicity we didn't use a validation set, but you could split your data and use one to determine the optimal number of epochs."
      ],
      "metadata": {
        "id": "2-N3Wzya_-Ph"
      }
    },
    {
      "cell_type": "code",
      "source": [
        "model.fit(tf_ds,epochs = 1)"
      ],
      "metadata": {
        "id": "wx9aoDMQ0fbO",
        "outputId": "55067c16-afd8-4a95-fceb-457479935f6a",
        "colab": {
          "base_uri": "https://localhost:8080/"
        }
      },
      "execution_count": 52,
      "outputs": [
        {
          "output_type": "stream",
          "name": "stderr",
          "text": [
            "WARNING:tensorflow:AutoGraph could not transform <function infer_framework at 0x7f82d2a48b80> and will run it as-is.\n",
            "Cause: for/else statement not yet supported\n",
            "To silence this warning, decorate the function with @tf.autograph.experimental.do_not_convert\n"
          ]
        },
        {
          "output_type": "stream",
          "name": "stdout",
          "text": [
            "WARNING: AutoGraph could not transform <function infer_framework at 0x7f82d2a48b80> and will run it as-is.\n",
            "Cause: for/else statement not yet supported\n",
            "To silence this warning, decorate the function with @tf.autograph.experimental.do_not_convert\n",
            "5557/5557 [==============================] - 760s 130ms/step - loss: 1.3911\n"
          ]
        },
        {
          "output_type": "execute_result",
          "data": {
            "text/plain": [
              "<tf_keras.src.callbacks.History at 0x7f82058cb310>"
            ]
          },
          "metadata": {},
          "execution_count": 52
        }
      ]
    },
    {
      "cell_type": "markdown",
      "source": [
        "# Part 4: Decoding a MTG Card!\n",
        "\n",
        "**Questions:**\n",
        "\n",
        "25. First let's try **greedy decoding**. Use `model.generate(max_length=...)` to generate some text from your model (if you don't specify `max_length` the default is 20, which is too short for us). Examine the output using `tokenizer.decode(...)`. Does it look like the model learned something?\n",
        "\n",
        "  **Note:** The word \"NAME\" is probably missing from the beginning of the output. That is ok. The model was trained to always predict the *next* word so the first word in the inputs was never used as the target. (Another option would be to add a special BOS token to the beginning of each sample in tokenization.)"
      ],
      "metadata": {
        "id": "U_PUdn9fAYR2"
      }
    },
    {
      "cell_type": "code",
      "source": [
        "greedy = model.generate(max_length = 50)"
      ],
      "metadata": {
        "id": "I7KOUlCi_WoA",
        "outputId": "efd1eede-d9e3-4c84-c942-dec9287a1b9b",
        "colab": {
          "base_uri": "https://localhost:8080/"
        }
      },
      "execution_count": 53,
      "outputs": [
        {
          "output_type": "stream",
          "name": "stderr",
          "text": [
            "The attention mask and the pad token id were not set. As a consequence, you may observe unexpected behavior. Please pass your input's `attention_mask` to obtain reliable results.\n",
            "Setting `pad_token_id` to `eos_token_id`:50256 for open-end generation.\n",
            "A decoder-only architecture is being used, but right-padding was detected! For correct generation results, please set `padding_side='left'` when initializing the tokenizer.\n"
          ]
        }
      ]
    },
    {
      "cell_type": "code",
      "source": [
        "print(tokenizer.decode(greedy[0], skip_special_tokens = True))"
      ],
      "metadata": {
        "id": "KMGLE3UPCcpR",
        "outputId": "2767c8fa-1029-4c07-9ee9-4e3bcf289113",
        "colab": {
          "base_uri": "https://localhost:8080/"
        }
      },
      "execution_count": 54,
      "outputs": [
        {
          "output_type": "stream",
          "name": "stdout",
          "text": [
            ": Mire's Will\n",
            "TYPE: Sorcery\n",
            "TEXT: Target opponent reveals their hand. You choose a nonland card from it. That player discards that card.\n",
            "FLAVOR: \"I've seen the light of the world\n"
          ]
        }
      ]
    },
    {
      "cell_type": "markdown",
      "source": [
        "Does nott seems that the model learned something"
      ],
      "metadata": {
        "id": "zbwKO36ZDdjy"
      }
    },
    {
      "cell_type": "markdown",
      "source": [
        "26. Try generating again using the same method as the previous question. Is the output different, or exactly the same? Why or why not?"
      ],
      "metadata": {
        "id": "iYAqiKUhJX8o"
      }
    },
    {
      "cell_type": "code",
      "source": [
        "greedy_bis = model.generate(max_length = 50)\n",
        "print(tokenizer.decode(greedy_bis[0], skip_special_tokens = True))"
      ],
      "metadata": {
        "id": "IX7weKrADiOG",
        "outputId": "4e776f6a-0f42-4cbd-931f-d7c1a47a7bae",
        "colab": {
          "base_uri": "https://localhost:8080/"
        }
      },
      "execution_count": 55,
      "outputs": [
        {
          "output_type": "stream",
          "name": "stderr",
          "text": [
            "The attention mask and the pad token id were not set. As a consequence, you may observe unexpected behavior. Please pass your input's `attention_mask` to obtain reliable results.\n",
            "Setting `pad_token_id` to `eos_token_id`:50256 for open-end generation.\n",
            "A decoder-only architecture is being used, but right-padding was detected! For correct generation results, please set `padding_side='left'` when initializing the tokenizer.\n"
          ]
        },
        {
          "output_type": "stream",
          "name": "stdout",
          "text": [
            ": Mire's Will\n",
            "TYPE: Sorcery\n",
            "TEXT: Target opponent reveals their hand. You choose a nonland card from it. That player discards that card.\n",
            "FLAVOR: \"I've seen the light of the world\n"
          ]
        }
      ]
    },
    {
      "cell_type": "markdown",
      "source": [
        "The output is the same because we have the default parameter : do_sample = False"
      ],
      "metadata": {
        "id": "3s51e4g_EZnR"
      }
    },
    {
      "cell_type": "markdown",
      "source": [
        "27. Now let's try decoding with **sampling**. Use the following arguments in `model.generate(...)`:\n",
        "\n",
        "  * `do_sample=True`: So that we use sampling\n",
        "  * `max_length=...`: Make it large enough so that we generate entire cards\n",
        "  * `num_return_sequences=...`: Use some number greater than one. **Note:** It's faster to generate groups of texts than one at a time, because of batch inference (especially on GPU).\n",
        "\n",
        "  Are the outputs now the same, or different from each other? Why or why not?"
      ],
      "metadata": {
        "id": "lYK8IIfCJaOi"
      }
    },
    {
      "cell_type": "code",
      "source": [
        "sampling = model.generate(max_length = 80, do_sample = True, num_return_sequences = 3)"
      ],
      "metadata": {
        "id": "edahj0F-FB5D",
        "outputId": "ea2a52e1-89f0-41b6-e4e8-ff3e5847f025",
        "colab": {
          "base_uri": "https://localhost:8080/"
        }
      },
      "execution_count": 56,
      "outputs": [
        {
          "output_type": "stream",
          "name": "stderr",
          "text": [
            "The attention mask and the pad token id were not set. As a consequence, you may observe unexpected behavior. Please pass your input's `attention_mask` to obtain reliable results.\n",
            "Setting `pad_token_id` to `eos_token_id`:50256 for open-end generation.\n",
            "A decoder-only architecture is being used, but right-padding was detected! For correct generation results, please set `padding_side='left'` when initializing the tokenizer.\n"
          ]
        }
      ]
    },
    {
      "cell_type": "code",
      "source": [
        "decoded_outputs = [tokenizer.decode(output, skip_special_tokens=True) for output in sampling]\n",
        "for i,output in enumerate(decoded_outputs):\n",
        "  print(f'Output {i}')\n",
        "  print(output)\n",
        "  print('\\n')"
      ],
      "metadata": {
        "id": "6JFqrY72FO-4",
        "outputId": "5e2182b6-9901-4d69-ffe7-053a917216ce",
        "colab": {
          "base_uri": "https://localhost:8080/"
        }
      },
      "execution_count": 57,
      "outputs": [
        {
          "output_type": "stream",
          "name": "stdout",
          "text": [
            "Output 0\n",
            ": Soltari's Insight\n",
            "TYPE: Artifact — Equipment\n",
            "TEXT: Equipped creature has first strike and shroud. (It can't be the targets of spells or abilities.)\\nEquip {3} ({3}: Attach to target creature you control. Equip only as a sorcery.)\n",
            "FLAVOR: \"Just for the light, there's true hope on all things.\"\n",
            "\n",
            "\n",
            "Output 1\n",
            ": Abundant\n",
            "TYPE: Creature — Human Wizard\n",
            "TEXT: Flying\\n{T}: Add {C}.\\n{5}{U}{G}, {T}{U}: Target spell costs {1} more to cast. (To gain control of it, put the card face up onto the battlefield with a +1/+1 counter on it.)\n",
            "FLAVOR: \"\n",
            "\n",
            "\n",
            "Output 2\n",
            ": Goblin Biblioplex\n",
            "TYPE: Creature — Goblin Wizard\n",
            "TEXT: Return target artifact creature to their owner's hand.\n",
            "FLAVOR: \"We must not master those who may bring it.\"\\n—Halvor Arenson, task mage\n",
            "\n",
            "\n",
            "\n"
          ]
        }
      ]
    },
    {
      "cell_type": "markdown",
      "source": [
        "Now the outputs are different."
      ],
      "metadata": {
        "id": "t2agPjltFYYF"
      }
    },
    {
      "cell_type": "markdown",
      "source": [
        "28. Check in `df` to make sure that your model is actually generating new cards and not just memorizing existing cards (i.e. search for the generated cards' names in `df`)."
      ],
      "metadata": {
        "id": "QLa00yT9Jb99"
      }
    },
    {
      "cell_type": "code",
      "source": [
        "np.where(df.name == \"Mardu's Judgment\")"
      ],
      "metadata": {
        "id": "GuQyjj28FbTp",
        "outputId": "c04e47cc-1998-4a8e-f777-73be4b5c2e25",
        "colab": {
          "base_uri": "https://localhost:8080/"
        }
      },
      "execution_count": 58,
      "outputs": [
        {
          "output_type": "execute_result",
          "data": {
            "text/plain": [
              "(array([], dtype=int64),)"
            ]
          },
          "metadata": {},
          "execution_count": 58
        }
      ]
    },
    {
      "cell_type": "code",
      "source": [
        "np.where(df.name == \"Thrull\")"
      ],
      "metadata": {
        "id": "W0kcyHufGz2A",
        "outputId": "5682651d-018b-4117-8b7c-9776bca2b3f4",
        "colab": {
          "base_uri": "https://localhost:8080/"
        }
      },
      "execution_count": 59,
      "outputs": [
        {
          "output_type": "execute_result",
          "data": {
            "text/plain": [
              "(array([], dtype=int64),)"
            ]
          },
          "metadata": {},
          "execution_count": 59
        }
      ]
    },
    {
      "cell_type": "code",
      "source": [
        "np.where(df.name == 'Vindictive Charge')"
      ],
      "metadata": {
        "id": "JbAgmYysG17V",
        "outputId": "79338297-2897-403c-82a1-4ff8a25faa2c",
        "colab": {
          "base_uri": "https://localhost:8080/"
        }
      },
      "execution_count": 60,
      "outputs": [
        {
          "output_type": "execute_result",
          "data": {
            "text/plain": [
              "(array([], dtype=int64),)"
            ]
          },
          "metadata": {},
          "execution_count": 60
        }
      ]
    },
    {
      "cell_type": "markdown",
      "source": [
        "The generated names does not exist on the dataset."
      ],
      "metadata": {
        "id": "uq6qUhCQF_kG"
      }
    },
    {
      "cell_type": "markdown",
      "source": [
        "29. Repeat the generation with sampling for different temperature values including `temperature=1`, `temperature=0.5` and `temperature=1.5`. What happens when the temperature is raised or lowered?"
      ],
      "metadata": {
        "id": "5WUncIdtJdVb"
      }
    },
    {
      "cell_type": "code",
      "source": [
        "sampling_bis = model.generate(max_length = 80, do_sample = True, num_return_sequences = 3, temperature = 1)"
      ],
      "metadata": {
        "id": "XzGvaUf-GEBh",
        "outputId": "27374a36-38d4-46b2-a107-48b7cdcc3808",
        "colab": {
          "base_uri": "https://localhost:8080/"
        }
      },
      "execution_count": 61,
      "outputs": [
        {
          "output_type": "stream",
          "name": "stderr",
          "text": [
            "The attention mask and the pad token id were not set. As a consequence, you may observe unexpected behavior. Please pass your input's `attention_mask` to obtain reliable results.\n",
            "Setting `pad_token_id` to `eos_token_id`:50256 for open-end generation.\n",
            "A decoder-only architecture is being used, but right-padding was detected! For correct generation results, please set `padding_side='left'` when initializing the tokenizer.\n"
          ]
        }
      ]
    },
    {
      "cell_type": "code",
      "source": [
        "decoded_outputs = [tokenizer.decode(output, skip_special_tokens = True) for output in sampling_bis]\n",
        "for i,output in enumerate(decoded_outputs):\n",
        "  print(f'Output {i}')\n",
        "  print(output)\n",
        "  print('\\n')"
      ],
      "metadata": {
        "id": "ejMXqvo2GMGo",
        "outputId": "a3a0afe2-eeb2-4527-e5cc-ed757320f1dc",
        "colab": {
          "base_uri": "https://localhost:8080/"
        }
      },
      "execution_count": 62,
      "outputs": [
        {
          "output_type": "stream",
          "name": "stdout",
          "text": [
            "Output 0\n",
            ": Skybrute\n",
            "TYPE: Artifact Creature — Construct\n",
            "TEXT: Flash\\n{0}, Sacrifice Skybrute's Vehicle: Aetherbrute gets +2/+2 until end of turn.\n",
            "FLAVOR: Urza is almost as efficient as the Ætheric device itself as the draught.\n",
            "\n",
            "\n",
            "\n",
            "Output 1\n",
            ": Hornesnya the Skywise\n",
            "TYPE: Legendary Creature — Human Soldier\n",
            "TEXT: Whenever another Giant you control dies, you may draw a card. If this ability has been activated and it is an artifact creature, it's an additional trigger.\n",
            "FLAVOR: The path and the sunlit starlight. \"Eron shall not overcome you.\"\n",
            "\n",
            "\n",
            "\n",
            "Output 2\n",
            ": Goblin Flute\n",
            "TYPE: Instant\n",
            "TEXT: Exile any target nontlegendary ability.\n",
            "FLAVOR: \"To master a creature, you will never give it. So much is done. It will not allow to make it.\"\\n—Karn, silver golem\n",
            "\n",
            "\n",
            "\n"
          ]
        }
      ]
    },
    {
      "cell_type": "code",
      "source": [
        "sampling_ter = model.generate(max_length = 80, do_sample = True, num_return_sequences = 3, temperature = 0.5)\n",
        "decoded_outputs = [tokenizer.decode(output, skip_special_tokens = True) for output in sampling_ter]\n",
        "for i,output in enumerate(decoded_outputs):\n",
        "  print(f'Output {i}')\n",
        "  print(output)\n",
        "  print('\\n')"
      ],
      "metadata": {
        "id": "3d9yBXXxHeYr",
        "outputId": "8e3d3368-002d-4e77-cc97-25c4c2fa3ac9",
        "colab": {
          "base_uri": "https://localhost:8080/"
        }
      },
      "execution_count": 63,
      "outputs": [
        {
          "output_type": "stream",
          "name": "stderr",
          "text": [
            "The attention mask and the pad token id were not set. As a consequence, you may observe unexpected behavior. Please pass your input's `attention_mask` to obtain reliable results.\n",
            "Setting `pad_token_id` to `eos_token_id`:50256 for open-end generation.\n",
            "A decoder-only architecture is being used, but right-padding was detected! For correct generation results, please set `padding_side='left'` when initializing the tokenizer.\n"
          ]
        },
        {
          "output_type": "stream",
          "name": "stdout",
          "text": [
            "Output 0\n",
            ": Goblin Manta\n",
            "TYPE: Creature — Goblin Artificer\n",
            "TEXT: {T}, Sacrifice a land: Target opponent loses 1 life.\n",
            "FLAVOR: \"I've found a way to keep the world and the world in my way.\"\\n—Ayli, journal\n",
            "\n",
            "\n",
            "\n",
            "Output 1\n",
            ": Hymn of the Ebon Hand\n",
            "TYPE: Creature — Elf Shaman\n",
            "TEXT: {T}: Add {G}.\n",
            "FLAVOR: \"I have seen the light of the world. We have learned the light of the world as once again.\"\n",
            "\n",
            "\n",
            "\n",
            "Output 2\n",
            ": Mogg Sentry\n",
            "TYPE: Creature — Goblin\n",
            "TEXT: {1}{R}{W}, {T}: Target creature gets -1/-1 until end of turn.\n",
            "FLAVOR: Moggs are not known for the Moggs.\n",
            "\n",
            "\n",
            "\n"
          ]
        }
      ]
    },
    {
      "cell_type": "code",
      "source": [
        "sampling_terbis = model.generate(max_length = 80, do_sample = True, num_return_sequences = 3, temperature = 1.5)\n",
        "decoded_outputs = [tokenizer.decode(output, skip_special_tokens = True) for output in sampling_terbis]\n",
        "for i,output in enumerate(decoded_outputs):\n",
        "  print(f'Output {i}')\n",
        "  print(output)\n",
        "  print('\\n')"
      ],
      "metadata": {
        "id": "JMkht5auHu-U",
        "outputId": "8a985ec6-66f9-4269-feb2-c8698a2f8943",
        "colab": {
          "base_uri": "https://localhost:8080/"
        }
      },
      "execution_count": 64,
      "outputs": [
        {
          "output_type": "stream",
          "name": "stderr",
          "text": [
            "The attention mask and the pad token id were not set. As a consequence, you may observe unexpected behavior. Please pass your input's `attention_mask` to obtain reliable results.\n",
            "Setting `pad_token_id` to `eos_token_id`:50256 for open-end generation.\n",
            "A decoder-only architecture is being used, but right-padding was detected! For correct generation results, please set `padding_side='left'` when initializing the tokenizer.\n"
          ]
        },
        {
          "output_type": "stream",
          "name": "stdout",
          "text": [
            "Output 0\n",
            ": Shredigger Waspfinder\n",
            "TYPE: Creature — Phyrexian Horror\n",
            "TEXT: Delve (Each card you exile while casting this spell pays for {1}.)\\nReamaligger Waspfinder has flying as long as it has a +1/+1 counter on it as it this creature until end of turn. Otherwise, draw a card if it unless you\n",
            "\n",
            "\n",
            "Output 1\n",
            ": Lightning Bolt\n",
            "TYPE: Instant\n",
            "TEXT: Lightning Bolt deals 2 damage to any player. If this spell would reduce up, prevent all combat damage.\n",
            "FLAVOR: In life and fire, each thought is a path where he finds the place out in the dark and fire in an cave to which leads the key.\n",
            "\n",
            "\n",
            "\n",
            "Output 2\n",
            ": Horned Griffin\n",
            "TYPE: Creature — Griffin\n",
            "TEXT: Flying, deathtouch\\nWhen Horned Griffin enters the battlefield, exile each other creature target player controls. It may not play lands this turn except for enchanted griffin.\n",
            "FLAVOR: He must bear the sword of a griffin.\n",
            "\n",
            "\n",
            "\n"
          ]
        }
      ]
    },
    {
      "cell_type": "markdown",
      "source": [
        "We see that the more we higher the temperature the more the generated text is random."
      ],
      "metadata": {
        "id": "sn5OgC_XH7N6"
      }
    },
    {
      "cell_type": "markdown",
      "source": [
        "30. Use the [MTG Card Maker](https://www.mtgcardmaker.com/) to create an image with your favorite generated card, and share the image in the class Slack. Note that this tool recognizes special MTG symbols like {T} that your model might generate. You can put both `TEXT` and `FLAVOR` in the `Abilities & Flavor` box on the card due to changes of the card display.\n",
        "\n",
        "**BONUS:** Try using any of the following advanced options:\n",
        "\n",
        "* `top_p=...` for top-p sampling or `top_k=...` for nucleus sampling; these often improve the quality of the text if set correctly.\n",
        "* `input_ids=...` to generate text beginning with your desired prompt. For example, you could generate a MTG card with any name that you enter yourself; you may notice the card's text is meaningfully related to its name.\n",
        "* Any other decoding variants from the [HuggingFace text generation tutorial](https://huggingface.co/blog/how-to-generate)"
      ],
      "metadata": {
        "id": "LOLClRC1JfXe"
      }
    }
  ]
}