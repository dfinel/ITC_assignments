{
  "nbformat": 4,
  "nbformat_minor": 0,
  "metadata": {
    "colab": {
      "provenance": []
    },
    "kernelspec": {
      "name": "python3",
      "display_name": "Python 3"
    }
  },
  "cells": [
    {
      "cell_type": "markdown",
      "metadata": {
        "id": "Annpxiv4h-UR"
      },
      "source": [
        "# NLP Exercise 4: Looking for Relations with NER\n",
        "\n",
        "In this exercise we will use spaCy's named entity recognition (NER) algorithm to find relations between different entities in the Brown corpus.\n",
        "\n",
        "## Part 1: Basic entity extraction\n",
        "\n",
        "The Brown corpus is a well-known corpus of English developed at Brown University, containing text from many different sources. We will use entity extraction on a subset of the Brown corpus covering a few categories.\n",
        "\n",
        "We can use spaCy to find entities in a basic sentence as follows:"
      ]
    },
    {
      "cell_type": "code",
      "metadata": {
        "id": "-7o3Pmqx8RoY",
        "colab": {
          "base_uri": "https://localhost:8080/"
        },
        "outputId": "8bc797d9-d1b2-4746-edc8-29970610726b"
      },
      "source": [
        "import spacy\n",
        "nlp = spacy.load('en_core_web_sm')\n",
        "sample_sentence = \"The White House is located in Washington D.C.\"\n",
        "sample_doc = nlp(sample_sentence)\n",
        "print([(ent.text, ent.label_) for ent in sample_doc.ents])"
      ],
      "execution_count": 1,
      "outputs": [
        {
          "output_type": "stream",
          "name": "stdout",
          "text": [
            "[('The White House', 'ORG'), ('Washington D.C.', 'GPE')]\n"
          ]
        }
      ]
    },
    {
      "cell_type": "markdown",
      "metadata": {
        "id": "NKZCp5Mm8tNA"
      },
      "source": [
        "To see what an entity label means:"
      ]
    },
    {
      "cell_type": "code",
      "metadata": {
        "id": "2FnRm2g68vRF",
        "colab": {
          "base_uri": "https://localhost:8080/",
          "height": 35
        },
        "outputId": "5d138c51-4171-477d-f640-e9e69511ecdd"
      },
      "source": [
        "spacy.explain(\"ORG\")"
      ],
      "execution_count": 2,
      "outputs": [
        {
          "output_type": "execute_result",
          "data": {
            "text/plain": [
              "'Companies, agencies, institutions, etc.'"
            ],
            "application/vnd.google.colaboratory.intrinsic+json": {
              "type": "string"
            }
          },
          "metadata": {},
          "execution_count": 2
        }
      ]
    },
    {
      "cell_type": "markdown",
      "metadata": {
        "id": "X7o3BKUc8zyU"
      },
      "source": [
        "And to display the entities in a document using displaCy:"
      ]
    },
    {
      "cell_type": "code",
      "metadata": {
        "id": "QP1KmOVJ84bV",
        "colab": {
          "base_uri": "https://localhost:8080/",
          "height": 52
        },
        "outputId": "503abf32-a439-4c02-cb4d-94d57cb4012c"
      },
      "source": [
        "from spacy import displacy\n",
        "displacy.render(sample_doc, style='ent', jupyter = True)"
      ],
      "execution_count": 3,
      "outputs": [
        {
          "output_type": "display_data",
          "data": {
            "text/plain": [
              "<IPython.core.display.HTML object>"
            ],
            "text/html": [
              "<span class=\"tex2jax_ignore\"><div class=\"entities\" style=\"line-height: 2.5; direction: ltr\">\n",
              "<mark class=\"entity\" style=\"background: #7aecec; padding: 0.45em 0.6em; margin: 0 0.25em; line-height: 1; border-radius: 0.35em;\">\n",
              "    The White House\n",
              "    <span style=\"font-size: 0.8em; font-weight: bold; line-height: 1; border-radius: 0.35em; vertical-align: middle; margin-left: 0.5rem\">ORG</span>\n",
              "</mark>\n",
              " is located in \n",
              "<mark class=\"entity\" style=\"background: #feca74; padding: 0.45em 0.6em; margin: 0 0.25em; line-height: 1; border-radius: 0.35em;\">\n",
              "    Washington D.C.\n",
              "    <span style=\"font-size: 0.8em; font-weight: bold; line-height: 1; border-radius: 0.35em; vertical-align: middle; margin-left: 0.5rem\">GPE</span>\n",
              "</mark>\n",
              "</div></span>"
            ]
          },
          "metadata": {}
        }
      ]
    },
    {
      "cell_type": "markdown",
      "metadata": {
        "id": "3ACx7CRs9NuT"
      },
      "source": [
        "Now let's load sentences from the Brown corpus for a few categories:"
      ]
    },
    {
      "cell_type": "code",
      "metadata": {
        "id": "X8xYIWcj925M",
        "colab": {
          "base_uri": "https://localhost:8080/"
        },
        "outputId": "fcf8321d-74b6-4f0d-f0c2-c4c2235df26a"
      },
      "source": [
        "import nltk\n",
        "nltk.download('brown')\n",
        "from nltk.corpus import brown\n",
        "sentences = brown.sents(categories = ['news', 'editorial', 'reviews'])"
      ],
      "execution_count": 4,
      "outputs": [
        {
          "output_type": "stream",
          "name": "stderr",
          "text": [
            "[nltk_data] Downloading package brown to /root/nltk_data...\n",
            "[nltk_data]   Package brown is already up-to-date!\n"
          ]
        }
      ]
    },
    {
      "cell_type": "markdown",
      "metadata": {
        "id": "HgdfpE10-Iqt"
      },
      "source": [
        "**Questions:**\n",
        "  1. Use displaCy to display the entities in the first three sentences of this corpus. What are some entities that are tagged, and what do their entity labels mean?\n",
        "  2. What are the five most common people mentioned in the corpus for these categories? What are the five most common buildings? (Hint: Recall the table of OntoNotes entities from lecture.)"
      ]
    },
    {
      "cell_type": "code",
      "source": [
        "#1.\n",
        "for sentence in sentences[:3]:\n",
        "  all_sent = ' '.join(sentence)\n",
        "  nlp_sentence = nlp(all_sent)\n",
        "  displacy.render(nlp_sentence, style = 'ent', jupyter = True)\n",
        ""
      ],
      "metadata": {
        "id": "skkUlvBC1-Uz",
        "outputId": "4d21c459-44b1-437b-9498-7d7fb521f17e",
        "colab": {
          "base_uri": "https://localhost:8080/",
          "height": 192
        }
      },
      "execution_count": 5,
      "outputs": [
        {
          "output_type": "display_data",
          "data": {
            "text/plain": [
              "<IPython.core.display.HTML object>"
            ],
            "text/html": [
              "<span class=\"tex2jax_ignore\"><div class=\"entities\" style=\"line-height: 2.5; direction: ltr\">\n",
              "<mark class=\"entity\" style=\"background: #7aecec; padding: 0.45em 0.6em; margin: 0 0.25em; line-height: 1; border-radius: 0.35em;\">\n",
              "    The Fulton County Grand Jury\n",
              "    <span style=\"font-size: 0.8em; font-weight: bold; line-height: 1; border-radius: 0.35em; vertical-align: middle; margin-left: 0.5rem\">ORG</span>\n",
              "</mark>\n",
              " said \n",
              "<mark class=\"entity\" style=\"background: #bfe1d9; padding: 0.45em 0.6em; margin: 0 0.25em; line-height: 1; border-radius: 0.35em;\">\n",
              "    Friday\n",
              "    <span style=\"font-size: 0.8em; font-weight: bold; line-height: 1; border-radius: 0.35em; vertical-align: middle; margin-left: 0.5rem\">DATE</span>\n",
              "</mark>\n",
              " an investigation of \n",
              "<mark class=\"entity\" style=\"background: #feca74; padding: 0.45em 0.6em; margin: 0 0.25em; line-height: 1; border-radius: 0.35em;\">\n",
              "    Atlanta\n",
              "    <span style=\"font-size: 0.8em; font-weight: bold; line-height: 1; border-radius: 0.35em; vertical-align: middle; margin-left: 0.5rem\">GPE</span>\n",
              "</mark>\n",
              "'s recent primary election produced `` no evidence '' that any irregularities took place .</div></span>"
            ]
          },
          "metadata": {}
        },
        {
          "output_type": "display_data",
          "data": {
            "text/plain": [
              "<IPython.core.display.HTML object>"
            ],
            "text/html": [
              "<span class=\"tex2jax_ignore\"><div class=\"entities\" style=\"line-height: 2.5; direction: ltr\">The jury further said in term-end presentments that \n",
              "<mark class=\"entity\" style=\"background: #7aecec; padding: 0.45em 0.6em; margin: 0 0.25em; line-height: 1; border-radius: 0.35em;\">\n",
              "    the City Executive Committee\n",
              "    <span style=\"font-size: 0.8em; font-weight: bold; line-height: 1; border-radius: 0.35em; vertical-align: middle; margin-left: 0.5rem\">ORG</span>\n",
              "</mark>\n",
              " , which had over-all charge of the election , `` deserves the praise and thanks of \n",
              "<mark class=\"entity\" style=\"background: #feca74; padding: 0.45em 0.6em; margin: 0 0.25em; line-height: 1; border-radius: 0.35em;\">\n",
              "    the City of Atlanta\n",
              "    <span style=\"font-size: 0.8em; font-weight: bold; line-height: 1; border-radius: 0.35em; vertical-align: middle; margin-left: 0.5rem\">GPE</span>\n",
              "</mark>\n",
              " '' for the manner in which the election was conducted .</div></span>"
            ]
          },
          "metadata": {}
        },
        {
          "output_type": "display_data",
          "data": {
            "text/plain": [
              "<IPython.core.display.HTML object>"
            ],
            "text/html": [
              "<span class=\"tex2jax_ignore\"><div class=\"entities\" style=\"line-height: 2.5; direction: ltr\">The \n",
              "<mark class=\"entity\" style=\"background: #bfe1d9; padding: 0.45em 0.6em; margin: 0 0.25em; line-height: 1; border-radius: 0.35em;\">\n",
              "    September-October\n",
              "    <span style=\"font-size: 0.8em; font-weight: bold; line-height: 1; border-radius: 0.35em; vertical-align: middle; margin-left: 0.5rem\">DATE</span>\n",
              "</mark>\n",
              " term jury had been charged by \n",
              "<mark class=\"entity\" style=\"background: #7aecec; padding: 0.45em 0.6em; margin: 0 0.25em; line-height: 1; border-radius: 0.35em;\">\n",
              "    Fulton Superior Court\n",
              "    <span style=\"font-size: 0.8em; font-weight: bold; line-height: 1; border-radius: 0.35em; vertical-align: middle; margin-left: 0.5rem\">ORG</span>\n",
              "</mark>\n",
              " Judge \n",
              "<mark class=\"entity\" style=\"background: #aa9cfc; padding: 0.45em 0.6em; margin: 0 0.25em; line-height: 1; border-radius: 0.35em;\">\n",
              "    Durwood Pye\n",
              "    <span style=\"font-size: 0.8em; font-weight: bold; line-height: 1; border-radius: 0.35em; vertical-align: middle; margin-left: 0.5rem\">PERSON</span>\n",
              "</mark>\n",
              " to investigate reports of possible `` irregularities '' in the hard-fought primary which was won by Mayor-nominate \n",
              "<mark class=\"entity\" style=\"background: #aa9cfc; padding: 0.45em 0.6em; margin: 0 0.25em; line-height: 1; border-radius: 0.35em;\">\n",
              "    Ivan Allen Jr.\n",
              "    <span style=\"font-size: 0.8em; font-weight: bold; line-height: 1; border-radius: 0.35em; vertical-align: middle; margin-left: 0.5rem\">PERSON</span>\n",
              "</mark>\n",
              " .</div></span>"
            ]
          },
          "metadata": {}
        }
      ]
    },
    {
      "cell_type": "markdown",
      "source": [
        "Dates like 'Friday','September-October' are labeled.\n",
        "\n",
        "Persons like 'Durwood Pye','Ivan Allen Jr.' are labeled.\n",
        "\n",
        "Institutions like 'The Fulton County Grand Jury','the City Executive Committee','Fulton Superior Court' are labeled."
      ],
      "metadata": {
        "id": "hnYNk0Q-2wAw"
      }
    },
    {
      "cell_type": "code",
      "source": [
        "spacy.explain('GPE')"
      ],
      "metadata": {
        "id": "zX7xxynj2hcd",
        "outputId": "d5a278dc-81b8-462c-a77c-c2a32f9d7ea8",
        "colab": {
          "base_uri": "https://localhost:8080/",
          "height": 35
        }
      },
      "execution_count": 6,
      "outputs": [
        {
          "output_type": "execute_result",
          "data": {
            "text/plain": [
              "'Countries, cities, states'"
            ],
            "application/vnd.google.colaboratory.intrinsic+json": {
              "type": "string"
            }
          },
          "metadata": {},
          "execution_count": 6
        }
      ]
    },
    {
      "cell_type": "code",
      "source": [
        "spacy.explain('DATE')"
      ],
      "metadata": {
        "id": "RW7J6XX52oS9",
        "outputId": "e479500c-8289-4522-b94d-ed5a272496bb",
        "colab": {
          "base_uri": "https://localhost:8080/",
          "height": 35
        }
      },
      "execution_count": 7,
      "outputs": [
        {
          "output_type": "execute_result",
          "data": {
            "text/plain": [
              "'Absolute or relative dates or periods'"
            ],
            "application/vnd.google.colaboratory.intrinsic+json": {
              "type": "string"
            }
          },
          "metadata": {},
          "execution_count": 7
        }
      ]
    },
    {
      "cell_type": "code",
      "source": [
        "spacy.explain('PERSON')"
      ],
      "metadata": {
        "id": "rpeDhpma2qTI",
        "outputId": "be067668-2c4c-4a31-9f46-e7cb9ca34b97",
        "colab": {
          "base_uri": "https://localhost:8080/",
          "height": 35
        }
      },
      "execution_count": 8,
      "outputs": [
        {
          "output_type": "execute_result",
          "data": {
            "text/plain": [
              "'People, including fictional'"
            ],
            "application/vnd.google.colaboratory.intrinsic+json": {
              "type": "string"
            }
          },
          "metadata": {},
          "execution_count": 8
        }
      ]
    },
    {
      "cell_type": "code",
      "source": [
        "#2.\n",
        "from tqdm import tqdm\n",
        "all_people = []\n",
        "all_fac = []\n",
        "for sentence in tqdm(sentences) :\n",
        "  nlp_sent = nlp(' '.join(sentence))\n",
        "  for ent in nlp_sent.ents :\n",
        "    if ent.label_ == 'PERSON':\n",
        "      all_people.append(ent.text)\n",
        "    elif ent.label_ == 'FAC':\n",
        "      all_fac.append(ent.text)\n"
      ],
      "metadata": {
        "id": "WPsbXDUM3GsK",
        "outputId": "dadb8102-5c00-4e83-d7a6-f68d933ccd2f",
        "colab": {
          "base_uri": "https://localhost:8080/"
        }
      },
      "execution_count": 9,
      "outputs": [
        {
          "output_type": "stream",
          "name": "stderr",
          "text": [
            "100%|██████████| 9371/9371 [01:42<00:00, 91.23it/s] \n"
          ]
        }
      ]
    },
    {
      "cell_type": "code",
      "source": [
        "from collections import Counter\n",
        "counter_people = Counter(all_people)\n",
        "counter_people.most_common(5)"
      ],
      "metadata": {
        "id": "EKm4eYhI5NZB",
        "outputId": "a2d614a9-2929-4efa-db96-7f5dc3b2829f",
        "colab": {
          "base_uri": "https://localhost:8080/"
        }
      },
      "execution_count": 10,
      "outputs": [
        {
          "output_type": "execute_result",
          "data": {
            "text/plain": [
              "[('Kennedy', 113),\n",
              " ('Khrushchev', 53),\n",
              " ('Maris', 36),\n",
              " ('Eisenhower', 30),\n",
              " ('Podger', 22)]"
            ]
          },
          "metadata": {},
          "execution_count": 10
        }
      ]
    },
    {
      "cell_type": "markdown",
      "source": [
        "'Kennedy','Khrushchev','Maris','Eisenhower','Podger' are the most frequent people in the corpus."
      ],
      "metadata": {
        "id": "EvvQ2Y7659oj"
      }
    },
    {
      "cell_type": "code",
      "source": [
        "counter_fac = Counter(all_fac)\n",
        "counter_fac.most_common(5)"
      ],
      "metadata": {
        "id": "s8Ml8XPp7DBq",
        "outputId": "dd28b36b-9f4c-46c4-ed6b-f3323444bc30",
        "colab": {
          "base_uri": "https://localhost:8080/"
        }
      },
      "execution_count": 11,
      "outputs": [
        {
          "output_type": "execute_result",
          "data": {
            "text/plain": [
              "[('Broadway', 16),\n",
              " ('Negro', 6),\n",
              " ('the White House', 5),\n",
              " ('Beardens', 5),\n",
              " ('Washington Square', 5)]"
            ]
          },
          "metadata": {},
          "execution_count": 11
        }
      ]
    },
    {
      "cell_type": "markdown",
      "source": [
        "'Broadway','Negro','the White House','Beardens','Washington Square' are the most frequent buildings in the corpus."
      ],
      "metadata": {
        "id": "1EUM07NH8fRd"
      }
    },
    {
      "cell_type": "markdown",
      "metadata": {
        "id": "KWbUd6KunKxZ"
      },
      "source": [
        "## Part 2: Finding relations"
      ]
    },
    {
      "cell_type": "markdown",
      "metadata": {
        "id": "59JxKlKD_oLN"
      },
      "source": [
        "Now we will look at pairs of entities in sentences in the corpus and try to identify relations between them.\n",
        "\n",
        "**Questions**:\n",
        "  3. We would like to know where organizations are located. Try to find all occurences of organization-location where the organization (ORG) comes before the location (GPE) in the sentence, with no other entity in between, and the word \"in\" appears somewhere between them. Put this in a Pandas Dataframe with three columns: ORG (organization name), GPE (location name), and context (words in between the organization and location).  How many of these are there?\n",
        "  \n",
        "  Hint: use entity.start and entity.end to get the starting and ending indices for an entity in the sentence.\n",
        "  \n",
        "  4. How much does this data tell us about what organizations are located where? In what cases can we be more or less certain?\n",
        "  \n",
        "  5. What is another example of a pair of entity labels and context word that would give us useful information? Try running your code to find this new relation."
      ]
    },
    {
      "cell_type": "code",
      "source": [
        "#3.\n",
        "import numpy as np\n",
        "from tqdm import tqdm\n",
        "org = []\n",
        "gpe = []\n",
        "in_betw = []\n",
        "ents = []\n",
        "for sentence in tqdm(sentences):\n",
        "  nlp_sent = nlp(' '.join(sentence))\n",
        "  ents = []\n",
        "  for ent in nlp_sent.ents :\n",
        "    ents.append(ent)\n",
        "  for index,ent in enumerate(ents):\n",
        "    if ent.label_ == 'ORG':\n",
        "      if index != len(ents)-1:\n",
        "        if ents[index + 1].label_ == 'GPE':\n",
        "          in_between = nlp_sent[ent.end:ents[index + 1].start].text\n",
        "          if ' in ' in in_between:\n",
        "            in_betw.append(in_between)\n",
        "            org.append(ent.text)\n",
        "            gpe.append(ents[index + 1].text)\n",
        "\n",
        ""
      ],
      "metadata": {
        "id": "JHTOlHHC8GgQ",
        "outputId": "9ed911d9-cc75-4845-e9f2-7a69228fb3eb",
        "colab": {
          "base_uri": "https://localhost:8080/"
        }
      },
      "execution_count": 12,
      "outputs": [
        {
          "output_type": "stream",
          "name": "stderr",
          "text": [
            "100%|██████████| 9371/9371 [01:35<00:00, 98.04it/s] \n"
          ]
        }
      ]
    },
    {
      "cell_type": "code",
      "source": [
        "import pandas as pd\n",
        "df = pd.DataFrame({'ORG':org,'between':in_betw,'GPE':gpe})"
      ],
      "metadata": {
        "id": "6wFp5KVmIjXD"
      },
      "execution_count": 13,
      "outputs": []
    },
    {
      "cell_type": "code",
      "source": [
        "df"
      ],
      "metadata": {
        "id": "2pzGe3b0I-R7",
        "outputId": "613e0d06-7b55-433a-b3e2-2dc85bd9ed87",
        "colab": {
          "base_uri": "https://localhost:8080/",
          "height": 426
        }
      },
      "execution_count": 14,
      "outputs": [
        {
          "output_type": "execute_result",
          "data": {
            "text/plain": [
              "                                    ORG  \\\n",
              "0          the State Welfare Department   \n",
              "1                                  NATO   \n",
              "2                      State Department   \n",
              "3                                  U.N.   \n",
              "4                                  U.N.   \n",
              "5                                    UN   \n",
              "6                              Commerce   \n",
              "7   the House Foreign Affairs Committee   \n",
              "8         the Warwick Police Department   \n",
              "9                                  U.N.   \n",
              "10                                  PHS   \n",
              "11                the Comedie Francaise   \n",
              "\n",
              "                                              between                   GPE  \n",
              "0   `` has seen fit to distribute these funds thro...         Fulton County  \n",
              "1   committee has been set up so that in the futur...                Angola  \n",
              "2   officials explain , now is mainly interested i...                  Laos  \n",
              "3                                         army in the                 Congo  \n",
              "4                                       forces in the                 Congo  \n",
              "5                    bury its head in the sand on the                 Congo  \n",
              "6   Secretary Hodges seems to have been cast in th...            Washington  \n",
              "7   , but he is the grandson of the man who was in...     the United States  \n",
              "8   , thereby eliminating duplication of facilitie...             Cowessett  \n",
              "9                                       troops in the                 Congo  \n",
              "10  conceded that the new radioactive particles ``...  the United States ''  \n",
              "11        are the most important recent events in the              New York  "
            ],
            "text/html": [
              "\n",
              "  <div id=\"df-4a780f2b-8ea2-4666-bea0-68e798bffa5a\" class=\"colab-df-container\">\n",
              "    <div>\n",
              "<style scoped>\n",
              "    .dataframe tbody tr th:only-of-type {\n",
              "        vertical-align: middle;\n",
              "    }\n",
              "\n",
              "    .dataframe tbody tr th {\n",
              "        vertical-align: top;\n",
              "    }\n",
              "\n",
              "    .dataframe thead th {\n",
              "        text-align: right;\n",
              "    }\n",
              "</style>\n",
              "<table border=\"1\" class=\"dataframe\">\n",
              "  <thead>\n",
              "    <tr style=\"text-align: right;\">\n",
              "      <th></th>\n",
              "      <th>ORG</th>\n",
              "      <th>between</th>\n",
              "      <th>GPE</th>\n",
              "    </tr>\n",
              "  </thead>\n",
              "  <tbody>\n",
              "    <tr>\n",
              "      <th>0</th>\n",
              "      <td>the State Welfare Department</td>\n",
              "      <td>`` has seen fit to distribute these funds thro...</td>\n",
              "      <td>Fulton County</td>\n",
              "    </tr>\n",
              "    <tr>\n",
              "      <th>1</th>\n",
              "      <td>NATO</td>\n",
              "      <td>committee has been set up so that in the futur...</td>\n",
              "      <td>Angola</td>\n",
              "    </tr>\n",
              "    <tr>\n",
              "      <th>2</th>\n",
              "      <td>State Department</td>\n",
              "      <td>officials explain , now is mainly interested i...</td>\n",
              "      <td>Laos</td>\n",
              "    </tr>\n",
              "    <tr>\n",
              "      <th>3</th>\n",
              "      <td>U.N.</td>\n",
              "      <td>army in the</td>\n",
              "      <td>Congo</td>\n",
              "    </tr>\n",
              "    <tr>\n",
              "      <th>4</th>\n",
              "      <td>U.N.</td>\n",
              "      <td>forces in the</td>\n",
              "      <td>Congo</td>\n",
              "    </tr>\n",
              "    <tr>\n",
              "      <th>5</th>\n",
              "      <td>UN</td>\n",
              "      <td>bury its head in the sand on the</td>\n",
              "      <td>Congo</td>\n",
              "    </tr>\n",
              "    <tr>\n",
              "      <th>6</th>\n",
              "      <td>Commerce</td>\n",
              "      <td>Secretary Hodges seems to have been cast in th...</td>\n",
              "      <td>Washington</td>\n",
              "    </tr>\n",
              "    <tr>\n",
              "      <th>7</th>\n",
              "      <td>the House Foreign Affairs Committee</td>\n",
              "      <td>, but he is the grandson of the man who was in...</td>\n",
              "      <td>the United States</td>\n",
              "    </tr>\n",
              "    <tr>\n",
              "      <th>8</th>\n",
              "      <td>the Warwick Police Department</td>\n",
              "      <td>, thereby eliminating duplication of facilitie...</td>\n",
              "      <td>Cowessett</td>\n",
              "    </tr>\n",
              "    <tr>\n",
              "      <th>9</th>\n",
              "      <td>U.N.</td>\n",
              "      <td>troops in the</td>\n",
              "      <td>Congo</td>\n",
              "    </tr>\n",
              "    <tr>\n",
              "      <th>10</th>\n",
              "      <td>PHS</td>\n",
              "      <td>conceded that the new radioactive particles ``...</td>\n",
              "      <td>the United States ''</td>\n",
              "    </tr>\n",
              "    <tr>\n",
              "      <th>11</th>\n",
              "      <td>the Comedie Francaise</td>\n",
              "      <td>are the most important recent events in the</td>\n",
              "      <td>New York</td>\n",
              "    </tr>\n",
              "  </tbody>\n",
              "</table>\n",
              "</div>\n",
              "    <div class=\"colab-df-buttons\">\n",
              "\n",
              "  <div class=\"colab-df-container\">\n",
              "    <button class=\"colab-df-convert\" onclick=\"convertToInteractive('df-4a780f2b-8ea2-4666-bea0-68e798bffa5a')\"\n",
              "            title=\"Convert this dataframe to an interactive table.\"\n",
              "            style=\"display:none;\">\n",
              "\n",
              "  <svg xmlns=\"http://www.w3.org/2000/svg\" height=\"24px\" viewBox=\"0 -960 960 960\">\n",
              "    <path d=\"M120-120v-720h720v720H120Zm60-500h600v-160H180v160Zm220 220h160v-160H400v160Zm0 220h160v-160H400v160ZM180-400h160v-160H180v160Zm440 0h160v-160H620v160ZM180-180h160v-160H180v160Zm440 0h160v-160H620v160Z\"/>\n",
              "  </svg>\n",
              "    </button>\n",
              "\n",
              "  <style>\n",
              "    .colab-df-container {\n",
              "      display:flex;\n",
              "      gap: 12px;\n",
              "    }\n",
              "\n",
              "    .colab-df-convert {\n",
              "      background-color: #E8F0FE;\n",
              "      border: none;\n",
              "      border-radius: 50%;\n",
              "      cursor: pointer;\n",
              "      display: none;\n",
              "      fill: #1967D2;\n",
              "      height: 32px;\n",
              "      padding: 0 0 0 0;\n",
              "      width: 32px;\n",
              "    }\n",
              "\n",
              "    .colab-df-convert:hover {\n",
              "      background-color: #E2EBFA;\n",
              "      box-shadow: 0px 1px 2px rgba(60, 64, 67, 0.3), 0px 1px 3px 1px rgba(60, 64, 67, 0.15);\n",
              "      fill: #174EA6;\n",
              "    }\n",
              "\n",
              "    .colab-df-buttons div {\n",
              "      margin-bottom: 4px;\n",
              "    }\n",
              "\n",
              "    [theme=dark] .colab-df-convert {\n",
              "      background-color: #3B4455;\n",
              "      fill: #D2E3FC;\n",
              "    }\n",
              "\n",
              "    [theme=dark] .colab-df-convert:hover {\n",
              "      background-color: #434B5C;\n",
              "      box-shadow: 0px 1px 3px 1px rgba(0, 0, 0, 0.15);\n",
              "      filter: drop-shadow(0px 1px 2px rgba(0, 0, 0, 0.3));\n",
              "      fill: #FFFFFF;\n",
              "    }\n",
              "  </style>\n",
              "\n",
              "    <script>\n",
              "      const buttonEl =\n",
              "        document.querySelector('#df-4a780f2b-8ea2-4666-bea0-68e798bffa5a button.colab-df-convert');\n",
              "      buttonEl.style.display =\n",
              "        google.colab.kernel.accessAllowed ? 'block' : 'none';\n",
              "\n",
              "      async function convertToInteractive(key) {\n",
              "        const element = document.querySelector('#df-4a780f2b-8ea2-4666-bea0-68e798bffa5a');\n",
              "        const dataTable =\n",
              "          await google.colab.kernel.invokeFunction('convertToInteractive',\n",
              "                                                    [key], {});\n",
              "        if (!dataTable) return;\n",
              "\n",
              "        const docLinkHtml = 'Like what you see? Visit the ' +\n",
              "          '<a target=\"_blank\" href=https://colab.research.google.com/notebooks/data_table.ipynb>data table notebook</a>'\n",
              "          + ' to learn more about interactive tables.';\n",
              "        element.innerHTML = '';\n",
              "        dataTable['output_type'] = 'display_data';\n",
              "        await google.colab.output.renderOutput(dataTable, element);\n",
              "        const docLink = document.createElement('div');\n",
              "        docLink.innerHTML = docLinkHtml;\n",
              "        element.appendChild(docLink);\n",
              "      }\n",
              "    </script>\n",
              "  </div>\n",
              "\n",
              "\n",
              "<div id=\"df-d92fe907-24ad-40f8-aacc-82d01c8f5eb5\">\n",
              "  <button class=\"colab-df-quickchart\" onclick=\"quickchart('df-d92fe907-24ad-40f8-aacc-82d01c8f5eb5')\"\n",
              "            title=\"Suggest charts\"\n",
              "            style=\"display:none;\">\n",
              "\n",
              "<svg xmlns=\"http://www.w3.org/2000/svg\" height=\"24px\"viewBox=\"0 0 24 24\"\n",
              "     width=\"24px\">\n",
              "    <g>\n",
              "        <path d=\"M19 3H5c-1.1 0-2 .9-2 2v14c0 1.1.9 2 2 2h14c1.1 0 2-.9 2-2V5c0-1.1-.9-2-2-2zM9 17H7v-7h2v7zm4 0h-2V7h2v10zm4 0h-2v-4h2v4z\"/>\n",
              "    </g>\n",
              "</svg>\n",
              "  </button>\n",
              "\n",
              "<style>\n",
              "  .colab-df-quickchart {\n",
              "      --bg-color: #E8F0FE;\n",
              "      --fill-color: #1967D2;\n",
              "      --hover-bg-color: #E2EBFA;\n",
              "      --hover-fill-color: #174EA6;\n",
              "      --disabled-fill-color: #AAA;\n",
              "      --disabled-bg-color: #DDD;\n",
              "  }\n",
              "\n",
              "  [theme=dark] .colab-df-quickchart {\n",
              "      --bg-color: #3B4455;\n",
              "      --fill-color: #D2E3FC;\n",
              "      --hover-bg-color: #434B5C;\n",
              "      --hover-fill-color: #FFFFFF;\n",
              "      --disabled-bg-color: #3B4455;\n",
              "      --disabled-fill-color: #666;\n",
              "  }\n",
              "\n",
              "  .colab-df-quickchart {\n",
              "    background-color: var(--bg-color);\n",
              "    border: none;\n",
              "    border-radius: 50%;\n",
              "    cursor: pointer;\n",
              "    display: none;\n",
              "    fill: var(--fill-color);\n",
              "    height: 32px;\n",
              "    padding: 0;\n",
              "    width: 32px;\n",
              "  }\n",
              "\n",
              "  .colab-df-quickchart:hover {\n",
              "    background-color: var(--hover-bg-color);\n",
              "    box-shadow: 0 1px 2px rgba(60, 64, 67, 0.3), 0 1px 3px 1px rgba(60, 64, 67, 0.15);\n",
              "    fill: var(--button-hover-fill-color);\n",
              "  }\n",
              "\n",
              "  .colab-df-quickchart-complete:disabled,\n",
              "  .colab-df-quickchart-complete:disabled:hover {\n",
              "    background-color: var(--disabled-bg-color);\n",
              "    fill: var(--disabled-fill-color);\n",
              "    box-shadow: none;\n",
              "  }\n",
              "\n",
              "  .colab-df-spinner {\n",
              "    border: 2px solid var(--fill-color);\n",
              "    border-color: transparent;\n",
              "    border-bottom-color: var(--fill-color);\n",
              "    animation:\n",
              "      spin 1s steps(1) infinite;\n",
              "  }\n",
              "\n",
              "  @keyframes spin {\n",
              "    0% {\n",
              "      border-color: transparent;\n",
              "      border-bottom-color: var(--fill-color);\n",
              "      border-left-color: var(--fill-color);\n",
              "    }\n",
              "    20% {\n",
              "      border-color: transparent;\n",
              "      border-left-color: var(--fill-color);\n",
              "      border-top-color: var(--fill-color);\n",
              "    }\n",
              "    30% {\n",
              "      border-color: transparent;\n",
              "      border-left-color: var(--fill-color);\n",
              "      border-top-color: var(--fill-color);\n",
              "      border-right-color: var(--fill-color);\n",
              "    }\n",
              "    40% {\n",
              "      border-color: transparent;\n",
              "      border-right-color: var(--fill-color);\n",
              "      border-top-color: var(--fill-color);\n",
              "    }\n",
              "    60% {\n",
              "      border-color: transparent;\n",
              "      border-right-color: var(--fill-color);\n",
              "    }\n",
              "    80% {\n",
              "      border-color: transparent;\n",
              "      border-right-color: var(--fill-color);\n",
              "      border-bottom-color: var(--fill-color);\n",
              "    }\n",
              "    90% {\n",
              "      border-color: transparent;\n",
              "      border-bottom-color: var(--fill-color);\n",
              "    }\n",
              "  }\n",
              "</style>\n",
              "\n",
              "  <script>\n",
              "    async function quickchart(key) {\n",
              "      const quickchartButtonEl =\n",
              "        document.querySelector('#' + key + ' button');\n",
              "      quickchartButtonEl.disabled = true;  // To prevent multiple clicks.\n",
              "      quickchartButtonEl.classList.add('colab-df-spinner');\n",
              "      try {\n",
              "        const charts = await google.colab.kernel.invokeFunction(\n",
              "            'suggestCharts', [key], {});\n",
              "      } catch (error) {\n",
              "        console.error('Error during call to suggestCharts:', error);\n",
              "      }\n",
              "      quickchartButtonEl.classList.remove('colab-df-spinner');\n",
              "      quickchartButtonEl.classList.add('colab-df-quickchart-complete');\n",
              "    }\n",
              "    (() => {\n",
              "      let quickchartButtonEl =\n",
              "        document.querySelector('#df-d92fe907-24ad-40f8-aacc-82d01c8f5eb5 button');\n",
              "      quickchartButtonEl.style.display =\n",
              "        google.colab.kernel.accessAllowed ? 'block' : 'none';\n",
              "    })();\n",
              "  </script>\n",
              "</div>\n",
              "\n",
              "  <div id=\"id_ead7a18c-4585-4658-9a18-bdc304e21a7f\">\n",
              "    <style>\n",
              "      .colab-df-generate {\n",
              "        background-color: #E8F0FE;\n",
              "        border: none;\n",
              "        border-radius: 50%;\n",
              "        cursor: pointer;\n",
              "        display: none;\n",
              "        fill: #1967D2;\n",
              "        height: 32px;\n",
              "        padding: 0 0 0 0;\n",
              "        width: 32px;\n",
              "      }\n",
              "\n",
              "      .colab-df-generate:hover {\n",
              "        background-color: #E2EBFA;\n",
              "        box-shadow: 0px 1px 2px rgba(60, 64, 67, 0.3), 0px 1px 3px 1px rgba(60, 64, 67, 0.15);\n",
              "        fill: #174EA6;\n",
              "      }\n",
              "\n",
              "      [theme=dark] .colab-df-generate {\n",
              "        background-color: #3B4455;\n",
              "        fill: #D2E3FC;\n",
              "      }\n",
              "\n",
              "      [theme=dark] .colab-df-generate:hover {\n",
              "        background-color: #434B5C;\n",
              "        box-shadow: 0px 1px 3px 1px rgba(0, 0, 0, 0.15);\n",
              "        filter: drop-shadow(0px 1px 2px rgba(0, 0, 0, 0.3));\n",
              "        fill: #FFFFFF;\n",
              "      }\n",
              "    </style>\n",
              "    <button class=\"colab-df-generate\" onclick=\"generateWithVariable('df')\"\n",
              "            title=\"Generate code using this dataframe.\"\n",
              "            style=\"display:none;\">\n",
              "\n",
              "  <svg xmlns=\"http://www.w3.org/2000/svg\" height=\"24px\"viewBox=\"0 0 24 24\"\n",
              "       width=\"24px\">\n",
              "    <path d=\"M7,19H8.4L18.45,9,17,7.55,7,17.6ZM5,21V16.75L18.45,3.32a2,2,0,0,1,2.83,0l1.4,1.43a1.91,1.91,0,0,1,.58,1.4,1.91,1.91,0,0,1-.58,1.4L9.25,21ZM18.45,9,17,7.55Zm-12,3A5.31,5.31,0,0,0,4.9,8.1,5.31,5.31,0,0,0,1,6.5,5.31,5.31,0,0,0,4.9,4.9,5.31,5.31,0,0,0,6.5,1,5.31,5.31,0,0,0,8.1,4.9,5.31,5.31,0,0,0,12,6.5,5.46,5.46,0,0,0,6.5,12Z\"/>\n",
              "  </svg>\n",
              "    </button>\n",
              "    <script>\n",
              "      (() => {\n",
              "      const buttonEl =\n",
              "        document.querySelector('#id_ead7a18c-4585-4658-9a18-bdc304e21a7f button.colab-df-generate');\n",
              "      buttonEl.style.display =\n",
              "        google.colab.kernel.accessAllowed ? 'block' : 'none';\n",
              "\n",
              "      buttonEl.onclick = () => {\n",
              "        google.colab.notebook.generateWithVariable('df');\n",
              "      }\n",
              "      })();\n",
              "    </script>\n",
              "  </div>\n",
              "\n",
              "    </div>\n",
              "  </div>\n"
            ],
            "application/vnd.google.colaboratory.intrinsic+json": {
              "type": "dataframe",
              "variable_name": "df",
              "summary": "{\n  \"name\": \"df\",\n  \"rows\": 12,\n  \"fields\": [\n    {\n      \"column\": \"ORG\",\n      \"properties\": {\n        \"dtype\": \"string\",\n        \"num_unique_values\": 10,\n        \"samples\": [\n          \"PHS\",\n          \"NATO\",\n          \"Commerce\"\n        ],\n        \"semantic_type\": \"\",\n        \"description\": \"\"\n      }\n    },\n    {\n      \"column\": \"between\",\n      \"properties\": {\n        \"dtype\": \"string\",\n        \"num_unique_values\": 12,\n        \"samples\": [\n          \"conceded that the new radioactive particles `` will add to the risk of genetic effects in succeeding generations , and possibly to the risk of health damage to some people in\",\n          \"troops in the\",\n          \"`` has seen fit to distribute these funds through the welfare departments of all the counties in the state with the exception of\"\n        ],\n        \"semantic_type\": \"\",\n        \"description\": \"\"\n      }\n    },\n    {\n      \"column\": \"GPE\",\n      \"properties\": {\n        \"dtype\": \"string\",\n        \"num_unique_values\": 9,\n        \"samples\": [\n          \"the United States ''\",\n          \"Angola\",\n          \"the United States\"\n        ],\n        \"semantic_type\": \"\",\n        \"description\": \"\"\n      }\n    }\n  ]\n}"
            }
          },
          "metadata": {},
          "execution_count": 14
        }
      ]
    },
    {
      "cell_type": "code",
      "source": [
        "df.shape"
      ],
      "metadata": {
        "id": "243TBRBJKd-B",
        "outputId": "df3efc36-3bf4-45f4-de88-c4ad40c65ab5",
        "colab": {
          "base_uri": "https://localhost:8080/"
        }
      },
      "execution_count": 15,
      "outputs": [
        {
          "output_type": "execute_result",
          "data": {
            "text/plain": [
              "(12, 3)"
            ]
          },
          "metadata": {},
          "execution_count": 15
        }
      ]
    },
    {
      "cell_type": "markdown",
      "source": [
        "We have 12 organization followed by the location with 'in' between them."
      ],
      "metadata": {
        "id": "JwrHNA5UKfUw"
      }
    },
    {
      "cell_type": "markdown",
      "source": [
        "4. When we have many words in the 'between' feature, it has less chance that the GPE is related to the location of the organization. However, when we have a few words like 'army in the','forces in the', we can assume with more certainty that those labels are related."
      ],
      "metadata": {
        "id": "S2q0FHa_KyLP"
      }
    },
    {
      "cell_type": "code",
      "source": [
        "#5.\n",
        "person = []\n",
        "work_of_art = []\n",
        "in_betw = []\n",
        "ents = []\n",
        "for sentence in tqdm(sentences):\n",
        "  nlp_sent = nlp(' '.join(sentence))\n",
        "  ents = []\n",
        "  for ent in nlp_sent.ents :\n",
        "    ents.append(ent)\n",
        "  for index,ent in enumerate(ents):\n",
        "    if ent.label_ == 'WORK_OF_ART':\n",
        "      if index != len(ents)-1:\n",
        "        if ents[index + 1].label_ == 'PERSON':\n",
        "          in_between = nlp_sent[ent.end:ents[index + 1].start].text\n",
        "\n",
        "          #if ' by ' in in_between:\n",
        "            #print('ok')\n",
        "          in_betw.append(in_between)\n",
        "          work_of_art.append(ent.text)\n",
        "          person.append(ents[index + 1].text)"
      ],
      "metadata": {
        "id": "BlMScTURLCsv",
        "outputId": "1a95bdfd-2c03-4b0c-f40d-e3c2ef4411da",
        "colab": {
          "base_uri": "https://localhost:8080/"
        }
      },
      "execution_count": 16,
      "outputs": [
        {
          "output_type": "stream",
          "name": "stderr",
          "text": [
            "100%|██████████| 9371/9371 [01:34<00:00, 99.18it/s] \n"
          ]
        }
      ]
    },
    {
      "cell_type": "code",
      "source": [
        "df_pers_woa = pd.DataFrame({'work_of_art':work_of_art,'between':in_betw,'person':person})"
      ],
      "metadata": {
        "id": "T6Y5O5gWLiQ_"
      },
      "execution_count": 17,
      "outputs": []
    },
    {
      "cell_type": "code",
      "source": [
        "df_pers_woa"
      ],
      "metadata": {
        "id": "ClLaA65gMqVP",
        "outputId": "31377466-e119-440c-9dcd-28590f83f116",
        "colab": {
          "base_uri": "https://localhost:8080/",
          "height": 1000
        }
      },
      "execution_count": 18,
      "outputs": [
        {
          "output_type": "execute_result",
          "data": {
            "text/plain": [
              "                              work_of_art  \\\n",
              "0           `` Campaigning on the carcass   \n",
              "1                                  Kelsey   \n",
              "2           Pall Mall , Sterling Township   \n",
              "3   The news of their experiments reaches   \n",
              "4                         Golden Arrow ''   \n",
              "5                    The Forsythe Saga ''   \n",
              "6                         Alba Madonna ''   \n",
              "7              Sometimes in the minors ''   \n",
              "8                          The cannery ''   \n",
              "9                                   Bible   \n",
              "10              the Nobel Prize for Peace   \n",
              "11                       All The Way Home   \n",
              "12                   The Story Of Ruth ''   \n",
              "13                         Bella Bella ''   \n",
              "14                   `` King Of Hearts ''   \n",
              "15           Epitaph For George Dillon ''   \n",
              "16                  Politics And Poker ''   \n",
              "17                 Glorious old Palmer ''   \n",
              "18         `` The Wings Of Henry James ''   \n",
              "19                   A Toast To The Bride   \n",
              "20                      La Steinkerque ''   \n",
              "21                                   Weep   \n",
              "22          The Evolution Of The Blues ''   \n",
              "23                        Women's Song ''   \n",
              "24                 An American Journey ''   \n",
              "25             `` The Garrick Gaieties ''   \n",
              "26                Ring Of Bright Water ''   \n",
              "27                          Phedre '' and   \n",
              "28                The Tricks Of Scapin ''   \n",
              "29                      Beyond The Sea ''   \n",
              "30                         Snow Maiden ''   \n",
              "31           The Making Of A President ''   \n",
              "32                     The Life And Times   \n",
              "33                 Poised For Violence ''   \n",
              "34         Suite Of Old Russian Dances ''   \n",
              "\n",
              "                                              between              person  \n",
              "0                                                  of          Eisenhower  \n",
              "1                            is very doubtful for the                Rice  \n",
              "2                                         , surprised            Kowalski  \n",
              "3   the farmers who , forgetting that birds are th...         Buchheister  \n",
              "4                                         directed by         Noel Coward  \n",
              "5                                         and `` Mrs.             Miniver  \n",
              "6                              and `` texture '' in a               Monet  \n",
              "7                                                   ,               Maris  \n",
              "8                                         , said Mrs.    Lewellyn Lundeen  \n",
              "9   is more easily understandable to the general r...      the King James  \n",
              "10                                        to the late    Dag Hammarskjold  \n",
              "11       , which owes much of its poetic power to the          James Agee  \n",
              "12                                            we have                Ruth  \n",
              "13                                               , by      Robert Fleming  \n",
              "14                                                 by           Jean Kerr  \n",
              "15                                                 by        John Osborne  \n",
              "16            were handled splendidly , and I thought           Rudy Bond  \n",
              "17                           , as he addresses him --               James  \n",
              "18  is noteworthy , if only for a keenly trenchant...         Owen Wister  \n",
              "19                                       '' , sung by  Clarence Nordstrom  \n",
              "20  , with its battle music , brevity , wit and re...             Corelli  \n",
              "21  '' , and the fireworks went on display in `` 1...              Robert  \n",
              "22                                      , narrated by       Jon Hendricks  \n",
              "23                                            and Mr.              Nagrin  \n",
              "24                                              , and   Malcolm McCormick  \n",
              "25  , an impressive forecast of the wit and melody...             Rodgers  \n",
              "26                                                 by       Gavin Maxwell  \n",
              "27                                                                Moliere  \n",
              "28                                                  ,       Robert Hirsch  \n",
              "29                                               , ``            Bricktop  \n",
              "30                          variation by the adorable    Galina Kekisheva  \n",
              "31                                                Mr.               White  \n",
              "32                                                 Of       John Sloan ''  \n",
              "33                                               , by         Jean Reavey  \n",
              "34  that opened that inaugural program with the sl...            Moiseyev  "
            ],
            "text/html": [
              "\n",
              "  <div id=\"df-e80e6554-0169-467d-ab3a-2e7f62c06b1c\" class=\"colab-df-container\">\n",
              "    <div>\n",
              "<style scoped>\n",
              "    .dataframe tbody tr th:only-of-type {\n",
              "        vertical-align: middle;\n",
              "    }\n",
              "\n",
              "    .dataframe tbody tr th {\n",
              "        vertical-align: top;\n",
              "    }\n",
              "\n",
              "    .dataframe thead th {\n",
              "        text-align: right;\n",
              "    }\n",
              "</style>\n",
              "<table border=\"1\" class=\"dataframe\">\n",
              "  <thead>\n",
              "    <tr style=\"text-align: right;\">\n",
              "      <th></th>\n",
              "      <th>work_of_art</th>\n",
              "      <th>between</th>\n",
              "      <th>person</th>\n",
              "    </tr>\n",
              "  </thead>\n",
              "  <tbody>\n",
              "    <tr>\n",
              "      <th>0</th>\n",
              "      <td>`` Campaigning on the carcass</td>\n",
              "      <td>of</td>\n",
              "      <td>Eisenhower</td>\n",
              "    </tr>\n",
              "    <tr>\n",
              "      <th>1</th>\n",
              "      <td>Kelsey</td>\n",
              "      <td>is very doubtful for the</td>\n",
              "      <td>Rice</td>\n",
              "    </tr>\n",
              "    <tr>\n",
              "      <th>2</th>\n",
              "      <td>Pall Mall , Sterling Township</td>\n",
              "      <td>, surprised</td>\n",
              "      <td>Kowalski</td>\n",
              "    </tr>\n",
              "    <tr>\n",
              "      <th>3</th>\n",
              "      <td>The news of their experiments reaches</td>\n",
              "      <td>the farmers who , forgetting that birds are th...</td>\n",
              "      <td>Buchheister</td>\n",
              "    </tr>\n",
              "    <tr>\n",
              "      <th>4</th>\n",
              "      <td>Golden Arrow ''</td>\n",
              "      <td>directed by</td>\n",
              "      <td>Noel Coward</td>\n",
              "    </tr>\n",
              "    <tr>\n",
              "      <th>5</th>\n",
              "      <td>The Forsythe Saga ''</td>\n",
              "      <td>and `` Mrs.</td>\n",
              "      <td>Miniver</td>\n",
              "    </tr>\n",
              "    <tr>\n",
              "      <th>6</th>\n",
              "      <td>Alba Madonna ''</td>\n",
              "      <td>and `` texture '' in a</td>\n",
              "      <td>Monet</td>\n",
              "    </tr>\n",
              "    <tr>\n",
              "      <th>7</th>\n",
              "      <td>Sometimes in the minors ''</td>\n",
              "      <td>,</td>\n",
              "      <td>Maris</td>\n",
              "    </tr>\n",
              "    <tr>\n",
              "      <th>8</th>\n",
              "      <td>The cannery ''</td>\n",
              "      <td>, said Mrs.</td>\n",
              "      <td>Lewellyn Lundeen</td>\n",
              "    </tr>\n",
              "    <tr>\n",
              "      <th>9</th>\n",
              "      <td>Bible</td>\n",
              "      <td>is more easily understandable to the general r...</td>\n",
              "      <td>the King James</td>\n",
              "    </tr>\n",
              "    <tr>\n",
              "      <th>10</th>\n",
              "      <td>the Nobel Prize for Peace</td>\n",
              "      <td>to the late</td>\n",
              "      <td>Dag Hammarskjold</td>\n",
              "    </tr>\n",
              "    <tr>\n",
              "      <th>11</th>\n",
              "      <td>All The Way Home</td>\n",
              "      <td>, which owes much of its poetic power to the</td>\n",
              "      <td>James Agee</td>\n",
              "    </tr>\n",
              "    <tr>\n",
              "      <th>12</th>\n",
              "      <td>The Story Of Ruth ''</td>\n",
              "      <td>we have</td>\n",
              "      <td>Ruth</td>\n",
              "    </tr>\n",
              "    <tr>\n",
              "      <th>13</th>\n",
              "      <td>Bella Bella ''</td>\n",
              "      <td>, by</td>\n",
              "      <td>Robert Fleming</td>\n",
              "    </tr>\n",
              "    <tr>\n",
              "      <th>14</th>\n",
              "      <td>`` King Of Hearts ''</td>\n",
              "      <td>by</td>\n",
              "      <td>Jean Kerr</td>\n",
              "    </tr>\n",
              "    <tr>\n",
              "      <th>15</th>\n",
              "      <td>Epitaph For George Dillon ''</td>\n",
              "      <td>by</td>\n",
              "      <td>John Osborne</td>\n",
              "    </tr>\n",
              "    <tr>\n",
              "      <th>16</th>\n",
              "      <td>Politics And Poker ''</td>\n",
              "      <td>were handled splendidly , and I thought</td>\n",
              "      <td>Rudy Bond</td>\n",
              "    </tr>\n",
              "    <tr>\n",
              "      <th>17</th>\n",
              "      <td>Glorious old Palmer ''</td>\n",
              "      <td>, as he addresses him --</td>\n",
              "      <td>James</td>\n",
              "    </tr>\n",
              "    <tr>\n",
              "      <th>18</th>\n",
              "      <td>`` The Wings Of Henry James ''</td>\n",
              "      <td>is noteworthy , if only for a keenly trenchant...</td>\n",
              "      <td>Owen Wister</td>\n",
              "    </tr>\n",
              "    <tr>\n",
              "      <th>19</th>\n",
              "      <td>A Toast To The Bride</td>\n",
              "      <td>'' , sung by</td>\n",
              "      <td>Clarence Nordstrom</td>\n",
              "    </tr>\n",
              "    <tr>\n",
              "      <th>20</th>\n",
              "      <td>La Steinkerque ''</td>\n",
              "      <td>, with its battle music , brevity , wit and re...</td>\n",
              "      <td>Corelli</td>\n",
              "    </tr>\n",
              "    <tr>\n",
              "      <th>21</th>\n",
              "      <td>Weep</td>\n",
              "      <td>'' , and the fireworks went on display in `` 1...</td>\n",
              "      <td>Robert</td>\n",
              "    </tr>\n",
              "    <tr>\n",
              "      <th>22</th>\n",
              "      <td>The Evolution Of The Blues ''</td>\n",
              "      <td>, narrated by</td>\n",
              "      <td>Jon Hendricks</td>\n",
              "    </tr>\n",
              "    <tr>\n",
              "      <th>23</th>\n",
              "      <td>Women's Song ''</td>\n",
              "      <td>and Mr.</td>\n",
              "      <td>Nagrin</td>\n",
              "    </tr>\n",
              "    <tr>\n",
              "      <th>24</th>\n",
              "      <td>An American Journey ''</td>\n",
              "      <td>, and</td>\n",
              "      <td>Malcolm McCormick</td>\n",
              "    </tr>\n",
              "    <tr>\n",
              "      <th>25</th>\n",
              "      <td>`` The Garrick Gaieties ''</td>\n",
              "      <td>, an impressive forecast of the wit and melody...</td>\n",
              "      <td>Rodgers</td>\n",
              "    </tr>\n",
              "    <tr>\n",
              "      <th>26</th>\n",
              "      <td>Ring Of Bright Water ''</td>\n",
              "      <td>by</td>\n",
              "      <td>Gavin Maxwell</td>\n",
              "    </tr>\n",
              "    <tr>\n",
              "      <th>27</th>\n",
              "      <td>Phedre '' and</td>\n",
              "      <td></td>\n",
              "      <td>Moliere</td>\n",
              "    </tr>\n",
              "    <tr>\n",
              "      <th>28</th>\n",
              "      <td>The Tricks Of Scapin ''</td>\n",
              "      <td>,</td>\n",
              "      <td>Robert Hirsch</td>\n",
              "    </tr>\n",
              "    <tr>\n",
              "      <th>29</th>\n",
              "      <td>Beyond The Sea ''</td>\n",
              "      <td>, ``</td>\n",
              "      <td>Bricktop</td>\n",
              "    </tr>\n",
              "    <tr>\n",
              "      <th>30</th>\n",
              "      <td>Snow Maiden ''</td>\n",
              "      <td>variation by the adorable</td>\n",
              "      <td>Galina Kekisheva</td>\n",
              "    </tr>\n",
              "    <tr>\n",
              "      <th>31</th>\n",
              "      <td>The Making Of A President ''</td>\n",
              "      <td>Mr.</td>\n",
              "      <td>White</td>\n",
              "    </tr>\n",
              "    <tr>\n",
              "      <th>32</th>\n",
              "      <td>The Life And Times</td>\n",
              "      <td>Of</td>\n",
              "      <td>John Sloan ''</td>\n",
              "    </tr>\n",
              "    <tr>\n",
              "      <th>33</th>\n",
              "      <td>Poised For Violence ''</td>\n",
              "      <td>, by</td>\n",
              "      <td>Jean Reavey</td>\n",
              "    </tr>\n",
              "    <tr>\n",
              "      <th>34</th>\n",
              "      <td>Suite Of Old Russian Dances ''</td>\n",
              "      <td>that opened that inaugural program with the sl...</td>\n",
              "      <td>Moiseyev</td>\n",
              "    </tr>\n",
              "  </tbody>\n",
              "</table>\n",
              "</div>\n",
              "    <div class=\"colab-df-buttons\">\n",
              "\n",
              "  <div class=\"colab-df-container\">\n",
              "    <button class=\"colab-df-convert\" onclick=\"convertToInteractive('df-e80e6554-0169-467d-ab3a-2e7f62c06b1c')\"\n",
              "            title=\"Convert this dataframe to an interactive table.\"\n",
              "            style=\"display:none;\">\n",
              "\n",
              "  <svg xmlns=\"http://www.w3.org/2000/svg\" height=\"24px\" viewBox=\"0 -960 960 960\">\n",
              "    <path d=\"M120-120v-720h720v720H120Zm60-500h600v-160H180v160Zm220 220h160v-160H400v160Zm0 220h160v-160H400v160ZM180-400h160v-160H180v160Zm440 0h160v-160H620v160ZM180-180h160v-160H180v160Zm440 0h160v-160H620v160Z\"/>\n",
              "  </svg>\n",
              "    </button>\n",
              "\n",
              "  <style>\n",
              "    .colab-df-container {\n",
              "      display:flex;\n",
              "      gap: 12px;\n",
              "    }\n",
              "\n",
              "    .colab-df-convert {\n",
              "      background-color: #E8F0FE;\n",
              "      border: none;\n",
              "      border-radius: 50%;\n",
              "      cursor: pointer;\n",
              "      display: none;\n",
              "      fill: #1967D2;\n",
              "      height: 32px;\n",
              "      padding: 0 0 0 0;\n",
              "      width: 32px;\n",
              "    }\n",
              "\n",
              "    .colab-df-convert:hover {\n",
              "      background-color: #E2EBFA;\n",
              "      box-shadow: 0px 1px 2px rgba(60, 64, 67, 0.3), 0px 1px 3px 1px rgba(60, 64, 67, 0.15);\n",
              "      fill: #174EA6;\n",
              "    }\n",
              "\n",
              "    .colab-df-buttons div {\n",
              "      margin-bottom: 4px;\n",
              "    }\n",
              "\n",
              "    [theme=dark] .colab-df-convert {\n",
              "      background-color: #3B4455;\n",
              "      fill: #D2E3FC;\n",
              "    }\n",
              "\n",
              "    [theme=dark] .colab-df-convert:hover {\n",
              "      background-color: #434B5C;\n",
              "      box-shadow: 0px 1px 3px 1px rgba(0, 0, 0, 0.15);\n",
              "      filter: drop-shadow(0px 1px 2px rgba(0, 0, 0, 0.3));\n",
              "      fill: #FFFFFF;\n",
              "    }\n",
              "  </style>\n",
              "\n",
              "    <script>\n",
              "      const buttonEl =\n",
              "        document.querySelector('#df-e80e6554-0169-467d-ab3a-2e7f62c06b1c button.colab-df-convert');\n",
              "      buttonEl.style.display =\n",
              "        google.colab.kernel.accessAllowed ? 'block' : 'none';\n",
              "\n",
              "      async function convertToInteractive(key) {\n",
              "        const element = document.querySelector('#df-e80e6554-0169-467d-ab3a-2e7f62c06b1c');\n",
              "        const dataTable =\n",
              "          await google.colab.kernel.invokeFunction('convertToInteractive',\n",
              "                                                    [key], {});\n",
              "        if (!dataTable) return;\n",
              "\n",
              "        const docLinkHtml = 'Like what you see? Visit the ' +\n",
              "          '<a target=\"_blank\" href=https://colab.research.google.com/notebooks/data_table.ipynb>data table notebook</a>'\n",
              "          + ' to learn more about interactive tables.';\n",
              "        element.innerHTML = '';\n",
              "        dataTable['output_type'] = 'display_data';\n",
              "        await google.colab.output.renderOutput(dataTable, element);\n",
              "        const docLink = document.createElement('div');\n",
              "        docLink.innerHTML = docLinkHtml;\n",
              "        element.appendChild(docLink);\n",
              "      }\n",
              "    </script>\n",
              "  </div>\n",
              "\n",
              "\n",
              "<div id=\"df-20b93ca3-f8cc-4f0a-8609-17b66ee290a1\">\n",
              "  <button class=\"colab-df-quickchart\" onclick=\"quickchart('df-20b93ca3-f8cc-4f0a-8609-17b66ee290a1')\"\n",
              "            title=\"Suggest charts\"\n",
              "            style=\"display:none;\">\n",
              "\n",
              "<svg xmlns=\"http://www.w3.org/2000/svg\" height=\"24px\"viewBox=\"0 0 24 24\"\n",
              "     width=\"24px\">\n",
              "    <g>\n",
              "        <path d=\"M19 3H5c-1.1 0-2 .9-2 2v14c0 1.1.9 2 2 2h14c1.1 0 2-.9 2-2V5c0-1.1-.9-2-2-2zM9 17H7v-7h2v7zm4 0h-2V7h2v10zm4 0h-2v-4h2v4z\"/>\n",
              "    </g>\n",
              "</svg>\n",
              "  </button>\n",
              "\n",
              "<style>\n",
              "  .colab-df-quickchart {\n",
              "      --bg-color: #E8F0FE;\n",
              "      --fill-color: #1967D2;\n",
              "      --hover-bg-color: #E2EBFA;\n",
              "      --hover-fill-color: #174EA6;\n",
              "      --disabled-fill-color: #AAA;\n",
              "      --disabled-bg-color: #DDD;\n",
              "  }\n",
              "\n",
              "  [theme=dark] .colab-df-quickchart {\n",
              "      --bg-color: #3B4455;\n",
              "      --fill-color: #D2E3FC;\n",
              "      --hover-bg-color: #434B5C;\n",
              "      --hover-fill-color: #FFFFFF;\n",
              "      --disabled-bg-color: #3B4455;\n",
              "      --disabled-fill-color: #666;\n",
              "  }\n",
              "\n",
              "  .colab-df-quickchart {\n",
              "    background-color: var(--bg-color);\n",
              "    border: none;\n",
              "    border-radius: 50%;\n",
              "    cursor: pointer;\n",
              "    display: none;\n",
              "    fill: var(--fill-color);\n",
              "    height: 32px;\n",
              "    padding: 0;\n",
              "    width: 32px;\n",
              "  }\n",
              "\n",
              "  .colab-df-quickchart:hover {\n",
              "    background-color: var(--hover-bg-color);\n",
              "    box-shadow: 0 1px 2px rgba(60, 64, 67, 0.3), 0 1px 3px 1px rgba(60, 64, 67, 0.15);\n",
              "    fill: var(--button-hover-fill-color);\n",
              "  }\n",
              "\n",
              "  .colab-df-quickchart-complete:disabled,\n",
              "  .colab-df-quickchart-complete:disabled:hover {\n",
              "    background-color: var(--disabled-bg-color);\n",
              "    fill: var(--disabled-fill-color);\n",
              "    box-shadow: none;\n",
              "  }\n",
              "\n",
              "  .colab-df-spinner {\n",
              "    border: 2px solid var(--fill-color);\n",
              "    border-color: transparent;\n",
              "    border-bottom-color: var(--fill-color);\n",
              "    animation:\n",
              "      spin 1s steps(1) infinite;\n",
              "  }\n",
              "\n",
              "  @keyframes spin {\n",
              "    0% {\n",
              "      border-color: transparent;\n",
              "      border-bottom-color: var(--fill-color);\n",
              "      border-left-color: var(--fill-color);\n",
              "    }\n",
              "    20% {\n",
              "      border-color: transparent;\n",
              "      border-left-color: var(--fill-color);\n",
              "      border-top-color: var(--fill-color);\n",
              "    }\n",
              "    30% {\n",
              "      border-color: transparent;\n",
              "      border-left-color: var(--fill-color);\n",
              "      border-top-color: var(--fill-color);\n",
              "      border-right-color: var(--fill-color);\n",
              "    }\n",
              "    40% {\n",
              "      border-color: transparent;\n",
              "      border-right-color: var(--fill-color);\n",
              "      border-top-color: var(--fill-color);\n",
              "    }\n",
              "    60% {\n",
              "      border-color: transparent;\n",
              "      border-right-color: var(--fill-color);\n",
              "    }\n",
              "    80% {\n",
              "      border-color: transparent;\n",
              "      border-right-color: var(--fill-color);\n",
              "      border-bottom-color: var(--fill-color);\n",
              "    }\n",
              "    90% {\n",
              "      border-color: transparent;\n",
              "      border-bottom-color: var(--fill-color);\n",
              "    }\n",
              "  }\n",
              "</style>\n",
              "\n",
              "  <script>\n",
              "    async function quickchart(key) {\n",
              "      const quickchartButtonEl =\n",
              "        document.querySelector('#' + key + ' button');\n",
              "      quickchartButtonEl.disabled = true;  // To prevent multiple clicks.\n",
              "      quickchartButtonEl.classList.add('colab-df-spinner');\n",
              "      try {\n",
              "        const charts = await google.colab.kernel.invokeFunction(\n",
              "            'suggestCharts', [key], {});\n",
              "      } catch (error) {\n",
              "        console.error('Error during call to suggestCharts:', error);\n",
              "      }\n",
              "      quickchartButtonEl.classList.remove('colab-df-spinner');\n",
              "      quickchartButtonEl.classList.add('colab-df-quickchart-complete');\n",
              "    }\n",
              "    (() => {\n",
              "      let quickchartButtonEl =\n",
              "        document.querySelector('#df-20b93ca3-f8cc-4f0a-8609-17b66ee290a1 button');\n",
              "      quickchartButtonEl.style.display =\n",
              "        google.colab.kernel.accessAllowed ? 'block' : 'none';\n",
              "    })();\n",
              "  </script>\n",
              "</div>\n",
              "\n",
              "  <div id=\"id_b8e29e7b-0fde-407b-b80f-295424c4344f\">\n",
              "    <style>\n",
              "      .colab-df-generate {\n",
              "        background-color: #E8F0FE;\n",
              "        border: none;\n",
              "        border-radius: 50%;\n",
              "        cursor: pointer;\n",
              "        display: none;\n",
              "        fill: #1967D2;\n",
              "        height: 32px;\n",
              "        padding: 0 0 0 0;\n",
              "        width: 32px;\n",
              "      }\n",
              "\n",
              "      .colab-df-generate:hover {\n",
              "        background-color: #E2EBFA;\n",
              "        box-shadow: 0px 1px 2px rgba(60, 64, 67, 0.3), 0px 1px 3px 1px rgba(60, 64, 67, 0.15);\n",
              "        fill: #174EA6;\n",
              "      }\n",
              "\n",
              "      [theme=dark] .colab-df-generate {\n",
              "        background-color: #3B4455;\n",
              "        fill: #D2E3FC;\n",
              "      }\n",
              "\n",
              "      [theme=dark] .colab-df-generate:hover {\n",
              "        background-color: #434B5C;\n",
              "        box-shadow: 0px 1px 3px 1px rgba(0, 0, 0, 0.15);\n",
              "        filter: drop-shadow(0px 1px 2px rgba(0, 0, 0, 0.3));\n",
              "        fill: #FFFFFF;\n",
              "      }\n",
              "    </style>\n",
              "    <button class=\"colab-df-generate\" onclick=\"generateWithVariable('df_pers_woa')\"\n",
              "            title=\"Generate code using this dataframe.\"\n",
              "            style=\"display:none;\">\n",
              "\n",
              "  <svg xmlns=\"http://www.w3.org/2000/svg\" height=\"24px\"viewBox=\"0 0 24 24\"\n",
              "       width=\"24px\">\n",
              "    <path d=\"M7,19H8.4L18.45,9,17,7.55,7,17.6ZM5,21V16.75L18.45,3.32a2,2,0,0,1,2.83,0l1.4,1.43a1.91,1.91,0,0,1,.58,1.4,1.91,1.91,0,0,1-.58,1.4L9.25,21ZM18.45,9,17,7.55Zm-12,3A5.31,5.31,0,0,0,4.9,8.1,5.31,5.31,0,0,0,1,6.5,5.31,5.31,0,0,0,4.9,4.9,5.31,5.31,0,0,0,6.5,1,5.31,5.31,0,0,0,8.1,4.9,5.31,5.31,0,0,0,12,6.5,5.46,5.46,0,0,0,6.5,12Z\"/>\n",
              "  </svg>\n",
              "    </button>\n",
              "    <script>\n",
              "      (() => {\n",
              "      const buttonEl =\n",
              "        document.querySelector('#id_b8e29e7b-0fde-407b-b80f-295424c4344f button.colab-df-generate');\n",
              "      buttonEl.style.display =\n",
              "        google.colab.kernel.accessAllowed ? 'block' : 'none';\n",
              "\n",
              "      buttonEl.onclick = () => {\n",
              "        google.colab.notebook.generateWithVariable('df_pers_woa');\n",
              "      }\n",
              "      })();\n",
              "    </script>\n",
              "  </div>\n",
              "\n",
              "    </div>\n",
              "  </div>\n"
            ],
            "application/vnd.google.colaboratory.intrinsic+json": {
              "type": "dataframe",
              "variable_name": "df_pers_woa",
              "summary": "{\n  \"name\": \"df_pers_woa\",\n  \"rows\": 35,\n  \"fields\": [\n    {\n      \"column\": \"work_of_art\",\n      \"properties\": {\n        \"dtype\": \"string\",\n        \"num_unique_values\": 35,\n        \"samples\": [\n          \"Ring Of Bright Water ''\",\n          \"Bella Bella ''\",\n          \"An American Journey ''\"\n        ],\n        \"semantic_type\": \"\",\n        \"description\": \"\"\n      }\n    },\n    {\n      \"column\": \"between\",\n      \"properties\": {\n        \"dtype\": \"string\",\n        \"num_unique_values\": 31,\n        \"samples\": [\n          \"variation by the adorable\",\n          \"were handled splendidly , and I thought\",\n          \", and\"\n        ],\n        \"semantic_type\": \"\",\n        \"description\": \"\"\n      }\n    },\n    {\n      \"column\": \"person\",\n      \"properties\": {\n        \"dtype\": \"string\",\n        \"num_unique_values\": 35,\n        \"samples\": [\n          \"Gavin Maxwell\",\n          \"Robert Fleming\",\n          \"Malcolm McCormick\"\n        ],\n        \"semantic_type\": \"\",\n        \"description\": \"\"\n      }\n    }\n  ]\n}"
            }
          },
          "metadata": {},
          "execution_count": 18
        }
      ]
    },
    {
      "cell_type": "markdown",
      "source": [
        "We get relations between books,songs,etc and the owner."
      ],
      "metadata": {
        "id": "slbvU3I9NDIJ"
      }
    },
    {
      "cell_type": "code",
      "source": [],
      "metadata": {
        "id": "5VKkVvjFNI-c"
      },
      "execution_count": 18,
      "outputs": []
    }
  ]
}