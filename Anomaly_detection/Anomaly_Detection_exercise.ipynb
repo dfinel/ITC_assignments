{
  "cells": [
    {
      "cell_type": "markdown",
      "metadata": {
        "id": "V0W3vlijxKLd"
      },
      "source": [
        "[link text](https://)# Anomaly Detection Exercise: Credit Card Fraud\n",
        "\n",
        "In this exercise, we will practice using the Local Outlier Factor and Isolation Forest methods to detect outliers in data sets. We will be looking at data from a selected subset of the data for the [\"Credit Card Fraud Detection\" Kaggle task](https://www.kaggle.com/mlg-ulb/creditcardfraud/data)."
      ]
    },
    {
      "cell_type": "markdown",
      "metadata": {
        "id": "p6nftO42eW_0"
      },
      "source": [
        "**Questions:**\n",
        "\n",
        "**Question 1**:\n",
        "\n",
        "  - Load the data in *creditcard_10k.csv.gz* into a Pandas dataframe *df* and examine the data with *df.describe()*.\n",
        "  - Explain the mean and std values for the different features based on the meaning of the features (hint: see the Kaggle task description)."
      ]
    },
    {
      "cell_type": "code",
      "execution_count": 1,
      "metadata": {
        "id": "wsCOluzjeW_0"
      },
      "outputs": [],
      "source": [
        "# your code here\n",
        "import pandas as pd\n",
        "df = pd.read_csv('creditcard_10k.csv.gz')"
      ]
    },
    {
      "cell_type": "code",
      "source": [
        "df.describe()"
      ],
      "metadata": {
        "id": "6XnHy3a9iAI-",
        "outputId": "4f654a10-5c17-42e2-8edf-a1bc4ab59924",
        "colab": {
          "base_uri": "https://localhost:8080/",
          "height": 350
        }
      },
      "execution_count": 2,
      "outputs": [
        {
          "output_type": "execute_result",
          "data": {
            "text/plain": [
              "               Time            V1            V2            V3            V4  \\\n",
              "count  10000.000000  10000.000000  10000.000000  10000.000000  10000.000000   \n",
              "mean    5966.033400     -0.241862      0.281949      0.906270      0.264148   \n",
              "std     4473.403739      1.521679      1.308139      1.159154      1.441235   \n",
              "min        0.000000    -27.670569    -34.607649    -15.496222     -4.657545   \n",
              "25%     2072.750000     -1.013283     -0.208342      0.412799     -0.614424   \n",
              "50%     4563.500000     -0.372799      0.288524      0.944361      0.219861   \n",
              "75%    10233.250000      1.150864      0.901879      1.602903      1.125666   \n",
              "max    15012.000000      1.960497      8.636214      4.101716     10.463020   \n",
              "\n",
              "                 V5            V6            V7            V8            V9  \\\n",
              "count  10000.000000  10000.000000  10000.000000  10000.000000  10000.000000   \n",
              "mean      -0.046398      0.133108     -0.071689     -0.064778      0.802224   \n",
              "std        1.182935      1.307311      1.077430      1.259064      1.155198   \n",
              "min      -32.092129    -23.496714    -26.548144    -23.632502     -6.329801   \n",
              "25%       -0.643390     -0.629934     -0.542336     -0.190747      0.070868   \n",
              "50%       -0.152769     -0.152566     -0.055585      0.012865      0.805275   \n",
              "75%        0.371081      0.505357      0.476280      0.274533      1.506299   \n",
              "max       34.099309     21.393069     34.303177      5.060381     10.392889   \n",
              "\n",
              "       ...           V21           V22           V23           V24  \\\n",
              "count  ...  10000.000000  10000.000000  10000.000000  10000.000000   \n",
              "mean   ...     -0.051990     -0.152671     -0.033268      0.021335   \n",
              "std    ...      0.913811      0.631083      0.487814      0.594430   \n",
              "min    ...    -11.468435     -8.527145    -15.144340     -2.512377   \n",
              "25%    ...     -0.268120     -0.549638     -0.174120     -0.327817   \n",
              "50%    ...     -0.123273     -0.136746     -0.045794      0.079976   \n",
              "75%    ...      0.032707      0.247490      0.081665      0.410877   \n",
              "max    ...     22.588989      4.534454     13.876221      3.200201   \n",
              "\n",
              "                V25           V26           V27           V28        Amount  \\\n",
              "count  10000.000000  10000.000000  10000.000000  10000.000000  10000.000000   \n",
              "mean       0.087146      0.108140      0.005518      0.002915     63.030188   \n",
              "std        0.428171      0.562793      0.410868      0.266247    184.486158   \n",
              "min       -2.577363     -1.338556     -7.976100     -3.509250      0.000000   \n",
              "25%       -0.158137     -0.327974     -0.084489     -0.015753      5.000000   \n",
              "50%        0.121001      0.042865     -0.004568      0.015897     15.950000   \n",
              "75%        0.359058      0.476394      0.120811      0.077182     50.960000   \n",
              "max        5.525093      3.517346      8.254376      4.860769   7712.430000   \n",
              "\n",
              "             Class  \n",
              "count  10000.00000  \n",
              "mean       0.00380  \n",
              "std        0.06153  \n",
              "min        0.00000  \n",
              "25%        0.00000  \n",
              "50%        0.00000  \n",
              "75%        0.00000  \n",
              "max        1.00000  \n",
              "\n",
              "[8 rows x 31 columns]"
            ],
            "text/html": [
              "\n",
              "  <div id=\"df-e07efe07-2752-4728-a887-9cda1c24e02b\" class=\"colab-df-container\">\n",
              "    <div>\n",
              "<style scoped>\n",
              "    .dataframe tbody tr th:only-of-type {\n",
              "        vertical-align: middle;\n",
              "    }\n",
              "\n",
              "    .dataframe tbody tr th {\n",
              "        vertical-align: top;\n",
              "    }\n",
              "\n",
              "    .dataframe thead th {\n",
              "        text-align: right;\n",
              "    }\n",
              "</style>\n",
              "<table border=\"1\" class=\"dataframe\">\n",
              "  <thead>\n",
              "    <tr style=\"text-align: right;\">\n",
              "      <th></th>\n",
              "      <th>Time</th>\n",
              "      <th>V1</th>\n",
              "      <th>V2</th>\n",
              "      <th>V3</th>\n",
              "      <th>V4</th>\n",
              "      <th>V5</th>\n",
              "      <th>V6</th>\n",
              "      <th>V7</th>\n",
              "      <th>V8</th>\n",
              "      <th>V9</th>\n",
              "      <th>...</th>\n",
              "      <th>V21</th>\n",
              "      <th>V22</th>\n",
              "      <th>V23</th>\n",
              "      <th>V24</th>\n",
              "      <th>V25</th>\n",
              "      <th>V26</th>\n",
              "      <th>V27</th>\n",
              "      <th>V28</th>\n",
              "      <th>Amount</th>\n",
              "      <th>Class</th>\n",
              "    </tr>\n",
              "  </thead>\n",
              "  <tbody>\n",
              "    <tr>\n",
              "      <th>count</th>\n",
              "      <td>10000.000000</td>\n",
              "      <td>10000.000000</td>\n",
              "      <td>10000.000000</td>\n",
              "      <td>10000.000000</td>\n",
              "      <td>10000.000000</td>\n",
              "      <td>10000.000000</td>\n",
              "      <td>10000.000000</td>\n",
              "      <td>10000.000000</td>\n",
              "      <td>10000.000000</td>\n",
              "      <td>10000.000000</td>\n",
              "      <td>...</td>\n",
              "      <td>10000.000000</td>\n",
              "      <td>10000.000000</td>\n",
              "      <td>10000.000000</td>\n",
              "      <td>10000.000000</td>\n",
              "      <td>10000.000000</td>\n",
              "      <td>10000.000000</td>\n",
              "      <td>10000.000000</td>\n",
              "      <td>10000.000000</td>\n",
              "      <td>10000.000000</td>\n",
              "      <td>10000.00000</td>\n",
              "    </tr>\n",
              "    <tr>\n",
              "      <th>mean</th>\n",
              "      <td>5966.033400</td>\n",
              "      <td>-0.241862</td>\n",
              "      <td>0.281949</td>\n",
              "      <td>0.906270</td>\n",
              "      <td>0.264148</td>\n",
              "      <td>-0.046398</td>\n",
              "      <td>0.133108</td>\n",
              "      <td>-0.071689</td>\n",
              "      <td>-0.064778</td>\n",
              "      <td>0.802224</td>\n",
              "      <td>...</td>\n",
              "      <td>-0.051990</td>\n",
              "      <td>-0.152671</td>\n",
              "      <td>-0.033268</td>\n",
              "      <td>0.021335</td>\n",
              "      <td>0.087146</td>\n",
              "      <td>0.108140</td>\n",
              "      <td>0.005518</td>\n",
              "      <td>0.002915</td>\n",
              "      <td>63.030188</td>\n",
              "      <td>0.00380</td>\n",
              "    </tr>\n",
              "    <tr>\n",
              "      <th>std</th>\n",
              "      <td>4473.403739</td>\n",
              "      <td>1.521679</td>\n",
              "      <td>1.308139</td>\n",
              "      <td>1.159154</td>\n",
              "      <td>1.441235</td>\n",
              "      <td>1.182935</td>\n",
              "      <td>1.307311</td>\n",
              "      <td>1.077430</td>\n",
              "      <td>1.259064</td>\n",
              "      <td>1.155198</td>\n",
              "      <td>...</td>\n",
              "      <td>0.913811</td>\n",
              "      <td>0.631083</td>\n",
              "      <td>0.487814</td>\n",
              "      <td>0.594430</td>\n",
              "      <td>0.428171</td>\n",
              "      <td>0.562793</td>\n",
              "      <td>0.410868</td>\n",
              "      <td>0.266247</td>\n",
              "      <td>184.486158</td>\n",
              "      <td>0.06153</td>\n",
              "    </tr>\n",
              "    <tr>\n",
              "      <th>min</th>\n",
              "      <td>0.000000</td>\n",
              "      <td>-27.670569</td>\n",
              "      <td>-34.607649</td>\n",
              "      <td>-15.496222</td>\n",
              "      <td>-4.657545</td>\n",
              "      <td>-32.092129</td>\n",
              "      <td>-23.496714</td>\n",
              "      <td>-26.548144</td>\n",
              "      <td>-23.632502</td>\n",
              "      <td>-6.329801</td>\n",
              "      <td>...</td>\n",
              "      <td>-11.468435</td>\n",
              "      <td>-8.527145</td>\n",
              "      <td>-15.144340</td>\n",
              "      <td>-2.512377</td>\n",
              "      <td>-2.577363</td>\n",
              "      <td>-1.338556</td>\n",
              "      <td>-7.976100</td>\n",
              "      <td>-3.509250</td>\n",
              "      <td>0.000000</td>\n",
              "      <td>0.00000</td>\n",
              "    </tr>\n",
              "    <tr>\n",
              "      <th>25%</th>\n",
              "      <td>2072.750000</td>\n",
              "      <td>-1.013283</td>\n",
              "      <td>-0.208342</td>\n",
              "      <td>0.412799</td>\n",
              "      <td>-0.614424</td>\n",
              "      <td>-0.643390</td>\n",
              "      <td>-0.629934</td>\n",
              "      <td>-0.542336</td>\n",
              "      <td>-0.190747</td>\n",
              "      <td>0.070868</td>\n",
              "      <td>...</td>\n",
              "      <td>-0.268120</td>\n",
              "      <td>-0.549638</td>\n",
              "      <td>-0.174120</td>\n",
              "      <td>-0.327817</td>\n",
              "      <td>-0.158137</td>\n",
              "      <td>-0.327974</td>\n",
              "      <td>-0.084489</td>\n",
              "      <td>-0.015753</td>\n",
              "      <td>5.000000</td>\n",
              "      <td>0.00000</td>\n",
              "    </tr>\n",
              "    <tr>\n",
              "      <th>50%</th>\n",
              "      <td>4563.500000</td>\n",
              "      <td>-0.372799</td>\n",
              "      <td>0.288524</td>\n",
              "      <td>0.944361</td>\n",
              "      <td>0.219861</td>\n",
              "      <td>-0.152769</td>\n",
              "      <td>-0.152566</td>\n",
              "      <td>-0.055585</td>\n",
              "      <td>0.012865</td>\n",
              "      <td>0.805275</td>\n",
              "      <td>...</td>\n",
              "      <td>-0.123273</td>\n",
              "      <td>-0.136746</td>\n",
              "      <td>-0.045794</td>\n",
              "      <td>0.079976</td>\n",
              "      <td>0.121001</td>\n",
              "      <td>0.042865</td>\n",
              "      <td>-0.004568</td>\n",
              "      <td>0.015897</td>\n",
              "      <td>15.950000</td>\n",
              "      <td>0.00000</td>\n",
              "    </tr>\n",
              "    <tr>\n",
              "      <th>75%</th>\n",
              "      <td>10233.250000</td>\n",
              "      <td>1.150864</td>\n",
              "      <td>0.901879</td>\n",
              "      <td>1.602903</td>\n",
              "      <td>1.125666</td>\n",
              "      <td>0.371081</td>\n",
              "      <td>0.505357</td>\n",
              "      <td>0.476280</td>\n",
              "      <td>0.274533</td>\n",
              "      <td>1.506299</td>\n",
              "      <td>...</td>\n",
              "      <td>0.032707</td>\n",
              "      <td>0.247490</td>\n",
              "      <td>0.081665</td>\n",
              "      <td>0.410877</td>\n",
              "      <td>0.359058</td>\n",
              "      <td>0.476394</td>\n",
              "      <td>0.120811</td>\n",
              "      <td>0.077182</td>\n",
              "      <td>50.960000</td>\n",
              "      <td>0.00000</td>\n",
              "    </tr>\n",
              "    <tr>\n",
              "      <th>max</th>\n",
              "      <td>15012.000000</td>\n",
              "      <td>1.960497</td>\n",
              "      <td>8.636214</td>\n",
              "      <td>4.101716</td>\n",
              "      <td>10.463020</td>\n",
              "      <td>34.099309</td>\n",
              "      <td>21.393069</td>\n",
              "      <td>34.303177</td>\n",
              "      <td>5.060381</td>\n",
              "      <td>10.392889</td>\n",
              "      <td>...</td>\n",
              "      <td>22.588989</td>\n",
              "      <td>4.534454</td>\n",
              "      <td>13.876221</td>\n",
              "      <td>3.200201</td>\n",
              "      <td>5.525093</td>\n",
              "      <td>3.517346</td>\n",
              "      <td>8.254376</td>\n",
              "      <td>4.860769</td>\n",
              "      <td>7712.430000</td>\n",
              "      <td>1.00000</td>\n",
              "    </tr>\n",
              "  </tbody>\n",
              "</table>\n",
              "<p>8 rows × 31 columns</p>\n",
              "</div>\n",
              "    <div class=\"colab-df-buttons\">\n",
              "\n",
              "  <div class=\"colab-df-container\">\n",
              "    <button class=\"colab-df-convert\" onclick=\"convertToInteractive('df-e07efe07-2752-4728-a887-9cda1c24e02b')\"\n",
              "            title=\"Convert this dataframe to an interactive table.\"\n",
              "            style=\"display:none;\">\n",
              "\n",
              "  <svg xmlns=\"http://www.w3.org/2000/svg\" height=\"24px\" viewBox=\"0 -960 960 960\">\n",
              "    <path d=\"M120-120v-720h720v720H120Zm60-500h600v-160H180v160Zm220 220h160v-160H400v160Zm0 220h160v-160H400v160ZM180-400h160v-160H180v160Zm440 0h160v-160H620v160ZM180-180h160v-160H180v160Zm440 0h160v-160H620v160Z\"/>\n",
              "  </svg>\n",
              "    </button>\n",
              "\n",
              "  <style>\n",
              "    .colab-df-container {\n",
              "      display:flex;\n",
              "      gap: 12px;\n",
              "    }\n",
              "\n",
              "    .colab-df-convert {\n",
              "      background-color: #E8F0FE;\n",
              "      border: none;\n",
              "      border-radius: 50%;\n",
              "      cursor: pointer;\n",
              "      display: none;\n",
              "      fill: #1967D2;\n",
              "      height: 32px;\n",
              "      padding: 0 0 0 0;\n",
              "      width: 32px;\n",
              "    }\n",
              "\n",
              "    .colab-df-convert:hover {\n",
              "      background-color: #E2EBFA;\n",
              "      box-shadow: 0px 1px 2px rgba(60, 64, 67, 0.3), 0px 1px 3px 1px rgba(60, 64, 67, 0.15);\n",
              "      fill: #174EA6;\n",
              "    }\n",
              "\n",
              "    .colab-df-buttons div {\n",
              "      margin-bottom: 4px;\n",
              "    }\n",
              "\n",
              "    [theme=dark] .colab-df-convert {\n",
              "      background-color: #3B4455;\n",
              "      fill: #D2E3FC;\n",
              "    }\n",
              "\n",
              "    [theme=dark] .colab-df-convert:hover {\n",
              "      background-color: #434B5C;\n",
              "      box-shadow: 0px 1px 3px 1px rgba(0, 0, 0, 0.15);\n",
              "      filter: drop-shadow(0px 1px 2px rgba(0, 0, 0, 0.3));\n",
              "      fill: #FFFFFF;\n",
              "    }\n",
              "  </style>\n",
              "\n",
              "    <script>\n",
              "      const buttonEl =\n",
              "        document.querySelector('#df-e07efe07-2752-4728-a887-9cda1c24e02b button.colab-df-convert');\n",
              "      buttonEl.style.display =\n",
              "        google.colab.kernel.accessAllowed ? 'block' : 'none';\n",
              "\n",
              "      async function convertToInteractive(key) {\n",
              "        const element = document.querySelector('#df-e07efe07-2752-4728-a887-9cda1c24e02b');\n",
              "        const dataTable =\n",
              "          await google.colab.kernel.invokeFunction('convertToInteractive',\n",
              "                                                    [key], {});\n",
              "        if (!dataTable) return;\n",
              "\n",
              "        const docLinkHtml = 'Like what you see? Visit the ' +\n",
              "          '<a target=\"_blank\" href=https://colab.research.google.com/notebooks/data_table.ipynb>data table notebook</a>'\n",
              "          + ' to learn more about interactive tables.';\n",
              "        element.innerHTML = '';\n",
              "        dataTable['output_type'] = 'display_data';\n",
              "        await google.colab.output.renderOutput(dataTable, element);\n",
              "        const docLink = document.createElement('div');\n",
              "        docLink.innerHTML = docLinkHtml;\n",
              "        element.appendChild(docLink);\n",
              "      }\n",
              "    </script>\n",
              "  </div>\n",
              "\n",
              "\n",
              "<div id=\"df-7bc38a2f-3dc3-4205-8a6a-a3fb1b2d8db7\">\n",
              "  <button class=\"colab-df-quickchart\" onclick=\"quickchart('df-7bc38a2f-3dc3-4205-8a6a-a3fb1b2d8db7')\"\n",
              "            title=\"Suggest charts\"\n",
              "            style=\"display:none;\">\n",
              "\n",
              "<svg xmlns=\"http://www.w3.org/2000/svg\" height=\"24px\"viewBox=\"0 0 24 24\"\n",
              "     width=\"24px\">\n",
              "    <g>\n",
              "        <path d=\"M19 3H5c-1.1 0-2 .9-2 2v14c0 1.1.9 2 2 2h14c1.1 0 2-.9 2-2V5c0-1.1-.9-2-2-2zM9 17H7v-7h2v7zm4 0h-2V7h2v10zm4 0h-2v-4h2v4z\"/>\n",
              "    </g>\n",
              "</svg>\n",
              "  </button>\n",
              "\n",
              "<style>\n",
              "  .colab-df-quickchart {\n",
              "      --bg-color: #E8F0FE;\n",
              "      --fill-color: #1967D2;\n",
              "      --hover-bg-color: #E2EBFA;\n",
              "      --hover-fill-color: #174EA6;\n",
              "      --disabled-fill-color: #AAA;\n",
              "      --disabled-bg-color: #DDD;\n",
              "  }\n",
              "\n",
              "  [theme=dark] .colab-df-quickchart {\n",
              "      --bg-color: #3B4455;\n",
              "      --fill-color: #D2E3FC;\n",
              "      --hover-bg-color: #434B5C;\n",
              "      --hover-fill-color: #FFFFFF;\n",
              "      --disabled-bg-color: #3B4455;\n",
              "      --disabled-fill-color: #666;\n",
              "  }\n",
              "\n",
              "  .colab-df-quickchart {\n",
              "    background-color: var(--bg-color);\n",
              "    border: none;\n",
              "    border-radius: 50%;\n",
              "    cursor: pointer;\n",
              "    display: none;\n",
              "    fill: var(--fill-color);\n",
              "    height: 32px;\n",
              "    padding: 0;\n",
              "    width: 32px;\n",
              "  }\n",
              "\n",
              "  .colab-df-quickchart:hover {\n",
              "    background-color: var(--hover-bg-color);\n",
              "    box-shadow: 0 1px 2px rgba(60, 64, 67, 0.3), 0 1px 3px 1px rgba(60, 64, 67, 0.15);\n",
              "    fill: var(--button-hover-fill-color);\n",
              "  }\n",
              "\n",
              "  .colab-df-quickchart-complete:disabled,\n",
              "  .colab-df-quickchart-complete:disabled:hover {\n",
              "    background-color: var(--disabled-bg-color);\n",
              "    fill: var(--disabled-fill-color);\n",
              "    box-shadow: none;\n",
              "  }\n",
              "\n",
              "  .colab-df-spinner {\n",
              "    border: 2px solid var(--fill-color);\n",
              "    border-color: transparent;\n",
              "    border-bottom-color: var(--fill-color);\n",
              "    animation:\n",
              "      spin 1s steps(1) infinite;\n",
              "  }\n",
              "\n",
              "  @keyframes spin {\n",
              "    0% {\n",
              "      border-color: transparent;\n",
              "      border-bottom-color: var(--fill-color);\n",
              "      border-left-color: var(--fill-color);\n",
              "    }\n",
              "    20% {\n",
              "      border-color: transparent;\n",
              "      border-left-color: var(--fill-color);\n",
              "      border-top-color: var(--fill-color);\n",
              "    }\n",
              "    30% {\n",
              "      border-color: transparent;\n",
              "      border-left-color: var(--fill-color);\n",
              "      border-top-color: var(--fill-color);\n",
              "      border-right-color: var(--fill-color);\n",
              "    }\n",
              "    40% {\n",
              "      border-color: transparent;\n",
              "      border-right-color: var(--fill-color);\n",
              "      border-top-color: var(--fill-color);\n",
              "    }\n",
              "    60% {\n",
              "      border-color: transparent;\n",
              "      border-right-color: var(--fill-color);\n",
              "    }\n",
              "    80% {\n",
              "      border-color: transparent;\n",
              "      border-right-color: var(--fill-color);\n",
              "      border-bottom-color: var(--fill-color);\n",
              "    }\n",
              "    90% {\n",
              "      border-color: transparent;\n",
              "      border-bottom-color: var(--fill-color);\n",
              "    }\n",
              "  }\n",
              "</style>\n",
              "\n",
              "  <script>\n",
              "    async function quickchart(key) {\n",
              "      const quickchartButtonEl =\n",
              "        document.querySelector('#' + key + ' button');\n",
              "      quickchartButtonEl.disabled = true;  // To prevent multiple clicks.\n",
              "      quickchartButtonEl.classList.add('colab-df-spinner');\n",
              "      try {\n",
              "        const charts = await google.colab.kernel.invokeFunction(\n",
              "            'suggestCharts', [key], {});\n",
              "      } catch (error) {\n",
              "        console.error('Error during call to suggestCharts:', error);\n",
              "      }\n",
              "      quickchartButtonEl.classList.remove('colab-df-spinner');\n",
              "      quickchartButtonEl.classList.add('colab-df-quickchart-complete');\n",
              "    }\n",
              "    (() => {\n",
              "      let quickchartButtonEl =\n",
              "        document.querySelector('#df-7bc38a2f-3dc3-4205-8a6a-a3fb1b2d8db7 button');\n",
              "      quickchartButtonEl.style.display =\n",
              "        google.colab.kernel.accessAllowed ? 'block' : 'none';\n",
              "    })();\n",
              "  </script>\n",
              "</div>\n",
              "\n",
              "    </div>\n",
              "  </div>\n"
            ]
          },
          "metadata": {},
          "execution_count": 2
        }
      ]
    },
    {
      "cell_type": "markdown",
      "source": [
        "V1,...V28 correspond to the features we got after PCA. As in PCA we standardize the features, we get features of mean around 0 and std around 1."
      ],
      "metadata": {
        "id": "um6hSG9Mij9H"
      }
    },
    {
      "cell_type": "markdown",
      "metadata": {
        "id": "I5GMva_NLfwz"
      },
      "source": [
        "**Question 2**:\n",
        "\n",
        "Split the data into `X` and `y` (`Class` column of the `df`).  \n",
        "\n",
        "We will use **unsupervised** Anomaly Detection algorithms to find the outliers, and use the `Class` feature that tells whether the transaction is legitimate or fraudulent only as target labels for **metric** to check how well we were able to recognize the outliers."
      ]
    },
    {
      "cell_type": "code",
      "execution_count": 3,
      "metadata": {
        "id": "BerjLlIgLfwz"
      },
      "outputs": [],
      "source": [
        "# your code here\n",
        "X = df.drop(columns = 'Class')\n",
        "y = df.Class"
      ]
    },
    {
      "cell_type": "markdown",
      "metadata": {
        "id": "IAuGKGvyLfwz"
      },
      "source": [
        "**Question 3:**\n",
        "\n",
        "We will be using and comparing behavior of 2 Anomaly Detection algorithms: Local Outlier Factor and Isolation Forest.   \n",
        "   - Which one of them is based on distance?  \n",
        "   - What preprocessing is required for distance-based algorithms?\n",
        "   - Perform the preprocessing on all features"
      ]
    },
    {
      "cell_type": "markdown",
      "source": [
        "LOF is based on distance.\n",
        "For distance-based algorithms, we need to scale all the features. As V1,...V28 are already scaled, we need to scale 'Time' and 'Amount'."
      ],
      "metadata": {
        "id": "d_2rcULkjHcN"
      }
    },
    {
      "cell_type": "code",
      "execution_count": 4,
      "metadata": {
        "id": "0KtxElD_Lfwz"
      },
      "outputs": [],
      "source": [
        "# your code here\n",
        "from sklearn.preprocessing import StandardScaler\n",
        "sc = StandardScaler()\n",
        "X[['Time','Amount']] = pd.DataFrame(sc.fit_transform(X[['Time','Amount']]),index = X.index)\n",
        "\n"
      ]
    },
    {
      "cell_type": "markdown",
      "metadata": {
        "id": "K2MczkQ6eW_1"
      },
      "source": [
        "**Question 4:** What percentage of transactions in the dataset are fraudulent using the `Class` feature?"
      ]
    },
    {
      "cell_type": "code",
      "execution_count": 5,
      "metadata": {
        "id": "QBvXHelMeW_1",
        "outputId": "fb6989e8-86d7-4af6-a479-ec4d34d23835",
        "colab": {
          "base_uri": "https://localhost:8080/"
        }
      },
      "outputs": [
        {
          "output_type": "execute_result",
          "data": {
            "text/plain": [
              "0    99.62\n",
              "1     0.38\n",
              "Name: Class, dtype: float64"
            ]
          },
          "metadata": {},
          "execution_count": 5
        }
      ],
      "source": [
        "# your code here\n",
        "y.value_counts()/y.shape[0]*100"
      ]
    },
    {
      "cell_type": "markdown",
      "source": [
        "99.62% of transactions are not fraudulent.\n",
        "0.38% of transactions are fraudulent."
      ],
      "metadata": {
        "id": "p0E3hn1jm0Rn"
      }
    },
    {
      "cell_type": "markdown",
      "metadata": {
        "id": "HVllIQdKeW_2"
      },
      "source": [
        "**Question 5:**\n",
        "\n",
        "Use `sklearn.neighbors.LocalOutlierFactor` with default parameters to detect outliers in transaction details.  How many transactions and what percentage of transactions are called fraudulent (outliers) with default parameters of LocalOutlierFactor?"
      ]
    },
    {
      "cell_type": "code",
      "execution_count": 6,
      "metadata": {
        "id": "F9wYYWrbeW_2"
      },
      "outputs": [],
      "source": [
        "# your code here\n",
        "from sklearn.neighbors import LocalOutlierFactor\n",
        "lof = LocalOutlierFactor()\n",
        "fraud_trans_pred = lof.fit_predict(X)"
      ]
    },
    {
      "cell_type": "code",
      "source": [
        "import numpy as np\n",
        "unique_val,occ_val = np.unique(fraud_trans_pred, return_counts = True)"
      ],
      "metadata": {
        "id": "_lSHPsp1ndtJ"
      },
      "execution_count": 7,
      "outputs": []
    },
    {
      "cell_type": "code",
      "source": [
        "unique_val,occ_val,occ_val/X.shape[0]*100"
      ],
      "metadata": {
        "id": "nJ_oIm8wob0K",
        "outputId": "5a468e70-6a04-4e22-db0f-15118c757148",
        "colab": {
          "base_uri": "https://localhost:8080/"
        }
      },
      "execution_count": 8,
      "outputs": [
        {
          "output_type": "execute_result",
          "data": {
            "text/plain": [
              "(array([-1,  1]), array([ 670, 9330]), array([ 6.7, 93.3]))"
            ]
          },
          "metadata": {},
          "execution_count": 8
        }
      ]
    },
    {
      "cell_type": "markdown",
      "source": [
        "670 transactions (= 6.7%) are called fraudulent by the LOF method."
      ],
      "metadata": {
        "id": "alketkoKopKz"
      }
    },
    {
      "cell_type": "markdown",
      "metadata": {
        "id": "BAQ2-GE_eW_3"
      },
      "source": [
        "**Question 6:**\n",
        "\n",
        "- Use `sklearn.metrics.confusion_matrix` and `sklearn.metrics.classification_report` to compare the results from unsupervised anomaly detection with LOF of previous question with the target labels.\n",
        "- Is the output of LOF with default parameters better than randomly selecting same number of transactions as were chosen by LOF in previous question? Why or why not? (Hint: if we would randomly select X% of observations as outliers, what percentage of real outliers would be chosen?)"
      ]
    },
    {
      "cell_type": "code",
      "execution_count": 9,
      "metadata": {
        "id": "4IhtV0MQeW_3"
      },
      "outputs": [],
      "source": [
        "# your code here\n",
        "fraud_trans_pred_copy = fraud_trans_pred.copy()\n",
        "fraud_trans_pred_copy[fraud_trans_pred_copy == 1] = 0\n",
        "fraud_trans_pred_copy[fraud_trans_pred_copy == -1] = 1\n"
      ]
    },
    {
      "cell_type": "code",
      "source": [
        "from sklearn.metrics import confusion_matrix,classification_report\n",
        "print(confusion_matrix(y,fraud_trans_pred_copy))\n",
        "print(classification_report(y,fraud_trans_pred_copy))"
      ],
      "metadata": {
        "id": "Myv6srDXr7CL",
        "outputId": "ff11f43c-006c-46c8-b9bb-178fa8a8e302",
        "colab": {
          "base_uri": "https://localhost:8080/"
        }
      },
      "execution_count": 10,
      "outputs": [
        {
          "output_type": "stream",
          "name": "stdout",
          "text": [
            "[[9305  657]\n",
            " [  25   13]]\n",
            "              precision    recall  f1-score   support\n",
            "\n",
            "           0       1.00      0.93      0.96      9962\n",
            "           1       0.02      0.34      0.04        38\n",
            "\n",
            "    accuracy                           0.93     10000\n",
            "   macro avg       0.51      0.64      0.50     10000\n",
            "weighted avg       0.99      0.93      0.96     10000\n",
            "\n"
          ]
        }
      ]
    },
    {
      "cell_type": "code",
      "source": [
        "import random\n",
        "indexes_fraud = random.sample(range(10000),670)\n",
        "pred_random = np.zeros(10000, dtype = int)\n",
        "pred_random[indexes_fraud] = 1"
      ],
      "metadata": {
        "id": "gyE-O1oJsr7D"
      },
      "execution_count": 11,
      "outputs": []
    },
    {
      "cell_type": "code",
      "source": [
        "print(confusion_matrix(y,pred_random))\n",
        "print(classification_report(y,pred_random))"
      ],
      "metadata": {
        "id": "KB_jjFiAtw7Z",
        "outputId": "f6b621eb-43fc-46f8-b2e6-a11caaae5d7e",
        "colab": {
          "base_uri": "https://localhost:8080/"
        }
      },
      "execution_count": 12,
      "outputs": [
        {
          "output_type": "stream",
          "name": "stdout",
          "text": [
            "[[9292  670]\n",
            " [  38    0]]\n",
            "              precision    recall  f1-score   support\n",
            "\n",
            "           0       1.00      0.93      0.96      9962\n",
            "           1       0.00      0.00      0.00        38\n",
            "\n",
            "    accuracy                           0.93     10000\n",
            "   macro avg       0.50      0.47      0.48     10000\n",
            "weighted avg       0.99      0.93      0.96     10000\n",
            "\n"
          ]
        }
      ]
    },
    {
      "cell_type": "markdown",
      "source": [
        "By selecting randomly the fraudulent transactions, we get a recall < 1% for the class 1, meaning that we captured a veyr few fraudulent transaction whereas by using LOF, we got a recall of 0.34 meaning that we captured 34% of fraudulent transactions."
      ],
      "metadata": {
        "id": "9t9O1ILPukoL"
      }
    },
    {
      "cell_type": "markdown",
      "metadata": {
        "id": "s4OFD3lWeW_4"
      },
      "source": [
        "**Question 7:**\n",
        "\n",
        "`contamination` parameter of `LocalOutlierFactor` allows us to set what percent of total observations we would like our LOF model to flag as an outlier.  Let's see how the `contamination` parameter effects the results of LOF:\n",
        "  - Try passing different valid values to the parameter `contamination` of LocalOutlierFactor on full valid range of `contamination` of (0.0, 0.5].\n",
        "  - Plot the `contamination` parameter on the X axis and both `precision` and `recall` on the Y axis of the same graph.\n",
        "  - How does the `contamination` parameter affect the precision and recall of LOF?"
      ]
    },
    {
      "cell_type": "code",
      "execution_count": 13,
      "metadata": {
        "id": "_QqXIpaJeW_4"
      },
      "outputs": [],
      "source": [
        "# your code here\n",
        "from sklearn.metrics import precision_score,recall_score\n",
        "import matplotlib.pyplot as plt\n",
        "contams = np.linspace(0.1,0.5,50).round(3)\n",
        "precisions = []\n",
        "recalls = []\n",
        "for contam in contams:\n",
        "  lof2 = LocalOutlierFactor(contamination = contam)\n",
        "  y_pred_contam = lof2.fit_predict(X)\n",
        "  y_pred_contam[y_pred_contam == 1] = 0\n",
        "  y_pred_contam[y_pred_contam == -1] = 1\n",
        "  precision = precision_score(y,y_pred_contam)\n",
        "  recall = recall_score(y,y_pred_contam)\n",
        "  precisions.append(precision)\n",
        "  recalls.append(recall)\n",
        "\n"
      ]
    },
    {
      "cell_type": "code",
      "source": [
        "f = plt.figure()\n",
        "plt.plot(contams, recalls, color = 'orange', label = 'recall')\n",
        "plt.plot(contams, precisions, color = 'b', label = 'precision')\n",
        "plt.title('Contamination against precision and recall for LOF')\n",
        "plt.xlabel('contamination')\n",
        "plt.ylabel('precision / recall')\n",
        "plt.legend()\n",
        "plt.tight_layout()\n",
        "plt.show()"
      ],
      "metadata": {
        "id": "r1JLftlK0ihR",
        "outputId": "d175bc8b-c946-4e4b-bdc2-365b9988823a",
        "colab": {
          "base_uri": "https://localhost:8080/",
          "height": 487
        }
      },
      "execution_count": 14,
      "outputs": [
        {
          "output_type": "display_data",
          "data": {
            "text/plain": [
              "<Figure size 640x480 with 1 Axes>"
            ],
            "image/png": "[encoded data removed]"
          },
          "metadata": {}
        }
      ]
    },
    {
      "cell_type": "markdown",
      "source": [
        "When the contamination parameter increase, precision decrease and recall increase."
      ],
      "metadata": {
        "id": "J7Jy1QcS20x1"
      }
    },
    {
      "cell_type": "markdown",
      "metadata": {
        "id": "2inJUuEiLfw1"
      },
      "source": [
        "**Question 8:**\n",
        "\n",
        "Although the valid range of `contamination` parameter is (0.0, 0.5] so we can flag up to half of observations as outliers, it usually doesn't make sense to flag half the observations as outliers, since outliers are very rare.  Based on your answer in question 4 that shows that in this case, the fraudulent transactions are indeed rare, let's check `contimation` only up to 0.1 (we will flag maximum 10% of transactions as fraudulent).\n",
        "  - Try passing different values to the parameter `contamination` of LocalOutlierFactor in range (0.0, 0.1].\n",
        "  - Plot the `contamination` parameter on the X axis and both `precision` and `recall` on the Y axis of the same graph.\n",
        "  - Plot on the same graph a vertical line for contamination (% of transactions flagged as fraudulent) that was found by LocalOutlierFactor with default parameters (question 5).\n",
        "  - Would you say that the `contamination` chosen by default is a good choice?\n",
        "  - If you would go with a higher `contamination` value, what value would you choose and why?\n",
        "  - If you would go with a lower `contamination` value, what value would you choose and why?"
      ]
    },
    {
      "cell_type": "code",
      "execution_count": 15,
      "metadata": {
        "id": "hMUlyEwmLfw1"
      },
      "outputs": [],
      "source": [
        "# your code here\n",
        "contams_bis = np.linspace(0.01,0.1,50).round(4)\n",
        "precisions_bis = []\n",
        "recalls_bis = []\n",
        "for contam in contams_bis:\n",
        "  lof3 = LocalOutlierFactor(contamination = contam)\n",
        "  y_pred_contam = lof3.fit_predict(X)\n",
        "  y_pred_contam[y_pred_contam == 1] = 0\n",
        "  y_pred_contam[y_pred_contam == -1] = 1\n",
        "  precision = precision_score(y,y_pred_contam)\n",
        "  recall = recall_score(y,y_pred_contam)\n",
        "  precisions_bis.append(precision)\n",
        "  recalls_bis.append(recall)"
      ]
    },
    {
      "cell_type": "code",
      "source": [
        "f = plt.figure()\n",
        "plt.plot(contams_bis, recalls_bis, color = 'orange', label = 'recall')\n",
        "plt.plot(contams_bis, precisions_bis, color = 'b', label = 'precision')\n",
        "plt.title('Contamination against precision and recall for LOF')\n",
        "plt.xlabel('contamination')\n",
        "plt.ylabel('precision / recall')\n",
        "plt.axvline(0.067, color = 'green', label = 'contam q5')\n",
        "plt.legend()\n",
        "plt.tight_layout()\n",
        "plt.show()"
      ],
      "metadata": {
        "id": "rHb-uS9Z33VH",
        "outputId": "4191b936-72e0-4ad6-ee40-3123f63b00e3",
        "colab": {
          "base_uri": "https://localhost:8080/",
          "height": 487
        }
      },
      "execution_count": 16,
      "outputs": [
        {
          "output_type": "display_data",
          "data": {
            "text/plain": [
              "<Figure size 640x480 with 1 Axes>"
            ],
            "image/png": "[encoded data removed]"
          },
          "metadata": {}
        }
      ]
    },
    {
      "cell_type": "markdown",
      "source": [
        "The contamination chosen by default gives a recall around 0.32 and a contamination around 0.02. We see that for the same level of recall, we can have a higher precision by taking a contamination around 0.05\n",
        "so I would go for a contamination of 0.05"
      ],
      "metadata": {
        "id": "b3ZAo7kp46LJ"
      }
    },
    {
      "cell_type": "markdown",
      "metadata": {
        "id": "U1gxhlXOeW_5"
      },
      "source": [
        "**Question 9:** Repeat questions 5-8 using `sklearn.ensemble.IsolationForest`."
      ]
    },
    {
      "cell_type": "markdown",
      "source": [
        "#### Q5"
      ],
      "metadata": {
        "id": "x0kiuGPL51zw"
      }
    },
    {
      "cell_type": "code",
      "execution_count": 17,
      "metadata": {
        "id": "0THSXCJ2eW_5"
      },
      "outputs": [],
      "source": [
        "# your code here\n",
        "from sklearn.ensemble import IsolationForest\n",
        "isof = IsolationForest()\n",
        "y_pred_isof_def = isof.fit_predict(X)\n"
      ]
    },
    {
      "cell_type": "code",
      "source": [
        "unique_val, occ_val = np.unique(y_pred_isof_def,return_counts = True)"
      ],
      "metadata": {
        "id": "WnP1L5jl53op"
      },
      "execution_count": 18,
      "outputs": []
    },
    {
      "cell_type": "code",
      "source": [
        "occ_val/X.shape[0]*100"
      ],
      "metadata": {
        "id": "ffOqWj796Rdn",
        "outputId": "ba910273-849c-46c3-b546-8a0ce79d31b2",
        "colab": {
          "base_uri": "https://localhost:8080/"
        }
      },
      "execution_count": 19,
      "outputs": [
        {
          "output_type": "execute_result",
          "data": {
            "text/plain": [
              "array([ 4.63, 95.37])"
            ]
          },
          "metadata": {},
          "execution_count": 19
        }
      ]
    },
    {
      "cell_type": "markdown",
      "source": [
        "By default, 425 transactions (=4.25%)  are labeled as fraudulent."
      ],
      "metadata": {
        "id": "JCcgfkPh6cV9"
      }
    },
    {
      "cell_type": "markdown",
      "source": [
        "#### Q6"
      ],
      "metadata": {
        "id": "QPOzkUz861wv"
      }
    },
    {
      "cell_type": "code",
      "source": [
        "y_pred_isof_def[y_pred_isof_def == 1] = 0\n",
        "y_pred_isof_def[y_pred_isof_def == -1] = 1\n",
        "print(confusion_matrix(y,y_pred_isof_def))\n",
        "print(classification_report(y,y_pred_isof_def))"
      ],
      "metadata": {
        "id": "_iKfTtuB62mp",
        "outputId": "240669c7-23af-4a2c-f671-6f60c9470576",
        "colab": {
          "base_uri": "https://localhost:8080/"
        }
      },
      "execution_count": 20,
      "outputs": [
        {
          "output_type": "stream",
          "name": "stdout",
          "text": [
            "[[9535  427]\n",
            " [   2   36]]\n",
            "              precision    recall  f1-score   support\n",
            "\n",
            "           0       1.00      0.96      0.98      9962\n",
            "           1       0.08      0.95      0.14        38\n",
            "\n",
            "    accuracy                           0.96     10000\n",
            "   macro avg       0.54      0.95      0.56     10000\n",
            "weighted avg       1.00      0.96      0.97     10000\n",
            "\n"
          ]
        }
      ]
    },
    {
      "cell_type": "code",
      "source": [
        "indexes_isof = random.sample(range(1000),425)\n",
        "y_pred_random_if = np.zeros(10000, dtype = int)\n",
        "y_pred_random_if[indexes_isof] = 1\n",
        "print(confusion_matrix(y,y_pred_random_if))\n",
        "print(classification_report(y,y_pred_random_if))"
      ],
      "metadata": {
        "id": "zv9i3uQx7VdV",
        "outputId": "79fe5f38-f88b-4081-f522-78b7eddd9f11",
        "colab": {
          "base_uri": "https://localhost:8080/"
        }
      },
      "execution_count": 21,
      "outputs": [
        {
          "output_type": "stream",
          "name": "stdout",
          "text": [
            "[[9538  424]\n",
            " [  37    1]]\n",
            "              precision    recall  f1-score   support\n",
            "\n",
            "           0       1.00      0.96      0.98      9962\n",
            "           1       0.00      0.03      0.00        38\n",
            "\n",
            "    accuracy                           0.95     10000\n",
            "   macro avg       0.50      0.49      0.49     10000\n",
            "weighted avg       0.99      0.95      0.97     10000\n",
            "\n"
          ]
        }
      ]
    },
    {
      "cell_type": "markdown",
      "source": [
        "With default parameters, isolationforest caught 95% of fraudulent transactions whereas with a random selection, it caught only 5% of fraudulent transactions."
      ],
      "metadata": {
        "id": "fUh-eQj78rbU"
      }
    },
    {
      "cell_type": "markdown",
      "source": [
        "#### Q7"
      ],
      "metadata": {
        "id": "i8aO7wj39fUW"
      }
    },
    {
      "cell_type": "code",
      "source": [
        "import warnings\n",
        "warnings.filterwarnings('ignore')\n",
        "\n",
        "contam_if = np.linspace(0.01,0.5,50)\n",
        "recalls_if = []\n",
        "precisions_if = []\n",
        "for contam in contam_if:\n",
        "  isof = IsolationForest(contamination = contam)\n",
        "  y_pred_isof = isof.fit_predict(X)\n",
        "  y_pred_isof[y_pred_isof == 1] = 0\n",
        "  y_pred_isof[y_pred_isof == -1] = 1\n",
        "  precision = precision_score(y,y_pred_isof)\n",
        "  recall = recall_score(y,y_pred_isof)\n",
        "  recalls_if.append(recall)\n",
        "  precisions_if.append(precision)\n",
        "\n"
      ],
      "metadata": {
        "id": "GvViTGTn9gjA"
      },
      "execution_count": 22,
      "outputs": []
    },
    {
      "cell_type": "code",
      "source": [
        "f = plt.figure()\n",
        "plt.plot(contam_if,recalls_if,label = 'recall', color = 'orange')\n",
        "plt.plot(contam_if,precisions_if,label = 'precision', color = 'blue')\n",
        "plt.title('Contamination agains precision and recall for IsolationForest')\n",
        "plt.xlabel('contamination')\n",
        "plt.ylabel('precision/recall')\n",
        "plt.legend()\n",
        "plt.tight_layout()\n",
        "plt.show()"
      ],
      "metadata": {
        "id": "3pwy6k9RAIct",
        "outputId": "92b17f3b-7bf7-4308-c4a4-f26816e59651",
        "colab": {
          "base_uri": "https://localhost:8080/",
          "height": 487
        }
      },
      "execution_count": 23,
      "outputs": [
        {
          "output_type": "display_data",
          "data": {
            "text/plain": [
              "<Figure size 640x480 with 1 Axes>"
            ],
            "image/png": "[encoded data removed]"
          },
          "metadata": {}
        }
      ]
    },
    {
      "cell_type": "markdown",
      "source": [
        "When the contamination increases, precision decrease and recall increase. For contamination >= 0.05, recall is stationary."
      ],
      "metadata": {
        "id": "dQp9PJm2ApKu"
      }
    },
    {
      "cell_type": "markdown",
      "source": [
        "#### Q8"
      ],
      "metadata": {
        "id": "6AbgAREWA6jd"
      }
    },
    {
      "cell_type": "code",
      "source": [
        "new_contam_if = np.linspace(0.01,0.1,50)\n",
        "recalls_if_new = []\n",
        "precisions_if_new = []\n",
        "for contam in new_contam_if:\n",
        "  isof = IsolationForest(contamination = contam)\n",
        "  y_pred_isof = isof.fit_predict(X)\n",
        "  y_pred_isof[y_pred_isof == 1] = 0\n",
        "  y_pred_isof[y_pred_isof == -1] = 1\n",
        "  precision = precision_score(y,y_pred_isof)\n",
        "  recall = recall_score(y,y_pred_isof)\n",
        "  recalls_if_new.append(recall)\n",
        "  precisions_if_new.append(precision)"
      ],
      "metadata": {
        "id": "DuuF6TvBA7dQ"
      },
      "execution_count": 24,
      "outputs": []
    },
    {
      "cell_type": "code",
      "source": [
        "f = plt.figure()\n",
        "plt.plot(new_contam_if,recalls_if_new,label = 'recall', color = 'orange')\n",
        "plt.plot(new_contam_if,precisions_if_new,label = 'precision', color = 'blue')\n",
        "plt.axvline(0.0425, color = 'green', label = 'contam q5')\n",
        "plt.title('Contamination agains precision and recall for IsolationForest')\n",
        "plt.xlabel('contamination')\n",
        "plt.ylabel('precision/recall')\n",
        "plt.legend()\n",
        "plt.tight_layout()\n",
        "plt.show()"
      ],
      "metadata": {
        "id": "956AanrNBVnu",
        "outputId": "5d59f7df-7662-4411-a214-564823015c67",
        "colab": {
          "base_uri": "https://localhost:8080/",
          "height": 487
        }
      },
      "execution_count": 25,
      "outputs": [
        {
          "output_type": "display_data",
          "data": {
            "text/plain": [
              "<Figure size 640x480 with 1 Axes>"
            ],
            "image/png": "[encoded data removed]"
          },
          "metadata": {}
        }
      ]
    },
    {
      "cell_type": "markdown",
      "source": [
        "We see that for the same level of recall, we can have a higher precision so I would choose a contamination around 0.04 to keep a high level of recall but with a higher level of precision than the one choosen by default."
      ],
      "metadata": {
        "id": "0YNV57_1Brb0"
      }
    },
    {
      "cell_type": "markdown",
      "metadata": {
        "id": "zGOl5QfSLfw2"
      },
      "source": [
        "**Question 10:**\n",
        "- Plot contamination, precision and recall both for LOF and IF on the same graph for contaminations in range (0, 0.1].  **Tip:** use different colors for precision and recall, and different line styles to differentiate between LOF and IF.\n",
        "- What algorithm gives us consistently better results?\n",
        "- What algorithm and what contamination value would you choose and why? If you are not sure, give a few options."
      ]
    },
    {
      "cell_type": "code",
      "execution_count": 26,
      "metadata": {
        "id": "-8bgFmWhLfw2",
        "outputId": "52dc8fd1-299e-4c39-9a9b-c54e0d68ed10",
        "colab": {
          "base_uri": "https://localhost:8080/",
          "height": 487
        }
      },
      "outputs": [
        {
          "output_type": "display_data",
          "data": {
            "text/plain": [
              "<Figure size 640x480 with 1 Axes>"
            ],
            "image/png": "[encoded data removed]"
          },
          "metadata": {}
        }
      ],
      "source": [
        "# your code here\n",
        "f = plt.figure()\n",
        "##LOF\n",
        "plt.plot(new_contam_if,precisions_bis, color = 'blue', linestyle = '--', label = 'precision_LOF')\n",
        "plt.plot(new_contam_if,recalls_bis, color = 'orange', linestyle = '--', label = 'recall_LOF')\n",
        "## IF\n",
        "plt.plot(new_contam_if,precisions_if_new, color = 'blue', linestyle = '-', label = 'precision_IF')\n",
        "plt.plot(new_contam_if,recalls_if_new,color = 'orange', linestyle = '-', label = 'recall_IF')\n",
        "\n",
        "plt.title('Contamination against precision/recall for IF and LOF')\n",
        "plt.xlabel('contamination')\n",
        "plt.ylabel('precision/recall')\n",
        "\n",
        "plt.legend()\n",
        "plt.tight_layout()\n",
        "plt.show()"
      ]
    },
    {
      "cell_type": "markdown",
      "source": [
        "Isolation Forest algorithm gives us much better result than Local Outlier Factor. We get a higher recall and a higher precision for each level of contamination.\n",
        "\n",
        "Then, I would choose the Isolation Forest algorithm and a contamination around 0.04 to get a very high level of recall but also a decent level of precision."
      ],
      "metadata": {
        "id": "zw_S0WbsDdJ6"
      }
    },
    {
      "cell_type": "code",
      "source": [],
      "metadata": {
        "id": "XUTyTTpuEK-_"
      },
      "execution_count": 26,
      "outputs": []
    }
  ],
  "metadata": {
    "colab": {
      "provenance": []
    },
    "kernelspec": {
      "display_name": "Python 3",
      "language": "python",
      "name": "python3"
    },
    "language_info": {
      "codemirror_mode": {
        "name": "ipython",
        "version": 3
      },
      "file_extension": ".py",
      "mimetype": "text/x-python",
      "name": "python",
      "nbconvert_exporter": "python",
      "pygments_lexer": "ipython3",
      "version": "3.7.6"
    },
    "toc": {
      "base_numbering": 1,
      "nav_menu": {},
      "number_sections": true,
      "sideBar": true,
      "skip_h1_title": false,
      "title_cell": "Table of Contents",
      "title_sidebar": "Contents",
      "toc_cell": false,
      "toc_position": {},
      "toc_section_display": true,
      "toc_window_display": false
    }
  },
  "nbformat": 4,
  "nbformat_minor": 0
}