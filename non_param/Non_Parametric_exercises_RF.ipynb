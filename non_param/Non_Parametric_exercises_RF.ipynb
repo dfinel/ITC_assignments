{
  "nbformat": 4,
  "nbformat_minor": 0,
  "metadata": {
    "colab": {
      "provenance": []
    },
    "kernelspec": {
      "display_name": "Python 3",
      "language": "python",
      "name": "python3"
    },
    "language_info": {
      "codemirror_mode": {
        "name": "ipython",
        "version": 3
      },
      "file_extension": ".py",
      "mimetype": "text/x-python",
      "name": "python",
      "nbconvert_exporter": "python",
      "pygments_lexer": "ipython3",
      "version": "3.7.4"
    },
    "latex_envs": {
      "LaTeX_envs_menu_present": true,
      "autoclose": false,
      "autocomplete": true,
      "bibliofile": "biblio.bib",
      "cite_by": "apalike",
      "current_citInitial": 1,
      "eqLabelWithNumbers": true,
      "eqNumInitial": 1,
      "hotkeys": {
        "equation": "Ctrl-E",
        "itemize": "Ctrl-I"
      },
      "labels_anchors": false,
      "latex_user_defs": false,
      "report_style_numbering": false,
      "user_envs_cfg": false
    },
    "toc": {
      "base_numbering": 1,
      "nav_menu": {},
      "number_sections": true,
      "sideBar": true,
      "skip_h1_title": false,
      "title_cell": "Table of Contents",
      "title_sidebar": "Contents",
      "toc_cell": false,
      "toc_position": {},
      "toc_section_display": true,
      "toc_window_display": false
    }
  },
  "cells": [
    {
      "cell_type": "markdown",
      "metadata": {
        "id": "i4-2xo_Epsi0"
      },
      "source": [
        "## Using Decision Tree and Random Forest for Digits Classification\n",
        "Remember the MNIST dataset used in the Classification Exercise - you will now test the power of decision trees on this problem.\n",
        "This time you are given a free hand in choosing the test and train set sizes, model hyperparameters (such as gain function and constraints over the trees) and features (whether to use binary pixel values or the original continous gray value).\n",
        "\n",
        "**Questions:**\n",
        "\n",
        "**1.** Choose which model hyperparameters (2-3) you wish to optimize, explain how would you do that, and find a model which you believe would have the minimal generalization error --- do this for both a single decision tree model, and a random forest. **DO NOT forget to create a validation set for this experiment**\n"
      ]
    },
    {
      "cell_type": "code",
      "source": [
        "# your code here\n",
        "from sklearn.datasets import fetch_openml\n",
        "import numpy as np\n",
        "import pandas as pd\n",
        "import matplotlib.pyplot as plt\n",
        "import seaborn as sns\n",
        "from sklearn.model_selection import train_test_split\n",
        "from sklearn.tree import DecisionTreeClassifier\n",
        "from sklearn.tree import plot_tree\n",
        "from sklearn.metrics import confusion_matrix,classification_report\n",
        "from sklearn.ensemble import RandomForestClassifier\n",
        "from sklearn.metrics import accuracy_score"
      ],
      "metadata": {
        "id": "tB8A_V8KEm29"
      },
      "execution_count": 1,
      "outputs": []
    },
    {
      "cell_type": "code",
      "source": [
        "mnist = fetch_openml('mnist_784', version=1, return_X_y=True, parser = 'pandas')\n",
        "X_train,X_temp,y_train,y_temp = train_test_split(mnist[0],mnist[1], test_size = 0.4, random_state = 42)\n",
        "X_val,X_test,y_val,y_test = train_test_split(X_temp,y_temp, test_size = 0.5, random_state = 42)"
      ],
      "metadata": {
        "id": "2uiH8olP2RZN"
      },
      "execution_count": 2,
      "outputs": []
    },
    {
      "cell_type": "code",
      "source": [
        "max_depths = [5,10,15,20,25]\n",
        "min_samples_splits = [30,40,50,70,100]\n",
        "best_acc = 0\n",
        "best_max_depth = 0\n",
        "best_sample_split = 0\n",
        "for max_depth in max_depths:\n",
        "  for min_samples_split in min_samples_splits:\n",
        "    tree_class = DecisionTreeClassifier(max_depth = max_depth,min_samples_split = min_samples_split)\n",
        "    tree_class.fit(X_train,y_train)\n",
        "    y_pred = tree_class.predict(X_val)\n",
        "    acc = accuracy_score(y_val,y_pred)\n",
        "    if acc > best_acc :\n",
        "      best_acc = acc\n",
        "      best_max_depth = max_depth\n",
        "      best_sample_split = min_samples_splits"
      ],
      "metadata": {
        "id": "9Mll3lZWCf2b"
      },
      "execution_count": 3,
      "outputs": []
    },
    {
      "cell_type": "code",
      "source": [
        "best_acc"
      ],
      "metadata": {
        "colab": {
          "base_uri": "https://localhost:8080/"
        },
        "id": "yHTTdw4Oinqu",
        "outputId": "10dead4f-eb6b-4a98-da73-30df4bc1c3c9"
      },
      "execution_count": 4,
      "outputs": [
        {
          "output_type": "execute_result",
          "data": {
            "text/plain": [
              "0.8559285714285715"
            ]
          },
          "metadata": {},
          "execution_count": 4
        }
      ]
    },
    {
      "cell_type": "code",
      "source": [
        "best_max_depth"
      ],
      "metadata": {
        "colab": {
          "base_uri": "https://localhost:8080/"
        },
        "id": "_s9WACypio4S",
        "outputId": "e1005db5-a133-4c0f-e960-ac095ec02475"
      },
      "execution_count": 5,
      "outputs": [
        {
          "output_type": "execute_result",
          "data": {
            "text/plain": [
              "15"
            ]
          },
          "metadata": {},
          "execution_count": 5
        }
      ]
    },
    {
      "cell_type": "code",
      "source": [
        "min_samples_split"
      ],
      "metadata": {
        "colab": {
          "base_uri": "https://localhost:8080/"
        },
        "id": "lYOrHtbrirY-",
        "outputId": "0d5f8eb4-aebb-430c-979e-49f338635750"
      },
      "execution_count": 6,
      "outputs": [
        {
          "output_type": "execute_result",
          "data": {
            "text/plain": [
              "100"
            ]
          },
          "metadata": {},
          "execution_count": 6
        }
      ]
    },
    {
      "cell_type": "markdown",
      "source": [
        "After running multiples times and with various values, we find that max_depth = 20 and min_samples_split=100 seems to be the most appropriate values for our parameters.\n"
      ],
      "metadata": {
        "id": "PZKy2v5kQSQb"
      }
    },
    {
      "cell_type": "code",
      "source": [
        "tree_class = DecisionTreeClassifier(max_depth = best_max_depth,min_samples_split = min_samples_split)\n",
        "tree_class.fit(X_train,y_train)\n",
        "y_pred = tree_class.predict(X_val)\n",
        "\n",
        "print(classification_report(y_val,y_pred))"
      ],
      "metadata": {
        "colab": {
          "base_uri": "https://localhost:8080/"
        },
        "id": "5lUw688ri7rN",
        "outputId": "e24f6efe-e5a7-4368-ee5c-85c57ef20201"
      },
      "execution_count": 7,
      "outputs": [
        {
          "output_type": "stream",
          "name": "stdout",
          "text": [
            "              precision    recall  f1-score   support\n",
            "\n",
            "           0       0.87      0.90      0.88      1359\n",
            "           1       0.91      0.94      0.92      1552\n",
            "           2       0.80      0.79      0.79      1403\n",
            "           3       0.79      0.80      0.79      1392\n",
            "           4       0.80      0.84      0.82      1322\n",
            "           5       0.82      0.76      0.79      1295\n",
            "           6       0.89      0.85      0.87      1415\n",
            "           7       0.90      0.87      0.88      1497\n",
            "           8       0.74      0.76      0.75      1346\n",
            "           9       0.81      0.81      0.81      1419\n",
            "\n",
            "    accuracy                           0.83     14000\n",
            "   macro avg       0.83      0.83      0.83     14000\n",
            "weighted avg       0.83      0.83      0.83     14000\n",
            "\n"
          ]
        }
      ]
    },
    {
      "cell_type": "code",
      "source": [
        "max_depths = [5,10,15]\n",
        "best_acc = 0\n",
        "criterions = ['gini','entropy','log_loss']\n",
        "for max_depth in max_depths :\n",
        "    for criterion in criterions:\n",
        "      print(criterion,max_depth)\n",
        "      rf = RandomForestClassifier(max_depth = max_depth, criterion = criterion)\n",
        "      rf.fit(X_train,y_train)\n",
        "      y_pred_rf = rf.predict(X_val)\n",
        "      acc = accuracy_score(y_val,y_pred_rf)\n",
        "      if acc > best_acc:\n",
        "        best_acc = acc\n",
        "        best_max_depth_rf = max_depth\n",
        "        best_crit = criterion"
      ],
      "metadata": {
        "id": "oZp_3ggeQ0kC",
        "colab": {
          "base_uri": "https://localhost:8080/"
        },
        "outputId": "5ba3e118-f02b-4d84-b44b-0267492fda3c"
      },
      "execution_count": 8,
      "outputs": [
        {
          "output_type": "stream",
          "name": "stdout",
          "text": [
            "gini 5\n",
            "entropy 5\n",
            "log_loss 5\n",
            "gini 10\n",
            "entropy 10\n",
            "log_loss 10\n",
            "gini 15\n",
            "entropy 15\n",
            "log_loss 15\n"
          ]
        }
      ]
    },
    {
      "cell_type": "code",
      "source": [
        "best_max_depth_rf"
      ],
      "metadata": {
        "colab": {
          "base_uri": "https://localhost:8080/"
        },
        "id": "SFHqmHtYtoyk",
        "outputId": "60684b13-3524-4d1c-af6b-8fa2b0c3a2d2"
      },
      "execution_count": 9,
      "outputs": [
        {
          "output_type": "execute_result",
          "data": {
            "text/plain": [
              "15"
            ]
          },
          "metadata": {},
          "execution_count": 9
        }
      ]
    },
    {
      "cell_type": "code",
      "source": [
        "rf_best = RandomForestClassifier(max_depth = best_max_depth_rf,criterion = best_crit)\n",
        "rf_best.fit(X_train,y_train)\n",
        "y_pred_rf = rf_best.predict(X_val)\n",
        "print(classification_report(y_val,y_pred_rf))"
      ],
      "metadata": {
        "colab": {
          "base_uri": "https://localhost:8080/"
        },
        "id": "f28HDqe1thqR",
        "outputId": "7beff1c3-8ca6-4bdb-e349-498a33903f6b"
      },
      "execution_count": 10,
      "outputs": [
        {
          "output_type": "stream",
          "name": "stdout",
          "text": [
            "              precision    recall  f1-score   support\n",
            "\n",
            "           0       0.98      0.98      0.98      1359\n",
            "           1       0.98      0.98      0.98      1552\n",
            "           2       0.94      0.97      0.96      1403\n",
            "           3       0.96      0.94      0.95      1392\n",
            "           4       0.97      0.96      0.96      1322\n",
            "           5       0.96      0.96      0.96      1295\n",
            "           6       0.98      0.99      0.98      1415\n",
            "           7       0.97      0.96      0.96      1497\n",
            "           8       0.96      0.94      0.95      1346\n",
            "           9       0.93      0.94      0.94      1419\n",
            "\n",
            "    accuracy                           0.96     14000\n",
            "   macro avg       0.96      0.96      0.96     14000\n",
            "weighted avg       0.96      0.96      0.96     14000\n",
            "\n"
          ]
        }
      ]
    },
    {
      "cell_type": "markdown",
      "source": [
        "After running randomforest for different depth of trees and different criterion, we find out that based on accuracy, the best criterion is 'log_loss' and the best depth of trees is 20.\n"
      ],
      "metadata": {
        "id": "o3PoW_I_ZSrv"
      }
    },
    {
      "cell_type": "markdown",
      "source": [
        "**2.** Once you are satisfied with the model hyperparameters, plot for each of the models (a single decision tree and random forest) the importance of each of the pixels to the final decision. The end result should be an image that looks like a heatmap, that shows the most important pixels in the decision. **Explain the result**\n"
      ],
      "metadata": {
        "id": "1jwp8ocJEinn"
      }
    },
    {
      "cell_type": "code",
      "source": [
        "plt.imshow(np.reshape(tree_class.feature_importances_,(28,28)))\n",
        "plt.title('Pixel importance heatmap')\n",
        "plt.colorbar(label = 'Importance')\n",
        "plt.show()"
      ],
      "metadata": {
        "id": "uKhevNZ6eL0u",
        "outputId": "93d68e5c-732f-4121-c759-ed462f7bcdaa",
        "colab": {
          "base_uri": "https://localhost:8080/",
          "height": 452
        }
      },
      "execution_count": 11,
      "outputs": [
        {
          "output_type": "display_data",
          "data": {
            "text/plain": [
              "<Figure size 640x480 with 2 Axes>"
            ],
            "image/png": "[encoded data removed]"
          },
          "metadata": {}
        }
      ]
    },
    {
      "cell_type": "markdown",
      "source": [
        "For the decision tree model,we can see that most of the pixels are useless in our model. For pixels between 100 and 300, we can see on the plot that a few pixels are important."
      ],
      "metadata": {
        "id": "QPX5NI5agXnJ"
      }
    },
    {
      "cell_type": "code",
      "source": [
        "plt.imshow(np.reshape(rf_best.feature_importances_,(28,28)))\n",
        "plt.title('Pixel importance heatmap')\n",
        "plt.colorbar(label = 'Importance')\n",
        "plt.show()"
      ],
      "metadata": {
        "id": "mD5WXK-Ig4fS",
        "outputId": "369ecb13-3df9-4b6e-f179-433cf2bbd6d0",
        "colab": {
          "base_uri": "https://localhost:8080/",
          "height": 452
        }
      },
      "execution_count": 12,
      "outputs": [
        {
          "output_type": "display_data",
          "data": {
            "text/plain": [
              "<Figure size 640x480 with 2 Axes>"
            ],
            "image/png": "[encoded data removed]"
          },
          "metadata": {}
        }
      ]
    },
    {
      "cell_type": "markdown",
      "source": [
        "For the RandomForest model, we can see on the plot that many pixels have an importance. Pixels between 150 and 250 tends to have the more importance.\n",
        "\n",
        "We can notice that on the decisiontree classifier, most of the features are ignored whereas on the randomforest classifier, most of the features are taken into consideration."
      ],
      "metadata": {
        "id": "8sOv5BI6hLJ0"
      }
    },
    {
      "cell_type": "markdown",
      "source": [
        "**3.** Last, estimate the class assignment probabilities for all the correctly classified and misclassified examples in your test data.\n",
        "Print, regardless of the digit, the mean +- std for the correctly classified samples, and the mean +- std for the misclassified samples.\n",
        "\n",
        "*The end result should look like:*\n",
        "\n",
        "Error class probability: mean_proba (+/- std_proba)\n",
        "Correct class probability: mean_proba (+/- std_proba)\n",
        "\n"
      ],
      "metadata": {
        "id": "7ZKHg_R5Ej9J"
      }
    },
    {
      "cell_type": "markdown",
      "source": [
        "#### decision tree :"
      ],
      "metadata": {
        "id": "Em3mFK8p2VG4"
      }
    },
    {
      "cell_type": "markdown",
      "source": [
        "##### correctly classified"
      ],
      "metadata": {
        "id": "lmjCil7W2ZXy"
      }
    },
    {
      "cell_type": "code",
      "source": [
        "y_pred_test_tc = tree_class.predict(X_test)"
      ],
      "metadata": {
        "id": "RQWa19sjzgdV"
      },
      "execution_count": 13,
      "outputs": []
    },
    {
      "cell_type": "code",
      "source": [
        "correct_indexes = np.where(y_test == y_pred_test_tc)[0]"
      ],
      "metadata": {
        "id": "oD1oybJQ0cjB"
      },
      "execution_count": 14,
      "outputs": []
    },
    {
      "cell_type": "code",
      "source": [
        "pred_proba_correct = tree_class.predict_proba(X_test.iloc[correct_indexes])"
      ],
      "metadata": {
        "id": "tTNulZYi0yIw"
      },
      "execution_count": 15,
      "outputs": []
    },
    {
      "cell_type": "code",
      "source": [
        "max_indexes_correct = []\n",
        "for elem in pred_proba_correct:\n",
        "  max_indexes_correct.append(elem.argmax())\n",
        "\n"
      ],
      "metadata": {
        "id": "LkvjdU7bikY9"
      },
      "execution_count": 16,
      "outputs": []
    },
    {
      "cell_type": "code",
      "source": [
        "max_proba_correct = []\n",
        "for index,elem in enumerate(pred_proba_correct):\n",
        "  max_proba_correct.append(elem[max_indexes_correct[index]])\n",
        "\n"
      ],
      "metadata": {
        "id": "gLAR04cziBlD"
      },
      "execution_count": 17,
      "outputs": []
    },
    {
      "cell_type": "code",
      "source": [
        "mean_correct_class = np.mean(max_proba_correct).round(3)"
      ],
      "metadata": {
        "id": "i_6O7AXth_Jt"
      },
      "execution_count": 18,
      "outputs": []
    },
    {
      "cell_type": "code",
      "source": [
        "std_correct_class = np.std(max_proba_correct).round(3)"
      ],
      "metadata": {
        "id": "JaacMvlQ08hj"
      },
      "execution_count": 19,
      "outputs": []
    },
    {
      "cell_type": "code",
      "source": [
        "mean_correct_class,std_correct_class"
      ],
      "metadata": {
        "colab": {
          "base_uri": "https://localhost:8080/"
        },
        "id": "qLQezdwLBpGc",
        "outputId": "fe0d9100-6213-4239-d115-cbb930139057"
      },
      "execution_count": 20,
      "outputs": [
        {
          "output_type": "execute_result",
          "data": {
            "text/plain": [
              "(0.921, 0.156)"
            ]
          },
          "metadata": {},
          "execution_count": 20
        }
      ]
    },
    {
      "cell_type": "markdown",
      "source": [
        "##### incorrectly classified"
      ],
      "metadata": {
        "id": "N9mKo9Ky2dM0"
      }
    },
    {
      "cell_type": "code",
      "source": [
        "incorrect_indexes = np.where(y_test != y_pred_test_tc)[0]"
      ],
      "metadata": {
        "id": "5wBpFeM11VpD"
      },
      "execution_count": 21,
      "outputs": []
    },
    {
      "cell_type": "code",
      "source": [
        "pred_proba_incorrect = tree_class.predict_proba(X_test.iloc[incorrect_indexes])"
      ],
      "metadata": {
        "id": "kCezsn141eQ1"
      },
      "execution_count": 22,
      "outputs": []
    },
    {
      "cell_type": "code",
      "source": [
        "max_indexes_incorrect = []\n",
        "for elem in pred_proba_incorrect:\n",
        "  max_indexes_incorrect.append(elem.argmax())"
      ],
      "metadata": {
        "id": "LbhwABb11mWB"
      },
      "execution_count": 23,
      "outputs": []
    },
    {
      "cell_type": "code",
      "source": [
        "max_proba_incorrect = []\n",
        "for index,elem in enumerate(pred_proba_incorrect):\n",
        "  max_proba_incorrect.append(elem[max_indexes_incorrect[index]])"
      ],
      "metadata": {
        "id": "WaPtuhpy1w7m"
      },
      "execution_count": 24,
      "outputs": []
    },
    {
      "cell_type": "code",
      "source": [
        "mean_incorrect_class = np.mean(max_proba_incorrect).round(3)"
      ],
      "metadata": {
        "id": "MqKew1GTCZfx"
      },
      "execution_count": 25,
      "outputs": []
    },
    {
      "cell_type": "code",
      "source": [
        "std_incorrect_class = np.std(max_proba_incorrect).round(3)"
      ],
      "metadata": {
        "id": "9J1txluHCdgh"
      },
      "execution_count": 26,
      "outputs": []
    },
    {
      "cell_type": "code",
      "source": [
        "mean_incorrect_class,std_incorrect_class"
      ],
      "metadata": {
        "colab": {
          "base_uri": "https://localhost:8080/"
        },
        "id": "IhQIPQpRCyvG",
        "outputId": "75596f38-b915-4f58-8c51-cf0c3e10f04c"
      },
      "execution_count": 27,
      "outputs": [
        {
          "output_type": "execute_result",
          "data": {
            "text/plain": [
              "(0.598, 0.243)"
            ]
          },
          "metadata": {},
          "execution_count": 27
        }
      ]
    },
    {
      "cell_type": "code",
      "source": [
        "print(f'Error class probability : {mean_incorrect_class} (+/- {std_incorrect_class}) Correct class probability : {mean_correct_class} (+/- {std_correct_class})')"
      ],
      "metadata": {
        "id": "6RffuRCRu4j8",
        "outputId": "10b0c9f6-71fd-44bf-bea7-5ef7a4e79e9e",
        "colab": {
          "base_uri": "https://localhost:8080/"
        }
      },
      "execution_count": 28,
      "outputs": [
        {
          "output_type": "stream",
          "name": "stdout",
          "text": [
            "Error class probability : 0.598 (+/- 0.243) Correct class probability : 0.921 (+/- 0.156)\n"
          ]
        }
      ]
    },
    {
      "cell_type": "markdown",
      "source": [
        "#### random forest :"
      ],
      "metadata": {
        "id": "DFs8tUUp2gcn"
      }
    },
    {
      "cell_type": "code",
      "source": [
        "y_pred_test_rf = rf_best.predict(X_test)\n"
      ],
      "metadata": {
        "id": "QNRmVK9U2pI4"
      },
      "execution_count": 29,
      "outputs": []
    },
    {
      "cell_type": "markdown",
      "source": [
        "##### correctly classified :"
      ],
      "metadata": {
        "id": "KCIbK9mR2z3B"
      }
    },
    {
      "cell_type": "code",
      "source": [
        "correct_indexes_rf = np.where(y_pred_test_rf == y_test)[0]"
      ],
      "metadata": {
        "id": "vV4nW9Rm21uC"
      },
      "execution_count": 30,
      "outputs": []
    },
    {
      "cell_type": "code",
      "source": [
        "pred_proba_rf_correct = rf_best.predict_proba(X_test.iloc[correct_indexes_rf])"
      ],
      "metadata": {
        "id": "8gn5Jzqo27rh"
      },
      "execution_count": 31,
      "outputs": []
    },
    {
      "cell_type": "code",
      "source": [
        "correct_max_indexes_rf = []\n",
        "for elem in pred_proba_rf_correct:\n",
        "  correct_max_indexes_rf.append(elem.argmax())\n",
        ""
      ],
      "metadata": {
        "id": "doruqJiF3EP8"
      },
      "execution_count": 32,
      "outputs": []
    },
    {
      "cell_type": "code",
      "source": [
        "max_proba_correct_rf = []\n",
        "for index,elem in enumerate(pred_proba_rf_correct):\n",
        "  max_proba_correct_rf.append(elem[correct_max_indexes_rf[index]])"
      ],
      "metadata": {
        "id": "zpnPK7M33Gy-"
      },
      "execution_count": 33,
      "outputs": []
    },
    {
      "cell_type": "code",
      "source": [
        "mean_correct_class_rf = np.mean(max_proba_correct_rf).round(3)\n",
        "std_correct_class_rf = np.std(max_proba_correct_rf).round(3)\n",
        "mean_correct_class_rf,std_correct_class_rf"
      ],
      "metadata": {
        "colab": {
          "base_uri": "https://localhost:8080/"
        },
        "id": "6o1hsLY4Dbm6",
        "outputId": "c22a3d7a-55e4-4e84-e890-35a49899dfc2"
      },
      "execution_count": 34,
      "outputs": [
        {
          "output_type": "execute_result",
          "data": {
            "text/plain": [
              "(0.828, 0.176)"
            ]
          },
          "metadata": {},
          "execution_count": 34
        }
      ]
    },
    {
      "cell_type": "markdown",
      "source": [
        "##### incorrectly classified :"
      ],
      "metadata": {
        "id": "RUjKL34T3JBp"
      }
    },
    {
      "cell_type": "code",
      "source": [
        "incorrect_indexes_rf = np.where(y_pred_test_rf !=y_test)[0]"
      ],
      "metadata": {
        "id": "7Y-PhCvV3LEI"
      },
      "execution_count": 35,
      "outputs": []
    },
    {
      "cell_type": "code",
      "source": [
        "pred_proba_rf_incorrect = rf_best.predict_proba(X_test.iloc[incorrect_indexes_rf])"
      ],
      "metadata": {
        "id": "pUg9ejG-3Qak"
      },
      "execution_count": 36,
      "outputs": []
    },
    {
      "cell_type": "code",
      "source": [
        "incorrect_max_indexes_rf = []\n",
        "for elem in pred_proba_rf_incorrect:\n",
        "  incorrect_max_indexes_rf.append(elem.argmax())"
      ],
      "metadata": {
        "id": "82sH1u1N3mlR"
      },
      "execution_count": 37,
      "outputs": []
    },
    {
      "cell_type": "code",
      "source": [
        "incorrect_max_proba_rf = []\n",
        "for index,elem in enumerate(pred_proba_rf_incorrect):\n",
        "  incorrect_max_proba_rf.append(elem[incorrect_max_indexes_rf[index]])"
      ],
      "metadata": {
        "id": "Jg6KYE1e3ozM"
      },
      "execution_count": 38,
      "outputs": []
    },
    {
      "cell_type": "code",
      "source": [
        "mean_incorrect_class_rf = np.mean(incorrect_max_proba_rf).round(3)\n",
        "std_incorrect_class_rf = np.std(incorrect_max_proba_rf).round(3)\n",
        "mean_incorrect_class_rf,std_incorrect_class_rf"
      ],
      "metadata": {
        "colab": {
          "base_uri": "https://localhost:8080/"
        },
        "id": "8JrPyXX3DxkO",
        "outputId": "704cd752-8432-45aa-9aaa-f3b69a6b511d"
      },
      "execution_count": 39,
      "outputs": [
        {
          "output_type": "execute_result",
          "data": {
            "text/plain": [
              "(0.408, 0.14)"
            ]
          },
          "metadata": {},
          "execution_count": 39
        }
      ]
    },
    {
      "cell_type": "code",
      "source": [
        "print(f'Error class probability : {mean_incorrect_class_rf} (+/- {std_incorrect_class_rf}) Correct class probability : {mean_correct_class_rf} (+/- {std_correct_class_rf})')"
      ],
      "metadata": {
        "colab": {
          "base_uri": "https://localhost:8080/"
        },
        "id": "E7sVeAAy3r78",
        "outputId": "83c2c491-f5e3-489f-ebe4-c1ecea8e8fc0"
      },
      "execution_count": 40,
      "outputs": [
        {
          "output_type": "stream",
          "name": "stdout",
          "text": [
            "Error class probability : 0.408 (+/- 0.14) Correct class probability : 0.828 (+/- 0.176)\n"
          ]
        }
      ]
    },
    {
      "cell_type": "markdown",
      "source": [
        "**4.** Discuss your results."
      ],
      "metadata": {
        "id": "VPOW2s7yElIj"
      }
    },
    {
      "cell_type": "markdown",
      "source": [
        "When we predict correctly, the decisiontree gives us a mean probability of 0.921 and a std of 0.156 ; the randomforest gives us a mean proba of 0.828 and a std of 0.176. Then, when samples are classified correctly, the decisiontree looks more reliable.\n",
        "\n",
        "When we predict incorrectly, the decisiontree gives us a mean probability of 0.498 and a std of 0.243 ; the randomforest gives us a mean proba of 0.416 and a std of 0.138. Then, when samples are classified incorrectly, the randomforest looks better as proba are lower than for the decisiontree."
      ],
      "metadata": {
        "id": "MO8tSvwIvzLK"
      }
    }
  ]
}