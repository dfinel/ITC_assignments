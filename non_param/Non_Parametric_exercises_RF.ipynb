{
  "nbformat": 4,
  "nbformat_minor": 0,
  "metadata": {
    "colab": {
      "provenance": []
    },
    "kernelspec": {
      "display_name": "Python 3",
      "language": "python",
      "name": "python3"
    },
    "language_info": {
      "codemirror_mode": {
        "name": "ipython",
        "version": 3
      },
      "file_extension": ".py",
      "mimetype": "text/x-python",
      "name": "python",
      "nbconvert_exporter": "python",
      "pygments_lexer": "ipython3",
      "version": "3.7.4"
    },
    "latex_envs": {
      "LaTeX_envs_menu_present": true,
      "autoclose": false,
      "autocomplete": true,
      "bibliofile": "biblio.bib",
      "cite_by": "apalike",
      "current_citInitial": 1,
      "eqLabelWithNumbers": true,
      "eqNumInitial": 1,
      "hotkeys": {
        "equation": "Ctrl-E",
        "itemize": "Ctrl-I"
      },
      "labels_anchors": false,
      "latex_user_defs": false,
      "report_style_numbering": false,
      "user_envs_cfg": false
    },
    "toc": {
      "base_numbering": 1,
      "nav_menu": {},
      "number_sections": true,
      "sideBar": true,
      "skip_h1_title": false,
      "title_cell": "Table of Contents",
      "title_sidebar": "Contents",
      "toc_cell": false,
      "toc_position": {},
      "toc_section_display": true,
      "toc_window_display": false
    }
  },
  "cells": [
    {
      "cell_type": "markdown",
      "metadata": {
        "id": "i4-2xo_Epsi0"
      },
      "source": [
        "## Using Decision Tree and Random Forest for Digits Classification\n",
        "Remember the MNIST dataset used in the Classification Exercise - you will now test the power of decision trees on this problem.\n",
        "This time you are given a free hand in choosing the test and train set sizes, model hyperparameters (such as gain function and constraints over the trees) and features (whether to use binary pixel values or the original continous gray value).\n",
        "\n",
        "**Questions:**\n",
        "\n",
        "**1.** Choose which model hyperparameters (2-3) you wish to optimize, explain how would you do that, and find a model which you believe would have the minimal generalization error --- do this for both a single decision tree model, and a random forest. **DO NOT forget to create a validation set for this experiment**\n"
      ]
    },
    {
      "cell_type": "code",
      "source": [
        "# your code here\n",
        "from sklearn.datasets import fetch_openml\n",
        "import numpy as np\n",
        "import pandas as pd\n",
        "import matplotlib.pyplot as plt\n",
        "import seaborn as sns\n",
        "from sklearn.model_selection import train_test_split\n",
        "from sklearn.tree import DecisionTreeClassifier\n",
        "from sklearn.tree import plot_tree\n",
        "from sklearn.metrics import confusion_matrix,classification_report\n",
        "from sklearn.ensemble import RandomForestClassifier\n",
        "from sklearn.metrics import accuracy_score"
      ],
      "metadata": {
        "id": "tB8A_V8KEm29"
      },
      "execution_count": 1,
      "outputs": []
    },
    {
      "cell_type": "code",
      "source": [
        "mnist = fetch_openml('mnist_784', version=1, return_X_y=True, parser = 'pandas')\n",
        "X_train,X_temp,y_train,y_temp = train_test_split(mnist[0],mnist[1], test_size = 0.4, random_state = 42)\n",
        "X_val,X_test,y_val,y_test = train_test_split(X_temp,y_temp, test_size = 0.5, random_state = 42)"
      ],
      "metadata": {
        "id": "2uiH8olP2RZN"
      },
      "execution_count": 2,
      "outputs": []
    },
    {
      "cell_type": "code",
      "source": [
        "max_depths = [5,10,15,20,25]\n",
        "min_samples_splits = [30,40,50,70,100]\n",
        "best_acc = 0\n",
        "best_max_depth = 0\n",
        "best_sample_split = 0\n",
        "for max_depth in max_depths:\n",
        "  for min_samples_split in min_samples_splits:\n",
        "    tree_class = DecisionTreeClassifier(max_depth = max_depth,min_samples_split = min_samples_split)\n",
        "    tree_class.fit(X_train,y_train)\n",
        "    y_pred = tree_class.predict(X_val)\n",
        "    acc = accuracy_score(y_val,y_pred)\n",
        "    if acc > best_acc :\n",
        "      best_acc = acc\n",
        "      best_max_depth = max_depth\n",
        "      best_sample_split = min_samples_splits\n",
        "\n",
        "\n",
        "\n"
      ],
      "metadata": {
        "id": "9Mll3lZWCf2b"
      },
      "execution_count": 3,
      "outputs": []
    },
    {
      "cell_type": "code",
      "source": [
        "best_acc"
      ],
      "metadata": {
        "colab": {
          "base_uri": "https://localhost:8080/"
        },
        "id": "yHTTdw4Oinqu",
        "outputId": "2e0e92f1-1db9-472b-f9b4-f968eb560d1e"
      },
      "execution_count": 4,
      "outputs": [
        {
          "output_type": "execute_result",
          "data": {
            "text/plain": [
              "0.8558571428571429"
            ]
          },
          "metadata": {},
          "execution_count": 4
        }
      ]
    },
    {
      "cell_type": "code",
      "source": [
        "best_max_depth"
      ],
      "metadata": {
        "colab": {
          "base_uri": "https://localhost:8080/"
        },
        "id": "_s9WACypio4S",
        "outputId": "2687e7d7-2f16-44ca-c400-d9ef659c0d76"
      },
      "execution_count": 5,
      "outputs": [
        {
          "output_type": "execute_result",
          "data": {
            "text/plain": [
              "15"
            ]
          },
          "metadata": {},
          "execution_count": 5
        }
      ]
    },
    {
      "cell_type": "code",
      "source": [
        "min_samples_split"
      ],
      "metadata": {
        "colab": {
          "base_uri": "https://localhost:8080/"
        },
        "id": "lYOrHtbrirY-",
        "outputId": "fc3cc5b4-f09c-4f5d-bb2b-e42889fc2c0c"
      },
      "execution_count": 6,
      "outputs": [
        {
          "output_type": "execute_result",
          "data": {
            "text/plain": [
              "100"
            ]
          },
          "metadata": {},
          "execution_count": 6
        }
      ]
    },
    {
      "cell_type": "markdown",
      "source": [
        "After running multiples times and with various values, we find that max_depth = 20 and min_samples_split=100 seems to be the most appropriate values for our parameters.\n"
      ],
      "metadata": {
        "id": "PZKy2v5kQSQb"
      }
    },
    {
      "cell_type": "code",
      "source": [
        "tree_class = DecisionTreeClassifier(max_depth = best_max_depth,min_samples_split = min_samples_split)\n",
        "tree_class.fit(X_train,y_train)\n",
        "y_pred = tree_class.predict(X_val)\n",
        "\n",
        "print(classification_report(y_val,y_pred))"
      ],
      "metadata": {
        "colab": {
          "base_uri": "https://localhost:8080/"
        },
        "id": "5lUw688ri7rN",
        "outputId": "0081ad4a-a8b7-4476-9aa2-a19b81ea2f98"
      },
      "execution_count": 7,
      "outputs": [
        {
          "output_type": "stream",
          "name": "stdout",
          "text": [
            "              precision    recall  f1-score   support\n",
            "\n",
            "           0       0.87      0.90      0.88      1359\n",
            "           1       0.91      0.94      0.92      1552\n",
            "           2       0.80      0.79      0.79      1403\n",
            "           3       0.79      0.81      0.80      1392\n",
            "           4       0.80      0.83      0.82      1322\n",
            "           5       0.81      0.76      0.79      1295\n",
            "           6       0.89      0.85      0.87      1415\n",
            "           7       0.90      0.87      0.88      1497\n",
            "           8       0.75      0.76      0.75      1346\n",
            "           9       0.81      0.81      0.81      1419\n",
            "\n",
            "    accuracy                           0.83     14000\n",
            "   macro avg       0.83      0.83      0.83     14000\n",
            "weighted avg       0.83      0.83      0.83     14000\n",
            "\n"
          ]
        }
      ]
    },
    {
      "cell_type": "code",
      "source": [
        "max_depths = [5,10,15,20]\n",
        "best_acc = 0\n",
        "i = 0\n",
        "criterions = ['gini','entropy','log_loss']\n",
        "for max_depth in max_depths :\n",
        "    for criterion in criterions:\n",
        "      print(i)\n",
        "      i+=1\n",
        "      rf = RandomForestClassifier(max_depth = max_depth, criterion = criterion)\n",
        "      rf.fit(X_train,y_train)\n",
        "      y_pred_rf = rf.predict(X_val)\n",
        "      acc = accuracy_score(y_val,y_pred_rf)\n",
        "      if acc > best_acc:\n",
        "        best_acc = acc\n",
        "        best_max_depth_rf = max_depth\n",
        "        best_crit = criterion\n",
        "\n",
        ""
      ],
      "metadata": {
        "id": "oZp_3ggeQ0kC",
        "colab": {
          "base_uri": "https://localhost:8080/"
        },
        "outputId": "f8cd3f6e-d490-4f08-a52f-2af000d5131a"
      },
      "execution_count": 8,
      "outputs": [
        {
          "output_type": "stream",
          "name": "stdout",
          "text": [
            "0\n",
            "1\n",
            "2\n",
            "3\n",
            "4\n",
            "5\n",
            "6\n",
            "7\n",
            "8\n",
            "9\n",
            "10\n",
            "11\n"
          ]
        }
      ]
    },
    {
      "cell_type": "code",
      "source": [
        "best_acc"
      ],
      "metadata": {
        "colab": {
          "base_uri": "https://localhost:8080/"
        },
        "id": "G-5R6znJtbpX",
        "outputId": "4c0b46f5-a6bc-4e45-bd3b-5df71b76cd81"
      },
      "execution_count": 9,
      "outputs": [
        {
          "output_type": "execute_result",
          "data": {
            "text/plain": [
              "0.9648571428571429"
            ]
          },
          "metadata": {},
          "execution_count": 9
        }
      ]
    },
    {
      "cell_type": "code",
      "source": [
        "criterion"
      ],
      "metadata": {
        "colab": {
          "base_uri": "https://localhost:8080/",
          "height": 35
        },
        "id": "sBQCqsQItfok",
        "outputId": "fa8059cc-7383-441f-bea3-dcc7a5a1ee80"
      },
      "execution_count": 10,
      "outputs": [
        {
          "output_type": "execute_result",
          "data": {
            "text/plain": [
              "'log_loss'"
            ],
            "application/vnd.google.colaboratory.intrinsic+json": {
              "type": "string"
            }
          },
          "metadata": {},
          "execution_count": 10
        }
      ]
    },
    {
      "cell_type": "code",
      "source": [
        "best_max_depth_rf"
      ],
      "metadata": {
        "colab": {
          "base_uri": "https://localhost:8080/"
        },
        "id": "SFHqmHtYtoyk",
        "outputId": "bd9ddfd6-2c7d-4675-b8b4-409796b08c15"
      },
      "execution_count": 11,
      "outputs": [
        {
          "output_type": "execute_result",
          "data": {
            "text/plain": [
              "20"
            ]
          },
          "metadata": {},
          "execution_count": 11
        }
      ]
    },
    {
      "cell_type": "code",
      "source": [
        "rf_best = RandomForestClassifier(max_depth = best_max_depth_rf,criterion = best_crit)\n",
        "rf_best.fit(X_train,y_train)\n",
        "y_pred_rf = rf_best.predict(X_val)\n",
        "print(classification_report(y_val,y_pred_rf))"
      ],
      "metadata": {
        "colab": {
          "base_uri": "https://localhost:8080/"
        },
        "id": "f28HDqe1thqR",
        "outputId": "0d3c8995-03f0-4794-8b34-a44d4b55cf6e"
      },
      "execution_count": 12,
      "outputs": [
        {
          "output_type": "stream",
          "name": "stdout",
          "text": [
            "              precision    recall  f1-score   support\n",
            "\n",
            "           0       0.98      0.98      0.98      1359\n",
            "           1       0.98      0.99      0.98      1552\n",
            "           2       0.95      0.97      0.96      1403\n",
            "           3       0.95      0.94      0.95      1392\n",
            "           4       0.97      0.96      0.96      1322\n",
            "           5       0.96      0.96      0.96      1295\n",
            "           6       0.98      0.99      0.98      1415\n",
            "           7       0.97      0.96      0.97      1497\n",
            "           8       0.96      0.95      0.96      1346\n",
            "           9       0.94      0.94      0.94      1419\n",
            "\n",
            "    accuracy                           0.96     14000\n",
            "   macro avg       0.96      0.96      0.96     14000\n",
            "weighted avg       0.96      0.96      0.96     14000\n",
            "\n"
          ]
        }
      ]
    },
    {
      "cell_type": "markdown",
      "source": [
        "After running randomforest for different depth of trees and different criterion, we find out that based on accuracy, the best criterion is 'log_loss' and the best depth of trees is 20.\n"
      ],
      "metadata": {
        "id": "o3PoW_I_ZSrv"
      }
    },
    {
      "cell_type": "markdown",
      "source": [
        "**2.** Once you are satisfied with the model hyperparameters, plot for each of the models (a single decision tree and random forest) the importance of each of the pixels to the final decision. The end result should be an image that looks like a heatmap, that shows the most important pixels in the decision. **Explain the result**\n"
      ],
      "metadata": {
        "id": "1jwp8ocJEinn"
      }
    },
    {
      "cell_type": "code",
      "source": [
        "plt.imshow(np.reshape(tree_class.feature_importances_,(28,28)))\n",
        "plt.title('Pixel importance heatmap')\n",
        "plt.colorbar(label = 'Importance')\n",
        "plt.show()"
      ],
      "metadata": {
        "id": "uKhevNZ6eL0u",
        "outputId": "34f53281-43db-410c-8194-642e31bea02b",
        "colab": {
          "base_uri": "https://localhost:8080/",
          "height": 452
        }
      },
      "execution_count": 13,
      "outputs": [
        {
          "output_type": "display_data",
          "data": {
            "text/plain": [
              "<Figure size 640x480 with 2 Axes>"
            ],
            "image/png": "[encoded data removed]"
          },
          "metadata": {}
        }
      ]
    },
    {
      "cell_type": "markdown",
      "source": [
        "For the decision tree model,we can see that most of the pixels are useless in our model. For pixels between 100 and 300, we can see on the plot that a few pixels are important."
      ],
      "metadata": {
        "id": "QPX5NI5agXnJ"
      }
    },
    {
      "cell_type": "code",
      "source": [
        "plt.imshow(np.reshape(rf_best.feature_importances_,(28,28)))\n",
        "plt.title('Pixel importance heatmap')\n",
        "plt.colorbar(label = 'Importance')\n",
        "plt.show()"
      ],
      "metadata": {
        "id": "mD5WXK-Ig4fS",
        "outputId": "a7e96e3d-4730-4881-96dc-e73467a1cf30",
        "colab": {
          "base_uri": "https://localhost:8080/",
          "height": 452
        }
      },
      "execution_count": 14,
      "outputs": [
        {
          "output_type": "display_data",
          "data": {
            "text/plain": [
              "<Figure size 640x480 with 2 Axes>"
            ],
            "image/png": "[encoded data removed]"
          },
          "metadata": {}
        }
      ]
    },
    {
      "cell_type": "markdown",
      "source": [
        "For the RandomForest model, we can see on the plot that many pixels have an importance. Pixels between 150 and 250 tends to have the more importance.\n",
        "\n",
        "We can notice that on the decisiontree classifier, most of the features are ignored whereas on the randomforest classifier, most of the features are taken into consideration."
      ],
      "metadata": {
        "id": "8sOv5BI6hLJ0"
      }
    },
    {
      "cell_type": "markdown",
      "source": [
        "**3.** Last, estimate the class assignment probabilities for all the correctly classified and misclassified examples in your test data.\n",
        "Print, regardless of the digit, the mean +- std for the correctly classified samples, and the mean +- std for the misclassified samples.\n",
        "\n",
        "*The end result should look like:*\n",
        "\n",
        "Error class probability: mean_proba (+/- std_proba)\n",
        "Correct class probability: mean_proba (+/- std_proba)\n",
        "\n"
      ],
      "metadata": {
        "id": "7ZKHg_R5Ej9J"
      }
    },
    {
      "cell_type": "markdown",
      "source": [
        "#### decision tree :"
      ],
      "metadata": {
        "id": "Em3mFK8p2VG4"
      }
    },
    {
      "cell_type": "markdown",
      "source": [
        "##### correctly classified"
      ],
      "metadata": {
        "id": "lmjCil7W2ZXy"
      }
    },
    {
      "cell_type": "code",
      "source": [
        "y_pred_test_tc = tree_class.predict(X_test)"
      ],
      "metadata": {
        "id": "RQWa19sjzgdV"
      },
      "execution_count": 15,
      "outputs": []
    },
    {
      "cell_type": "code",
      "source": [
        "correct_indexes = np.where(y_test == y_pred_test_tc)[0]"
      ],
      "metadata": {
        "id": "oD1oybJQ0cjB"
      },
      "execution_count": 16,
      "outputs": []
    },
    {
      "cell_type": "code",
      "source": [
        "pred_proba_correct = tree_class.predict_proba(X_test.iloc[correct_indexes])"
      ],
      "metadata": {
        "id": "tTNulZYi0yIw"
      },
      "execution_count": 17,
      "outputs": []
    },
    {
      "cell_type": "code",
      "source": [
        "pred_proba_correct.mean()"
      ],
      "metadata": {
        "colab": {
          "base_uri": "https://localhost:8080/"
        },
        "id": "JaacMvlQ08hj",
        "outputId": "d3d4abbb-eab1-4536-c936-eb810a1c5dc4"
      },
      "execution_count": 18,
      "outputs": [
        {
          "output_type": "execute_result",
          "data": {
            "text/plain": [
              "0.10000000000000002"
            ]
          },
          "metadata": {},
          "execution_count": 18
        }
      ]
    },
    {
      "cell_type": "code",
      "source": [
        "pred_proba_correct.std()"
      ],
      "metadata": {
        "colab": {
          "base_uri": "https://localhost:8080/"
        },
        "id": "63vnwhGm1FbF",
        "outputId": "4dae74b2-18ba-4275-c9eb-a8d819e193dd"
      },
      "execution_count": 19,
      "outputs": [
        {
          "output_type": "execute_result",
          "data": {
            "text/plain": [
              "0.27983551953670366"
            ]
          },
          "metadata": {},
          "execution_count": 19
        }
      ]
    },
    {
      "cell_type": "markdown",
      "source": [
        "##### incorrectly classified"
      ],
      "metadata": {
        "id": "N9mKo9Ky2dM0"
      }
    },
    {
      "cell_type": "code",
      "source": [
        "incorrect_indexes = np.where(y_test != y_pred_test_tc)[0]"
      ],
      "metadata": {
        "id": "5wBpFeM11VpD"
      },
      "execution_count": 20,
      "outputs": []
    },
    {
      "cell_type": "code",
      "source": [
        "pred_proba_incorrect = tree_class.predict_proba(X_test.iloc[incorrect_indexes])"
      ],
      "metadata": {
        "id": "kCezsn141eQ1"
      },
      "execution_count": 21,
      "outputs": []
    },
    {
      "cell_type": "code",
      "source": [
        "pred_proba_incorrect.mean()"
      ],
      "metadata": {
        "colab": {
          "base_uri": "https://localhost:8080/"
        },
        "id": "LbhwABb11mWB",
        "outputId": "3934f227-364d-4f52-af4e-fa5adf5a7665"
      },
      "execution_count": 22,
      "outputs": [
        {
          "output_type": "execute_result",
          "data": {
            "text/plain": [
              "0.1"
            ]
          },
          "metadata": {},
          "execution_count": 22
        }
      ]
    },
    {
      "cell_type": "code",
      "source": [
        "pred_proba_incorrect.std()"
      ],
      "metadata": {
        "colab": {
          "base_uri": "https://localhost:8080/"
        },
        "id": "WaPtuhpy1w7m",
        "outputId": "0f400b57-2a29-4905-82fe-a3263ec8bbc0"
      },
      "execution_count": 23,
      "outputs": [
        {
          "output_type": "execute_result",
          "data": {
            "text/plain": [
              "0.19651804851862512"
            ]
          },
          "metadata": {},
          "execution_count": 23
        }
      ]
    },
    {
      "cell_type": "code",
      "source": [
        "print(f'Error class probability : {pred_proba_incorrect.mean().round(3)} (+/- {pred_proba_incorrect.std().round(3)}) Correct class probability : {pred_proba_correct.mean().round(3)} (+/- {pred_proba_correct.std().round(3)})')"
      ],
      "metadata": {
        "id": "6RffuRCRu4j8",
        "outputId": "9168b964-78a2-432e-9d7a-62ec3699332d",
        "colab": {
          "base_uri": "https://localhost:8080/"
        }
      },
      "execution_count": 24,
      "outputs": [
        {
          "output_type": "stream",
          "name": "stdout",
          "text": [
            "Error class probability : 0.1 (+/- 0.197) Correct class probability : 0.1 (+/- 0.28)\n"
          ]
        }
      ]
    },
    {
      "cell_type": "markdown",
      "source": [
        "#### random forest :"
      ],
      "metadata": {
        "id": "DFs8tUUp2gcn"
      }
    },
    {
      "cell_type": "code",
      "source": [
        "y_pred_test_rf = rf_best.predict(X_test)\n"
      ],
      "metadata": {
        "id": "QNRmVK9U2pI4"
      },
      "execution_count": 25,
      "outputs": []
    },
    {
      "cell_type": "markdown",
      "source": [
        "##### correctly classified :"
      ],
      "metadata": {
        "id": "KCIbK9mR2z3B"
      }
    },
    {
      "cell_type": "code",
      "source": [
        "correct_indexes = np.where(y_pred_test_rf == y_test)[0]"
      ],
      "metadata": {
        "id": "vV4nW9Rm21uC"
      },
      "execution_count": 26,
      "outputs": []
    },
    {
      "cell_type": "code",
      "source": [
        "pred_proba_rf_correct = rf_best.predict_proba(X_test)\n"
      ],
      "metadata": {
        "id": "8gn5Jzqo27rh"
      },
      "execution_count": 27,
      "outputs": []
    },
    {
      "cell_type": "code",
      "source": [
        "pred_proba_rf_correct.mean()"
      ],
      "metadata": {
        "colab": {
          "base_uri": "https://localhost:8080/"
        },
        "id": "doruqJiF3EP8",
        "outputId": "ed819a6e-df16-48af-dce1-836937be8c4b"
      },
      "execution_count": 28,
      "outputs": [
        {
          "output_type": "execute_result",
          "data": {
            "text/plain": [
              "0.10000000000000002"
            ]
          },
          "metadata": {},
          "execution_count": 28
        }
      ]
    },
    {
      "cell_type": "code",
      "source": [
        "pred_proba_rf_correct.std()"
      ],
      "metadata": {
        "colab": {
          "base_uri": "https://localhost:8080/"
        },
        "id": "zpnPK7M33Gy-",
        "outputId": "97342ec3-d078-4e75-8392-1a63fcc198e2"
      },
      "execution_count": 29,
      "outputs": [
        {
          "output_type": "execute_result",
          "data": {
            "text/plain": [
              "0.2495034987845609"
            ]
          },
          "metadata": {},
          "execution_count": 29
        }
      ]
    },
    {
      "cell_type": "markdown",
      "source": [
        "##### incorrectly classified :"
      ],
      "metadata": {
        "id": "RUjKL34T3JBp"
      }
    },
    {
      "cell_type": "code",
      "source": [
        "incorrect_indexes = np.where(y_pred_test_rf !=y_test)[0]"
      ],
      "metadata": {
        "id": "7Y-PhCvV3LEI"
      },
      "execution_count": 30,
      "outputs": []
    },
    {
      "cell_type": "code",
      "source": [
        "pred_proba_rf_incorrect = rf_best.predict_proba(X_test)"
      ],
      "metadata": {
        "id": "pUg9ejG-3Qak"
      },
      "execution_count": 31,
      "outputs": []
    },
    {
      "cell_type": "code",
      "source": [
        "pred_proba_rf_incorrect.mean()"
      ],
      "metadata": {
        "colab": {
          "base_uri": "https://localhost:8080/"
        },
        "id": "82sH1u1N3mlR",
        "outputId": "362cd735-a3d8-4e47-bb62-9d6ca0fdd03f"
      },
      "execution_count": 32,
      "outputs": [
        {
          "output_type": "execute_result",
          "data": {
            "text/plain": [
              "0.10000000000000002"
            ]
          },
          "metadata": {},
          "execution_count": 32
        }
      ]
    },
    {
      "cell_type": "code",
      "source": [
        "pred_proba_rf_incorrect.std()"
      ],
      "metadata": {
        "colab": {
          "base_uri": "https://localhost:8080/"
        },
        "id": "Jg6KYE1e3ozM",
        "outputId": "6776000d-3c19-40df-d291-7b39449da109"
      },
      "execution_count": 33,
      "outputs": [
        {
          "output_type": "execute_result",
          "data": {
            "text/plain": [
              "0.2495034987845609"
            ]
          },
          "metadata": {},
          "execution_count": 33
        }
      ]
    },
    {
      "cell_type": "code",
      "source": [
        "print(f'Error class probability : {pred_proba_rf_incorrect.mean().round(3)} (+/- {pred_proba_rf_incorrect.std().round(3)}) Correct class probability : {pred_proba_rf_correct.mean().round(3)} (+/- {pred_proba_rf_correct.std().round(3)})')"
      ],
      "metadata": {
        "colab": {
          "base_uri": "https://localhost:8080/"
        },
        "id": "E7sVeAAy3r78",
        "outputId": "aacf1613-79ac-4c7a-9702-bcfae48df021"
      },
      "execution_count": 34,
      "outputs": [
        {
          "output_type": "stream",
          "name": "stdout",
          "text": [
            "Error class probability : 0.1 (+/- 0.25) Correct class probability : 0.1 (+/- 0.25)\n"
          ]
        }
      ]
    },
    {
      "cell_type": "markdown",
      "source": [
        "**4.** Discuss your results."
      ],
      "metadata": {
        "id": "VPOW2s7yElIj"
      }
    },
    {
      "cell_type": "markdown",
      "source": [
        "The result we get are quite similar for decision tree and random forest classifiers. We get the same mean proba to classify samples correctly or incorrectly and quite the same std too."
      ],
      "metadata": {
        "id": "MO8tSvwIvzLK"
      }
    }
  ]
}