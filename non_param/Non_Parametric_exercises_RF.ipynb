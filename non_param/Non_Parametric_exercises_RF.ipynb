{
  "nbformat": 4,
  "nbformat_minor": 0,
  "metadata": {
    "colab": {
      "provenance": []
    },
    "kernelspec": {
      "display_name": "Python 3",
      "language": "python",
      "name": "python3"
    },
    "language_info": {
      "codemirror_mode": {
        "name": "ipython",
        "version": 3
      },
      "file_extension": ".py",
      "mimetype": "text/x-python",
      "name": "python",
      "nbconvert_exporter": "python",
      "pygments_lexer": "ipython3",
      "version": "3.7.4"
    },
    "latex_envs": {
      "LaTeX_envs_menu_present": true,
      "autoclose": false,
      "autocomplete": true,
      "bibliofile": "biblio.bib",
      "cite_by": "apalike",
      "current_citInitial": 1,
      "eqLabelWithNumbers": true,
      "eqNumInitial": 1,
      "hotkeys": {
        "equation": "Ctrl-E",
        "itemize": "Ctrl-I"
      },
      "labels_anchors": false,
      "latex_user_defs": false,
      "report_style_numbering": false,
      "user_envs_cfg": false
    },
    "toc": {
      "base_numbering": 1,
      "nav_menu": {},
      "number_sections": true,
      "sideBar": true,
      "skip_h1_title": false,
      "title_cell": "Table of Contents",
      "title_sidebar": "Contents",
      "toc_cell": false,
      "toc_position": {},
      "toc_section_display": true,
      "toc_window_display": false
    }
  },
  "cells": [
    {
      "cell_type": "markdown",
      "metadata": {
        "id": "i4-2xo_Epsi0"
      },
      "source": [
        "## Using Decision Tree and Random Forest for Digits Classification\n",
        "Remember the MNIST dataset used in the Classification Exercise - you will now test the power of decision trees on this problem.\n",
        "This time you are given a free hand in choosing the test and train set sizes, model hyperparameters (such as gain function and constraints over the trees) and features (whether to use binary pixel values or the original continous gray value).\n",
        "\n",
        "**Questions:**\n",
        "\n",
        "**1.** Choose which model hyperparameters (2-3) you wish to optimize, explain how would you do that, and find a model which you believe would have the minimal generalization error --- do this for both a single decision tree model, and a random forest. **DO NOT forget to create a validation set for this experiment**\n"
      ]
    },
    {
      "cell_type": "code",
      "source": [
        "# your code here\n",
        "from sklearn.datasets import fetch_openml\n",
        "import numpy as np\n",
        "import pandas as pd\n",
        "import matplotlib.pyplot as plt\n",
        "import seaborn as sns\n",
        "from sklearn.model_selection import train_test_split\n",
        "from sklearn.tree import DecisionTreeClassifier\n",
        "from sklearn.tree import plot_tree\n",
        "from sklearn.metrics import confusion_matrix,classification_report\n",
        "from sklearn.ensemble import RandomForestClassifier"
      ],
      "metadata": {
        "id": "tB8A_V8KEm29"
      },
      "execution_count": 1,
      "outputs": []
    },
    {
      "cell_type": "code",
      "source": [
        "mnist = fetch_openml('mnist_784', version=1, return_X_y=True, parser = 'pandas')\n",
        "X_train,X_temp,y_train,y_temp = train_test_split(mnist[0],mnist[1], test_size = 0.4, random_state = 42)\n",
        "X_val,X_test,y_val,y_test = train_test_split(X_temp,y_temp, test_size = 0.5, random_state = 42)"
      ],
      "metadata": {
        "id": "2uiH8olP2RZN"
      },
      "execution_count": 2,
      "outputs": []
    },
    {
      "cell_type": "code",
      "source": [
        "tree_class = DecisionTreeClassifier(max_depth = 20,min_samples_split = 50)\n",
        "tree_class.fit(X_train,y_train)\n"
      ],
      "metadata": {
        "id": "9Mll3lZWCf2b",
        "outputId": "d97e07ee-8ccd-4043-cacf-41eee04f18e1",
        "colab": {
          "base_uri": "https://localhost:8080/",
          "height": 75
        }
      },
      "execution_count": 3,
      "outputs": [
        {
          "output_type": "execute_result",
          "data": {
            "text/plain": [
              "DecisionTreeClassifier(max_depth=20, min_samples_split=50)"
            ],
            "text/html": [
              "<style>#sk-container-id-1 {color: black;background-color: white;}#sk-container-id-1 pre{padding: 0;}#sk-container-id-1 div.sk-toggleable {background-color: white;}#sk-container-id-1 label.sk-toggleable__label {cursor: pointer;display: block;width: 100%;margin-bottom: 0;padding: 0.3em;box-sizing: border-box;text-align: center;}#sk-container-id-1 label.sk-toggleable__label-arrow:before {content: \"▸\";float: left;margin-right: 0.25em;color: #696969;}#sk-container-id-1 label.sk-toggleable__label-arrow:hover:before {color: black;}#sk-container-id-1 div.sk-estimator:hover label.sk-toggleable__label-arrow:before {color: black;}#sk-container-id-1 div.sk-toggleable__content {max-height: 0;max-width: 0;overflow: hidden;text-align: left;background-color: #f0f8ff;}#sk-container-id-1 div.sk-toggleable__content pre {margin: 0.2em;color: black;border-radius: 0.25em;background-color: #f0f8ff;}#sk-container-id-1 input.sk-toggleable__control:checked~div.sk-toggleable__content {max-height: 200px;max-width: 100%;overflow: auto;}#sk-container-id-1 input.sk-toggleable__control:checked~label.sk-toggleable__label-arrow:before {content: \"▾\";}#sk-container-id-1 div.sk-estimator input.sk-toggleable__control:checked~label.sk-toggleable__label {background-color: #d4ebff;}#sk-container-id-1 div.sk-label input.sk-toggleable__control:checked~label.sk-toggleable__label {background-color: #d4ebff;}#sk-container-id-1 input.sk-hidden--visually {border: 0;clip: rect(1px 1px 1px 1px);clip: rect(1px, 1px, 1px, 1px);height: 1px;margin: -1px;overflow: hidden;padding: 0;position: absolute;width: 1px;}#sk-container-id-1 div.sk-estimator {font-family: monospace;background-color: #f0f8ff;border: 1px dotted black;border-radius: 0.25em;box-sizing: border-box;margin-bottom: 0.5em;}#sk-container-id-1 div.sk-estimator:hover {background-color: #d4ebff;}#sk-container-id-1 div.sk-parallel-item::after {content: \"\";width: 100%;border-bottom: 1px solid gray;flex-grow: 1;}#sk-container-id-1 div.sk-label:hover label.sk-toggleable__label {background-color: #d4ebff;}#sk-container-id-1 div.sk-serial::before {content: \"\";position: absolute;border-left: 1px solid gray;box-sizing: border-box;top: 0;bottom: 0;left: 50%;z-index: 0;}#sk-container-id-1 div.sk-serial {display: flex;flex-direction: column;align-items: center;background-color: white;padding-right: 0.2em;padding-left: 0.2em;position: relative;}#sk-container-id-1 div.sk-item {position: relative;z-index: 1;}#sk-container-id-1 div.sk-parallel {display: flex;align-items: stretch;justify-content: center;background-color: white;position: relative;}#sk-container-id-1 div.sk-item::before, #sk-container-id-1 div.sk-parallel-item::before {content: \"\";position: absolute;border-left: 1px solid gray;box-sizing: border-box;top: 0;bottom: 0;left: 50%;z-index: -1;}#sk-container-id-1 div.sk-parallel-item {display: flex;flex-direction: column;z-index: 1;position: relative;background-color: white;}#sk-container-id-1 div.sk-parallel-item:first-child::after {align-self: flex-end;width: 50%;}#sk-container-id-1 div.sk-parallel-item:last-child::after {align-self: flex-start;width: 50%;}#sk-container-id-1 div.sk-parallel-item:only-child::after {width: 0;}#sk-container-id-1 div.sk-dashed-wrapped {border: 1px dashed gray;margin: 0 0.4em 0.5em 0.4em;box-sizing: border-box;padding-bottom: 0.4em;background-color: white;}#sk-container-id-1 div.sk-label label {font-family: monospace;font-weight: bold;display: inline-block;line-height: 1.2em;}#sk-container-id-1 div.sk-label-container {text-align: center;}#sk-container-id-1 div.sk-container {/* jupyter's `normalize.less` sets `[hidden] { display: none; }` but bootstrap.min.css set `[hidden] { display: none !important; }` so we also need the `!important` here to be able to override the default hidden behavior on the sphinx rendered scikit-learn.org. See: https://github.com/scikit-learn/scikit-learn/issues/21755 */display: inline-block !important;position: relative;}#sk-container-id-1 div.sk-text-repr-fallback {display: none;}</style><div id=\"sk-container-id-1\" class=\"sk-top-container\"><div class=\"sk-text-repr-fallback\"><pre>DecisionTreeClassifier(max_depth=20, min_samples_split=50)</pre><b>In a Jupyter environment, please rerun this cell to show the HTML representation or trust the notebook. <br />On GitHub, the HTML representation is unable to render, please try loading this page with nbviewer.org.</b></div><div class=\"sk-container\" hidden><div class=\"sk-item\"><div class=\"sk-estimator sk-toggleable\"><input class=\"sk-toggleable__control sk-hidden--visually\" id=\"sk-estimator-id-1\" type=\"checkbox\" checked><label for=\"sk-estimator-id-1\" class=\"sk-toggleable__label sk-toggleable__label-arrow\">DecisionTreeClassifier</label><div class=\"sk-toggleable__content\"><pre>DecisionTreeClassifier(max_depth=20, min_samples_split=50)</pre></div></div></div></div></div>"
            ]
          },
          "metadata": {},
          "execution_count": 3
        }
      ]
    },
    {
      "cell_type": "code",
      "source": [
        "y_pred = tree_class.predict(X_val)"
      ],
      "metadata": {
        "id": "H6A3JbY9LyJv"
      },
      "execution_count": 4,
      "outputs": []
    },
    {
      "cell_type": "code",
      "source": [
        "print(classification_report(y_val,y_pred))"
      ],
      "metadata": {
        "id": "A6mq6MbtMEzh",
        "outputId": "67fa3d12-d909-4f6b-b976-12e697ed22ff",
        "colab": {
          "base_uri": "https://localhost:8080/"
        }
      },
      "execution_count": 5,
      "outputs": [
        {
          "output_type": "stream",
          "name": "stdout",
          "text": [
            "              precision    recall  f1-score   support\n",
            "\n",
            "           0       0.89      0.89      0.89      1359\n",
            "           1       0.91      0.96      0.93      1552\n",
            "           2       0.81      0.82      0.82      1403\n",
            "           3       0.80      0.81      0.80      1392\n",
            "           4       0.83      0.86      0.85      1322\n",
            "           5       0.82      0.79      0.81      1295\n",
            "           6       0.90      0.87      0.89      1415\n",
            "           7       0.89      0.88      0.89      1497\n",
            "           8       0.78      0.77      0.78      1346\n",
            "           9       0.84      0.80      0.82      1419\n",
            "\n",
            "    accuracy                           0.85     14000\n",
            "   macro avg       0.85      0.85      0.85     14000\n",
            "weighted avg       0.85      0.85      0.85     14000\n",
            "\n"
          ]
        }
      ]
    },
    {
      "cell_type": "code",
      "source": [
        "tree_class.feature_importances_"
      ],
      "metadata": {
        "id": "JrGXd52FNRav",
        "outputId": "1134d16f-fb53-4bd7-dc45-f9eec260aa25",
        "colab": {
          "base_uri": "https://localhost:8080/"
        }
      },
      "execution_count": 6,
      "outputs": [
        {
          "output_type": "execute_result",
          "data": {
            "text/plain": [
              "array([0.00000000e+00, 0.00000000e+00, 0.00000000e+00, 0.00000000e+00,\n",
              "       0.00000000e+00, 0.00000000e+00, 0.00000000e+00, 0.00000000e+00,\n",
              "       0.00000000e+00, 0.00000000e+00, 0.00000000e+00, 0.00000000e+00,\n",
              "       0.00000000e+00, 0.00000000e+00, 0.00000000e+00, 0.00000000e+00,\n",
              "       0.00000000e+00, 0.00000000e+00, 0.00000000e+00, 0.00000000e+00,\n",
              "       0.00000000e+00, 0.00000000e+00, 0.00000000e+00, 0.00000000e+00,\n",
              "       0.00000000e+00, 0.00000000e+00, 0.00000000e+00, 0.00000000e+00,\n",
              "       0.00000000e+00, 0.00000000e+00, 0.00000000e+00, 0.00000000e+00,\n",
              "       0.00000000e+00, 0.00000000e+00, 0.00000000e+00, 0.00000000e+00,\n",
              "       0.00000000e+00, 0.00000000e+00, 0.00000000e+00, 0.00000000e+00,\n",
              "       0.00000000e+00, 0.00000000e+00, 0.00000000e+00, 0.00000000e+00,\n",
              "       0.00000000e+00, 0.00000000e+00, 0.00000000e+00, 0.00000000e+00,\n",
              "       0.00000000e+00, 0.00000000e+00, 0.00000000e+00, 0.00000000e+00,\n",
              "       0.00000000e+00, 0.00000000e+00, 0.00000000e+00, 0.00000000e+00,\n",
              "       0.00000000e+00, 0.00000000e+00, 0.00000000e+00, 0.00000000e+00,\n",
              "       0.00000000e+00, 0.00000000e+00, 0.00000000e+00, 0.00000000e+00,\n",
              "       0.00000000e+00, 0.00000000e+00, 0.00000000e+00, 6.14158972e-05,\n",
              "       2.50237910e-04, 3.00723004e-05, 6.00203063e-05, 0.00000000e+00,\n",
              "       4.92560778e-04, 1.73033771e-04, 0.00000000e+00, 0.00000000e+00,\n",
              "       5.99536293e-05, 0.00000000e+00, 0.00000000e+00, 0.00000000e+00,\n",
              "       0.00000000e+00, 0.00000000e+00, 0.00000000e+00, 0.00000000e+00,\n",
              "       0.00000000e+00, 0.00000000e+00, 0.00000000e+00, 0.00000000e+00,\n",
              "       0.00000000e+00, 0.00000000e+00, 0.00000000e+00, 0.00000000e+00,\n",
              "       0.00000000e+00, 1.18676977e-04, 4.80154978e-04, 0.00000000e+00,\n",
              "       1.88967050e-03, 5.14467923e-04, 4.91582759e-03, 0.00000000e+00,\n",
              "       6.91973273e-05, 0.00000000e+00, 1.98112228e-04, 5.54630353e-04,\n",
              "       6.12300251e-05, 0.00000000e+00, 0.00000000e+00, 6.00952698e-05,\n",
              "       0.00000000e+00, 0.00000000e+00, 0.00000000e+00, 0.00000000e+00,\n",
              "       0.00000000e+00, 0.00000000e+00, 0.00000000e+00, 0.00000000e+00,\n",
              "       0.00000000e+00, 6.11295455e-05, 0.00000000e+00, 0.00000000e+00,\n",
              "       2.52526617e-04, 2.92188385e-04, 0.00000000e+00, 2.98159958e-04,\n",
              "       4.84659126e-04, 5.41540883e-04, 2.79944101e-03, 5.02904600e-04,\n",
              "       0.00000000e+00, 1.15960517e-04, 2.93568703e-04, 9.23129387e-04,\n",
              "       1.46632176e-04, 0.00000000e+00, 0.00000000e+00, 4.03099151e-05,\n",
              "       0.00000000e+00, 0.00000000e+00, 0.00000000e+00, 0.00000000e+00,\n",
              "       0.00000000e+00, 0.00000000e+00, 0.00000000e+00, 0.00000000e+00,\n",
              "       0.00000000e+00, 2.17489943e-04, 2.47485167e-04, 0.00000000e+00,\n",
              "       1.13094642e-04, 3.18584283e-03, 0.00000000e+00, 1.30569493e-04,\n",
              "       1.99528547e-03, 3.50949664e-03, 6.32134387e-03, 1.27399010e-02,\n",
              "       1.20016731e-02, 1.22458100e-03, 8.21536040e-04, 2.12923050e-04,\n",
              "       1.76220617e-04, 5.51900039e-06, 2.89143194e-04, 2.65135860e-04,\n",
              "       0.00000000e+00, 6.07507438e-05, 0.00000000e+00, 0.00000000e+00,\n",
              "       0.00000000e+00, 0.00000000e+00, 0.00000000e+00, 0.00000000e+00,\n",
              "       0.00000000e+00, 1.18781251e-04, 1.98262276e-04, 5.88786459e-05,\n",
              "       1.88971990e-04, 8.39727782e-04, 1.57788566e-04, 1.04601797e-03,\n",
              "       5.00905359e-03, 0.00000000e+00, 4.08709020e-04, 2.34825827e-03,\n",
              "       2.38235365e-04, 2.25559688e-04, 5.10690253e-03, 0.00000000e+00,\n",
              "       1.80657264e-04, 0.00000000e+00, 7.44518736e-04, 1.39731590e-03,\n",
              "       0.00000000e+00, 6.09730575e-05, 0.00000000e+00, 0.00000000e+00,\n",
              "       0.00000000e+00, 0.00000000e+00, 0.00000000e+00, 3.00950634e-05,\n",
              "       0.00000000e+00, 8.01397848e-05, 3.64445541e-04, 1.22435035e-04,\n",
              "       7.06367549e-04, 0.00000000e+00, 8.76176173e-05, 1.65012607e-03,\n",
              "       2.19679060e-04, 1.95194527e-03, 6.63454686e-03, 4.08487059e-02,\n",
              "       3.36279301e-03, 0.00000000e+00, 9.59160991e-04, 0.00000000e+00,\n",
              "       1.11930229e-03, 1.20303841e-04, 0.00000000e+00, 0.00000000e+00,\n",
              "       0.00000000e+00, 1.72694685e-04, 0.00000000e+00, 0.00000000e+00,\n",
              "       0.00000000e+00, 0.00000000e+00, 0.00000000e+00, 0.00000000e+00,\n",
              "       0.00000000e+00, 0.00000000e+00, 0.00000000e+00, 1.72410913e-04,\n",
              "       7.23938586e-04, 2.91390204e-04, 7.33944137e-03, 3.48836994e-04,\n",
              "       1.52285097e-03, 8.64054493e-04, 5.11496733e-04, 2.99024420e-03,\n",
              "       7.69673004e-04, 1.49397969e-04, 1.60998099e-03, 1.34188218e-03,\n",
              "       8.34743370e-04, 8.72317074e-04, 0.00000000e+00, 4.22300932e-03,\n",
              "       6.04330474e-04, 0.00000000e+00, 0.00000000e+00, 0.00000000e+00,\n",
              "       0.00000000e+00, 0.00000000e+00, 0.00000000e+00, 6.07465601e-05,\n",
              "       0.00000000e+00, 0.00000000e+00, 0.00000000e+00, 0.00000000e+00,\n",
              "       0.00000000e+00, 1.14544475e-04, 0.00000000e+00, 0.00000000e+00,\n",
              "       7.95950540e-04, 3.26652286e-03, 1.67586096e-03, 4.77045284e-03,\n",
              "       1.11388331e-03, 2.18064558e-03, 4.35464433e-03, 3.05743419e-02,\n",
              "       0.00000000e+00, 2.38100677e-04, 1.04541894e-02, 6.13388735e-05,\n",
              "       0.00000000e+00, 0.00000000e+00, 8.13303361e-05, 0.00000000e+00,\n",
              "       0.00000000e+00, 0.00000000e+00, 0.00000000e+00, 0.00000000e+00,\n",
              "       0.00000000e+00, 2.65979161e-04, 0.00000000e+00, 0.00000000e+00,\n",
              "       4.06725448e-04, 5.15993659e-04, 1.94936878e-02, 5.87869937e-05,\n",
              "       1.79261167e-03, 1.68715131e-03, 6.08899784e-03, 1.17048894e-03,\n",
              "       2.27855826e-02, 9.06309116e-03, 1.53664541e-03, 2.24323770e-03,\n",
              "       5.15113863e-04, 2.29409778e-03, 1.94061910e-04, 0.00000000e+00,\n",
              "       4.73870750e-04, 0.00000000e+00, 0.00000000e+00, 0.00000000e+00,\n",
              "       0.00000000e+00, 0.00000000e+00, 0.00000000e+00, 0.00000000e+00,\n",
              "       0.00000000e+00, 0.00000000e+00, 0.00000000e+00, 2.44025167e-03,\n",
              "       5.73878998e-04, 2.77400392e-03, 2.50022433e-03, 4.36718186e-03,\n",
              "       3.94498971e-04, 3.42624442e-03, 6.89183395e-04, 1.10787473e-03,\n",
              "       2.30995132e-03, 4.54428136e-05, 7.37590923e-04, 2.87349424e-04,\n",
              "       5.11226482e-03, 1.16252241e-04, 0.00000000e+00, 0.00000000e+00,\n",
              "       0.00000000e+00, 6.01523552e-05, 0.00000000e+00, 0.00000000e+00,\n",
              "       0.00000000e+00, 0.00000000e+00, 0.00000000e+00, 0.00000000e+00,\n",
              "       0.00000000e+00, 0.00000000e+00, 2.10151702e-03, 1.69015726e-03,\n",
              "       5.87037367e-03, 4.69623831e-03, 4.52598475e-03, 5.14585371e-02,\n",
              "       2.79533582e-03, 1.41985918e-03, 5.20049408e-02, 6.32384645e-04,\n",
              "       6.41142407e-03, 3.64730713e-03, 1.92445464e-02, 1.65851798e-03,\n",
              "       2.21872535e-03, 2.79649708e-03, 1.14799394e-03, 3.50302572e-04,\n",
              "       0.00000000e+00, 0.00000000e+00, 6.13303393e-05, 0.00000000e+00,\n",
              "       0.00000000e+00, 0.00000000e+00, 0.00000000e+00, 0.00000000e+00,\n",
              "       1.51476744e-05, 3.09129020e-04, 1.07197308e-04, 5.41231977e-04,\n",
              "       6.11527666e-03, 7.35661693e-04, 1.12259192e-03, 1.21422339e-04,\n",
              "       1.94744166e-03, 8.65012334e-04, 6.68981360e-04, 2.00023303e-03,\n",
              "       6.58103519e-03, 7.15179549e-04, 7.25701219e-04, 6.29775484e-04,\n",
              "       0.00000000e+00, 0.00000000e+00, 5.51312823e-04, 1.12348824e-04,\n",
              "       0.00000000e+00, 0.00000000e+00, 0.00000000e+00, 0.00000000e+00,\n",
              "       0.00000000e+00, 0.00000000e+00, 0.00000000e+00, 0.00000000e+00,\n",
              "       0.00000000e+00, 0.00000000e+00, 0.00000000e+00, 3.05445324e-04,\n",
              "       1.99650117e-03, 0.00000000e+00, 0.00000000e+00, 6.00371470e-03,\n",
              "       3.16166398e-03, 1.21411381e-02, 2.55673650e-03, 6.20931805e-04,\n",
              "       1.45427347e-04, 1.05143982e-03, 4.24691004e-04, 5.62502763e-04,\n",
              "       0.00000000e+00, 3.83092898e-04, 4.10938054e-04, 7.44578166e-04,\n",
              "       0.00000000e+00, 0.00000000e+00, 0.00000000e+00, 0.00000000e+00,\n",
              "       0.00000000e+00, 0.00000000e+00, 0.00000000e+00, 0.00000000e+00,\n",
              "       0.00000000e+00, 0.00000000e+00, 6.33651833e-04, 2.48256037e-03,\n",
              "       4.66699785e-03, 1.04113469e-03, 0.00000000e+00, 5.51833889e-04,\n",
              "       3.85764627e-02, 7.25391401e-04, 1.70031796e-03, 5.25088657e-02,\n",
              "       6.51474552e-04, 5.23686129e-04, 3.91643300e-03, 1.33555201e-03,\n",
              "       7.89253584e-04, 2.66098296e-04, 1.93685264e-04, 0.00000000e+00,\n",
              "       1.65378747e-04, 6.14312480e-05, 6.15531394e-05, 0.00000000e+00,\n",
              "       0.00000000e+00, 0.00000000e+00, 0.00000000e+00, 0.00000000e+00,\n",
              "       0.00000000e+00, 1.21081089e-04, 1.17734287e-04, 3.26508627e-03,\n",
              "       1.16133321e-03, 3.76601809e-04, 2.63463497e-03, 4.31761981e-04,\n",
              "       1.58230824e-04, 4.35435152e-04, 2.80718951e-04, 9.07016609e-05,\n",
              "       1.18092067e-03, 6.31210999e-04, 3.89555365e-03, 1.58019779e-03,\n",
              "       9.04328255e-05, 2.99085193e-04, 4.31495396e-04, 3.99866739e-04,\n",
              "       0.00000000e+00, 0.00000000e+00, 1.21201951e-04, 0.00000000e+00,\n",
              "       0.00000000e+00, 0.00000000e+00, 0.00000000e+00, 6.06220206e-05,\n",
              "       0.00000000e+00, 0.00000000e+00, 0.00000000e+00, 0.00000000e+00,\n",
              "       3.60476393e-03, 1.61377400e-03, 3.74944864e-02, 8.16238310e-04,\n",
              "       1.56680004e-03, 6.53410972e-02, 2.99456193e-03, 6.93193742e-04,\n",
              "       4.83571655e-04, 6.67863018e-04, 2.12215469e-04, 0.00000000e+00,\n",
              "       0.00000000e+00, 3.50499444e-04, 0.00000000e+00, 1.19812829e-04,\n",
              "       0.00000000e+00, 2.34058354e-04, 0.00000000e+00, 0.00000000e+00,\n",
              "       0.00000000e+00, 0.00000000e+00, 0.00000000e+00, 0.00000000e+00,\n",
              "       0.00000000e+00, 6.11037488e-05, 1.24779755e-03, 8.33544685e-04,\n",
              "       2.62568432e-04, 1.77260328e-03, 8.52624818e-04, 7.45657509e-03,\n",
              "       2.18160804e-03, 2.13915544e-03, 1.92146716e-03, 1.67448019e-04,\n",
              "       2.96918283e-05, 2.36167168e-04, 0.00000000e+00, 2.11883548e-04,\n",
              "       0.00000000e+00, 0.00000000e+00, 1.00238522e-03, 0.00000000e+00,\n",
              "       1.22138202e-04, 0.00000000e+00, 0.00000000e+00, 0.00000000e+00,\n",
              "       0.00000000e+00, 0.00000000e+00, 0.00000000e+00, 3.05369652e-05,\n",
              "       0.00000000e+00, 3.20695217e-04, 3.85407268e-03, 6.31454252e-04,\n",
              "       6.34762295e-04, 0.00000000e+00, 4.16730556e-02, 2.05860553e-03,\n",
              "       3.70732622e-03, 2.32088329e-03, 2.60167776e-04, 0.00000000e+00,\n",
              "       5.04839755e-06, 1.19876190e-04, 2.04696482e-02, 3.17655719e-04,\n",
              "       1.99428924e-05, 0.00000000e+00, 2.86851967e-03, 0.00000000e+00,\n",
              "       3.85821405e-04, 1.18965314e-04, 0.00000000e+00, 0.00000000e+00,\n",
              "       0.00000000e+00, 0.00000000e+00, 0.00000000e+00, 1.00260119e-04,\n",
              "       0.00000000e+00, 6.07667727e-05, 0.00000000e+00, 8.10794543e-04,\n",
              "       2.31942595e-04, 6.73432779e-04, 1.57368468e-03, 3.42738671e-03,\n",
              "       2.25294340e-04, 1.20604207e-03, 2.69710678e-03, 0.00000000e+00,\n",
              "       2.52026884e-04, 4.71934014e-04, 4.90964779e-04, 4.48267428e-04,\n",
              "       6.30153382e-04, 0.00000000e+00, 1.81500212e-04, 0.00000000e+00,\n",
              "       0.00000000e+00, 0.00000000e+00, 0.00000000e+00, 0.00000000e+00,\n",
              "       0.00000000e+00, 0.00000000e+00, 0.00000000e+00, 0.00000000e+00,\n",
              "       1.74614540e-04, 1.20240884e-04, 5.29921584e-05, 4.57095109e-04,\n",
              "       9.05595480e-03, 2.98817037e-02, 6.22959858e-03, 1.32907439e-03,\n",
              "       3.03773957e-05, 1.09835982e-03, 8.75062529e-05, 0.00000000e+00,\n",
              "       1.60148918e-04, 2.03143006e-04, 0.00000000e+00, 3.68342212e-04,\n",
              "       6.03615659e-05, 0.00000000e+00, 0.00000000e+00, 0.00000000e+00,\n",
              "       6.12574508e-05, 0.00000000e+00, 0.00000000e+00, 0.00000000e+00,\n",
              "       0.00000000e+00, 0.00000000e+00, 0.00000000e+00, 0.00000000e+00,\n",
              "       1.22044278e-04, 0.00000000e+00, 8.20359157e-04, 0.00000000e+00,\n",
              "       0.00000000e+00, 5.77686267e-04, 0.00000000e+00, 0.00000000e+00,\n",
              "       0.00000000e+00, 0.00000000e+00, 0.00000000e+00, 4.31190022e-04,\n",
              "       0.00000000e+00, 2.18179538e-04, 0.00000000e+00, 0.00000000e+00,\n",
              "       0.00000000e+00, 8.68242500e-05, 0.00000000e+00, 1.22452252e-04,\n",
              "       0.00000000e+00, 0.00000000e+00, 0.00000000e+00, 0.00000000e+00,\n",
              "       0.00000000e+00, 0.00000000e+00, 0.00000000e+00, 6.08096144e-05,\n",
              "       0.00000000e+00, 0.00000000e+00, 1.80978343e-04, 0.00000000e+00,\n",
              "       2.66494106e-03, 1.57384098e-04, 6.55943574e-04, 2.78757610e-03,\n",
              "       1.97750469e-03, 2.45027257e-02, 1.97940393e-03, 4.77849167e-04,\n",
              "       4.81394321e-04, 0.00000000e+00, 6.00677602e-04, 1.30192225e-04,\n",
              "       0.00000000e+00, 0.00000000e+00, 0.00000000e+00, 0.00000000e+00,\n",
              "       0.00000000e+00, 0.00000000e+00, 0.00000000e+00, 0.00000000e+00,\n",
              "       0.00000000e+00, 0.00000000e+00, 0.00000000e+00, 6.08888609e-05,\n",
              "       1.25616732e-04, 6.02688826e-05, 5.61760495e-04, 1.79691617e-04,\n",
              "       2.41481810e-04, 1.99465058e-04, 3.57576638e-04, 1.19230948e-04,\n",
              "       0.00000000e+00, 0.00000000e+00, 1.01633430e-03, 2.98018366e-05,\n",
              "       1.77225210e-04, 0.00000000e+00, 5.90495395e-05, 0.00000000e+00,\n",
              "       5.91249749e-05, 0.00000000e+00, 3.05145325e-05, 0.00000000e+00,\n",
              "       0.00000000e+00, 0.00000000e+00, 0.00000000e+00, 0.00000000e+00,\n",
              "       0.00000000e+00, 0.00000000e+00, 0.00000000e+00, 0.00000000e+00,\n",
              "       0.00000000e+00, 0.00000000e+00, 0.00000000e+00, 1.45953380e-03,\n",
              "       4.65563866e-03, 6.15147351e-05, 0.00000000e+00, 7.52732232e-04,\n",
              "       1.84774635e-03, 4.40978446e-04, 4.23043601e-04, 6.05713296e-05,\n",
              "       3.84958275e-04, 1.16695094e-04, 2.33384845e-04, 2.10671377e-04,\n",
              "       0.00000000e+00, 6.12810499e-05, 6.09715904e-05, 0.00000000e+00,\n",
              "       0.00000000e+00, 0.00000000e+00, 0.00000000e+00, 0.00000000e+00,\n",
              "       0.00000000e+00, 0.00000000e+00, 0.00000000e+00, 0.00000000e+00,\n",
              "       0.00000000e+00, 6.10708964e-05, 0.00000000e+00, 0.00000000e+00,\n",
              "       0.00000000e+00, 0.00000000e+00, 0.00000000e+00, 0.00000000e+00,\n",
              "       0.00000000e+00, 0.00000000e+00, 1.21999647e-04, 0.00000000e+00,\n",
              "       0.00000000e+00, 2.11378161e-04, 0.00000000e+00, 0.00000000e+00,\n",
              "       0.00000000e+00, 0.00000000e+00, 0.00000000e+00, 0.00000000e+00,\n",
              "       0.00000000e+00, 0.00000000e+00, 0.00000000e+00, 0.00000000e+00,\n",
              "       0.00000000e+00, 0.00000000e+00, 0.00000000e+00, 0.00000000e+00,\n",
              "       0.00000000e+00, 0.00000000e+00, 0.00000000e+00, 0.00000000e+00,\n",
              "       0.00000000e+00, 0.00000000e+00, 0.00000000e+00, 0.00000000e+00,\n",
              "       0.00000000e+00, 0.00000000e+00, 0.00000000e+00, 0.00000000e+00,\n",
              "       0.00000000e+00, 0.00000000e+00, 0.00000000e+00, 0.00000000e+00,\n",
              "       0.00000000e+00, 0.00000000e+00, 0.00000000e+00, 0.00000000e+00,\n",
              "       0.00000000e+00, 0.00000000e+00, 0.00000000e+00, 0.00000000e+00])"
            ]
          },
          "metadata": {},
          "execution_count": 6
        }
      ]
    },
    {
      "cell_type": "markdown",
      "source": [
        "After running multiples times and with various values, we find that max_depth = 20 and min_samples_split=50 seems to be the most appropriate values for our parameters. We can see on feature_importances that many features are not taken into consideration and useless for our split. So we want to reduce the depth of the tree to lower the complexity of our model. Moreover, we do not want our model to overfit so we set the min_samples_split to 50 to limit overfitting."
      ],
      "metadata": {
        "id": "PZKy2v5kQSQb"
      }
    },
    {
      "cell_type": "code",
      "source": [
        "rf = RandomForestClassifier(max_depth = 15, min_samples_split = 50, n_estimators = 40)\n",
        "rf.fit(X_train,y_train)\n",
        "y_pred_rf = rf.predict(X_val)"
      ],
      "metadata": {
        "id": "oZp_3ggeQ0kC"
      },
      "execution_count": 7,
      "outputs": []
    },
    {
      "cell_type": "code",
      "source": [
        "print(classification_report(y_val,y_pred_rf))"
      ],
      "metadata": {
        "id": "v7bF7UZVYixM",
        "outputId": "91aee6a1-ef81-4b5c-ffc3-db83c6b54ab1",
        "colab": {
          "base_uri": "https://localhost:8080/"
        }
      },
      "execution_count": 8,
      "outputs": [
        {
          "output_type": "stream",
          "name": "stdout",
          "text": [
            "              precision    recall  f1-score   support\n",
            "\n",
            "           0       0.96      0.97      0.97      1359\n",
            "           1       0.97      0.98      0.98      1552\n",
            "           2       0.93      0.96      0.94      1403\n",
            "           3       0.93      0.92      0.93      1392\n",
            "           4       0.96      0.94      0.95      1322\n",
            "           5       0.94      0.94      0.94      1295\n",
            "           6       0.97      0.98      0.97      1415\n",
            "           7       0.96      0.94      0.95      1497\n",
            "           8       0.93      0.92      0.93      1346\n",
            "           9       0.92      0.93      0.92      1419\n",
            "\n",
            "    accuracy                           0.95     14000\n",
            "   macro avg       0.95      0.95      0.95     14000\n",
            "weighted avg       0.95      0.95      0.95     14000\n",
            "\n"
          ]
        }
      ]
    },
    {
      "cell_type": "markdown",
      "source": [
        "To limit overfitting, we set n_estimators = 40 to limit the number of trees in the forest.\n",
        "As we have a lot of features, we limit the depth of the tree to be 15.\n",
        "As we want to limit the impact of outliers and limit overfitting, we set the minimum number of samples to 50 to split."
      ],
      "metadata": {
        "id": "o3PoW_I_ZSrv"
      }
    },
    {
      "cell_type": "markdown",
      "source": [
        "**2.** Once you are satisfied with the model hyperparameters, plot for each of the models (a single decision tree and random forest) the importance of each of the pixels to the final decision. The end result should be an image that looks like a heatmap, that shows the most important pixels in the decision. **Explain the result**\n"
      ],
      "metadata": {
        "id": "1jwp8ocJEinn"
      }
    },
    {
      "cell_type": "code",
      "source": [
        "plt.imshow(np.reshape(tree_class.feature_importances_,(28,28)))\n",
        "plt.title('Pixel importance heatmap')\n",
        "plt.colorbar(label = 'Importance')\n",
        "plt.show()"
      ],
      "metadata": {
        "id": "uKhevNZ6eL0u",
        "outputId": "91d901f7-b8f5-460b-b4b2-0e08fddc13a3",
        "colab": {
          "base_uri": "https://localhost:8080/",
          "height": 452
        }
      },
      "execution_count": 9,
      "outputs": [
        {
          "output_type": "display_data",
          "data": {
            "text/plain": [
              "<Figure size 640x480 with 2 Axes>"
            ],
            "image/png": "[encoded data removed]"
          },
          "metadata": {}
        }
      ]
    },
    {
      "cell_type": "markdown",
      "source": [
        "For the decision tree model,we can see that most of the pixels are useless in our model. For pixels between 100 and 300, we can see on the plot that a few pixels are important."
      ],
      "metadata": {
        "id": "QPX5NI5agXnJ"
      }
    },
    {
      "cell_type": "code",
      "source": [
        "plt.imshow(np.reshape(rf.feature_importances_,(28,28)))\n",
        "plt.title('Pixel importance heatmap')\n",
        "plt.colorbar(label = 'Importance')\n",
        "plt.show()"
      ],
      "metadata": {
        "id": "mD5WXK-Ig4fS",
        "outputId": "422d3a5f-3387-4ce7-b533-f7511076fef2",
        "colab": {
          "base_uri": "https://localhost:8080/",
          "height": 452
        }
      },
      "execution_count": 10,
      "outputs": [
        {
          "output_type": "display_data",
          "data": {
            "text/plain": [
              "<Figure size 640x480 with 2 Axes>"
            ],
            "image/png": "[encoded data removed]"
          },
          "metadata": {}
        }
      ]
    },
    {
      "cell_type": "markdown",
      "source": [
        "For the RandomForest model, we can see on the plot that many pixels have an importance. Pixels between 150 and 250 tends to have the more importance.\n",
        "\n",
        "We can notice that on the decisiontree classifier, most of the features are ignored whereas on the randomforest classifier, most of the features are taken into consideration."
      ],
      "metadata": {
        "id": "8sOv5BI6hLJ0"
      }
    },
    {
      "cell_type": "markdown",
      "source": [
        "**3.** Last, estimate the class assignment probabilities for all the correctly classified and misclassified examples in your test data.\n",
        "Print, regardless of the digit, the mean +- std for the correctly classified samples, and the mean +- std for the misclassified samples.\n",
        "\n",
        "*The end result should look like:*\n",
        "\n",
        "Error class probability: mean_proba (+/- std_proba)\n",
        "Correct class probability: mean_proba (+/- std_proba)\n",
        "\n"
      ],
      "metadata": {
        "id": "7ZKHg_R5Ej9J"
      }
    },
    {
      "cell_type": "code",
      "source": [
        "# your code here\n",
        "y_pred_test_tc = tree_class.predict(X_test)"
      ],
      "metadata": {
        "id": "fPGVaqc0Epqw"
      },
      "execution_count": 11,
      "outputs": []
    },
    {
      "cell_type": "code",
      "source": [
        "mean_proba_correct_tc =(y_test == y_pred_test_tc).mean()\n",
        "std_proba_correct_tc =(y_test == y_pred_test_tc).std()"
      ],
      "metadata": {
        "id": "ykQM8Q0auaIE"
      },
      "execution_count": 12,
      "outputs": []
    },
    {
      "cell_type": "code",
      "source": [
        "mean_proba_error_tc = (y_test != y_pred_test_tc).mean()\n",
        "std_proba_error_tc = (y_test != y_pred_test_tc).mean()"
      ],
      "metadata": {
        "id": "yfM1934MueM_"
      },
      "execution_count": 13,
      "outputs": []
    },
    {
      "cell_type": "code",
      "source": [
        "print(f'Error class probability : {mean_proba_error_tc.round(3)} (+/- {std_proba_error_tc.round(3)}) Correct class probability : {mean_proba_correct_tc.round(3)} (+/- {std_proba_correct_tc.round(3)})')"
      ],
      "metadata": {
        "id": "6RffuRCRu4j8",
        "outputId": "4272091e-d230-4137-9d12-809315f87bab",
        "colab": {
          "base_uri": "https://localhost:8080/"
        }
      },
      "execution_count": 14,
      "outputs": [
        {
          "output_type": "stream",
          "name": "stdout",
          "text": [
            "Error class probability : 0.153 (+/- 0.153) Correct class probability : 0.847 (+/- 0.36)\n"
          ]
        }
      ]
    },
    {
      "cell_type": "code",
      "source": [
        "y_pred_test_rf = rf.predict(X_test)"
      ],
      "metadata": {
        "id": "pjWcAni1vZnh"
      },
      "execution_count": 15,
      "outputs": []
    },
    {
      "cell_type": "code",
      "source": [
        "mean_proba_correct_rf =(y_test == y_pred_test_rf).mean()\n",
        "std_proba_correct_rf =(y_test == y_pred_test_rf).std()"
      ],
      "metadata": {
        "id": "i00AZWtBvhgN"
      },
      "execution_count": 16,
      "outputs": []
    },
    {
      "cell_type": "code",
      "source": [
        "mean_proba_error_rf =(y_test != y_pred_test_rf).mean()\n",
        "std_proba_error_rf =(y_test != y_pred_test_rf).std()"
      ],
      "metadata": {
        "id": "--3jG-Iivl0v"
      },
      "execution_count": 17,
      "outputs": []
    },
    {
      "cell_type": "code",
      "source": [
        "print(f'Error class probability : {mean_proba_error_rf.round(3)} (+/- {std_proba_error_rf.round(3)}) Correct class probability : {mean_proba_correct_rf.round(3)} (+/- {std_proba_correct_rf.round(3)})')"
      ],
      "metadata": {
        "id": "-rPE4VVzvq6y",
        "outputId": "3682de46-e54a-40cd-c1d4-799a8234673c",
        "colab": {
          "base_uri": "https://localhost:8080/"
        }
      },
      "execution_count": 18,
      "outputs": [
        {
          "output_type": "stream",
          "name": "stdout",
          "text": [
            "Error class probability : 0.052 (+/- 0.222) Correct class probability : 0.948 (+/- 0.222)\n"
          ]
        }
      ]
    },
    {
      "cell_type": "markdown",
      "source": [
        "**4.** Discuss your results."
      ],
      "metadata": {
        "id": "VPOW2s7yElIj"
      }
    },
    {
      "cell_type": "markdown",
      "source": [
        "Our result are much better for the randomforest classifier than the decisiontree classifier.\n",
        "We get an error class for the decisiontree 3 times higher than the randomforest."
      ],
      "metadata": {
        "id": "MO8tSvwIvzLK"
      }
    }
  ]
}